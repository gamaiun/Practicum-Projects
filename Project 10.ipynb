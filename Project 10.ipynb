{
 "cells": [
  {
   "cell_type": "markdown",
   "metadata": {},
   "source": [
    "# Statement"
   ]
  },
  {
   "cell_type": "markdown",
   "metadata": {},
   "source": [
    "The Sure Tomorrow insurance company wants to solve several tasks with the help of Machine Learning and you are asked to evaluate that possibility.\n",
    "\n",
    "- Task 1: Find customers who are similar to a given customer. This will help the company's agents with marketing.\n",
    "- Task 2: Predict whether a new customer is likely to receive an insurance benefit. Can a prediction model do better than a dummy model?\n",
    "- Task 3: Predict the number of insurance benefits a new customer is likely to receive using a linear regression model.\n",
    "- Task 4: Protect clients' personal data without breaking the model from the previous task. It's necessary to develop a data transformation algorithm that would make it hard to recover personal information if the data fell into the wrong hands. This is called data masking, or data obfuscation. But the data should be protected in such a way that the quality of machine learning models doesn't suffer. You don't need to pick the best model, just prove that the algorithm works correctly."
   ]
  },
  {
   "cell_type": "markdown",
   "metadata": {},
   "source": [
    "# Data Preprocessing & Exploration\n",
    "\n",
    "## Initialization"
   ]
  },
  {
   "cell_type": "code",
   "execution_count": 94,
   "metadata": {},
   "outputs": [
    {
     "name": "stdout",
     "output_type": "stream",
     "text": [
      "Requirement already satisfied: scikit-learn in /opt/conda/lib/python3.9/site-packages (1.1.1)\n",
      "Requirement already satisfied: joblib>=1.0.0 in /opt/conda/lib/python3.9/site-packages (from scikit-learn) (1.1.0)\n",
      "Requirement already satisfied: scipy>=1.3.2 in /opt/conda/lib/python3.9/site-packages (from scikit-learn) (1.8.0)\n",
      "Requirement already satisfied: threadpoolctl>=2.0.0 in /opt/conda/lib/python3.9/site-packages (from scikit-learn) (3.1.0)\n",
      "Requirement already satisfied: numpy>=1.17.3 in /opt/conda/lib/python3.9/site-packages (from scikit-learn) (1.21.1)\n",
      "Note: you may need to restart the kernel to use updated packages.\n"
     ]
    }
   ],
   "source": [
    "pip install scikit-learn --upgrade"
   ]
  },
  {
   "cell_type": "code",
   "execution_count": 131,
   "metadata": {},
   "outputs": [],
   "source": [
    "import numpy as np\n",
    "import pandas as pd\n",
    "\n",
    "import seaborn as sns\n",
    "\n",
    "import sklearn.linear_model\n",
    "import sklearn.metrics\n",
    "import sklearn.neighbors\n",
    "import sklearn.preprocessing\n",
    "\n",
    "from sklearn.model_selection import train_test_split\n",
    "from sklearn.linear_model import LinearRegression\n",
    "from IPython.display import display\n",
    "import matplotlib.pyplot as plt\n",
    "from sklearn.metrics import r2_score\n",
    "from sklearn.metrics import mean_squared_error\n",
    "from sklearn.neighbors import KNeighborsClassifier "
   ]
  },
  {
   "cell_type": "markdown",
   "metadata": {},
   "source": [
    "## Load Data"
   ]
  },
  {
   "cell_type": "markdown",
   "metadata": {},
   "source": [
    "Load data and conduct a basic check that it's free from obvious issues."
   ]
  },
  {
   "cell_type": "code",
   "execution_count": 132,
   "metadata": {},
   "outputs": [],
   "source": [
    "df = pd.read_csv('/datasets/insurance_us.csv')"
   ]
  },
  {
   "cell_type": "markdown",
   "metadata": {},
   "source": [
    "We rename the colums to make the code look more consistent with its style."
   ]
  },
  {
   "cell_type": "code",
   "execution_count": 133,
   "metadata": {},
   "outputs": [],
   "source": [
    "df = df.rename(columns={'Gender': 'gender', 'Age': 'age', 'Salary': 'income', 'Family members': 'family_members', 'Insurance benefits': 'insurance_benefits'})"
   ]
  },
  {
   "cell_type": "code",
   "execution_count": 134,
   "metadata": {},
   "outputs": [
    {
     "data": {
      "text/html": [
       "<div>\n",
       "<style scoped>\n",
       "    .dataframe tbody tr th:only-of-type {\n",
       "        vertical-align: middle;\n",
       "    }\n",
       "\n",
       "    .dataframe tbody tr th {\n",
       "        vertical-align: top;\n",
       "    }\n",
       "\n",
       "    .dataframe thead th {\n",
       "        text-align: right;\n",
       "    }\n",
       "</style>\n",
       "<table border=\"1\" class=\"dataframe\">\n",
       "  <thead>\n",
       "    <tr style=\"text-align: right;\">\n",
       "      <th></th>\n",
       "      <th>gender</th>\n",
       "      <th>age</th>\n",
       "      <th>income</th>\n",
       "      <th>family_members</th>\n",
       "      <th>insurance_benefits</th>\n",
       "    </tr>\n",
       "  </thead>\n",
       "  <tbody>\n",
       "    <tr>\n",
       "      <th>0</th>\n",
       "      <td>1</td>\n",
       "      <td>41.0</td>\n",
       "      <td>49600.0</td>\n",
       "      <td>1</td>\n",
       "      <td>0</td>\n",
       "    </tr>\n",
       "    <tr>\n",
       "      <th>1</th>\n",
       "      <td>0</td>\n",
       "      <td>46.0</td>\n",
       "      <td>38000.0</td>\n",
       "      <td>1</td>\n",
       "      <td>1</td>\n",
       "    </tr>\n",
       "    <tr>\n",
       "      <th>2</th>\n",
       "      <td>0</td>\n",
       "      <td>29.0</td>\n",
       "      <td>21000.0</td>\n",
       "      <td>0</td>\n",
       "      <td>0</td>\n",
       "    </tr>\n",
       "    <tr>\n",
       "      <th>3</th>\n",
       "      <td>0</td>\n",
       "      <td>21.0</td>\n",
       "      <td>41700.0</td>\n",
       "      <td>2</td>\n",
       "      <td>0</td>\n",
       "    </tr>\n",
       "    <tr>\n",
       "      <th>4</th>\n",
       "      <td>1</td>\n",
       "      <td>28.0</td>\n",
       "      <td>26100.0</td>\n",
       "      <td>0</td>\n",
       "      <td>0</td>\n",
       "    </tr>\n",
       "  </tbody>\n",
       "</table>\n",
       "</div>"
      ],
      "text/plain": [
       "   gender   age   income  family_members  insurance_benefits\n",
       "0       1  41.0  49600.0               1                   0\n",
       "1       0  46.0  38000.0               1                   1\n",
       "2       0  29.0  21000.0               0                   0\n",
       "3       0  21.0  41700.0               2                   0\n",
       "4       1  28.0  26100.0               0                   0"
      ]
     },
     "execution_count": 134,
     "metadata": {},
     "output_type": "execute_result"
    }
   ],
   "source": [
    "df.head()"
   ]
  },
  {
   "cell_type": "code",
   "execution_count": 135,
   "metadata": {},
   "outputs": [
    {
     "data": {
      "text/html": [
       "<div>\n",
       "<style scoped>\n",
       "    .dataframe tbody tr th:only-of-type {\n",
       "        vertical-align: middle;\n",
       "    }\n",
       "\n",
       "    .dataframe tbody tr th {\n",
       "        vertical-align: top;\n",
       "    }\n",
       "\n",
       "    .dataframe thead th {\n",
       "        text-align: right;\n",
       "    }\n",
       "</style>\n",
       "<table border=\"1\" class=\"dataframe\">\n",
       "  <thead>\n",
       "    <tr style=\"text-align: right;\">\n",
       "      <th></th>\n",
       "      <th>gender</th>\n",
       "      <th>age</th>\n",
       "      <th>income</th>\n",
       "      <th>family_members</th>\n",
       "      <th>insurance_benefits</th>\n",
       "    </tr>\n",
       "  </thead>\n",
       "  <tbody>\n",
       "    <tr>\n",
       "      <th>4995</th>\n",
       "      <td>0</td>\n",
       "      <td>28.0</td>\n",
       "      <td>35700.0</td>\n",
       "      <td>2</td>\n",
       "      <td>0</td>\n",
       "    </tr>\n",
       "    <tr>\n",
       "      <th>4996</th>\n",
       "      <td>0</td>\n",
       "      <td>34.0</td>\n",
       "      <td>52400.0</td>\n",
       "      <td>1</td>\n",
       "      <td>0</td>\n",
       "    </tr>\n",
       "    <tr>\n",
       "      <th>4997</th>\n",
       "      <td>0</td>\n",
       "      <td>20.0</td>\n",
       "      <td>33900.0</td>\n",
       "      <td>2</td>\n",
       "      <td>0</td>\n",
       "    </tr>\n",
       "    <tr>\n",
       "      <th>4998</th>\n",
       "      <td>1</td>\n",
       "      <td>22.0</td>\n",
       "      <td>32700.0</td>\n",
       "      <td>3</td>\n",
       "      <td>0</td>\n",
       "    </tr>\n",
       "    <tr>\n",
       "      <th>4999</th>\n",
       "      <td>1</td>\n",
       "      <td>28.0</td>\n",
       "      <td>40600.0</td>\n",
       "      <td>1</td>\n",
       "      <td>0</td>\n",
       "    </tr>\n",
       "  </tbody>\n",
       "</table>\n",
       "</div>"
      ],
      "text/plain": [
       "      gender   age   income  family_members  insurance_benefits\n",
       "4995       0  28.0  35700.0               2                   0\n",
       "4996       0  34.0  52400.0               1                   0\n",
       "4997       0  20.0  33900.0               2                   0\n",
       "4998       1  22.0  32700.0               3                   0\n",
       "4999       1  28.0  40600.0               1                   0"
      ]
     },
     "execution_count": 135,
     "metadata": {},
     "output_type": "execute_result"
    }
   ],
   "source": [
    "df.tail()"
   ]
  },
  {
   "cell_type": "code",
   "execution_count": 136,
   "metadata": {},
   "outputs": [
    {
     "data": {
      "text/html": [
       "<div>\n",
       "<style scoped>\n",
       "    .dataframe tbody tr th:only-of-type {\n",
       "        vertical-align: middle;\n",
       "    }\n",
       "\n",
       "    .dataframe tbody tr th {\n",
       "        vertical-align: top;\n",
       "    }\n",
       "\n",
       "    .dataframe thead th {\n",
       "        text-align: right;\n",
       "    }\n",
       "</style>\n",
       "<table border=\"1\" class=\"dataframe\">\n",
       "  <thead>\n",
       "    <tr style=\"text-align: right;\">\n",
       "      <th></th>\n",
       "      <th>gender</th>\n",
       "      <th>age</th>\n",
       "      <th>income</th>\n",
       "      <th>family_members</th>\n",
       "      <th>insurance_benefits</th>\n",
       "    </tr>\n",
       "  </thead>\n",
       "  <tbody>\n",
       "    <tr>\n",
       "      <th>2959</th>\n",
       "      <td>1</td>\n",
       "      <td>35.0</td>\n",
       "      <td>37100.0</td>\n",
       "      <td>1</td>\n",
       "      <td>0</td>\n",
       "    </tr>\n",
       "    <tr>\n",
       "      <th>3389</th>\n",
       "      <td>1</td>\n",
       "      <td>28.0</td>\n",
       "      <td>42000.0</td>\n",
       "      <td>1</td>\n",
       "      <td>0</td>\n",
       "    </tr>\n",
       "    <tr>\n",
       "      <th>1144</th>\n",
       "      <td>1</td>\n",
       "      <td>40.0</td>\n",
       "      <td>41800.0</td>\n",
       "      <td>2</td>\n",
       "      <td>0</td>\n",
       "    </tr>\n",
       "    <tr>\n",
       "      <th>3643</th>\n",
       "      <td>0</td>\n",
       "      <td>32.0</td>\n",
       "      <td>43600.0</td>\n",
       "      <td>0</td>\n",
       "      <td>0</td>\n",
       "    </tr>\n",
       "    <tr>\n",
       "      <th>3723</th>\n",
       "      <td>0</td>\n",
       "      <td>37.0</td>\n",
       "      <td>41500.0</td>\n",
       "      <td>3</td>\n",
       "      <td>0</td>\n",
       "    </tr>\n",
       "    <tr>\n",
       "      <th>465</th>\n",
       "      <td>0</td>\n",
       "      <td>46.0</td>\n",
       "      <td>49500.0</td>\n",
       "      <td>0</td>\n",
       "      <td>1</td>\n",
       "    </tr>\n",
       "    <tr>\n",
       "      <th>2570</th>\n",
       "      <td>1</td>\n",
       "      <td>31.0</td>\n",
       "      <td>59500.0</td>\n",
       "      <td>2</td>\n",
       "      <td>0</td>\n",
       "    </tr>\n",
       "    <tr>\n",
       "      <th>2374</th>\n",
       "      <td>1</td>\n",
       "      <td>20.0</td>\n",
       "      <td>32600.0</td>\n",
       "      <td>0</td>\n",
       "      <td>0</td>\n",
       "    </tr>\n",
       "    <tr>\n",
       "      <th>4082</th>\n",
       "      <td>0</td>\n",
       "      <td>36.0</td>\n",
       "      <td>26700.0</td>\n",
       "      <td>2</td>\n",
       "      <td>0</td>\n",
       "    </tr>\n",
       "    <tr>\n",
       "      <th>4055</th>\n",
       "      <td>1</td>\n",
       "      <td>19.0</td>\n",
       "      <td>34800.0</td>\n",
       "      <td>0</td>\n",
       "      <td>0</td>\n",
       "    </tr>\n",
       "  </tbody>\n",
       "</table>\n",
       "</div>"
      ],
      "text/plain": [
       "      gender   age   income  family_members  insurance_benefits\n",
       "2959       1  35.0  37100.0               1                   0\n",
       "3389       1  28.0  42000.0               1                   0\n",
       "1144       1  40.0  41800.0               2                   0\n",
       "3643       0  32.0  43600.0               0                   0\n",
       "3723       0  37.0  41500.0               3                   0\n",
       "465        0  46.0  49500.0               0                   1\n",
       "2570       1  31.0  59500.0               2                   0\n",
       "2374       1  20.0  32600.0               0                   0\n",
       "4082       0  36.0  26700.0               2                   0\n",
       "4055       1  19.0  34800.0               0                   0"
      ]
     },
     "execution_count": 136,
     "metadata": {},
     "output_type": "execute_result"
    }
   ],
   "source": [
    "df.sample(10)"
   ]
  },
  {
   "cell_type": "markdown",
   "metadata": {},
   "source": [
    "Our df consist of 4 continous and 1 categorical feature columns. "
   ]
  },
  {
   "cell_type": "code",
   "execution_count": 137,
   "metadata": {},
   "outputs": [
    {
     "name": "stdout",
     "output_type": "stream",
     "text": [
      "<class 'pandas.core.frame.DataFrame'>\n",
      "RangeIndex: 5000 entries, 0 to 4999\n",
      "Data columns (total 5 columns):\n",
      " #   Column              Non-Null Count  Dtype  \n",
      "---  ------              --------------  -----  \n",
      " 0   gender              5000 non-null   int64  \n",
      " 1   age                 5000 non-null   float64\n",
      " 2   income              5000 non-null   float64\n",
      " 3   family_members      5000 non-null   int64  \n",
      " 4   insurance_benefits  5000 non-null   int64  \n",
      "dtypes: float64(2), int64(3)\n",
      "memory usage: 195.4 KB\n"
     ]
    }
   ],
   "source": [
    "df.info()"
   ]
  },
  {
   "cell_type": "markdown",
   "metadata": {},
   "source": [
    "Let's see if we have Nans:"
   ]
  },
  {
   "cell_type": "code",
   "execution_count": 138,
   "metadata": {},
   "outputs": [
    {
     "data": {
      "text/plain": [
       "gender                0\n",
       "age                   0\n",
       "income                0\n",
       "family_members        0\n",
       "insurance_benefits    0\n",
       "dtype: int64"
      ]
     },
     "execution_count": 138,
     "metadata": {},
     "output_type": "execute_result"
    }
   ],
   "source": [
    "df.isna().sum()"
   ]
  },
  {
   "cell_type": "markdown",
   "metadata": {},
   "source": [
    "Let's check for duplicates:\n"
   ]
  },
  {
   "cell_type": "code",
   "execution_count": 139,
   "metadata": {},
   "outputs": [
    {
     "data": {
      "text/plain": [
       "False    4847\n",
       "True      153\n",
       "dtype: int64"
      ]
     },
     "execution_count": 139,
     "metadata": {},
     "output_type": "execute_result"
    }
   ],
   "source": [
    "df.duplicated().value_counts()"
   ]
  },
  {
   "cell_type": "markdown",
   "metadata": {},
   "source": [
    "There are 153 duplicates but since we have no IDs and only 5 features, it is logical to assume that we will have some duplicates in a dataset of 5000 instances. Therefore we decided not to drop them. "
   ]
  },
  {
   "cell_type": "code",
   "execution_count": 140,
   "metadata": {},
   "outputs": [],
   "source": [
    "# we may want to fix the age type (from float to int) though this is not critical\n",
    "\n",
    "df.age = df.age.astype(int)"
   ]
  },
  {
   "cell_type": "code",
   "execution_count": 141,
   "metadata": {},
   "outputs": [],
   "source": [
    "# check to see that the conversion was successful"
   ]
  },
  {
   "cell_type": "code",
   "execution_count": 142,
   "metadata": {},
   "outputs": [
    {
     "data": {
      "text/plain": [
       "dtype('int64')"
      ]
     },
     "execution_count": 142,
     "metadata": {},
     "output_type": "execute_result"
    }
   ],
   "source": [
    "df.age.dtype"
   ]
  },
  {
   "cell_type": "code",
   "execution_count": 143,
   "metadata": {},
   "outputs": [
    {
     "data": {
      "text/html": [
       "<div>\n",
       "<style scoped>\n",
       "    .dataframe tbody tr th:only-of-type {\n",
       "        vertical-align: middle;\n",
       "    }\n",
       "\n",
       "    .dataframe tbody tr th {\n",
       "        vertical-align: top;\n",
       "    }\n",
       "\n",
       "    .dataframe thead th {\n",
       "        text-align: right;\n",
       "    }\n",
       "</style>\n",
       "<table border=\"1\" class=\"dataframe\">\n",
       "  <thead>\n",
       "    <tr style=\"text-align: right;\">\n",
       "      <th></th>\n",
       "      <th>gender</th>\n",
       "      <th>age</th>\n",
       "      <th>income</th>\n",
       "      <th>family_members</th>\n",
       "      <th>insurance_benefits</th>\n",
       "    </tr>\n",
       "  </thead>\n",
       "  <tbody>\n",
       "    <tr>\n",
       "      <th>count</th>\n",
       "      <td>5000.000000</td>\n",
       "      <td>5000.000000</td>\n",
       "      <td>5000.000000</td>\n",
       "      <td>5000.000000</td>\n",
       "      <td>5000.000000</td>\n",
       "    </tr>\n",
       "    <tr>\n",
       "      <th>mean</th>\n",
       "      <td>0.499000</td>\n",
       "      <td>30.952800</td>\n",
       "      <td>39916.360000</td>\n",
       "      <td>1.194200</td>\n",
       "      <td>0.148000</td>\n",
       "    </tr>\n",
       "    <tr>\n",
       "      <th>std</th>\n",
       "      <td>0.500049</td>\n",
       "      <td>8.440807</td>\n",
       "      <td>9900.083569</td>\n",
       "      <td>1.091387</td>\n",
       "      <td>0.463183</td>\n",
       "    </tr>\n",
       "    <tr>\n",
       "      <th>min</th>\n",
       "      <td>0.000000</td>\n",
       "      <td>18.000000</td>\n",
       "      <td>5300.000000</td>\n",
       "      <td>0.000000</td>\n",
       "      <td>0.000000</td>\n",
       "    </tr>\n",
       "    <tr>\n",
       "      <th>25%</th>\n",
       "      <td>0.000000</td>\n",
       "      <td>24.000000</td>\n",
       "      <td>33300.000000</td>\n",
       "      <td>0.000000</td>\n",
       "      <td>0.000000</td>\n",
       "    </tr>\n",
       "    <tr>\n",
       "      <th>50%</th>\n",
       "      <td>0.000000</td>\n",
       "      <td>30.000000</td>\n",
       "      <td>40200.000000</td>\n",
       "      <td>1.000000</td>\n",
       "      <td>0.000000</td>\n",
       "    </tr>\n",
       "    <tr>\n",
       "      <th>75%</th>\n",
       "      <td>1.000000</td>\n",
       "      <td>37.000000</td>\n",
       "      <td>46600.000000</td>\n",
       "      <td>2.000000</td>\n",
       "      <td>0.000000</td>\n",
       "    </tr>\n",
       "    <tr>\n",
       "      <th>max</th>\n",
       "      <td>1.000000</td>\n",
       "      <td>65.000000</td>\n",
       "      <td>79000.000000</td>\n",
       "      <td>6.000000</td>\n",
       "      <td>5.000000</td>\n",
       "    </tr>\n",
       "  </tbody>\n",
       "</table>\n",
       "</div>"
      ],
      "text/plain": [
       "            gender          age        income  family_members  \\\n",
       "count  5000.000000  5000.000000   5000.000000     5000.000000   \n",
       "mean      0.499000    30.952800  39916.360000        1.194200   \n",
       "std       0.500049     8.440807   9900.083569        1.091387   \n",
       "min       0.000000    18.000000   5300.000000        0.000000   \n",
       "25%       0.000000    24.000000  33300.000000        0.000000   \n",
       "50%       0.000000    30.000000  40200.000000        1.000000   \n",
       "75%       1.000000    37.000000  46600.000000        2.000000   \n",
       "max       1.000000    65.000000  79000.000000        6.000000   \n",
       "\n",
       "       insurance_benefits  \n",
       "count         5000.000000  \n",
       "mean             0.148000  \n",
       "std              0.463183  \n",
       "min              0.000000  \n",
       "25%              0.000000  \n",
       "50%              0.000000  \n",
       "75%              0.000000  \n",
       "max              5.000000  "
      ]
     },
     "execution_count": 143,
     "metadata": {},
     "output_type": "execute_result"
    }
   ],
   "source": [
    "# now have a look at the data's descriptive statistics. \n",
    "df.describe()"
   ]
  },
  {
   "cell_type": "markdown",
   "metadata": {},
   "source": [
    "Let's visualise the data"
   ]
  },
  {
   "cell_type": "code",
   "execution_count": 144,
   "metadata": {},
   "outputs": [
    {
     "data": {
      "image/png": "[encoded data removed]",
      "text/plain": [
       "<Figure size 720x432 with 1 Axes>"
      ]
     },
     "metadata": {
      "needs_background": "light"
     },
     "output_type": "display_data"
    },
    {
     "data": {
      "image/png": "[encoded data removed]",
      "text/plain": [
       "<Figure size 720x432 with 1 Axes>"
      ]
     },
     "metadata": {
      "needs_background": "light"
     },
     "output_type": "display_data"
    },
    {
     "data": {
      "image/png": "[encoded data removed]",
      "text/plain": [
       "<Figure size 720x432 with 1 Axes>"
      ]
     },
     "metadata": {
      "needs_background": "light"
     },
     "output_type": "display_data"
    },
    {
     "data": {
      "image/png": "[encoded data removed]",
      "text/plain": [
       "<Figure size 720x432 with 1 Axes>"
      ]
     },
     "metadata": {
      "needs_background": "light"
     },
     "output_type": "display_data"
    },
    {
     "data": {
      "image/png": "[encoded data removed]",
      "text/plain": [
       "<Figure size 720x432 with 1 Axes>"
      ]
     },
     "metadata": {
      "needs_background": "light"
     },
     "output_type": "display_data"
    }
   ],
   "source": [
    "countplot = ['gender', 'age', 'family_members', 'insurance_benefits']\n",
    "hist = ['income']\n",
    "\n",
    "for col in countplot:\n",
    "    values = df[col].value_counts()\n",
    "    plt.figure(figsize=(10,6))\n",
    "    values.plot(kind = 'bar')\n",
    "    plt.xticks(rotation=0)\n",
    "    plt.title(col)\n",
    "    \n",
    "for col in hist:\n",
    "    plt.figure(figsize=(10,6))\n",
    "    sns.histplot(df[col])\n",
    "    plt.title(col) "
   ]
  },
  {
   "cell_type": "markdown",
   "metadata": {},
   "source": [
    "\n",
    "* There's an equal share of men and women in our dataset.\n",
    "* Most of our clients between 19 and 40 years of age.\n",
    "* Most of them have 1 family members or don't have a family member at all.\n",
    "* Vast majority never recieved any insurance benefits."
   ]
  },
  {
   "cell_type": "markdown",
   "metadata": {},
   "source": [
    "<div class=\"alert alert-success\">\n",
    "<b>Reviewer's comment</b>\n",
    "\n",
    "Ok, the data was loaded and inspected!\n",
    "\n",
    "</div>"
   ]
  },
  {
   "cell_type": "markdown",
   "metadata": {},
   "source": [
    "## EDA"
   ]
  },
  {
   "cell_type": "markdown",
   "metadata": {},
   "source": [
    "Let's quickly check whether there are certain groups of customers by looking at the pair plot."
   ]
  },
  {
   "cell_type": "code",
   "execution_count": 145,
   "metadata": {},
   "outputs": [
    {
     "data": {
      "image/png": "[encoded data removed]",
      "text/plain": [
       "<Figure size 864x864 with 30 Axes>"
      ]
     },
     "metadata": {
      "needs_background": "light"
     },
     "output_type": "display_data"
    }
   ],
   "source": [
    "g = sns.pairplot(df, kind='hist')\n",
    "g.fig.set_size_inches(12, 12)"
   ]
  },
  {
   "cell_type": "markdown",
   "metadata": {},
   "source": [
    "Ok, it is a bit difficult to spot obvious groups (clusters) as it is difficult to combine several variables simultaneously (to analyze multivariate distributions). That's where LA and ML can be quite handy."
   ]
  },
  {
   "cell_type": "markdown",
   "metadata": {},
   "source": [
    "# Task 1. Similar Customers"
   ]
  },
  {
   "cell_type": "markdown",
   "metadata": {},
   "source": [
    "In the language of ML, it is necessary to develop a procedure that returns k nearest neighbors (objects) for a given object based on the distance between the objects.\n",
    "\n",
    "You may want to review the following lessons (chapter -> lesson)\n",
    "- Distance Between Vectors -> Euclidean Distance\n",
    "- Distance Between Vectors -> Manhattan Distance\n",
    "\n",
    "To solve the task, we can try different distance metrics."
   ]
  },
  {
   "cell_type": "markdown",
   "metadata": {},
   "source": [
    "Write a function that returns k nearest neighbors for an $n^{th}$ object based on a specified distance metric. The number of received insurance benefits should not be taken into account for this task. \n",
    "\n",
    "You can use a ready implementation of the kNN algorithm from scikit-learn (check [the link](https://scikit-learn.org/stable/modules/generated/sklearn.neighbors.NearestNeighbors.html#sklearn.neighbors.NearestNeighbors)) or use your own.\n",
    "\n",
    "Test it for four combination of two cases\n",
    "- Scaling\n",
    "  - the data is not scaled\n",
    "  - the data is scaled with the [MaxAbsScaler](https://scikit-learn.org/stable/modules/generated/sklearn.preprocessing.MaxAbsScaler.html) scaler\n",
    "- Distance Metrics\n",
    "  - Euclidean\n",
    "  - Manhattan\n",
    "\n",
    "Answer these questions:\n",
    "- Does the data being not scaled affect the kNN algorithm? If so, how does that appear?\n",
    "- How similar are the results using the Manhattan distance metric (regardless of the scaling)?"
   ]
  },
  {
   "cell_type": "code",
   "execution_count": 146,
   "metadata": {},
   "outputs": [],
   "source": [
    "feature_names = ['gender', 'age', 'income', 'family_members']"
   ]
  },
  {
   "cell_type": "code",
   "execution_count": 147,
   "metadata": {},
   "outputs": [],
   "source": [
    "from sklearn.neighbors import NearestNeighbors\n",
    "\n",
    "def get_knn(df, n, k, metric):\n",
    "    \n",
    "    \"\"\"\n",
    "    Returns k nearest neighbors\n",
    "\n",
    "    :param df: pandas DataFrame used to find similar objects within\n",
    "    :param n: object no for which the nearest neighbours are looked for\n",
    "    :param k: the number of the nearest neighbours to return\n",
    "    :param metric: name of distance metric\n",
    "    \"\"\"\n",
    "\n",
    "    nbrs = NearestNeighbors(n_neighbors=1)\n",
    "    nbrs.fit(df[feature_names].to_numpy())\n",
    "    nbrs_distances, nbrs_indices = nbrs.kneighbors([df.iloc[n][feature_names]], k, return_distance=True)\n",
    "    \n",
    "    df_res = pd.concat([\n",
    "        df.iloc[nbrs_indices[0]], \n",
    "        pd.DataFrame(nbrs_distances.T, index=nbrs_indices[0], columns=['distance'])\n",
    "        ], axis=1)\n",
    "    \n",
    "    return df_res"
   ]
  },
  {
   "cell_type": "markdown",
   "metadata": {},
   "source": [
    "<div class=\"alert alert-success\">\n",
    "<b>Reviewer's comment</b>\n",
    "\n",
    "The code for getting nearest neighbors is correct\n",
    "\n",
    "</div>"
   ]
  },
  {
   "cell_type": "markdown",
   "metadata": {},
   "source": [
    "Scaling the data."
   ]
  },
  {
   "cell_type": "code",
   "execution_count": 148,
   "metadata": {},
   "outputs": [],
   "source": [
    "feature_names = ['gender', 'age', 'income', 'family_members']\n",
    "\n",
    "transformer_mas = sklearn.preprocessing.MaxAbsScaler().fit(df[feature_names].to_numpy())\n",
    "\n",
    "df_scaled = df.copy()\n",
    "df_scaled.loc[:, feature_names] = transformer_mas.transform(df[feature_names].to_numpy())"
   ]
  },
  {
   "cell_type": "code",
   "execution_count": 149,
   "metadata": {},
   "outputs": [
    {
     "data": {
      "text/html": [
       "<div>\n",
       "<style scoped>\n",
       "    .dataframe tbody tr th:only-of-type {\n",
       "        vertical-align: middle;\n",
       "    }\n",
       "\n",
       "    .dataframe tbody tr th {\n",
       "        vertical-align: top;\n",
       "    }\n",
       "\n",
       "    .dataframe thead th {\n",
       "        text-align: right;\n",
       "    }\n",
       "</style>\n",
       "<table border=\"1\" class=\"dataframe\">\n",
       "  <thead>\n",
       "    <tr style=\"text-align: right;\">\n",
       "      <th></th>\n",
       "      <th>gender</th>\n",
       "      <th>age</th>\n",
       "      <th>income</th>\n",
       "      <th>family_members</th>\n",
       "      <th>insurance_benefits</th>\n",
       "    </tr>\n",
       "  </thead>\n",
       "  <tbody>\n",
       "    <tr>\n",
       "      <th>279</th>\n",
       "      <td>0.0</td>\n",
       "      <td>0.353846</td>\n",
       "      <td>0.437975</td>\n",
       "      <td>0.500000</td>\n",
       "      <td>0</td>\n",
       "    </tr>\n",
       "    <tr>\n",
       "      <th>2146</th>\n",
       "      <td>1.0</td>\n",
       "      <td>0.646154</td>\n",
       "      <td>0.410127</td>\n",
       "      <td>0.000000</td>\n",
       "      <td>1</td>\n",
       "    </tr>\n",
       "    <tr>\n",
       "      <th>2224</th>\n",
       "      <td>1.0</td>\n",
       "      <td>0.769231</td>\n",
       "      <td>0.341772</td>\n",
       "      <td>0.166667</td>\n",
       "      <td>2</td>\n",
       "    </tr>\n",
       "    <tr>\n",
       "      <th>3632</th>\n",
       "      <td>1.0</td>\n",
       "      <td>0.400000</td>\n",
       "      <td>0.573418</td>\n",
       "      <td>0.500000</td>\n",
       "      <td>0</td>\n",
       "    </tr>\n",
       "    <tr>\n",
       "      <th>892</th>\n",
       "      <td>1.0</td>\n",
       "      <td>0.415385</td>\n",
       "      <td>0.541772</td>\n",
       "      <td>0.333333</td>\n",
       "      <td>0</td>\n",
       "    </tr>\n",
       "  </tbody>\n",
       "</table>\n",
       "</div>"
      ],
      "text/plain": [
       "      gender       age    income  family_members  insurance_benefits\n",
       "279      0.0  0.353846  0.437975        0.500000                   0\n",
       "2146     1.0  0.646154  0.410127        0.000000                   1\n",
       "2224     1.0  0.769231  0.341772        0.166667                   2\n",
       "3632     1.0  0.400000  0.573418        0.500000                   0\n",
       "892      1.0  0.415385  0.541772        0.333333                   0"
      ]
     },
     "execution_count": 149,
     "metadata": {},
     "output_type": "execute_result"
    }
   ],
   "source": [
    "df_scaled.sample(5)\n"
   ]
  },
  {
   "cell_type": "markdown",
   "metadata": {},
   "source": [
    "Now, let's get similar records for a given one for every combination"
   ]
  },
  {
   "cell_type": "code",
   "execution_count": 150,
   "metadata": {},
   "outputs": [
    {
     "data": {
      "text/html": [
       "<div>\n",
       "<style scoped>\n",
       "    .dataframe tbody tr th:only-of-type {\n",
       "        vertical-align: middle;\n",
       "    }\n",
       "\n",
       "    .dataframe tbody tr th {\n",
       "        vertical-align: top;\n",
       "    }\n",
       "\n",
       "    .dataframe thead th {\n",
       "        text-align: right;\n",
       "    }\n",
       "</style>\n",
       "<table border=\"1\" class=\"dataframe\">\n",
       "  <thead>\n",
       "    <tr style=\"text-align: right;\">\n",
       "      <th></th>\n",
       "      <th>gender</th>\n",
       "      <th>age</th>\n",
       "      <th>income</th>\n",
       "      <th>family_members</th>\n",
       "      <th>insurance_benefits</th>\n",
       "      <th>distance</th>\n",
       "    </tr>\n",
       "  </thead>\n",
       "  <tbody>\n",
       "    <tr>\n",
       "      <th>5</th>\n",
       "      <td>1</td>\n",
       "      <td>43</td>\n",
       "      <td>41000.0</td>\n",
       "      <td>2</td>\n",
       "      <td>1</td>\n",
       "      <td>0.000000</td>\n",
       "    </tr>\n",
       "    <tr>\n",
       "      <th>1995</th>\n",
       "      <td>0</td>\n",
       "      <td>45</td>\n",
       "      <td>41000.0</td>\n",
       "      <td>0</td>\n",
       "      <td>1</td>\n",
       "      <td>3.000000</td>\n",
       "    </tr>\n",
       "    <tr>\n",
       "      <th>4763</th>\n",
       "      <td>1</td>\n",
       "      <td>46</td>\n",
       "      <td>41000.0</td>\n",
       "      <td>1</td>\n",
       "      <td>1</td>\n",
       "      <td>3.162278</td>\n",
       "    </tr>\n",
       "    <tr>\n",
       "      <th>3801</th>\n",
       "      <td>0</td>\n",
       "      <td>46</td>\n",
       "      <td>41000.0</td>\n",
       "      <td>2</td>\n",
       "      <td>1</td>\n",
       "      <td>3.162278</td>\n",
       "    </tr>\n",
       "    <tr>\n",
       "      <th>3972</th>\n",
       "      <td>1</td>\n",
       "      <td>40</td>\n",
       "      <td>41000.0</td>\n",
       "      <td>1</td>\n",
       "      <td>0</td>\n",
       "      <td>3.162278</td>\n",
       "    </tr>\n",
       "    <tr>\n",
       "      <th>2759</th>\n",
       "      <td>0</td>\n",
       "      <td>47</td>\n",
       "      <td>41000.0</td>\n",
       "      <td>3</td>\n",
       "      <td>1</td>\n",
       "      <td>4.242641</td>\n",
       "    </tr>\n",
       "    <tr>\n",
       "      <th>2717</th>\n",
       "      <td>0</td>\n",
       "      <td>37</td>\n",
       "      <td>41000.0</td>\n",
       "      <td>0</td>\n",
       "      <td>0</td>\n",
       "      <td>6.403124</td>\n",
       "    </tr>\n",
       "    <tr>\n",
       "      <th>3434</th>\n",
       "      <td>1</td>\n",
       "      <td>36</td>\n",
       "      <td>41000.0</td>\n",
       "      <td>2</td>\n",
       "      <td>0</td>\n",
       "      <td>7.000000</td>\n",
       "    </tr>\n",
       "  </tbody>\n",
       "</table>\n",
       "</div>"
      ],
      "text/plain": [
       "      gender  age   income  family_members  insurance_benefits  distance\n",
       "5          1   43  41000.0               2                   1  0.000000\n",
       "1995       0   45  41000.0               0                   1  3.000000\n",
       "4763       1   46  41000.0               1                   1  3.162278\n",
       "3801       0   46  41000.0               2                   1  3.162278\n",
       "3972       1   40  41000.0               1                   0  3.162278\n",
       "2759       0   47  41000.0               3                   1  4.242641\n",
       "2717       0   37  41000.0               0                   0  6.403124\n",
       "3434       1   36  41000.0               2                   0  7.000000"
      ]
     },
     "execution_count": 150,
     "metadata": {},
     "output_type": "execute_result"
    }
   ],
   "source": [
    "get_knn(df, 5, 8, \"euclidian\")"
   ]
  },
  {
   "cell_type": "code",
   "execution_count": 151,
   "metadata": {},
   "outputs": [
    {
     "data": {
      "text/html": [
       "<div>\n",
       "<style scoped>\n",
       "    .dataframe tbody tr th:only-of-type {\n",
       "        vertical-align: middle;\n",
       "    }\n",
       "\n",
       "    .dataframe tbody tr th {\n",
       "        vertical-align: top;\n",
       "    }\n",
       "\n",
       "    .dataframe thead th {\n",
       "        text-align: right;\n",
       "    }\n",
       "</style>\n",
       "<table border=\"1\" class=\"dataframe\">\n",
       "  <thead>\n",
       "    <tr style=\"text-align: right;\">\n",
       "      <th></th>\n",
       "      <th>gender</th>\n",
       "      <th>age</th>\n",
       "      <th>income</th>\n",
       "      <th>family_members</th>\n",
       "      <th>insurance_benefits</th>\n",
       "      <th>distance</th>\n",
       "    </tr>\n",
       "  </thead>\n",
       "  <tbody>\n",
       "    <tr>\n",
       "      <th>5</th>\n",
       "      <td>1.0</td>\n",
       "      <td>0.661538</td>\n",
       "      <td>0.518987</td>\n",
       "      <td>0.333333</td>\n",
       "      <td>1</td>\n",
       "      <td>0.000000</td>\n",
       "    </tr>\n",
       "    <tr>\n",
       "      <th>1147</th>\n",
       "      <td>1.0</td>\n",
       "      <td>0.646154</td>\n",
       "      <td>0.516456</td>\n",
       "      <td>0.333333</td>\n",
       "      <td>0</td>\n",
       "      <td>0.015592</td>\n",
       "    </tr>\n",
       "    <tr>\n",
       "      <th>4074</th>\n",
       "      <td>1.0</td>\n",
       "      <td>0.661538</td>\n",
       "      <td>0.501266</td>\n",
       "      <td>0.333333</td>\n",
       "      <td>1</td>\n",
       "      <td>0.017722</td>\n",
       "    </tr>\n",
       "    <tr>\n",
       "      <th>1019</th>\n",
       "      <td>1.0</td>\n",
       "      <td>0.646154</td>\n",
       "      <td>0.501266</td>\n",
       "      <td>0.333333</td>\n",
       "      <td>0</td>\n",
       "      <td>0.023468</td>\n",
       "    </tr>\n",
       "    <tr>\n",
       "      <th>2962</th>\n",
       "      <td>1.0</td>\n",
       "      <td>0.630769</td>\n",
       "      <td>0.520253</td>\n",
       "      <td>0.333333</td>\n",
       "      <td>0</td>\n",
       "      <td>0.030795</td>\n",
       "    </tr>\n",
       "    <tr>\n",
       "      <th>2128</th>\n",
       "      <td>1.0</td>\n",
       "      <td>0.692308</td>\n",
       "      <td>0.512658</td>\n",
       "      <td>0.333333</td>\n",
       "      <td>1</td>\n",
       "      <td>0.031413</td>\n",
       "    </tr>\n",
       "    <tr>\n",
       "      <th>106</th>\n",
       "      <td>1.0</td>\n",
       "      <td>0.692308</td>\n",
       "      <td>0.526582</td>\n",
       "      <td>0.333333</td>\n",
       "      <td>1</td>\n",
       "      <td>0.031693</td>\n",
       "    </tr>\n",
       "    <tr>\n",
       "      <th>2206</th>\n",
       "      <td>1.0</td>\n",
       "      <td>0.692308</td>\n",
       "      <td>0.530380</td>\n",
       "      <td>0.333333</td>\n",
       "      <td>1</td>\n",
       "      <td>0.032811</td>\n",
       "    </tr>\n",
       "  </tbody>\n",
       "</table>\n",
       "</div>"
      ],
      "text/plain": [
       "      gender       age    income  family_members  insurance_benefits  distance\n",
       "5        1.0  0.661538  0.518987        0.333333                   1  0.000000\n",
       "1147     1.0  0.646154  0.516456        0.333333                   0  0.015592\n",
       "4074     1.0  0.661538  0.501266        0.333333                   1  0.017722\n",
       "1019     1.0  0.646154  0.501266        0.333333                   0  0.023468\n",
       "2962     1.0  0.630769  0.520253        0.333333                   0  0.030795\n",
       "2128     1.0  0.692308  0.512658        0.333333                   1  0.031413\n",
       "106      1.0  0.692308  0.526582        0.333333                   1  0.031693\n",
       "2206     1.0  0.692308  0.530380        0.333333                   1  0.032811"
      ]
     },
     "execution_count": 151,
     "metadata": {},
     "output_type": "execute_result"
    }
   ],
   "source": [
    "get_knn(df_scaled, 5, 8, \"euclidian\") "
   ]
  },
  {
   "cell_type": "code",
   "execution_count": 152,
   "metadata": {},
   "outputs": [
    {
     "data": {
      "text/html": [
       "<div>\n",
       "<style scoped>\n",
       "    .dataframe tbody tr th:only-of-type {\n",
       "        vertical-align: middle;\n",
       "    }\n",
       "\n",
       "    .dataframe tbody tr th {\n",
       "        vertical-align: top;\n",
       "    }\n",
       "\n",
       "    .dataframe thead th {\n",
       "        text-align: right;\n",
       "    }\n",
       "</style>\n",
       "<table border=\"1\" class=\"dataframe\">\n",
       "  <thead>\n",
       "    <tr style=\"text-align: right;\">\n",
       "      <th></th>\n",
       "      <th>gender</th>\n",
       "      <th>age</th>\n",
       "      <th>income</th>\n",
       "      <th>family_members</th>\n",
       "      <th>insurance_benefits</th>\n",
       "      <th>distance</th>\n",
       "    </tr>\n",
       "  </thead>\n",
       "  <tbody>\n",
       "    <tr>\n",
       "      <th>5</th>\n",
       "      <td>1.0</td>\n",
       "      <td>0.661538</td>\n",
       "      <td>0.518987</td>\n",
       "      <td>0.333333</td>\n",
       "      <td>1</td>\n",
       "      <td>0.000000</td>\n",
       "    </tr>\n",
       "    <tr>\n",
       "      <th>1147</th>\n",
       "      <td>1.0</td>\n",
       "      <td>0.646154</td>\n",
       "      <td>0.516456</td>\n",
       "      <td>0.333333</td>\n",
       "      <td>0</td>\n",
       "      <td>0.015592</td>\n",
       "    </tr>\n",
       "    <tr>\n",
       "      <th>4074</th>\n",
       "      <td>1.0</td>\n",
       "      <td>0.661538</td>\n",
       "      <td>0.501266</td>\n",
       "      <td>0.333333</td>\n",
       "      <td>1</td>\n",
       "      <td>0.017722</td>\n",
       "    </tr>\n",
       "    <tr>\n",
       "      <th>1019</th>\n",
       "      <td>1.0</td>\n",
       "      <td>0.646154</td>\n",
       "      <td>0.501266</td>\n",
       "      <td>0.333333</td>\n",
       "      <td>0</td>\n",
       "      <td>0.023468</td>\n",
       "    </tr>\n",
       "    <tr>\n",
       "      <th>2962</th>\n",
       "      <td>1.0</td>\n",
       "      <td>0.630769</td>\n",
       "      <td>0.520253</td>\n",
       "      <td>0.333333</td>\n",
       "      <td>0</td>\n",
       "      <td>0.030795</td>\n",
       "    </tr>\n",
       "    <tr>\n",
       "      <th>2128</th>\n",
       "      <td>1.0</td>\n",
       "      <td>0.692308</td>\n",
       "      <td>0.512658</td>\n",
       "      <td>0.333333</td>\n",
       "      <td>1</td>\n",
       "      <td>0.031413</td>\n",
       "    </tr>\n",
       "    <tr>\n",
       "      <th>106</th>\n",
       "      <td>1.0</td>\n",
       "      <td>0.692308</td>\n",
       "      <td>0.526582</td>\n",
       "      <td>0.333333</td>\n",
       "      <td>1</td>\n",
       "      <td>0.031693</td>\n",
       "    </tr>\n",
       "    <tr>\n",
       "      <th>2206</th>\n",
       "      <td>1.0</td>\n",
       "      <td>0.692308</td>\n",
       "      <td>0.530380</td>\n",
       "      <td>0.333333</td>\n",
       "      <td>1</td>\n",
       "      <td>0.032811</td>\n",
       "    </tr>\n",
       "  </tbody>\n",
       "</table>\n",
       "</div>"
      ],
      "text/plain": [
       "      gender       age    income  family_members  insurance_benefits  distance\n",
       "5        1.0  0.661538  0.518987        0.333333                   1  0.000000\n",
       "1147     1.0  0.646154  0.516456        0.333333                   0  0.015592\n",
       "4074     1.0  0.661538  0.501266        0.333333                   1  0.017722\n",
       "1019     1.0  0.646154  0.501266        0.333333                   0  0.023468\n",
       "2962     1.0  0.630769  0.520253        0.333333                   0  0.030795\n",
       "2128     1.0  0.692308  0.512658        0.333333                   1  0.031413\n",
       "106      1.0  0.692308  0.526582        0.333333                   1  0.031693\n",
       "2206     1.0  0.692308  0.530380        0.333333                   1  0.032811"
      ]
     },
     "execution_count": 152,
     "metadata": {},
     "output_type": "execute_result"
    }
   ],
   "source": [
    "get_knn(df_scaled, 5, 8, \"manhattan\") "
   ]
  },
  {
   "cell_type": "code",
   "execution_count": 153,
   "metadata": {},
   "outputs": [
    {
     "data": {
      "text/html": [
       "<div>\n",
       "<style scoped>\n",
       "    .dataframe tbody tr th:only-of-type {\n",
       "        vertical-align: middle;\n",
       "    }\n",
       "\n",
       "    .dataframe tbody tr th {\n",
       "        vertical-align: top;\n",
       "    }\n",
       "\n",
       "    .dataframe thead th {\n",
       "        text-align: right;\n",
       "    }\n",
       "</style>\n",
       "<table border=\"1\" class=\"dataframe\">\n",
       "  <thead>\n",
       "    <tr style=\"text-align: right;\">\n",
       "      <th></th>\n",
       "      <th>gender</th>\n",
       "      <th>age</th>\n",
       "      <th>income</th>\n",
       "      <th>family_members</th>\n",
       "      <th>insurance_benefits</th>\n",
       "      <th>distance</th>\n",
       "    </tr>\n",
       "  </thead>\n",
       "  <tbody>\n",
       "    <tr>\n",
       "      <th>5</th>\n",
       "      <td>1</td>\n",
       "      <td>43</td>\n",
       "      <td>41000.0</td>\n",
       "      <td>2</td>\n",
       "      <td>1</td>\n",
       "      <td>0.000000</td>\n",
       "    </tr>\n",
       "    <tr>\n",
       "      <th>1995</th>\n",
       "      <td>0</td>\n",
       "      <td>45</td>\n",
       "      <td>41000.0</td>\n",
       "      <td>0</td>\n",
       "      <td>1</td>\n",
       "      <td>3.000000</td>\n",
       "    </tr>\n",
       "    <tr>\n",
       "      <th>4763</th>\n",
       "      <td>1</td>\n",
       "      <td>46</td>\n",
       "      <td>41000.0</td>\n",
       "      <td>1</td>\n",
       "      <td>1</td>\n",
       "      <td>3.162278</td>\n",
       "    </tr>\n",
       "    <tr>\n",
       "      <th>3801</th>\n",
       "      <td>0</td>\n",
       "      <td>46</td>\n",
       "      <td>41000.0</td>\n",
       "      <td>2</td>\n",
       "      <td>1</td>\n",
       "      <td>3.162278</td>\n",
       "    </tr>\n",
       "    <tr>\n",
       "      <th>3972</th>\n",
       "      <td>1</td>\n",
       "      <td>40</td>\n",
       "      <td>41000.0</td>\n",
       "      <td>1</td>\n",
       "      <td>0</td>\n",
       "      <td>3.162278</td>\n",
       "    </tr>\n",
       "    <tr>\n",
       "      <th>2759</th>\n",
       "      <td>0</td>\n",
       "      <td>47</td>\n",
       "      <td>41000.0</td>\n",
       "      <td>3</td>\n",
       "      <td>1</td>\n",
       "      <td>4.242641</td>\n",
       "    </tr>\n",
       "    <tr>\n",
       "      <th>2717</th>\n",
       "      <td>0</td>\n",
       "      <td>37</td>\n",
       "      <td>41000.0</td>\n",
       "      <td>0</td>\n",
       "      <td>0</td>\n",
       "      <td>6.403124</td>\n",
       "    </tr>\n",
       "    <tr>\n",
       "      <th>3434</th>\n",
       "      <td>1</td>\n",
       "      <td>36</td>\n",
       "      <td>41000.0</td>\n",
       "      <td>2</td>\n",
       "      <td>0</td>\n",
       "      <td>7.000000</td>\n",
       "    </tr>\n",
       "  </tbody>\n",
       "</table>\n",
       "</div>"
      ],
      "text/plain": [
       "      gender  age   income  family_members  insurance_benefits  distance\n",
       "5          1   43  41000.0               2                   1  0.000000\n",
       "1995       0   45  41000.0               0                   1  3.000000\n",
       "4763       1   46  41000.0               1                   1  3.162278\n",
       "3801       0   46  41000.0               2                   1  3.162278\n",
       "3972       1   40  41000.0               1                   0  3.162278\n",
       "2759       0   47  41000.0               3                   1  4.242641\n",
       "2717       0   37  41000.0               0                   0  6.403124\n",
       "3434       1   36  41000.0               2                   0  7.000000"
      ]
     },
     "execution_count": 153,
     "metadata": {},
     "output_type": "execute_result"
    }
   ],
   "source": [
    "get_knn(df, 5, 8, \"manhattan\") "
   ]
  },
  {
   "cell_type": "markdown",
   "metadata": {},
   "source": [
    "Answers to the questions"
   ]
  },
  {
   "cell_type": "markdown",
   "metadata": {},
   "source": [
    "**Does the data being not scaled affect the kNN algorithm? If so, how does that appear?** \n",
    "\n",
    "Scalled and non scalled datasets output different results (different neighbors and therefore different distances to the neighbors). The non scalled dataset will asign a greater \"importance\" to the column with a greater values (in our case - \"income\" column) and lesser value to the other columns with relativeluy smaller values (for example \"family_members\" column).\n",
    "\n",
    "We can see the effect on the instances that the function picks: Scalled and non scalled datasets result in totally different neighbors. In fact, in our specific case of looking for the kneighbors of instance number 5, there's not even one common neighbor between the two scenarios.  \n",
    "\n",
    "This, once again, stresses the importance of data normalization. "
   ]
  },
  {
   "cell_type": "code",
   "execution_count": 154,
   "metadata": {},
   "outputs": [
    {
     "data": {
      "text/plain": [
       "array([ True, False, False, False, False, False, False, False])"
      ]
     },
     "execution_count": 154,
     "metadata": {},
     "output_type": "execute_result"
    }
   ],
   "source": [
    "# Comparing the neigbors (scaled vs non scaled)\n",
    "get_knn(df, 5, 8, \"euclidian\").index == get_knn(df_scaled, 5, 8, \"euclidian\").index"
   ]
  },
  {
   "cell_type": "markdown",
   "metadata": {},
   "source": [
    "The comparison above shows that all the neigbors chosen using scaled/non scaled datasets, are different. "
   ]
  },
  {
   "cell_type": "markdown",
   "metadata": {},
   "source": [
    "**How similar are the results using the Manhattan distance metric (regardless of the scaling)?** \n",
    "\n",
    "The Manhattan distance metric results, in our specific case (of looking for the kneighbors of instance number 5), are identical to the euclidian metric, for both scaling methods. Meaning that the function that uses Manhattan metric chooses the same neighbors as the euclidian metric as long as we use the same scaling method (scaled or non scaled.) The distances are also identical. "
   ]
  },
  {
   "cell_type": "code",
   "execution_count": 155,
   "metadata": {},
   "outputs": [
    {
     "data": {
      "text/plain": [
       "array([ True,  True,  True,  True,  True,  True,  True,  True])"
      ]
     },
     "execution_count": 155,
     "metadata": {},
     "output_type": "execute_result"
    }
   ],
   "source": [
    "# Comparing the neighbors:\n",
    "get_knn(df_scaled, 5, 8, \"manhattan\").index == get_knn(df_scaled, 5, 8, \"euclidian\").index"
   ]
  },
  {
   "cell_type": "code",
   "execution_count": 156,
   "metadata": {},
   "outputs": [
    {
     "data": {
      "text/plain": [
       "5       True\n",
       "1147    True\n",
       "4074    True\n",
       "1019    True\n",
       "2962    True\n",
       "2128    True\n",
       "106     True\n",
       "2206    True\n",
       "Name: distance, dtype: bool"
      ]
     },
     "execution_count": 156,
     "metadata": {},
     "output_type": "execute_result"
    }
   ],
   "source": [
    "# Comparing the distances\n",
    "get_knn(df_scaled, 5, 8, \"manhattan\")[\"distance\"] == get_knn(df_scaled, 5, 8, \"euclidian\")[\"distance\"] "
   ]
  },
  {
   "cell_type": "markdown",
   "metadata": {},
   "source": [
    "<div class=\"alert alert-success\">\n",
    "<b>Reviewer's comment</b>\n",
    "\n",
    "The answers make sense, well done!\n",
    "\n",
    "</div>"
   ]
  },
  {
   "cell_type": "markdown",
   "metadata": {},
   "source": [
    "# Task 2. Is Customer Likely to Receive Insurance Benefit?"
   ]
  },
  {
   "cell_type": "markdown",
   "metadata": {},
   "source": [
    "In terms of machine learning we can look at this like a binary classification task."
   ]
  },
  {
   "cell_type": "markdown",
   "metadata": {},
   "source": [
    "With `insurance_benefits` being more than zero as the target, evaluate whether the kNN classification approach can do better than a dummy model.\n",
    "\n",
    "Instructions:\n",
    "- Build a KNN-based classifier and measure its quality with the F1 metric for k=1..10 for both the original data and the scaled one. That'd be interesting to see how k may influece the evaluation metric, and whether scaling the data makes any difference. You can use a ready implemention of the kNN classification algorithm from scikit-learn (check [the link](https://scikit-learn.org/stable/modules/generated/sklearn.neighbors.KNeighborsClassifier.html)) or use your own.\n",
    "- Build the dummy model which is just random for this case. It should return \"1\" with some probability. Let's test the model with four probability values: 0, the probability of paying any insurance benefit, 0.5, 1.\n",
    "\n",
    "The probability of paying any insurance benefit can be defined as\n",
    "\n",
    "$$\n",
    "P\\{\\text{insurance benefit received}\\}=\\frac{\\text{number of clients received any insurance benefit}}{\\text{total number of clients}}.\n",
    "$$\n",
    "\n",
    "Split the whole data in the 70:30 proportion for the training/testing parts."
   ]
  },
  {
   "cell_type": "code",
   "execution_count": 157,
   "metadata": {},
   "outputs": [],
   "source": [
    "# calculate the target\n",
    "\n",
    "df['insurance_benefits_received'] =[0 if x== 0 else 1 for x in df[\"insurance_benefits\"]]\n"
   ]
  },
  {
   "cell_type": "markdown",
   "metadata": {},
   "source": [
    "<div class=\"alert alert-success\">\n",
    "<b>Reviewer's comment</b>\n",
    "\n",
    "Correct!\n",
    "\n",
    "</div>"
   ]
  },
  {
   "cell_type": "code",
   "execution_count": 158,
   "metadata": {},
   "outputs": [
    {
     "data": {
      "text/plain": [
       "0    4436\n",
       "1     564\n",
       "Name: insurance_benefits_received, dtype: int64"
      ]
     },
     "execution_count": 158,
     "metadata": {},
     "output_type": "execute_result"
    }
   ],
   "source": [
    "# check for the class imbalance with value_counts()\n",
    "\n",
    "df['insurance_benefits_received'].value_counts()"
   ]
  },
  {
   "cell_type": "code",
   "execution_count": 159,
   "metadata": {},
   "outputs": [],
   "source": [
    "def eval_classifier(y_true, y_pred):\n",
    "    \n",
    "    f1_score = sklearn.metrics.f1_score(y_true, y_pred)\n",
    "    print(f'F1: {f1_score:.2f}')\n",
    "    \n",
    "# if you have an issue with the following line, restart the kernel and run the notebook again\n",
    "    cm = sklearn.metrics.confusion_matrix(y_true, y_pred, normalize='all')\n",
    "    print('Confusion Matrix')\n",
    "    print(cm)"
   ]
  },
  {
   "cell_type": "code",
   "execution_count": 160,
   "metadata": {},
   "outputs": [],
   "source": [
    "# generating output of a random model\n",
    "\n",
    "def rnd_model_predict(P, size, seed=42):\n",
    "\n",
    "    rng = np.random.default_rng(seed=seed)\n",
    "    return rng.binomial(n=1, p=P, size=size)"
   ]
  },
  {
   "cell_type": "markdown",
   "metadata": {},
   "source": [
    "**Scaled df**"
   ]
  },
  {
   "cell_type": "code",
   "execution_count": 161,
   "metadata": {},
   "outputs": [],
   "source": [
    "\n",
    "X_train, X_val, y_train, y_val = train_test_split(df_scaled[feature_names],df['insurance_benefits_received'],test_size = 0.3 )"
   ]
  },
  {
   "cell_type": "code",
   "execution_count": 162,
   "metadata": {},
   "outputs": [
    {
     "name": "stdout",
     "output_type": "stream",
     "text": [
      "Calculating for 1 neighbors\n",
      "F1: 0.93\n",
      "Confusion Matrix\n",
      "[[0.88133333 0.00933333]\n",
      " [0.00533333 0.104     ]]\n",
      " \n",
      "Calculating for 2 neighbors\n",
      "F1: 0.90\n",
      "Confusion Matrix\n",
      "[[0.886      0.00466667]\n",
      " [0.016      0.09333333]]\n",
      " \n",
      "Calculating for 3 neighbors\n",
      "F1: 0.90\n",
      "Confusion Matrix\n",
      "[[0.88266667 0.008     ]\n",
      " [0.01266667 0.09666667]]\n",
      " \n",
      "Calculating for 4 neighbors\n",
      "F1: 0.88\n",
      "Confusion Matrix\n",
      "[[0.88533333 0.00533333]\n",
      " [0.02       0.08933333]]\n",
      " \n",
      "Calculating for 5 neighbors\n",
      "F1: 0.89\n",
      "Confusion Matrix\n",
      "[[0.882      0.00866667]\n",
      " [0.01533333 0.094     ]]\n",
      " \n",
      "Calculating for 6 neighbors\n",
      "F1: 0.88\n",
      "Confusion Matrix\n",
      "[[0.88533333 0.00533333]\n",
      " [0.01933333 0.09      ]]\n",
      " \n",
      "Calculating for 7 neighbors\n",
      "F1: 0.90\n",
      "Confusion Matrix\n",
      "[[0.88533333 0.00533333]\n",
      " [0.01466667 0.09466667]]\n",
      " \n",
      "Calculating for 8 neighbors\n",
      "F1: 0.90\n",
      "Confusion Matrix\n",
      "[[0.88733333 0.00333333]\n",
      " [0.018      0.09133333]]\n",
      " \n",
      "Calculating for 9 neighbors\n",
      "F1: 0.91\n",
      "Confusion Matrix\n",
      "[[0.88666667 0.004     ]\n",
      " [0.014      0.09533333]]\n",
      " \n"
     ]
    }
   ],
   "source": [
    "for k in range(1,10):\n",
    "    print(\"Calculating for\", k, \"neighbors\")\n",
    "    model = KNeighborsClassifier(n_neighbors=k)\n",
    "    model.fit(X_train, y_train)\n",
    "    y_pred = model.predict(X_val)\n",
    "    eval_classifier(y_val, y_pred)\n",
    "\n",
    "    print(\" \")"
   ]
  },
  {
   "cell_type": "markdown",
   "metadata": {},
   "source": [
    "**Non Scaled df**"
   ]
  },
  {
   "cell_type": "code",
   "execution_count": 163,
   "metadata": {},
   "outputs": [],
   "source": [
    "X_train, X_val, y_train, y_val = train_test_split(df[feature_names],df['insurance_benefits_received'],test_size = 0.3 )\n"
   ]
  },
  {
   "cell_type": "code",
   "execution_count": 164,
   "metadata": {},
   "outputs": [
    {
     "name": "stdout",
     "output_type": "stream",
     "text": [
      "Calculating for 1 neighbors\n",
      "F1: 0.64\n",
      "Confusion Matrix\n",
      "[[0.874      0.01866667]\n",
      " [0.04866667 0.05866667]]\n",
      " \n",
      "Calculating for 2 neighbors\n",
      "F1: 0.44\n",
      "Confusion Matrix\n",
      "[[0.88933333 0.00333333]\n",
      " [0.076      0.03133333]]\n",
      " \n",
      "Calculating for 3 neighbors\n",
      "F1: 0.45\n",
      "Confusion Matrix\n",
      "[[0.88       0.01266667]\n",
      " [0.072      0.03533333]]\n",
      " \n",
      "Calculating for 4 neighbors\n",
      "F1: 0.24\n",
      "Confusion Matrix\n",
      "[[8.92000000e-01 6.66666667e-04]\n",
      " [9.26666667e-02 1.46666667e-02]]\n",
      " \n",
      "Calculating for 5 neighbors\n",
      "F1: 0.24\n",
      "Confusion Matrix\n",
      "[[0.89       0.00266667]\n",
      " [0.092      0.01533333]]\n",
      " \n",
      "Calculating for 6 neighbors\n",
      "F1: 0.11\n",
      "Confusion Matrix\n",
      "[[8.92000000e-01 6.66666667e-04]\n",
      " [1.01333333e-01 6.00000000e-03]]\n",
      " \n",
      "Calculating for 7 neighbors\n",
      "F1: 0.11\n",
      "Confusion Matrix\n",
      "[[0.88666667 0.006     ]\n",
      " [0.10066667 0.00666667]]\n",
      " \n",
      "Calculating for 8 neighbors\n",
      "F1: 0.06\n",
      "Confusion Matrix\n",
      "[[8.92000000e-01 6.66666667e-04]\n",
      " [1.04000000e-01 3.33333333e-03]]\n",
      " \n",
      "Calculating for 9 neighbors\n",
      "F1: 0.07\n",
      "Confusion Matrix\n",
      "[[8.92000000e-01 6.66666667e-04]\n",
      " [1.03333333e-01 4.00000000e-03]]\n",
      " \n"
     ]
    }
   ],
   "source": [
    "for k in range(1,10):\n",
    "    print(\"Calculating for\", k, \"neighbors\")\n",
    "    model = KNeighborsClassifier(n_neighbors=k)\n",
    "    model.fit(X_train, y_train)\n",
    "    y_pred = model.predict(X_val)\n",
    "    eval_classifier(y_val, y_pred)\n",
    "\n",
    "    print(\" \")"
   ]
  },
  {
   "cell_type": "code",
   "execution_count": 165,
   "metadata": {},
   "outputs": [
    {
     "name": "stdout",
     "output_type": "stream",
     "text": [
      "[0 0 0 ... 0 0 0]\n",
      "There are 0 ones in the vector above.\n",
      " \n",
      "[0 0 0 ... 0 0 0]\n",
      "There are 546 ones in the vector above.\n",
      " \n",
      "[1 0 1 ... 0 0 1]\n",
      "There are 2455 ones in the vector above.\n",
      " \n",
      "[1 1 1 ... 1 1 1]\n",
      "There are 5000 ones in the vector above.\n",
      " \n"
     ]
    }
   ],
   "source": [
    "# Let's calculate the probability of paying any insurance benefit \n",
    "s = len(df[df[\"insurance_benefits_received\"] ==1])\n",
    "\n",
    "for P in [0, s/len(df[\"insurance_benefits_received\"]), 0.5, 1]:\n",
    "    print(rnd_model_predict(P, len(df[\"insurance_benefits_received\"])))\n",
    "    print(\"There are\", np.count_nonzero(rnd_model_predict(P, len(df[\"insurance_benefits_received\"]))), \"ones in the vector above.\")\n",
    "    print(\" \")\n"
   ]
  },
  {
   "cell_type": "markdown",
   "metadata": {},
   "source": [
    "<div class=\"alert alert-success\">\n",
    "<b>Reviewer's comment</b>\n",
    "\n",
    "kNN was applied to a classification problem successfully!\n",
    "\n",
    "</div>"
   ]
  },
  {
   "cell_type": "markdown",
   "metadata": {},
   "source": [
    "# Task 3. Regression (with Linear Regression)"
   ]
  },
  {
   "cell_type": "markdown",
   "metadata": {},
   "source": [
    "With `insurance_benefits` as the target, evaluate what RMSE would be for a Linear Regression model."
   ]
  },
  {
   "cell_type": "markdown",
   "metadata": {},
   "source": [
    "Build your own implementation of LR. For that, recall how the linear regression task's solution is formulated in terms of LA. Check RMSE for both the original data and the scaled one. Can you see any difference in RMSE between these two cases?\n",
    "\n",
    "Let's denote\n",
    "- $X$ — feature matrix, each row is a case, each column is a feature, the first column consists of unities\n",
    "- $y$ — target (a vector)\n",
    "- $\\hat{y}$ — estimated tagret (a vector)\n",
    "- $w$ — weight vector\n",
    "\n",
    "The task of linear regression in the language of matrices can be formulated as\n",
    "\n",
    "$$\n",
    "y = Xw\n",
    "$$\n",
    "\n",
    "The training objective then is to find such $w$ that it would minimize the L2-distance (MSE) between $Xw$ and $y$:\n",
    "\n",
    "$$\n",
    "\\min_w d_2(Xw, y) \\quad \\text{or} \\quad \\min_w \\text{MSE}(Xw, y)\n",
    "$$\n",
    "\n",
    "It appears that there is analytical solution for the above:\n",
    "\n",
    "$$\n",
    "w = (X^T X)^{-1} X^T y\n",
    "$$\n",
    "\n",
    "The formula above can be used to find the weights $w$ and the latter can be used to calculate predicted values\n",
    "\n",
    "$$\n",
    "\\hat{y} = X_{val}w\n",
    "$$"
   ]
  },
  {
   "cell_type": "markdown",
   "metadata": {},
   "source": [
    "Split the whole data in the 70:30 proportion for the training/validation parts. Use the RMSE metric for the model evaluation."
   ]
  },
  {
   "cell_type": "code",
   "execution_count": 166,
   "metadata": {},
   "outputs": [],
   "source": [
    "class MyLinearRegression:\n",
    "    \n",
    "    def __init__(self):\n",
    "        \n",
    "        self.weights = None\n",
    "    \n",
    "    def fit(self, X, y):\n",
    "        \n",
    "        # adding the unities\n",
    "        X2 = np.append(np.ones([len(X), 1]), X, axis=1)\n",
    "        self.weights = np.linalg.inv(X2.T.dot(X2)).dot(X2.T).dot(y) # <your code here>\n",
    "\n",
    "    def predict(self, X):\n",
    "        \n",
    "        # adding the unities\n",
    "        X2 = np.append(np.ones([len(X), 1]), X, axis=1) # <your code here>\n",
    "        y_pred = X2.dot(self.weights) # <your code here>\n",
    "        \n",
    "        return y_pred"
   ]
  },
  {
   "cell_type": "markdown",
   "metadata": {},
   "source": [
    "<div class=\"alert alert-success\">\n",
    "<b>Reviewer's comment</b>\n",
    "\n",
    "Linear regression was implemented correctly\n",
    "\n",
    "</div>"
   ]
  },
  {
   "cell_type": "code",
   "execution_count": 167,
   "metadata": {},
   "outputs": [],
   "source": [
    "import math\n",
    "def eval_regressor(y_true, y_pred):\n",
    "    \n",
    "    rmse = math.sqrt(sklearn.metrics.mean_squared_error(y_true, y_pred))\n",
    "    print(f'RMSE: {rmse:.2f}')\n",
    "    \n",
    "    r2_score = math.sqrt(sklearn.metrics.r2_score(y_true, y_pred))\n",
    "    print(f'R2: {r2_score:.2f}')    "
   ]
  },
  {
   "cell_type": "markdown",
   "metadata": {},
   "source": [
    "**Original Data**"
   ]
  },
  {
   "cell_type": "code",
   "execution_count": 168,
   "metadata": {},
   "outputs": [
    {
     "name": "stdout",
     "output_type": "stream",
     "text": [
      "[-9.43539012e-01  3.57495491e-02  1.64272726e-02 -2.60743659e-07\n",
      " -1.16902127e-02]\n",
      "RMSE: 0.34\n",
      "R2: 0.66\n"
     ]
    }
   ],
   "source": [
    "X = df[['age', 'gender', 'income', 'family_members']].to_numpy()\n",
    "y = df['insurance_benefits'].to_numpy()\n",
    "\n",
    "X_train, X_test, y_train, y_test = train_test_split(X, y, test_size=0.3, random_state=12345)\n",
    "\n",
    "lr = MyLinearRegression()\n",
    "\n",
    "lr.fit(X_train, y_train)\n",
    "print(lr.weights)\n",
    "\n",
    "y_test_pred = lr.predict(X_test)\n",
    "eval_regressor(y_test, y_test_pred)"
   ]
  },
  {
   "cell_type": "markdown",
   "metadata": {},
   "source": [
    "**Scaled Data**"
   ]
  },
  {
   "cell_type": "code",
   "execution_count": 169,
   "metadata": {},
   "outputs": [
    {
     "name": "stdout",
     "output_type": "stream",
     "text": [
      "[-0.94353901  2.32372069  0.01642727 -0.02059875 -0.07014128]\n",
      "RMSE: 0.34\n",
      "R2: 0.66\n"
     ]
    }
   ],
   "source": [
    "X = df_scaled[['age', 'gender', 'income', 'family_members']].to_numpy()\n",
    "y = df['insurance_benefits'].to_numpy()\n",
    "\n",
    "X_train, X_test, y_train, y_test = train_test_split(X, y, test_size=0.3, random_state=12345)\n",
    "\n",
    "lr = MyLinearRegression()\n",
    "\n",
    "lr.fit(X_train, y_train)\n",
    "print(lr.weights)\n",
    "\n",
    "y_test_pred = lr.predict(X_test)\n",
    "eval_regressor(y_test, y_test_pred)"
   ]
  },
  {
   "cell_type": "markdown",
   "metadata": {},
   "source": [
    "The metrics of RMSE and R2 before and after scaling are identical. Meaning that although the numerical representations have changed, the relationship between them remained the same. The R2 is relatively low, and can be further improved by changing the hyperparameters. "
   ]
  },
  {
   "cell_type": "markdown",
   "metadata": {},
   "source": [
    "<div class=\"alert alert-success\">\n",
    "<b>Reviewer's comment</b>\n",
    "\n",
    "Good! Note that scaling can make a difference if we apply L1 or L2 regularization or if we use a different method to train the model (e.g. stochastic gradient descent instead of normal equations)\n",
    "\n",
    "</div>"
   ]
  },
  {
   "cell_type": "markdown",
   "metadata": {},
   "source": [
    "# Task 4. Obfuscating Data"
   ]
  },
  {
   "cell_type": "markdown",
   "metadata": {},
   "source": [
    "It best to obfuscate data by multiplying the numerical features (remember, they can be seen as the matrix $X$) by an invertible matrix $P$. \n",
    "\n",
    "$$\n",
    "X' = X \\times P\n",
    "$$\n",
    "\n",
    "Try to do that and check how the features' values will look like after the transformation. By the way, the intertible property is important here so make sure that $P$ is indeed invertible.\n",
    "\n",
    "You may want to review the 'Matrices and Matrix Operations -> Matrix Multiplication' lesson to recall the rule of matrix multiplication and its implementation with NumPy."
   ]
  },
  {
   "cell_type": "code",
   "execution_count": 170,
   "metadata": {},
   "outputs": [],
   "source": [
    "personal_info_column_list = ['gender', 'age', 'income', 'family_members']\n",
    "df_pn = df[personal_info_column_list]"
   ]
  },
  {
   "cell_type": "code",
   "execution_count": 171,
   "metadata": {},
   "outputs": [],
   "source": [
    "X = df_pn.to_numpy()"
   ]
  },
  {
   "cell_type": "markdown",
   "metadata": {},
   "source": [
    "Generating a random matrix $P$."
   ]
  },
  {
   "cell_type": "code",
   "execution_count": 172,
   "metadata": {},
   "outputs": [],
   "source": [
    "rng = np.random.default_rng(seed=42)\n",
    "P = rng.random(size=(X.shape[1], X.shape[1]))"
   ]
  },
  {
   "cell_type": "code",
   "execution_count": 173,
   "metadata": {},
   "outputs": [
    {
     "data": {
      "text/plain": [
       "array([[0.77395605, 0.43887844, 0.85859792, 0.69736803],\n",
       "       [0.09417735, 0.97562235, 0.7611397 , 0.78606431],\n",
       "       [0.12811363, 0.45038594, 0.37079802, 0.92676499],\n",
       "       [0.64386512, 0.82276161, 0.4434142 , 0.22723872]])"
      ]
     },
     "execution_count": 173,
     "metadata": {},
     "output_type": "execute_result"
    }
   ],
   "source": [
    "P"
   ]
  },
  {
   "cell_type": "markdown",
   "metadata": {},
   "source": [
    "Checking the matrix $P$ is invertible"
   ]
  },
  {
   "cell_type": "code",
   "execution_count": 174,
   "metadata": {},
   "outputs": [
    {
     "name": "stdout",
     "output_type": "stream",
     "text": [
      "Determinant: 0.24339135998015463\n",
      "Shape: (4, 4)\n"
     ]
    }
   ],
   "source": [
    "print(\"Determinant:\", np.linalg.det(P))\n",
    "print(\"Shape:\", P.shape)"
   ]
  },
  {
   "cell_type": "markdown",
   "metadata": {},
   "source": [
    "* The matrix must be square (same number of rows and columns). \n",
    "* The determinant of the matrix must not be zero.\n",
    "\n",
    "**Our matrix P fullfils both conditions.** Let's see if the invert of P returns an error."
   ]
  },
  {
   "cell_type": "code",
   "execution_count": 175,
   "metadata": {},
   "outputs": [
    {
     "data": {
      "text/plain": [
       "array([[ 0.41467992, -1.43783972,  0.62798546,  1.14001268],\n",
       "       [-1.06101789,  0.44219337,  0.1329549 ,  1.18425933],\n",
       "       [ 1.42362442,  1.60461607, -2.0553823 , -1.53699695],\n",
       "       [-0.11128575, -0.65813802,  1.74995517, -0.11816316]])"
      ]
     },
     "execution_count": 175,
     "metadata": {},
     "output_type": "execute_result"
    }
   ],
   "source": [
    "np.linalg.inv(P)\n"
   ]
  },
  {
   "cell_type": "markdown",
   "metadata": {},
   "source": [
    "No error, meaning our P matrix is invertible"
   ]
  },
  {
   "cell_type": "markdown",
   "metadata": {},
   "source": [
    "<div class=\"alert alert-success\">\n",
    "<b>Reviewer's comment</b>\n",
    "\n",
    "Yeah, it's actually very hard to generate a non-invertible matrix with float entries, because the subset of matrices with determinant equal to 0 has measure 0 in the set of all matrices.\n",
    "\n",
    "</div>"
   ]
  },
  {
   "cell_type": "markdown",
   "metadata": {},
   "source": [
    "Can you guess the customers' ages or income after the transformation?"
   ]
  },
  {
   "cell_type": "code",
   "execution_count": 176,
   "metadata": {},
   "outputs": [
    {
     "data": {
      "text/plain": [
       "array([[ 6359.71527314, 22380.40467609, 18424.09074184, 46000.69669016],\n",
       "       [ 4873.29406479, 17160.36702982, 14125.78076133, 35253.45577301],\n",
       "       [ 2693.11742928,  9486.397744  ,  7808.83156024, 19484.86063067],\n",
       "       ...,\n",
       "       [ 4346.2234249 , 15289.24126492, 12586.16264392, 31433.50888552],\n",
       "       [ 4194.09324155, 14751.9910242 , 12144.02930637, 30323.88763426],\n",
       "       [ 5205.46827354, 18314.24814446, 15077.01370762, 37649.59295455]])"
      ]
     },
     "execution_count": 176,
     "metadata": {},
     "output_type": "execute_result"
    }
   ],
   "source": [
    "obfus_df = X@P\n",
    "obfus_df"
   ]
  },
  {
   "cell_type": "markdown",
   "metadata": {},
   "source": [
    "No, it is not possible to guess the customers' ages or income after the transformation."
   ]
  },
  {
   "cell_type": "markdown",
   "metadata": {},
   "source": [
    "Can you recover the original data from $X'$ if you know $P$? Try to check that with calculations by moving $P$ from the right side of the formula above to the left one. The rules of matrix multiplcation are really helpful here."
   ]
  },
  {
   "cell_type": "markdown",
   "metadata": {},
   "source": [
    "Print all three cases for a few customers\n",
    "- The original data\n",
    "- The transformed one\n",
    "- The reversed (recovered) one"
   ]
  },
  {
   "cell_type": "code",
   "execution_count": 177,
   "metadata": {},
   "outputs": [
    {
     "name": "stdout",
     "output_type": "stream",
     "text": [
      "Original X : [0.0e+00 4.6e+01 3.8e+04 1.0e+00]\n",
      "The transformed X [ 4873.29406479 17160.36702982 14125.78076133 35253.45577301]\n",
      "Reversed data: [1.679528e-12 4.600000e+01 3.800000e+04 1.000000e+00]\n",
      " \n",
      "Original X : [    0.    29. 21000.     0.]\n",
      "The transformed X [ 2693.11742928  9486.397744    7808.83156024 19484.86063067]\n",
      "Reversed data: [-6.23021448e-13  2.90000000e+01  2.10000000e+04 -2.03032656e-13]\n",
      " \n",
      "Original X : [0.00e+00 2.10e+01 4.17e+04 2.00e+00]\n",
      "The transformed X [ 5345.60393712 18803.22720286 15479.14837264 38663.06186284]\n",
      "Reversed data: [-1.0890777e-12  2.1000000e+01  4.1700000e+04  2.0000000e+00]\n",
      " \n"
     ]
    }
   ],
   "source": [
    "for id in [1,2,3]:\n",
    "    print(\"Original X :\", X[id])\n",
    "    print(\"The transformed X\", (X@P)[id])\n",
    "    print(\"Reversed data:\", (obfus_df @ np.linalg.inv(P))[id]    )\n",
    "    print(\" \")"
   ]
  },
  {
   "cell_type": "markdown",
   "metadata": {},
   "source": [
    "You can probably see that some values are not exactly the same as they are in the original data. What might be the reason for that?"
   ]
  },
  {
   "cell_type": "markdown",
   "metadata": {},
   "source": [
    "The minuscule differences are the result of python's rounding error. "
   ]
  },
  {
   "cell_type": "markdown",
   "metadata": {},
   "source": [
    "<div class=\"alert alert-success\">\n",
    "<b>Reviewer's comment</b>\n",
    "\n",
    "Yeah, pretty much\n",
    "\n",
    "</div>"
   ]
  },
  {
   "cell_type": "markdown",
   "metadata": {},
   "source": [
    "## Proof That Data Obfuscation Can Work with LR"
   ]
  },
  {
   "cell_type": "markdown",
   "metadata": {},
   "source": [
    "The regression task has been solved with linear regression in this project. Your next task is to prove _analytically_ that the given obfuscation method won't affect linear regression in terms of predicted values i.e. their values will remain the same. Can you believe that? Well, you don't have to, you should prove it!"
   ]
  },
  {
   "cell_type": "markdown",
   "metadata": {},
   "source": [
    "So, the data is obfuscated and there is $X \\times P$ instead of just $X$ now. Consequently, there are other weights $w_P$ as\n",
    "$$\n",
    "w = (X^T X)^{-1} X^T y \\quad \\Rightarrow \\quad w_P = [(XP)^T XP]^{-1} (XP)^T y\n",
    "$$\n",
    "\n",
    "How would $w$ and $w_P$ be linked if you simplify the formula for $w_P$ above? \n",
    "\n",
    "What would be predicted values with $w_P$? \n",
    "\n",
    "What does that mean for the quality of linear regression if you measure it with RMSE?\n",
    "\n",
    "Check Appendix B Properties of Matrices in the end of the notebook. There are useful formulas in there!\n",
    "\n",
    "No code is necessary in this section, only analytical explanation!"
   ]
  },
  {
   "cell_type": "markdown",
   "metadata": {},
   "source": [
    "**Answer**"
   ]
  },
  {
   "cell_type": "markdown",
   "metadata": {},
   "source": [
    "The formula of $w_p$ ($w$ obfuscated by matrix $P$) is\n",
    "\n",
    "$$w_P = [(XP)^T XP]^{-1} (XP)^Ty\n",
    "$$\n",
    "\n",
    "It's simplified form (full calculation bellow) would be \n",
    "$$w_p= P^{-1}(X^TX)^{-1}X^Ty$$ \n",
    "\n",
    "while \n",
    "$$w = (X^T X)^{-1} X^T y $$\n",
    "\n",
    "Meaning the weights are linked via invertible matrix $P$.\n",
    "Because the values are obfuscated with matrix $P$, when calculating the prediction $\\hat{y}$, we actually multiplying the matrix $P$ with its inverse matrix $p^{-1}$, which results in the unit matrix $I$. Thus we are left with exactly the same $X_v$, $(X^TX)^{-1}$, $X^T$, and $\\hat{y}$ just like in the original formula for the original data.\n",
    "\n",
    "**Analytical proof:**:\n",
    "\n",
    "let's simplify the $w_p$:\n",
    "\n",
    "$$w_P = [(XP)^T XP]^{-1} P^TX^Ty\n",
    "$$\n",
    "$$w_P = [P^TX^TXP]^{-1} P^TX^Ty\n",
    "$$\n",
    "$$w_P = P^{-1}(X^TX)^{-1} (P^T)^{-1}P^TX^Ty\n",
    "$$\n",
    "$$w_P = P^{-1}(X^TX)^{-1}IX^Ty$$\n",
    "$$w_p= P^{-1}(X^TX)^{-1}X^Ty$$\n",
    "\n",
    "\n",
    "we already know that \n",
    "$$\\hat{y} = X_vw$$"
   ]
  },
  {
   "cell_type": "markdown",
   "metadata": {},
   "source": [
    "We can replace the $w$ with the the full formula and get:"
   ]
  },
  {
   "cell_type": "markdown",
   "metadata": {},
   "source": [
    "$$\\hat{y} = X_v(X^TX)^{-1}X^Ty$$\n",
    "\n",
    "With simplified $w_p$ and obfuscated values the result would be:"
   ]
  },
  {
   "cell_type": "markdown",
   "metadata": {},
   "source": [
    "$$\\hat{y} = X_vPP^{-1}(X^TX)^{-1}X^Ty$$\n",
    "\n",
    "multiplying the matrix $P$ with its inverse matrix $p^{-1}$ results in the unit matrix $I$."
   ]
  },
  {
   "cell_type": "markdown",
   "metadata": {},
   "source": [
    "$$\\hat{y} = X_vI(X^TX)^{-1}X^Ty$$"
   ]
  },
  {
   "cell_type": "markdown",
   "metadata": {},
   "source": [
    "$$\\hat{y} = X_v(X^TX)^{-1}X^Ty$$"
   ]
  },
  {
   "cell_type": "markdown",
   "metadata": {},
   "source": [
    "We see that the $\\hat{y}$ for the original data and the obfuscated data is the same."
   ]
  },
  {
   "cell_type": "markdown",
   "metadata": {},
   "source": [
    "What does that mean for the quality of linear regression if you measure it with RMSE?\n",
    "\n",
    "The RMSE results will not change, since we have the same predictions. The variables that the RMSE metric is calculated by them (the predictions and the target variable) didn't change, so the RMSE metric also wouldn't change. Meaning that the linear regression algorithm will continue to give accurate predictions, regardless of the obfuscation."
   ]
  },
  {
   "cell_type": "code",
   "execution_count": null,
   "metadata": {},
   "outputs": [],
   "source": []
  },
  {
   "cell_type": "markdown",
   "metadata": {},
   "source": [
    "<div class=\"alert alert-success\">\n",
    "<b>Reviewer's comment V2</b>\n",
    "\n",
    "Great, now the proof is correct, well done!\n",
    "\n",
    "</div>"
   ]
  },
  {
   "cell_type": "markdown",
   "metadata": {},
   "source": [
    "## Test Linear Regression With Data Obfuscation"
   ]
  },
  {
   "cell_type": "markdown",
   "metadata": {},
   "source": [
    "Now, let's prove Linear Regression can work computationally with the chosen obfuscation transformation.\n",
    "\n",
    "Build a procedure or a class that runs Linear Regression optionally with the obfuscation. You can use either a ready implementation of Linear Regression from sciki-learn or your own.\n",
    "\n",
    "Run Linear Regression for the original data and the obfuscated one, compare the predicted values and the RMSE, $R^2$ metric values. Is there any difference?"
   ]
  },
  {
   "cell_type": "markdown",
   "metadata": {},
   "source": [
    "**Procedure**\n",
    "\n",
    "- Create a square matrix $P$ of random numbers.\n",
    "- Check that it is invertible. If not, repeat the first point until we get an invertible matrix.\n",
    "- <! your comment here !>\n",
    "- Use $XP$ as the new feature matrix"
   ]
  },
  {
   "cell_type": "code",
   "execution_count": 178,
   "metadata": {},
   "outputs": [],
   "source": [
    "# Splitting data into features and target\n",
    "X = df.drop(columns=['insurance_benefits', \"insurance_benefits_received\"])\n",
    "y = df['insurance_benefits']"
   ]
  },
  {
   "cell_type": "markdown",
   "metadata": {},
   "source": [
    "<div class=\"alert alert-success\">\n",
    "<b>Reviewer's comment V2</b>\n",
    "\n",
    "Ok!\n",
    "\n",
    "</div>"
   ]
  },
  {
   "cell_type": "code",
   "execution_count": 179,
   "metadata": {},
   "outputs": [],
   "source": [
    "# Creating a random matrix X\n",
    "rng = np.random.default_rng(seed=12)\n",
    "P = rng.random(size=(X.shape[1], X.shape[1]))"
   ]
  },
  {
   "cell_type": "code",
   "execution_count": 180,
   "metadata": {},
   "outputs": [
    {
     "name": "stdout",
     "output_type": "stream",
     "text": [
      "[[-0.93192715  1.02484747  1.12334779 -1.23255562]\n",
      " [ 1.4103258  -0.28993985 -0.26093133 -0.17240947]\n",
      " [ 0.12035908  1.2698597  -0.56583439  0.30569054]\n",
      " [-0.6930974  -1.24359406  0.4038029   2.31193908]]\n",
      "Determinant: 0.1909965984971535\n",
      "Shape: (4, 4)\n"
     ]
    }
   ],
   "source": [
    "# Checking that our P matrix is np.linalg.inv(P)\n",
    "print(np.linalg.inv(P))\n",
    "print(\"Determinant:\", np.linalg.det(P))\n",
    "print(\"Shape:\", P.shape)"
   ]
  },
  {
   "cell_type": "markdown",
   "metadata": {},
   "source": [
    "**Original Dataset:**"
   ]
  },
  {
   "cell_type": "code",
   "execution_count": 181,
   "metadata": {},
   "outputs": [],
   "source": [
    "# Splitting data into train and test samples\n",
    "X_train, X_test, y_train, y_test = train_test_split(X, y, random_state=42)"
   ]
  },
  {
   "cell_type": "code",
   "execution_count": 182,
   "metadata": {},
   "outputs": [
    {
     "name": "stdout",
     "output_type": "stream",
     "text": [
      "R2: 0.4254778540696319\n",
      "RMSE: 0.13862989572441412\n"
     ]
    }
   ],
   "source": [
    "# Model fitting\n",
    "model = LinearRegression().fit(X_train, y_train)\n",
    "\n",
    "preds = model.predict(X_test)\n",
    "# Model test with R2 metric\n",
    "r1_model1 = r2_score(y_test, preds)\n",
    "RMSE_model1 = mean_squared_error(y_test, preds, squared=True)\n",
    "print(\"R2:\", r1_model1)\n",
    "print(\"RMSE:\", RMSE_model1)"
   ]
  },
  {
   "cell_type": "markdown",
   "metadata": {},
   "source": [
    "**Obfuscated Dataset**"
   ]
  },
  {
   "cell_type": "code",
   "execution_count": 183,
   "metadata": {},
   "outputs": [
    {
     "data": {
      "text/plain": [
       "array([[0.25082446, 0.94675294, 0.18932038, 0.17929141],\n",
       "       [0.34988924, 0.23054125, 0.67044574, 0.11507938],\n",
       "       [0.89630937, 0.85813049, 0.00282703, 0.54146616],\n",
       "       [0.10685127, 0.25795496, 0.41689604, 0.45361612]])"
      ]
     },
     "execution_count": 183,
     "metadata": {},
     "output_type": "execute_result"
    }
   ],
   "source": [
    "P"
   ]
  },
  {
   "cell_type": "code",
   "execution_count": 184,
   "metadata": {},
   "outputs": [
    {
     "data": {
      "text/html": [
       "<div>\n",
       "<style scoped>\n",
       "    .dataframe tbody tr th:only-of-type {\n",
       "        vertical-align: middle;\n",
       "    }\n",
       "\n",
       "    .dataframe tbody tr th {\n",
       "        vertical-align: top;\n",
       "    }\n",
       "\n",
       "    .dataframe thead th {\n",
       "        text-align: right;\n",
       "    }\n",
       "</style>\n",
       "<table border=\"1\" class=\"dataframe\">\n",
       "  <thead>\n",
       "    <tr style=\"text-align: right;\">\n",
       "      <th></th>\n",
       "      <th>0</th>\n",
       "      <th>1</th>\n",
       "      <th>2</th>\n",
       "      <th>3</th>\n",
       "    </tr>\n",
       "  </thead>\n",
       "  <tbody>\n",
       "    <tr>\n",
       "      <th>0</th>\n",
       "      <td>44471.648070</td>\n",
       "      <td>42573.929158</td>\n",
       "      <td>168.315288</td>\n",
       "      <td>26862.072783</td>\n",
       "    </tr>\n",
       "    <tr>\n",
       "      <th>1</th>\n",
       "      <td>34075.957957</td>\n",
       "      <td>32619.821437</td>\n",
       "      <td>138.684623</td>\n",
       "      <td>20581.461413</td>\n",
       "    </tr>\n",
       "    <tr>\n",
       "      <th>2</th>\n",
       "      <td>18832.643636</td>\n",
       "      <td>18027.425967</td>\n",
       "      <td>78.810602</td>\n",
       "      <td>11374.126698</td>\n",
       "    </tr>\n",
       "    <tr>\n",
       "      <th>3</th>\n",
       "      <td>37383.662260</td>\n",
       "      <td>35789.398671</td>\n",
       "      <td>132.800395</td>\n",
       "      <td>22582.462843</td>\n",
       "    </tr>\n",
       "    <tr>\n",
       "      <th>4</th>\n",
       "      <td>23403.722377</td>\n",
       "      <td>22404.607673</td>\n",
       "      <td>92.747341</td>\n",
       "      <td>14135.668335</td>\n",
       "    </tr>\n",
       "  </tbody>\n",
       "</table>\n",
       "</div>"
      ],
      "text/plain": [
       "              0             1           2             3\n",
       "0  44471.648070  42573.929158  168.315288  26862.072783\n",
       "1  34075.957957  32619.821437  138.684623  20581.461413\n",
       "2  18832.643636  18027.425967   78.810602  11374.126698\n",
       "3  37383.662260  35789.398671  132.800395  22582.462843\n",
       "4  23403.722377  22404.607673   92.747341  14135.668335"
      ]
     },
     "execution_count": 184,
     "metadata": {},
     "output_type": "execute_result"
    }
   ],
   "source": [
    "# Data transformation\n",
    "X_t = df.drop(columns=['insurance_benefits', \"insurance_benefits_received\"]) @ P\n",
    "X_t.head()"
   ]
  },
  {
   "cell_type": "code",
   "execution_count": 185,
   "metadata": {},
   "outputs": [],
   "source": [
    "# Splitting data into train and test samples [our y remains the same!]\n",
    "X_train, X_test, y_train, y_test = train_test_split(X_t, y, random_state=42)"
   ]
  },
  {
   "cell_type": "code",
   "execution_count": 186,
   "metadata": {},
   "outputs": [
    {
     "name": "stdout",
     "output_type": "stream",
     "text": [
      "R2 for Obfuscated Dataset: 0.4254778540686114\n",
      "RMSE for Obfuscated Dataset: 0.13862989572466036\n"
     ]
    }
   ],
   "source": [
    "# Model fitting\n",
    "model_2 = LinearRegression().fit(X_train, y_train)\n",
    "\n",
    "preds = model_2.predict(X_test)\n",
    "# Model test with R2 metric\n",
    "r2_model2 = r2_score(y_test, preds)\n",
    "RMSE2_model2 = mean_squared_error(y_test, preds, squared=True)\n",
    "print(\"R2 for Obfuscated Dataset:\", r2_model2)\n",
    "print(\"RMSE for Obfuscated Dataset:\", RMSE2_model2)"
   ]
  },
  {
   "cell_type": "markdown",
   "metadata": {},
   "source": [
    "The differences in the results are minuscule"
   ]
  },
  {
   "cell_type": "markdown",
   "metadata": {},
   "source": [
    "<div class=\"alert alert-success\">\n",
    "<b>Reviewer's comment</b>\n",
    "\n",
    "Barring the data leakage problem, the experiment is conducted correctly\n",
    "\n",
    "</div>"
   ]
  },
  {
   "cell_type": "markdown",
   "metadata": {},
   "source": [
    "# Conclusions"
   ]
  },
  {
   "cell_type": "markdown",
   "metadata": {},
   "source": [
    "* Scalling of the data drasticaly impacts the features and metrics (measures of error) of the LR models. \n",
    "* Scalled data performs much better than non scalled data. The error metrics are lower. \n",
    "* When it comes to the kneighbors classifcation, we did not discovered any difference between the euclidian measure of distance and the manhattan measure of distance. As long as the data is scalled identically, both euclidian and manhattan measures will pick the same instances (kneigbors)\n",
    "* Obfuscating the data is a usefull tool for working with real world data while keeping the features \"oscure\". \n",
    "* We can shift real world data to and from  obfuscation (i.e. recover) using a random matrix of our choise. \n",
    "* Shifting the data will change the features but not the relationships between the features in LR model. As long as we use the same scaling method, our metrics of error will be the same.\n"
   ]
  },
  {
   "cell_type": "markdown",
   "metadata": {},
   "source": [
    "<div class=\"alert alert-success\">\n",
    "<b>Reviewer's comment</b>\n",
    "\n",
    "Conclusions look good\n",
    "\n",
    "</div>"
   ]
  },
  {
   "cell_type": "markdown",
   "metadata": {},
   "source": [
    "# Checklist"
   ]
  },
  {
   "cell_type": "markdown",
   "metadata": {},
   "source": [
    "Type 'x' to check. Then press Shift+Enter."
   ]
  },
  {
   "cell_type": "markdown",
   "metadata": {},
   "source": [
    "- [x]  Jupyter Notebook is open\n",
    "- [ ]  Code is error free\n",
    "- [ ]  The cells are arranged in order of logic and execution\n",
    "- [ ]  Task 1 has been performed\n",
    "    - [ ]  There is the procedure that can return k similar customers for a given one\n",
    "    - [ ]  The procedure is tested for all four proposed combinations\n",
    "    - [ ]  The questions re the scaling/distances are answered\n",
    "- [ ]  Task 2 has been performed\n",
    "    - [ ]  The random classification model is built and tested for all for probability levels\n",
    "    - [ ]  The kNN classification model is built and tested for both the original data and the scaled one, the F1 metric is calculated.\n",
    "- [ ]  Task 3 has been performed\n",
    "    - [ ]  The linear tegression solution is implemented with matrix operations.\n",
    "    - [ ]  RMSE is calculated for the implemented solution.\n",
    "- [ ]  Task 4 has been performed\n",
    "    - [ ]  The data is obfuscated with a random and invertible matrix P\n",
    "    - [ ]  The obfuscated data is recoved, few examples are printed out\n",
    "    - [ ]  The analytical proof that the transformation does not affect RMSE is provided \n",
    "    - [ ]  The computational proof that the transformation does not affect RMSE is provided\n",
    "- [ ]  Conclusions have been made"
   ]
  },
  {
   "cell_type": "markdown",
   "metadata": {},
   "source": [
    "# Appendices \n",
    "\n",
    "## Appendix A: Writing Formulas in Jupyter Notebooks"
   ]
  },
  {
   "cell_type": "markdown",
   "metadata": {},
   "source": [
    "You can write formulas in your Jupyter Notebook in a markup language provided by a high-quality publishing system called $\\LaTeX$ (pronounced \"Lah-tech\"), and they will look like formulas in textbooks.\n",
    "\n",
    "To put a formula in a text, put the dollar sign (\\\\$) before and after the formula's text e.g. $\\frac{1}{2} \\times \\frac{3}{2} = \\frac{3}{4}$ or $y = x^2, x \\ge 1$.\n",
    "\n",
    "If a formula should be in its own paragraph, put the double dollar sign (\\\\$\\\\$) before and after the formula text e.g.\n",
    "\n",
    "$$\n",
    "\\bar{x} = \\frac{1}{n}\\sum_{i=1}^{n} x_i.\n",
    "$$\n",
    "\n",
    "The markup language of [LaTeX](https://en.wikipedia.org/wiki/LaTeX) is very popular among people who use formulas in their articles, books and texts. It can be complex but its basics are easy. Check this two page [cheatsheet](http://tug.ctan.org/info/undergradmath/undergradmath.pdf) for learning how to compose the most common formulas."
   ]
  },
  {
   "cell_type": "markdown",
   "metadata": {},
   "source": [
    "## Appendix B: Properties of Matrices"
   ]
  },
  {
   "cell_type": "markdown",
   "metadata": {},
   "source": [
    "Matrices have many properties in Linear Algebra. A few of them are listed here which can help with the analytical proof in this project."
   ]
  },
  {
   "cell_type": "markdown",
   "metadata": {},
   "source": [
    "<table>\n",
    "<tr>\n",
    "<td>Distributivity</td><td>$A(B+C)=AB+AC$</td>\n",
    "</tr>\n",
    "<tr>\n",
    "<td>Non-commutativity</td><td>$AB \\neq BA$</td>\n",
    "</tr>\n",
    "<tr>\n",
    "<td>Associative property of multiplication</td><td>$(AB)C = A(BC)$</td>\n",
    "</tr>\n",
    "<tr>\n",
    "<td>Multiplicative identity property</td><td>$IA = AI = A$</td>\n",
    "</tr>\n",
    "<tr>\n",
    "<td></td><td>$A^{-1}A = AA^{-1} = I$\n",
    "</td>\n",
    "</tr>    \n",
    "<tr>\n",
    "<td></td><td>$(AB)^{-1} = B^{-1}A^{-1}$</td>\n",
    "</tr>    \n",
    "<tr>\n",
    "<td>Reversivity of the transpose of a product of matrices,</td><td>$(AB)^T = B^TA^T$</td>\n",
    "</tr>    \n",
    "</table>"
   ]
  },
  {
   "cell_type": "code",
   "execution_count": null,
   "metadata": {},
   "outputs": [],
   "source": []
  },
  {
   "cell_type": "code",
   "execution_count": null,
   "metadata": {},
   "outputs": [],
   "source": []
  }
 ],
 "metadata": {
  "ExecuteTimeLog": [
   {
    "duration": 9794,
    "start_time": "2022-07-10T04:19:23.600Z"
   },
   {
    "duration": 1370,
    "start_time": "2022-07-10T04:19:33.396Z"
   },
   {
    "duration": 1129,
    "start_time": "2022-07-10T04:19:58.790Z"
   },
   {
    "duration": 48,
    "start_time": "2022-07-10T04:20:04.221Z"
   },
   {
    "duration": 3,
    "start_time": "2022-07-10T04:20:21.764Z"
   },
   {
    "duration": 15,
    "start_time": "2022-07-10T04:20:22.387Z"
   },
   {
    "duration": 11,
    "start_time": "2022-07-10T04:20:29.661Z"
   },
   {
    "duration": 3,
    "start_time": "2022-07-10T04:21:52.580Z"
   },
   {
    "duration": 10,
    "start_time": "2022-07-10T04:22:04.082Z"
   },
   {
    "duration": 3,
    "start_time": "2022-07-10T04:22:12.547Z"
   },
   {
    "duration": 13,
    "start_time": "2022-07-10T04:22:13.537Z"
   },
   {
    "duration": 3,
    "start_time": "2022-07-10T04:22:25.890Z"
   },
   {
    "duration": 5,
    "start_time": "2022-07-10T04:22:49.028Z"
   },
   {
    "duration": 26,
    "start_time": "2022-07-10T04:23:13.705Z"
   },
   {
    "duration": 9,
    "start_time": "2022-07-10T04:32:01.902Z"
   },
   {
    "duration": 10,
    "start_time": "2022-07-10T04:32:10.230Z"
   },
   {
    "duration": 8,
    "start_time": "2022-07-10T04:34:20.974Z"
   },
   {
    "duration": 33,
    "start_time": "2022-07-10T05:09:20.795Z"
   },
   {
    "duration": 6,
    "start_time": "2022-07-10T05:10:16.440Z"
   },
   {
    "duration": 3725,
    "start_time": "2022-07-10T05:12:01.670Z"
   },
   {
    "duration": 5,
    "start_time": "2022-07-10T05:36:52.859Z"
   },
   {
    "duration": 13,
    "start_time": "2022-07-10T05:37:12.131Z"
   },
   {
    "duration": 14,
    "start_time": "2022-07-10T05:37:12.516Z"
   },
   {
    "duration": 3,
    "start_time": "2022-07-10T06:47:36.375Z"
   },
   {
    "duration": 16,
    "start_time": "2022-07-10T06:47:38.364Z"
   },
   {
    "duration": 4,
    "start_time": "2022-07-10T06:47:39.170Z"
   },
   {
    "duration": 10,
    "start_time": "2022-07-10T06:47:39.809Z"
   },
   {
    "duration": 11,
    "start_time": "2022-07-10T06:47:40.153Z"
   },
   {
    "duration": 4,
    "start_time": "2022-07-10T06:47:40.561Z"
   },
   {
    "duration": 2,
    "start_time": "2022-07-10T06:47:41.313Z"
   },
   {
    "duration": 4,
    "start_time": "2022-07-10T06:47:41.669Z"
   },
   {
    "duration": 21,
    "start_time": "2022-07-10T06:47:42.066Z"
   },
   {
    "duration": 5,
    "start_time": "2022-07-10T06:47:42.961Z"
   },
   {
    "duration": 3208,
    "start_time": "2022-07-10T06:47:50.273Z"
   },
   {
    "duration": 3,
    "start_time": "2022-07-10T06:47:57.107Z"
   },
   {
    "duration": 4,
    "start_time": "2022-07-10T06:47:58.627Z"
   },
   {
    "duration": 11,
    "start_time": "2022-07-10T06:48:04.242Z"
   },
   {
    "duration": 10,
    "start_time": "2022-07-10T06:48:05.610Z"
   },
   {
    "duration": 145,
    "start_time": "2022-07-10T06:51:30.219Z"
   },
   {
    "duration": 65,
    "start_time": "2022-07-10T06:51:52.716Z"
   },
   {
    "duration": 119,
    "start_time": "2022-07-10T06:51:57.461Z"
   },
   {
    "duration": 5,
    "start_time": "2022-07-10T07:04:15.559Z"
   },
   {
    "duration": 10,
    "start_time": "2022-07-10T07:04:19.560Z"
   },
   {
    "duration": 10,
    "start_time": "2022-07-10T07:04:20.045Z"
   },
   {
    "duration": 21,
    "start_time": "2022-07-10T07:07:47.918Z"
   },
   {
    "duration": 15,
    "start_time": "2022-07-10T07:21:14.849Z"
   },
   {
    "duration": 4,
    "start_time": "2022-07-10T07:23:24.079Z"
   },
   {
    "duration": 9,
    "start_time": "2022-07-10T07:23:26.256Z"
   },
   {
    "duration": 13,
    "start_time": "2022-07-10T07:23:27.252Z"
   },
   {
    "duration": 19,
    "start_time": "2022-07-10T07:23:29.142Z"
   },
   {
    "duration": 17,
    "start_time": "2022-07-10T07:25:21.597Z"
   },
   {
    "duration": 5,
    "start_time": "2022-07-10T07:27:17.187Z"
   },
   {
    "duration": 10,
    "start_time": "2022-07-10T07:27:18.178Z"
   },
   {
    "duration": 10,
    "start_time": "2022-07-10T07:27:18.586Z"
   },
   {
    "duration": 16,
    "start_time": "2022-07-10T07:27:19.637Z"
   },
   {
    "duration": 6,
    "start_time": "2022-07-10T07:28:42.544Z"
   },
   {
    "duration": 13,
    "start_time": "2022-07-10T07:28:43.113Z"
   },
   {
    "duration": 15,
    "start_time": "2022-07-10T07:28:43.415Z"
   },
   {
    "duration": 16,
    "start_time": "2022-07-10T07:28:46.792Z"
   },
   {
    "duration": 61,
    "start_time": "2022-07-10T07:32:14.305Z"
   },
   {
    "duration": 5,
    "start_time": "2022-07-10T07:32:29.534Z"
   },
   {
    "duration": 11,
    "start_time": "2022-07-10T07:32:31.699Z"
   },
   {
    "duration": 10,
    "start_time": "2022-07-10T07:32:32.288Z"
   },
   {
    "duration": 13,
    "start_time": "2022-07-10T07:32:33.555Z"
   },
   {
    "duration": 15,
    "start_time": "2022-07-10T07:34:24.401Z"
   },
   {
    "duration": 12,
    "start_time": "2022-07-10T07:41:54.337Z"
   },
   {
    "duration": 16,
    "start_time": "2022-07-10T07:51:27.043Z"
   },
   {
    "duration": 24,
    "start_time": "2022-07-10T07:51:31.874Z"
   },
   {
    "duration": 14,
    "start_time": "2022-07-10T07:52:26.266Z"
   },
   {
    "duration": 264,
    "start_time": "2022-07-10T07:54:09.240Z"
   },
   {
    "duration": 138,
    "start_time": "2022-07-10T08:05:16.861Z"
   },
   {
    "duration": 166,
    "start_time": "2022-07-10T08:05:54.189Z"
   },
   {
    "duration": 4,
    "start_time": "2022-07-10T08:12:49.597Z"
   },
   {
    "duration": 11,
    "start_time": "2022-07-10T08:12:50.620Z"
   },
   {
    "duration": 10,
    "start_time": "2022-07-10T08:12:51.180Z"
   },
   {
    "duration": 17,
    "start_time": "2022-07-10T08:12:52.275Z"
   },
   {
    "duration": 6,
    "start_time": "2022-07-10T08:20:50.123Z"
   },
   {
    "duration": 15,
    "start_time": "2022-07-10T08:20:50.498Z"
   },
   {
    "duration": 13,
    "start_time": "2022-07-10T08:20:50.835Z"
   },
   {
    "duration": 21,
    "start_time": "2022-07-10T08:20:58.218Z"
   },
   {
    "duration": 12,
    "start_time": "2022-07-10T08:21:37.057Z"
   },
   {
    "duration": 11,
    "start_time": "2022-07-10T08:21:45.473Z"
   },
   {
    "duration": 14,
    "start_time": "2022-07-10T08:22:14.248Z"
   },
   {
    "duration": 18,
    "start_time": "2022-07-10T08:26:35.684Z"
   },
   {
    "duration": 17,
    "start_time": "2022-07-10T08:26:41.907Z"
   },
   {
    "duration": 16,
    "start_time": "2022-07-10T08:28:23.791Z"
   },
   {
    "duration": 15,
    "start_time": "2022-07-10T08:29:09.392Z"
   },
   {
    "duration": 11,
    "start_time": "2022-07-10T08:56:09.052Z"
   },
   {
    "duration": 19,
    "start_time": "2022-07-10T08:56:16.616Z"
   },
   {
    "duration": 23,
    "start_time": "2022-07-10T09:01:19.854Z"
   },
   {
    "duration": 17,
    "start_time": "2022-07-10T09:02:30.213Z"
   },
   {
    "duration": 22,
    "start_time": "2022-07-10T09:04:22.938Z"
   },
   {
    "duration": 18,
    "start_time": "2022-07-10T09:04:47.481Z"
   },
   {
    "duration": 11,
    "start_time": "2022-07-10T09:14:56.899Z"
   },
   {
    "duration": 6,
    "start_time": "2022-07-10T09:15:27.858Z"
   },
   {
    "duration": 5,
    "start_time": "2022-07-10T09:15:42.698Z"
   },
   {
    "duration": 4,
    "start_time": "2022-07-10T09:16:54.441Z"
   },
   {
    "duration": 3,
    "start_time": "2022-07-10T09:17:07.744Z"
   },
   {
    "duration": 56,
    "start_time": "2022-07-10T09:17:12.450Z"
   },
   {
    "duration": 14,
    "start_time": "2022-07-10T09:28:34.389Z"
   },
   {
    "duration": 7,
    "start_time": "2022-07-10T09:28:42.681Z"
   },
   {
    "duration": 10,
    "start_time": "2022-07-10T09:29:00.512Z"
   },
   {
    "duration": 6,
    "start_time": "2022-07-10T09:30:19.325Z"
   },
   {
    "duration": 10,
    "start_time": "2022-07-10T09:30:20.788Z"
   },
   {
    "duration": 56,
    "start_time": "2022-07-10T09:30:36.725Z"
   },
   {
    "duration": 4,
    "start_time": "2022-07-10T09:31:02.288Z"
   },
   {
    "duration": 4,
    "start_time": "2022-07-10T09:31:08.956Z"
   },
   {
    "duration": 5,
    "start_time": "2022-07-10T09:31:14.083Z"
   },
   {
    "duration": 5,
    "start_time": "2022-07-10T09:31:18.849Z"
   },
   {
    "duration": 6,
    "start_time": "2022-07-10T09:33:21.130Z"
   },
   {
    "duration": 6,
    "start_time": "2022-07-10T09:33:31.945Z"
   },
   {
    "duration": 11,
    "start_time": "2022-07-10T09:37:00.523Z"
   },
   {
    "duration": 21,
    "start_time": "2022-07-10T09:37:20.398Z"
   },
   {
    "duration": 42,
    "start_time": "2022-07-10T09:43:15.978Z"
   },
   {
    "duration": 88,
    "start_time": "2022-07-10T09:48:55.965Z"
   },
   {
    "duration": 9,
    "start_time": "2022-07-10T09:49:02.257Z"
   },
   {
    "duration": 20,
    "start_time": "2022-07-10T09:49:06.575Z"
   },
   {
    "duration": 29,
    "start_time": "2022-07-10T09:58:55.618Z"
   },
   {
    "duration": 733,
    "start_time": "2022-07-10T10:07:51.468Z"
   },
   {
    "duration": 3076,
    "start_time": "2022-07-10T10:08:10.983Z"
   },
   {
    "duration": 719,
    "start_time": "2022-07-10T10:08:14.061Z"
   },
   {
    "duration": 17,
    "start_time": "2022-07-10T10:08:14.783Z"
   },
   {
    "duration": 4,
    "start_time": "2022-07-10T10:08:15.063Z"
   },
   {
    "duration": 17,
    "start_time": "2022-07-10T10:08:15.398Z"
   },
   {
    "duration": 10,
    "start_time": "2022-07-10T10:08:15.753Z"
   },
   {
    "duration": 3,
    "start_time": "2022-07-10T10:08:16.111Z"
   },
   {
    "duration": 2,
    "start_time": "2022-07-10T10:08:16.452Z"
   },
   {
    "duration": 5,
    "start_time": "2022-07-10T10:08:16.790Z"
   },
   {
    "duration": 28,
    "start_time": "2022-07-10T10:08:17.103Z"
   },
   {
    "duration": 7,
    "start_time": "2022-07-10T10:08:17.719Z"
   },
   {
    "duration": 3634,
    "start_time": "2022-07-10T10:08:18.686Z"
   },
   {
    "duration": 3,
    "start_time": "2022-07-10T10:08:22.323Z"
   },
   {
    "duration": 38,
    "start_time": "2022-07-10T10:08:22.327Z"
   },
   {
    "duration": 20,
    "start_time": "2022-07-10T10:08:34.647Z"
   },
   {
    "duration": 15,
    "start_time": "2022-07-10T10:08:36.070Z"
   },
   {
    "duration": 17,
    "start_time": "2022-07-10T10:08:39.260Z"
   },
   {
    "duration": 32,
    "start_time": "2022-07-10T10:08:39.426Z"
   },
   {
    "duration": 21,
    "start_time": "2022-07-10T10:08:39.599Z"
   },
   {
    "duration": 27,
    "start_time": "2022-07-10T10:08:39.853Z"
   },
   {
    "duration": 32,
    "start_time": "2022-07-10T10:08:41.148Z"
   },
   {
    "duration": 25,
    "start_time": "2022-07-10T10:08:42.702Z"
   },
   {
    "duration": 29,
    "start_time": "2022-07-10T10:08:43.118Z"
   },
   {
    "duration": 20,
    "start_time": "2022-07-10T10:08:46.355Z"
   },
   {
    "duration": 8,
    "start_time": "2022-07-10T10:08:47.206Z"
   },
   {
    "duration": 4,
    "start_time": "2022-07-10T10:08:50.111Z"
   },
   {
    "duration": 4,
    "start_time": "2022-07-10T10:08:50.367Z"
   },
   {
    "duration": 9,
    "start_time": "2022-07-10T10:08:50.761Z"
   },
   {
    "duration": 11,
    "start_time": "2022-07-10T10:08:51.007Z"
   },
   {
    "duration": 71,
    "start_time": "2022-07-10T10:08:51.447Z"
   },
   {
    "duration": 8,
    "start_time": "2022-07-10T10:08:51.814Z"
   },
   {
    "duration": 909,
    "start_time": "2022-07-10T10:08:55.903Z"
   },
   {
    "duration": 8,
    "start_time": "2022-07-10T10:11:31.249Z"
   },
   {
    "duration": 6,
    "start_time": "2022-07-10T10:11:31.491Z"
   },
   {
    "duration": 5,
    "start_time": "2022-07-10T10:11:37.201Z"
   },
   {
    "duration": 3,
    "start_time": "2022-07-10T10:11:40.177Z"
   },
   {
    "duration": 6,
    "start_time": "2022-07-10T10:11:40.666Z"
   },
   {
    "duration": 11,
    "start_time": "2022-07-10T10:11:42.362Z"
   },
   {
    "duration": 59,
    "start_time": "2022-07-10T10:11:47.210Z"
   },
   {
    "duration": 423,
    "start_time": "2022-07-10T10:15:23.877Z"
   },
   {
    "duration": 21,
    "start_time": "2022-07-10T10:16:22.542Z"
   },
   {
    "duration": 468,
    "start_time": "2022-07-10T10:16:27.404Z"
   },
   {
    "duration": 47,
    "start_time": "2022-07-10T10:16:38.659Z"
   },
   {
    "duration": 447,
    "start_time": "2022-07-10T10:16:44.011Z"
   },
   {
    "duration": 397,
    "start_time": "2022-07-10T10:18:34.865Z"
   },
   {
    "duration": 50,
    "start_time": "2022-07-10T10:19:07.641Z"
   },
   {
    "duration": 66,
    "start_time": "2022-07-10T10:19:38.331Z"
   },
   {
    "duration": 55,
    "start_time": "2022-07-10T10:19:44.248Z"
   },
   {
    "duration": 392,
    "start_time": "2022-07-10T10:20:19.672Z"
   },
   {
    "duration": 71,
    "start_time": "2022-07-10T10:20:49.318Z"
   },
   {
    "duration": 57,
    "start_time": "2022-07-10T10:21:05.062Z"
   },
   {
    "duration": 4,
    "start_time": "2022-07-10T10:21:31.909Z"
   },
   {
    "duration": 440,
    "start_time": "2022-07-10T10:21:41.254Z"
   },
   {
    "duration": 53,
    "start_time": "2022-07-10T10:21:58.245Z"
   },
   {
    "duration": 81,
    "start_time": "2022-07-10T10:22:06.853Z"
   },
   {
    "duration": 482,
    "start_time": "2022-07-10T10:22:13.693Z"
   },
   {
    "duration": 4,
    "start_time": "2022-07-10T10:23:02.043Z"
   },
   {
    "duration": 501,
    "start_time": "2022-07-10T10:23:05.899Z"
   },
   {
    "duration": 48,
    "start_time": "2022-07-10T10:23:23.754Z"
   },
   {
    "duration": 54,
    "start_time": "2022-07-10T10:23:34.099Z"
   },
   {
    "duration": 424,
    "start_time": "2022-07-10T10:23:40.810Z"
   },
   {
    "duration": 4,
    "start_time": "2022-07-10T10:23:56.219Z"
   },
   {
    "duration": 4,
    "start_time": "2022-07-10T10:23:56.842Z"
   },
   {
    "duration": 6,
    "start_time": "2022-07-10T10:23:57.105Z"
   },
   {
    "duration": 12,
    "start_time": "2022-07-10T10:23:57.352Z"
   },
   {
    "duration": 45,
    "start_time": "2022-07-10T10:23:57.569Z"
   },
   {
    "duration": 427,
    "start_time": "2022-07-10T10:23:57.853Z"
   },
   {
    "duration": 50,
    "start_time": "2022-07-10T10:24:24.861Z"
   },
   {
    "duration": 457,
    "start_time": "2022-07-10T10:24:31.985Z"
   },
   {
    "duration": 64,
    "start_time": "2022-07-10T10:28:12.519Z"
   },
   {
    "duration": 407,
    "start_time": "2022-07-10T10:28:47.524Z"
   },
   {
    "duration": 9,
    "start_time": "2022-07-10T10:31:23.854Z"
   },
   {
    "duration": 13,
    "start_time": "2022-07-10T10:32:44.744Z"
   },
   {
    "duration": 490,
    "start_time": "2022-07-10T10:33:08.009Z"
   },
   {
    "duration": 11,
    "start_time": "2022-07-10T10:34:43.470Z"
   },
   {
    "duration": 20,
    "start_time": "2022-07-10T10:34:59.292Z"
   },
   {
    "duration": 5,
    "start_time": "2022-07-10T10:58:50.001Z"
   },
   {
    "duration": 4,
    "start_time": "2022-07-10T10:58:50.273Z"
   },
   {
    "duration": 49,
    "start_time": "2022-07-10T10:58:51.079Z"
   },
   {
    "duration": 6,
    "start_time": "2022-07-10T11:02:02.915Z"
   },
   {
    "duration": 4,
    "start_time": "2022-07-10T11:02:03.356Z"
   },
   {
    "duration": 22,
    "start_time": "2022-07-10T11:02:04.260Z"
   },
   {
    "duration": 4,
    "start_time": "2022-07-10T11:06:55.861Z"
   },
   {
    "duration": 5,
    "start_time": "2022-07-10T11:06:57.182Z"
   },
   {
    "duration": 89,
    "start_time": "2022-07-10T11:07:00.544Z"
   },
   {
    "duration": 6,
    "start_time": "2022-07-10T11:08:14.540Z"
   },
   {
    "duration": 4,
    "start_time": "2022-07-10T11:08:17.337Z"
   },
   {
    "duration": 85,
    "start_time": "2022-07-10T11:08:43.043Z"
   },
   {
    "duration": 9,
    "start_time": "2022-07-10T12:25:11.913Z"
   },
   {
    "duration": 4,
    "start_time": "2022-07-10T12:25:14.237Z"
   },
   {
    "duration": 19,
    "start_time": "2022-07-10T12:25:16.204Z"
   },
   {
    "duration": 5,
    "start_time": "2022-07-10T12:26:54.852Z"
   },
   {
    "duration": 4,
    "start_time": "2022-07-10T12:26:55.259Z"
   },
   {
    "duration": 92,
    "start_time": "2022-07-10T12:26:56.140Z"
   },
   {
    "duration": 8,
    "start_time": "2022-07-10T12:27:47.223Z"
   },
   {
    "duration": 3,
    "start_time": "2022-07-10T12:27:47.675Z"
   },
   {
    "duration": 23,
    "start_time": "2022-07-10T12:27:48.601Z"
   },
   {
    "duration": 6,
    "start_time": "2022-07-10T12:44:10.053Z"
   },
   {
    "duration": 5,
    "start_time": "2022-07-10T12:44:15.698Z"
   },
   {
    "duration": 184,
    "start_time": "2022-07-10T12:44:19.059Z"
   },
   {
    "duration": 5,
    "start_time": "2022-07-10T12:45:03.752Z"
   },
   {
    "duration": 6,
    "start_time": "2022-07-10T12:47:04.719Z"
   },
   {
    "duration": 15,
    "start_time": "2022-07-10T12:47:15.948Z"
   },
   {
    "duration": 10,
    "start_time": "2022-07-10T13:23:04.821Z"
   },
   {
    "duration": 3,
    "start_time": "2022-07-10T13:23:05.239Z"
   },
   {
    "duration": 4,
    "start_time": "2022-07-10T13:23:16.708Z"
   },
   {
    "duration": 5,
    "start_time": "2022-07-10T13:23:31.724Z"
   },
   {
    "duration": 265,
    "start_time": "2022-07-10T13:25:34.396Z"
   },
   {
    "duration": 12,
    "start_time": "2022-07-10T13:25:47.761Z"
   },
   {
    "duration": 12,
    "start_time": "2022-07-10T13:25:54.168Z"
   },
   {
    "duration": 18,
    "start_time": "2022-07-10T13:26:00.648Z"
   },
   {
    "duration": 12,
    "start_time": "2022-07-10T13:26:10.053Z"
   },
   {
    "duration": 13,
    "start_time": "2022-07-10T13:27:17.154Z"
   },
   {
    "duration": 5,
    "start_time": "2022-07-10T13:30:41.896Z"
   },
   {
    "duration": 59,
    "start_time": "2022-07-10T13:33:30.377Z"
   },
   {
    "duration": 65,
    "start_time": "2022-07-10T13:33:35.442Z"
   },
   {
    "duration": 52,
    "start_time": "2022-07-10T13:33:50.152Z"
   },
   {
    "duration": 144,
    "start_time": "2022-07-10T13:34:14.490Z"
   },
   {
    "duration": 10,
    "start_time": "2022-07-10T13:34:29.220Z"
   },
   {
    "duration": 13,
    "start_time": "2022-07-10T13:35:16.724Z"
   },
   {
    "duration": 10,
    "start_time": "2022-07-10T13:36:07.942Z"
   },
   {
    "duration": 6,
    "start_time": "2022-07-10T13:36:10.424Z"
   },
   {
    "duration": 101,
    "start_time": "2022-07-10T13:37:09.225Z"
   },
   {
    "duration": 16,
    "start_time": "2022-07-10T13:37:17.502Z"
   },
   {
    "duration": 17,
    "start_time": "2022-07-10T13:37:24.058Z"
   },
   {
    "duration": 9,
    "start_time": "2022-07-10T13:37:30.501Z"
   },
   {
    "duration": 5,
    "start_time": "2022-07-10T13:37:40.869Z"
   },
   {
    "duration": 5,
    "start_time": "2022-07-10T13:37:48.168Z"
   },
   {
    "duration": 10,
    "start_time": "2022-07-10T13:37:53.026Z"
   },
   {
    "duration": 19,
    "start_time": "2022-07-10T13:46:26.069Z"
   },
   {
    "duration": 12,
    "start_time": "2022-07-10T13:46:35.003Z"
   },
   {
    "duration": 16,
    "start_time": "2022-07-10T13:47:06.372Z"
   },
   {
    "duration": 19,
    "start_time": "2022-07-10T13:47:14.691Z"
   },
   {
    "duration": 17,
    "start_time": "2022-07-10T13:47:23.396Z"
   },
   {
    "duration": 7740,
    "start_time": "2022-07-11T04:15:14.899Z"
   },
   {
    "duration": 1286,
    "start_time": "2022-07-11T04:15:36.657Z"
   },
   {
    "duration": 45,
    "start_time": "2022-07-11T04:15:39.817Z"
   },
   {
    "duration": 4,
    "start_time": "2022-07-11T04:15:40.792Z"
   },
   {
    "duration": 12,
    "start_time": "2022-07-11T04:15:41.312Z"
   },
   {
    "duration": 11,
    "start_time": "2022-07-11T04:15:42.144Z"
   },
   {
    "duration": 4,
    "start_time": "2022-07-11T04:15:43.049Z"
   },
   {
    "duration": 2,
    "start_time": "2022-07-11T04:15:44.639Z"
   },
   {
    "duration": 3,
    "start_time": "2022-07-11T04:15:45.145Z"
   },
   {
    "duration": 20,
    "start_time": "2022-07-11T04:15:45.921Z"
   },
   {
    "duration": 5,
    "start_time": "2022-07-11T04:15:48.314Z"
   },
   {
    "duration": 3077,
    "start_time": "2022-07-11T04:15:51.584Z"
   },
   {
    "duration": 17,
    "start_time": "2022-07-11T04:16:45.994Z"
   },
   {
    "duration": 3,
    "start_time": "2022-07-11T04:16:48.015Z"
   },
   {
    "duration": 9,
    "start_time": "2022-07-11T04:16:48.791Z"
   },
   {
    "duration": 11,
    "start_time": "2022-07-11T04:16:55.230Z"
   },
   {
    "duration": 13,
    "start_time": "2022-07-11T04:17:12.175Z"
   },
   {
    "duration": 6,
    "start_time": "2022-07-11T04:17:18.415Z"
   },
   {
    "duration": 7,
    "start_time": "2022-07-11T04:17:36.794Z"
   },
   {
    "duration": 3,
    "start_time": "2022-07-11T04:17:39.878Z"
   },
   {
    "duration": 4,
    "start_time": "2022-07-11T04:17:41.182Z"
   },
   {
    "duration": 4,
    "start_time": "2022-07-11T04:17:41.918Z"
   },
   {
    "duration": 19,
    "start_time": "2022-07-11T04:17:46.303Z"
   },
   {
    "duration": 5,
    "start_time": "2022-07-11T04:19:04.677Z"
   },
   {
    "duration": 3,
    "start_time": "2022-07-11T04:23:44.879Z"
   },
   {
    "duration": 4,
    "start_time": "2022-07-11T04:26:16.307Z"
   },
   {
    "duration": 10,
    "start_time": "2022-07-11T04:27:11.748Z"
   },
   {
    "duration": 10,
    "start_time": "2022-07-11T04:27:13.642Z"
   },
   {
    "duration": 15,
    "start_time": "2022-07-11T04:27:36.419Z"
   },
   {
    "duration": 15,
    "start_time": "2022-07-11T04:27:49.842Z"
   },
   {
    "duration": 15,
    "start_time": "2022-07-11T04:28:08.673Z"
   },
   {
    "duration": 15,
    "start_time": "2022-07-11T04:28:15.321Z"
   },
   {
    "duration": 15,
    "start_time": "2022-07-11T04:30:20.143Z"
   },
   {
    "duration": 15,
    "start_time": "2022-07-11T04:33:06.564Z"
   },
   {
    "duration": 15,
    "start_time": "2022-07-11T04:33:08.445Z"
   },
   {
    "duration": 6,
    "start_time": "2022-07-11T04:35:57.506Z"
   },
   {
    "duration": 6,
    "start_time": "2022-07-11T04:36:13.889Z"
   },
   {
    "duration": 4,
    "start_time": "2022-07-11T04:36:48.689Z"
   },
   {
    "duration": 4,
    "start_time": "2022-07-11T04:37:26.240Z"
   },
   {
    "duration": 18,
    "start_time": "2022-07-11T04:37:50.022Z"
   },
   {
    "duration": 9,
    "start_time": "2022-07-11T04:38:27.916Z"
   },
   {
    "duration": 38,
    "start_time": "2022-07-11T04:38:59.046Z"
   },
   {
    "duration": 3,
    "start_time": "2022-07-11T04:44:32.487Z"
   },
   {
    "duration": 6,
    "start_time": "2022-07-11T04:46:15.302Z"
   },
   {
    "duration": 2,
    "start_time": "2022-07-11T04:46:16.915Z"
   },
   {
    "duration": 3,
    "start_time": "2022-07-11T04:46:17.718Z"
   },
   {
    "duration": 358,
    "start_time": "2022-07-11T04:46:20.566Z"
   },
   {
    "duration": 2,
    "start_time": "2022-07-11T04:46:29.301Z"
   },
   {
    "duration": 5,
    "start_time": "2022-07-11T04:47:10.982Z"
   },
   {
    "duration": 434,
    "start_time": "2022-07-11T04:47:28.108Z"
   },
   {
    "duration": 5,
    "start_time": "2022-07-11T05:04:04.551Z"
   },
   {
    "duration": 3,
    "start_time": "2022-07-11T05:04:36.159Z"
   },
   {
    "duration": 10,
    "start_time": "2022-07-11T05:04:49.198Z"
   },
   {
    "duration": 3,
    "start_time": "2022-07-11T05:05:42.048Z"
   },
   {
    "duration": 98,
    "start_time": "2022-07-11T05:05:43.259Z"
   },
   {
    "duration": 4,
    "start_time": "2022-07-11T05:05:46.261Z"
   },
   {
    "duration": 2,
    "start_time": "2022-07-11T05:05:46.644Z"
   },
   {
    "duration": 3,
    "start_time": "2022-07-11T05:05:47.436Z"
   },
   {
    "duration": 3,
    "start_time": "2022-07-11T05:05:48.453Z"
   },
   {
    "duration": 10,
    "start_time": "2022-07-11T05:06:12.069Z"
   },
   {
    "duration": 13,
    "start_time": "2022-07-11T05:09:22.057Z"
   },
   {
    "duration": 10,
    "start_time": "2022-07-11T05:09:59.929Z"
   },
   {
    "duration": 15,
    "start_time": "2022-07-11T05:10:11.731Z"
   },
   {
    "duration": 10,
    "start_time": "2022-07-11T05:10:15.057Z"
   },
   {
    "duration": 5,
    "start_time": "2022-07-11T05:31:43.941Z"
   },
   {
    "duration": 11,
    "start_time": "2022-07-11T06:17:48.361Z"
   },
   {
    "duration": 82,
    "start_time": "2022-07-11T06:17:57.186Z"
   },
   {
    "duration": 4,
    "start_time": "2022-07-11T06:18:41.901Z"
   },
   {
    "duration": 4,
    "start_time": "2022-07-11T06:18:55.280Z"
   },
   {
    "duration": 4,
    "start_time": "2022-07-11T06:18:59.461Z"
   },
   {
    "duration": 4,
    "start_time": "2022-07-11T06:21:41.493Z"
   },
   {
    "duration": 15,
    "start_time": "2022-07-11T06:23:31.475Z"
   },
   {
    "duration": 7,
    "start_time": "2022-07-11T06:29:45.373Z"
   },
   {
    "duration": 327,
    "start_time": "2022-07-11T06:31:33.089Z"
   },
   {
    "duration": 5,
    "start_time": "2022-07-11T06:31:42.025Z"
   },
   {
    "duration": 11,
    "start_time": "2022-07-11T06:32:04.358Z"
   },
   {
    "duration": 69,
    "start_time": "2022-07-11T06:41:29.181Z"
   },
   {
    "duration": 9,
    "start_time": "2022-07-11T06:41:35.859Z"
   },
   {
    "duration": 173,
    "start_time": "2022-07-11T07:06:14.476Z"
   },
   {
    "duration": 11,
    "start_time": "2022-07-11T07:06:33.000Z"
   },
   {
    "duration": 6,
    "start_time": "2022-07-11T07:08:53.915Z"
   },
   {
    "duration": 11,
    "start_time": "2022-07-11T07:09:17.242Z"
   },
   {
    "duration": 9,
    "start_time": "2022-07-11T07:10:09.060Z"
   },
   {
    "duration": 12,
    "start_time": "2022-07-11T07:13:41.221Z"
   },
   {
    "duration": 11,
    "start_time": "2022-07-11T07:14:10.117Z"
   },
   {
    "duration": 4,
    "start_time": "2022-07-11T07:19:56.630Z"
   },
   {
    "duration": 6,
    "start_time": "2022-07-11T07:20:31.278Z"
   },
   {
    "duration": 5,
    "start_time": "2022-07-11T07:20:45.222Z"
   },
   {
    "duration": 4,
    "start_time": "2022-07-11T07:26:43.134Z"
   },
   {
    "duration": 5,
    "start_time": "2022-07-11T07:28:28.142Z"
   },
   {
    "duration": 4,
    "start_time": "2022-07-11T07:30:11.261Z"
   },
   {
    "duration": 3,
    "start_time": "2022-07-11T07:32:07.721Z"
   },
   {
    "duration": 11,
    "start_time": "2022-07-11T07:32:24.592Z"
   },
   {
    "duration": 5,
    "start_time": "2022-07-11T07:32:38.425Z"
   },
   {
    "duration": 3,
    "start_time": "2022-07-11T07:33:25.208Z"
   },
   {
    "duration": 4,
    "start_time": "2022-07-11T07:33:33.321Z"
   },
   {
    "duration": 5,
    "start_time": "2022-07-11T07:33:50.757Z"
   },
   {
    "duration": 6,
    "start_time": "2022-07-11T07:38:25.491Z"
   },
   {
    "duration": 10,
    "start_time": "2022-07-11T07:39:25.370Z"
   },
   {
    "duration": 6,
    "start_time": "2022-07-11T07:41:22.955Z"
   },
   {
    "duration": 5,
    "start_time": "2022-07-11T07:49:07.335Z"
   },
   {
    "duration": 67,
    "start_time": "2022-07-11T07:50:33.900Z"
   },
   {
    "duration": 10,
    "start_time": "2022-07-11T07:50:44.459Z"
   },
   {
    "duration": 63,
    "start_time": "2022-07-11T07:50:51.821Z"
   },
   {
    "duration": 5,
    "start_time": "2022-07-11T08:12:40.314Z"
   },
   {
    "duration": 831,
    "start_time": "2022-07-11T08:13:10.398Z"
   },
   {
    "duration": 802,
    "start_time": "2022-07-11T08:13:48.065Z"
   },
   {
    "duration": 18,
    "start_time": "2022-07-11T08:14:01.488Z"
   },
   {
    "duration": 878,
    "start_time": "2022-07-11T08:14:07.772Z"
   },
   {
    "duration": 5,
    "start_time": "2022-07-11T08:14:16.960Z"
   },
   {
    "duration": 4,
    "start_time": "2022-07-11T08:14:31.897Z"
   },
   {
    "duration": 7,
    "start_time": "2022-07-11T08:14:40.416Z"
   },
   {
    "duration": 7,
    "start_time": "2022-07-11T08:14:48.719Z"
   },
   {
    "duration": 8,
    "start_time": "2022-07-11T08:15:03.749Z"
   },
   {
    "duration": 8,
    "start_time": "2022-07-11T08:16:03.678Z"
   },
   {
    "duration": 10,
    "start_time": "2022-07-11T08:17:31.092Z"
   },
   {
    "duration": 6,
    "start_time": "2022-07-11T08:17:50.354Z"
   },
   {
    "duration": 7,
    "start_time": "2022-07-11T08:18:02.701Z"
   },
   {
    "duration": 4,
    "start_time": "2022-07-11T08:21:11.594Z"
   },
   {
    "duration": 99,
    "start_time": "2022-07-11T08:21:26.044Z"
   },
   {
    "duration": 13,
    "start_time": "2022-07-11T08:22:08.664Z"
   },
   {
    "duration": 12,
    "start_time": "2022-07-11T08:22:20.992Z"
   },
   {
    "duration": 14,
    "start_time": "2022-07-11T08:22:37.239Z"
   },
   {
    "duration": 34,
    "start_time": "2022-07-11T08:24:28.318Z"
   },
   {
    "duration": 65,
    "start_time": "2022-07-11T08:27:29.878Z"
   },
   {
    "duration": 99,
    "start_time": "2022-07-11T08:28:09.644Z"
   },
   {
    "duration": 6,
    "start_time": "2022-07-11T08:34:31.663Z"
   },
   {
    "duration": 4,
    "start_time": "2022-07-11T08:34:37.430Z"
   },
   {
    "duration": 9,
    "start_time": "2022-07-11T08:34:51.570Z"
   },
   {
    "duration": 4,
    "start_time": "2022-07-11T08:35:01.925Z"
   },
   {
    "duration": 12,
    "start_time": "2022-07-11T08:35:24.308Z"
   },
   {
    "duration": 3,
    "start_time": "2022-07-11T08:35:50.637Z"
   },
   {
    "duration": 6,
    "start_time": "2022-07-11T08:35:55.552Z"
   },
   {
    "duration": 3,
    "start_time": "2022-07-11T08:35:56.371Z"
   },
   {
    "duration": 4,
    "start_time": "2022-07-11T08:36:09.555Z"
   },
   {
    "duration": 7,
    "start_time": "2022-07-11T08:36:11.043Z"
   },
   {
    "duration": 4,
    "start_time": "2022-07-11T08:36:16.482Z"
   },
   {
    "duration": 12,
    "start_time": "2022-07-11T08:36:23.290Z"
   },
   {
    "duration": 4,
    "start_time": "2022-07-11T08:36:46.225Z"
   },
   {
    "duration": 14,
    "start_time": "2022-07-11T08:37:30.330Z"
   },
   {
    "duration": 9,
    "start_time": "2022-07-11T08:38:13.270Z"
   },
   {
    "duration": 19,
    "start_time": "2022-07-11T08:38:21.677Z"
   },
   {
    "duration": 13,
    "start_time": "2022-07-11T08:39:31.103Z"
   },
   {
    "duration": 4,
    "start_time": "2022-07-11T08:46:54.862Z"
   },
   {
    "duration": 3,
    "start_time": "2022-07-11T08:46:55.558Z"
   },
   {
    "duration": 4,
    "start_time": "2022-07-11T08:46:57.318Z"
   },
   {
    "duration": 4,
    "start_time": "2022-07-11T08:46:58.423Z"
   },
   {
    "duration": 3,
    "start_time": "2022-07-11T08:47:06.128Z"
   },
   {
    "duration": 5,
    "start_time": "2022-07-11T08:47:24.168Z"
   },
   {
    "duration": 10,
    "start_time": "2022-07-11T08:47:47.257Z"
   },
   {
    "duration": 8,
    "start_time": "2022-07-11T09:25:06.606Z"
   },
   {
    "duration": 8,
    "start_time": "2022-07-11T09:25:19.610Z"
   },
   {
    "duration": 17,
    "start_time": "2022-07-11T09:25:26.439Z"
   },
   {
    "duration": 4,
    "start_time": "2022-07-11T09:25:27.270Z"
   },
   {
    "duration": 8,
    "start_time": "2022-07-11T09:25:27.733Z"
   },
   {
    "duration": 8,
    "start_time": "2022-07-11T09:25:28.622Z"
   },
   {
    "duration": 11,
    "start_time": "2022-07-11T09:27:18.628Z"
   },
   {
    "duration": 50,
    "start_time": "2022-07-11T09:27:34.219Z"
   },
   {
    "duration": 5,
    "start_time": "2022-07-11T09:27:39.923Z"
   },
   {
    "duration": 8,
    "start_time": "2022-07-11T09:28:07.891Z"
   },
   {
    "duration": 5,
    "start_time": "2022-07-11T09:28:13.124Z"
   },
   {
    "duration": 6,
    "start_time": "2022-07-11T09:28:49.107Z"
   },
   {
    "duration": 5,
    "start_time": "2022-07-11T09:29:27.522Z"
   },
   {
    "duration": 4,
    "start_time": "2022-07-11T09:29:44.833Z"
   },
   {
    "duration": 3,
    "start_time": "2022-07-11T09:29:45.824Z"
   },
   {
    "duration": 4,
    "start_time": "2022-07-11T09:29:46.576Z"
   },
   {
    "duration": 26,
    "start_time": "2022-07-11T09:29:48.185Z"
   },
   {
    "duration": 11,
    "start_time": "2022-07-11T09:31:06.720Z"
   },
   {
    "duration": 1386,
    "start_time": "2022-07-11T09:31:21.879Z"
   },
   {
    "duration": 10,
    "start_time": "2022-07-11T09:31:52.375Z"
   },
   {
    "duration": 3,
    "start_time": "2022-07-11T09:32:18.021Z"
   },
   {
    "duration": 7042,
    "start_time": "2022-07-11T09:32:22.966Z"
   },
   {
    "duration": 8244,
    "start_time": "2022-07-11T09:32:39.789Z"
   },
   {
    "duration": 909,
    "start_time": "2022-07-11T09:33:07.024Z"
   },
   {
    "duration": 945,
    "start_time": "2022-07-11T09:33:34.755Z"
   },
   {
    "duration": 1164,
    "start_time": "2022-07-11T09:33:44.637Z"
   },
   {
    "duration": 3,
    "start_time": "2022-07-11T09:40:47.381Z"
   },
   {
    "duration": 4,
    "start_time": "2022-07-11T09:40:47.958Z"
   },
   {
    "duration": 10,
    "start_time": "2022-07-11T09:40:51.972Z"
   },
   {
    "duration": 9,
    "start_time": "2022-07-11T09:40:52.308Z"
   },
   {
    "duration": 15,
    "start_time": "2022-07-11T09:40:53.701Z"
   },
   {
    "duration": 17,
    "start_time": "2022-07-11T09:40:54.645Z"
   },
   {
    "duration": 17,
    "start_time": "2022-07-11T09:40:59.730Z"
   },
   {
    "duration": 15,
    "start_time": "2022-07-11T09:41:01.179Z"
   },
   {
    "duration": 15,
    "start_time": "2022-07-11T09:41:08.326Z"
   },
   {
    "duration": 14,
    "start_time": "2022-07-11T09:41:09.412Z"
   },
   {
    "duration": 15,
    "start_time": "2022-07-11T09:41:09.828Z"
   },
   {
    "duration": 5,
    "start_time": "2022-07-11T09:41:19.755Z"
   },
   {
    "duration": 5,
    "start_time": "2022-07-11T09:41:20.274Z"
   },
   {
    "duration": 3,
    "start_time": "2022-07-11T09:41:20.573Z"
   },
   {
    "duration": 3,
    "start_time": "2022-07-11T09:41:21.139Z"
   },
   {
    "duration": 7,
    "start_time": "2022-07-11T09:41:21.531Z"
   },
   {
    "duration": 2,
    "start_time": "2022-07-11T09:41:21.907Z"
   },
   {
    "duration": 3,
    "start_time": "2022-07-11T09:41:22.387Z"
   },
   {
    "duration": 379,
    "start_time": "2022-07-11T09:41:27.130Z"
   },
   {
    "duration": 3,
    "start_time": "2022-07-11T09:41:27.512Z"
   },
   {
    "duration": 6,
    "start_time": "2022-07-11T09:41:27.883Z"
   },
   {
    "duration": 323,
    "start_time": "2022-07-11T09:41:28.060Z"
   },
   {
    "duration": 9,
    "start_time": "2022-07-11T09:41:40.530Z"
   },
   {
    "duration": 19,
    "start_time": "2022-07-11T09:41:44.125Z"
   },
   {
    "duration": 4,
    "start_time": "2022-07-11T09:43:25.125Z"
   },
   {
    "duration": 3,
    "start_time": "2022-07-11T09:43:27.233Z"
   },
   {
    "duration": 12,
    "start_time": "2022-07-11T09:43:29.944Z"
   },
   {
    "duration": 65,
    "start_time": "2022-07-11T09:45:26.079Z"
   },
   {
    "duration": 6,
    "start_time": "2022-07-11T09:45:46.186Z"
   },
   {
    "duration": 5,
    "start_time": "2022-07-11T09:45:46.333Z"
   },
   {
    "duration": 10,
    "start_time": "2022-07-11T09:45:46.629Z"
   },
   {
    "duration": 5,
    "start_time": "2022-07-11T09:45:47.381Z"
   },
   {
    "duration": 3,
    "start_time": "2022-07-11T09:45:47.710Z"
   },
   {
    "duration": 3,
    "start_time": "2022-07-11T09:45:48.598Z"
   },
   {
    "duration": 6,
    "start_time": "2022-07-11T09:45:49.429Z"
   },
   {
    "duration": 5,
    "start_time": "2022-07-11T09:45:50.769Z"
   },
   {
    "duration": 5,
    "start_time": "2022-07-11T09:45:51.478Z"
   },
   {
    "duration": 5,
    "start_time": "2022-07-11T09:50:21.728Z"
   },
   {
    "duration": 52,
    "start_time": "2022-07-11T09:50:59.129Z"
   },
   {
    "duration": 9,
    "start_time": "2022-07-11T09:51:42.125Z"
   },
   {
    "duration": 5,
    "start_time": "2022-07-11T09:55:46.225Z"
   },
   {
    "duration": 3,
    "start_time": "2022-07-11T09:55:46.690Z"
   },
   {
    "duration": 4,
    "start_time": "2022-07-11T10:00:15.899Z"
   },
   {
    "duration": 3,
    "start_time": "2022-07-11T10:00:17.868Z"
   },
   {
    "duration": 9,
    "start_time": "2022-07-11T10:02:39.651Z"
   },
   {
    "duration": 9,
    "start_time": "2022-07-11T10:04:03.030Z"
   },
   {
    "duration": 58,
    "start_time": "2022-07-11T10:05:15.647Z"
   },
   {
    "duration": 50,
    "start_time": "2022-07-11T11:10:54.762Z"
   },
   {
    "duration": 65,
    "start_time": "2022-07-11T11:10:59.349Z"
   },
   {
    "duration": 83,
    "start_time": "2022-07-11T11:15:12.595Z"
   },
   {
    "duration": 166,
    "start_time": "2022-07-11T11:21:43.395Z"
   },
   {
    "duration": 179,
    "start_time": "2022-07-11T11:26:36.212Z"
   },
   {
    "duration": 10,
    "start_time": "2022-07-11T12:21:14.551Z"
   },
   {
    "duration": 3,
    "start_time": "2022-07-11T12:43:16.064Z"
   },
   {
    "duration": 4,
    "start_time": "2022-07-11T12:43:58.419Z"
   },
   {
    "duration": 4,
    "start_time": "2022-07-11T12:43:59.569Z"
   },
   {
    "duration": 5,
    "start_time": "2022-07-11T12:44:17.556Z"
   },
   {
    "duration": 3,
    "start_time": "2022-07-11T12:44:59.212Z"
   },
   {
    "duration": 4,
    "start_time": "2022-07-11T12:45:00.034Z"
   },
   {
    "duration": 3,
    "start_time": "2022-07-11T12:46:12.253Z"
   },
   {
    "duration": 4,
    "start_time": "2022-07-11T12:46:12.731Z"
   },
   {
    "duration": 4,
    "start_time": "2022-07-11T12:47:54.361Z"
   },
   {
    "duration": 12,
    "start_time": "2022-07-11T12:48:12.057Z"
   },
   {
    "duration": 4,
    "start_time": "2022-07-11T12:48:26.063Z"
   },
   {
    "duration": 12,
    "start_time": "2022-07-11T12:48:41.263Z"
   },
   {
    "duration": 6,
    "start_time": "2022-07-11T12:49:37.086Z"
   },
   {
    "duration": 7,
    "start_time": "2022-07-11T12:49:42.976Z"
   },
   {
    "duration": 4,
    "start_time": "2022-07-11T12:50:02.134Z"
   },
   {
    "duration": 4,
    "start_time": "2022-07-11T12:50:17.533Z"
   },
   {
    "duration": 4,
    "start_time": "2022-07-11T12:50:50.157Z"
   },
   {
    "duration": 7,
    "start_time": "2022-07-11T12:50:50.163Z"
   },
   {
    "duration": 8,
    "start_time": "2022-07-11T12:50:50.653Z"
   },
   {
    "duration": 5,
    "start_time": "2022-07-11T12:51:12.454Z"
   },
   {
    "duration": 12,
    "start_time": "2022-07-11T12:55:58.133Z"
   },
   {
    "duration": 5,
    "start_time": "2022-07-11T12:56:01.272Z"
   },
   {
    "duration": 11,
    "start_time": "2022-07-11T12:56:01.471Z"
   },
   {
    "duration": 3,
    "start_time": "2022-07-11T12:56:25.822Z"
   },
   {
    "duration": 4,
    "start_time": "2022-07-11T12:56:34.152Z"
   },
   {
    "duration": 5,
    "start_time": "2022-07-11T12:56:34.402Z"
   },
   {
    "duration": 6,
    "start_time": "2022-07-11T12:56:34.701Z"
   },
   {
    "duration": 5,
    "start_time": "2022-07-11T12:56:37.553Z"
   },
   {
    "duration": 12,
    "start_time": "2022-07-11T12:56:37.997Z"
   },
   {
    "duration": 47,
    "start_time": "2022-07-11T12:57:01.352Z"
   },
   {
    "duration": 5,
    "start_time": "2022-07-11T12:57:06.335Z"
   },
   {
    "duration": 10,
    "start_time": "2022-07-11T12:57:06.739Z"
   },
   {
    "duration": 3,
    "start_time": "2022-07-11T13:00:57.680Z"
   },
   {
    "duration": 123,
    "start_time": "2022-07-11T13:01:07.757Z"
   },
   {
    "duration": 52,
    "start_time": "2022-07-11T13:01:15.511Z"
   },
   {
    "duration": 52,
    "start_time": "2022-07-11T13:01:44.319Z"
   },
   {
    "duration": 13,
    "start_time": "2022-07-11T13:01:54.694Z"
   },
   {
    "duration": 25,
    "start_time": "2022-07-11T13:02:11.294Z"
   },
   {
    "duration": 10,
    "start_time": "2022-07-11T13:04:40.419Z"
   },
   {
    "duration": 12,
    "start_time": "2022-07-11T13:04:55.019Z"
   },
   {
    "duration": 5,
    "start_time": "2022-07-11T13:05:44.305Z"
   },
   {
    "duration": 3,
    "start_time": "2022-07-11T13:05:44.457Z"
   },
   {
    "duration": 13,
    "start_time": "2022-07-11T13:05:44.595Z"
   },
   {
    "duration": 9,
    "start_time": "2022-07-11T13:08:25.583Z"
   },
   {
    "duration": 11,
    "start_time": "2022-07-11T13:08:32.224Z"
   },
   {
    "duration": 5,
    "start_time": "2022-07-11T13:10:45.372Z"
   },
   {
    "duration": 11,
    "start_time": "2022-07-11T13:10:49.828Z"
   },
   {
    "duration": 11,
    "start_time": "2022-07-11T13:13:21.860Z"
   },
   {
    "duration": 12,
    "start_time": "2022-07-11T13:14:29.624Z"
   },
   {
    "duration": 11,
    "start_time": "2022-07-11T13:15:24.384Z"
   },
   {
    "duration": 3,
    "start_time": "2022-07-11T13:16:39.646Z"
   },
   {
    "duration": 3,
    "start_time": "2022-07-11T13:16:48.124Z"
   },
   {
    "duration": 2364,
    "start_time": "2022-07-11T13:24:23.914Z"
   },
   {
    "duration": 4,
    "start_time": "2022-07-11T13:24:26.498Z"
   },
   {
    "duration": 18,
    "start_time": "2022-07-11T13:24:29.402Z"
   },
   {
    "duration": 4,
    "start_time": "2022-07-11T13:24:30.290Z"
   },
   {
    "duration": 9,
    "start_time": "2022-07-11T13:24:30.866Z"
   },
   {
    "duration": 8,
    "start_time": "2022-07-11T13:24:31.654Z"
   },
   {
    "duration": 9,
    "start_time": "2022-07-11T13:24:32.977Z"
   },
   {
    "duration": 10,
    "start_time": "2022-07-11T13:24:34.138Z"
   },
   {
    "duration": 6,
    "start_time": "2022-07-11T13:24:35.833Z"
   },
   {
    "duration": 7,
    "start_time": "2022-07-11T13:24:40.115Z"
   },
   {
    "duration": 3,
    "start_time": "2022-07-11T13:26:08.576Z"
   },
   {
    "duration": 2,
    "start_time": "2022-07-11T13:26:09.440Z"
   },
   {
    "duration": 4,
    "start_time": "2022-07-11T13:26:11.264Z"
   },
   {
    "duration": 23,
    "start_time": "2022-07-11T13:26:13.625Z"
   },
   {
    "duration": 1119,
    "start_time": "2022-07-11T13:26:26.080Z"
   },
   {
    "duration": 3360,
    "start_time": "2022-07-11T13:26:37.887Z"
   },
   {
    "duration": 3,
    "start_time": "2022-07-11T13:26:54.199Z"
   },
   {
    "duration": 4,
    "start_time": "2022-07-11T13:27:01.193Z"
   },
   {
    "duration": 11,
    "start_time": "2022-07-11T13:27:02.415Z"
   },
   {
    "duration": 10,
    "start_time": "2022-07-11T13:27:03.528Z"
   },
   {
    "duration": 15,
    "start_time": "2022-07-11T13:27:16.910Z"
   },
   {
    "duration": 17,
    "start_time": "2022-07-11T13:27:26.663Z"
   },
   {
    "duration": 17,
    "start_time": "2022-07-11T13:27:29.111Z"
   },
   {
    "duration": 16,
    "start_time": "2022-07-11T13:27:29.933Z"
   },
   {
    "duration": 20,
    "start_time": "2022-07-11T13:28:14.462Z"
   },
   {
    "duration": 19,
    "start_time": "2022-07-11T13:28:44.517Z"
   },
   {
    "duration": 209,
    "start_time": "2022-07-11T13:28:45.597Z"
   },
   {
    "duration": 5,
    "start_time": "2022-07-11T13:29:01.077Z"
   },
   {
    "duration": 6,
    "start_time": "2022-07-11T13:29:05.349Z"
   },
   {
    "duration": 4,
    "start_time": "2022-07-11T13:29:07.933Z"
   },
   {
    "duration": 4,
    "start_time": "2022-07-11T13:29:16.724Z"
   },
   {
    "duration": 7,
    "start_time": "2022-07-11T13:29:17.828Z"
   },
   {
    "duration": 6,
    "start_time": "2022-07-11T13:30:05.131Z"
   },
   {
    "duration": 407,
    "start_time": "2022-07-11T13:30:06.060Z"
   },
   {
    "duration": 7,
    "start_time": "2022-07-11T13:30:27.151Z"
   },
   {
    "duration": 347,
    "start_time": "2022-07-11T13:30:27.618Z"
   },
   {
    "duration": 2,
    "start_time": "2022-07-11T13:30:50.218Z"
   },
   {
    "duration": 5,
    "start_time": "2022-07-11T13:31:17.721Z"
   },
   {
    "duration": 4,
    "start_time": "2022-07-11T13:31:19.281Z"
   },
   {
    "duration": 10,
    "start_time": "2022-07-11T13:31:40.440Z"
   },
   {
    "duration": 10,
    "start_time": "2022-07-11T13:32:00.007Z"
   },
   {
    "duration": 10,
    "start_time": "2022-07-11T13:32:56.294Z"
   },
   {
    "duration": 4,
    "start_time": "2022-07-11T13:33:43.229Z"
   },
   {
    "duration": 7,
    "start_time": "2022-07-11T13:33:44.406Z"
   },
   {
    "duration": 3,
    "start_time": "2022-07-11T13:33:55.374Z"
   },
   {
    "duration": 4,
    "start_time": "2022-07-11T13:33:55.808Z"
   },
   {
    "duration": 4,
    "start_time": "2022-07-11T13:33:59.814Z"
   },
   {
    "duration": 4,
    "start_time": "2022-07-11T13:34:00.158Z"
   },
   {
    "duration": 4,
    "start_time": "2022-07-11T13:34:02.853Z"
   },
   {
    "duration": 7,
    "start_time": "2022-07-11T13:34:07.229Z"
   },
   {
    "duration": 5,
    "start_time": "2022-07-11T13:34:22.581Z"
   },
   {
    "duration": 9,
    "start_time": "2022-07-11T13:34:34.693Z"
   },
   {
    "duration": 4,
    "start_time": "2022-07-11T13:40:57.460Z"
   },
   {
    "duration": 3,
    "start_time": "2022-07-11T13:40:57.645Z"
   },
   {
    "duration": 5,
    "start_time": "2022-07-11T13:40:57.925Z"
   },
   {
    "duration": 5,
    "start_time": "2022-07-11T13:41:08.724Z"
   },
   {
    "duration": 3,
    "start_time": "2022-07-11T13:41:09.614Z"
   },
   {
    "duration": 13,
    "start_time": "2022-07-11T13:41:12.565Z"
   },
   {
    "duration": 11,
    "start_time": "2022-07-11T13:41:16.483Z"
   },
   {
    "duration": 4,
    "start_time": "2022-07-11T13:41:16.900Z"
   },
   {
    "duration": 10,
    "start_time": "2022-07-11T13:41:17.613Z"
   },
   {
    "duration": 4,
    "start_time": "2022-07-11T13:41:24.115Z"
   },
   {
    "duration": 3,
    "start_time": "2022-07-11T13:42:13.589Z"
   },
   {
    "duration": 8,
    "start_time": "2022-07-11T13:52:02.858Z"
   },
   {
    "duration": 12,
    "start_time": "2022-07-11T14:20:11.823Z"
   },
   {
    "duration": 5,
    "start_time": "2022-07-11T14:20:45.159Z"
   },
   {
    "duration": 5,
    "start_time": "2022-07-11T14:23:57.165Z"
   },
   {
    "duration": 4,
    "start_time": "2022-07-11T14:24:17.167Z"
   },
   {
    "duration": 4,
    "start_time": "2022-07-11T14:24:28.507Z"
   },
   {
    "duration": 5,
    "start_time": "2022-07-11T14:24:40.762Z"
   },
   {
    "duration": 5,
    "start_time": "2022-07-11T14:29:38.790Z"
   },
   {
    "duration": 9,
    "start_time": "2022-07-11T14:31:29.528Z"
   },
   {
    "duration": 570,
    "start_time": "2022-07-11T14:31:37.081Z"
   },
   {
    "duration": 20,
    "start_time": "2022-07-11T14:31:46.497Z"
   },
   {
    "duration": 452,
    "start_time": "2022-07-11T14:32:03.128Z"
   },
   {
    "duration": 5,
    "start_time": "2022-07-11T14:32:05.830Z"
   },
   {
    "duration": 10,
    "start_time": "2022-07-11T14:32:37.705Z"
   },
   {
    "duration": 8,
    "start_time": "2022-07-11T14:33:37.566Z"
   },
   {
    "duration": 13,
    "start_time": "2022-07-11T14:36:13.974Z"
   },
   {
    "duration": 11,
    "start_time": "2022-07-11T14:36:25.323Z"
   },
   {
    "duration": 10,
    "start_time": "2022-07-11T14:36:36.868Z"
   },
   {
    "duration": 10,
    "start_time": "2022-07-11T14:36:45.123Z"
   },
   {
    "duration": 14,
    "start_time": "2022-07-11T14:36:58.085Z"
   },
   {
    "duration": 11,
    "start_time": "2022-07-11T14:37:13.206Z"
   },
   {
    "duration": 2355,
    "start_time": "2022-07-11T14:37:50.759Z"
   },
   {
    "duration": 4,
    "start_time": "2022-07-11T14:37:53.116Z"
   },
   {
    "duration": 22,
    "start_time": "2022-07-11T14:37:53.122Z"
   },
   {
    "duration": 4,
    "start_time": "2022-07-11T14:37:53.146Z"
   },
   {
    "duration": 15,
    "start_time": "2022-07-11T14:37:53.151Z"
   },
   {
    "duration": 13,
    "start_time": "2022-07-11T14:37:53.168Z"
   },
   {
    "duration": 14,
    "start_time": "2022-07-11T14:37:53.184Z"
   },
   {
    "duration": 14,
    "start_time": "2022-07-11T14:37:53.200Z"
   },
   {
    "duration": 7,
    "start_time": "2022-07-11T14:37:53.685Z"
   },
   {
    "duration": 8,
    "start_time": "2022-07-11T14:37:54.439Z"
   },
   {
    "duration": 4,
    "start_time": "2022-07-11T14:37:55.123Z"
   },
   {
    "duration": 2,
    "start_time": "2022-07-11T14:37:55.399Z"
   },
   {
    "duration": 4,
    "start_time": "2022-07-11T14:37:55.598Z"
   },
   {
    "duration": 23,
    "start_time": "2022-07-11T14:37:55.791Z"
   },
   {
    "duration": 1012,
    "start_time": "2022-07-11T14:37:56.399Z"
   },
   {
    "duration": 3627,
    "start_time": "2022-07-11T14:37:57.591Z"
   },
   {
    "duration": 4,
    "start_time": "2022-07-11T14:38:01.220Z"
   },
   {
    "duration": 40,
    "start_time": "2022-07-11T14:38:01.225Z"
   },
   {
    "duration": 33,
    "start_time": "2022-07-11T14:38:01.267Z"
   },
   {
    "duration": 28,
    "start_time": "2022-07-11T14:38:01.302Z"
   },
   {
    "duration": 17,
    "start_time": "2022-07-11T14:38:01.813Z"
   },
   {
    "duration": 21,
    "start_time": "2022-07-11T14:38:02.348Z"
   },
   {
    "duration": 16,
    "start_time": "2022-07-11T14:38:02.767Z"
   },
   {
    "duration": 22,
    "start_time": "2022-07-11T14:38:03.199Z"
   },
   {
    "duration": 21,
    "start_time": "2022-07-11T14:38:04.223Z"
   },
   {
    "duration": 23,
    "start_time": "2022-07-11T14:38:05.349Z"
   },
   {
    "duration": 19,
    "start_time": "2022-07-11T14:38:05.712Z"
   },
   {
    "duration": 5,
    "start_time": "2022-07-11T14:38:07.465Z"
   },
   {
    "duration": 6,
    "start_time": "2022-07-11T14:38:07.871Z"
   },
   {
    "duration": 5,
    "start_time": "2022-07-11T14:38:08.318Z"
   },
   {
    "duration": 4,
    "start_time": "2022-07-11T14:38:08.831Z"
   },
   {
    "duration": 6,
    "start_time": "2022-07-11T14:38:11.189Z"
   },
   {
    "duration": 407,
    "start_time": "2022-07-11T14:38:11.614Z"
   },
   {
    "duration": 7,
    "start_time": "2022-07-11T14:38:12.638Z"
   },
   {
    "duration": 337,
    "start_time": "2022-07-11T14:38:12.991Z"
   },
   {
    "duration": 19,
    "start_time": "2022-07-11T14:38:13.331Z"
   },
   {
    "duration": 10,
    "start_time": "2022-07-11T14:38:13.696Z"
   },
   {
    "duration": 7,
    "start_time": "2022-07-11T14:38:29.906Z"
   },
   {
    "duration": 3,
    "start_time": "2022-07-11T14:38:30.440Z"
   },
   {
    "duration": 13,
    "start_time": "2022-07-11T14:38:31.718Z"
   },
   {
    "duration": 9,
    "start_time": "2022-07-11T14:38:32.950Z"
   },
   {
    "duration": 4,
    "start_time": "2022-07-11T14:38:34.918Z"
   },
   {
    "duration": 3,
    "start_time": "2022-07-11T14:38:35.405Z"
   },
   {
    "duration": 3,
    "start_time": "2022-07-11T14:38:35.933Z"
   },
   {
    "duration": 4,
    "start_time": "2022-07-11T14:38:36.318Z"
   },
   {
    "duration": 3,
    "start_time": "2022-07-11T14:38:37.272Z"
   },
   {
    "duration": 5,
    "start_time": "2022-07-11T14:38:38.094Z"
   },
   {
    "duration": 7,
    "start_time": "2022-07-11T14:38:38.934Z"
   },
   {
    "duration": 11,
    "start_time": "2022-07-11T14:38:40.344Z"
   },
   {
    "duration": 4,
    "start_time": "2022-07-11T14:38:47.597Z"
   },
   {
    "duration": 3,
    "start_time": "2022-07-11T14:38:47.974Z"
   },
   {
    "duration": 5,
    "start_time": "2022-07-11T14:38:48.487Z"
   },
   {
    "duration": 5,
    "start_time": "2022-07-11T14:38:49.221Z"
   },
   {
    "duration": 3,
    "start_time": "2022-07-11T14:38:49.519Z"
   },
   {
    "duration": 11,
    "start_time": "2022-07-11T14:38:49.966Z"
   },
   {
    "duration": 12,
    "start_time": "2022-07-11T14:38:50.907Z"
   },
   {
    "duration": 6,
    "start_time": "2022-07-11T14:38:51.421Z"
   },
   {
    "duration": 11,
    "start_time": "2022-07-11T14:38:51.935Z"
   },
   {
    "duration": 3,
    "start_time": "2022-07-11T14:38:53.254Z"
   },
   {
    "duration": 150,
    "start_time": "2022-07-11T14:47:23.858Z"
   },
   {
    "duration": 1109,
    "start_time": "2022-07-11T15:02:21.492Z"
   },
   {
    "duration": 2448,
    "start_time": "2022-07-11T15:02:28.392Z"
   },
   {
    "duration": 4,
    "start_time": "2022-07-11T15:02:30.842Z"
   },
   {
    "duration": 37,
    "start_time": "2022-07-11T15:02:30.847Z"
   },
   {
    "duration": 4,
    "start_time": "2022-07-11T15:02:30.886Z"
   },
   {
    "duration": 25,
    "start_time": "2022-07-11T15:02:30.892Z"
   },
   {
    "duration": 20,
    "start_time": "2022-07-11T15:02:30.920Z"
   },
   {
    "duration": 32,
    "start_time": "2022-07-11T15:02:30.942Z"
   },
   {
    "duration": 28,
    "start_time": "2022-07-11T15:02:30.976Z"
   },
   {
    "duration": 15,
    "start_time": "2022-07-11T15:02:31.006Z"
   },
   {
    "duration": 29,
    "start_time": "2022-07-11T15:02:31.024Z"
   },
   {
    "duration": 23,
    "start_time": "2022-07-11T15:02:31.055Z"
   },
   {
    "duration": 12,
    "start_time": "2022-07-11T15:02:31.080Z"
   },
   {
    "duration": 18,
    "start_time": "2022-07-11T15:02:31.094Z"
   },
   {
    "duration": 31,
    "start_time": "2022-07-11T15:02:31.114Z"
   },
   {
    "duration": 1084,
    "start_time": "2022-07-11T15:02:31.147Z"
   },
   {
    "duration": 3810,
    "start_time": "2022-07-11T15:02:32.233Z"
   },
   {
    "duration": 3,
    "start_time": "2022-07-11T15:02:36.045Z"
   },
   {
    "duration": 36,
    "start_time": "2022-07-11T15:02:36.051Z"
   },
   {
    "duration": 48,
    "start_time": "2022-07-11T15:02:36.090Z"
   },
   {
    "duration": 19,
    "start_time": "2022-07-11T15:02:36.140Z"
   },
   {
    "duration": 45,
    "start_time": "2022-07-11T15:02:36.161Z"
   },
   {
    "duration": 19,
    "start_time": "2022-07-11T15:02:36.207Z"
   },
   {
    "duration": 31,
    "start_time": "2022-07-11T15:02:36.228Z"
   },
   {
    "duration": 31,
    "start_time": "2022-07-11T15:02:36.261Z"
   },
   {
    "duration": 22,
    "start_time": "2022-07-11T15:02:36.294Z"
   },
   {
    "duration": 37,
    "start_time": "2022-07-11T15:02:36.318Z"
   },
   {
    "duration": 28,
    "start_time": "2022-07-11T15:02:36.357Z"
   },
   {
    "duration": 30,
    "start_time": "2022-07-11T15:02:36.388Z"
   },
   {
    "duration": 30,
    "start_time": "2022-07-11T15:02:36.420Z"
   },
   {
    "duration": 27,
    "start_time": "2022-07-11T15:02:36.452Z"
   },
   {
    "duration": 47,
    "start_time": "2022-07-11T15:02:36.481Z"
   },
   {
    "duration": 25,
    "start_time": "2022-07-11T15:02:36.530Z"
   },
   {
    "duration": 407,
    "start_time": "2022-07-11T15:02:36.557Z"
   },
   {
    "duration": 7,
    "start_time": "2022-07-11T15:02:36.966Z"
   },
   {
    "duration": 384,
    "start_time": "2022-07-11T15:02:36.975Z"
   },
   {
    "duration": 13,
    "start_time": "2022-07-11T15:02:37.361Z"
   },
   {
    "duration": 7,
    "start_time": "2022-07-11T15:02:37.376Z"
   },
   {
    "duration": 14,
    "start_time": "2022-07-11T15:02:37.384Z"
   },
   {
    "duration": 43,
    "start_time": "2022-07-11T15:02:37.400Z"
   },
   {
    "duration": 10,
    "start_time": "2022-07-11T15:02:37.445Z"
   },
   {
    "duration": 102,
    "start_time": "2022-07-11T15:02:37.457Z"
   },
   {
    "duration": 81,
    "start_time": "2022-07-11T15:02:37.563Z"
   },
   {
    "duration": 9,
    "start_time": "2022-07-11T15:02:37.647Z"
   },
   {
    "duration": 6,
    "start_time": "2022-07-11T15:02:37.658Z"
   },
   {
    "duration": 10,
    "start_time": "2022-07-11T15:02:37.666Z"
   },
   {
    "duration": 14,
    "start_time": "2022-07-11T15:02:37.679Z"
   },
   {
    "duration": 49,
    "start_time": "2022-07-11T15:02:37.695Z"
   },
   {
    "duration": 11,
    "start_time": "2022-07-11T15:02:39.502Z"
   },
   {
    "duration": 6,
    "start_time": "2022-07-11T15:02:50.227Z"
   },
   {
    "duration": 4,
    "start_time": "2022-07-11T15:02:50.674Z"
   },
   {
    "duration": 11,
    "start_time": "2022-07-11T15:02:51.427Z"
   },
   {
    "duration": 7,
    "start_time": "2022-07-11T15:03:02.683Z"
   },
   {
    "duration": 3,
    "start_time": "2022-07-11T15:03:02.850Z"
   },
   {
    "duration": 15,
    "start_time": "2022-07-11T15:03:03.020Z"
   },
   {
    "duration": 12,
    "start_time": "2022-07-11T15:03:20.187Z"
   },
   {
    "duration": 11,
    "start_time": "2022-07-11T15:03:20.715Z"
   },
   {
    "duration": 5,
    "start_time": "2022-07-11T15:03:21.051Z"
   },
   {
    "duration": 13,
    "start_time": "2022-07-11T15:03:21.436Z"
   },
   {
    "duration": 4,
    "start_time": "2022-07-11T15:03:22.179Z"
   },
   {
    "duration": 5,
    "start_time": "2022-07-11T15:03:37.002Z"
   },
   {
    "duration": 59,
    "start_time": "2022-07-14T06:07:49.958Z"
   },
   {
    "duration": 92,
    "start_time": "2022-07-14T06:26:47.737Z"
   },
   {
    "duration": 105,
    "start_time": "2022-07-14T06:28:18.412Z"
   },
   {
    "duration": 52,
    "start_time": "2022-07-14T06:35:44.064Z"
   },
   {
    "duration": 48,
    "start_time": "2022-07-14T06:37:07.851Z"
   },
   {
    "duration": 56,
    "start_time": "2022-07-14T06:37:33.113Z"
   },
   {
    "duration": 125,
    "start_time": "2022-07-14T06:39:03.705Z"
   },
   {
    "duration": 57,
    "start_time": "2022-07-14T07:11:35.388Z"
   },
   {
    "duration": 9547,
    "start_time": "2022-07-14T07:11:50.201Z"
   },
   {
    "duration": 1560,
    "start_time": "2022-07-14T07:11:59.750Z"
   },
   {
    "duration": 77,
    "start_time": "2022-07-14T07:12:01.312Z"
   },
   {
    "duration": 6,
    "start_time": "2022-07-14T07:12:01.392Z"
   },
   {
    "duration": 74,
    "start_time": "2022-07-14T07:12:01.399Z"
   },
   {
    "duration": 31,
    "start_time": "2022-07-14T07:12:01.475Z"
   },
   {
    "duration": 40,
    "start_time": "2022-07-14T07:12:01.507Z"
   },
   {
    "duration": 36,
    "start_time": "2022-07-14T07:12:01.549Z"
   },
   {
    "duration": 9,
    "start_time": "2022-07-14T07:12:01.587Z"
   },
   {
    "duration": 38,
    "start_time": "2022-07-14T07:12:01.600Z"
   },
   {
    "duration": 68,
    "start_time": "2022-07-14T07:12:01.640Z"
   },
   {
    "duration": 45,
    "start_time": "2022-07-14T07:12:01.710Z"
   },
   {
    "duration": 19,
    "start_time": "2022-07-14T07:12:01.757Z"
   },
   {
    "duration": 91,
    "start_time": "2022-07-14T07:12:01.778Z"
   },
   {
    "duration": 1107,
    "start_time": "2022-07-14T07:12:01.871Z"
   },
   {
    "duration": 3849,
    "start_time": "2022-07-14T07:12:02.980Z"
   },
   {
    "duration": 3,
    "start_time": "2022-07-14T07:12:06.832Z"
   },
   {
    "duration": 26,
    "start_time": "2022-07-14T07:12:06.837Z"
   },
   {
    "duration": 13,
    "start_time": "2022-07-14T07:12:06.865Z"
   },
   {
    "duration": 10,
    "start_time": "2022-07-14T07:12:06.880Z"
   },
   {
    "duration": 15,
    "start_time": "2022-07-14T07:12:06.892Z"
   },
   {
    "duration": 37,
    "start_time": "2022-07-14T07:12:06.908Z"
   },
   {
    "duration": 16,
    "start_time": "2022-07-14T07:12:06.948Z"
   },
   {
    "duration": 15,
    "start_time": "2022-07-14T07:12:06.966Z"
   },
   {
    "duration": 47,
    "start_time": "2022-07-14T07:12:06.983Z"
   },
   {
    "duration": 21,
    "start_time": "2022-07-14T07:12:07.033Z"
   },
   {
    "duration": 17,
    "start_time": "2022-07-14T07:12:07.056Z"
   },
   {
    "duration": 5,
    "start_time": "2022-07-14T07:12:07.076Z"
   },
   {
    "duration": 9,
    "start_time": "2022-07-14T07:12:07.083Z"
   },
   {
    "duration": 7,
    "start_time": "2022-07-14T07:12:07.122Z"
   },
   {
    "duration": 10,
    "start_time": "2022-07-14T07:12:07.133Z"
   },
   {
    "duration": 10,
    "start_time": "2022-07-14T07:12:07.145Z"
   },
   {
    "duration": 144,
    "start_time": "2022-07-14T07:12:07.157Z"
   },
   {
    "duration": 0,
    "start_time": "2022-07-14T07:12:07.303Z"
   },
   {
    "duration": 0,
    "start_time": "2022-07-14T07:12:07.304Z"
   },
   {
    "duration": 0,
    "start_time": "2022-07-14T07:12:07.306Z"
   },
   {
    "duration": 0,
    "start_time": "2022-07-14T07:12:07.307Z"
   },
   {
    "duration": 0,
    "start_time": "2022-07-14T07:12:07.308Z"
   },
   {
    "duration": 0,
    "start_time": "2022-07-14T07:12:07.326Z"
   },
   {
    "duration": 0,
    "start_time": "2022-07-14T07:12:07.329Z"
   },
   {
    "duration": 0,
    "start_time": "2022-07-14T07:12:07.330Z"
   },
   {
    "duration": 0,
    "start_time": "2022-07-14T07:12:07.332Z"
   },
   {
    "duration": 0,
    "start_time": "2022-07-14T07:12:07.334Z"
   },
   {
    "duration": 0,
    "start_time": "2022-07-14T07:12:07.335Z"
   },
   {
    "duration": 0,
    "start_time": "2022-07-14T07:12:07.337Z"
   },
   {
    "duration": 0,
    "start_time": "2022-07-14T07:12:07.339Z"
   },
   {
    "duration": 0,
    "start_time": "2022-07-14T07:12:07.341Z"
   },
   {
    "duration": 0,
    "start_time": "2022-07-14T07:12:07.344Z"
   },
   {
    "duration": 0,
    "start_time": "2022-07-14T07:12:07.345Z"
   },
   {
    "duration": 10,
    "start_time": "2022-07-14T07:12:10.701Z"
   },
   {
    "duration": 12,
    "start_time": "2022-07-14T07:12:11.015Z"
   },
   {
    "duration": 88,
    "start_time": "2022-07-14T07:12:16.687Z"
   },
   {
    "duration": 21,
    "start_time": "2022-07-14T07:12:34.599Z"
   },
   {
    "duration": 5,
    "start_time": "2022-07-14T07:12:51.662Z"
   },
   {
    "duration": 6,
    "start_time": "2022-07-14T07:12:53.629Z"
   },
   {
    "duration": 9,
    "start_time": "2022-07-14T07:12:54.381Z"
   },
   {
    "duration": 7,
    "start_time": "2022-07-14T07:12:57.812Z"
   },
   {
    "duration": 19,
    "start_time": "2022-07-14T07:12:58.286Z"
   },
   {
    "duration": 16,
    "start_time": "2022-07-14T07:13:03.723Z"
   },
   {
    "duration": 2872,
    "start_time": "2022-07-14T07:13:27.841Z"
   },
   {
    "duration": 5,
    "start_time": "2022-07-14T07:13:30.716Z"
   },
   {
    "duration": 51,
    "start_time": "2022-07-14T07:13:30.723Z"
   },
   {
    "duration": 4,
    "start_time": "2022-07-14T07:13:30.776Z"
   },
   {
    "duration": 16,
    "start_time": "2022-07-14T07:13:30.782Z"
   },
   {
    "duration": 33,
    "start_time": "2022-07-14T07:13:30.800Z"
   },
   {
    "duration": 30,
    "start_time": "2022-07-14T07:13:30.836Z"
   },
   {
    "duration": 16,
    "start_time": "2022-07-14T07:13:30.868Z"
   },
   {
    "duration": 16,
    "start_time": "2022-07-14T07:13:30.886Z"
   },
   {
    "duration": 28,
    "start_time": "2022-07-14T07:13:30.906Z"
   },
   {
    "duration": 7,
    "start_time": "2022-07-14T07:13:30.937Z"
   },
   {
    "duration": 26,
    "start_time": "2022-07-14T07:13:30.947Z"
   },
   {
    "duration": 13,
    "start_time": "2022-07-14T07:13:30.974Z"
   },
   {
    "duration": 49,
    "start_time": "2022-07-14T07:13:30.989Z"
   },
   {
    "duration": 1271,
    "start_time": "2022-07-14T07:13:31.041Z"
   },
   {
    "duration": 4294,
    "start_time": "2022-07-14T07:13:32.314Z"
   },
   {
    "duration": 3,
    "start_time": "2022-07-14T07:13:36.610Z"
   },
   {
    "duration": 13,
    "start_time": "2022-07-14T07:13:36.615Z"
   },
   {
    "duration": 30,
    "start_time": "2022-07-14T07:13:36.630Z"
   },
   {
    "duration": 10,
    "start_time": "2022-07-14T07:13:36.662Z"
   },
   {
    "duration": 19,
    "start_time": "2022-07-14T07:13:36.673Z"
   },
   {
    "duration": 34,
    "start_time": "2022-07-14T07:13:36.694Z"
   },
   {
    "duration": 24,
    "start_time": "2022-07-14T07:13:36.731Z"
   },
   {
    "duration": 15,
    "start_time": "2022-07-14T07:13:36.757Z"
   },
   {
    "duration": 18,
    "start_time": "2022-07-14T07:13:36.773Z"
   },
   {
    "duration": 55,
    "start_time": "2022-07-14T07:13:36.792Z"
   },
   {
    "duration": 22,
    "start_time": "2022-07-14T07:13:36.849Z"
   },
   {
    "duration": 5,
    "start_time": "2022-07-14T07:13:36.875Z"
   },
   {
    "duration": 9,
    "start_time": "2022-07-14T07:13:36.882Z"
   },
   {
    "duration": 6,
    "start_time": "2022-07-14T07:13:36.893Z"
   },
   {
    "duration": 5,
    "start_time": "2022-07-14T07:13:36.931Z"
   },
   {
    "duration": 12,
    "start_time": "2022-07-14T07:13:36.938Z"
   },
   {
    "duration": 22,
    "start_time": "2022-07-14T07:13:36.952Z"
   },
   {
    "duration": 0,
    "start_time": "2022-07-14T07:13:36.976Z"
   },
   {
    "duration": 0,
    "start_time": "2022-07-14T07:13:36.978Z"
   },
   {
    "duration": 0,
    "start_time": "2022-07-14T07:13:36.979Z"
   },
   {
    "duration": 0,
    "start_time": "2022-07-14T07:13:36.980Z"
   },
   {
    "duration": 0,
    "start_time": "2022-07-14T07:13:36.981Z"
   },
   {
    "duration": 0,
    "start_time": "2022-07-14T07:13:36.982Z"
   },
   {
    "duration": 0,
    "start_time": "2022-07-14T07:13:36.984Z"
   },
   {
    "duration": 0,
    "start_time": "2022-07-14T07:13:36.985Z"
   },
   {
    "duration": 0,
    "start_time": "2022-07-14T07:13:36.986Z"
   },
   {
    "duration": 0,
    "start_time": "2022-07-14T07:13:36.987Z"
   },
   {
    "duration": 0,
    "start_time": "2022-07-14T07:13:36.989Z"
   },
   {
    "duration": 0,
    "start_time": "2022-07-14T07:13:36.990Z"
   },
   {
    "duration": 0,
    "start_time": "2022-07-14T07:13:36.991Z"
   },
   {
    "duration": 0,
    "start_time": "2022-07-14T07:13:37.025Z"
   },
   {
    "duration": 0,
    "start_time": "2022-07-14T07:13:37.028Z"
   },
   {
    "duration": 0,
    "start_time": "2022-07-14T07:13:37.030Z"
   },
   {
    "duration": 0,
    "start_time": "2022-07-14T07:13:37.032Z"
   },
   {
    "duration": 0,
    "start_time": "2022-07-14T07:13:37.034Z"
   },
   {
    "duration": 0,
    "start_time": "2022-07-14T07:13:37.036Z"
   },
   {
    "duration": 14,
    "start_time": "2022-07-14T07:13:39.179Z"
   },
   {
    "duration": 14,
    "start_time": "2022-07-14T07:13:40.979Z"
   },
   {
    "duration": 8,
    "start_time": "2022-07-14T07:14:01.533Z"
   },
   {
    "duration": 12,
    "start_time": "2022-07-14T07:14:26.916Z"
   },
   {
    "duration": 6,
    "start_time": "2022-07-14T07:14:28.195Z"
   },
   {
    "duration": 17,
    "start_time": "2022-07-14T07:14:29.836Z"
   },
   {
    "duration": 6,
    "start_time": "2022-07-14T07:14:32.971Z"
   },
   {
    "duration": 14,
    "start_time": "2022-07-14T07:16:05.616Z"
   },
   {
    "duration": 21,
    "start_time": "2022-07-14T07:17:54.416Z"
   },
   {
    "duration": 2707,
    "start_time": "2022-07-14T07:21:05.721Z"
   },
   {
    "duration": 5,
    "start_time": "2022-07-14T07:21:08.431Z"
   },
   {
    "duration": 48,
    "start_time": "2022-07-14T07:21:08.438Z"
   },
   {
    "duration": 3,
    "start_time": "2022-07-14T07:21:08.489Z"
   },
   {
    "duration": 25,
    "start_time": "2022-07-14T07:21:08.494Z"
   },
   {
    "duration": 19,
    "start_time": "2022-07-14T07:21:08.521Z"
   },
   {
    "duration": 21,
    "start_time": "2022-07-14T07:21:08.542Z"
   },
   {
    "duration": 17,
    "start_time": "2022-07-14T07:21:08.565Z"
   },
   {
    "duration": 13,
    "start_time": "2022-07-14T07:21:08.583Z"
   },
   {
    "duration": 17,
    "start_time": "2022-07-14T07:21:08.598Z"
   },
   {
    "duration": 12,
    "start_time": "2022-07-14T07:21:08.617Z"
   },
   {
    "duration": 14,
    "start_time": "2022-07-14T07:21:08.633Z"
   },
   {
    "duration": 7,
    "start_time": "2022-07-14T07:21:08.649Z"
   },
   {
    "duration": 23,
    "start_time": "2022-07-14T07:21:08.658Z"
   },
   {
    "duration": 1210,
    "start_time": "2022-07-14T07:21:08.682Z"
   },
   {
    "duration": 4406,
    "start_time": "2022-07-14T07:21:09.895Z"
   },
   {
    "duration": 3,
    "start_time": "2022-07-14T07:21:14.303Z"
   },
   {
    "duration": 24,
    "start_time": "2022-07-14T07:21:14.308Z"
   },
   {
    "duration": 29,
    "start_time": "2022-07-14T07:21:14.335Z"
   },
   {
    "duration": 61,
    "start_time": "2022-07-14T07:21:14.367Z"
   },
   {
    "duration": 47,
    "start_time": "2022-07-14T07:21:14.435Z"
   },
   {
    "duration": 48,
    "start_time": "2022-07-14T07:21:14.484Z"
   },
   {
    "duration": 47,
    "start_time": "2022-07-14T07:21:14.534Z"
   },
   {
    "duration": 48,
    "start_time": "2022-07-14T07:21:14.583Z"
   },
   {
    "duration": 63,
    "start_time": "2022-07-14T07:21:14.633Z"
   },
   {
    "duration": 46,
    "start_time": "2022-07-14T07:21:14.699Z"
   },
   {
    "duration": 39,
    "start_time": "2022-07-14T07:21:14.747Z"
   },
   {
    "duration": 8,
    "start_time": "2022-07-14T07:21:14.792Z"
   },
   {
    "duration": 20,
    "start_time": "2022-07-14T07:21:14.802Z"
   },
   {
    "duration": 44,
    "start_time": "2022-07-14T07:21:14.824Z"
   },
   {
    "duration": 50,
    "start_time": "2022-07-14T07:21:14.871Z"
   },
   {
    "duration": 39,
    "start_time": "2022-07-14T07:21:14.931Z"
   },
   {
    "duration": 30,
    "start_time": "2022-07-14T07:21:14.974Z"
   },
   {
    "duration": 0,
    "start_time": "2022-07-14T07:21:15.006Z"
   },
   {
    "duration": 0,
    "start_time": "2022-07-14T07:21:15.008Z"
   },
   {
    "duration": 0,
    "start_time": "2022-07-14T07:21:15.009Z"
   },
   {
    "duration": 0,
    "start_time": "2022-07-14T07:21:15.011Z"
   },
   {
    "duration": 0,
    "start_time": "2022-07-14T07:21:15.012Z"
   },
   {
    "duration": 0,
    "start_time": "2022-07-14T07:21:15.013Z"
   },
   {
    "duration": 0,
    "start_time": "2022-07-14T07:21:15.016Z"
   },
   {
    "duration": 0,
    "start_time": "2022-07-14T07:21:15.017Z"
   },
   {
    "duration": 0,
    "start_time": "2022-07-14T07:21:15.019Z"
   },
   {
    "duration": 0,
    "start_time": "2022-07-14T07:21:15.021Z"
   },
   {
    "duration": 0,
    "start_time": "2022-07-14T07:21:15.025Z"
   },
   {
    "duration": 0,
    "start_time": "2022-07-14T07:21:15.027Z"
   },
   {
    "duration": 0,
    "start_time": "2022-07-14T07:21:15.029Z"
   },
   {
    "duration": 0,
    "start_time": "2022-07-14T07:21:15.031Z"
   },
   {
    "duration": 0,
    "start_time": "2022-07-14T07:21:15.033Z"
   },
   {
    "duration": 0,
    "start_time": "2022-07-14T07:21:15.035Z"
   },
   {
    "duration": 0,
    "start_time": "2022-07-14T07:21:15.038Z"
   },
   {
    "duration": 0,
    "start_time": "2022-07-14T07:21:15.040Z"
   },
   {
    "duration": 0,
    "start_time": "2022-07-14T07:21:15.042Z"
   },
   {
    "duration": 0,
    "start_time": "2022-07-14T07:21:15.044Z"
   },
   {
    "duration": 0,
    "start_time": "2022-07-14T07:21:15.047Z"
   },
   {
    "duration": 0,
    "start_time": "2022-07-14T07:21:15.048Z"
   },
   {
    "duration": 0,
    "start_time": "2022-07-14T07:21:15.050Z"
   },
   {
    "duration": 0,
    "start_time": "2022-07-14T07:21:15.052Z"
   },
   {
    "duration": 4,
    "start_time": "2022-07-14T07:21:25.153Z"
   },
   {
    "duration": 11,
    "start_time": "2022-07-14T07:21:25.970Z"
   },
   {
    "duration": 5,
    "start_time": "2022-07-14T07:21:26.562Z"
   },
   {
    "duration": 15,
    "start_time": "2022-07-14T07:21:27.186Z"
   },
   {
    "duration": 5,
    "start_time": "2022-07-14T07:22:37.209Z"
   },
   {
    "duration": 28,
    "start_time": "2022-07-14T07:22:42.077Z"
   },
   {
    "duration": 5,
    "start_time": "2022-07-14T07:22:42.846Z"
   },
   {
    "duration": 14,
    "start_time": "2022-07-14T07:22:43.224Z"
   },
   {
    "duration": 24,
    "start_time": "2022-07-14T07:22:43.632Z"
   },
   {
    "duration": 20,
    "start_time": "2022-07-14T07:22:44.023Z"
   },
   {
    "duration": 18,
    "start_time": "2022-07-14T07:22:44.832Z"
   },
   {
    "duration": 7,
    "start_time": "2022-07-14T07:22:45.703Z"
   },
   {
    "duration": 10,
    "start_time": "2022-07-14T07:22:46.558Z"
   },
   {
    "duration": 3,
    "start_time": "2022-07-14T07:22:47.555Z"
   },
   {
    "duration": 4,
    "start_time": "2022-07-14T07:22:47.935Z"
   },
   {
    "duration": 5,
    "start_time": "2022-07-14T07:22:48.314Z"
   },
   {
    "duration": 26,
    "start_time": "2022-07-14T07:22:48.735Z"
   },
   {
    "duration": 1322,
    "start_time": "2022-07-14T07:22:49.769Z"
   },
   {
    "duration": 4340,
    "start_time": "2022-07-14T07:22:53.335Z"
   },
   {
    "duration": 3,
    "start_time": "2022-07-14T07:22:57.678Z"
   },
   {
    "duration": 12,
    "start_time": "2022-07-14T07:22:57.683Z"
   },
   {
    "duration": 15,
    "start_time": "2022-07-14T07:22:59.935Z"
   },
   {
    "duration": 12,
    "start_time": "2022-07-14T07:23:00.327Z"
   },
   {
    "duration": 19,
    "start_time": "2022-07-14T07:23:01.359Z"
   },
   {
    "duration": 19,
    "start_time": "2022-07-14T07:23:01.871Z"
   },
   {
    "duration": 20,
    "start_time": "2022-07-14T07:23:02.304Z"
   },
   {
    "duration": 16,
    "start_time": "2022-07-14T07:23:02.783Z"
   },
   {
    "duration": 23,
    "start_time": "2022-07-14T07:23:04.670Z"
   },
   {
    "duration": 20,
    "start_time": "2022-07-14T07:23:06.543Z"
   },
   {
    "duration": 30,
    "start_time": "2022-07-14T07:23:07.215Z"
   },
   {
    "duration": 8,
    "start_time": "2022-07-14T07:23:21.758Z"
   },
   {
    "duration": 9,
    "start_time": "2022-07-14T07:23:23.327Z"
   },
   {
    "duration": 7,
    "start_time": "2022-07-14T07:23:24.463Z"
   },
   {
    "duration": 6,
    "start_time": "2022-07-14T07:23:24.926Z"
   },
   {
    "duration": 7,
    "start_time": "2022-07-14T07:23:25.990Z"
   },
   {
    "duration": 458,
    "start_time": "2022-07-14T07:23:26.926Z"
   },
   {
    "duration": 9,
    "start_time": "2022-07-14T07:23:31.835Z"
   },
   {
    "duration": 407,
    "start_time": "2022-07-14T07:23:32.454Z"
   },
   {
    "duration": 16,
    "start_time": "2022-07-14T07:23:33.024Z"
   },
   {
    "duration": 7,
    "start_time": "2022-07-14T07:23:39.551Z"
   },
   {
    "duration": 4,
    "start_time": "2022-07-14T07:23:40.693Z"
   },
   {
    "duration": 11,
    "start_time": "2022-07-14T07:23:41.665Z"
   },
   {
    "duration": 12,
    "start_time": "2022-07-14T07:23:43.086Z"
   },
   {
    "duration": 4,
    "start_time": "2022-07-14T07:23:45.981Z"
   },
   {
    "duration": 3,
    "start_time": "2022-07-14T07:23:46.375Z"
   },
   {
    "duration": 3,
    "start_time": "2022-07-14T07:23:47.373Z"
   },
   {
    "duration": 6,
    "start_time": "2022-07-14T07:23:47.810Z"
   },
   {
    "duration": 5,
    "start_time": "2022-07-14T07:23:48.845Z"
   },
   {
    "duration": 7,
    "start_time": "2022-07-14T07:23:50.550Z"
   },
   {
    "duration": 6,
    "start_time": "2022-07-14T07:23:52.796Z"
   },
   {
    "duration": 11,
    "start_time": "2022-07-14T07:23:55.108Z"
   },
   {
    "duration": 5,
    "start_time": "2022-07-14T07:24:06.038Z"
   },
   {
    "duration": 4,
    "start_time": "2022-07-14T07:24:08.112Z"
   },
   {
    "duration": 6,
    "start_time": "2022-07-14T07:24:08.568Z"
   },
   {
    "duration": 5,
    "start_time": "2022-07-14T07:24:09.693Z"
   },
   {
    "duration": 12,
    "start_time": "2022-07-14T07:24:10.078Z"
   },
   {
    "duration": 8,
    "start_time": "2022-07-14T07:24:17.935Z"
   },
   {
    "duration": 11,
    "start_time": "2022-07-14T07:24:18.874Z"
   },
   {
    "duration": 5,
    "start_time": "2022-07-14T07:24:19.270Z"
   },
   {
    "duration": 11,
    "start_time": "2022-07-14T07:24:19.781Z"
   }
  ],
  "kernelspec": {
   "display_name": "Python 3 (ipykernel)",
   "language": "python",
   "name": "python3"
  },
  "language_info": {
   "codemirror_mode": {
    "name": "ipython",
    "version": 3
   },
   "file_extension": ".py",
   "mimetype": "text/x-python",
   "name": "python",
   "nbconvert_exporter": "python",
   "pygments_lexer": "ipython3",
   "version": "3.9.5"
  },
  "toc": {
   "base_numbering": 1,
   "nav_menu": {},
   "number_sections": true,
   "sideBar": true,
   "skip_h1_title": true,
   "title_cell": "Table of Contents",
   "title_sidebar": "Contents",
   "toc_cell": false,
   "toc_position": {},
   "toc_section_display": true,
   "toc_window_display": false
  }
 },
 "nbformat": 4,
 "nbformat_minor": 4
}
