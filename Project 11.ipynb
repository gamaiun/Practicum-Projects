{
 "cells": [
  {
   "cell_type": "markdown",
   "metadata": {},
   "source": [
    "Rusty Bargain used car sales service is developing an app to attract new customers. In that app, you can quickly find out the market value of your car. You have access to historical data: technical specifications, trim versions, and prices. You need to build the model to determine the value. \n",
    "\n",
    "Rusty Bargain is interested in:\n",
    "\n",
    "- the quality of the prediction;\n",
    "- the speed of the prediction;\n",
    "- the time required for training"
   ]
  },
  {
   "cell_type": "code",
   "execution_count": 66,
   "metadata": {},
   "outputs": [],
   "source": [
    "import pandas as pd\n",
    "import matplotlib.pyplot as plt\n",
    "import numpy as np\n",
    "from sklearn.model_selection import train_test_split\n",
    "from sklearn.ensemble import RandomForestRegressor\n",
    "from sklearn.metrics import make_scorer\n",
    "from sklearn.linear_model import LinearRegression\n",
    "from sklearn.model_selection import cross_val_score\n",
    "from sklearn.metrics import mean_absolute_error\n",
    "from sklearn.metrics import mean_squared_error\n",
    "from math import sqrt\n",
    "from catboost import CatBoostRegressor\n",
    "from sklearn.ensemble import GradientBoostingRegressor\n",
    "import time\n",
    "from sklearn.model_selection import RandomizedSearchCV\n",
    "import lightgbm as ltb\n",
    "from xgboost import XGBRegressor\n",
    "from sklearn.preprocessing import LabelEncoder\n",
    "from sklearn.tree import DecisionTreeRegressor, DecisionTreeClassifier\n"
   ]
  },
  {
   "cell_type": "markdown",
   "metadata": {},
   "source": [
    "## Data preparation"
   ]
  },
  {
   "cell_type": "code",
   "execution_count": 67,
   "metadata": {},
   "outputs": [
    {
     "name": "stdout",
     "output_type": "stream",
     "text": [
      "Data train_raw has been read correctly!\n"
     ]
    }
   ],
   "source": [
    "try:\n",
    "    df = pd.read_csv('/datasets/car_data.csv')\n",
    "except:\n",
    "    df = pd.read_csv(r\"C:\\Users\\vlady\\Downloads\\car_data.csv\")\n",
    "    \n",
    "print('Data train_raw has been read correctly!')\n"
   ]
  },
  {
   "cell_type": "code",
   "execution_count": 68,
   "metadata": {},
   "outputs": [
    {
     "name": "stdout",
     "output_type": "stream",
     "text": [
      "---------------------------\n",
      "NUMBER OF COLUMNS: 16\n",
      "NUMBER OF ROWS 354369\n",
      "NUMBER OF DUPLICATES: 262\n",
      "---------------------------\n",
      "NUMBER OF NANS:\n",
      "\n",
      "datecrawled              0\n",
      "price                    0\n",
      "vehicletype          37490\n",
      "registrationyear         0\n",
      "gearbox              19833\n",
      "power                    0\n",
      "model                19705\n",
      "mileage                  0\n",
      "registrationmonth        0\n",
      "fueltype             32895\n",
      "brand                    0\n",
      "notrepaired          71154\n",
      "datecreated              0\n",
      "numberofpictures         0\n",
      "postalcode               0\n",
      "lastseen                 0\n",
      "dtype: int64\n",
      " \n"
     ]
    }
   ],
   "source": [
    "def inspector(df):\n",
    "    print(\"---------------------------\")\n",
    "    df.columns = df.columns.str.lower()\n",
    "    print(\"NUMBER OF COLUMNS:\", len(df.columns))\n",
    "    print(f\"NUMBER OF ROWS\", len(df))\n",
    "    print(\"NUMBER OF DUPLICATES:\", df.duplicated().sum())\n",
    "    print(\"---------------------------\")\n",
    "    print(\"NUMBER OF NANS:\\n\")\n",
    "    print(df.isna().sum())\n",
    "    print(\" \")\n",
    "\n",
    "inspector(df)\n"
   ]
  },
  {
   "cell_type": "markdown",
   "metadata": {},
   "source": [
    "We have 5 columns with multiple missing values. Let's do a data imputation to the missing values. "
   ]
  },
  {
   "cell_type": "code",
   "execution_count": 69,
   "metadata": {},
   "outputs": [],
   "source": [
    "def fill_with_mode(column, column1, column2):\n",
    "    df[column] = df.groupby([column1, column2])[column].transform(lambda x: x.fillna((x.mode()[0] if not x.mode().empty else \"Empty\")))\n",
    "  "
   ]
  },
  {
   "cell_type": "code",
   "execution_count": 70,
   "metadata": {},
   "outputs": [],
   "source": [
    "fill_with_mode('model','brand','registrationyear')\n",
    "fill_with_mode('vehicletype','brand','model')\n",
    "fill_with_mode('fueltype','brand','model')\n",
    "fill_with_mode('gearbox','brand','model')"
   ]
  },
  {
   "cell_type": "code",
   "execution_count": 71,
   "metadata": {},
   "outputs": [
    {
     "data": {
      "text/plain": [
       "datecrawled              0\n",
       "price                    0\n",
       "vehicletype              0\n",
       "registrationyear         0\n",
       "gearbox                  0\n",
       "power                    0\n",
       "model                    0\n",
       "mileage                  0\n",
       "registrationmonth        0\n",
       "fueltype                 0\n",
       "brand                    0\n",
       "notrepaired          71154\n",
       "datecreated              0\n",
       "numberofpictures         0\n",
       "postalcode               0\n",
       "lastseen                 0\n",
       "dtype: int64"
      ]
     },
     "execution_count": 71,
     "metadata": {},
     "output_type": "execute_result"
    }
   ],
   "source": [
    "df.isna().sum()"
   ]
  },
  {
   "cell_type": "markdown",
   "metadata": {},
   "source": [
    "We recieved a few \"Empty\" instances in the gearbox. "
   ]
  },
  {
   "cell_type": "code",
   "execution_count": 72,
   "metadata": {},
   "outputs": [
    {
     "data": {
      "text/plain": [
       "manual    285937\n",
       "auto       68411\n",
       "Empty         21\n",
       "Name: gearbox, dtype: int64"
      ]
     },
     "execution_count": 72,
     "metadata": {},
     "output_type": "execute_result"
    }
   ],
   "source": [
    "df[\"gearbox\"].value_counts()"
   ]
  },
  {
   "cell_type": "code",
   "execution_count": 73,
   "metadata": {},
   "outputs": [],
   "source": [
    "# Let's drop these instances:\n",
    "df.drop(df.loc[df[\"gearbox\"]==\"Empty\"].index, inplace=True)\n"
   ]
  },
  {
   "cell_type": "code",
   "execution_count": 74,
   "metadata": {},
   "outputs": [],
   "source": [
    "# Let's asign yes to all the notrepaired nans instances and then asign a numeric\n",
    "df[\"notrepaired\"] = df[\"notrepaired\"].fillna('yes')\n",
    "df[\"notrepaired\"] = (df[\"notrepaired\"] == 'yes').astype('int')"
   ]
  },
  {
   "cell_type": "code",
   "execution_count": 75,
   "metadata": {},
   "outputs": [
    {
     "data": {
      "text/plain": [
       "0    247157\n",
       "1    107191\n",
       "Name: notrepaired, dtype: int64"
      ]
     },
     "execution_count": 75,
     "metadata": {},
     "output_type": "execute_result"
    }
   ],
   "source": [
    "df[\"notrepaired\"].value_counts()"
   ]
  },
  {
   "cell_type": "code",
   "execution_count": 76,
   "metadata": {},
   "outputs": [
    {
     "data": {
      "text/plain": [
       "datecrawled          0\n",
       "price                0\n",
       "vehicletype          0\n",
       "registrationyear     0\n",
       "gearbox              0\n",
       "power                0\n",
       "model                0\n",
       "mileage              0\n",
       "registrationmonth    0\n",
       "fueltype             0\n",
       "brand                0\n",
       "notrepaired          0\n",
       "datecreated          0\n",
       "numberofpictures     0\n",
       "postalcode           0\n",
       "lastseen             0\n",
       "dtype: int64"
      ]
     },
     "execution_count": 76,
     "metadata": {},
     "output_type": "execute_result"
    }
   ],
   "source": [
    "df.isna().sum()"
   ]
  },
  {
   "cell_type": "markdown",
   "metadata": {},
   "source": [
    "<div class=\"alert alert-warning\">\n",
    "<b>Reviewer's comment</b>\n",
    "\n",
    "Ok, this can be a valid approach, but keep in mind that sometimes customer wants the model to work even if some of the values are missing\n",
    "\n",
    "</div>"
   ]
  },
  {
   "cell_type": "markdown",
   "metadata": {},
   "source": [
    "Let's also drop 262 duplicates:"
   ]
  },
  {
   "cell_type": "code",
   "execution_count": 77,
   "metadata": {},
   "outputs": [],
   "source": [
    "df = df.drop_duplicates()"
   ]
  },
  {
   "cell_type": "markdown",
   "metadata": {},
   "source": [
    "<div class=\"alert alert-success\">\n",
    "<b>Reviewer's comment</b>\n",
    "\n",
    "Alright!\n",
    "\n",
    "</div>"
   ]
  },
  {
   "cell_type": "code",
   "execution_count": 78,
   "metadata": {},
   "outputs": [
    {
     "name": "stdout",
     "output_type": "stream",
     "text": [
      "---------------------------\n",
      "NUMBER OF COLUMNS: 16\n",
      "NUMBER OF ROWS 354074\n",
      "NUMBER OF DUPLICATES: 0\n",
      "---------------------------\n",
      "NUMBER OF NANS:\n",
      "\n",
      "datecrawled          0\n",
      "price                0\n",
      "vehicletype          0\n",
      "registrationyear     0\n",
      "gearbox              0\n",
      "power                0\n",
      "model                0\n",
      "mileage              0\n",
      "registrationmonth    0\n",
      "fueltype             0\n",
      "brand                0\n",
      "notrepaired          0\n",
      "datecreated          0\n",
      "numberofpictures     0\n",
      "postalcode           0\n",
      "lastseen             0\n",
      "dtype: int64\n",
      " \n"
     ]
    }
   ],
   "source": [
    "def inspector(df):\n",
    "    print(\"---------------------------\")\n",
    "    df.columns = df.columns.str.lower()\n",
    "    print(\"NUMBER OF COLUMNS:\", len(df.columns))\n",
    "    print(f\"NUMBER OF ROWS\", len(df))\n",
    "    print(\"NUMBER OF DUPLICATES:\", df.duplicated().sum())\n",
    "    print(\"---------------------------\")\n",
    "    print(\"NUMBER OF NANS:\\n\")\n",
    "    print(df.isna().sum())\n",
    "    print(\" \")\n",
    "\n",
    "inspector(df)"
   ]
  },
  {
   "cell_type": "code",
   "execution_count": 79,
   "metadata": {},
   "outputs": [
    {
     "data": {
      "text/html": [
       "<div>\n",
       "<style scoped>\n",
       "    .dataframe tbody tr th:only-of-type {\n",
       "        vertical-align: middle;\n",
       "    }\n",
       "\n",
       "    .dataframe tbody tr th {\n",
       "        vertical-align: top;\n",
       "    }\n",
       "\n",
       "    .dataframe thead th {\n",
       "        text-align: right;\n",
       "    }\n",
       "</style>\n",
       "<table border=\"1\" class=\"dataframe\">\n",
       "  <thead>\n",
       "    <tr style=\"text-align: right;\">\n",
       "      <th></th>\n",
       "      <th>datecrawled</th>\n",
       "      <th>price</th>\n",
       "      <th>vehicletype</th>\n",
       "      <th>registrationyear</th>\n",
       "      <th>gearbox</th>\n",
       "      <th>power</th>\n",
       "      <th>model</th>\n",
       "      <th>mileage</th>\n",
       "      <th>registrationmonth</th>\n",
       "      <th>fueltype</th>\n",
       "      <th>brand</th>\n",
       "      <th>notrepaired</th>\n",
       "      <th>datecreated</th>\n",
       "      <th>numberofpictures</th>\n",
       "      <th>postalcode</th>\n",
       "      <th>lastseen</th>\n",
       "    </tr>\n",
       "  </thead>\n",
       "  <tbody>\n",
       "    <tr>\n",
       "      <th>0</th>\n",
       "      <td>24/03/2016 11:52</td>\n",
       "      <td>480</td>\n",
       "      <td>sedan</td>\n",
       "      <td>1993</td>\n",
       "      <td>manual</td>\n",
       "      <td>0</td>\n",
       "      <td>golf</td>\n",
       "      <td>150000</td>\n",
       "      <td>0</td>\n",
       "      <td>petrol</td>\n",
       "      <td>volkswagen</td>\n",
       "      <td>1</td>\n",
       "      <td>24/03/2016 00:00</td>\n",
       "      <td>0</td>\n",
       "      <td>70435</td>\n",
       "      <td>07/04/2016 03:16</td>\n",
       "    </tr>\n",
       "    <tr>\n",
       "      <th>1</th>\n",
       "      <td>24/03/2016 10:58</td>\n",
       "      <td>18300</td>\n",
       "      <td>coupe</td>\n",
       "      <td>2011</td>\n",
       "      <td>manual</td>\n",
       "      <td>190</td>\n",
       "      <td>a4</td>\n",
       "      <td>125000</td>\n",
       "      <td>5</td>\n",
       "      <td>gasoline</td>\n",
       "      <td>audi</td>\n",
       "      <td>1</td>\n",
       "      <td>24/03/2016 00:00</td>\n",
       "      <td>0</td>\n",
       "      <td>66954</td>\n",
       "      <td>07/04/2016 01:46</td>\n",
       "    </tr>\n",
       "    <tr>\n",
       "      <th>2</th>\n",
       "      <td>14/03/2016 12:52</td>\n",
       "      <td>9800</td>\n",
       "      <td>suv</td>\n",
       "      <td>2004</td>\n",
       "      <td>auto</td>\n",
       "      <td>163</td>\n",
       "      <td>grand</td>\n",
       "      <td>125000</td>\n",
       "      <td>8</td>\n",
       "      <td>gasoline</td>\n",
       "      <td>jeep</td>\n",
       "      <td>1</td>\n",
       "      <td>14/03/2016 00:00</td>\n",
       "      <td>0</td>\n",
       "      <td>90480</td>\n",
       "      <td>05/04/2016 12:47</td>\n",
       "    </tr>\n",
       "    <tr>\n",
       "      <th>3</th>\n",
       "      <td>17/03/2016 16:54</td>\n",
       "      <td>1500</td>\n",
       "      <td>small</td>\n",
       "      <td>2001</td>\n",
       "      <td>manual</td>\n",
       "      <td>75</td>\n",
       "      <td>golf</td>\n",
       "      <td>150000</td>\n",
       "      <td>6</td>\n",
       "      <td>petrol</td>\n",
       "      <td>volkswagen</td>\n",
       "      <td>0</td>\n",
       "      <td>17/03/2016 00:00</td>\n",
       "      <td>0</td>\n",
       "      <td>91074</td>\n",
       "      <td>17/03/2016 17:40</td>\n",
       "    </tr>\n",
       "    <tr>\n",
       "      <th>4</th>\n",
       "      <td>31/03/2016 17:25</td>\n",
       "      <td>3600</td>\n",
       "      <td>small</td>\n",
       "      <td>2008</td>\n",
       "      <td>manual</td>\n",
       "      <td>69</td>\n",
       "      <td>fabia</td>\n",
       "      <td>90000</td>\n",
       "      <td>7</td>\n",
       "      <td>gasoline</td>\n",
       "      <td>skoda</td>\n",
       "      <td>0</td>\n",
       "      <td>31/03/2016 00:00</td>\n",
       "      <td>0</td>\n",
       "      <td>60437</td>\n",
       "      <td>06/04/2016 10:17</td>\n",
       "    </tr>\n",
       "  </tbody>\n",
       "</table>\n",
       "</div>"
      ],
      "text/plain": [
       "        datecrawled  price vehicletype  registrationyear gearbox  power  \\\n",
       "0  24/03/2016 11:52    480       sedan              1993  manual      0   \n",
       "1  24/03/2016 10:58  18300       coupe              2011  manual    190   \n",
       "2  14/03/2016 12:52   9800         suv              2004    auto    163   \n",
       "3  17/03/2016 16:54   1500       small              2001  manual     75   \n",
       "4  31/03/2016 17:25   3600       small              2008  manual     69   \n",
       "\n",
       "   model  mileage  registrationmonth  fueltype       brand  notrepaired  \\\n",
       "0   golf   150000                  0    petrol  volkswagen            1   \n",
       "1     a4   125000                  5  gasoline        audi            1   \n",
       "2  grand   125000                  8  gasoline        jeep            1   \n",
       "3   golf   150000                  6    petrol  volkswagen            0   \n",
       "4  fabia    90000                  7  gasoline       skoda            0   \n",
       "\n",
       "        datecreated  numberofpictures  postalcode          lastseen  \n",
       "0  24/03/2016 00:00                 0       70435  07/04/2016 03:16  \n",
       "1  24/03/2016 00:00                 0       66954  07/04/2016 01:46  \n",
       "2  14/03/2016 00:00                 0       90480  05/04/2016 12:47  \n",
       "3  17/03/2016 00:00                 0       91074  17/03/2016 17:40  \n",
       "4  31/03/2016 00:00                 0       60437  06/04/2016 10:17  "
      ]
     },
     "execution_count": 79,
     "metadata": {},
     "output_type": "execute_result"
    }
   ],
   "source": [
    "df.head()"
   ]
  },
  {
   "cell_type": "markdown",
   "metadata": {},
   "source": [
    "There are columns that have no influece on the price (prediction target) Let's get rid of them:"
   ]
  },
  {
   "cell_type": "code",
   "execution_count": 80,
   "metadata": {},
   "outputs": [],
   "source": [
    "df.drop(columns = [\"datecrawled\", \"lastseen\", \"datecreated\", \"numberofpictures\", \"registrationmonth\", \"postalcode\" ], inplace = True)"
   ]
  },
  {
   "cell_type": "markdown",
   "metadata": {},
   "source": [
    "<div class=\"alert alert-success\">\n",
    "<b>Reviewer's comment</b>\n",
    "\n",
    "Makes sense!\n",
    "\n",
    "</div>"
   ]
  },
  {
   "cell_type": "code",
   "execution_count": 81,
   "metadata": {},
   "outputs": [
    {
     "data": {
      "text/html": [
       "<div>\n",
       "<style scoped>\n",
       "    .dataframe tbody tr th:only-of-type {\n",
       "        vertical-align: middle;\n",
       "    }\n",
       "\n",
       "    .dataframe tbody tr th {\n",
       "        vertical-align: top;\n",
       "    }\n",
       "\n",
       "    .dataframe thead th {\n",
       "        text-align: right;\n",
       "    }\n",
       "</style>\n",
       "<table border=\"1\" class=\"dataframe\">\n",
       "  <thead>\n",
       "    <tr style=\"text-align: right;\">\n",
       "      <th></th>\n",
       "      <th>price</th>\n",
       "      <th>vehicletype</th>\n",
       "      <th>registrationyear</th>\n",
       "      <th>gearbox</th>\n",
       "      <th>power</th>\n",
       "      <th>model</th>\n",
       "      <th>mileage</th>\n",
       "      <th>fueltype</th>\n",
       "      <th>brand</th>\n",
       "      <th>notrepaired</th>\n",
       "    </tr>\n",
       "  </thead>\n",
       "  <tbody>\n",
       "    <tr>\n",
       "      <th>0</th>\n",
       "      <td>480</td>\n",
       "      <td>sedan</td>\n",
       "      <td>1993</td>\n",
       "      <td>manual</td>\n",
       "      <td>0</td>\n",
       "      <td>golf</td>\n",
       "      <td>150000</td>\n",
       "      <td>petrol</td>\n",
       "      <td>volkswagen</td>\n",
       "      <td>1</td>\n",
       "    </tr>\n",
       "    <tr>\n",
       "      <th>1</th>\n",
       "      <td>18300</td>\n",
       "      <td>coupe</td>\n",
       "      <td>2011</td>\n",
       "      <td>manual</td>\n",
       "      <td>190</td>\n",
       "      <td>a4</td>\n",
       "      <td>125000</td>\n",
       "      <td>gasoline</td>\n",
       "      <td>audi</td>\n",
       "      <td>1</td>\n",
       "    </tr>\n",
       "    <tr>\n",
       "      <th>2</th>\n",
       "      <td>9800</td>\n",
       "      <td>suv</td>\n",
       "      <td>2004</td>\n",
       "      <td>auto</td>\n",
       "      <td>163</td>\n",
       "      <td>grand</td>\n",
       "      <td>125000</td>\n",
       "      <td>gasoline</td>\n",
       "      <td>jeep</td>\n",
       "      <td>1</td>\n",
       "    </tr>\n",
       "    <tr>\n",
       "      <th>3</th>\n",
       "      <td>1500</td>\n",
       "      <td>small</td>\n",
       "      <td>2001</td>\n",
       "      <td>manual</td>\n",
       "      <td>75</td>\n",
       "      <td>golf</td>\n",
       "      <td>150000</td>\n",
       "      <td>petrol</td>\n",
       "      <td>volkswagen</td>\n",
       "      <td>0</td>\n",
       "    </tr>\n",
       "    <tr>\n",
       "      <th>4</th>\n",
       "      <td>3600</td>\n",
       "      <td>small</td>\n",
       "      <td>2008</td>\n",
       "      <td>manual</td>\n",
       "      <td>69</td>\n",
       "      <td>fabia</td>\n",
       "      <td>90000</td>\n",
       "      <td>gasoline</td>\n",
       "      <td>skoda</td>\n",
       "      <td>0</td>\n",
       "    </tr>\n",
       "  </tbody>\n",
       "</table>\n",
       "</div>"
      ],
      "text/plain": [
       "   price vehicletype  registrationyear gearbox  power  model  mileage  \\\n",
       "0    480       sedan              1993  manual      0   golf   150000   \n",
       "1  18300       coupe              2011  manual    190     a4   125000   \n",
       "2   9800         suv              2004    auto    163  grand   125000   \n",
       "3   1500       small              2001  manual     75   golf   150000   \n",
       "4   3600       small              2008  manual     69  fabia    90000   \n",
       "\n",
       "   fueltype       brand  notrepaired  \n",
       "0    petrol  volkswagen            1  \n",
       "1  gasoline        audi            1  \n",
       "2  gasoline        jeep            1  \n",
       "3    petrol  volkswagen            0  \n",
       "4  gasoline       skoda            0  "
      ]
     },
     "execution_count": 81,
     "metadata": {},
     "output_type": "execute_result"
    }
   ],
   "source": [
    "df.head()"
   ]
  },
  {
   "cell_type": "markdown",
   "metadata": {},
   "source": [
    "Lets inspect the data visually:"
   ]
  },
  {
   "cell_type": "code",
   "execution_count": 82,
   "metadata": {},
   "outputs": [
    {
     "data": {
      "text/plain": [
       "2700.0"
      ]
     },
     "execution_count": 82,
     "metadata": {},
     "output_type": "execute_result"
    },
    {
     "data": {
      "image/png": "[encoded data removed]",
      "text/plain": [
       "<Figure size 432x288 with 1 Axes>"
      ]
     },
     "metadata": {
      "needs_background": "light"
     },
     "output_type": "display_data"
    }
   ],
   "source": [
    "import seaborn as sns\n",
    "sns.histplot(df.price.values)\n",
    "np.median(df.price.values)"
   ]
  },
  {
   "cell_type": "code",
   "execution_count": 83,
   "metadata": {},
   "outputs": [
    {
     "data": {
      "image/png": "[encoded data removed]",
      "text/plain": [
       "<Figure size 432x288 with 1 Axes>"
      ]
     },
     "metadata": {
      "needs_background": "light"
     },
     "output_type": "display_data"
    }
   ],
   "source": [
    "sns.boxplot(data=df['power']);"
   ]
  },
  {
   "cell_type": "markdown",
   "metadata": {},
   "source": [
    "There's something very strange going on in the power column. Let's take a closer look:"
   ]
  },
  {
   "cell_type": "code",
   "execution_count": 84,
   "metadata": {},
   "outputs": [
    {
     "data": {
      "text/plain": [
       "Text(0.5, 1.0, 'power')"
      ]
     },
     "execution_count": 84,
     "metadata": {},
     "output_type": "execute_result"
    },
    {
     "data": {
      "image/png": "[encoded data removed]",
      "text/plain": [
       "<Figure size 720x432 with 1 Axes>"
      ]
     },
     "metadata": {
      "needs_background": "light"
     },
     "output_type": "display_data"
    }
   ],
   "source": [
    "plt.figure(figsize=(10,6))\n",
    "sns.histplot(df.power)\n",
    "plt.xlim(-10, 100)\n",
    "plt.title(\"power\") "
   ]
  },
  {
   "cell_type": "code",
   "execution_count": 85,
   "metadata": {},
   "outputs": [
    {
     "data": {
      "text/plain": [
       "40202"
      ]
     },
     "execution_count": 85,
     "metadata": {},
     "output_type": "execute_result"
    }
   ],
   "source": [
    "len(df[df.power == 0])"
   ]
  },
  {
   "cell_type": "markdown",
   "metadata": {},
   "source": [
    "According to Autolist.com, the average horsepower for a vehicle falls somewhere between 180 and 200 horsepower, typically falling below 200. The LEAST powerful car available today is the Mitsubishi Mirage, with its 1.2-liter three-cylinder engine providing just 78 horse power. Yet we have over 50K of vehicles between power 0 (not including 0) and 70 and about 40K cars with 0 horse power (i.e.power)\n"
   ]
  },
  {
   "cell_type": "code",
   "execution_count": 86,
   "metadata": {},
   "outputs": [
    {
     "data": {
      "text/plain": [
       "51753"
      ]
     },
     "execution_count": 86,
     "metadata": {},
     "output_type": "execute_result"
    }
   ],
   "source": [
    "len(df[(df.power > 0) & (df.power < 70)])"
   ]
  },
  {
   "cell_type": "code",
   "execution_count": 87,
   "metadata": {},
   "outputs": [
    {
     "data": {
      "text/plain": [
       "40202"
      ]
     },
     "execution_count": 87,
     "metadata": {},
     "output_type": "execute_result"
    }
   ],
   "source": [
    "len(df[(df.power == 0)])"
   ]
  },
  {
   "cell_type": "markdown",
   "metadata": {},
   "source": [
    "Let's asign \"Nans\" to all these values and then impute based on other instances in the dataset:"
   ]
  },
  {
   "cell_type": "code",
   "execution_count": 88,
   "metadata": {},
   "outputs": [],
   "source": [
    "df.loc[df.power <= 70, \"power\"] = np.nan"
   ]
  },
  {
   "cell_type": "code",
   "execution_count": 89,
   "metadata": {},
   "outputs": [
    {
     "data": {
      "text/plain": [
       "0"
      ]
     },
     "execution_count": 89,
     "metadata": {},
     "output_type": "execute_result"
    }
   ],
   "source": [
    "# Check\n",
    "len(df[df.power <= 70])"
   ]
  },
  {
   "cell_type": "code",
   "execution_count": 90,
   "metadata": {},
   "outputs": [
    {
     "name": "stdout",
     "output_type": "stream",
     "text": [
      "<class 'pandas.core.frame.DataFrame'>\n",
      "Int64Index: 354074 entries, 0 to 354368\n",
      "Data columns (total 10 columns):\n",
      " #   Column            Non-Null Count   Dtype  \n",
      "---  ------            --------------   -----  \n",
      " 0   price             354074 non-null  int64  \n",
      " 1   vehicletype       354074 non-null  object \n",
      " 2   registrationyear  354074 non-null  int64  \n",
      " 3   gearbox           354074 non-null  object \n",
      " 4   power             261033 non-null  float64\n",
      " 5   model             354074 non-null  object \n",
      " 6   mileage           354074 non-null  int64  \n",
      " 7   fueltype          354074 non-null  object \n",
      " 8   brand             354074 non-null  object \n",
      " 9   notrepaired       354074 non-null  int64  \n",
      "dtypes: float64(1), int64(4), object(5)\n",
      "memory usage: 37.8+ MB\n"
     ]
    }
   ],
   "source": [
    "df.info()"
   ]
  },
  {
   "cell_type": "code",
   "execution_count": 91,
   "metadata": {},
   "outputs": [],
   "source": [
    "def fill_with_numerics(column, column1, column2):\n",
    "    df[column] = df.groupby([column1, column2])[column].transform(lambda x: x.fillna((x.mode()[0] if not x.mode().empty else np.nan)))\n",
    "  "
   ]
  },
  {
   "cell_type": "markdown",
   "metadata": {},
   "source": [
    "let's try to find the horse power by brand and model:"
   ]
  },
  {
   "cell_type": "code",
   "execution_count": 92,
   "metadata": {},
   "outputs": [
    {
     "data": {
      "text/plain": [
       "530"
      ]
     },
     "execution_count": 92,
     "metadata": {},
     "output_type": "execute_result"
    }
   ],
   "source": [
    "fill_with_numerics('power','brand','model')\n",
    "df.power.isna().sum()"
   ]
  },
  {
   "cell_type": "markdown",
   "metadata": {},
   "source": [
    "We still got a few left. Let's try with other columns:"
   ]
  },
  {
   "cell_type": "code",
   "execution_count": 93,
   "metadata": {},
   "outputs": [
    {
     "data": {
      "text/plain": [
       "514"
      ]
     },
     "execution_count": 93,
     "metadata": {},
     "output_type": "execute_result"
    }
   ],
   "source": [
    "fill_with_numerics('power','model','registrationyear')\n",
    "df.power.isna().sum()"
   ]
  },
  {
   "cell_type": "markdown",
   "metadata": {},
   "source": [
    "Let's drop these guys"
   ]
  },
  {
   "cell_type": "code",
   "execution_count": 94,
   "metadata": {},
   "outputs": [],
   "source": [
    "df.dropna(inplace = True)"
   ]
  },
  {
   "cell_type": "markdown",
   "metadata": {},
   "source": [
    "Great. We can move on now. "
   ]
  },
  {
   "cell_type": "code",
   "execution_count": 95,
   "metadata": {},
   "outputs": [
    {
     "name": "stdout",
     "output_type": "stream",
     "text": [
      "<class 'pandas.core.frame.DataFrame'>\n",
      "Int64Index: 353560 entries, 0 to 354368\n",
      "Data columns (total 10 columns):\n",
      " #   Column            Non-Null Count   Dtype  \n",
      "---  ------            --------------   -----  \n",
      " 0   price             353560 non-null  int64  \n",
      " 1   vehicletype       353560 non-null  object \n",
      " 2   registrationyear  353560 non-null  int64  \n",
      " 3   gearbox           353560 non-null  object \n",
      " 4   power             353560 non-null  float64\n",
      " 5   model             353560 non-null  object \n",
      " 6   mileage           353560 non-null  int64  \n",
      " 7   fueltype          353560 non-null  object \n",
      " 8   brand             353560 non-null  object \n",
      " 9   notrepaired       353560 non-null  int64  \n",
      "dtypes: float64(1), int64(4), object(5)\n",
      "memory usage: 29.7+ MB\n"
     ]
    }
   ],
   "source": [
    "df.info()"
   ]
  },
  {
   "cell_type": "code",
   "execution_count": 96,
   "metadata": {},
   "outputs": [
    {
     "data": {
      "text/plain": [
       "Text(0.5, 1.0, 'power')"
      ]
     },
     "execution_count": 96,
     "metadata": {},
     "output_type": "execute_result"
    },
    {
     "data": {
      "image/png": "[encoded data removed]",
      "text/plain": [
       "<Figure size 720x432 with 1 Axes>"
      ]
     },
     "metadata": {
      "needs_background": "light"
     },
     "output_type": "display_data"
    }
   ],
   "source": [
    "# Visualy check\n",
    "plt.figure(figsize=(10,6))\n",
    "sns.histplot(df.power)\n",
    "plt.xlim(-10, 100)\n",
    "plt.title(\"power\") "
   ]
  },
  {
   "cell_type": "markdown",
   "metadata": {},
   "source": [
    "Let's one hot encode the categorical columns:"
   ]
  },
  {
   "cell_type": "code",
   "execution_count": 97,
   "metadata": {},
   "outputs": [
    {
     "data": {
      "text/html": [
       "<div>\n",
       "<style scoped>\n",
       "    .dataframe tbody tr th:only-of-type {\n",
       "        vertical-align: middle;\n",
       "    }\n",
       "\n",
       "    .dataframe tbody tr th {\n",
       "        vertical-align: top;\n",
       "    }\n",
       "\n",
       "    .dataframe thead th {\n",
       "        text-align: right;\n",
       "    }\n",
       "</style>\n",
       "<table border=\"1\" class=\"dataframe\">\n",
       "  <thead>\n",
       "    <tr style=\"text-align: right;\">\n",
       "      <th></th>\n",
       "      <th>price</th>\n",
       "      <th>registrationyear</th>\n",
       "      <th>power</th>\n",
       "      <th>mileage</th>\n",
       "      <th>notrepaired</th>\n",
       "      <th>vehicletype_bus</th>\n",
       "      <th>vehicletype_convertible</th>\n",
       "      <th>vehicletype_coupe</th>\n",
       "      <th>vehicletype_other</th>\n",
       "      <th>vehicletype_sedan</th>\n",
       "      <th>...</th>\n",
       "      <th>brand_seat</th>\n",
       "      <th>brand_skoda</th>\n",
       "      <th>brand_smart</th>\n",
       "      <th>brand_sonstige_autos</th>\n",
       "      <th>brand_subaru</th>\n",
       "      <th>brand_suzuki</th>\n",
       "      <th>brand_toyota</th>\n",
       "      <th>brand_trabant</th>\n",
       "      <th>brand_volkswagen</th>\n",
       "      <th>brand_volvo</th>\n",
       "    </tr>\n",
       "  </thead>\n",
       "  <tbody>\n",
       "    <tr>\n",
       "      <th>0</th>\n",
       "      <td>480</td>\n",
       "      <td>1993</td>\n",
       "      <td>75.0</td>\n",
       "      <td>150000</td>\n",
       "      <td>1</td>\n",
       "      <td>0</td>\n",
       "      <td>0</td>\n",
       "      <td>0</td>\n",
       "      <td>0</td>\n",
       "      <td>1</td>\n",
       "      <td>...</td>\n",
       "      <td>0</td>\n",
       "      <td>0</td>\n",
       "      <td>0</td>\n",
       "      <td>0</td>\n",
       "      <td>0</td>\n",
       "      <td>0</td>\n",
       "      <td>0</td>\n",
       "      <td>0</td>\n",
       "      <td>1</td>\n",
       "      <td>0</td>\n",
       "    </tr>\n",
       "    <tr>\n",
       "      <th>1</th>\n",
       "      <td>18300</td>\n",
       "      <td>2011</td>\n",
       "      <td>190.0</td>\n",
       "      <td>125000</td>\n",
       "      <td>1</td>\n",
       "      <td>0</td>\n",
       "      <td>0</td>\n",
       "      <td>1</td>\n",
       "      <td>0</td>\n",
       "      <td>0</td>\n",
       "      <td>...</td>\n",
       "      <td>0</td>\n",
       "      <td>0</td>\n",
       "      <td>0</td>\n",
       "      <td>0</td>\n",
       "      <td>0</td>\n",
       "      <td>0</td>\n",
       "      <td>0</td>\n",
       "      <td>0</td>\n",
       "      <td>0</td>\n",
       "      <td>0</td>\n",
       "    </tr>\n",
       "    <tr>\n",
       "      <th>2</th>\n",
       "      <td>9800</td>\n",
       "      <td>2004</td>\n",
       "      <td>163.0</td>\n",
       "      <td>125000</td>\n",
       "      <td>1</td>\n",
       "      <td>0</td>\n",
       "      <td>0</td>\n",
       "      <td>0</td>\n",
       "      <td>0</td>\n",
       "      <td>0</td>\n",
       "      <td>...</td>\n",
       "      <td>0</td>\n",
       "      <td>0</td>\n",
       "      <td>0</td>\n",
       "      <td>0</td>\n",
       "      <td>0</td>\n",
       "      <td>0</td>\n",
       "      <td>0</td>\n",
       "      <td>0</td>\n",
       "      <td>0</td>\n",
       "      <td>0</td>\n",
       "    </tr>\n",
       "    <tr>\n",
       "      <th>3</th>\n",
       "      <td>1500</td>\n",
       "      <td>2001</td>\n",
       "      <td>75.0</td>\n",
       "      <td>150000</td>\n",
       "      <td>0</td>\n",
       "      <td>0</td>\n",
       "      <td>0</td>\n",
       "      <td>0</td>\n",
       "      <td>0</td>\n",
       "      <td>0</td>\n",
       "      <td>...</td>\n",
       "      <td>0</td>\n",
       "      <td>0</td>\n",
       "      <td>0</td>\n",
       "      <td>0</td>\n",
       "      <td>0</td>\n",
       "      <td>0</td>\n",
       "      <td>0</td>\n",
       "      <td>0</td>\n",
       "      <td>1</td>\n",
       "      <td>0</td>\n",
       "    </tr>\n",
       "    <tr>\n",
       "      <th>4</th>\n",
       "      <td>3600</td>\n",
       "      <td>2008</td>\n",
       "      <td>75.0</td>\n",
       "      <td>90000</td>\n",
       "      <td>0</td>\n",
       "      <td>0</td>\n",
       "      <td>0</td>\n",
       "      <td>0</td>\n",
       "      <td>0</td>\n",
       "      <td>0</td>\n",
       "      <td>...</td>\n",
       "      <td>0</td>\n",
       "      <td>1</td>\n",
       "      <td>0</td>\n",
       "      <td>0</td>\n",
       "      <td>0</td>\n",
       "      <td>0</td>\n",
       "      <td>0</td>\n",
       "      <td>0</td>\n",
       "      <td>0</td>\n",
       "      <td>0</td>\n",
       "    </tr>\n",
       "    <tr>\n",
       "      <th>...</th>\n",
       "      <td>...</td>\n",
       "      <td>...</td>\n",
       "      <td>...</td>\n",
       "      <td>...</td>\n",
       "      <td>...</td>\n",
       "      <td>...</td>\n",
       "      <td>...</td>\n",
       "      <td>...</td>\n",
       "      <td>...</td>\n",
       "      <td>...</td>\n",
       "      <td>...</td>\n",
       "      <td>...</td>\n",
       "      <td>...</td>\n",
       "      <td>...</td>\n",
       "      <td>...</td>\n",
       "      <td>...</td>\n",
       "      <td>...</td>\n",
       "      <td>...</td>\n",
       "      <td>...</td>\n",
       "      <td>...</td>\n",
       "      <td>...</td>\n",
       "    </tr>\n",
       "    <tr>\n",
       "      <th>354364</th>\n",
       "      <td>0</td>\n",
       "      <td>2005</td>\n",
       "      <td>75.0</td>\n",
       "      <td>150000</td>\n",
       "      <td>1</td>\n",
       "      <td>0</td>\n",
       "      <td>0</td>\n",
       "      <td>0</td>\n",
       "      <td>0</td>\n",
       "      <td>1</td>\n",
       "      <td>...</td>\n",
       "      <td>0</td>\n",
       "      <td>0</td>\n",
       "      <td>0</td>\n",
       "      <td>0</td>\n",
       "      <td>0</td>\n",
       "      <td>0</td>\n",
       "      <td>0</td>\n",
       "      <td>0</td>\n",
       "      <td>0</td>\n",
       "      <td>0</td>\n",
       "    </tr>\n",
       "    <tr>\n",
       "      <th>354365</th>\n",
       "      <td>2200</td>\n",
       "      <td>2005</td>\n",
       "      <td>140.0</td>\n",
       "      <td>20000</td>\n",
       "      <td>1</td>\n",
       "      <td>0</td>\n",
       "      <td>0</td>\n",
       "      <td>0</td>\n",
       "      <td>0</td>\n",
       "      <td>1</td>\n",
       "      <td>...</td>\n",
       "      <td>0</td>\n",
       "      <td>0</td>\n",
       "      <td>0</td>\n",
       "      <td>1</td>\n",
       "      <td>0</td>\n",
       "      <td>0</td>\n",
       "      <td>0</td>\n",
       "      <td>0</td>\n",
       "      <td>0</td>\n",
       "      <td>0</td>\n",
       "    </tr>\n",
       "    <tr>\n",
       "      <th>354366</th>\n",
       "      <td>1199</td>\n",
       "      <td>2000</td>\n",
       "      <td>101.0</td>\n",
       "      <td>125000</td>\n",
       "      <td>0</td>\n",
       "      <td>0</td>\n",
       "      <td>1</td>\n",
       "      <td>0</td>\n",
       "      <td>0</td>\n",
       "      <td>0</td>\n",
       "      <td>...</td>\n",
       "      <td>0</td>\n",
       "      <td>0</td>\n",
       "      <td>1</td>\n",
       "      <td>0</td>\n",
       "      <td>0</td>\n",
       "      <td>0</td>\n",
       "      <td>0</td>\n",
       "      <td>0</td>\n",
       "      <td>0</td>\n",
       "      <td>0</td>\n",
       "    </tr>\n",
       "    <tr>\n",
       "      <th>354367</th>\n",
       "      <td>9200</td>\n",
       "      <td>1996</td>\n",
       "      <td>102.0</td>\n",
       "      <td>150000</td>\n",
       "      <td>0</td>\n",
       "      <td>1</td>\n",
       "      <td>0</td>\n",
       "      <td>0</td>\n",
       "      <td>0</td>\n",
       "      <td>0</td>\n",
       "      <td>...</td>\n",
       "      <td>0</td>\n",
       "      <td>0</td>\n",
       "      <td>0</td>\n",
       "      <td>0</td>\n",
       "      <td>0</td>\n",
       "      <td>0</td>\n",
       "      <td>0</td>\n",
       "      <td>0</td>\n",
       "      <td>1</td>\n",
       "      <td>0</td>\n",
       "    </tr>\n",
       "    <tr>\n",
       "      <th>354368</th>\n",
       "      <td>3400</td>\n",
       "      <td>2002</td>\n",
       "      <td>100.0</td>\n",
       "      <td>150000</td>\n",
       "      <td>1</td>\n",
       "      <td>0</td>\n",
       "      <td>0</td>\n",
       "      <td>0</td>\n",
       "      <td>0</td>\n",
       "      <td>0</td>\n",
       "      <td>...</td>\n",
       "      <td>0</td>\n",
       "      <td>0</td>\n",
       "      <td>0</td>\n",
       "      <td>0</td>\n",
       "      <td>0</td>\n",
       "      <td>0</td>\n",
       "      <td>0</td>\n",
       "      <td>0</td>\n",
       "      <td>1</td>\n",
       "      <td>0</td>\n",
       "    </tr>\n",
       "  </tbody>\n",
       "</table>\n",
       "<p>353560 rows × 305 columns</p>\n",
       "</div>"
      ],
      "text/plain": [
       "        price  registrationyear  power  mileage  notrepaired  vehicletype_bus  \\\n",
       "0         480              1993   75.0   150000            1                0   \n",
       "1       18300              2011  190.0   125000            1                0   \n",
       "2        9800              2004  163.0   125000            1                0   \n",
       "3        1500              2001   75.0   150000            0                0   \n",
       "4        3600              2008   75.0    90000            0                0   \n",
       "...       ...               ...    ...      ...          ...              ...   \n",
       "354364      0              2005   75.0   150000            1                0   \n",
       "354365   2200              2005  140.0    20000            1                0   \n",
       "354366   1199              2000  101.0   125000            0                0   \n",
       "354367   9200              1996  102.0   150000            0                1   \n",
       "354368   3400              2002  100.0   150000            1                0   \n",
       "\n",
       "        vehicletype_convertible  vehicletype_coupe  vehicletype_other  \\\n",
       "0                             0                  0                  0   \n",
       "1                             0                  1                  0   \n",
       "2                             0                  0                  0   \n",
       "3                             0                  0                  0   \n",
       "4                             0                  0                  0   \n",
       "...                         ...                ...                ...   \n",
       "354364                        0                  0                  0   \n",
       "354365                        0                  0                  0   \n",
       "354366                        1                  0                  0   \n",
       "354367                        0                  0                  0   \n",
       "354368                        0                  0                  0   \n",
       "\n",
       "        vehicletype_sedan  ...  brand_seat  brand_skoda  brand_smart  \\\n",
       "0                       1  ...           0            0            0   \n",
       "1                       0  ...           0            0            0   \n",
       "2                       0  ...           0            0            0   \n",
       "3                       0  ...           0            0            0   \n",
       "4                       0  ...           0            1            0   \n",
       "...                   ...  ...         ...          ...          ...   \n",
       "354364                  1  ...           0            0            0   \n",
       "354365                  1  ...           0            0            0   \n",
       "354366                  0  ...           0            0            1   \n",
       "354367                  0  ...           0            0            0   \n",
       "354368                  0  ...           0            0            0   \n",
       "\n",
       "        brand_sonstige_autos  brand_subaru  brand_suzuki  brand_toyota  \\\n",
       "0                          0             0             0             0   \n",
       "1                          0             0             0             0   \n",
       "2                          0             0             0             0   \n",
       "3                          0             0             0             0   \n",
       "4                          0             0             0             0   \n",
       "...                      ...           ...           ...           ...   \n",
       "354364                     0             0             0             0   \n",
       "354365                     1             0             0             0   \n",
       "354366                     0             0             0             0   \n",
       "354367                     0             0             0             0   \n",
       "354368                     0             0             0             0   \n",
       "\n",
       "        brand_trabant  brand_volkswagen  brand_volvo  \n",
       "0                   0                 1            0  \n",
       "1                   0                 0            0  \n",
       "2                   0                 0            0  \n",
       "3                   0                 1            0  \n",
       "4                   0                 0            0  \n",
       "...               ...               ...          ...  \n",
       "354364              0                 0            0  \n",
       "354365              0                 0            0  \n",
       "354366              0                 0            0  \n",
       "354367              0                 1            0  \n",
       "354368              0                 1            0  \n",
       "\n",
       "[353560 rows x 305 columns]"
      ]
     },
     "execution_count": 97,
     "metadata": {},
     "output_type": "execute_result"
    }
   ],
   "source": [
    "df = pd.get_dummies(df, drop_first=True)\n",
    "\n",
    "df"
   ]
  },
  {
   "cell_type": "markdown",
   "metadata": {},
   "source": [
    "<div class=\"alert alert-success\">\n",
    "<b>Reviewer's comment</b>\n",
    "\n",
    "Categorical features were encoded\n",
    "\n",
    "</div>"
   ]
  },
  {
   "cell_type": "code",
   "execution_count": 98,
   "metadata": {},
   "outputs": [],
   "source": [
    "features  = df.drop(columns= \"price\")\n",
    "target =  df.price"
   ]
  },
  {
   "cell_type": "code",
   "execution_count": 99,
   "metadata": {},
   "outputs": [],
   "source": [
    "X_train, X_test, y_train, y_test = train_test_split(features, target, test_size = 0.3)"
   ]
  },
  {
   "cell_type": "markdown",
   "metadata": {},
   "source": [
    "Let's scale (normalize) the values in [\"registrationyear\",\"power\",\"mileage\"] columns"
   ]
  },
  {
   "cell_type": "code",
   "execution_count": 100,
   "metadata": {},
   "outputs": [
    {
     "data": {
      "text/plain": [
       "array([[ 0.00564311, -0.00707318, -1.27528717],\n",
       "       [-0.12956474, -0.29755558, -0.74688826],\n",
       "       [-0.0151581 , -0.23838324,  0.57410904],\n",
       "       ...,\n",
       "       [-0.0255587 ,  0.3802367 ,  0.57410904],\n",
       "       [-0.0255587 ,  0.35871949,  0.57410904],\n",
       "       [-0.18156775, -0.10390065,  0.57410904]])"
      ]
     },
     "execution_count": 100,
     "metadata": {},
     "output_type": "execute_result"
    }
   ],
   "source": [
    "from sklearn.preprocessing import StandardScaler\n",
    "cols = [\"registrationyear\",\"power\",\"mileage\"]\n",
    "scaler = StandardScaler()\n",
    "#scaled = scaler.fit_transform(X_train[cols])\n",
    "scaled_columns = scaler.fit_transform(X_train[cols])\n",
    "scaled_columns"
   ]
  },
  {
   "cell_type": "markdown",
   "metadata": {},
   "source": [
    "<div class=\"alert alert-danger\">\n",
    "<s><b>Reviewer's comment</b>\n",
    "\n",
    "It's problematic to apply scaling to the whole dataset due to data leakage. The correct way is to first split the data, fit the scaler using the train set and then use it to transform train/validation/test, or if you use cross-validation scale each fold separately (the simplest way to achieve that is to use [pipelines](https://scikit-learn.org/stable/modules/generated/sklearn.pipeline.Pipeline.html))\n",
    "\n",
    "</div>"
   ]
  },
  {
   "cell_type": "markdown",
   "metadata": {},
   "source": [
    "A very subtle point! I wouldnt think about it."
   ]
  },
  {
   "cell_type": "markdown",
   "metadata": {},
   "source": [
    "<div class=\"alert alert-success\">\n",
    "<b>Reviewer's comment V2</b>\n",
    "\n",
    "Yeah, it is! :)\n",
    "\n",
    "</div>"
   ]
  },
  {
   "cell_type": "code",
   "execution_count": 101,
   "metadata": {},
   "outputs": [
    {
     "data": {
      "text/html": [
       "<div>\n",
       "<style scoped>\n",
       "    .dataframe tbody tr th:only-of-type {\n",
       "        vertical-align: middle;\n",
       "    }\n",
       "\n",
       "    .dataframe tbody tr th {\n",
       "        vertical-align: top;\n",
       "    }\n",
       "\n",
       "    .dataframe thead th {\n",
       "        text-align: right;\n",
       "    }\n",
       "</style>\n",
       "<table border=\"1\" class=\"dataframe\">\n",
       "  <thead>\n",
       "    <tr style=\"text-align: right;\">\n",
       "      <th></th>\n",
       "      <th>registrationyear</th>\n",
       "      <th>power</th>\n",
       "      <th>mileage</th>\n",
       "      <th>notrepaired</th>\n",
       "      <th>vehicletype_bus</th>\n",
       "      <th>vehicletype_convertible</th>\n",
       "      <th>vehicletype_coupe</th>\n",
       "      <th>vehicletype_other</th>\n",
       "      <th>vehicletype_sedan</th>\n",
       "      <th>vehicletype_small</th>\n",
       "      <th>...</th>\n",
       "      <th>brand_seat</th>\n",
       "      <th>brand_skoda</th>\n",
       "      <th>brand_smart</th>\n",
       "      <th>brand_sonstige_autos</th>\n",
       "      <th>brand_subaru</th>\n",
       "      <th>brand_suzuki</th>\n",
       "      <th>brand_toyota</th>\n",
       "      <th>brand_trabant</th>\n",
       "      <th>brand_volkswagen</th>\n",
       "      <th>brand_volvo</th>\n",
       "    </tr>\n",
       "  </thead>\n",
       "  <tbody>\n",
       "    <tr>\n",
       "      <th>194627</th>\n",
       "      <td>0.005643</td>\n",
       "      <td>-0.007073</td>\n",
       "      <td>-1.275287</td>\n",
       "      <td>0</td>\n",
       "      <td>1</td>\n",
       "      <td>0</td>\n",
       "      <td>0</td>\n",
       "      <td>0</td>\n",
       "      <td>0</td>\n",
       "      <td>0</td>\n",
       "      <td>...</td>\n",
       "      <td>0</td>\n",
       "      <td>0</td>\n",
       "      <td>0</td>\n",
       "      <td>0</td>\n",
       "      <td>0</td>\n",
       "      <td>0</td>\n",
       "      <td>0</td>\n",
       "      <td>0</td>\n",
       "      <td>0</td>\n",
       "      <td>0</td>\n",
       "    </tr>\n",
       "    <tr>\n",
       "      <th>319739</th>\n",
       "      <td>-0.129565</td>\n",
       "      <td>-0.297556</td>\n",
       "      <td>-0.746888</td>\n",
       "      <td>1</td>\n",
       "      <td>0</td>\n",
       "      <td>0</td>\n",
       "      <td>0</td>\n",
       "      <td>0</td>\n",
       "      <td>0</td>\n",
       "      <td>1</td>\n",
       "      <td>...</td>\n",
       "      <td>0</td>\n",
       "      <td>0</td>\n",
       "      <td>1</td>\n",
       "      <td>0</td>\n",
       "      <td>0</td>\n",
       "      <td>0</td>\n",
       "      <td>0</td>\n",
       "      <td>0</td>\n",
       "      <td>0</td>\n",
       "      <td>0</td>\n",
       "    </tr>\n",
       "    <tr>\n",
       "      <th>333851</th>\n",
       "      <td>-0.015158</td>\n",
       "      <td>-0.238383</td>\n",
       "      <td>0.574109</td>\n",
       "      <td>1</td>\n",
       "      <td>0</td>\n",
       "      <td>0</td>\n",
       "      <td>0</td>\n",
       "      <td>0</td>\n",
       "      <td>0</td>\n",
       "      <td>0</td>\n",
       "      <td>...</td>\n",
       "      <td>0</td>\n",
       "      <td>0</td>\n",
       "      <td>0</td>\n",
       "      <td>0</td>\n",
       "      <td>0</td>\n",
       "      <td>0</td>\n",
       "      <td>0</td>\n",
       "      <td>0</td>\n",
       "      <td>0</td>\n",
       "      <td>0</td>\n",
       "    </tr>\n",
       "    <tr>\n",
       "      <th>220332</th>\n",
       "      <td>-0.056761</td>\n",
       "      <td>-0.033970</td>\n",
       "      <td>0.574109</td>\n",
       "      <td>1</td>\n",
       "      <td>0</td>\n",
       "      <td>0</td>\n",
       "      <td>0</td>\n",
       "      <td>0</td>\n",
       "      <td>0</td>\n",
       "      <td>0</td>\n",
       "      <td>...</td>\n",
       "      <td>0</td>\n",
       "      <td>0</td>\n",
       "      <td>0</td>\n",
       "      <td>0</td>\n",
       "      <td>0</td>\n",
       "      <td>0</td>\n",
       "      <td>0</td>\n",
       "      <td>0</td>\n",
       "      <td>0</td>\n",
       "      <td>0</td>\n",
       "    </tr>\n",
       "    <tr>\n",
       "      <th>225716</th>\n",
       "      <td>-0.067161</td>\n",
       "      <td>-0.195349</td>\n",
       "      <td>0.574109</td>\n",
       "      <td>0</td>\n",
       "      <td>0</td>\n",
       "      <td>0</td>\n",
       "      <td>0</td>\n",
       "      <td>0</td>\n",
       "      <td>0</td>\n",
       "      <td>1</td>\n",
       "      <td>...</td>\n",
       "      <td>0</td>\n",
       "      <td>0</td>\n",
       "      <td>0</td>\n",
       "      <td>0</td>\n",
       "      <td>0</td>\n",
       "      <td>0</td>\n",
       "      <td>0</td>\n",
       "      <td>0</td>\n",
       "      <td>1</td>\n",
       "      <td>0</td>\n",
       "    </tr>\n",
       "    <tr>\n",
       "      <th>...</th>\n",
       "      <td>...</td>\n",
       "      <td>...</td>\n",
       "      <td>...</td>\n",
       "      <td>...</td>\n",
       "      <td>...</td>\n",
       "      <td>...</td>\n",
       "      <td>...</td>\n",
       "      <td>...</td>\n",
       "      <td>...</td>\n",
       "      <td>...</td>\n",
       "      <td>...</td>\n",
       "      <td>...</td>\n",
       "      <td>...</td>\n",
       "      <td>...</td>\n",
       "      <td>...</td>\n",
       "      <td>...</td>\n",
       "      <td>...</td>\n",
       "      <td>...</td>\n",
       "      <td>...</td>\n",
       "      <td>...</td>\n",
       "      <td>...</td>\n",
       "    </tr>\n",
       "    <tr>\n",
       "      <th>315007</th>\n",
       "      <td>0.120050</td>\n",
       "      <td>-0.222245</td>\n",
       "      <td>-3.256783</td>\n",
       "      <td>1</td>\n",
       "      <td>0</td>\n",
       "      <td>0</td>\n",
       "      <td>0</td>\n",
       "      <td>0</td>\n",
       "      <td>0</td>\n",
       "      <td>1</td>\n",
       "      <td>...</td>\n",
       "      <td>0</td>\n",
       "      <td>0</td>\n",
       "      <td>0</td>\n",
       "      <td>0</td>\n",
       "      <td>0</td>\n",
       "      <td>0</td>\n",
       "      <td>0</td>\n",
       "      <td>0</td>\n",
       "      <td>0</td>\n",
       "      <td>0</td>\n",
       "    </tr>\n",
       "    <tr>\n",
       "      <th>272039</th>\n",
       "      <td>-0.056761</td>\n",
       "      <td>-0.136176</td>\n",
       "      <td>0.574109</td>\n",
       "      <td>0</td>\n",
       "      <td>0</td>\n",
       "      <td>0</td>\n",
       "      <td>0</td>\n",
       "      <td>0</td>\n",
       "      <td>0</td>\n",
       "      <td>0</td>\n",
       "      <td>...</td>\n",
       "      <td>0</td>\n",
       "      <td>0</td>\n",
       "      <td>0</td>\n",
       "      <td>0</td>\n",
       "      <td>0</td>\n",
       "      <td>0</td>\n",
       "      <td>0</td>\n",
       "      <td>0</td>\n",
       "      <td>0</td>\n",
       "      <td>0</td>\n",
       "    </tr>\n",
       "    <tr>\n",
       "      <th>101926</th>\n",
       "      <td>-0.025559</td>\n",
       "      <td>0.380237</td>\n",
       "      <td>0.574109</td>\n",
       "      <td>0</td>\n",
       "      <td>0</td>\n",
       "      <td>1</td>\n",
       "      <td>0</td>\n",
       "      <td>0</td>\n",
       "      <td>0</td>\n",
       "      <td>0</td>\n",
       "      <td>...</td>\n",
       "      <td>0</td>\n",
       "      <td>0</td>\n",
       "      <td>0</td>\n",
       "      <td>0</td>\n",
       "      <td>0</td>\n",
       "      <td>0</td>\n",
       "      <td>0</td>\n",
       "      <td>0</td>\n",
       "      <td>0</td>\n",
       "      <td>0</td>\n",
       "    </tr>\n",
       "    <tr>\n",
       "      <th>353347</th>\n",
       "      <td>-0.025559</td>\n",
       "      <td>0.358719</td>\n",
       "      <td>0.574109</td>\n",
       "      <td>1</td>\n",
       "      <td>0</td>\n",
       "      <td>0</td>\n",
       "      <td>0</td>\n",
       "      <td>0</td>\n",
       "      <td>0</td>\n",
       "      <td>0</td>\n",
       "      <td>...</td>\n",
       "      <td>0</td>\n",
       "      <td>0</td>\n",
       "      <td>0</td>\n",
       "      <td>0</td>\n",
       "      <td>0</td>\n",
       "      <td>0</td>\n",
       "      <td>0</td>\n",
       "      <td>0</td>\n",
       "      <td>0</td>\n",
       "      <td>0</td>\n",
       "    </tr>\n",
       "    <tr>\n",
       "      <th>219064</th>\n",
       "      <td>-0.181568</td>\n",
       "      <td>-0.103901</td>\n",
       "      <td>0.574109</td>\n",
       "      <td>0</td>\n",
       "      <td>0</td>\n",
       "      <td>0</td>\n",
       "      <td>0</td>\n",
       "      <td>0</td>\n",
       "      <td>1</td>\n",
       "      <td>0</td>\n",
       "      <td>...</td>\n",
       "      <td>0</td>\n",
       "      <td>0</td>\n",
       "      <td>0</td>\n",
       "      <td>0</td>\n",
       "      <td>0</td>\n",
       "      <td>0</td>\n",
       "      <td>0</td>\n",
       "      <td>0</td>\n",
       "      <td>1</td>\n",
       "      <td>0</td>\n",
       "    </tr>\n",
       "  </tbody>\n",
       "</table>\n",
       "<p>247492 rows × 304 columns</p>\n",
       "</div>"
      ],
      "text/plain": [
       "        registrationyear     power   mileage  notrepaired  vehicletype_bus  \\\n",
       "194627          0.005643 -0.007073 -1.275287            0                1   \n",
       "319739         -0.129565 -0.297556 -0.746888            1                0   \n",
       "333851         -0.015158 -0.238383  0.574109            1                0   \n",
       "220332         -0.056761 -0.033970  0.574109            1                0   \n",
       "225716         -0.067161 -0.195349  0.574109            0                0   \n",
       "...                  ...       ...       ...          ...              ...   \n",
       "315007          0.120050 -0.222245 -3.256783            1                0   \n",
       "272039         -0.056761 -0.136176  0.574109            0                0   \n",
       "101926         -0.025559  0.380237  0.574109            0                0   \n",
       "353347         -0.025559  0.358719  0.574109            1                0   \n",
       "219064         -0.181568 -0.103901  0.574109            0                0   \n",
       "\n",
       "        vehicletype_convertible  vehicletype_coupe  vehicletype_other  \\\n",
       "194627                        0                  0                  0   \n",
       "319739                        0                  0                  0   \n",
       "333851                        0                  0                  0   \n",
       "220332                        0                  0                  0   \n",
       "225716                        0                  0                  0   \n",
       "...                         ...                ...                ...   \n",
       "315007                        0                  0                  0   \n",
       "272039                        0                  0                  0   \n",
       "101926                        1                  0                  0   \n",
       "353347                        0                  0                  0   \n",
       "219064                        0                  0                  0   \n",
       "\n",
       "        vehicletype_sedan  vehicletype_small  ...  brand_seat  brand_skoda  \\\n",
       "194627                  0                  0  ...           0            0   \n",
       "319739                  0                  1  ...           0            0   \n",
       "333851                  0                  0  ...           0            0   \n",
       "220332                  0                  0  ...           0            0   \n",
       "225716                  0                  1  ...           0            0   \n",
       "...                   ...                ...  ...         ...          ...   \n",
       "315007                  0                  1  ...           0            0   \n",
       "272039                  0                  0  ...           0            0   \n",
       "101926                  0                  0  ...           0            0   \n",
       "353347                  0                  0  ...           0            0   \n",
       "219064                  1                  0  ...           0            0   \n",
       "\n",
       "        brand_smart  brand_sonstige_autos  brand_subaru  brand_suzuki  \\\n",
       "194627            0                     0             0             0   \n",
       "319739            1                     0             0             0   \n",
       "333851            0                     0             0             0   \n",
       "220332            0                     0             0             0   \n",
       "225716            0                     0             0             0   \n",
       "...             ...                   ...           ...           ...   \n",
       "315007            0                     0             0             0   \n",
       "272039            0                     0             0             0   \n",
       "101926            0                     0             0             0   \n",
       "353347            0                     0             0             0   \n",
       "219064            0                     0             0             0   \n",
       "\n",
       "        brand_toyota  brand_trabant  brand_volkswagen  brand_volvo  \n",
       "194627             0              0                 0            0  \n",
       "319739             0              0                 0            0  \n",
       "333851             0              0                 0            0  \n",
       "220332             0              0                 0            0  \n",
       "225716             0              0                 1            0  \n",
       "...              ...            ...               ...          ...  \n",
       "315007             0              0                 0            0  \n",
       "272039             0              0                 0            0  \n",
       "101926             0              0                 0            0  \n",
       "353347             0              0                 0            0  \n",
       "219064             0              0                 1            0  \n",
       "\n",
       "[247492 rows x 304 columns]"
      ]
     },
     "execution_count": 101,
     "metadata": {},
     "output_type": "execute_result"
    }
   ],
   "source": [
    "pd.options.mode.chained_assignment = None\n",
    "\n",
    "X_train[cols] = scaled_columns\n",
    "X_train"
   ]
  },
  {
   "cell_type": "code",
   "execution_count": 102,
   "metadata": {},
   "outputs": [],
   "source": [
    "pd.options.mode.chained_assignment = None\n",
    "X_test[cols] = scaler.transform(X_test[cols])\n",
    "# X_test[cols]"
   ]
  },
  {
   "cell_type": "code",
   "execution_count": 103,
   "metadata": {},
   "outputs": [
    {
     "data": {
      "text/html": [
       "<div>\n",
       "<style scoped>\n",
       "    .dataframe tbody tr th:only-of-type {\n",
       "        vertical-align: middle;\n",
       "    }\n",
       "\n",
       "    .dataframe tbody tr th {\n",
       "        vertical-align: top;\n",
       "    }\n",
       "\n",
       "    .dataframe thead th {\n",
       "        text-align: right;\n",
       "    }\n",
       "</style>\n",
       "<table border=\"1\" class=\"dataframe\">\n",
       "  <thead>\n",
       "    <tr style=\"text-align: right;\">\n",
       "      <th></th>\n",
       "      <th>registrationyear</th>\n",
       "      <th>power</th>\n",
       "      <th>mileage</th>\n",
       "      <th>notrepaired</th>\n",
       "      <th>vehicletype_bus</th>\n",
       "      <th>vehicletype_convertible</th>\n",
       "      <th>vehicletype_coupe</th>\n",
       "      <th>vehicletype_other</th>\n",
       "      <th>vehicletype_sedan</th>\n",
       "      <th>vehicletype_small</th>\n",
       "      <th>...</th>\n",
       "      <th>brand_seat</th>\n",
       "      <th>brand_skoda</th>\n",
       "      <th>brand_smart</th>\n",
       "      <th>brand_sonstige_autos</th>\n",
       "      <th>brand_subaru</th>\n",
       "      <th>brand_suzuki</th>\n",
       "      <th>brand_toyota</th>\n",
       "      <th>brand_trabant</th>\n",
       "      <th>brand_volkswagen</th>\n",
       "      <th>brand_volvo</th>\n",
       "    </tr>\n",
       "  </thead>\n",
       "  <tbody>\n",
       "    <tr>\n",
       "      <th>245790</th>\n",
       "      <td>-0.462384</td>\n",
       "      <td>-0.055487</td>\n",
       "      <td>0.574109</td>\n",
       "      <td>1</td>\n",
       "      <td>0</td>\n",
       "      <td>0</td>\n",
       "      <td>0</td>\n",
       "      <td>0</td>\n",
       "      <td>0</td>\n",
       "      <td>0</td>\n",
       "      <td>...</td>\n",
       "      <td>0</td>\n",
       "      <td>0</td>\n",
       "      <td>0</td>\n",
       "      <td>0</td>\n",
       "      <td>0</td>\n",
       "      <td>0</td>\n",
       "      <td>0</td>\n",
       "      <td>0</td>\n",
       "      <td>0</td>\n",
       "      <td>0</td>\n",
       "    </tr>\n",
       "    <tr>\n",
       "      <th>117705</th>\n",
       "      <td>-0.025559</td>\n",
       "      <td>-0.136176</td>\n",
       "      <td>0.574109</td>\n",
       "      <td>0</td>\n",
       "      <td>1</td>\n",
       "      <td>0</td>\n",
       "      <td>0</td>\n",
       "      <td>0</td>\n",
       "      <td>0</td>\n",
       "      <td>0</td>\n",
       "      <td>...</td>\n",
       "      <td>0</td>\n",
       "      <td>0</td>\n",
       "      <td>0</td>\n",
       "      <td>0</td>\n",
       "      <td>0</td>\n",
       "      <td>0</td>\n",
       "      <td>0</td>\n",
       "      <td>0</td>\n",
       "      <td>0</td>\n",
       "      <td>0</td>\n",
       "    </tr>\n",
       "    <tr>\n",
       "      <th>95973</th>\n",
       "      <td>0.005643</td>\n",
       "      <td>0.100513</td>\n",
       "      <td>0.574109</td>\n",
       "      <td>0</td>\n",
       "      <td>0</td>\n",
       "      <td>0</td>\n",
       "      <td>0</td>\n",
       "      <td>0</td>\n",
       "      <td>0</td>\n",
       "      <td>0</td>\n",
       "      <td>...</td>\n",
       "      <td>0</td>\n",
       "      <td>0</td>\n",
       "      <td>0</td>\n",
       "      <td>0</td>\n",
       "      <td>0</td>\n",
       "      <td>0</td>\n",
       "      <td>0</td>\n",
       "      <td>0</td>\n",
       "      <td>0</td>\n",
       "      <td>0</td>\n",
       "    </tr>\n",
       "    <tr>\n",
       "      <th>79708</th>\n",
       "      <td>-0.067161</td>\n",
       "      <td>-0.060866</td>\n",
       "      <td>0.574109</td>\n",
       "      <td>0</td>\n",
       "      <td>0</td>\n",
       "      <td>0</td>\n",
       "      <td>0</td>\n",
       "      <td>0</td>\n",
       "      <td>1</td>\n",
       "      <td>0</td>\n",
       "      <td>...</td>\n",
       "      <td>0</td>\n",
       "      <td>0</td>\n",
       "      <td>0</td>\n",
       "      <td>0</td>\n",
       "      <td>0</td>\n",
       "      <td>0</td>\n",
       "      <td>0</td>\n",
       "      <td>0</td>\n",
       "      <td>0</td>\n",
       "      <td>0</td>\n",
       "    </tr>\n",
       "    <tr>\n",
       "      <th>213140</th>\n",
       "      <td>0.005643</td>\n",
       "      <td>0.342582</td>\n",
       "      <td>0.574109</td>\n",
       "      <td>0</td>\n",
       "      <td>0</td>\n",
       "      <td>0</td>\n",
       "      <td>0</td>\n",
       "      <td>0</td>\n",
       "      <td>0</td>\n",
       "      <td>0</td>\n",
       "      <td>...</td>\n",
       "      <td>0</td>\n",
       "      <td>0</td>\n",
       "      <td>0</td>\n",
       "      <td>0</td>\n",
       "      <td>0</td>\n",
       "      <td>0</td>\n",
       "      <td>0</td>\n",
       "      <td>0</td>\n",
       "      <td>0</td>\n",
       "      <td>1</td>\n",
       "    </tr>\n",
       "    <tr>\n",
       "      <th>...</th>\n",
       "      <td>...</td>\n",
       "      <td>...</td>\n",
       "      <td>...</td>\n",
       "      <td>...</td>\n",
       "      <td>...</td>\n",
       "      <td>...</td>\n",
       "      <td>...</td>\n",
       "      <td>...</td>\n",
       "      <td>...</td>\n",
       "      <td>...</td>\n",
       "      <td>...</td>\n",
       "      <td>...</td>\n",
       "      <td>...</td>\n",
       "      <td>...</td>\n",
       "      <td>...</td>\n",
       "      <td>...</td>\n",
       "      <td>...</td>\n",
       "      <td>...</td>\n",
       "      <td>...</td>\n",
       "      <td>...</td>\n",
       "      <td>...</td>\n",
       "    </tr>\n",
       "    <tr>\n",
       "      <th>169790</th>\n",
       "      <td>-0.056761</td>\n",
       "      <td>-0.023211</td>\n",
       "      <td>0.574109</td>\n",
       "      <td>0</td>\n",
       "      <td>0</td>\n",
       "      <td>0</td>\n",
       "      <td>0</td>\n",
       "      <td>0</td>\n",
       "      <td>0</td>\n",
       "      <td>0</td>\n",
       "      <td>...</td>\n",
       "      <td>0</td>\n",
       "      <td>0</td>\n",
       "      <td>0</td>\n",
       "      <td>0</td>\n",
       "      <td>0</td>\n",
       "      <td>0</td>\n",
       "      <td>0</td>\n",
       "      <td>0</td>\n",
       "      <td>0</td>\n",
       "      <td>1</td>\n",
       "    </tr>\n",
       "    <tr>\n",
       "      <th>334730</th>\n",
       "      <td>-0.015158</td>\n",
       "      <td>-0.028590</td>\n",
       "      <td>0.574109</td>\n",
       "      <td>0</td>\n",
       "      <td>0</td>\n",
       "      <td>0</td>\n",
       "      <td>0</td>\n",
       "      <td>0</td>\n",
       "      <td>1</td>\n",
       "      <td>0</td>\n",
       "      <td>...</td>\n",
       "      <td>0</td>\n",
       "      <td>0</td>\n",
       "      <td>0</td>\n",
       "      <td>0</td>\n",
       "      <td>0</td>\n",
       "      <td>0</td>\n",
       "      <td>0</td>\n",
       "      <td>0</td>\n",
       "      <td>0</td>\n",
       "      <td>0</td>\n",
       "    </tr>\n",
       "    <tr>\n",
       "      <th>3019</th>\n",
       "      <td>-0.035959</td>\n",
       "      <td>-0.297556</td>\n",
       "      <td>-0.086390</td>\n",
       "      <td>0</td>\n",
       "      <td>0</td>\n",
       "      <td>0</td>\n",
       "      <td>0</td>\n",
       "      <td>0</td>\n",
       "      <td>0</td>\n",
       "      <td>1</td>\n",
       "      <td>...</td>\n",
       "      <td>0</td>\n",
       "      <td>0</td>\n",
       "      <td>1</td>\n",
       "      <td>0</td>\n",
       "      <td>0</td>\n",
       "      <td>0</td>\n",
       "      <td>0</td>\n",
       "      <td>0</td>\n",
       "      <td>0</td>\n",
       "      <td>0</td>\n",
       "    </tr>\n",
       "    <tr>\n",
       "      <th>150330</th>\n",
       "      <td>0.036845</td>\n",
       "      <td>-0.276038</td>\n",
       "      <td>-2.067886</td>\n",
       "      <td>0</td>\n",
       "      <td>0</td>\n",
       "      <td>0</td>\n",
       "      <td>0</td>\n",
       "      <td>0</td>\n",
       "      <td>0</td>\n",
       "      <td>1</td>\n",
       "      <td>...</td>\n",
       "      <td>0</td>\n",
       "      <td>0</td>\n",
       "      <td>0</td>\n",
       "      <td>0</td>\n",
       "      <td>0</td>\n",
       "      <td>0</td>\n",
       "      <td>0</td>\n",
       "      <td>0</td>\n",
       "      <td>1</td>\n",
       "      <td>0</td>\n",
       "    </tr>\n",
       "    <tr>\n",
       "      <th>311922</th>\n",
       "      <td>-0.077562</td>\n",
       "      <td>-0.114659</td>\n",
       "      <td>0.574109</td>\n",
       "      <td>0</td>\n",
       "      <td>0</td>\n",
       "      <td>0</td>\n",
       "      <td>0</td>\n",
       "      <td>0</td>\n",
       "      <td>0</td>\n",
       "      <td>1</td>\n",
       "      <td>...</td>\n",
       "      <td>0</td>\n",
       "      <td>0</td>\n",
       "      <td>0</td>\n",
       "      <td>0</td>\n",
       "      <td>0</td>\n",
       "      <td>0</td>\n",
       "      <td>0</td>\n",
       "      <td>0</td>\n",
       "      <td>0</td>\n",
       "      <td>0</td>\n",
       "    </tr>\n",
       "  </tbody>\n",
       "</table>\n",
       "<p>106068 rows × 304 columns</p>\n",
       "</div>"
      ],
      "text/plain": [
       "        registrationyear     power   mileage  notrepaired  vehicletype_bus  \\\n",
       "245790         -0.462384 -0.055487  0.574109            1                0   \n",
       "117705         -0.025559 -0.136176  0.574109            0                1   \n",
       "95973           0.005643  0.100513  0.574109            0                0   \n",
       "79708          -0.067161 -0.060866  0.574109            0                0   \n",
       "213140          0.005643  0.342582  0.574109            0                0   \n",
       "...                  ...       ...       ...          ...              ...   \n",
       "169790         -0.056761 -0.023211  0.574109            0                0   \n",
       "334730         -0.015158 -0.028590  0.574109            0                0   \n",
       "3019           -0.035959 -0.297556 -0.086390            0                0   \n",
       "150330          0.036845 -0.276038 -2.067886            0                0   \n",
       "311922         -0.077562 -0.114659  0.574109            0                0   \n",
       "\n",
       "        vehicletype_convertible  vehicletype_coupe  vehicletype_other  \\\n",
       "245790                        0                  0                  0   \n",
       "117705                        0                  0                  0   \n",
       "95973                         0                  0                  0   \n",
       "79708                         0                  0                  0   \n",
       "213140                        0                  0                  0   \n",
       "...                         ...                ...                ...   \n",
       "169790                        0                  0                  0   \n",
       "334730                        0                  0                  0   \n",
       "3019                          0                  0                  0   \n",
       "150330                        0                  0                  0   \n",
       "311922                        0                  0                  0   \n",
       "\n",
       "        vehicletype_sedan  vehicletype_small  ...  brand_seat  brand_skoda  \\\n",
       "245790                  0                  0  ...           0            0   \n",
       "117705                  0                  0  ...           0            0   \n",
       "95973                   0                  0  ...           0            0   \n",
       "79708                   1                  0  ...           0            0   \n",
       "213140                  0                  0  ...           0            0   \n",
       "...                   ...                ...  ...         ...          ...   \n",
       "169790                  0                  0  ...           0            0   \n",
       "334730                  1                  0  ...           0            0   \n",
       "3019                    0                  1  ...           0            0   \n",
       "150330                  0                  1  ...           0            0   \n",
       "311922                  0                  1  ...           0            0   \n",
       "\n",
       "        brand_smart  brand_sonstige_autos  brand_subaru  brand_suzuki  \\\n",
       "245790            0                     0             0             0   \n",
       "117705            0                     0             0             0   \n",
       "95973             0                     0             0             0   \n",
       "79708             0                     0             0             0   \n",
       "213140            0                     0             0             0   \n",
       "...             ...                   ...           ...           ...   \n",
       "169790            0                     0             0             0   \n",
       "334730            0                     0             0             0   \n",
       "3019              1                     0             0             0   \n",
       "150330            0                     0             0             0   \n",
       "311922            0                     0             0             0   \n",
       "\n",
       "        brand_toyota  brand_trabant  brand_volkswagen  brand_volvo  \n",
       "245790             0              0                 0            0  \n",
       "117705             0              0                 0            0  \n",
       "95973              0              0                 0            0  \n",
       "79708              0              0                 0            0  \n",
       "213140             0              0                 0            1  \n",
       "...              ...            ...               ...          ...  \n",
       "169790             0              0                 0            1  \n",
       "334730             0              0                 0            0  \n",
       "3019               0              0                 0            0  \n",
       "150330             0              0                 1            0  \n",
       "311922             0              0                 0            0  \n",
       "\n",
       "[106068 rows x 304 columns]"
      ]
     },
     "execution_count": 103,
     "metadata": {},
     "output_type": "execute_result"
    }
   ],
   "source": [
    "X_test"
   ]
  },
  {
   "cell_type": "markdown",
   "metadata": {},
   "source": [
    "<div class=\"alert alert-success\">\n",
    "<b>Reviewer's comment</b>\n",
    "\n",
    "The data was split into train and test\n",
    "\n",
    "</div>"
   ]
  },
  {
   "cell_type": "markdown",
   "metadata": {},
   "source": [
    "Let's build models:"
   ]
  },
  {
   "cell_type": "markdown",
   "metadata": {},
   "source": [
    "## Model training"
   ]
  },
  {
   "cell_type": "markdown",
   "metadata": {},
   "source": [
    "### LINEAR REGRESSOR AS PERFORMANCE BENCHMARK"
   ]
  },
  {
   "cell_type": "code",
   "execution_count": 104,
   "metadata": {},
   "outputs": [
    {
     "name": "stdout",
     "output_type": "stream",
     "text": [
      "Linear model RMSE =  3203.11\n"
     ]
    }
   ],
   "source": [
    "linear = LinearRegression()\n",
    "linear.fit(X_train, y_train)\n",
    "l_pred = linear.predict(X_test)\n",
    "l_rmse = sqrt(mean_squared_error(y_test, l_pred ))\n",
    "print(\"Linear model RMSE = \", round(l_rmse,2))"
   ]
  },
  {
   "cell_type": "markdown",
   "metadata": {},
   "source": [
    "### Random Forest Regressor"
   ]
  },
  {
   "cell_type": "code",
   "execution_count": 105,
   "metadata": {},
   "outputs": [
    {
     "name": "stdout",
     "output_type": "stream",
     "text": [
      "Forest model RMSE =  1844.19\n"
     ]
    }
   ],
   "source": [
    "forest = RandomForestRegressor(n_estimators = 9)\n",
    "forest.fit(X_train, y_train)\n",
    "preds = forest.predict(X_test)\n",
    "rmse = sqrt(mean_squared_error(y_test, preds ))\n",
    "print(\"Forest model RMSE = \", round(rmse,2))\n"
   ]
  },
  {
   "cell_type": "markdown",
   "metadata": {},
   "source": [
    "### GRADIENT BOOSTING REGRESSOR"
   ]
  },
  {
   "cell_type": "code",
   "execution_count": 106,
   "metadata": {},
   "outputs": [
    {
     "name": "stdout",
     "output_type": "stream",
     "text": [
      "Boosting Regressor RMSE =  3153.57\n"
     ]
    }
   ],
   "source": [
    "boosted_model = GradientBoostingRegressor(random_state=0, n_estimators = 9 )\n",
    "boosted_model.fit(X_train, y_train)\n",
    "boosted_preds = boosted_model.predict(X_test)\n",
    "boosted_rmse = sqrt(mean_squared_error(y_test, boosted_preds ))\n",
    "print(\"Boosting Regressor RMSE = \", round(boosted_rmse,2))"
   ]
  },
  {
   "cell_type": "markdown",
   "metadata": {},
   "source": [
    "### CATBOOST REGRESSOR"
   ]
  },
  {
   "cell_type": "code",
   "execution_count": 107,
   "metadata": {},
   "outputs": [
    {
     "name": "stdout",
     "output_type": "stream",
     "text": [
      "0:\tlearn: 4481.8479712\ttotal: 55ms\tremaining: 495ms\n",
      "9:\tlearn: 4224.6207222\ttotal: 396ms\tremaining: 0us\n",
      "0:\tlearn: 4487.0362657\ttotal: 47.3ms\tremaining: 426ms\n",
      "9:\tlearn: 4230.4532562\ttotal: 392ms\tremaining: 0us\n",
      "0:\tlearn: 4482.8610530\ttotal: 43.5ms\tremaining: 392ms\n",
      "9:\tlearn: 4225.4795811\ttotal: 387ms\tremaining: 0us\n",
      "0:\tlearn: 4495.0610230\ttotal: 41.7ms\tremaining: 375ms\n",
      "9:\tlearn: 4237.7504806\ttotal: 374ms\tremaining: 0us\n",
      "0:\tlearn: 4479.6972238\ttotal: 33.2ms\tremaining: 299ms\n",
      "9:\tlearn: 4223.9363234\ttotal: 375ms\tremaining: 0us\n",
      "0:\tlearn: 4509.4559517\ttotal: 35.8ms\tremaining: 322ms\n",
      "9:\tlearn: 4482.7074970\ttotal: 324ms\tremaining: 0us\n",
      "0:\tlearn: 4514.8845633\ttotal: 29.2ms\tremaining: 263ms\n",
      "9:\tlearn: 4488.1779306\ttotal: 320ms\tremaining: 0us\n",
      "0:\tlearn: 4510.4456564\ttotal: 34.6ms\tremaining: 311ms\n",
      "9:\tlearn: 4483.6549556\ttotal: 339ms\tremaining: 0us\n",
      "0:\tlearn: 4522.8439376\ttotal: 34.6ms\tremaining: 311ms\n",
      "9:\tlearn: 4496.1517332\ttotal: 324ms\tremaining: 0us\n",
      "0:\tlearn: 4507.3528618\ttotal: 31.2ms\tremaining: 281ms\n",
      "9:\tlearn: 4480.7068088\ttotal: 321ms\tremaining: 0us\n",
      "0:\tlearn: 4509.3120257\ttotal: 50.9ms\tremaining: 458ms\n",
      "9:\tlearn: 4481.6899385\ttotal: 568ms\tremaining: 0us\n",
      "0:\tlearn: 4514.7915429\ttotal: 53.2ms\tremaining: 479ms\n",
      "9:\tlearn: 4487.0560298\ttotal: 513ms\tremaining: 0us\n",
      "0:\tlearn: 4510.3331416\ttotal: 76.7ms\tremaining: 690ms\n",
      "9:\tlearn: 4482.6702748\ttotal: 565ms\tremaining: 0us\n",
      "0:\tlearn: 4522.7459562\ttotal: 58ms\tremaining: 522ms\n",
      "9:\tlearn: 4494.8690911\ttotal: 554ms\tremaining: 0us\n",
      "0:\tlearn: 4507.2384644\ttotal: 48.4ms\tremaining: 435ms\n",
      "9:\tlearn: 4479.5894565\ttotal: 527ms\tremaining: 0us\n",
      "0:\tlearn: 4238.4713132\ttotal: 29.2ms\tremaining: 263ms\n",
      "9:\tlearn: 2873.7516049\ttotal: 255ms\tremaining: 0us\n",
      "0:\tlearn: 4237.8434455\ttotal: 23.6ms\tremaining: 212ms\n",
      "9:\tlearn: 2886.8767468\ttotal: 271ms\tremaining: 0us\n",
      "0:\tlearn: 4235.3394782\ttotal: 28.2ms\tremaining: 254ms\n",
      "9:\tlearn: 2885.1704623\ttotal: 257ms\tremaining: 0us\n",
      "0:\tlearn: 4245.2327826\ttotal: 34.5ms\tremaining: 310ms\n",
      "9:\tlearn: 2877.1624187\ttotal: 282ms\tremaining: 0us\n",
      "0:\tlearn: 4231.0611730\ttotal: 34.6ms\tremaining: 311ms\n",
      "9:\tlearn: 2884.4382060\ttotal: 266ms\tremaining: 0us\n",
      "0:\tlearn: 4211.2668677\ttotal: 38.3ms\tremaining: 345ms\n",
      "9:\tlearn: 2743.7391545\ttotal: 379ms\tremaining: 0us\n",
      "0:\tlearn: 4213.8283186\ttotal: 36.7ms\tremaining: 331ms\n",
      "9:\tlearn: 2753.7051863\ttotal: 363ms\tremaining: 0us\n",
      "0:\tlearn: 4212.1811650\ttotal: 34.5ms\tremaining: 310ms\n",
      "9:\tlearn: 2746.8785693\ttotal: 356ms\tremaining: 0us\n",
      "0:\tlearn: 4222.5971441\ttotal: 37.8ms\tremaining: 340ms\n",
      "9:\tlearn: 2747.6770780\ttotal: 363ms\tremaining: 0us\n",
      "0:\tlearn: 4208.6610530\ttotal: 39.5ms\tremaining: 356ms\n",
      "9:\tlearn: 2745.3593657\ttotal: 389ms\tremaining: 0us\n",
      "0:\tlearn: 4509.3770337\ttotal: 42.1ms\tremaining: 379ms\n",
      "9:\tlearn: 4482.0911897\ttotal: 422ms\tremaining: 0us\n",
      "0:\tlearn: 4514.8242589\ttotal: 42.1ms\tremaining: 379ms\n",
      "9:\tlearn: 4487.6088828\ttotal: 405ms\tremaining: 0us\n",
      "0:\tlearn: 4510.4001365\ttotal: 58.4ms\tremaining: 526ms\n",
      "9:\tlearn: 4483.1738453\ttotal: 443ms\tremaining: 0us\n",
      "0:\tlearn: 4522.7776920\ttotal: 42.4ms\tremaining: 381ms\n",
      "9:\tlearn: 4495.5297024\ttotal: 400ms\tremaining: 0us\n",
      "0:\tlearn: 4507.2703569\ttotal: 38.8ms\tremaining: 349ms\n",
      "9:\tlearn: 4480.1431742\ttotal: 381ms\tremaining: 0us\n",
      "0:\tlearn: 4509.6450475\ttotal: 23.2ms\tremaining: 209ms\n",
      "9:\tlearn: 4484.4697566\ttotal: 257ms\tremaining: 0us\n",
      "0:\tlearn: 4515.0605556\ttotal: 38.9ms\tremaining: 350ms\n",
      "9:\tlearn: 4489.8478869\ttotal: 287ms\tremaining: 0us\n",
      "0:\tlearn: 4510.6281476\ttotal: 23.8ms\tremaining: 214ms\n",
      "9:\tlearn: 4485.4125779\ttotal: 251ms\tremaining: 0us\n",
      "0:\tlearn: 4523.0004451\ttotal: 25.1ms\tremaining: 226ms\n",
      "9:\tlearn: 4497.7277014\ttotal: 265ms\tremaining: 0us\n",
      "0:\tlearn: 4507.4908136\ttotal: 28.3ms\tremaining: 255ms\n",
      "9:\tlearn: 4482.2228826\ttotal: 254ms\tremaining: 0us\n",
      "0:\tlearn: 4364.4768921\ttotal: 50.8ms\tremaining: 457ms\n",
      "9:\tlearn: 3386.9539335\ttotal: 405ms\tremaining: 0us\n",
      "0:\tlearn: 4367.5703519\ttotal: 44.7ms\tremaining: 402ms\n",
      "9:\tlearn: 3389.1616000\ttotal: 402ms\tremaining: 0us\n",
      "0:\tlearn: 4363.7629005\ttotal: 30.2ms\tremaining: 271ms\n",
      "9:\tlearn: 3381.6783750\ttotal: 311ms\tremaining: 0us\n",
      "0:\tlearn: 4376.2177384\ttotal: 29.3ms\tremaining: 264ms\n",
      "9:\tlearn: 3392.4955644\ttotal: 318ms\tremaining: 0us\n",
      "0:\tlearn: 4362.3093481\ttotal: 31.6ms\tremaining: 284ms\n",
      "9:\tlearn: 3388.1337882\ttotal: 315ms\tremaining: 0us\n",
      "0:\tlearn: 4228.3819839\ttotal: 44.8ms\tremaining: 403ms\n",
      "9:\tlearn: 2827.8496857\ttotal: 314ms\tremaining: 0us\n",
      "0:\tlearn: 4228.6808848\ttotal: 29.7ms\tremaining: 267ms\n",
      "9:\tlearn: 2828.0341724\ttotal: 313ms\tremaining: 0us\n",
      "0:\tlearn: 4225.3623420\ttotal: 26.2ms\tremaining: 235ms\n",
      "9:\tlearn: 2818.6116175\ttotal: 283ms\tremaining: 0us\n",
      "0:\tlearn: 4237.9556910\ttotal: 25.4ms\tremaining: 229ms\n",
      "9:\tlearn: 2834.3951142\ttotal: 287ms\tremaining: 0us\n",
      "0:\tlearn: 4223.7490276\ttotal: 31.2ms\tremaining: 281ms\n",
      "9:\tlearn: 2830.7581050\ttotal: 307ms\tremaining: 0us\n",
      "0:\tlearn: 4219.2971036\ttotal: 30.9ms\tremaining: 278ms\n",
      "9:\tlearn: 2775.9220451\ttotal: 323ms\tremaining: 0us\n",
      "0:\tlearn: 4219.9772903\ttotal: 32.2ms\tremaining: 290ms\n",
      "9:\tlearn: 2779.8036159\ttotal: 330ms\tremaining: 0us\n",
      "0:\tlearn: 4216.8197204\ttotal: 30ms\tremaining: 270ms\n",
      "9:\tlearn: 2791.5344205\ttotal: 337ms\tremaining: 0us\n",
      "0:\tlearn: 4229.3475950\ttotal: 33.7ms\tremaining: 303ms\n",
      "9:\tlearn: 2784.4119328\ttotal: 318ms\tremaining: 0us\n",
      "0:\tlearn: 4217.0617068\ttotal: 29.6ms\tremaining: 266ms\n",
      "9:\tlearn: 2780.1025228\ttotal: 310ms\tremaining: 0us\n",
      "0:\tlearn: 4216.2417119\ttotal: 60.8ms\tremaining: 547ms\n",
      "9:\tlearn: 2745.8047776\ttotal: 470ms\tremaining: 0us\n",
      "The quality of CatBoost on the test dataset, measured in RMSE is : 2748.390681443896\n"
     ]
    }
   ],
   "source": [
    "model_cb = CatBoostRegressor(random_state = 12345, iterations = 10)\n",
    "parameters_cb = {'depth': range(6, 11),\n",
    "                 'learning_rate': [0.001, 0.01, 0.05, 0.1]}\n",
    "search_cb = RandomizedSearchCV(model_cb, parameters_cb, cv = 5, n_jobs = -1, random_state = 12345)\n",
    "search_cb.fit(X_train, y_train, verbose = 100)\n",
    "best_cb = search_cb.best_estimator_\n",
    "predict_cb_valid = best_cb.predict(X_test)\n",
    "rmse_cb_valid = mean_squared_error(y_test, predict_cb_valid)**0.5\n",
    "print('The quality of CatBoost on the test dataset, measured in RMSE is :', rmse_cb_valid)"
   ]
  },
  {
   "cell_type": "markdown",
   "metadata": {},
   "source": [
    "## Model analysis"
   ]
  },
  {
   "cell_type": "markdown",
   "metadata": {},
   "source": [
    "### Linear Regression"
   ]
  },
  {
   "cell_type": "code",
   "execution_count": 108,
   "metadata": {},
   "outputs": [
    {
     "name": "stdout",
     "output_type": "stream",
     "text": [
      "CPU times: user 21.3 s, sys: 43.7 s, total: 1min 5s\n",
      "Wall time: 1min 5s\n"
     ]
    }
   ],
   "source": [
    "%%time\n",
    "start_linear_fit = time.time()\n",
    "linear.fit(X_train, y_train)\n",
    "end_linear_fit = time.time()\n",
    "time_linear_fit = end_linear_fit - start_linear_fit\n",
    "\n",
    "start_linear_predict = time.time()\n",
    "predict_linear_test = linear.predict(X_test)\n",
    "end_linear_predict = time.time()\n",
    "time_linear_predict = end_linear_predict - start_linear_predict\n",
    "rmse_linear_test = mean_squared_error(y_test, predict_linear_test)**0.5\n"
   ]
  },
  {
   "cell_type": "markdown",
   "metadata": {},
   "source": [
    "### CatBoost"
   ]
  },
  {
   "cell_type": "code",
   "execution_count": 109,
   "metadata": {},
   "outputs": [
    {
     "name": "stdout",
     "output_type": "stream",
     "text": [
      "0:\tlearn: 4216.2417119\ttotal: 47.6ms\tremaining: 428ms\n",
      "9:\tlearn: 2745.8047776\ttotal: 489ms\tremaining: 0us\n",
      "CPU times: user 1.82 s, sys: 43.4 ms, total: 1.87 s\n",
      "Wall time: 2.54 s\n"
     ]
    }
   ],
   "source": [
    "%%time\n",
    "start_cb_fit = time.time()\n",
    "best_cb.fit(X_train, y_train, verbose = 100)\n",
    "end_cb_fit = time.time()\n",
    "time_cb_fit = end_cb_fit - start_cb_fit\n",
    "\n",
    "start_cb_predict = time.time()\n",
    "predict_cb_test = best_cb.predict(X_test)\n",
    "end_cb_predict = time.time()\n",
    "time_cb_predict = end_cb_predict - start_cb_predict\n",
    "rmse_cb_test = mean_squared_error(y_test, predict_cb_test)**0.5\n"
   ]
  },
  {
   "cell_type": "markdown",
   "metadata": {},
   "source": [
    "### Random Forest"
   ]
  },
  {
   "cell_type": "code",
   "execution_count": 110,
   "metadata": {},
   "outputs": [
    {
     "name": "stdout",
     "output_type": "stream",
     "text": [
      "CPU times: user 46.6 s, sys: 403 ms, total: 47 s\n",
      "Wall time: 47.2 s\n"
     ]
    }
   ],
   "source": [
    "%%time\n",
    "start_forest_fit = time.time()\n",
    "forest.fit(X_train, y_train)\n",
    "end_forest_fit = time.time()\n",
    "time_forest_fit = end_forest_fit - start_forest_fit\n",
    "\n",
    "start_forest_predict = time.time()\n",
    "predict_forest_test = forest.predict(X_test)\n",
    "end_forest_predict = time.time()\n",
    "time_forest_predict = end_forest_predict - start_forest_predict\n",
    "\n",
    "rmse_forest_test = mean_squared_error(y_test, predict_forest_test)**0.5"
   ]
  },
  {
   "cell_type": "markdown",
   "metadata": {},
   "source": [
    "### Gradient Boosting Regressor"
   ]
  },
  {
   "cell_type": "code",
   "execution_count": 111,
   "metadata": {},
   "outputs": [
    {
     "name": "stdout",
     "output_type": "stream",
     "text": [
      "CPU times: user 12.4 s, sys: 440 ms, total: 12.8 s\n",
      "Wall time: 12.8 s\n"
     ]
    }
   ],
   "source": [
    "\n",
    "%%time\n",
    "start_bo_fit = time.time()\n",
    "boosted_model.fit(X_train, y_train)\n",
    "end_bo_fit = time.time()\n",
    "time_bo_fit = end_bo_fit - start_bo_fit\n",
    "\n",
    "start_bo_predict = time.time()\n",
    "predict_bo_test = boosted_model.predict(X_test)\n",
    "end_bo_predict = time.time()\n",
    "time_bo_predict = end_bo_predict - start_bo_predict\n",
    "\n",
    "rmse_bo_test = mean_squared_error(y_test, predict_bo_test)**0.5"
   ]
  },
  {
   "cell_type": "markdown",
   "metadata": {},
   "source": [
    "<div class=\"alert alert-success\">\n",
    "<b>Reviewer's comment</b>\n",
    "\n",
    "Excellent, you measured both training and prediction time\n",
    "\n",
    "</div>"
   ]
  },
  {
   "cell_type": "markdown",
   "metadata": {},
   "source": [
    "A model analysis of five different regressional models composes a challenge since we can not use a unified parameters to all. Linear regression for instance does not use the hyperparameters of the boosting regeressor. Thus, the training times will differ significantly. With that said, given that our app uses pre trained model that is embedded within the end device (or stored on the cloud) we can talk, in general, about the overall quality of the models using time and RMSE of predictions as our metrics.\n"
   ]
  },
  {
   "cell_type": "code",
   "execution_count": 112,
   "metadata": {},
   "outputs": [
    {
     "data": {
      "text/html": [
       "<div>\n",
       "<style scoped>\n",
       "    .dataframe tbody tr th:only-of-type {\n",
       "        vertical-align: middle;\n",
       "    }\n",
       "\n",
       "    .dataframe tbody tr th {\n",
       "        vertical-align: top;\n",
       "    }\n",
       "\n",
       "    .dataframe thead th {\n",
       "        text-align: right;\n",
       "    }\n",
       "</style>\n",
       "<table border=\"1\" class=\"dataframe\">\n",
       "  <thead>\n",
       "    <tr style=\"text-align: right;\">\n",
       "      <th></th>\n",
       "      <th>model</th>\n",
       "      <th>Prediction time</th>\n",
       "      <th>Training time</th>\n",
       "      <th>RMSE</th>\n",
       "    </tr>\n",
       "  </thead>\n",
       "  <tbody>\n",
       "    <tr>\n",
       "      <th>0</th>\n",
       "      <td>Random Forest Regressor</td>\n",
       "      <td>0.647574</td>\n",
       "      <td>46.511063</td>\n",
       "      <td>1839.183041</td>\n",
       "    </tr>\n",
       "    <tr>\n",
       "      <th>2</th>\n",
       "      <td>CAT REGRESSOR</td>\n",
       "      <td>0.013127</td>\n",
       "      <td>2.521965</td>\n",
       "      <td>2748.390681</td>\n",
       "    </tr>\n",
       "    <tr>\n",
       "      <th>3</th>\n",
       "      <td>Boosting Regressor</td>\n",
       "      <td>0.304107</td>\n",
       "      <td>12.530996</td>\n",
       "      <td>3153.570438</td>\n",
       "    </tr>\n",
       "    <tr>\n",
       "      <th>1</th>\n",
       "      <td>LINEAR REGRESSOR</td>\n",
       "      <td>0.206840</td>\n",
       "      <td>64.862638</td>\n",
       "      <td>3203.109415</td>\n",
       "    </tr>\n",
       "  </tbody>\n",
       "</table>\n",
       "</div>"
      ],
      "text/plain": [
       "                     model  Prediction time  Training time         RMSE\n",
       "0  Random Forest Regressor         0.647574      46.511063  1839.183041\n",
       "2            CAT REGRESSOR         0.013127       2.521965  2748.390681\n",
       "3       Boosting Regressor         0.304107      12.530996  3153.570438\n",
       "1         LINEAR REGRESSOR         0.206840      64.862638  3203.109415"
      ]
     },
     "execution_count": 112,
     "metadata": {},
     "output_type": "execute_result"
    }
   ],
   "source": [
    "results = pd.DataFrame([{\"model\": \"Random Forest Regressor\", \"Prediction time\": time_forest_predict, \"Training time\": time_forest_fit,\"RMSE\": rmse_forest_test},\n",
    "                        {\"model\": \"LINEAR REGRESSOR\", \"Prediction time\":  time_linear_predict,\"Training time\": time_linear_fit ,\"RMSE\": rmse_linear_test},\n",
    "                        {\"model\": \"CAT REGRESSOR\", \"Prediction time\": time_cb_predict, \"Training time\": time_cb_fit ,\"RMSE\": rmse_cb_test},\n",
    "                        {\"model\": \"Boosting Regressor\", \"Prediction time\": time_bo_predict, \"Training time\": time_bo_fit, \"RMSE\": rmse_bo_test},\n",
    "                       ]\n",
    ")\n",
    "results.sort_values(by='RMSE', ascending=True)"
   ]
  },
  {
   "cell_type": "markdown",
   "metadata": {},
   "source": [
    "Measuring the quality of our model by prediction time and RMSE, the CAT regressor has a significant advantage over other models both in the prediction time and the RMSE score."
   ]
  },
  {
   "cell_type": "markdown",
   "metadata": {},
   "source": [
    "<div class=\"alert alert-success\">\n",
    "<b>Reviewer's comment</b>\n",
    "\n",
    "Well done!\n",
    "\n",
    "</div>"
   ]
  },
  {
   "cell_type": "markdown",
   "metadata": {},
   "source": [
    "# Checklist"
   ]
  },
  {
   "cell_type": "markdown",
   "metadata": {},
   "source": [
    "Type 'x' to check. Then press Shift+Enter."
   ]
  },
  {
   "cell_type": "markdown",
   "metadata": {},
   "source": [
    "- [x]  Jupyter Notebook is open\n",
    "- [ ]  Code is error free\n",
    "- [ ]  The cells with the code have been arranged in order of execution\n",
    "- [ ]  The data has been downloaded and prepared\n",
    "- [ ]  The models have been trained\n",
    "- [ ]  The analysis of speed and quality of the models has been performed"
   ]
  },
  {
   "cell_type": "code",
   "execution_count": null,
   "metadata": {},
   "outputs": [],
   "source": []
  }
 ],
 "metadata": {
  "ExecuteTimeLog": [
   {
    "duration": 45,
    "start_time": "2022-07-21T09:46:49.837Z"
   },
   {
    "duration": 1635,
    "start_time": "2022-07-21T09:46:54.517Z"
   },
   {
    "duration": 2835,
    "start_time": "2022-07-21T09:46:56.154Z"
   },
   {
    "duration": 409,
    "start_time": "2022-07-21T09:46:58.990Z"
   },
   {
    "duration": 9,
    "start_time": "2022-07-21T09:46:59.403Z"
   },
   {
    "duration": 151,
    "start_time": "2022-07-21T09:46:59.417Z"
   },
   {
    "duration": 246,
    "start_time": "2022-07-21T09:46:59.570Z"
   },
   {
    "duration": 274,
    "start_time": "2022-07-21T09:46:59.819Z"
   },
   {
    "duration": 21,
    "start_time": "2022-07-21T09:47:00.094Z"
   },
   {
    "duration": 17,
    "start_time": "2022-07-21T09:47:00.117Z"
   },
   {
    "duration": 12,
    "start_time": "2022-07-21T09:47:00.136Z"
   },
   {
    "duration": 16,
    "start_time": "2022-07-21T09:47:00.149Z"
   },
   {
    "duration": 67,
    "start_time": "2022-07-21T09:47:00.166Z"
   },
   {
    "duration": 4,
    "start_time": "2022-07-21T09:47:04.273Z"
   },
   {
    "duration": 0,
    "start_time": "2022-07-21T09:49:18.197Z"
   },
   {
    "duration": 45524,
    "start_time": "2022-07-21T09:49:21.040Z"
   },
   {
    "duration": 7671,
    "start_time": "2022-07-21T09:53:35.069Z"
   },
   {
    "duration": 19175,
    "start_time": "2022-07-21T09:54:13.357Z"
   },
   {
    "duration": 19749,
    "start_time": "2022-07-21T09:58:51.367Z"
   },
   {
    "duration": 8110,
    "start_time": "2022-07-21T09:59:33.175Z"
   },
   {
    "duration": 7932,
    "start_time": "2022-07-21T10:08:12.201Z"
   },
   {
    "duration": 12,
    "start_time": "2022-07-21T10:30:02.728Z"
   },
   {
    "duration": 17,
    "start_time": "2022-07-21T10:31:00.056Z"
   },
   {
    "duration": 3,
    "start_time": "2022-07-21T10:31:48.863Z"
   },
   {
    "duration": 74,
    "start_time": "2022-07-21T10:31:50.173Z"
   },
   {
    "duration": 4,
    "start_time": "2022-07-21T10:32:15.966Z"
   },
   {
    "duration": 8,
    "start_time": "2022-07-21T10:32:23.127Z"
   },
   {
    "duration": 4,
    "start_time": "2022-07-21T10:32:24.135Z"
   },
   {
    "duration": 1416,
    "start_time": "2022-07-21T10:32:24.655Z"
   },
   {
    "duration": 44,
    "start_time": "2022-07-21T10:32:54.735Z"
   },
   {
    "duration": 5,
    "start_time": "2022-07-21T10:33:16.518Z"
   },
   {
    "duration": 605,
    "start_time": "2022-07-21T10:33:16.529Z"
   },
   {
    "duration": 525,
    "start_time": "2022-07-21T10:33:17.137Z"
   },
   {
    "duration": 2,
    "start_time": "2022-07-21T10:33:17.669Z"
   },
   {
    "duration": 20,
    "start_time": "2022-07-21T10:33:17.673Z"
   },
   {
    "duration": 61,
    "start_time": "2022-07-21T10:33:17.695Z"
   },
   {
    "duration": 1325,
    "start_time": "2022-07-21T10:33:17.758Z"
   },
   {
    "duration": 17,
    "start_time": "2022-07-21T10:34:37.399Z"
   },
   {
    "duration": 649,
    "start_time": "2022-07-21T10:34:38.629Z"
   },
   {
    "duration": 480,
    "start_time": "2022-07-21T10:34:39.280Z"
   },
   {
    "duration": 3,
    "start_time": "2022-07-21T10:34:39.762Z"
   },
   {
    "duration": 11,
    "start_time": "2022-07-21T10:34:40.150Z"
   },
   {
    "duration": 4,
    "start_time": "2022-07-21T10:34:40.749Z"
   },
   {
    "duration": 23016,
    "start_time": "2022-07-21T10:34:41.284Z"
   },
   {
    "duration": 112,
    "start_time": "2022-07-21T10:35:11.875Z"
   },
   {
    "duration": 1980,
    "start_time": "2022-07-21T10:38:09.673Z"
   },
   {
    "duration": 55,
    "start_time": "2022-07-21T10:38:36.031Z"
   },
   {
    "duration": 135,
    "start_time": "2022-07-21T10:38:41.325Z"
   },
   {
    "duration": 42,
    "start_time": "2022-07-21T10:38:58.940Z"
   },
   {
    "duration": 145,
    "start_time": "2022-07-21T10:39:00.591Z"
   },
   {
    "duration": 10,
    "start_time": "2022-07-21T10:39:26.263Z"
   },
   {
    "duration": 21,
    "start_time": "2022-07-21T10:39:43.927Z"
   },
   {
    "duration": 5,
    "start_time": "2022-07-21T10:40:16.475Z"
   },
   {
    "duration": 665,
    "start_time": "2022-07-21T10:40:16.482Z"
   },
   {
    "duration": 520,
    "start_time": "2022-07-21T10:40:17.149Z"
   },
   {
    "duration": 2,
    "start_time": "2022-07-21T10:40:17.671Z"
   },
   {
    "duration": 47,
    "start_time": "2022-07-21T10:40:17.675Z"
   },
   {
    "duration": 45,
    "start_time": "2022-07-21T10:40:17.738Z"
   },
   {
    "duration": 24125,
    "start_time": "2022-07-21T10:40:17.785Z"
   },
   {
    "duration": 129,
    "start_time": "2022-07-21T10:40:42.056Z"
   },
   {
    "duration": 99,
    "start_time": "2022-07-21T10:40:42.190Z"
   },
   {
    "duration": 125,
    "start_time": "2022-07-21T10:40:42.290Z"
   },
   {
    "duration": 7,
    "start_time": "2022-07-21T10:55:01.456Z"
   },
   {
    "duration": 9,
    "start_time": "2022-07-21T10:55:43.034Z"
   },
   {
    "duration": 89,
    "start_time": "2022-07-21T10:56:26.442Z"
   },
   {
    "duration": 296,
    "start_time": "2022-07-21T10:56:28.750Z"
   },
   {
    "duration": 347,
    "start_time": "2022-07-21T10:56:31.644Z"
   },
   {
    "duration": 11,
    "start_time": "2022-07-21T10:56:35.439Z"
   },
   {
    "duration": 13,
    "start_time": "2022-07-21T10:56:36.076Z"
   },
   {
    "duration": 17,
    "start_time": "2022-07-21T10:56:45.374Z"
   },
   {
    "duration": 22,
    "start_time": "2022-07-21T10:56:47.101Z"
   },
   {
    "duration": 52,
    "start_time": "2022-07-21T10:56:49.132Z"
   },
   {
    "duration": 12,
    "start_time": "2022-07-21T10:56:51.126Z"
   },
   {
    "duration": 10613,
    "start_time": "2022-07-21T10:56:52.742Z"
   },
   {
    "duration": 8,
    "start_time": "2022-07-21T11:01:31.947Z"
   },
   {
    "duration": 4,
    "start_time": "2022-07-21T11:01:42.848Z"
   },
   {
    "duration": 5,
    "start_time": "2022-07-21T11:01:52.456Z"
   },
   {
    "duration": 16,
    "start_time": "2022-07-21T11:02:08.923Z"
   },
   {
    "duration": 22,
    "start_time": "2022-07-21T11:02:40.045Z"
   },
   {
    "duration": 12,
    "start_time": "2022-07-21T11:02:56.540Z"
   },
   {
    "duration": 43,
    "start_time": "2022-07-21T11:04:19.893Z"
   },
   {
    "duration": 15,
    "start_time": "2022-07-21T11:04:41.589Z"
   },
   {
    "duration": 40,
    "start_time": "2022-07-21T11:04:56.919Z"
   },
   {
    "duration": 16,
    "start_time": "2022-07-21T11:05:47.548Z"
   },
   {
    "duration": 25240,
    "start_time": "2022-07-21T11:09:19.657Z"
   },
   {
    "duration": 16,
    "start_time": "2022-07-21T11:10:08.645Z"
   },
   {
    "duration": 20,
    "start_time": "2022-07-21T11:10:15.544Z"
   },
   {
    "duration": 41,
    "start_time": "2022-07-21T11:10:49.826Z"
   },
   {
    "duration": 22,
    "start_time": "2022-07-21T11:15:36.369Z"
   },
   {
    "duration": 11,
    "start_time": "2022-07-21T11:19:18.571Z"
   },
   {
    "duration": 117,
    "start_time": "2022-07-21T11:19:55.526Z"
   },
   {
    "duration": 115,
    "start_time": "2022-07-21T11:20:33.750Z"
   },
   {
    "duration": 20,
    "start_time": "2022-07-21T11:20:38.364Z"
   },
   {
    "duration": 13,
    "start_time": "2022-07-21T11:21:12.542Z"
   },
   {
    "duration": 42,
    "start_time": "2022-07-21T11:21:28.006Z"
   },
   {
    "duration": 19,
    "start_time": "2022-07-21T11:21:42.051Z"
   },
   {
    "duration": 18,
    "start_time": "2022-07-21T11:21:52.925Z"
   },
   {
    "duration": 12,
    "start_time": "2022-07-21T11:22:08.898Z"
   },
   {
    "duration": 6,
    "start_time": "2022-07-21T11:22:15.994Z"
   },
   {
    "duration": 10,
    "start_time": "2022-07-21T11:22:36.536Z"
   },
   {
    "duration": 7,
    "start_time": "2022-07-21T11:23:23.725Z"
   },
   {
    "duration": 12,
    "start_time": "2022-07-21T11:24:05.542Z"
   },
   {
    "duration": 89,
    "start_time": "2022-07-21T11:25:09.792Z"
   },
   {
    "duration": 14,
    "start_time": "2022-07-21T11:25:34.638Z"
   },
   {
    "duration": 7,
    "start_time": "2022-07-21T11:25:59.844Z"
   },
   {
    "duration": 96,
    "start_time": "2022-07-21T11:26:19.443Z"
   },
   {
    "duration": 4835,
    "start_time": "2022-07-21T11:28:10.460Z"
   },
   {
    "duration": 66,
    "start_time": "2022-07-21T11:28:21.995Z"
   },
   {
    "duration": 5,
    "start_time": "2022-07-21T11:28:39.563Z"
   },
   {
    "duration": 15970,
    "start_time": "2022-07-21T11:32:19.759Z"
   },
   {
    "duration": 4,
    "start_time": "2022-07-21T11:32:45.589Z"
   },
   {
    "duration": 600,
    "start_time": "2022-07-21T11:32:45.595Z"
   },
   {
    "duration": 399,
    "start_time": "2022-07-21T11:32:46.196Z"
   },
   {
    "duration": 16,
    "start_time": "2022-07-21T11:32:46.597Z"
   },
   {
    "duration": 22,
    "start_time": "2022-07-21T11:32:46.616Z"
   },
   {
    "duration": 21440,
    "start_time": "2022-07-21T11:32:46.639Z"
   },
   {
    "duration": 108,
    "start_time": "2022-07-21T11:33:08.081Z"
   },
   {
    "duration": 97,
    "start_time": "2022-07-21T11:33:08.190Z"
   },
   {
    "duration": 6,
    "start_time": "2022-07-21T11:33:08.289Z"
   },
   {
    "duration": 9,
    "start_time": "2022-07-21T11:33:08.301Z"
   },
   {
    "duration": 113,
    "start_time": "2022-07-21T11:33:08.320Z"
   },
   {
    "duration": 263,
    "start_time": "2022-07-21T11:33:08.435Z"
   },
   {
    "duration": 354,
    "start_time": "2022-07-21T11:33:08.700Z"
   },
   {
    "duration": 4,
    "start_time": "2022-07-21T11:33:09.055Z"
   },
   {
    "duration": 13,
    "start_time": "2022-07-21T11:33:09.061Z"
   },
   {
    "duration": 47,
    "start_time": "2022-07-21T11:33:09.076Z"
   },
   {
    "duration": 12,
    "start_time": "2022-07-21T11:33:09.124Z"
   },
   {
    "duration": 52,
    "start_time": "2022-07-21T11:33:09.138Z"
   },
   {
    "duration": 24885,
    "start_time": "2022-07-21T11:33:09.191Z"
   },
   {
    "duration": 15368,
    "start_time": "2022-07-21T11:33:34.079Z"
   },
   {
    "duration": 10,
    "start_time": "2022-07-21T11:34:05.033Z"
   },
   {
    "duration": 15,
    "start_time": "2022-07-21T11:35:08.911Z"
   },
   {
    "duration": 9,
    "start_time": "2022-07-21T11:35:26.164Z"
   },
   {
    "duration": 10,
    "start_time": "2022-07-21T11:35:32.540Z"
   },
   {
    "duration": 5,
    "start_time": "2022-07-21T11:35:39.764Z"
   },
   {
    "duration": 51,
    "start_time": "2022-07-21T11:35:41.667Z"
   },
   {
    "duration": 102540,
    "start_time": "2022-07-21T11:36:27.788Z"
   },
   {
    "duration": 100151,
    "start_time": "2022-07-21T11:39:02.737Z"
   },
   {
    "duration": 4768,
    "start_time": "2022-07-21T11:40:58.028Z"
   },
   {
    "duration": 56,
    "start_time": "2022-07-21T11:41:35.834Z"
   },
   {
    "duration": 15872,
    "start_time": "2022-07-21T11:41:50.670Z"
   },
   {
    "duration": 8,
    "start_time": "2022-07-21T11:42:23.819Z"
   },
   {
    "duration": 4,
    "start_time": "2022-07-21T11:45:38.493Z"
   },
   {
    "duration": 3,
    "start_time": "2022-07-21T11:45:51.433Z"
   },
   {
    "duration": 4,
    "start_time": "2022-07-21T11:45:51.875Z"
   },
   {
    "duration": 22,
    "start_time": "2022-07-21T11:48:42.926Z"
   },
   {
    "duration": 105,
    "start_time": "2022-07-21T11:48:51.947Z"
   },
   {
    "duration": 19,
    "start_time": "2022-07-21T11:48:54.977Z"
   },
   {
    "duration": 15,
    "start_time": "2022-07-21T11:49:02.218Z"
   },
   {
    "duration": 10,
    "start_time": "2022-07-21T11:50:15.249Z"
   },
   {
    "duration": 62,
    "start_time": "2022-07-21T11:50:26.784Z"
   },
   {
    "duration": 33,
    "start_time": "2022-07-21T11:50:34.087Z"
   },
   {
    "duration": 17,
    "start_time": "2022-07-21T11:50:45.871Z"
   },
   {
    "duration": 17,
    "start_time": "2022-07-21T11:50:59.819Z"
   },
   {
    "duration": 6,
    "start_time": "2022-07-21T11:52:10.224Z"
   },
   {
    "duration": 639,
    "start_time": "2022-07-21T11:52:10.234Z"
   },
   {
    "duration": 380,
    "start_time": "2022-07-21T11:52:10.875Z"
   },
   {
    "duration": 6,
    "start_time": "2022-07-21T11:52:11.257Z"
   },
   {
    "duration": 14,
    "start_time": "2022-07-21T11:52:11.265Z"
   },
   {
    "duration": 21770,
    "start_time": "2022-07-21T11:52:11.281Z"
   },
   {
    "duration": 112,
    "start_time": "2022-07-21T11:52:33.053Z"
   },
   {
    "duration": 125,
    "start_time": "2022-07-21T11:52:33.167Z"
   },
   {
    "duration": 15,
    "start_time": "2022-07-21T11:52:33.294Z"
   },
   {
    "duration": 21,
    "start_time": "2022-07-21T11:52:33.311Z"
   },
   {
    "duration": 121,
    "start_time": "2022-07-21T11:52:33.336Z"
   },
   {
    "duration": 285,
    "start_time": "2022-07-21T11:52:33.459Z"
   },
   {
    "duration": 325,
    "start_time": "2022-07-21T11:52:33.745Z"
   },
   {
    "duration": 4,
    "start_time": "2022-07-21T11:52:34.073Z"
   },
   {
    "duration": 27,
    "start_time": "2022-07-21T11:52:34.078Z"
   },
   {
    "duration": 14,
    "start_time": "2022-07-21T11:52:34.107Z"
   },
   {
    "duration": 23,
    "start_time": "2022-07-21T11:52:34.127Z"
   },
   {
    "duration": 56,
    "start_time": "2022-07-21T11:52:34.152Z"
   },
   {
    "duration": 26517,
    "start_time": "2022-07-21T11:52:34.212Z"
   },
   {
    "duration": 15405,
    "start_time": "2022-07-21T11:53:00.731Z"
   },
   {
    "duration": 9,
    "start_time": "2022-07-21T11:53:16.138Z"
   },
   {
    "duration": 15,
    "start_time": "2022-07-21T11:53:16.148Z"
   },
   {
    "duration": 9,
    "start_time": "2022-07-21T11:53:16.164Z"
   },
   {
    "duration": 34,
    "start_time": "2022-07-21T11:53:16.175Z"
   },
   {
    "duration": 16,
    "start_time": "2022-07-21T11:53:16.213Z"
   },
   {
    "duration": 58,
    "start_time": "2022-07-21T11:53:16.231Z"
   },
   {
    "duration": 4790,
    "start_time": "2022-07-21T11:53:16.290Z"
   },
   {
    "duration": 70,
    "start_time": "2022-07-21T11:53:21.082Z"
   },
   {
    "duration": 18470,
    "start_time": "2022-07-21T11:53:21.154Z"
   },
   {
    "duration": 24,
    "start_time": "2022-07-21T11:53:39.631Z"
   },
   {
    "duration": 823,
    "start_time": "2022-07-21T11:56:05.147Z"
   },
   {
    "duration": 2,
    "start_time": "2022-07-21T11:56:18.754Z"
   },
   {
    "duration": 87,
    "start_time": "2022-07-21T11:56:20.746Z"
   },
   {
    "duration": 26,
    "start_time": "2022-07-21T11:56:25.033Z"
   },
   {
    "duration": 104,
    "start_time": "2022-07-21T11:56:30.858Z"
   },
   {
    "duration": 45,
    "start_time": "2022-07-21T11:56:33.036Z"
   },
   {
    "duration": 11,
    "start_time": "2022-07-21T11:56:33.787Z"
   },
   {
    "duration": 11,
    "start_time": "2022-07-21T11:56:38.155Z"
   },
   {
    "duration": 114,
    "start_time": "2022-07-21T11:56:59.629Z"
   },
   {
    "duration": 5,
    "start_time": "2022-07-21T11:57:59.236Z"
   },
   {
    "duration": 4,
    "start_time": "2022-07-21T11:59:45.797Z"
   },
   {
    "duration": 717,
    "start_time": "2022-07-21T11:59:45.805Z"
   },
   {
    "duration": 435,
    "start_time": "2022-07-21T11:59:46.524Z"
   },
   {
    "duration": 8,
    "start_time": "2022-07-21T11:59:46.961Z"
   },
   {
    "duration": 6,
    "start_time": "2022-07-21T11:59:46.972Z"
   },
   {
    "duration": 22350,
    "start_time": "2022-07-21T11:59:46.979Z"
   },
   {
    "duration": 120,
    "start_time": "2022-07-21T12:00:09.330Z"
   },
   {
    "duration": 112,
    "start_time": "2022-07-21T12:00:09.452Z"
   },
   {
    "duration": 8,
    "start_time": "2022-07-21T12:00:09.565Z"
   },
   {
    "duration": 15,
    "start_time": "2022-07-21T12:00:09.574Z"
   },
   {
    "duration": 120,
    "start_time": "2022-07-21T12:00:09.591Z"
   },
   {
    "duration": 321,
    "start_time": "2022-07-21T12:00:09.712Z"
   },
   {
    "duration": 355,
    "start_time": "2022-07-21T12:00:10.039Z"
   },
   {
    "duration": 7,
    "start_time": "2022-07-21T12:00:10.396Z"
   },
   {
    "duration": 50,
    "start_time": "2022-07-21T12:00:10.404Z"
   },
   {
    "duration": 23,
    "start_time": "2022-07-21T12:00:10.456Z"
   },
   {
    "duration": 35,
    "start_time": "2022-07-21T12:00:10.481Z"
   },
   {
    "duration": 128,
    "start_time": "2022-07-21T12:00:10.518Z"
   },
   {
    "duration": 26583,
    "start_time": "2022-07-21T12:00:10.648Z"
   },
   {
    "duration": 15544,
    "start_time": "2022-07-21T12:00:37.235Z"
   },
   {
    "duration": 10,
    "start_time": "2022-07-21T12:00:52.781Z"
   },
   {
    "duration": 29,
    "start_time": "2022-07-21T12:00:52.793Z"
   },
   {
    "duration": 20,
    "start_time": "2022-07-21T12:00:52.824Z"
   },
   {
    "duration": 12,
    "start_time": "2022-07-21T12:00:52.846Z"
   },
   {
    "duration": 4,
    "start_time": "2022-07-21T12:00:52.860Z"
   },
   {
    "duration": 66,
    "start_time": "2022-07-21T12:00:52.866Z"
   },
   {
    "duration": 4916,
    "start_time": "2022-07-21T12:00:52.934Z"
   },
   {
    "duration": 59,
    "start_time": "2022-07-21T12:00:57.851Z"
   },
   {
    "duration": 16819,
    "start_time": "2022-07-21T12:00:57.911Z"
   },
   {
    "duration": 785,
    "start_time": "2022-07-21T12:01:18.456Z"
   },
   {
    "duration": 3,
    "start_time": "2022-07-21T12:01:28.333Z"
   },
   {
    "duration": 561,
    "start_time": "2022-07-21T12:01:29.303Z"
   },
   {
    "duration": 26,
    "start_time": "2022-07-21T12:01:32.094Z"
   },
   {
    "duration": 97,
    "start_time": "2022-07-21T12:01:34.936Z"
   },
   {
    "duration": 49,
    "start_time": "2022-07-21T12:01:35.248Z"
   },
   {
    "duration": 26,
    "start_time": "2022-07-21T12:01:36.302Z"
   },
   {
    "duration": 19,
    "start_time": "2022-07-21T12:01:44.878Z"
   },
   {
    "duration": 13,
    "start_time": "2022-07-21T12:01:54.877Z"
   },
   {
    "duration": 58025,
    "start_time": "2022-07-21T12:02:05.485Z"
   },
   {
    "duration": 138802,
    "start_time": "2022-07-21T12:03:58.076Z"
   },
   {
    "duration": 119797,
    "start_time": "2022-07-21T12:06:22.891Z"
   },
   {
    "duration": 10,
    "start_time": "2022-07-21T12:10:55.335Z"
   },
   {
    "duration": 5,
    "start_time": "2022-07-21T12:11:06.660Z"
   },
   {
    "duration": 4,
    "start_time": "2022-07-21T12:11:43.477Z"
   },
   {
    "duration": 600,
    "start_time": "2022-07-21T12:11:44.300Z"
   },
   {
    "duration": 470,
    "start_time": "2022-07-21T12:11:45.310Z"
   },
   {
    "duration": 7,
    "start_time": "2022-07-21T12:16:16.930Z"
   },
   {
    "duration": 2,
    "start_time": "2022-07-21T12:16:17.569Z"
   },
   {
    "duration": 21397,
    "start_time": "2022-07-21T12:16:18.867Z"
   },
   {
    "duration": 115,
    "start_time": "2022-07-21T12:16:40.266Z"
   },
   {
    "duration": 88,
    "start_time": "2022-07-21T12:16:44.829Z"
   },
   {
    "duration": 7,
    "start_time": "2022-07-21T12:16:46.782Z"
   },
   {
    "duration": 8,
    "start_time": "2022-07-21T12:16:56.678Z"
   },
   {
    "duration": 7,
    "start_time": "2022-07-21T12:16:57.069Z"
   },
   {
    "duration": 8,
    "start_time": "2022-07-21T12:16:57.662Z"
   },
   {
    "duration": 8,
    "start_time": "2022-07-21T12:17:15.195Z"
   },
   {
    "duration": 690,
    "start_time": "2022-07-21T12:17:15.205Z"
   },
   {
    "duration": 417,
    "start_time": "2022-07-21T12:17:15.897Z"
   },
   {
    "duration": 10,
    "start_time": "2022-07-21T12:17:16.316Z"
   },
   {
    "duration": 27,
    "start_time": "2022-07-21T12:17:16.327Z"
   },
   {
    "duration": 21629,
    "start_time": "2022-07-21T12:17:16.357Z"
   },
   {
    "duration": 116,
    "start_time": "2022-07-21T12:17:37.988Z"
   },
   {
    "duration": 124,
    "start_time": "2022-07-21T12:17:38.106Z"
   },
   {
    "duration": 6,
    "start_time": "2022-07-21T12:17:38.236Z"
   },
   {
    "duration": 16,
    "start_time": "2022-07-21T12:17:38.244Z"
   },
   {
    "duration": 7,
    "start_time": "2022-07-21T12:17:43.829Z"
   },
   {
    "duration": 85,
    "start_time": "2022-07-21T12:17:45.609Z"
   },
   {
    "duration": 283,
    "start_time": "2022-07-21T12:17:50.048Z"
   },
   {
    "duration": 356,
    "start_time": "2022-07-21T12:17:59.881Z"
   },
   {
    "duration": 4,
    "start_time": "2022-07-21T12:18:03.293Z"
   },
   {
    "duration": 13,
    "start_time": "2022-07-21T12:18:08.366Z"
   },
   {
    "duration": 16,
    "start_time": "2022-07-21T12:18:11.086Z"
   },
   {
    "duration": 10,
    "start_time": "2022-07-21T12:18:14.550Z"
   },
   {
    "duration": 83,
    "start_time": "2022-07-21T12:18:18.405Z"
   },
   {
    "duration": 26422,
    "start_time": "2022-07-21T12:18:27.547Z"
   },
   {
    "duration": 17010,
    "start_time": "2022-07-21T12:18:53.971Z"
   },
   {
    "duration": 28,
    "start_time": "2022-07-21T12:19:10.984Z"
   },
   {
    "duration": 16,
    "start_time": "2022-07-21T12:19:13.556Z"
   },
   {
    "duration": 11,
    "start_time": "2022-07-21T12:19:14.187Z"
   },
   {
    "duration": 13,
    "start_time": "2022-07-21T12:19:15.580Z"
   },
   {
    "duration": 6,
    "start_time": "2022-07-21T12:19:16.083Z"
   },
   {
    "duration": 97,
    "start_time": "2022-07-21T12:19:16.539Z"
   },
   {
    "duration": 58,
    "start_time": "2022-07-21T12:19:30.469Z"
   },
   {
    "duration": 1589,
    "start_time": "2022-07-21T12:19:36.830Z"
   },
   {
    "duration": 3158,
    "start_time": "2022-07-21T12:19:38.420Z"
   },
   {
    "duration": 485,
    "start_time": "2022-07-21T12:19:41.580Z"
   },
   {
    "duration": 6,
    "start_time": "2022-07-21T12:19:42.067Z"
   },
   {
    "duration": 5,
    "start_time": "2022-07-21T12:19:42.075Z"
   },
   {
    "duration": 21602,
    "start_time": "2022-07-21T12:19:42.082Z"
   },
   {
    "duration": 108,
    "start_time": "2022-07-21T12:20:03.686Z"
   },
   {
    "duration": 137,
    "start_time": "2022-07-21T12:20:03.801Z"
   },
   {
    "duration": 7,
    "start_time": "2022-07-21T12:20:03.939Z"
   },
   {
    "duration": 10,
    "start_time": "2022-07-21T12:20:03.947Z"
   },
   {
    "duration": 99,
    "start_time": "2022-07-21T12:20:03.958Z"
   },
   {
    "duration": 321,
    "start_time": "2022-07-21T12:20:04.059Z"
   },
   {
    "duration": 323,
    "start_time": "2022-07-21T12:20:04.382Z"
   },
   {
    "duration": 20,
    "start_time": "2022-07-21T12:20:04.708Z"
   },
   {
    "duration": 28,
    "start_time": "2022-07-21T12:20:04.729Z"
   },
   {
    "duration": 10,
    "start_time": "2022-07-21T12:20:04.759Z"
   },
   {
    "duration": 23023,
    "start_time": "2022-07-21T12:20:04.770Z"
   },
   {
    "duration": 13833,
    "start_time": "2022-07-21T12:20:27.795Z"
   },
   {
    "duration": 10,
    "start_time": "2022-07-21T12:20:41.629Z"
   },
   {
    "duration": 10,
    "start_time": "2022-07-21T12:20:41.641Z"
   },
   {
    "duration": 9,
    "start_time": "2022-07-21T12:20:41.652Z"
   },
   {
    "duration": 14,
    "start_time": "2022-07-21T12:20:41.662Z"
   },
   {
    "duration": 7,
    "start_time": "2022-07-21T12:20:41.707Z"
   },
   {
    "duration": 75,
    "start_time": "2022-07-21T12:20:41.715Z"
   },
   {
    "duration": 5496,
    "start_time": "2022-07-21T12:20:41.791Z"
   },
   {
    "duration": 65,
    "start_time": "2022-07-21T12:20:47.288Z"
   },
   {
    "duration": 49,
    "start_time": "2022-07-21T12:21:24.132Z"
   },
   {
    "duration": 15840,
    "start_time": "2022-07-21T12:21:28.378Z"
   },
   {
    "duration": 843,
    "start_time": "2022-07-21T12:21:44.219Z"
   },
   {
    "duration": 3,
    "start_time": "2022-07-21T12:21:50.229Z"
   },
   {
    "duration": 552,
    "start_time": "2022-07-21T12:21:51.146Z"
   },
   {
    "duration": 19,
    "start_time": "2022-07-21T12:21:52.776Z"
   },
   {
    "duration": 127,
    "start_time": "2022-07-21T12:21:57.557Z"
   },
   {
    "duration": 45,
    "start_time": "2022-07-21T12:21:59.243Z"
   },
   {
    "duration": 73,
    "start_time": "2022-07-21T12:22:32.999Z"
   },
   {
    "duration": 13,
    "start_time": "2022-07-21T12:22:34.161Z"
   },
   {
    "duration": 39160,
    "start_time": "2022-07-21T12:22:55.122Z"
   },
   {
    "duration": 12745,
    "start_time": "2022-07-21T12:23:54.489Z"
   },
   {
    "duration": 126735,
    "start_time": "2022-07-21T12:24:16.930Z"
   },
   {
    "duration": 1124631,
    "start_time": "2022-07-21T12:26:35.463Z"
   },
   {
    "duration": 5,
    "start_time": "2022-07-21T12:45:27.978Z"
   },
   {
    "duration": 662,
    "start_time": "2022-07-21T12:45:28.858Z"
   },
   {
    "duration": 422,
    "start_time": "2022-07-21T12:45:29.545Z"
   },
   {
    "duration": 9,
    "start_time": "2022-07-21T13:10:54.143Z"
   },
   {
    "duration": 3,
    "start_time": "2022-07-21T13:11:05.455Z"
   },
   {
    "duration": 10,
    "start_time": "2022-07-21T13:11:06.295Z"
   },
   {
    "duration": 3,
    "start_time": "2022-07-21T13:11:35.583Z"
   },
   {
    "duration": 1154,
    "start_time": "2022-07-21T13:11:36.278Z"
   },
   {
    "duration": 1090,
    "start_time": "2022-07-21T13:12:08.925Z"
   },
   {
    "duration": 1683,
    "start_time": "2022-07-21T13:12:23.317Z"
   },
   {
    "duration": 96,
    "start_time": "2022-07-21T13:12:42.334Z"
   },
   {
    "duration": 15,
    "start_time": "2022-07-21T13:13:28.796Z"
   },
   {
    "duration": 29,
    "start_time": "2022-07-21T13:13:35.723Z"
   },
   {
    "duration": 1932,
    "start_time": "2022-07-21T13:13:50.740Z"
   },
   {
    "duration": 96,
    "start_time": "2022-07-21T13:13:55.484Z"
   },
   {
    "duration": 48,
    "start_time": "2022-07-21T13:14:12.674Z"
   },
   {
    "duration": 26,
    "start_time": "2022-07-21T13:14:13.347Z"
   },
   {
    "duration": 4,
    "start_time": "2022-07-21T13:15:32.368Z"
   },
   {
    "duration": 4,
    "start_time": "2022-07-21T13:17:09.058Z"
   },
   {
    "duration": 568,
    "start_time": "2022-07-21T13:17:09.064Z"
   },
   {
    "duration": 397,
    "start_time": "2022-07-21T13:17:09.634Z"
   },
   {
    "duration": 4,
    "start_time": "2022-07-21T13:17:10.032Z"
   },
   {
    "duration": 2044,
    "start_time": "2022-07-21T13:17:10.037Z"
   },
   {
    "duration": 112,
    "start_time": "2022-07-21T13:17:12.083Z"
   },
   {
    "duration": 44,
    "start_time": "2022-07-21T13:17:12.201Z"
   },
   {
    "duration": 13,
    "start_time": "2022-07-21T13:17:12.247Z"
   },
   {
    "duration": 11,
    "start_time": "2022-07-21T13:17:19.870Z"
   },
   {
    "duration": 340,
    "start_time": "2022-07-21T13:17:20.629Z"
   },
   {
    "duration": 32,
    "start_time": "2022-07-21T13:18:04.765Z"
   },
   {
    "duration": 45,
    "start_time": "2022-07-21T13:18:29.827Z"
   },
   {
    "duration": 337,
    "start_time": "2022-07-21T13:18:49.445Z"
   },
   {
    "duration": 71,
    "start_time": "2022-07-21T13:19:11.396Z"
   },
   {
    "duration": 345,
    "start_time": "2022-07-21T13:19:20.940Z"
   },
   {
    "duration": 53,
    "start_time": "2022-07-21T13:23:06.142Z"
   },
   {
    "duration": 57,
    "start_time": "2022-07-21T13:23:24.485Z"
   },
   {
    "duration": 7,
    "start_time": "2022-07-21T13:23:25.070Z"
   },
   {
    "duration": 96,
    "start_time": "2022-07-21T13:23:26.341Z"
   },
   {
    "duration": 296,
    "start_time": "2022-07-21T13:23:30.637Z"
   },
   {
    "duration": 339,
    "start_time": "2022-07-21T13:23:51.990Z"
   },
   {
    "duration": 12,
    "start_time": "2022-07-21T13:23:53.828Z"
   },
   {
    "duration": 14,
    "start_time": "2022-07-21T13:23:57.828Z"
   },
   {
    "duration": 10,
    "start_time": "2022-07-21T13:23:58.981Z"
   },
   {
    "duration": 1528,
    "start_time": "2022-07-21T13:24:43.996Z"
   },
   {
    "duration": 195,
    "start_time": "2022-07-21T13:25:27.639Z"
   },
   {
    "duration": 12280,
    "start_time": "2022-07-21T13:25:37.665Z"
   },
   {
    "duration": 10,
    "start_time": "2022-07-21T13:25:52.857Z"
   },
   {
    "duration": 14,
    "start_time": "2022-07-21T13:25:54.299Z"
   },
   {
    "duration": 10,
    "start_time": "2022-07-21T13:25:54.849Z"
   },
   {
    "duration": 12,
    "start_time": "2022-07-21T13:25:57.305Z"
   },
   {
    "duration": 5,
    "start_time": "2022-07-21T13:25:57.825Z"
   },
   {
    "duration": 61,
    "start_time": "2022-07-21T13:25:59.256Z"
   },
   {
    "duration": 1942,
    "start_time": "2022-07-21T13:26:57.439Z"
   },
   {
    "duration": 87,
    "start_time": "2022-07-21T13:27:02.428Z"
   },
   {
    "duration": 589,
    "start_time": "2022-07-21T13:27:07.257Z"
   },
   {
    "duration": 7,
    "start_time": "2022-07-21T13:31:21.520Z"
   },
   {
    "duration": 584,
    "start_time": "2022-07-21T13:31:21.529Z"
   },
   {
    "duration": 365,
    "start_time": "2022-07-21T13:31:22.122Z"
   },
   {
    "duration": 3,
    "start_time": "2022-07-21T13:31:22.489Z"
   },
   {
    "duration": 2045,
    "start_time": "2022-07-21T13:31:22.494Z"
   },
   {
    "duration": 104,
    "start_time": "2022-07-21T13:31:24.540Z"
   },
   {
    "duration": 25,
    "start_time": "2022-07-21T13:31:24.645Z"
   },
   {
    "duration": 66,
    "start_time": "2022-07-21T13:31:24.671Z"
   },
   {
    "duration": 47,
    "start_time": "2022-07-21T13:31:24.739Z"
   },
   {
    "duration": 18,
    "start_time": "2022-07-21T13:31:24.788Z"
   },
   {
    "duration": 113,
    "start_time": "2022-07-21T13:31:24.813Z"
   },
   {
    "duration": 300,
    "start_time": "2022-07-21T13:31:24.928Z"
   },
   {
    "duration": 360,
    "start_time": "2022-07-21T13:31:25.231Z"
   },
   {
    "duration": 23,
    "start_time": "2022-07-21T13:31:25.593Z"
   },
   {
    "duration": 23,
    "start_time": "2022-07-21T13:31:25.622Z"
   },
   {
    "duration": 15,
    "start_time": "2022-07-21T13:31:25.646Z"
   },
   {
    "duration": 1522,
    "start_time": "2022-07-21T13:31:25.663Z"
   },
   {
    "duration": 136,
    "start_time": "2022-07-21T13:31:27.187Z"
   },
   {
    "duration": 13214,
    "start_time": "2022-07-21T13:31:27.325Z"
   },
   {
    "duration": 10,
    "start_time": "2022-07-21T13:31:40.540Z"
   },
   {
    "duration": 10,
    "start_time": "2022-07-21T13:31:40.551Z"
   },
   {
    "duration": 9,
    "start_time": "2022-07-21T13:31:40.563Z"
   },
   {
    "duration": 8,
    "start_time": "2022-07-21T13:31:40.573Z"
   },
   {
    "duration": 15,
    "start_time": "2022-07-21T13:31:40.610Z"
   },
   {
    "duration": 5,
    "start_time": "2022-07-21T13:31:43.136Z"
   },
   {
    "duration": 67,
    "start_time": "2022-07-21T13:31:43.592Z"
   },
   {
    "duration": 8,
    "start_time": "2022-07-21T13:31:47.512Z"
   },
   {
    "duration": 230,
    "start_time": "2022-07-21T13:31:49.554Z"
   },
   {
    "duration": 67,
    "start_time": "2022-07-21T13:31:52.574Z"
   },
   {
    "duration": 230,
    "start_time": "2022-07-21T13:33:28.528Z"
   },
   {
    "duration": 2148,
    "start_time": "2022-07-21T13:34:45.741Z"
   },
   {
    "duration": 81,
    "start_time": "2022-07-21T13:35:11.740Z"
   },
   {
    "duration": 466,
    "start_time": "2022-07-21T13:35:22.913Z"
   },
   {
    "duration": 4,
    "start_time": "2022-07-21T13:36:00.840Z"
   },
   {
    "duration": 614,
    "start_time": "2022-07-21T13:36:00.846Z"
   },
   {
    "duration": 373,
    "start_time": "2022-07-21T13:36:01.462Z"
   },
   {
    "duration": 3,
    "start_time": "2022-07-21T13:36:01.837Z"
   },
   {
    "duration": 1965,
    "start_time": "2022-07-21T13:36:01.842Z"
   },
   {
    "duration": 97,
    "start_time": "2022-07-21T13:36:03.816Z"
   },
   {
    "duration": 25,
    "start_time": "2022-07-21T13:36:03.915Z"
   },
   {
    "duration": 55,
    "start_time": "2022-07-21T13:36:03.942Z"
   },
   {
    "duration": 62,
    "start_time": "2022-07-21T13:36:03.999Z"
   },
   {
    "duration": 7,
    "start_time": "2022-07-21T13:36:04.063Z"
   },
   {
    "duration": 92,
    "start_time": "2022-07-21T13:36:04.072Z"
   },
   {
    "duration": 290,
    "start_time": "2022-07-21T13:36:04.166Z"
   },
   {
    "duration": 329,
    "start_time": "2022-07-21T13:36:04.457Z"
   },
   {
    "duration": 28,
    "start_time": "2022-07-21T13:36:04.788Z"
   },
   {
    "duration": 16,
    "start_time": "2022-07-21T13:36:04.818Z"
   },
   {
    "duration": 15,
    "start_time": "2022-07-21T13:36:04.836Z"
   },
   {
    "duration": 1498,
    "start_time": "2022-07-21T13:36:04.852Z"
   },
   {
    "duration": 123,
    "start_time": "2022-07-21T13:36:06.352Z"
   },
   {
    "duration": 13041,
    "start_time": "2022-07-21T13:36:06.476Z"
   },
   {
    "duration": 10,
    "start_time": "2022-07-21T13:36:19.518Z"
   },
   {
    "duration": 11,
    "start_time": "2022-07-21T13:36:19.530Z"
   },
   {
    "duration": 10,
    "start_time": "2022-07-21T13:36:19.542Z"
   },
   {
    "duration": 9,
    "start_time": "2022-07-21T13:36:19.553Z"
   },
   {
    "duration": 9,
    "start_time": "2022-07-21T13:36:19.568Z"
   },
   {
    "duration": 85,
    "start_time": "2022-07-21T13:36:19.579Z"
   },
   {
    "duration": 4,
    "start_time": "2022-07-21T13:36:19.665Z"
   },
   {
    "duration": 247,
    "start_time": "2022-07-21T13:36:19.670Z"
   },
   {
    "duration": 130,
    "start_time": "2022-07-21T13:36:19.918Z"
   },
   {
    "duration": 0,
    "start_time": "2022-07-21T13:36:20.050Z"
   },
   {
    "duration": 2127,
    "start_time": "2022-07-21T13:36:41.414Z"
   },
   {
    "duration": 7,
    "start_time": "2022-07-21T13:37:46.582Z"
   },
   {
    "duration": 96,
    "start_time": "2022-07-21T13:37:54.928Z"
   },
   {
    "duration": 90,
    "start_time": "2022-07-21T13:38:21.130Z"
   },
   {
    "duration": 80,
    "start_time": "2022-07-21T13:38:28.374Z"
   },
   {
    "duration": 91,
    "start_time": "2022-07-21T13:38:42.994Z"
   },
   {
    "duration": 70,
    "start_time": "2022-07-21T13:38:44.663Z"
   },
   {
    "duration": 16040,
    "start_time": "2022-07-21T13:38:48.326Z"
   },
   {
    "duration": 793,
    "start_time": "2022-07-21T13:39:08.686Z"
   },
   {
    "duration": 3,
    "start_time": "2022-07-21T13:39:12.349Z"
   },
   {
    "duration": 568,
    "start_time": "2022-07-21T13:39:17.332Z"
   },
   {
    "duration": 19,
    "start_time": "2022-07-21T13:39:19.332Z"
   },
   {
    "duration": 101,
    "start_time": "2022-07-21T13:39:24.884Z"
   },
   {
    "duration": 43,
    "start_time": "2022-07-21T13:39:25.629Z"
   },
   {
    "duration": 18,
    "start_time": "2022-07-21T13:39:26.531Z"
   },
   {
    "duration": 83775,
    "start_time": "2022-07-21T13:39:29.841Z"
   },
   {
    "duration": 38859,
    "start_time": "2022-07-21T13:40:53.703Z"
   },
   {
    "duration": 12591,
    "start_time": "2022-07-21T13:41:32.564Z"
   },
   {
    "duration": 131190,
    "start_time": "2022-07-21T13:41:45.158Z"
   },
   {
    "duration": 405388,
    "start_time": "2022-07-21T13:43:56.349Z"
   },
   {
    "duration": 0,
    "start_time": "2022-07-21T13:50:41.739Z"
   },
   {
    "duration": 0,
    "start_time": "2022-07-21T13:50:41.740Z"
   },
   {
    "duration": 0,
    "start_time": "2022-07-21T13:50:41.741Z"
   },
   {
    "duration": 0,
    "start_time": "2022-07-21T13:50:41.742Z"
   },
   {
    "duration": 0,
    "start_time": "2022-07-21T13:50:41.743Z"
   },
   {
    "duration": 0,
    "start_time": "2022-07-21T13:50:41.744Z"
   },
   {
    "duration": 4,
    "start_time": "2022-07-21T13:51:26.989Z"
   },
   {
    "duration": 642,
    "start_time": "2022-07-21T13:51:26.995Z"
   },
   {
    "duration": 392,
    "start_time": "2022-07-21T13:51:27.639Z"
   },
   {
    "duration": 4,
    "start_time": "2022-07-21T13:51:28.032Z"
   },
   {
    "duration": 2041,
    "start_time": "2022-07-21T13:51:28.038Z"
   },
   {
    "duration": 107,
    "start_time": "2022-07-21T13:51:30.081Z"
   },
   {
    "duration": 67,
    "start_time": "2022-07-21T13:51:30.190Z"
   },
   {
    "duration": 73,
    "start_time": "2022-07-21T13:51:30.259Z"
   },
   {
    "duration": 80,
    "start_time": "2022-07-21T13:51:30.334Z"
   },
   {
    "duration": 12,
    "start_time": "2022-07-21T13:51:30.418Z"
   },
   {
    "duration": 101,
    "start_time": "2022-07-21T13:51:30.431Z"
   },
   {
    "duration": 309,
    "start_time": "2022-07-21T13:51:30.534Z"
   },
   {
    "duration": 343,
    "start_time": "2022-07-21T13:51:30.845Z"
   },
   {
    "duration": 27,
    "start_time": "2022-07-21T13:51:31.191Z"
   },
   {
    "duration": 42,
    "start_time": "2022-07-21T13:51:31.223Z"
   },
   {
    "duration": 24,
    "start_time": "2022-07-21T13:51:31.266Z"
   },
   {
    "duration": 464,
    "start_time": "2022-07-21T13:51:31.291Z"
   },
   {
    "duration": 127,
    "start_time": "2022-07-21T13:51:31.757Z"
   },
   {
    "duration": 11577,
    "start_time": "2022-07-21T13:51:31.886Z"
   },
   {
    "duration": 11,
    "start_time": "2022-07-21T13:51:43.465Z"
   },
   {
    "duration": 32,
    "start_time": "2022-07-21T13:51:43.477Z"
   },
   {
    "duration": 11,
    "start_time": "2022-07-21T13:51:43.510Z"
   },
   {
    "duration": 23,
    "start_time": "2022-07-21T13:51:43.525Z"
   },
   {
    "duration": 5,
    "start_time": "2022-07-21T13:51:43.550Z"
   },
   {
    "duration": 95,
    "start_time": "2022-07-21T13:51:43.557Z"
   },
   {
    "duration": 4,
    "start_time": "2022-07-21T13:51:43.654Z"
   },
   {
    "duration": 4165,
    "start_time": "2022-07-21T13:51:43.659Z"
   },
   {
    "duration": 2156,
    "start_time": "2022-07-21T13:51:47.825Z"
   },
   {
    "duration": 86,
    "start_time": "2022-07-21T13:51:49.983Z"
   },
   {
    "duration": 73,
    "start_time": "2022-07-21T13:51:50.071Z"
   },
   {
    "duration": 13082,
    "start_time": "2022-07-21T13:51:50.145Z"
   },
   {
    "duration": 755,
    "start_time": "2022-07-21T13:52:03.231Z"
   },
   {
    "duration": 208,
    "start_time": "2022-07-21T13:52:10.995Z"
   },
   {
    "duration": 334,
    "start_time": "2022-07-21T13:52:12.083Z"
   },
   {
    "duration": 21,
    "start_time": "2022-07-21T13:53:30.650Z"
   },
   {
    "duration": 29,
    "start_time": "2022-07-21T13:53:40.849Z"
   },
   {
    "duration": 35,
    "start_time": "2022-07-21T13:53:56.888Z"
   },
   {
    "duration": 105,
    "start_time": "2022-07-21T13:54:03.473Z"
   },
   {
    "duration": 4,
    "start_time": "2022-07-21T13:54:14.842Z"
   },
   {
    "duration": 619,
    "start_time": "2022-07-21T13:54:14.847Z"
   },
   {
    "duration": 412,
    "start_time": "2022-07-21T13:54:15.468Z"
   },
   {
    "duration": 3,
    "start_time": "2022-07-21T13:54:15.881Z"
   },
   {
    "duration": 2235,
    "start_time": "2022-07-21T13:54:15.886Z"
   },
   {
    "duration": 114,
    "start_time": "2022-07-21T13:54:18.123Z"
   },
   {
    "duration": 42,
    "start_time": "2022-07-21T13:54:18.238Z"
   },
   {
    "duration": 107,
    "start_time": "2022-07-21T13:54:18.281Z"
   },
   {
    "duration": 65,
    "start_time": "2022-07-21T13:54:18.389Z"
   },
   {
    "duration": 7,
    "start_time": "2022-07-21T13:54:18.456Z"
   },
   {
    "duration": 113,
    "start_time": "2022-07-21T13:54:18.465Z"
   },
   {
    "duration": 341,
    "start_time": "2022-07-21T13:54:18.580Z"
   },
   {
    "duration": 357,
    "start_time": "2022-07-21T13:54:18.930Z"
   },
   {
    "duration": 34,
    "start_time": "2022-07-21T13:54:19.289Z"
   },
   {
    "duration": 30,
    "start_time": "2022-07-21T13:54:19.324Z"
   },
   {
    "duration": 16,
    "start_time": "2022-07-21T13:54:19.355Z"
   },
   {
    "duration": 578,
    "start_time": "2022-07-21T13:54:19.372Z"
   },
   {
    "duration": 137,
    "start_time": "2022-07-21T13:54:19.952Z"
   },
   {
    "duration": 16510,
    "start_time": "2022-07-21T13:54:20.091Z"
   },
   {
    "duration": 20,
    "start_time": "2022-07-21T13:54:36.603Z"
   },
   {
    "duration": 32,
    "start_time": "2022-07-21T13:54:36.632Z"
   },
   {
    "duration": 9,
    "start_time": "2022-07-21T13:54:36.666Z"
   },
   {
    "duration": 10,
    "start_time": "2022-07-21T13:54:36.677Z"
   },
   {
    "duration": 5,
    "start_time": "2022-07-21T13:54:36.688Z"
   },
   {
    "duration": 85,
    "start_time": "2022-07-21T13:54:36.695Z"
   },
   {
    "duration": 3,
    "start_time": "2022-07-21T13:54:36.781Z"
   },
   {
    "duration": 347,
    "start_time": "2022-07-21T13:54:36.786Z"
   },
   {
    "duration": 2511,
    "start_time": "2022-07-21T13:54:37.134Z"
   },
   {
    "duration": 85,
    "start_time": "2022-07-21T13:54:39.647Z"
   },
   {
    "duration": 107,
    "start_time": "2022-07-21T13:54:39.740Z"
   },
   {
    "duration": 18025,
    "start_time": "2022-07-21T13:54:39.849Z"
   },
   {
    "duration": 761,
    "start_time": "2022-07-21T13:54:57.875Z"
   },
   {
    "duration": 209,
    "start_time": "2022-07-21T13:54:58.638Z"
   },
   {
    "duration": 364,
    "start_time": "2022-07-21T13:54:58.849Z"
   },
   {
    "duration": 24,
    "start_time": "2022-07-21T13:55:10.683Z"
   },
   {
    "duration": 105,
    "start_time": "2022-07-21T13:55:12.767Z"
   },
   {
    "duration": 105,
    "start_time": "2022-07-21T13:55:42.138Z"
   },
   {
    "duration": 107,
    "start_time": "2022-07-21T13:58:52.834Z"
   },
   {
    "duration": 27,
    "start_time": "2022-07-21T13:59:45.213Z"
   },
   {
    "duration": 14,
    "start_time": "2022-07-21T13:59:52.973Z"
   },
   {
    "duration": 3,
    "start_time": "2022-07-21T14:00:07.481Z"
   },
   {
    "duration": 55,
    "start_time": "2022-07-21T14:00:29.295Z"
   },
   {
    "duration": 15,
    "start_time": "2022-07-21T14:00:43.663Z"
   },
   {
    "duration": 8,
    "start_time": "2022-07-21T14:01:19.526Z"
   },
   {
    "duration": 14,
    "start_time": "2022-07-21T14:01:27.828Z"
   },
   {
    "duration": 9,
    "start_time": "2022-07-21T14:01:35.159Z"
   },
   {
    "duration": 48,
    "start_time": "2022-07-21T14:01:49.469Z"
   },
   {
    "duration": 69,
    "start_time": "2022-07-21T14:01:57.549Z"
   },
   {
    "duration": 24,
    "start_time": "2022-07-21T14:02:06.122Z"
   },
   {
    "duration": 10,
    "start_time": "2022-07-21T14:02:51.676Z"
   },
   {
    "duration": 8,
    "start_time": "2022-07-21T14:03:04.877Z"
   },
   {
    "duration": 69,
    "start_time": "2022-07-21T14:03:17.516Z"
   },
   {
    "duration": 47,
    "start_time": "2022-07-21T14:04:21.363Z"
   },
   {
    "duration": 33,
    "start_time": "2022-07-21T14:04:29.178Z"
   },
   {
    "duration": 6,
    "start_time": "2022-07-21T14:07:58.938Z"
   },
   {
    "duration": 645,
    "start_time": "2022-07-21T14:07:58.946Z"
   },
   {
    "duration": 417,
    "start_time": "2022-07-21T14:07:59.593Z"
   },
   {
    "duration": 10,
    "start_time": "2022-07-21T14:08:00.016Z"
   },
   {
    "duration": 2155,
    "start_time": "2022-07-21T14:08:00.033Z"
   },
   {
    "duration": 113,
    "start_time": "2022-07-21T14:08:02.190Z"
   },
   {
    "duration": 62,
    "start_time": "2022-07-21T14:08:02.307Z"
   },
   {
    "duration": 69,
    "start_time": "2022-07-21T14:08:02.371Z"
   },
   {
    "duration": 73,
    "start_time": "2022-07-21T14:08:02.442Z"
   },
   {
    "duration": 8,
    "start_time": "2022-07-21T14:08:02.521Z"
   },
   {
    "duration": 108,
    "start_time": "2022-07-21T14:08:02.535Z"
   },
   {
    "duration": 316,
    "start_time": "2022-07-21T14:08:02.647Z"
   },
   {
    "duration": 370,
    "start_time": "2022-07-21T14:08:02.965Z"
   },
   {
    "duration": 19,
    "start_time": "2022-07-21T14:08:03.340Z"
   },
   {
    "duration": 21,
    "start_time": "2022-07-21T14:08:03.361Z"
   },
   {
    "duration": 42,
    "start_time": "2022-07-21T14:08:03.384Z"
   },
   {
    "duration": 478,
    "start_time": "2022-07-21T14:08:03.431Z"
   },
   {
    "duration": 151,
    "start_time": "2022-07-21T14:08:03.915Z"
   },
   {
    "duration": 11321,
    "start_time": "2022-07-21T14:08:04.067Z"
   },
   {
    "duration": 27,
    "start_time": "2022-07-21T14:08:15.390Z"
   },
   {
    "duration": 14,
    "start_time": "2022-07-21T14:08:15.421Z"
   },
   {
    "duration": 9,
    "start_time": "2022-07-21T14:08:15.437Z"
   },
   {
    "duration": 14,
    "start_time": "2022-07-21T14:08:15.448Z"
   },
   {
    "duration": 4,
    "start_time": "2022-07-21T14:08:15.464Z"
   },
   {
    "duration": 85,
    "start_time": "2022-07-21T14:08:15.470Z"
   },
   {
    "duration": 3,
    "start_time": "2022-07-21T14:08:15.557Z"
   },
   {
    "duration": 269,
    "start_time": "2022-07-21T14:08:15.561Z"
   },
   {
    "duration": 2212,
    "start_time": "2022-07-21T14:08:15.831Z"
   },
   {
    "duration": 83,
    "start_time": "2022-07-21T14:08:18.044Z"
   },
   {
    "duration": 60,
    "start_time": "2022-07-21T14:08:18.129Z"
   },
   {
    "duration": 19082,
    "start_time": "2022-07-21T14:08:18.190Z"
   },
   {
    "duration": 861,
    "start_time": "2022-07-21T14:08:37.274Z"
   },
   {
    "duration": 1548,
    "start_time": "2022-07-21T14:08:53.925Z"
   },
   {
    "duration": 2979,
    "start_time": "2022-07-21T14:08:55.475Z"
   },
   {
    "duration": 479,
    "start_time": "2022-07-21T14:08:58.455Z"
   },
   {
    "duration": 4,
    "start_time": "2022-07-21T14:08:58.935Z"
   },
   {
    "duration": 2237,
    "start_time": "2022-07-21T14:08:58.940Z"
   },
   {
    "duration": 108,
    "start_time": "2022-07-21T14:09:01.178Z"
   },
   {
    "duration": 45,
    "start_time": "2022-07-21T14:09:01.288Z"
   },
   {
    "duration": 74,
    "start_time": "2022-07-21T14:09:01.335Z"
   },
   {
    "duration": 78,
    "start_time": "2022-07-21T14:09:01.417Z"
   },
   {
    "duration": 17,
    "start_time": "2022-07-21T14:09:01.497Z"
   },
   {
    "duration": 106,
    "start_time": "2022-07-21T14:09:01.520Z"
   },
   {
    "duration": 352,
    "start_time": "2022-07-21T14:09:01.628Z"
   },
   {
    "duration": 345,
    "start_time": "2022-07-21T14:09:01.982Z"
   },
   {
    "duration": 14,
    "start_time": "2022-07-21T14:09:02.330Z"
   },
   {
    "duration": 14,
    "start_time": "2022-07-21T14:09:02.345Z"
   },
   {
    "duration": 9,
    "start_time": "2022-07-21T14:09:02.360Z"
   },
   {
    "duration": 123,
    "start_time": "2022-07-21T14:09:02.370Z"
   },
   {
    "duration": 0,
    "start_time": "2022-07-21T14:09:02.494Z"
   },
   {
    "duration": 0,
    "start_time": "2022-07-21T14:09:02.501Z"
   },
   {
    "duration": 0,
    "start_time": "2022-07-21T14:09:02.502Z"
   },
   {
    "duration": 0,
    "start_time": "2022-07-21T14:09:02.503Z"
   },
   {
    "duration": 0,
    "start_time": "2022-07-21T14:09:02.503Z"
   },
   {
    "duration": 0,
    "start_time": "2022-07-21T14:09:02.504Z"
   },
   {
    "duration": 0,
    "start_time": "2022-07-21T14:09:02.504Z"
   },
   {
    "duration": 0,
    "start_time": "2022-07-21T14:09:02.505Z"
   },
   {
    "duration": 0,
    "start_time": "2022-07-21T14:09:02.505Z"
   },
   {
    "duration": 0,
    "start_time": "2022-07-21T14:09:02.506Z"
   },
   {
    "duration": 0,
    "start_time": "2022-07-21T14:09:02.506Z"
   },
   {
    "duration": 0,
    "start_time": "2022-07-21T14:09:02.507Z"
   },
   {
    "duration": 0,
    "start_time": "2022-07-21T14:09:02.510Z"
   },
   {
    "duration": 0,
    "start_time": "2022-07-21T14:09:02.511Z"
   },
   {
    "duration": 0,
    "start_time": "2022-07-21T14:09:02.511Z"
   },
   {
    "duration": 0,
    "start_time": "2022-07-21T14:09:02.512Z"
   },
   {
    "duration": 0,
    "start_time": "2022-07-21T14:09:02.513Z"
   },
   {
    "duration": 11,
    "start_time": "2022-07-21T14:09:07.821Z"
   },
   {
    "duration": 5,
    "start_time": "2022-07-21T14:09:22.948Z"
   },
   {
    "duration": 602,
    "start_time": "2022-07-21T14:09:23.759Z"
   },
   {
    "duration": 381,
    "start_time": "2022-07-21T14:09:24.363Z"
   },
   {
    "duration": 6,
    "start_time": "2022-07-21T14:09:25.315Z"
   },
   {
    "duration": 2103,
    "start_time": "2022-07-21T14:09:25.751Z"
   },
   {
    "duration": 105,
    "start_time": "2022-07-21T14:09:27.856Z"
   },
   {
    "duration": 27,
    "start_time": "2022-07-21T14:09:28.946Z"
   },
   {
    "duration": 76,
    "start_time": "2022-07-21T14:09:29.390Z"
   },
   {
    "duration": 60,
    "start_time": "2022-07-21T14:09:29.855Z"
   },
   {
    "duration": 7,
    "start_time": "2022-07-21T14:09:30.279Z"
   },
   {
    "duration": 92,
    "start_time": "2022-07-21T14:09:30.729Z"
   },
   {
    "duration": 330,
    "start_time": "2022-07-21T14:09:32.214Z"
   },
   {
    "duration": 341,
    "start_time": "2022-07-21T14:09:33.062Z"
   },
   {
    "duration": 19,
    "start_time": "2022-07-21T14:09:33.500Z"
   },
   {
    "duration": 17,
    "start_time": "2022-07-21T14:09:34.307Z"
   },
   {
    "duration": 11,
    "start_time": "2022-07-21T14:09:35.125Z"
   },
   {
    "duration": 8,
    "start_time": "2022-07-21T14:09:35.941Z"
   },
   {
    "duration": 8,
    "start_time": "2022-07-21T14:09:36.454Z"
   },
   {
    "duration": 555,
    "start_time": "2022-07-21T14:09:50.396Z"
   },
   {
    "duration": 128,
    "start_time": "2022-07-21T14:09:53.190Z"
   },
   {
    "duration": 11889,
    "start_time": "2022-07-21T14:09:56.989Z"
   },
   {
    "duration": 11,
    "start_time": "2022-07-21T14:10:12.157Z"
   },
   {
    "duration": 11,
    "start_time": "2022-07-21T14:10:13.173Z"
   },
   {
    "duration": 10,
    "start_time": "2022-07-21T14:10:13.550Z"
   },
   {
    "duration": 9,
    "start_time": "2022-07-21T14:10:14.469Z"
   },
   {
    "duration": 5,
    "start_time": "2022-07-21T14:10:14.845Z"
   },
   {
    "duration": 73,
    "start_time": "2022-07-21T14:10:15.270Z"
   },
   {
    "duration": 8,
    "start_time": "2022-07-21T14:10:15.702Z"
   },
   {
    "duration": 900,
    "start_time": "2022-07-21T14:10:16.949Z"
   },
   {
    "duration": 2169,
    "start_time": "2022-07-21T14:10:18.405Z"
   },
   {
    "duration": 80,
    "start_time": "2022-07-21T14:10:20.576Z"
   },
   {
    "duration": 55,
    "start_time": "2022-07-21T14:10:22.824Z"
   },
   {
    "duration": 14667,
    "start_time": "2022-07-21T14:10:23.774Z"
   },
   {
    "duration": 777,
    "start_time": "2022-07-21T14:10:38.443Z"
   },
   {
    "duration": 208,
    "start_time": "2022-07-21T14:10:41.076Z"
   },
   {
    "duration": 331,
    "start_time": "2022-07-21T14:10:47.329Z"
   },
   {
    "duration": 43,
    "start_time": "2022-07-21T14:10:50.331Z"
   },
   {
    "duration": 21,
    "start_time": "2022-07-21T14:12:43.545Z"
   },
   {
    "duration": 133,
    "start_time": "2022-07-21T14:12:57.786Z"
   },
   {
    "duration": 113,
    "start_time": "2022-07-21T14:13:13.928Z"
   },
   {
    "duration": 53,
    "start_time": "2022-07-21T14:14:20.280Z"
   },
   {
    "duration": 27,
    "start_time": "2022-07-21T14:14:22.930Z"
   },
   {
    "duration": 58768,
    "start_time": "2022-07-21T14:14:30.541Z"
   },
   {
    "duration": 45904,
    "start_time": "2022-07-21T14:15:35.629Z"
   },
   {
    "duration": 12133,
    "start_time": "2022-07-21T14:16:21.535Z"
   },
   {
    "duration": 117297,
    "start_time": "2022-07-21T14:16:33.670Z"
   },
   {
    "duration": 2379649,
    "start_time": "2022-07-21T14:18:30.970Z"
   },
   {
    "duration": 0,
    "start_time": "2022-07-21T14:58:10.621Z"
   },
   {
    "duration": 0,
    "start_time": "2022-07-21T14:58:10.622Z"
   },
   {
    "duration": 0,
    "start_time": "2022-07-21T14:58:10.622Z"
   },
   {
    "duration": 0,
    "start_time": "2022-07-21T14:58:10.622Z"
   },
   {
    "duration": 0,
    "start_time": "2022-07-21T14:58:10.628Z"
   },
   {
    "duration": 0,
    "start_time": "2022-07-21T14:58:10.629Z"
   },
   {
    "duration": 4,
    "start_time": "2022-07-21T14:58:52.041Z"
   },
   {
    "duration": 592,
    "start_time": "2022-07-21T14:58:52.047Z"
   },
   {
    "duration": 399,
    "start_time": "2022-07-21T14:58:52.641Z"
   },
   {
    "duration": 4,
    "start_time": "2022-07-21T14:58:53.041Z"
   },
   {
    "duration": 2097,
    "start_time": "2022-07-21T14:58:53.048Z"
   },
   {
    "duration": 114,
    "start_time": "2022-07-21T14:58:55.146Z"
   },
   {
    "duration": 44,
    "start_time": "2022-07-21T14:58:55.262Z"
   },
   {
    "duration": 86,
    "start_time": "2022-07-21T14:58:55.307Z"
   },
   {
    "duration": 80,
    "start_time": "2022-07-21T14:58:55.394Z"
   },
   {
    "duration": 8,
    "start_time": "2022-07-21T14:58:55.476Z"
   },
   {
    "duration": 102,
    "start_time": "2022-07-21T14:58:55.485Z"
   },
   {
    "duration": 338,
    "start_time": "2022-07-21T14:58:55.589Z"
   },
   {
    "duration": 349,
    "start_time": "2022-07-21T14:58:55.934Z"
   },
   {
    "duration": 16,
    "start_time": "2022-07-21T14:58:56.286Z"
   },
   {
    "duration": 35,
    "start_time": "2022-07-21T14:58:56.307Z"
   },
   {
    "duration": 14,
    "start_time": "2022-07-21T14:58:56.344Z"
   },
   {
    "duration": 443,
    "start_time": "2022-07-21T14:58:56.360Z"
   },
   {
    "duration": 135,
    "start_time": "2022-07-21T14:58:56.810Z"
   },
   {
    "duration": 12629,
    "start_time": "2022-07-21T14:58:56.946Z"
   },
   {
    "duration": 10,
    "start_time": "2022-07-21T14:59:09.576Z"
   },
   {
    "duration": 20,
    "start_time": "2022-07-21T14:59:09.587Z"
   },
   {
    "duration": 41,
    "start_time": "2022-07-21T14:59:09.608Z"
   },
   {
    "duration": 17,
    "start_time": "2022-07-21T14:59:09.650Z"
   },
   {
    "duration": 7,
    "start_time": "2022-07-21T14:59:09.669Z"
   },
   {
    "duration": 83,
    "start_time": "2022-07-21T14:59:09.677Z"
   },
   {
    "duration": 10,
    "start_time": "2022-07-21T14:59:09.761Z"
   },
   {
    "duration": 1937,
    "start_time": "2022-07-21T14:59:09.772Z"
   },
   {
    "duration": 2122,
    "start_time": "2022-07-21T14:59:11.716Z"
   },
   {
    "duration": 76,
    "start_time": "2022-07-21T14:59:13.840Z"
   },
   {
    "duration": 66,
    "start_time": "2022-07-21T14:59:13.917Z"
   },
   {
    "duration": 15212,
    "start_time": "2022-07-21T14:59:13.984Z"
   },
   {
    "duration": 890,
    "start_time": "2022-07-21T14:59:29.198Z"
   },
   {
    "duration": 226,
    "start_time": "2022-07-21T14:59:30.089Z"
   },
   {
    "duration": 330,
    "start_time": "2022-07-21T14:59:30.325Z"
   },
   {
    "duration": 22,
    "start_time": "2022-07-21T14:59:30.657Z"
   },
   {
    "duration": 166,
    "start_time": "2022-07-21T14:59:30.681Z"
   },
   {
    "duration": 70,
    "start_time": "2022-07-21T14:59:30.849Z"
   },
   {
    "duration": 39,
    "start_time": "2022-07-21T14:59:30.926Z"
   },
   {
    "duration": 66941,
    "start_time": "2022-07-21T14:59:30.966Z"
   },
   {
    "duration": 45924,
    "start_time": "2022-07-21T15:00:37.909Z"
   },
   {
    "duration": 12028,
    "start_time": "2022-07-21T15:01:23.838Z"
   },
   {
    "duration": 116476,
    "start_time": "2022-07-21T15:01:35.868Z"
   },
   {
    "duration": 65080,
    "start_time": "2022-07-21T15:10:12.639Z"
   },
   {
    "duration": 2543,
    "start_time": "2022-07-21T15:11:17.725Z"
   },
   {
    "duration": 47174,
    "start_time": "2022-07-21T15:11:20.269Z"
   },
   {
    "duration": 12840,
    "start_time": "2022-07-21T15:12:07.446Z"
   },
   {
    "duration": 27,
    "start_time": "2022-07-21T15:12:20.288Z"
   }
  ],
  "kernelspec": {
   "display_name": "Python 3 (ipykernel)",
   "language": "python",
   "name": "python3"
  },
  "language_info": {
   "codemirror_mode": {
    "name": "ipython",
    "version": 3
   },
   "file_extension": ".py",
   "mimetype": "text/x-python",
   "name": "python",
   "nbconvert_exporter": "python",
   "pygments_lexer": "ipython3",
   "version": "3.9.5"
  },
  "toc": {
   "base_numbering": 1,
   "nav_menu": {},
   "number_sections": true,
   "sideBar": true,
   "skip_h1_title": true,
   "title_cell": "Table of Contents",
   "title_sidebar": "Contents",
   "toc_cell": false,
   "toc_position": {},
   "toc_section_display": true,
   "toc_window_display": false
  }
 },
 "nbformat": 4,
 "nbformat_minor": 2
}
