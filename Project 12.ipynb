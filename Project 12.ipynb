{
 "cells": [
  {
   "cell_type": "markdown",
   "metadata": {},
   "source": [
    "# Project description\n",
    "\n",
    "Sweet Lift Taxi company has collected historical data on taxi orders at airports. To attract more drivers during peak hours, we need to predict the amount of taxi orders for the next hour. Build a model for such a prediction.\n",
    "\n",
    "The RMSE metric on the test set should not be more than 48.\n",
    "\n",
    "## Project instructions\n",
    "\n",
    "1. Download the data and resample it by one hour.\n",
    "2. Analyze the data.\n",
    "3. Train different models with different hyperparameters. The test sample should be 10% of the initial dataset. \n",
    "4. Test the data using the test sample and provide a conclusion.\n",
    "\n",
    "## Data description\n",
    "\n",
    "The data is stored in file `taxi.csv`. The number of orders is in the '*num_orders*' column."
   ]
  },
  {
   "cell_type": "markdown",
   "metadata": {},
   "source": [
    "## Preparation"
   ]
  },
  {
   "cell_type": "markdown",
   "metadata": {},
   "source": [
    "Imports:"
   ]
  },
  {
   "cell_type": "code",
   "execution_count": 74,
   "metadata": {},
   "outputs": [],
   "source": [
    "import pandas as pd\n",
    "import numpy as np\n",
    "\n",
    "from sklearn.model_selection import train_test_split\n",
    "from sklearn.linear_model import LinearRegression\n",
    "from sklearn.metrics import mean_squared_error\n",
    "import lightgbm as lgb\n",
    "\n",
    "from statsmodels.tsa.seasonal import seasonal_decompose\n",
    "import matplotlib.pyplot as plt\n",
    "from sklearn.model_selection import TimeSeriesSplit\n",
    "import seaborn as sns\n",
    "sns.set_style(\"darkgrid\")\n",
    "from sklearn.model_selection import GridSearchCV\n",
    "from lightgbm import LGBMRegressor\n",
    "\n",
    "\n",
    "from sklearn.metrics import make_scorer\n",
    "from sklearn.preprocessing import StandardScaler\n",
    "from math import sqrt\n"
   ]
  },
  {
   "cell_type": "markdown",
   "metadata": {},
   "source": [
    "Utilities:"
   ]
  },
  {
   "cell_type": "code",
   "execution_count": 75,
   "metadata": {},
   "outputs": [],
   "source": [
    "def plotModelResults(model, X_train, X_test, y_train, y_test, plot_intervals=False, plot_anomalies=False):\n",
    "    prediction = model.predict(X_test)\n",
    "    plt.figure(figsize=(15, 7))\n",
    "    plt.plot(prediction, \"g\", label=\"prediction\", linewidth=2.0)\n",
    "    plt.plot(y_test.values, label=\"actual\", linewidth=2.0)\n",
    "    if plot_intervals:\n",
    "        tscv = TimeSeriesSplit(n_splits=5)\n",
    "        cv = cross_val_score(model, X_train, y_train, \n",
    "                                    cv=tscv, \n",
    "                                    scoring=\"neg_mean_absolute_error\")\n",
    "        mae = cv.mean() * (-1)\n",
    "        deviation = cv.std()\n",
    "        \n",
    "        scale = 1.96\n",
    "        lower = prediction - (mae + scale * deviation)\n",
    "        upper = prediction + (mae + scale * deviation)\n",
    "        \n",
    "        plt.plot(lower, \"r--\", label=\"upper bond / lower bond\", alpha=0.5)\n",
    "        plt.plot(upper, \"r--\", alpha=0.5)\n",
    "        \n",
    "        if plot_anomalies:\n",
    "            anomalies = np.array([np.NaN]*len(y_test))\n",
    "            anomalies[y_test<lower] = y_test[y_test<lower]\n",
    "            anomalies[y_test>upper] = y_test[y_test>upper]\n",
    "            plt.plot(anomalies, \"o\", markersize=10, label = \"Anomalies\")\n",
    "    \n",
    "    mape = mean_absolute_percentage_error(prediction, y_test)\n",
    "    rmse = rmse_error(prediction, y_test)\n",
    "    plt.title(f\"MAPE {mape:.2f}%, RMSE {rmse:.2f}\")\n",
    "    plt.legend(loc=\"best\")\n",
    "    plt.tight_layout()\n",
    "    plt.grid(True)\n",
    "\n",
    "def mean_absolute_percentage_error(y_true, y_pred): \n",
    "    return np.mean(np.abs((y_true - y_pred) / y_true)) * 100\n",
    "\n",
    "\n",
    "def rmse_error(y_true, y_pred):\n",
    "    return mean_squared_error(y_true, y_pred, squared=False)"
   ]
  },
  {
   "cell_type": "code",
   "execution_count": 76,
   "metadata": {},
   "outputs": [
    {
     "data": {
      "text/html": [
       "<div>\n",
       "<style scoped>\n",
       "    .dataframe tbody tr th:only-of-type {\n",
       "        vertical-align: middle;\n",
       "    }\n",
       "\n",
       "    .dataframe tbody tr th {\n",
       "        vertical-align: top;\n",
       "    }\n",
       "\n",
       "    .dataframe thead th {\n",
       "        text-align: right;\n",
       "    }\n",
       "</style>\n",
       "<table border=\"1\" class=\"dataframe\">\n",
       "  <thead>\n",
       "    <tr style=\"text-align: right;\">\n",
       "      <th></th>\n",
       "      <th>num_orders</th>\n",
       "    </tr>\n",
       "    <tr>\n",
       "      <th>datetime</th>\n",
       "      <th></th>\n",
       "    </tr>\n",
       "  </thead>\n",
       "  <tbody>\n",
       "    <tr>\n",
       "      <th>2018-03-01 00:00:00</th>\n",
       "      <td>9</td>\n",
       "    </tr>\n",
       "    <tr>\n",
       "      <th>2018-03-01 00:10:00</th>\n",
       "      <td>14</td>\n",
       "    </tr>\n",
       "    <tr>\n",
       "      <th>2018-03-01 00:20:00</th>\n",
       "      <td>28</td>\n",
       "    </tr>\n",
       "    <tr>\n",
       "      <th>2018-03-01 00:30:00</th>\n",
       "      <td>20</td>\n",
       "    </tr>\n",
       "    <tr>\n",
       "      <th>2018-03-01 00:40:00</th>\n",
       "      <td>32</td>\n",
       "    </tr>\n",
       "  </tbody>\n",
       "</table>\n",
       "</div>"
      ],
      "text/plain": [
       "                     num_orders\n",
       "datetime                       \n",
       "2018-03-01 00:00:00           9\n",
       "2018-03-01 00:10:00          14\n",
       "2018-03-01 00:20:00          28\n",
       "2018-03-01 00:30:00          20\n",
       "2018-03-01 00:40:00          32"
      ]
     },
     "execution_count": 76,
     "metadata": {},
     "output_type": "execute_result"
    }
   ],
   "source": [
    "data = pd.read_csv(\"/datasets/taxi.csv\", index_col=[0], parse_dates=[0])\n",
    "data.head()"
   ]
  },
  {
   "cell_type": "markdown",
   "metadata": {},
   "source": [
    "## Analysis"
   ]
  },
  {
   "cell_type": "markdown",
   "metadata": {},
   "source": [
    "Let's print some information about our dataset:"
   ]
  },
  {
   "cell_type": "code",
   "execution_count": 77,
   "metadata": {},
   "outputs": [
    {
     "name": "stdout",
     "output_type": "stream",
     "text": [
      "<class 'pandas.core.frame.DataFrame'>\n",
      "DatetimeIndex: 4416 entries, 2018-03-01 00:00:00 to 2018-08-31 23:00:00\n",
      "Freq: 60T\n",
      "Data columns (total 1 columns):\n",
      " #   Column      Non-Null Count  Dtype\n",
      "---  ------      --------------  -----\n",
      " 0   num_orders  4416 non-null   int64\n",
      "dtypes: int64(1)\n",
      "memory usage: 69.0 KB\n",
      "None\n",
      "\n",
      "Shape (4416, 1)\n",
      "\n",
      "Nans: num_orders    0\n",
      "dtype: int64\n",
      "\n",
      "Duplicates in datetime: 0\n",
      "\n",
      "Max daily orders: 462\n",
      "\n",
      "Min daily orders: 0\n",
      "\n",
      "Avrg daily orders: 84.42278079710145\n",
      "\n",
      "Is monotonic: True\n"
     ]
    }
   ],
   "source": [
    "data.sort_index(inplace=True)\n",
    "\n",
    "data = data.resample('60min').sum()\n",
    "#.resample('60min', on='TIME').mean()\n",
    "\n",
    "print(data.info())\n",
    "print()\n",
    "print(\"Shape\",data.shape)\n",
    "print()\n",
    "print(\"Nans:\",data.isna().sum())\n",
    "print()\n",
    "print(\"Duplicates in datetime:\", data.index.duplicated().sum())\n",
    "print()\n",
    "print(\"Max daily orders:\", data.num_orders.max())\n",
    "print()\n",
    "print(\"Min daily orders:\",  data.num_orders.min())\n",
    "print()\n",
    "print(\"Avrg daily orders:\",  data.num_orders.mean())\n",
    "print()\n",
    "print(\"Is monotonic:\", data.index.is_monotonic)"
   ]
  },
  {
   "cell_type": "markdown",
   "metadata": {},
   "source": [
    "<div class=\"alert alert-success\">\n",
    "<b>Reviewer's comment</b>\n",
    "\n",
    "The data was loaded and correctly resampled\n",
    "\n",
    "</div>"
   ]
  },
  {
   "cell_type": "markdown",
   "metadata": {},
   "source": [
    "Let's resample and plot our data by days, weeks and hours:"
   ]
  },
  {
   "cell_type": "code",
   "execution_count": 78,
   "metadata": {},
   "outputs": [],
   "source": [
    "monthly= data.resample('1M').sum()\n",
    "weekly = data.resample('1W').sum()\n",
    "hourly = data.resample('1H').sum()"
   ]
  },
  {
   "cell_type": "code",
   "execution_count": 79,
   "metadata": {},
   "outputs": [
    {
     "data": {
      "text/plain": [
       "<AxesSubplot:xlabel='datetime', ylabel='num_orders'>"
      ]
     },
     "execution_count": 79,
     "metadata": {},
     "output_type": "execute_result"
    },
    {
     "data": {
      "image/png": "[encoded data removed]",
      "text/plain": [
       "<Figure size 432x288 with 1 Axes>"
      ]
     },
     "metadata": {},
     "output_type": "display_data"
    }
   ],
   "source": [
    "# Monthly orders:\n",
    "\n",
    "sns.lineplot(x=monthly.index,y=monthly['num_orders'])"
   ]
  },
  {
   "cell_type": "code",
   "execution_count": 80,
   "metadata": {},
   "outputs": [
    {
     "data": {
      "text/plain": [
       "<AxesSubplot:xlabel='datetime', ylabel='num_orders'>"
      ]
     },
     "execution_count": 80,
     "metadata": {},
     "output_type": "execute_result"
    },
    {
     "data": {
      "image/png": "[encoded data removed]",
      "text/plain": [
       "<Figure size 432x288 with 1 Axes>"
      ]
     },
     "metadata": {},
     "output_type": "display_data"
    }
   ],
   "source": [
    "# Weekly orders\n",
    "sns.lineplot(x=weekly.index,y=weekly['num_orders'])"
   ]
  },
  {
   "cell_type": "code",
   "execution_count": 81,
   "metadata": {},
   "outputs": [],
   "source": [
    "data_2 = data.copy()\n",
    "data_2 = data_2.resample('1H').sum()\n",
    "data_2['rolling_mean'] = data_2['num_orders'].shift().rolling(12).mean()\n",
    "data_2['std'] = data_2['num_orders'].rolling(12).std()\n",
    "data_2 = data_2.dropna()\n",
    "\n"
   ]
  },
  {
   "cell_type": "code",
   "execution_count": 82,
   "metadata": {},
   "outputs": [
    {
     "data": {
      "text/plain": [
       "Text(0.5, 1.0, 'Daily Seasonality')"
      ]
     },
     "execution_count": 82,
     "metadata": {},
     "output_type": "execute_result"
    },
    {
     "data": {
      "image/png": "[encoded data removed]",
      "text/plain": [
       "<Figure size 1080x288 with 1 Axes>"
      ]
     },
     "metadata": {},
     "output_type": "display_data"
    },
    {
     "data": {
      "image/png": "[encoded data removed]",
      "text/plain": [
       "<Figure size 1080x288 with 1 Axes>"
      ]
     },
     "metadata": {},
     "output_type": "display_data"
    }
   ],
   "source": [
    "\n",
    "decomposed_rolling_mean = seasonal_decompose(data_2[\"rolling_mean\"])\n",
    "decomposed_num_orders = seasonal_decompose(data_2[\"num_orders\"])\n",
    "decomposed_std = seasonal_decompose(data_2[\"std\"])\n",
    "\n",
    "decomposed_rolling_mean.trend.plot(title='Trend', figsize=(15,4))\n",
    "decomposed_num_orders.trend.plot(title='Trend', figsize=(15,4))\n",
    "decomposed_std.trend.plot(title='Trend', figsize=(15,4))\n",
    "\n",
    "plt.figure(figsize=(15, 4))\n",
    "\n",
    "decomposed_rolling_mean.seasonal.tail(24*7).plot(title='Seasonality', figsize=(15,4))\n",
    "decomposed_num_orders.seasonal.tail(24*7).plot(title='Seasonality', figsize=(15,4))\n",
    "decomposed_std.seasonal.tail(24*7).plot(title='Seasonality', figsize=(15,4))\n",
    "\n",
    "plt.title('Daily Seasonality')\n"
   ]
  },
  {
   "cell_type": "markdown",
   "metadata": {},
   "source": [
    "Our data contains recuring intra-daily patterns. The seasonal component of the daily time series reveals three consecutive highs (around 11:30, 17:30 and midnight) and one low (around 06:00) in taxi orders.\n",
    "The trend component, plotted for a period of several months, features a distinct uprising trend in number of orders. The 12 days moving average and std of orders are trending too but in a more moderate fashion. "
   ]
  },
  {
   "cell_type": "markdown",
   "metadata": {},
   "source": [
    "<div class=\"alert alert-success\">\n",
    "<b>Reviewer's comment V2</b>\n",
    "\n",
    "Excellent!\n",
    "\n",
    "</div>"
   ]
  },
  {
   "cell_type": "code",
   "execution_count": 83,
   "metadata": {},
   "outputs": [],
   "source": [
    "def features_maker(df, max_lag, sma):\n",
    "\n",
    "    df['month'] = df.index.month\n",
    "    df['day'] = df.index.day\n",
    "    df[\"hour\"] = df.index.hour\n",
    "    df['dayofweek'] = df.index.dayofweek\n",
    "\n",
    "    for lag in range(1, max_lag+1):\n",
    "        df[f\"lag_{lag}\"] = df.num_orders.shift(lag)\n",
    "    for s in [sma, sma+2, sma+4]:\n",
    "        df[f\"SMA_{s}\"] = df.num_orders.shift().rolling(s).mean()\n",
    "    \n",
    "    return df.dropna()"
   ]
  },
  {
   "cell_type": "markdown",
   "metadata": {},
   "source": [
    "<div class=\"alert alert-warning\">\n",
    "<b>Reviewer's comment</b>\n",
    "\n",
    "Ok, you added lag features and a correctly shifted rolling mean. Not sure why you discared calendar features though (they might be useful except for 'year', as it is constant in our data). Another possible feature is 'hour' as we're doing hourly predictions\n",
    "\n",
    "</div>"
   ]
  },
  {
   "cell_type": "code",
   "execution_count": 84,
   "metadata": {},
   "outputs": [
    {
     "data": {
      "text/html": [
       "<div>\n",
       "<style scoped>\n",
       "    .dataframe tbody tr th:only-of-type {\n",
       "        vertical-align: middle;\n",
       "    }\n",
       "\n",
       "    .dataframe tbody tr th {\n",
       "        vertical-align: top;\n",
       "    }\n",
       "\n",
       "    .dataframe thead th {\n",
       "        text-align: right;\n",
       "    }\n",
       "</style>\n",
       "<table border=\"1\" class=\"dataframe\">\n",
       "  <thead>\n",
       "    <tr style=\"text-align: right;\">\n",
       "      <th></th>\n",
       "      <th>num_orders</th>\n",
       "      <th>month</th>\n",
       "      <th>day</th>\n",
       "      <th>hour</th>\n",
       "      <th>dayofweek</th>\n",
       "      <th>lag_1</th>\n",
       "      <th>lag_2</th>\n",
       "      <th>lag_3</th>\n",
       "      <th>lag_4</th>\n",
       "      <th>lag_5</th>\n",
       "      <th>lag_6</th>\n",
       "      <th>SMA_5</th>\n",
       "      <th>SMA_7</th>\n",
       "      <th>SMA_9</th>\n",
       "    </tr>\n",
       "    <tr>\n",
       "      <th>datetime</th>\n",
       "      <th></th>\n",
       "      <th></th>\n",
       "      <th></th>\n",
       "      <th></th>\n",
       "      <th></th>\n",
       "      <th></th>\n",
       "      <th></th>\n",
       "      <th></th>\n",
       "      <th></th>\n",
       "      <th></th>\n",
       "      <th></th>\n",
       "      <th></th>\n",
       "      <th></th>\n",
       "      <th></th>\n",
       "    </tr>\n",
       "  </thead>\n",
       "  <tbody>\n",
       "    <tr>\n",
       "      <th>2018-03-01 09:00:00</th>\n",
       "      <td>69</td>\n",
       "      <td>3</td>\n",
       "      <td>1</td>\n",
       "      <td>9</td>\n",
       "      <td>3</td>\n",
       "      <td>34.0</td>\n",
       "      <td>15.0</td>\n",
       "      <td>12.0</td>\n",
       "      <td>6.0</td>\n",
       "      <td>43.0</td>\n",
       "      <td>66.0</td>\n",
       "      <td>22.0</td>\n",
       "      <td>35.285714</td>\n",
       "      <td>50.666667</td>\n",
       "    </tr>\n",
       "    <tr>\n",
       "      <th>2018-03-01 10:00:00</th>\n",
       "      <td>64</td>\n",
       "      <td>3</td>\n",
       "      <td>1</td>\n",
       "      <td>10</td>\n",
       "      <td>3</td>\n",
       "      <td>69.0</td>\n",
       "      <td>34.0</td>\n",
       "      <td>15.0</td>\n",
       "      <td>12.0</td>\n",
       "      <td>6.0</td>\n",
       "      <td>43.0</td>\n",
       "      <td>27.2</td>\n",
       "      <td>35.000000</td>\n",
       "      <td>44.555556</td>\n",
       "    </tr>\n",
       "    <tr>\n",
       "      <th>2018-03-01 11:00:00</th>\n",
       "      <td>96</td>\n",
       "      <td>3</td>\n",
       "      <td>1</td>\n",
       "      <td>11</td>\n",
       "      <td>3</td>\n",
       "      <td>64.0</td>\n",
       "      <td>69.0</td>\n",
       "      <td>34.0</td>\n",
       "      <td>15.0</td>\n",
       "      <td>12.0</td>\n",
       "      <td>6.0</td>\n",
       "      <td>38.8</td>\n",
       "      <td>34.714286</td>\n",
       "      <td>42.222222</td>\n",
       "    </tr>\n",
       "    <tr>\n",
       "      <th>2018-03-01 12:00:00</th>\n",
       "      <td>30</td>\n",
       "      <td>3</td>\n",
       "      <td>1</td>\n",
       "      <td>12</td>\n",
       "      <td>3</td>\n",
       "      <td>96.0</td>\n",
       "      <td>64.0</td>\n",
       "      <td>69.0</td>\n",
       "      <td>34.0</td>\n",
       "      <td>15.0</td>\n",
       "      <td>12.0</td>\n",
       "      <td>55.6</td>\n",
       "      <td>42.285714</td>\n",
       "      <td>45.000000</td>\n",
       "    </tr>\n",
       "    <tr>\n",
       "      <th>2018-03-01 13:00:00</th>\n",
       "      <td>32</td>\n",
       "      <td>3</td>\n",
       "      <td>1</td>\n",
       "      <td>13</td>\n",
       "      <td>3</td>\n",
       "      <td>30.0</td>\n",
       "      <td>96.0</td>\n",
       "      <td>64.0</td>\n",
       "      <td>69.0</td>\n",
       "      <td>34.0</td>\n",
       "      <td>15.0</td>\n",
       "      <td>58.6</td>\n",
       "      <td>45.714286</td>\n",
       "      <td>41.000000</td>\n",
       "    </tr>\n",
       "    <tr>\n",
       "      <th>...</th>\n",
       "      <td>...</td>\n",
       "      <td>...</td>\n",
       "      <td>...</td>\n",
       "      <td>...</td>\n",
       "      <td>...</td>\n",
       "      <td>...</td>\n",
       "      <td>...</td>\n",
       "      <td>...</td>\n",
       "      <td>...</td>\n",
       "      <td>...</td>\n",
       "      <td>...</td>\n",
       "      <td>...</td>\n",
       "      <td>...</td>\n",
       "      <td>...</td>\n",
       "    </tr>\n",
       "    <tr>\n",
       "      <th>2018-08-31 19:00:00</th>\n",
       "      <td>136</td>\n",
       "      <td>8</td>\n",
       "      <td>31</td>\n",
       "      <td>19</td>\n",
       "      <td>4</td>\n",
       "      <td>207.0</td>\n",
       "      <td>217.0</td>\n",
       "      <td>197.0</td>\n",
       "      <td>116.0</td>\n",
       "      <td>133.0</td>\n",
       "      <td>166.0</td>\n",
       "      <td>174.0</td>\n",
       "      <td>167.428571</td>\n",
       "      <td>170.000000</td>\n",
       "    </tr>\n",
       "    <tr>\n",
       "      <th>2018-08-31 20:00:00</th>\n",
       "      <td>154</td>\n",
       "      <td>8</td>\n",
       "      <td>31</td>\n",
       "      <td>20</td>\n",
       "      <td>4</td>\n",
       "      <td>136.0</td>\n",
       "      <td>207.0</td>\n",
       "      <td>217.0</td>\n",
       "      <td>197.0</td>\n",
       "      <td>116.0</td>\n",
       "      <td>133.0</td>\n",
       "      <td>174.6</td>\n",
       "      <td>167.428571</td>\n",
       "      <td>163.888889</td>\n",
       "    </tr>\n",
       "    <tr>\n",
       "      <th>2018-08-31 21:00:00</th>\n",
       "      <td>159</td>\n",
       "      <td>8</td>\n",
       "      <td>31</td>\n",
       "      <td>21</td>\n",
       "      <td>4</td>\n",
       "      <td>154.0</td>\n",
       "      <td>136.0</td>\n",
       "      <td>207.0</td>\n",
       "      <td>217.0</td>\n",
       "      <td>197.0</td>\n",
       "      <td>116.0</td>\n",
       "      <td>182.2</td>\n",
       "      <td>165.714286</td>\n",
       "      <td>162.444444</td>\n",
       "    </tr>\n",
       "    <tr>\n",
       "      <th>2018-08-31 22:00:00</th>\n",
       "      <td>223</td>\n",
       "      <td>8</td>\n",
       "      <td>31</td>\n",
       "      <td>22</td>\n",
       "      <td>4</td>\n",
       "      <td>159.0</td>\n",
       "      <td>154.0</td>\n",
       "      <td>136.0</td>\n",
       "      <td>207.0</td>\n",
       "      <td>217.0</td>\n",
       "      <td>197.0</td>\n",
       "      <td>174.6</td>\n",
       "      <td>169.428571</td>\n",
       "      <td>165.000000</td>\n",
       "    </tr>\n",
       "    <tr>\n",
       "      <th>2018-08-31 23:00:00</th>\n",
       "      <td>205</td>\n",
       "      <td>8</td>\n",
       "      <td>31</td>\n",
       "      <td>23</td>\n",
       "      <td>4</td>\n",
       "      <td>223.0</td>\n",
       "      <td>159.0</td>\n",
       "      <td>154.0</td>\n",
       "      <td>136.0</td>\n",
       "      <td>207.0</td>\n",
       "      <td>217.0</td>\n",
       "      <td>175.8</td>\n",
       "      <td>184.714286</td>\n",
       "      <td>171.333333</td>\n",
       "    </tr>\n",
       "  </tbody>\n",
       "</table>\n",
       "<p>4407 rows × 14 columns</p>\n",
       "</div>"
      ],
      "text/plain": [
       "                     num_orders  month  day  hour  dayofweek  lag_1  lag_2  \\\n",
       "datetime                                                                     \n",
       "2018-03-01 09:00:00          69      3    1     9          3   34.0   15.0   \n",
       "2018-03-01 10:00:00          64      3    1    10          3   69.0   34.0   \n",
       "2018-03-01 11:00:00          96      3    1    11          3   64.0   69.0   \n",
       "2018-03-01 12:00:00          30      3    1    12          3   96.0   64.0   \n",
       "2018-03-01 13:00:00          32      3    1    13          3   30.0   96.0   \n",
       "...                         ...    ...  ...   ...        ...    ...    ...   \n",
       "2018-08-31 19:00:00         136      8   31    19          4  207.0  217.0   \n",
       "2018-08-31 20:00:00         154      8   31    20          4  136.0  207.0   \n",
       "2018-08-31 21:00:00         159      8   31    21          4  154.0  136.0   \n",
       "2018-08-31 22:00:00         223      8   31    22          4  159.0  154.0   \n",
       "2018-08-31 23:00:00         205      8   31    23          4  223.0  159.0   \n",
       "\n",
       "                     lag_3  lag_4  lag_5  lag_6  SMA_5       SMA_7       SMA_9  \n",
       "datetime                                                                        \n",
       "2018-03-01 09:00:00   12.0    6.0   43.0   66.0   22.0   35.285714   50.666667  \n",
       "2018-03-01 10:00:00   15.0   12.0    6.0   43.0   27.2   35.000000   44.555556  \n",
       "2018-03-01 11:00:00   34.0   15.0   12.0    6.0   38.8   34.714286   42.222222  \n",
       "2018-03-01 12:00:00   69.0   34.0   15.0   12.0   55.6   42.285714   45.000000  \n",
       "2018-03-01 13:00:00   64.0   69.0   34.0   15.0   58.6   45.714286   41.000000  \n",
       "...                    ...    ...    ...    ...    ...         ...         ...  \n",
       "2018-08-31 19:00:00  197.0  116.0  133.0  166.0  174.0  167.428571  170.000000  \n",
       "2018-08-31 20:00:00  217.0  197.0  116.0  133.0  174.6  167.428571  163.888889  \n",
       "2018-08-31 21:00:00  207.0  217.0  197.0  116.0  182.2  165.714286  162.444444  \n",
       "2018-08-31 22:00:00  136.0  207.0  217.0  197.0  174.6  169.428571  165.000000  \n",
       "2018-08-31 23:00:00  154.0  136.0  207.0  217.0  175.8  184.714286  171.333333  \n",
       "\n",
       "[4407 rows x 14 columns]"
      ]
     },
     "execution_count": 84,
     "metadata": {},
     "output_type": "execute_result"
    }
   ],
   "source": [
    "data = features_maker(data, 6,5)\n",
    "data"
   ]
  },
  {
   "cell_type": "markdown",
   "metadata": {},
   "source": [
    "Let's do some standartization of the dataset:"
   ]
  },
  {
   "cell_type": "code",
   "execution_count": 85,
   "metadata": {},
   "outputs": [],
   "source": [
    "features = data.drop(columns = \"num_orders\")\n",
    "target = data.num_orders"
   ]
  },
  {
   "cell_type": "code",
   "execution_count": 86,
   "metadata": {},
   "outputs": [],
   "source": [
    "X_train, X_test, y_train,  y_test = train_test_split(features, target, test_size = 0.1, shuffle=False)"
   ]
  },
  {
   "cell_type": "code",
   "execution_count": 87,
   "metadata": {},
   "outputs": [],
   "source": [
    "X_train, X_val, y_train,  y_val = train_test_split(X_train, y_train, test_size = 0.1, shuffle=False)"
   ]
  },
  {
   "cell_type": "code",
   "execution_count": 88,
   "metadata": {},
   "outputs": [
    {
     "data": {
      "text/plain": [
       "array([[-1.13303192, -1.6610236 , -1.74323356, ..., -2.06813732,\n",
       "        -1.71214564, -1.12282719],\n",
       "       [-0.16124044, -1.13289948, -1.65986091, ..., -1.86415122,\n",
       "        -1.72455921, -1.40861585],\n",
       "       [-0.3000678 , -0.16003926, -1.13183413, ..., -1.40910531,\n",
       "        -1.73697278, -1.51773516],\n",
       "       ...,\n",
       "       [ 3.83698733,  1.61890513,  1.56388152, ...,  2.08219525,\n",
       "         2.71949862,  2.40536379],\n",
       "       [ 1.3103295 ,  3.84258563,  1.61946329, ...,  2.44309373,\n",
       "         2.47122723,  2.7223294 ],\n",
       "       [ 3.25391245,  1.31314906,  3.84273393, ...,  3.27472937,\n",
       "         2.66984434,  3.13282584]])"
      ]
     },
     "execution_count": 88,
     "metadata": {},
     "output_type": "execute_result"
    }
   ],
   "source": [
    "from sklearn.preprocessing import StandardScaler\n",
    "cols = [\"lag_1\", \"lag_2\", \"lag_3\", \"lag_4\", \"lag_5\", \"lag_6\", \"SMA_5\", \"SMA_7\", \"SMA_9\"]\n",
    "scaler = StandardScaler()\n",
    "#scaled = scaler.fit_transform(X_train[cols])\n",
    "scaled_columns = scaler.fit_transform(X_train[cols])\n",
    "scaled_columns"
   ]
  },
  {
   "cell_type": "code",
   "execution_count": 89,
   "metadata": {},
   "outputs": [
    {
     "data": {
      "text/html": [
       "<div>\n",
       "<style scoped>\n",
       "    .dataframe tbody tr th:only-of-type {\n",
       "        vertical-align: middle;\n",
       "    }\n",
       "\n",
       "    .dataframe tbody tr th {\n",
       "        vertical-align: top;\n",
       "    }\n",
       "\n",
       "    .dataframe thead th {\n",
       "        text-align: right;\n",
       "    }\n",
       "</style>\n",
       "<table border=\"1\" class=\"dataframe\">\n",
       "  <thead>\n",
       "    <tr style=\"text-align: right;\">\n",
       "      <th></th>\n",
       "      <th>month</th>\n",
       "      <th>day</th>\n",
       "      <th>hour</th>\n",
       "      <th>dayofweek</th>\n",
       "      <th>lag_1</th>\n",
       "      <th>lag_2</th>\n",
       "      <th>lag_3</th>\n",
       "      <th>lag_4</th>\n",
       "      <th>lag_5</th>\n",
       "      <th>lag_6</th>\n",
       "      <th>SMA_5</th>\n",
       "      <th>SMA_7</th>\n",
       "      <th>SMA_9</th>\n",
       "    </tr>\n",
       "    <tr>\n",
       "      <th>datetime</th>\n",
       "      <th></th>\n",
       "      <th></th>\n",
       "      <th></th>\n",
       "      <th></th>\n",
       "      <th></th>\n",
       "      <th></th>\n",
       "      <th></th>\n",
       "      <th></th>\n",
       "      <th></th>\n",
       "      <th></th>\n",
       "      <th></th>\n",
       "      <th></th>\n",
       "      <th></th>\n",
       "    </tr>\n",
       "  </thead>\n",
       "  <tbody>\n",
       "    <tr>\n",
       "      <th>2018-03-01 09:00:00</th>\n",
       "      <td>3</td>\n",
       "      <td>1</td>\n",
       "      <td>9</td>\n",
       "      <td>3</td>\n",
       "      <td>-1.133032</td>\n",
       "      <td>-1.661024</td>\n",
       "      <td>-1.743234</td>\n",
       "      <td>-1.911349</td>\n",
       "      <td>-0.881007</td>\n",
       "      <td>-0.240225</td>\n",
       "      <td>-2.068137</td>\n",
       "      <td>-1.712146</td>\n",
       "      <td>-1.122827</td>\n",
       "    </tr>\n",
       "    <tr>\n",
       "      <th>2018-03-01 10:00:00</th>\n",
       "      <td>3</td>\n",
       "      <td>1</td>\n",
       "      <td>10</td>\n",
       "      <td>3</td>\n",
       "      <td>-0.161240</td>\n",
       "      <td>-1.132899</td>\n",
       "      <td>-1.659861</td>\n",
       "      <td>-1.744343</td>\n",
       "      <td>-1.911145</td>\n",
       "      <td>-0.880797</td>\n",
       "      <td>-1.864151</td>\n",
       "      <td>-1.724559</td>\n",
       "      <td>-1.408616</td>\n",
       "    </tr>\n",
       "    <tr>\n",
       "      <th>2018-03-01 11:00:00</th>\n",
       "      <td>3</td>\n",
       "      <td>1</td>\n",
       "      <td>11</td>\n",
       "      <td>3</td>\n",
       "      <td>-0.300068</td>\n",
       "      <td>-0.160039</td>\n",
       "      <td>-1.131834</td>\n",
       "      <td>-1.660840</td>\n",
       "      <td>-1.744096</td>\n",
       "      <td>-1.911282</td>\n",
       "      <td>-1.409105</td>\n",
       "      <td>-1.736973</td>\n",
       "      <td>-1.517735</td>\n",
       "    </tr>\n",
       "    <tr>\n",
       "      <th>2018-03-01 12:00:00</th>\n",
       "      <td>3</td>\n",
       "      <td>1</td>\n",
       "      <td>12</td>\n",
       "      <td>3</td>\n",
       "      <td>0.588427</td>\n",
       "      <td>-0.299019</td>\n",
       "      <td>-0.159153</td>\n",
       "      <td>-1.131988</td>\n",
       "      <td>-1.660571</td>\n",
       "      <td>-1.744177</td>\n",
       "      <td>-0.750073</td>\n",
       "      <td>-1.408013</td>\n",
       "      <td>-1.387831</td>\n",
       "    </tr>\n",
       "    <tr>\n",
       "      <th>2018-03-01 13:00:00</th>\n",
       "      <td>3</td>\n",
       "      <td>1</td>\n",
       "      <td>13</td>\n",
       "      <td>3</td>\n",
       "      <td>-1.244094</td>\n",
       "      <td>0.590453</td>\n",
       "      <td>-0.298108</td>\n",
       "      <td>-0.157788</td>\n",
       "      <td>-1.131582</td>\n",
       "      <td>-1.660624</td>\n",
       "      <td>-0.632389</td>\n",
       "      <td>-1.259050</td>\n",
       "      <td>-1.574893</td>\n",
       "    </tr>\n",
       "    <tr>\n",
       "      <th>...</th>\n",
       "      <td>...</td>\n",
       "      <td>...</td>\n",
       "      <td>...</td>\n",
       "      <td>...</td>\n",
       "      <td>...</td>\n",
       "      <td>...</td>\n",
       "      <td>...</td>\n",
       "      <td>...</td>\n",
       "      <td>...</td>\n",
       "      <td>...</td>\n",
       "      <td>...</td>\n",
       "      <td>...</td>\n",
       "      <td>...</td>\n",
       "    </tr>\n",
       "    <tr>\n",
       "      <th>2018-07-27 21:00:00</th>\n",
       "      <td>7</td>\n",
       "      <td>27</td>\n",
       "      <td>21</td>\n",
       "      <td>4</td>\n",
       "      <td>1.560219</td>\n",
       "      <td>0.312493</td>\n",
       "      <td>0.035383</td>\n",
       "      <td>2.375135</td>\n",
       "      <td>2.432139</td>\n",
       "      <td>1.068770</td>\n",
       "      <td>1.893900</td>\n",
       "      <td>1.651932</td>\n",
       "      <td>1.968887</td>\n",
       "    </tr>\n",
       "    <tr>\n",
       "      <th>2018-07-27 22:00:00</th>\n",
       "      <td>7</td>\n",
       "      <td>27</td>\n",
       "      <td>22</td>\n",
       "      <td>4</td>\n",
       "      <td>1.615750</td>\n",
       "      <td>1.563313</td>\n",
       "      <td>0.313292</td>\n",
       "      <td>0.037053</td>\n",
       "      <td>2.376456</td>\n",
       "      <td>2.433466</td>\n",
       "      <td>1.666377</td>\n",
       "      <td>2.098820</td>\n",
       "      <td>2.046829</td>\n",
       "    </tr>\n",
       "    <tr>\n",
       "      <th>2018-07-27 23:00:00</th>\n",
       "      <td>7</td>\n",
       "      <td>27</td>\n",
       "      <td>23</td>\n",
       "      <td>4</td>\n",
       "      <td>3.836987</td>\n",
       "      <td>1.618905</td>\n",
       "      <td>1.563882</td>\n",
       "      <td>0.315396</td>\n",
       "      <td>0.037764</td>\n",
       "      <td>2.377764</td>\n",
       "      <td>2.082195</td>\n",
       "      <td>2.719499</td>\n",
       "      <td>2.405364</td>\n",
       "    </tr>\n",
       "    <tr>\n",
       "      <th>2018-07-28 00:00:00</th>\n",
       "      <td>7</td>\n",
       "      <td>28</td>\n",
       "      <td>0</td>\n",
       "      <td>5</td>\n",
       "      <td>1.310330</td>\n",
       "      <td>3.842586</td>\n",
       "      <td>1.619463</td>\n",
       "      <td>1.567940</td>\n",
       "      <td>0.316180</td>\n",
       "      <td>0.038284</td>\n",
       "      <td>2.443094</td>\n",
       "      <td>2.471227</td>\n",
       "      <td>2.722329</td>\n",
       "    </tr>\n",
       "    <tr>\n",
       "      <th>2018-07-28 01:00:00</th>\n",
       "      <td>7</td>\n",
       "      <td>28</td>\n",
       "      <td>1</td>\n",
       "      <td>5</td>\n",
       "      <td>3.253912</td>\n",
       "      <td>1.313149</td>\n",
       "      <td>3.842734</td>\n",
       "      <td>1.623608</td>\n",
       "      <td>1.569051</td>\n",
       "      <td>0.316794</td>\n",
       "      <td>3.274729</td>\n",
       "      <td>2.669844</td>\n",
       "      <td>3.132826</td>\n",
       "    </tr>\n",
       "  </tbody>\n",
       "</table>\n",
       "<p>3569 rows × 13 columns</p>\n",
       "</div>"
      ],
      "text/plain": [
       "                     month  day  hour  dayofweek     lag_1     lag_2  \\\n",
       "datetime                                                               \n",
       "2018-03-01 09:00:00      3    1     9          3 -1.133032 -1.661024   \n",
       "2018-03-01 10:00:00      3    1    10          3 -0.161240 -1.132899   \n",
       "2018-03-01 11:00:00      3    1    11          3 -0.300068 -0.160039   \n",
       "2018-03-01 12:00:00      3    1    12          3  0.588427 -0.299019   \n",
       "2018-03-01 13:00:00      3    1    13          3 -1.244094  0.590453   \n",
       "...                    ...  ...   ...        ...       ...       ...   \n",
       "2018-07-27 21:00:00      7   27    21          4  1.560219  0.312493   \n",
       "2018-07-27 22:00:00      7   27    22          4  1.615750  1.563313   \n",
       "2018-07-27 23:00:00      7   27    23          4  3.836987  1.618905   \n",
       "2018-07-28 00:00:00      7   28     0          5  1.310330  3.842586   \n",
       "2018-07-28 01:00:00      7   28     1          5  3.253912  1.313149   \n",
       "\n",
       "                        lag_3     lag_4     lag_5     lag_6     SMA_5  \\\n",
       "datetime                                                                \n",
       "2018-03-01 09:00:00 -1.743234 -1.911349 -0.881007 -0.240225 -2.068137   \n",
       "2018-03-01 10:00:00 -1.659861 -1.744343 -1.911145 -0.880797 -1.864151   \n",
       "2018-03-01 11:00:00 -1.131834 -1.660840 -1.744096 -1.911282 -1.409105   \n",
       "2018-03-01 12:00:00 -0.159153 -1.131988 -1.660571 -1.744177 -0.750073   \n",
       "2018-03-01 13:00:00 -0.298108 -0.157788 -1.131582 -1.660624 -0.632389   \n",
       "...                       ...       ...       ...       ...       ...   \n",
       "2018-07-27 21:00:00  0.035383  2.375135  2.432139  1.068770  1.893900   \n",
       "2018-07-27 22:00:00  0.313292  0.037053  2.376456  2.433466  1.666377   \n",
       "2018-07-27 23:00:00  1.563882  0.315396  0.037764  2.377764  2.082195   \n",
       "2018-07-28 00:00:00  1.619463  1.567940  0.316180  0.038284  2.443094   \n",
       "2018-07-28 01:00:00  3.842734  1.623608  1.569051  0.316794  3.274729   \n",
       "\n",
       "                        SMA_7     SMA_9  \n",
       "datetime                                 \n",
       "2018-03-01 09:00:00 -1.712146 -1.122827  \n",
       "2018-03-01 10:00:00 -1.724559 -1.408616  \n",
       "2018-03-01 11:00:00 -1.736973 -1.517735  \n",
       "2018-03-01 12:00:00 -1.408013 -1.387831  \n",
       "2018-03-01 13:00:00 -1.259050 -1.574893  \n",
       "...                       ...       ...  \n",
       "2018-07-27 21:00:00  1.651932  1.968887  \n",
       "2018-07-27 22:00:00  2.098820  2.046829  \n",
       "2018-07-27 23:00:00  2.719499  2.405364  \n",
       "2018-07-28 00:00:00  2.471227  2.722329  \n",
       "2018-07-28 01:00:00  2.669844  3.132826  \n",
       "\n",
       "[3569 rows x 13 columns]"
      ]
     },
     "execution_count": 89,
     "metadata": {},
     "output_type": "execute_result"
    }
   ],
   "source": [
    "pd.options.mode.chained_assignment = None\n",
    "\n",
    "X_train[cols] = scaled_columns\n",
    "X_train"
   ]
  },
  {
   "cell_type": "markdown",
   "metadata": {},
   "source": [
    "I decoided not to onehotencode the months, days and hours, after coming across this [article](https://towardsdatascience.com/stop-one-hot-encoding-your-time-based-features-24c699face2f)\n",
    "**\"The discussed trigonometry-based feature transformation can be implemented on any of the cyclical occurring features. One Hot Encoding works well with a relatively small amount of categorical values but it’s not recommended to one-hot encode features having many feature values or categories\"**"
   ]
  },
  {
   "cell_type": "markdown",
   "metadata": {},
   "source": [
    "<div class=\"alert alert-success\">\n",
    "<b>Reviewer's comment V2</b>\n",
    "\n",
    "Fixed!\n",
    "\n",
    "</div>"
   ]
  },
  {
   "cell_type": "markdown",
   "metadata": {},
   "source": [
    "## Training"
   ]
  },
  {
   "cell_type": "code",
   "execution_count": 90,
   "metadata": {},
   "outputs": [
    {
     "name": "stdout",
     "output_type": "stream",
     "text": [
      "RMSE for the val set: 1060.8564654336305\n"
     ]
    }
   ],
   "source": [
    "lr_model = LinearRegression()\n",
    "\n",
    "lr_model.fit(X_train, y_train)\n",
    "\n",
    "lr_train_prediction = lr_model.predict(X_val)\n",
    "print(\"RMSE for the val set:\", mean_squared_error(y_val, lr_train_prediction) ** 0.5)\n",
    " "
   ]
  },
  {
   "cell_type": "markdown",
   "metadata": {},
   "source": [
    "That's not a good result. Let's try a different approach. "
   ]
  },
  {
   "cell_type": "markdown",
   "metadata": {},
   "source": [
    "<div class=\"alert alert-success\">\n",
    "<b>Reviewer's comment V3</b>\n",
    "\n",
    "Ok, fixed!\n",
    "\n",
    "</div>"
   ]
  },
  {
   "cell_type": "markdown",
   "metadata": {},
   "source": [
    "### Random Forest "
   ]
  },
  {
   "cell_type": "code",
   "execution_count": 91,
   "metadata": {},
   "outputs": [
    {
     "name": "stdout",
     "output_type": "stream",
     "text": [
      "RMSE for the val set on Forest: 38.17166303610659\n"
     ]
    }
   ],
   "source": [
    "from sklearn.ensemble import RandomForestRegressor\n",
    "\n",
    "forest = RandomForestRegressor().fit(X_train, y_train)\n",
    "#preds = model.predict(X_val)\n",
    "\n",
    "forest_prediction = forest.predict(X_val)\n",
    "print(\"RMSE for the val set on Forest:\", mean_squared_error(y_val, forest_prediction) ** 0.5)\n",
    " "
   ]
  },
  {
   "cell_type": "markdown",
   "metadata": {},
   "source": [
    "This is a very nice result but can we replicate it with the test set?"
   ]
  },
  {
   "cell_type": "code",
   "execution_count": 92,
   "metadata": {},
   "outputs": [],
   "source": [
    "\n",
    "rmse_scorer = make_scorer(rmse_error, greater_is_better=False)\n"
   ]
  },
  {
   "cell_type": "code",
   "execution_count": 93,
   "metadata": {},
   "outputs": [],
   "source": [
    "param_grid ={'n_estimators': range(45, 55, 5),\n",
    "            'max_depth': range(8,18,4),\n",
    "            'min_samples_split': range(10,40,10),\n",
    "            'max_features':range(3,12,2)}"
   ]
  },
  {
   "cell_type": "code",
   "execution_count": 94,
   "metadata": {},
   "outputs": [
    {
     "name": "stdout",
     "output_type": "stream",
     "text": [
      "-24.58269845052893\n"
     ]
    }
   ],
   "source": [
    "model = RandomForestRegressor()\n",
    "tscv = TimeSeriesSplit(n_splits=5)\n",
    "clf = GridSearchCV(model, scoring=rmse_scorer, param_grid=param_grid, n_jobs=4, cv=tscv).fit(X_train, y_train)\n",
    "best_params = clf.best_params_\n",
    "print(clf.best_score_)"
   ]
  },
  {
   "cell_type": "code",
   "execution_count": 50,
   "metadata": {},
   "outputs": [
    {
     "name": "stdout",
     "output_type": "stream",
     "text": [
      "RMSE on Test 51.49124084478392, Best Params {'max_depth': 16, 'max_features': 11, 'min_samples_split': 10, 'n_estimators': 50}\n"
     ]
    }
   ],
   "source": [
    "model = RandomForestRegressor(**best_params).fit(X_train, y_train)\n",
    "y_pred = model.predict(X_test)\n",
    "\n",
    "print(f\"RMSE on Test {rmse_error(y_pred, y_test)}, Best Params {best_params}\")"
   ]
  },
  {
   "cell_type": "markdown",
   "metadata": {},
   "source": [
    "### Let's see if we can train a better model than this, using LGBMRegressor\n"
   ]
  },
  {
   "cell_type": "code",
   "execution_count": 95,
   "metadata": {},
   "outputs": [
    {
     "name": "stdout",
     "output_type": "stream",
     "text": [
      "-26.263940710003748\n"
     ]
    }
   ],
   "source": [
    "\n",
    "#create parameters for feature tuning\n",
    "param = {\n",
    "        'num_leaves': [10, 31],\n",
    "        'learning_rate': [.01, .5],\n",
    "        'max_depth': [-1, 5]\n",
    "        }\n",
    "\n",
    "lgb = LGBMRegressor()\n",
    "tscv = TimeSeriesSplit(n_splits=5)\n",
    "\n",
    "gs = GridSearchCV(lgb, scoring=rmse_scorer, param_grid=param, n_jobs=4, cv=tscv).fit(X_train, y_train)\n",
    "best_params = gs.best_params_\n",
    "print(gs.best_score_)\n"
   ]
  },
  {
   "cell_type": "code",
   "execution_count": 52,
   "metadata": {},
   "outputs": [
    {
     "name": "stdout",
     "output_type": "stream",
     "text": [
      "RMSE on Test 45.06939696937197, Best Params {'learning_rate': 0.5, 'max_depth': -1, 'num_leaves': 10}\n"
     ]
    }
   ],
   "source": [
    "model_2 = LGBMRegressor(**best_params).fit(X_train, y_train)\n",
    "y_pred = model_2.predict(X_test)\n",
    "\n",
    "print(f\"RMSE on Test {rmse_error(y_pred, y_test)}, Best Params {best_params}\")"
   ]
  },
  {
   "cell_type": "markdown",
   "metadata": {},
   "source": [
    "Success!"
   ]
  },
  {
   "cell_type": "markdown",
   "metadata": {},
   "source": [
    "## Testing"
   ]
  },
  {
   "cell_type": "code",
   "execution_count": 54,
   "metadata": {},
   "outputs": [],
   "source": [
    "def plot_feature_importance(importance,names,model_type):\n",
    "\n",
    "        feature_importance = np.array(importance)\n",
    "        feature_names = np.array(names)\n",
    "\n",
    "        #Create a DataFrame using a Dictionary\n",
    "        data={'feature_names':feature_names,'feature_importance':feature_importance}\n",
    "        fi_df = pd.DataFrame(data)\n",
    "\n",
    "        #Sort the DataFrame in order decreasing feature importance\n",
    "        fi_df.sort_values(by=['feature_importance'], ascending=False,inplace=True)\n",
    "\n",
    "        #Define size of bar plot\n",
    "        plt.figure(figsize=(10,8))\n",
    "        #Plot Searborn bar chart\n",
    "        sns.barplot(x=fi_df['feature_importance'], y=fi_df['feature_names'])\n",
    "        #Add chart labels\n",
    "        plt.title(model_type + 'FEATURE IMPORTANCE')\n",
    "        plt.xlabel('FEATURE IMPORTANCE')\n",
    "        plt.ylabel('FEATURE NAMES')"
   ]
  },
  {
   "cell_type": "code",
   "execution_count": 55,
   "metadata": {},
   "outputs": [
    {
     "data": {
      "image/png": "[encoded data removed]",
      "text/plain": [
       "<Figure size 720x576 with 1 Axes>"
      ]
     },
     "metadata": {},
     "output_type": "display_data"
    }
   ],
   "source": [
    "plot_feature_importance(model_2.feature_importances_,X_test.columns,'LightGBM ')"
   ]
  },
  {
   "cell_type": "markdown",
   "metadata": {},
   "source": [
    "Seems like \"hour\" is the most important feature in our dataset. Suprisingly, the \"dayofweek\" is not as important as we previously thought. "
   ]
  },
  {
   "cell_type": "markdown",
   "metadata": {},
   "source": [
    " Let's visualy inspect how well our predictions worked against the actual orders:"
   ]
  },
  {
   "cell_type": "code",
   "execution_count": 96,
   "metadata": {},
   "outputs": [
    {
     "data": {
      "image/png": "[encoded data removed]",
      "text/plain": [
       "<Figure size 1080x504 with 1 Axes>"
      ]
     },
     "metadata": {},
     "output_type": "display_data"
    }
   ],
   "source": [
    "plotModelResults(model_2, X_train, X_test, y_train, y_test)"
   ]
  },
  {
   "cell_type": "markdown",
   "metadata": {},
   "source": [
    "<div class=\"alert alert-success\">\n",
    "<b>Reviewer's comment</b>\n",
    "\n",
    "The final model was evaluated on the test set\n",
    "\n",
    "</div>"
   ]
  },
  {
   "cell_type": "markdown",
   "metadata": {},
   "source": [
    "# Review checklist"
   ]
  },
  {
   "cell_type": "markdown",
   "metadata": {},
   "source": [
    "- [x]  Jupyter Notebook is open\n",
    "- [ ]  The code is error-free\n",
    "- [ ]  The cells with the code have been arranged in order of execution\n",
    "- [ ]  The data has been downloaded and prepared\n",
    "- [ ]  The data has been analyzed\n",
    "- [ ]  The model has been trained and hyperparameters have been selected\n",
    "- [ ]  The models have been evaluated. Conclusion has been provided\n",
    "- [ ] *RMSE* for the test set is not more than 48"
   ]
  }
 ],
 "metadata": {
  "ExecuteTimeLog": [
   {
    "duration": 377,
    "start_time": "2022-07-31T09:47:02.890Z"
   },
   {
    "duration": 138,
    "start_time": "2022-07-31T09:47:28.168Z"
   },
   {
    "duration": 3,
    "start_time": "2022-07-31T09:49:04.513Z"
   },
   {
    "duration": 156,
    "start_time": "2022-07-31T09:49:05.166Z"
   },
   {
    "duration": 55,
    "start_time": "2022-07-31T09:52:04.197Z"
   },
   {
    "duration": 22,
    "start_time": "2022-07-31T09:52:47.379Z"
   },
   {
    "duration": 23,
    "start_time": "2022-07-31T09:52:54.987Z"
   },
   {
    "duration": 28,
    "start_time": "2022-07-31T09:53:34.703Z"
   },
   {
    "duration": 30,
    "start_time": "2022-07-31T09:53:51.458Z"
   },
   {
    "duration": 550,
    "start_time": "2022-07-31T09:54:27.667Z"
   },
   {
    "duration": 172,
    "start_time": "2022-07-31T09:54:40.792Z"
   },
   {
    "duration": 30,
    "start_time": "2022-07-31T09:56:14.286Z"
   },
   {
    "duration": 58,
    "start_time": "2022-07-31T09:56:32.774Z"
   },
   {
    "duration": 14,
    "start_time": "2022-07-31T09:56:40.351Z"
   },
   {
    "duration": 18,
    "start_time": "2022-07-31T09:57:17.757Z"
   },
   {
    "duration": 17,
    "start_time": "2022-07-31T09:58:08.350Z"
   },
   {
    "duration": 17,
    "start_time": "2022-07-31T09:58:18.379Z"
   },
   {
    "duration": 17,
    "start_time": "2022-07-31T09:58:27.811Z"
   },
   {
    "duration": 566,
    "start_time": "2022-07-31T09:58:33.949Z"
   },
   {
    "duration": 3,
    "start_time": "2022-07-31T09:58:55.648Z"
   },
   {
    "duration": 6,
    "start_time": "2022-07-31T10:05:07.858Z"
   },
   {
    "duration": 19,
    "start_time": "2022-07-31T10:06:41.957Z"
   },
   {
    "duration": 4,
    "start_time": "2022-07-31T10:07:01.779Z"
   },
   {
    "duration": 31,
    "start_time": "2022-07-31T10:07:02.463Z"
   },
   {
    "duration": 5,
    "start_time": "2022-07-31T10:07:43.570Z"
   },
   {
    "duration": 31,
    "start_time": "2022-07-31T10:07:43.993Z"
   },
   {
    "duration": 7,
    "start_time": "2022-07-31T10:08:25.953Z"
   },
   {
    "duration": 29,
    "start_time": "2022-07-31T10:08:26.169Z"
   },
   {
    "duration": 10,
    "start_time": "2022-07-31T10:08:41.664Z"
   },
   {
    "duration": 39,
    "start_time": "2022-07-31T10:08:44.949Z"
   },
   {
    "duration": 2,
    "start_time": "2022-07-31T10:09:23.147Z"
   },
   {
    "duration": 59,
    "start_time": "2022-07-31T10:09:23.349Z"
   },
   {
    "duration": 14,
    "start_time": "2022-07-31T10:09:23.687Z"
   },
   {
    "duration": 618,
    "start_time": "2022-07-31T10:09:23.870Z"
   },
   {
    "duration": 3,
    "start_time": "2022-07-31T10:09:24.490Z"
   },
   {
    "duration": 29,
    "start_time": "2022-07-31T10:09:24.912Z"
   },
   {
    "duration": 3,
    "start_time": "2022-07-31T10:09:41.166Z"
   },
   {
    "duration": 53,
    "start_time": "2022-07-31T10:09:41.349Z"
   },
   {
    "duration": 18,
    "start_time": "2022-07-31T10:09:41.648Z"
   },
   {
    "duration": 557,
    "start_time": "2022-07-31T10:09:41.803Z"
   },
   {
    "duration": 5,
    "start_time": "2022-07-31T10:09:42.487Z"
   },
   {
    "duration": 43,
    "start_time": "2022-07-31T10:09:43.450Z"
   },
   {
    "duration": 3,
    "start_time": "2022-07-31T10:10:26.110Z"
   },
   {
    "duration": 57,
    "start_time": "2022-07-31T10:10:26.270Z"
   },
   {
    "duration": 16,
    "start_time": "2022-07-31T10:10:26.774Z"
   },
   {
    "duration": 600,
    "start_time": "2022-07-31T10:10:27.150Z"
   },
   {
    "duration": 5,
    "start_time": "2022-07-31T10:10:27.791Z"
   },
   {
    "duration": 56,
    "start_time": "2022-07-31T10:10:28.790Z"
   },
   {
    "duration": 3,
    "start_time": "2022-07-31T10:11:54.077Z"
   },
   {
    "duration": 61,
    "start_time": "2022-07-31T10:11:54.232Z"
   },
   {
    "duration": 14,
    "start_time": "2022-07-31T10:11:54.859Z"
   },
   {
    "duration": 527,
    "start_time": "2022-07-31T10:11:55.247Z"
   },
   {
    "duration": 4,
    "start_time": "2022-07-31T10:11:55.776Z"
   },
   {
    "duration": 25,
    "start_time": "2022-07-31T10:11:56.259Z"
   },
   {
    "duration": 3,
    "start_time": "2022-07-31T10:15:18.014Z"
   },
   {
    "duration": 50,
    "start_time": "2022-07-31T10:15:18.559Z"
   },
   {
    "duration": 13,
    "start_time": "2022-07-31T10:15:18.909Z"
   },
   {
    "duration": 550,
    "start_time": "2022-07-31T10:15:19.253Z"
   },
   {
    "duration": 5,
    "start_time": "2022-07-31T10:15:21.367Z"
   },
   {
    "duration": 38,
    "start_time": "2022-07-31T10:15:22.153Z"
   },
   {
    "duration": 5,
    "start_time": "2022-07-31T10:17:22.591Z"
   },
   {
    "duration": 34,
    "start_time": "2022-07-31T10:17:23.546Z"
   },
   {
    "duration": 5,
    "start_time": "2022-07-31T10:17:52.009Z"
   },
   {
    "duration": 42,
    "start_time": "2022-07-31T10:17:52.641Z"
   },
   {
    "duration": 71,
    "start_time": "2022-07-31T10:18:07.788Z"
   },
   {
    "duration": 34,
    "start_time": "2022-07-31T10:18:08.324Z"
   },
   {
    "duration": 3,
    "start_time": "2022-07-31T10:18:18.691Z"
   },
   {
    "duration": 60,
    "start_time": "2022-07-31T10:18:18.853Z"
   },
   {
    "duration": 22,
    "start_time": "2022-07-31T10:18:19.132Z"
   },
   {
    "duration": 565,
    "start_time": "2022-07-31T10:18:19.458Z"
   },
   {
    "duration": 11,
    "start_time": "2022-07-31T10:18:20.033Z"
   },
   {
    "duration": 44,
    "start_time": "2022-07-31T10:18:20.221Z"
   },
   {
    "duration": 70,
    "start_time": "2022-07-31T10:20:29.851Z"
   },
   {
    "duration": 5,
    "start_time": "2022-07-31T10:20:41.696Z"
   },
   {
    "duration": 44,
    "start_time": "2022-07-31T10:20:42.523Z"
   },
   {
    "duration": 730,
    "start_time": "2022-07-31T10:22:07.398Z"
   },
   {
    "duration": 64,
    "start_time": "2022-07-31T10:22:08.131Z"
   },
   {
    "duration": 13,
    "start_time": "2022-07-31T10:22:08.502Z"
   },
   {
    "duration": 612,
    "start_time": "2022-07-31T10:22:09.054Z"
   },
   {
    "duration": 4,
    "start_time": "2022-07-31T10:22:09.668Z"
   },
   {
    "duration": 40,
    "start_time": "2022-07-31T10:22:10.168Z"
   },
   {
    "duration": 20,
    "start_time": "2022-07-31T10:22:39.733Z"
   },
   {
    "duration": 2,
    "start_time": "2022-07-31T10:22:45.477Z"
   },
   {
    "duration": 56,
    "start_time": "2022-07-31T10:22:45.806Z"
   },
   {
    "duration": 17,
    "start_time": "2022-07-31T10:22:48.080Z"
   },
   {
    "duration": 565,
    "start_time": "2022-07-31T10:22:52.013Z"
   },
   {
    "duration": 4,
    "start_time": "2022-07-31T10:22:52.580Z"
   },
   {
    "duration": 52,
    "start_time": "2022-07-31T10:22:52.708Z"
   },
   {
    "duration": 252,
    "start_time": "2022-07-31T10:25:15.098Z"
   },
   {
    "duration": 3,
    "start_time": "2022-07-31T10:25:34.290Z"
   },
   {
    "duration": 50,
    "start_time": "2022-07-31T10:25:34.466Z"
   },
   {
    "duration": 12,
    "start_time": "2022-07-31T10:25:34.802Z"
   },
   {
    "duration": 526,
    "start_time": "2022-07-31T10:25:35.170Z"
   },
   {
    "duration": 4,
    "start_time": "2022-07-31T10:25:35.698Z"
   },
   {
    "duration": 45,
    "start_time": "2022-07-31T10:25:36.004Z"
   },
   {
    "duration": 69,
    "start_time": "2022-07-31T10:25:37.267Z"
   },
   {
    "duration": 88,
    "start_time": "2022-07-31T10:28:30.161Z"
   },
   {
    "duration": 132,
    "start_time": "2022-07-31T10:29:03.211Z"
   },
   {
    "duration": 3,
    "start_time": "2022-07-31T10:29:36.501Z"
   },
   {
    "duration": 50,
    "start_time": "2022-07-31T10:29:36.658Z"
   },
   {
    "duration": 14,
    "start_time": "2022-07-31T10:29:36.943Z"
   },
   {
    "duration": 610,
    "start_time": "2022-07-31T10:29:37.093Z"
   },
   {
    "duration": 4,
    "start_time": "2022-07-31T10:29:37.705Z"
   },
   {
    "duration": 51,
    "start_time": "2022-07-31T10:29:37.711Z"
   },
   {
    "duration": 195,
    "start_time": "2022-07-31T10:30:02.145Z"
   },
   {
    "duration": 212,
    "start_time": "2022-07-31T10:30:16.732Z"
   },
   {
    "duration": 3,
    "start_time": "2022-07-31T10:31:22.203Z"
   },
   {
    "duration": 64,
    "start_time": "2022-07-31T10:31:22.385Z"
   },
   {
    "duration": 16,
    "start_time": "2022-07-31T10:31:22.667Z"
   },
   {
    "duration": 539,
    "start_time": "2022-07-31T10:31:23.267Z"
   },
   {
    "duration": 4,
    "start_time": "2022-07-31T10:31:23.808Z"
   },
   {
    "duration": 49,
    "start_time": "2022-07-31T10:31:24.403Z"
   },
   {
    "duration": 23,
    "start_time": "2022-07-31T10:31:56.178Z"
   },
   {
    "duration": 16,
    "start_time": "2022-07-31T10:32:52.012Z"
   },
   {
    "duration": 11,
    "start_time": "2022-07-31T10:33:04.361Z"
   },
   {
    "duration": 13,
    "start_time": "2022-07-31T10:33:09.754Z"
   },
   {
    "duration": 2,
    "start_time": "2022-07-31T10:34:04.671Z"
   },
   {
    "duration": 54,
    "start_time": "2022-07-31T10:34:05.096Z"
   },
   {
    "duration": 12,
    "start_time": "2022-07-31T10:34:05.951Z"
   },
   {
    "duration": 540,
    "start_time": "2022-07-31T10:34:09.107Z"
   },
   {
    "duration": 4,
    "start_time": "2022-07-31T10:34:09.649Z"
   },
   {
    "duration": 41,
    "start_time": "2022-07-31T10:34:09.655Z"
   },
   {
    "duration": 23,
    "start_time": "2022-07-31T10:34:11.800Z"
   },
   {
    "duration": 19,
    "start_time": "2022-07-31T10:34:20.399Z"
   },
   {
    "duration": 2,
    "start_time": "2022-07-31T10:35:21.337Z"
   },
   {
    "duration": 50,
    "start_time": "2022-07-31T10:35:21.774Z"
   },
   {
    "duration": 15,
    "start_time": "2022-07-31T10:35:22.575Z"
   },
   {
    "duration": 532,
    "start_time": "2022-07-31T10:35:22.990Z"
   },
   {
    "duration": 4,
    "start_time": "2022-07-31T10:35:23.558Z"
   },
   {
    "duration": 42,
    "start_time": "2022-07-31T10:35:24.463Z"
   },
   {
    "duration": 27,
    "start_time": "2022-07-31T10:35:26.434Z"
   },
   {
    "duration": 17,
    "start_time": "2022-07-31T10:35:28.095Z"
   },
   {
    "duration": 3,
    "start_time": "2022-07-31T10:35:59.581Z"
   },
   {
    "duration": 59,
    "start_time": "2022-07-31T10:35:59.737Z"
   },
   {
    "duration": 22,
    "start_time": "2022-07-31T10:36:00.062Z"
   },
   {
    "duration": 676,
    "start_time": "2022-07-31T10:36:00.431Z"
   },
   {
    "duration": 5,
    "start_time": "2022-07-31T10:36:01.109Z"
   },
   {
    "duration": 47,
    "start_time": "2022-07-31T10:36:01.231Z"
   },
   {
    "duration": 24,
    "start_time": "2022-07-31T10:36:02.347Z"
   },
   {
    "duration": 16,
    "start_time": "2022-07-31T10:36:03.550Z"
   },
   {
    "duration": 4,
    "start_time": "2022-07-31T10:36:22.597Z"
   },
   {
    "duration": 53,
    "start_time": "2022-07-31T10:36:22.773Z"
   },
   {
    "duration": 14,
    "start_time": "2022-07-31T10:36:23.509Z"
   },
   {
    "duration": 535,
    "start_time": "2022-07-31T10:36:23.916Z"
   },
   {
    "duration": 5,
    "start_time": "2022-07-31T10:36:24.454Z"
   },
   {
    "duration": 33,
    "start_time": "2022-07-31T10:36:24.630Z"
   },
   {
    "duration": 21,
    "start_time": "2022-07-31T10:36:25.173Z"
   },
   {
    "duration": 13,
    "start_time": "2022-07-31T10:36:25.997Z"
   },
   {
    "duration": 23,
    "start_time": "2022-07-31T10:36:55.685Z"
   },
   {
    "duration": 3,
    "start_time": "2022-07-31T10:37:00.252Z"
   },
   {
    "duration": 51,
    "start_time": "2022-07-31T10:37:00.565Z"
   },
   {
    "duration": 15,
    "start_time": "2022-07-31T10:37:01.172Z"
   },
   {
    "duration": 531,
    "start_time": "2022-07-31T10:37:01.492Z"
   },
   {
    "duration": 11,
    "start_time": "2022-07-31T10:37:02.025Z"
   },
   {
    "duration": 45,
    "start_time": "2022-07-31T10:37:03.012Z"
   },
   {
    "duration": 32,
    "start_time": "2022-07-31T10:37:04.429Z"
   },
   {
    "duration": 16,
    "start_time": "2022-07-31T10:37:05.788Z"
   },
   {
    "duration": 39,
    "start_time": "2022-07-31T10:39:36.156Z"
   },
   {
    "duration": 37,
    "start_time": "2022-07-31T10:40:11.217Z"
   },
   {
    "duration": 370,
    "start_time": "2022-07-31T10:41:36.782Z"
   },
   {
    "duration": 11,
    "start_time": "2022-07-31T10:41:45.934Z"
   },
   {
    "duration": 74,
    "start_time": "2022-07-31T10:41:46.236Z"
   },
   {
    "duration": 16,
    "start_time": "2022-07-31T10:41:47.183Z"
   },
   {
    "duration": 210,
    "start_time": "2022-07-31T10:41:47.710Z"
   },
   {
    "duration": 14,
    "start_time": "2022-07-31T10:43:26.550Z"
   },
   {
    "duration": 13,
    "start_time": "2022-07-31T10:43:41.550Z"
   },
   {
    "duration": 7,
    "start_time": "2022-07-31T10:44:41.179Z"
   },
   {
    "duration": 14,
    "start_time": "2022-07-31T10:44:49.083Z"
   },
   {
    "duration": 14,
    "start_time": "2022-07-31T10:45:11.707Z"
   },
   {
    "duration": 14,
    "start_time": "2022-07-31T10:45:47.154Z"
   },
   {
    "duration": 18,
    "start_time": "2022-07-31T10:54:07.873Z"
   },
   {
    "duration": 230,
    "start_time": "2022-07-31T10:54:17.614Z"
   },
   {
    "duration": 4,
    "start_time": "2022-07-31T10:54:26.214Z"
   },
   {
    "duration": 38,
    "start_time": "2022-07-31T10:54:27.293Z"
   },
   {
    "duration": 4,
    "start_time": "2022-07-31T10:58:34.513Z"
   },
   {
    "duration": 80,
    "start_time": "2022-07-31T10:58:34.716Z"
   },
   {
    "duration": 33,
    "start_time": "2022-07-31T10:58:35.331Z"
   },
   {
    "duration": 238,
    "start_time": "2022-07-31T10:58:35.750Z"
   },
   {
    "duration": 5,
    "start_time": "2022-07-31T10:58:36.152Z"
   },
   {
    "duration": 40,
    "start_time": "2022-07-31T10:58:36.610Z"
   },
   {
    "duration": 12,
    "start_time": "2022-07-31T10:58:37.809Z"
   },
   {
    "duration": 9,
    "start_time": "2022-07-31T10:58:38.785Z"
   },
   {
    "duration": 8,
    "start_time": "2022-07-31T10:59:59.557Z"
   },
   {
    "duration": 38,
    "start_time": "2022-07-31T11:00:00.083Z"
   },
   {
    "duration": 11,
    "start_time": "2022-07-31T11:00:01.103Z"
   },
   {
    "duration": 8,
    "start_time": "2022-07-31T11:00:02.275Z"
   },
   {
    "duration": 3,
    "start_time": "2022-07-31T11:00:06.817Z"
   },
   {
    "duration": 69,
    "start_time": "2022-07-31T11:00:06.990Z"
   },
   {
    "duration": 25,
    "start_time": "2022-07-31T11:00:07.321Z"
   },
   {
    "duration": 220,
    "start_time": "2022-07-31T11:00:07.668Z"
   },
   {
    "duration": 5,
    "start_time": "2022-07-31T11:00:08.015Z"
   },
   {
    "duration": 36,
    "start_time": "2022-07-31T11:00:08.373Z"
   },
   {
    "duration": 17,
    "start_time": "2022-07-31T11:00:09.053Z"
   },
   {
    "duration": 11,
    "start_time": "2022-07-31T11:00:09.861Z"
   },
   {
    "duration": 9,
    "start_time": "2022-07-31T11:00:48.772Z"
   },
   {
    "duration": 73,
    "start_time": "2022-07-31T11:00:49.348Z"
   },
   {
    "duration": 21,
    "start_time": "2022-07-31T11:00:50.756Z"
   },
   {
    "duration": 211,
    "start_time": "2022-07-31T11:00:52.072Z"
   },
   {
    "duration": 11,
    "start_time": "2022-07-31T11:00:53.529Z"
   },
   {
    "duration": 51,
    "start_time": "2022-07-31T11:00:54.435Z"
   },
   {
    "duration": 12,
    "start_time": "2022-07-31T11:00:58.102Z"
   },
   {
    "duration": 9,
    "start_time": "2022-07-31T11:01:03.078Z"
   },
   {
    "duration": 12,
    "start_time": "2022-07-31T11:01:47.613Z"
   },
   {
    "duration": 8,
    "start_time": "2022-07-31T11:01:49.160Z"
   },
   {
    "duration": 22,
    "start_time": "2022-07-31T11:02:29.778Z"
   },
   {
    "duration": 23,
    "start_time": "2022-07-31T11:03:30.960Z"
   },
   {
    "duration": 11,
    "start_time": "2022-07-31T11:03:34.169Z"
   },
   {
    "duration": 29,
    "start_time": "2022-07-31T11:03:48.298Z"
   },
   {
    "duration": 19,
    "start_time": "2022-07-31T11:03:49.964Z"
   },
   {
    "duration": 10,
    "start_time": "2022-07-31T11:03:51.376Z"
   },
   {
    "duration": 3,
    "start_time": "2022-07-31T11:03:59.948Z"
   },
   {
    "duration": 71,
    "start_time": "2022-07-31T11:04:00.105Z"
   },
   {
    "duration": 19,
    "start_time": "2022-07-31T11:04:00.568Z"
   },
   {
    "duration": 271,
    "start_time": "2022-07-31T11:04:00.931Z"
   },
   {
    "duration": 7,
    "start_time": "2022-07-31T11:04:01.376Z"
   },
   {
    "duration": 35,
    "start_time": "2022-07-31T11:04:02.091Z"
   },
   {
    "duration": 12,
    "start_time": "2022-07-31T11:04:04.692Z"
   },
   {
    "duration": 23,
    "start_time": "2022-07-31T11:04:06.533Z"
   },
   {
    "duration": 10,
    "start_time": "2022-07-31T11:08:53.686Z"
   },
   {
    "duration": 35,
    "start_time": "2022-07-31T11:08:58.859Z"
   },
   {
    "duration": 62,
    "start_time": "2022-07-31T11:08:59.252Z"
   },
   {
    "duration": 17,
    "start_time": "2022-07-31T11:08:59.899Z"
   },
   {
    "duration": 258,
    "start_time": "2022-07-31T11:09:00.306Z"
   },
   {
    "duration": 21,
    "start_time": "2022-07-31T11:09:02.467Z"
   },
   {
    "duration": 5,
    "start_time": "2022-07-31T11:09:38.677Z"
   },
   {
    "duration": 67,
    "start_time": "2022-07-31T11:09:39.098Z"
   },
   {
    "duration": 17,
    "start_time": "2022-07-31T11:09:39.586Z"
   },
   {
    "duration": 219,
    "start_time": "2022-07-31T11:09:39.881Z"
   },
   {
    "duration": 217,
    "start_time": "2022-07-31T11:09:40.365Z"
   },
   {
    "duration": 354,
    "start_time": "2022-07-31T11:10:22.073Z"
   },
   {
    "duration": 4,
    "start_time": "2022-07-31T11:10:31.904Z"
   },
   {
    "duration": 207,
    "start_time": "2022-07-31T11:10:37.275Z"
   },
   {
    "duration": 213,
    "start_time": "2022-07-31T11:10:59.208Z"
   },
   {
    "duration": 330,
    "start_time": "2022-07-31T11:11:03.853Z"
   },
   {
    "duration": 4,
    "start_time": "2022-07-31T11:12:36.759Z"
   },
   {
    "duration": 43,
    "start_time": "2022-07-31T11:12:37.814Z"
   },
   {
    "duration": 6,
    "start_time": "2022-07-31T11:13:06.757Z"
   },
   {
    "duration": 4,
    "start_time": "2022-07-31T11:14:51.563Z"
   },
   {
    "duration": 25,
    "start_time": "2022-07-31T11:14:52.895Z"
   },
   {
    "duration": 4,
    "start_time": "2022-07-31T11:15:57.377Z"
   },
   {
    "duration": 4,
    "start_time": "2022-07-31T11:16:04.404Z"
   },
   {
    "duration": 29,
    "start_time": "2022-07-31T11:16:08.193Z"
   },
   {
    "duration": 3,
    "start_time": "2022-07-31T11:16:28.861Z"
   },
   {
    "duration": 58,
    "start_time": "2022-07-31T11:16:29.208Z"
   },
   {
    "duration": 18,
    "start_time": "2022-07-31T11:16:29.955Z"
   },
   {
    "duration": 200,
    "start_time": "2022-07-31T11:16:30.296Z"
   },
   {
    "duration": 349,
    "start_time": "2022-07-31T11:16:30.953Z"
   },
   {
    "duration": 4,
    "start_time": "2022-07-31T11:16:31.462Z"
   },
   {
    "duration": 4,
    "start_time": "2022-07-31T11:16:32.497Z"
   },
   {
    "duration": 31,
    "start_time": "2022-07-31T11:16:33.356Z"
   },
   {
    "duration": 11,
    "start_time": "2022-07-31T11:16:38.194Z"
   },
   {
    "duration": 9,
    "start_time": "2022-07-31T11:16:40.561Z"
   },
   {
    "duration": 3,
    "start_time": "2022-07-31T11:18:34.911Z"
   },
   {
    "duration": 49,
    "start_time": "2022-07-31T11:18:35.069Z"
   },
   {
    "duration": 17,
    "start_time": "2022-07-31T11:18:35.390Z"
   },
   {
    "duration": 201,
    "start_time": "2022-07-31T11:18:35.709Z"
   },
   {
    "duration": 291,
    "start_time": "2022-07-31T11:18:36.006Z"
   },
   {
    "duration": 4,
    "start_time": "2022-07-31T11:18:36.758Z"
   },
   {
    "duration": 18,
    "start_time": "2022-07-31T11:18:37.634Z"
   },
   {
    "duration": 44,
    "start_time": "2022-07-31T11:18:38.813Z"
   },
   {
    "duration": 11,
    "start_time": "2022-07-31T11:18:43.184Z"
   },
   {
    "duration": 15,
    "start_time": "2022-07-31T11:18:44.574Z"
   },
   {
    "duration": 4,
    "start_time": "2022-07-31T11:19:32.156Z"
   },
   {
    "duration": 59,
    "start_time": "2022-07-31T11:19:32.308Z"
   },
   {
    "duration": 22,
    "start_time": "2022-07-31T11:19:32.805Z"
   },
   {
    "duration": 200,
    "start_time": "2022-07-31T11:19:33.155Z"
   },
   {
    "duration": 311,
    "start_time": "2022-07-31T11:19:33.492Z"
   },
   {
    "duration": 15,
    "start_time": "2022-07-31T11:19:33.812Z"
   },
   {
    "duration": 4,
    "start_time": "2022-07-31T11:19:34.566Z"
   },
   {
    "duration": 32,
    "start_time": "2022-07-31T11:19:35.261Z"
   },
   {
    "duration": 11,
    "start_time": "2022-07-31T11:19:36.382Z"
   },
   {
    "duration": 19,
    "start_time": "2022-07-31T11:19:37.277Z"
   },
   {
    "duration": 18,
    "start_time": "2022-07-31T11:24:01.578Z"
   },
   {
    "duration": 6,
    "start_time": "2022-07-31T11:24:10.487Z"
   },
   {
    "duration": 3,
    "start_time": "2022-07-31T11:24:19.217Z"
   },
   {
    "duration": 69,
    "start_time": "2022-07-31T11:24:19.487Z"
   },
   {
    "duration": 25,
    "start_time": "2022-07-31T11:24:20.162Z"
   },
   {
    "duration": 217,
    "start_time": "2022-07-31T11:24:20.460Z"
   },
   {
    "duration": 362,
    "start_time": "2022-07-31T11:24:21.114Z"
   },
   {
    "duration": 17,
    "start_time": "2022-07-31T11:24:21.860Z"
   },
   {
    "duration": 6,
    "start_time": "2022-07-31T11:24:23.118Z"
   },
   {
    "duration": 5,
    "start_time": "2022-07-31T11:24:57.822Z"
   },
   {
    "duration": 6,
    "start_time": "2022-07-31T11:24:58.966Z"
   },
   {
    "duration": 4,
    "start_time": "2022-07-31T11:25:01.375Z"
   },
   {
    "duration": 32,
    "start_time": "2022-07-31T11:25:02.089Z"
   },
   {
    "duration": 33,
    "start_time": "2022-07-31T11:25:03.629Z"
   },
   {
    "duration": 8,
    "start_time": "2022-07-31T11:25:05.118Z"
   },
   {
    "duration": 4,
    "start_time": "2022-07-31T11:26:03.199Z"
   },
   {
    "duration": 28,
    "start_time": "2022-07-31T11:26:03.966Z"
   },
   {
    "duration": 12,
    "start_time": "2022-07-31T11:26:08.620Z"
   },
   {
    "duration": 7,
    "start_time": "2022-07-31T11:26:09.564Z"
   },
   {
    "duration": 3,
    "start_time": "2022-07-31T11:26:13.900Z"
   },
   {
    "duration": 63,
    "start_time": "2022-07-31T11:26:14.097Z"
   },
   {
    "duration": 17,
    "start_time": "2022-07-31T11:26:14.561Z"
   },
   {
    "duration": 197,
    "start_time": "2022-07-31T11:26:14.860Z"
   },
   {
    "duration": 314,
    "start_time": "2022-07-31T11:26:15.204Z"
   },
   {
    "duration": 7,
    "start_time": "2022-07-31T11:26:15.564Z"
   },
   {
    "duration": 6,
    "start_time": "2022-07-31T11:26:15.908Z"
   },
   {
    "duration": 4,
    "start_time": "2022-07-31T11:26:16.421Z"
   },
   {
    "duration": 45,
    "start_time": "2022-07-31T11:26:16.620Z"
   },
   {
    "duration": 11,
    "start_time": "2022-07-31T11:26:18.004Z"
   },
   {
    "duration": 6,
    "start_time": "2022-07-31T11:26:19.199Z"
   },
   {
    "duration": 3,
    "start_time": "2022-07-31T11:26:41.063Z"
   },
   {
    "duration": 52,
    "start_time": "2022-07-31T11:26:41.257Z"
   },
   {
    "duration": 19,
    "start_time": "2022-07-31T11:26:41.754Z"
   },
   {
    "duration": 205,
    "start_time": "2022-07-31T11:26:42.116Z"
   },
   {
    "duration": 340,
    "start_time": "2022-07-31T11:26:42.462Z"
   },
   {
    "duration": 19,
    "start_time": "2022-07-31T11:26:42.833Z"
   },
   {
    "duration": 6,
    "start_time": "2022-07-31T11:26:43.163Z"
   },
   {
    "duration": 3,
    "start_time": "2022-07-31T11:26:43.476Z"
   },
   {
    "duration": 36,
    "start_time": "2022-07-31T11:26:43.932Z"
   },
   {
    "duration": 11,
    "start_time": "2022-07-31T11:26:46.812Z"
   },
   {
    "duration": 7,
    "start_time": "2022-07-31T11:26:47.857Z"
   },
   {
    "duration": 3,
    "start_time": "2022-07-31T11:33:20.708Z"
   },
   {
    "duration": 51,
    "start_time": "2022-07-31T11:33:21.166Z"
   },
   {
    "duration": 17,
    "start_time": "2022-07-31T11:33:24.892Z"
   },
   {
    "duration": 20,
    "start_time": "2022-07-31T11:36:11.862Z"
   },
   {
    "duration": 497,
    "start_time": "2022-07-31T11:36:32.207Z"
   },
   {
    "duration": 433,
    "start_time": "2022-07-31T11:36:39.481Z"
   },
   {
    "duration": 166,
    "start_time": "2022-07-31T11:37:04.111Z"
   },
   {
    "duration": 157,
    "start_time": "2022-07-31T11:37:14.262Z"
   },
   {
    "duration": 10,
    "start_time": "2022-07-31T11:38:00.054Z"
   },
   {
    "duration": 152,
    "start_time": "2022-07-31T11:38:17.559Z"
   },
   {
    "duration": 7,
    "start_time": "2022-07-31T11:38:18.973Z"
   },
   {
    "duration": 5,
    "start_time": "2022-07-31T11:38:23.678Z"
   },
   {
    "duration": 3,
    "start_time": "2022-07-31T11:38:25.302Z"
   },
   {
    "duration": 52,
    "start_time": "2022-07-31T11:38:26.006Z"
   },
   {
    "duration": 8,
    "start_time": "2022-07-31T11:38:41.248Z"
   },
   {
    "duration": 51,
    "start_time": "2022-07-31T11:38:41.679Z"
   },
   {
    "duration": 18,
    "start_time": "2022-07-31T11:39:09.554Z"
   },
   {
    "duration": 10,
    "start_time": "2022-07-31T11:39:17.389Z"
   },
   {
    "duration": 481,
    "start_time": "2022-07-31T11:39:28.034Z"
   },
   {
    "duration": 166,
    "start_time": "2022-07-31T11:39:39.862Z"
   },
   {
    "duration": 8,
    "start_time": "2022-07-31T11:39:59.159Z"
   },
   {
    "duration": 6,
    "start_time": "2022-07-31T11:40:03.658Z"
   },
   {
    "duration": 3,
    "start_time": "2022-07-31T11:40:10.468Z"
   },
   {
    "duration": 31,
    "start_time": "2022-07-31T11:40:13.949Z"
   },
   {
    "duration": 14,
    "start_time": "2022-07-31T11:40:17.764Z"
   },
   {
    "duration": 6,
    "start_time": "2022-07-31T11:40:18.884Z"
   },
   {
    "duration": 6,
    "start_time": "2022-07-31T11:40:35.335Z"
   },
   {
    "duration": 60,
    "start_time": "2022-07-31T11:40:35.699Z"
   },
   {
    "duration": 17,
    "start_time": "2022-07-31T11:40:36.865Z"
   },
   {
    "duration": 501,
    "start_time": "2022-07-31T11:40:37.394Z"
   },
   {
    "duration": 187,
    "start_time": "2022-07-31T11:40:37.897Z"
   },
   {
    "duration": 10,
    "start_time": "2022-07-31T11:40:50.753Z"
   },
   {
    "duration": 7,
    "start_time": "2022-07-31T11:40:51.386Z"
   },
   {
    "duration": 4,
    "start_time": "2022-07-31T11:40:52.267Z"
   },
   {
    "duration": 36,
    "start_time": "2022-07-31T11:40:52.854Z"
   },
   {
    "duration": 12,
    "start_time": "2022-07-31T11:40:54.883Z"
   },
   {
    "duration": 11,
    "start_time": "2022-07-31T11:40:56.053Z"
   },
   {
    "duration": 1694,
    "start_time": "2022-08-01T11:04:57.980Z"
   },
   {
    "duration": 242,
    "start_time": "2022-08-01T11:04:59.677Z"
   },
   {
    "duration": 36,
    "start_time": "2022-08-01T11:04:59.920Z"
   },
   {
    "duration": 640,
    "start_time": "2022-08-01T11:05:00.955Z"
   },
   {
    "duration": 189,
    "start_time": "2022-08-01T11:05:01.596Z"
   },
   {
    "duration": 8,
    "start_time": "2022-08-01T11:05:04.550Z"
   },
   {
    "duration": 174,
    "start_time": "2022-08-01T11:07:08.203Z"
   },
   {
    "duration": 252,
    "start_time": "2022-08-01T11:07:16.096Z"
   },
   {
    "duration": 504,
    "start_time": "2022-08-01T11:07:31.980Z"
   },
   {
    "duration": 606,
    "start_time": "2022-08-01T11:09:38.272Z"
   },
   {
    "duration": 6,
    "start_time": "2022-08-01T11:12:16.159Z"
   },
   {
    "duration": 159,
    "start_time": "2022-08-01T11:12:20.396Z"
   },
   {
    "duration": 3,
    "start_time": "2022-08-01T11:12:37.883Z"
   },
   {
    "duration": 78,
    "start_time": "2022-08-01T11:12:38.327Z"
   },
   {
    "duration": 23,
    "start_time": "2022-08-01T11:12:39.197Z"
   },
   {
    "duration": 624,
    "start_time": "2022-08-01T11:12:40.151Z"
   },
   {
    "duration": 185,
    "start_time": "2022-08-01T11:12:40.777Z"
   },
   {
    "duration": 605,
    "start_time": "2022-08-01T11:12:41.468Z"
   },
   {
    "duration": 9,
    "start_time": "2022-08-01T11:12:43.197Z"
   },
   {
    "duration": 7,
    "start_time": "2022-08-01T11:12:43.650Z"
   },
   {
    "duration": 5,
    "start_time": "2022-08-01T11:12:44.152Z"
   },
   {
    "duration": 30,
    "start_time": "2022-08-01T11:12:45.988Z"
   },
   {
    "duration": 4,
    "start_time": "2022-08-01T11:13:19.766Z"
   },
   {
    "duration": 43,
    "start_time": "2022-08-01T11:13:21.669Z"
   },
   {
    "duration": 7,
    "start_time": "2022-08-01T11:14:25.453Z"
   },
   {
    "duration": 71,
    "start_time": "2022-08-01T11:14:25.808Z"
   },
   {
    "duration": 18,
    "start_time": "2022-08-01T11:14:26.566Z"
   },
   {
    "duration": 639,
    "start_time": "2022-08-01T11:14:27.674Z"
   },
   {
    "duration": 189,
    "start_time": "2022-08-01T11:14:28.315Z"
   },
   {
    "duration": 681,
    "start_time": "2022-08-01T11:14:33.674Z"
   },
   {
    "duration": 7,
    "start_time": "2022-08-01T11:14:45.074Z"
   },
   {
    "duration": 6,
    "start_time": "2022-08-01T11:14:49.759Z"
   },
   {
    "duration": 49,
    "start_time": "2022-08-01T11:14:51.018Z"
   },
   {
    "duration": 54,
    "start_time": "2022-08-01T11:14:56.419Z"
   },
   {
    "duration": 29,
    "start_time": "2022-08-01T11:18:17.062Z"
   },
   {
    "duration": 22,
    "start_time": "2022-08-01T11:18:26.679Z"
   },
   {
    "duration": 81,
    "start_time": "2022-08-01T11:20:35.818Z"
   },
   {
    "duration": 14,
    "start_time": "2022-08-01T11:21:04.777Z"
   },
   {
    "duration": 14,
    "start_time": "2022-08-01T11:21:07.474Z"
   },
   {
    "duration": 357,
    "start_time": "2022-08-01T11:21:07.913Z"
   },
   {
    "duration": 293,
    "start_time": "2022-08-01T11:21:20.281Z"
   },
   {
    "duration": 15,
    "start_time": "2022-08-01T11:23:27.014Z"
   },
   {
    "duration": 46,
    "start_time": "2022-08-01T11:23:36.088Z"
   },
   {
    "duration": 14,
    "start_time": "2022-08-01T11:24:23.599Z"
   },
   {
    "duration": 24,
    "start_time": "2022-08-01T11:25:34.995Z"
   },
   {
    "duration": 34,
    "start_time": "2022-08-01T11:26:34.412Z"
   },
   {
    "duration": 25,
    "start_time": "2022-08-01T11:27:15.862Z"
   },
   {
    "duration": 4,
    "start_time": "2022-08-01T11:33:25.905Z"
   },
   {
    "duration": 73,
    "start_time": "2022-08-01T11:33:26.604Z"
   },
   {
    "duration": 20,
    "start_time": "2022-08-01T11:33:33.163Z"
   },
   {
    "duration": 15,
    "start_time": "2022-08-01T11:33:39.271Z"
   },
   {
    "duration": 268,
    "start_time": "2022-08-01T11:33:41.496Z"
   },
   {
    "duration": 292,
    "start_time": "2022-08-01T11:33:43.506Z"
   },
   {
    "duration": 634,
    "start_time": "2022-08-01T11:34:07.963Z"
   },
   {
    "duration": 39,
    "start_time": "2022-08-01T11:34:42.299Z"
   },
   {
    "duration": 1661,
    "start_time": "2022-08-01T11:35:37.194Z"
   },
   {
    "duration": 33,
    "start_time": "2022-08-01T11:38:55.380Z"
   },
   {
    "duration": 27,
    "start_time": "2022-08-01T11:39:52.321Z"
   },
   {
    "duration": 549,
    "start_time": "2022-08-01T11:39:55.755Z"
   },
   {
    "duration": 230,
    "start_time": "2022-08-01T11:40:35.310Z"
   },
   {
    "duration": 1512,
    "start_time": "2022-08-01T11:40:51.753Z"
   },
   {
    "duration": 13,
    "start_time": "2022-08-01T11:41:20.585Z"
   },
   {
    "duration": 21,
    "start_time": "2022-08-01T11:41:36.455Z"
   },
   {
    "duration": 4,
    "start_time": "2022-08-01T11:42:38.502Z"
   },
   {
    "duration": 50,
    "start_time": "2022-08-01T11:42:40.549Z"
   },
   {
    "duration": 51,
    "start_time": "2022-08-01T11:43:21.853Z"
   },
   {
    "duration": 20,
    "start_time": "2022-08-01T11:43:29.549Z"
   },
   {
    "duration": 19,
    "start_time": "2022-08-01T11:43:52.552Z"
   },
   {
    "duration": 19,
    "start_time": "2022-08-01T11:45:08.697Z"
   },
   {
    "duration": 14,
    "start_time": "2022-08-01T11:45:51.416Z"
   },
   {
    "duration": 258,
    "start_time": "2022-08-01T11:46:33.559Z"
   },
   {
    "duration": 276,
    "start_time": "2022-08-01T11:46:56.703Z"
   },
   {
    "duration": 431,
    "start_time": "2022-08-01T11:47:35.422Z"
   },
   {
    "duration": 12,
    "start_time": "2022-08-01T11:48:35.140Z"
   },
   {
    "duration": 20,
    "start_time": "2022-08-01T11:48:42.219Z"
   },
   {
    "duration": 9,
    "start_time": "2022-08-01T11:49:01.180Z"
   },
   {
    "duration": 18,
    "start_time": "2022-08-01T11:52:38.561Z"
   },
   {
    "duration": 12,
    "start_time": "2022-08-01T11:54:22.109Z"
   },
   {
    "duration": 6,
    "start_time": "2022-08-01T11:55:05.109Z"
   },
   {
    "duration": 21,
    "start_time": "2022-08-01T11:55:40.555Z"
   },
   {
    "duration": 358,
    "start_time": "2022-08-01T11:57:46.957Z"
   },
   {
    "duration": 650,
    "start_time": "2022-08-01T11:58:15.907Z"
   },
   {
    "duration": 475,
    "start_time": "2022-08-01T11:59:08.178Z"
   },
   {
    "duration": 263,
    "start_time": "2022-08-01T11:59:24.983Z"
   },
   {
    "duration": 495,
    "start_time": "2022-08-01T11:59:38.912Z"
   },
   {
    "duration": 669,
    "start_time": "2022-08-01T11:59:53.479Z"
   },
   {
    "duration": 923,
    "start_time": "2022-08-01T12:00:06.549Z"
   },
   {
    "duration": 6,
    "start_time": "2022-08-01T12:13:26.884Z"
   },
   {
    "duration": 9,
    "start_time": "2022-08-01T12:14:14.236Z"
   },
   {
    "duration": 40,
    "start_time": "2022-08-01T12:14:18.555Z"
   },
   {
    "duration": 15,
    "start_time": "2022-08-01T12:15:44.051Z"
   },
   {
    "duration": 8,
    "start_time": "2022-08-01T12:15:45.257Z"
   },
   {
    "duration": 13,
    "start_time": "2022-08-01T12:20:49.932Z"
   },
   {
    "duration": 14,
    "start_time": "2022-08-01T12:21:14.308Z"
   },
   {
    "duration": 7,
    "start_time": "2022-08-01T12:21:46.946Z"
   },
   {
    "duration": 12,
    "start_time": "2022-08-01T12:22:03.291Z"
   },
   {
    "duration": 27,
    "start_time": "2022-08-01T12:24:19.583Z"
   },
   {
    "duration": 17,
    "start_time": "2022-08-01T12:24:28.928Z"
   },
   {
    "duration": 11,
    "start_time": "2022-08-01T12:24:40.557Z"
   },
   {
    "duration": 2377,
    "start_time": "2022-08-01T12:25:03.553Z"
   },
   {
    "duration": 34779,
    "start_time": "2022-08-01T12:26:57.356Z"
   },
   {
    "duration": 4,
    "start_time": "2022-08-01T12:32:01.911Z"
   },
   {
    "duration": 40,
    "start_time": "2022-08-01T12:33:25.085Z"
   },
   {
    "duration": 98,
    "start_time": "2022-08-01T12:35:33.811Z"
   },
   {
    "duration": 103,
    "start_time": "2022-08-01T12:37:56.232Z"
   },
   {
    "duration": 17,
    "start_time": "2022-08-01T12:38:29.824Z"
   },
   {
    "duration": 18,
    "start_time": "2022-08-01T12:38:36.425Z"
   },
   {
    "duration": 8663,
    "start_time": "2022-08-01T12:38:48.567Z"
   },
   {
    "duration": 130,
    "start_time": "2022-08-01T12:39:11.312Z"
   },
   {
    "duration": 41098,
    "start_time": "2022-08-01T12:40:45.735Z"
   },
   {
    "duration": 4644,
    "start_time": "2022-08-01T12:41:42.885Z"
   },
   {
    "duration": 3,
    "start_time": "2022-08-01T12:44:55.855Z"
   },
   {
    "duration": 50,
    "start_time": "2022-08-01T12:44:56.799Z"
   },
   {
    "duration": 27,
    "start_time": "2022-08-01T12:44:59.119Z"
   },
   {
    "duration": 15,
    "start_time": "2022-08-01T12:45:03.205Z"
   },
   {
    "duration": 239,
    "start_time": "2022-08-01T12:45:03.885Z"
   },
   {
    "duration": 259,
    "start_time": "2022-08-01T12:45:04.626Z"
   },
   {
    "duration": 389,
    "start_time": "2022-08-01T12:45:05.335Z"
   },
   {
    "duration": 13,
    "start_time": "2022-08-01T12:45:06.054Z"
   },
   {
    "duration": 678,
    "start_time": "2022-08-01T12:45:06.727Z"
   },
   {
    "duration": 3,
    "start_time": "2022-08-01T12:45:12.333Z"
   },
   {
    "duration": 4,
    "start_time": "2022-08-01T12:45:24.766Z"
   },
   {
    "duration": 42,
    "start_time": "2022-08-01T12:45:26.902Z"
   },
   {
    "duration": 16,
    "start_time": "2022-08-01T12:45:30.462Z"
   },
   {
    "duration": 7,
    "start_time": "2022-08-01T12:45:31.717Z"
   },
   {
    "duration": 3050,
    "start_time": "2022-08-01T12:45:36.085Z"
   },
   {
    "duration": 97,
    "start_time": "2022-08-01T12:47:10.334Z"
   },
   {
    "duration": 5321,
    "start_time": "2022-08-01T12:47:14.907Z"
   },
   {
    "duration": 4868,
    "start_time": "2022-08-01T12:54:56.666Z"
   },
   {
    "duration": 106,
    "start_time": "2022-08-01T12:55:12.761Z"
   },
   {
    "duration": 4940,
    "start_time": "2022-08-01T12:55:38.186Z"
   },
   {
    "duration": 2057,
    "start_time": "2022-08-01T12:58:04.373Z"
   },
   {
    "duration": 5,
    "start_time": "2022-08-01T12:58:19.781Z"
   },
   {
    "duration": 57,
    "start_time": "2022-08-01T12:58:20.492Z"
   },
   {
    "duration": 23,
    "start_time": "2022-08-01T12:58:22.556Z"
   },
   {
    "duration": 14,
    "start_time": "2022-08-01T12:58:24.628Z"
   },
   {
    "duration": 241,
    "start_time": "2022-08-01T12:58:25.308Z"
   },
   {
    "duration": 275,
    "start_time": "2022-08-01T12:58:26.027Z"
   },
   {
    "duration": 393,
    "start_time": "2022-08-01T12:58:26.684Z"
   },
   {
    "duration": 12,
    "start_time": "2022-08-01T12:58:27.316Z"
   },
   {
    "duration": 793,
    "start_time": "2022-08-01T12:58:28.013Z"
   },
   {
    "duration": 5,
    "start_time": "2022-08-01T12:58:30.148Z"
   },
   {
    "duration": 36,
    "start_time": "2022-08-01T12:58:31.556Z"
   },
   {
    "duration": 16,
    "start_time": "2022-08-01T12:58:36.916Z"
   },
   {
    "duration": 6,
    "start_time": "2022-08-01T12:58:39.508Z"
   },
   {
    "duration": 3073,
    "start_time": "2022-08-01T12:58:47.956Z"
   },
   {
    "duration": 1432,
    "start_time": "2022-08-01T12:59:35.804Z"
   },
   {
    "duration": 4,
    "start_time": "2022-08-01T13:02:03.707Z"
   },
   {
    "duration": 9,
    "start_time": "2022-08-01T13:02:04.487Z"
   },
   {
    "duration": 5,
    "start_time": "2022-08-01T13:02:26.328Z"
   },
   {
    "duration": 245,
    "start_time": "2022-08-01T13:02:27.415Z"
   },
   {
    "duration": 290,
    "start_time": "2022-08-01T13:04:07.742Z"
   },
   {
    "duration": 254,
    "start_time": "2022-08-01T13:07:05.169Z"
   },
   {
    "duration": 4,
    "start_time": "2022-08-01T13:07:17.225Z"
   },
   {
    "duration": 51,
    "start_time": "2022-08-01T13:07:17.742Z"
   },
   {
    "duration": 19,
    "start_time": "2022-08-01T13:07:19.393Z"
   },
   {
    "duration": 14,
    "start_time": "2022-08-01T13:07:20.864Z"
   },
   {
    "duration": 227,
    "start_time": "2022-08-01T13:07:21.400Z"
   },
   {
    "duration": 267,
    "start_time": "2022-08-01T13:07:21.905Z"
   },
   {
    "duration": 369,
    "start_time": "2022-08-01T13:07:22.456Z"
   },
   {
    "duration": 13,
    "start_time": "2022-08-01T13:07:22.953Z"
   },
   {
    "duration": 635,
    "start_time": "2022-08-01T13:07:23.498Z"
   },
   {
    "duration": 5,
    "start_time": "2022-08-01T13:07:25.024Z"
   },
   {
    "duration": 39,
    "start_time": "2022-08-01T13:07:26.065Z"
   },
   {
    "duration": 17,
    "start_time": "2022-08-01T13:07:27.840Z"
   },
   {
    "duration": 6,
    "start_time": "2022-08-01T13:07:28.400Z"
   },
   {
    "duration": 2316,
    "start_time": "2022-08-01T13:07:29.616Z"
   },
   {
    "duration": 1790,
    "start_time": "2022-08-01T13:07:37.537Z"
   },
   {
    "duration": 4,
    "start_time": "2022-08-01T13:07:39.329Z"
   },
   {
    "duration": 238,
    "start_time": "2022-08-01T13:07:39.408Z"
   },
   {
    "duration": 247,
    "start_time": "2022-08-01T13:07:50.480Z"
   },
   {
    "duration": 1676,
    "start_time": "2022-08-02T11:53:22.453Z"
   },
   {
    "duration": 129,
    "start_time": "2022-08-02T11:53:24.131Z"
   },
   {
    "duration": 23,
    "start_time": "2022-08-02T11:53:24.261Z"
   },
   {
    "duration": 13,
    "start_time": "2022-08-02T11:53:24.286Z"
   },
   {
    "duration": 328,
    "start_time": "2022-08-02T11:53:24.301Z"
   },
   {
    "duration": 245,
    "start_time": "2022-08-02T11:53:24.631Z"
   },
   {
    "duration": 115,
    "start_time": "2022-08-02T11:53:24.878Z"
   },
   {
    "duration": 0,
    "start_time": "2022-08-02T11:53:24.994Z"
   },
   {
    "duration": 0,
    "start_time": "2022-08-02T11:53:24.995Z"
   },
   {
    "duration": 0,
    "start_time": "2022-08-02T11:53:24.996Z"
   },
   {
    "duration": 0,
    "start_time": "2022-08-02T11:53:24.997Z"
   },
   {
    "duration": 62,
    "start_time": "2022-08-02T11:54:24.869Z"
   },
   {
    "duration": 81,
    "start_time": "2022-08-02T11:54:37.129Z"
   },
   {
    "duration": 9,
    "start_time": "2022-08-02T11:54:58.999Z"
   },
   {
    "duration": 66,
    "start_time": "2022-08-02T11:55:24.381Z"
   },
   {
    "duration": 4,
    "start_time": "2022-08-02T11:56:52.360Z"
   },
   {
    "duration": 138,
    "start_time": "2022-08-02T11:56:52.366Z"
   },
   {
    "duration": 17,
    "start_time": "2022-08-02T11:56:52.505Z"
   },
   {
    "duration": 17,
    "start_time": "2022-08-02T11:56:52.524Z"
   },
   {
    "duration": 213,
    "start_time": "2022-08-02T11:56:52.543Z"
   },
   {
    "duration": 231,
    "start_time": "2022-08-02T11:56:52.757Z"
   },
   {
    "duration": 11,
    "start_time": "2022-08-02T11:56:52.990Z"
   },
   {
    "duration": 0,
    "start_time": "2022-08-02T11:56:53.002Z"
   },
   {
    "duration": 0,
    "start_time": "2022-08-02T11:56:53.003Z"
   },
   {
    "duration": 0,
    "start_time": "2022-08-02T11:56:53.004Z"
   },
   {
    "duration": 0,
    "start_time": "2022-08-02T11:56:53.006Z"
   },
   {
    "duration": 10,
    "start_time": "2022-08-02T11:56:58.475Z"
   },
   {
    "duration": 64,
    "start_time": "2022-08-02T11:56:59.933Z"
   },
   {
    "duration": 11,
    "start_time": "2022-08-02T11:58:13.346Z"
   },
   {
    "duration": 68,
    "start_time": "2022-08-02T11:58:14.347Z"
   },
   {
    "duration": 6,
    "start_time": "2022-08-02T12:02:00.565Z"
   },
   {
    "duration": 5,
    "start_time": "2022-08-02T12:02:06.726Z"
   },
   {
    "duration": 10,
    "start_time": "2022-08-02T12:02:12.740Z"
   },
   {
    "duration": 8,
    "start_time": "2022-08-02T12:02:29.561Z"
   },
   {
    "duration": 4,
    "start_time": "2022-08-02T12:02:43.228Z"
   },
   {
    "duration": 35,
    "start_time": "2022-08-02T12:02:44.230Z"
   },
   {
    "duration": 10,
    "start_time": "2022-08-02T12:03:03.156Z"
   },
   {
    "duration": 26,
    "start_time": "2022-08-02T12:03:09.626Z"
   },
   {
    "duration": 12,
    "start_time": "2022-08-02T12:03:14.188Z"
   },
   {
    "duration": 22,
    "start_time": "2022-08-02T12:03:15.539Z"
   },
   {
    "duration": 12,
    "start_time": "2022-08-02T12:03:34.624Z"
   },
   {
    "duration": 17,
    "start_time": "2022-08-02T12:04:03.235Z"
   },
   {
    "duration": 1973,
    "start_time": "2022-08-02T12:05:16.784Z"
   },
   {
    "duration": 933,
    "start_time": "2022-08-02T12:06:14.530Z"
   },
   {
    "duration": 4,
    "start_time": "2022-08-02T12:08:42.260Z"
   },
   {
    "duration": 59,
    "start_time": "2022-08-02T12:08:42.266Z"
   },
   {
    "duration": 21,
    "start_time": "2022-08-02T12:08:42.327Z"
   },
   {
    "duration": 21,
    "start_time": "2022-08-02T12:08:42.351Z"
   },
   {
    "duration": 210,
    "start_time": "2022-08-02T12:08:42.374Z"
   },
   {
    "duration": 236,
    "start_time": "2022-08-02T12:08:42.586Z"
   },
   {
    "duration": 10,
    "start_time": "2022-08-02T12:08:42.823Z"
   },
   {
    "duration": 0,
    "start_time": "2022-08-02T12:08:42.835Z"
   },
   {
    "duration": 0,
    "start_time": "2022-08-02T12:08:42.836Z"
   },
   {
    "duration": 0,
    "start_time": "2022-08-02T12:08:42.838Z"
   },
   {
    "duration": 0,
    "start_time": "2022-08-02T12:08:42.839Z"
   },
   {
    "duration": 0,
    "start_time": "2022-08-02T12:08:42.840Z"
   },
   {
    "duration": 0,
    "start_time": "2022-08-02T12:08:42.857Z"
   },
   {
    "duration": 0,
    "start_time": "2022-08-02T12:08:42.858Z"
   },
   {
    "duration": 4,
    "start_time": "2022-08-02T12:08:54.627Z"
   },
   {
    "duration": 66,
    "start_time": "2022-08-02T12:08:54.632Z"
   },
   {
    "duration": 16,
    "start_time": "2022-08-02T12:08:54.700Z"
   },
   {
    "duration": 10,
    "start_time": "2022-08-02T12:08:54.717Z"
   },
   {
    "duration": 212,
    "start_time": "2022-08-02T12:08:54.729Z"
   },
   {
    "duration": 268,
    "start_time": "2022-08-02T12:08:54.942Z"
   },
   {
    "duration": 14,
    "start_time": "2022-08-02T12:08:55.214Z"
   },
   {
    "duration": 0,
    "start_time": "2022-08-02T12:08:55.231Z"
   },
   {
    "duration": 0,
    "start_time": "2022-08-02T12:08:55.232Z"
   },
   {
    "duration": 0,
    "start_time": "2022-08-02T12:08:55.234Z"
   },
   {
    "duration": 0,
    "start_time": "2022-08-02T12:08:55.235Z"
   },
   {
    "duration": 0,
    "start_time": "2022-08-02T12:08:55.237Z"
   },
   {
    "duration": 0,
    "start_time": "2022-08-02T12:08:55.238Z"
   },
   {
    "duration": 0,
    "start_time": "2022-08-02T12:08:55.239Z"
   },
   {
    "duration": 635,
    "start_time": "2022-08-02T12:09:05.925Z"
   },
   {
    "duration": 239,
    "start_time": "2022-08-02T12:09:22.526Z"
   },
   {
    "duration": 475,
    "start_time": "2022-08-02T12:10:49.490Z"
   },
   {
    "duration": 5473,
    "start_time": "2022-08-02T12:12:19.091Z"
   },
   {
    "duration": 518,
    "start_time": "2022-08-02T12:13:10.145Z"
   },
   {
    "duration": 16,
    "start_time": "2022-08-02T12:13:44.839Z"
   },
   {
    "duration": 30316,
    "start_time": "2022-08-02T12:20:26.449Z"
   },
   {
    "duration": 221,
    "start_time": "2022-08-02T12:21:19.143Z"
   },
   {
    "duration": 195,
    "start_time": "2022-08-02T12:22:21.967Z"
   },
   {
    "duration": 22215,
    "start_time": "2022-08-02T12:25:10.468Z"
   },
   {
    "duration": 5,
    "start_time": "2022-08-02T12:25:39.078Z"
   },
   {
    "duration": 66,
    "start_time": "2022-08-02T12:25:39.086Z"
   },
   {
    "duration": 22,
    "start_time": "2022-08-02T12:25:39.154Z"
   },
   {
    "duration": 18,
    "start_time": "2022-08-02T12:25:39.178Z"
   },
   {
    "duration": 304,
    "start_time": "2022-08-02T12:25:39.199Z"
   },
   {
    "duration": 272,
    "start_time": "2022-08-02T12:25:39.505Z"
   },
   {
    "duration": 10,
    "start_time": "2022-08-02T12:25:39.779Z"
   },
   {
    "duration": 0,
    "start_time": "2022-08-02T12:25:39.791Z"
   },
   {
    "duration": 0,
    "start_time": "2022-08-02T12:25:39.793Z"
   },
   {
    "duration": 0,
    "start_time": "2022-08-02T12:25:39.795Z"
   },
   {
    "duration": 0,
    "start_time": "2022-08-02T12:25:39.797Z"
   },
   {
    "duration": 0,
    "start_time": "2022-08-02T12:25:39.798Z"
   },
   {
    "duration": 0,
    "start_time": "2022-08-02T12:25:39.800Z"
   },
   {
    "duration": 0,
    "start_time": "2022-08-02T12:25:39.801Z"
   },
   {
    "duration": 10,
    "start_time": "2022-08-02T12:25:54.177Z"
   },
   {
    "duration": 3,
    "start_time": "2022-08-02T12:26:03.674Z"
   },
   {
    "duration": 47,
    "start_time": "2022-08-02T12:26:04.273Z"
   },
   {
    "duration": 26,
    "start_time": "2022-08-02T12:26:05.727Z"
   },
   {
    "duration": 13,
    "start_time": "2022-08-02T12:26:06.704Z"
   },
   {
    "duration": 214,
    "start_time": "2022-08-02T12:26:06.945Z"
   },
   {
    "duration": 235,
    "start_time": "2022-08-02T12:26:07.233Z"
   },
   {
    "duration": 9,
    "start_time": "2022-08-02T12:26:07.545Z"
   },
   {
    "duration": 13,
    "start_time": "2022-08-02T12:26:08.185Z"
   },
   {
    "duration": 700,
    "start_time": "2022-08-02T12:26:08.681Z"
   },
   {
    "duration": 4,
    "start_time": "2022-08-02T12:26:10.673Z"
   },
   {
    "duration": 33,
    "start_time": "2022-08-02T12:26:11.856Z"
   },
   {
    "duration": 11,
    "start_time": "2022-08-02T12:26:13.753Z"
   },
   {
    "duration": 8,
    "start_time": "2022-08-02T12:26:14.698Z"
   },
   {
    "duration": 15,
    "start_time": "2022-08-02T12:26:16.033Z"
   },
   {
    "duration": 153742,
    "start_time": "2022-08-02T12:26:19.935Z"
   },
   {
    "duration": 162,
    "start_time": "2022-08-02T12:29:52.101Z"
   },
   {
    "duration": 22,
    "start_time": "2022-08-02T12:31:35.140Z"
   },
   {
    "duration": 697,
    "start_time": "2022-08-02T12:31:41.971Z"
   },
   {
    "duration": 2332,
    "start_time": "2022-08-02T12:31:47.929Z"
   },
   {
    "duration": 2235,
    "start_time": "2022-08-02T12:31:56.724Z"
   },
   {
    "duration": 3404,
    "start_time": "2022-08-02T12:32:02.459Z"
   },
   {
    "duration": 7527,
    "start_time": "2022-08-02T12:32:10.130Z"
   },
   {
    "duration": 17061,
    "start_time": "2022-08-02T12:32:55.201Z"
   },
   {
    "duration": 2376,
    "start_time": "2022-08-02T12:34:38.392Z"
   },
   {
    "duration": 5000,
    "start_time": "2022-08-02T12:34:59.567Z"
   },
   {
    "duration": 8235,
    "start_time": "2022-08-02T12:35:27.628Z"
   },
   {
    "duration": 8046,
    "start_time": "2022-08-02T12:36:22.223Z"
   },
   {
    "duration": 390,
    "start_time": "2022-08-02T12:36:49.867Z"
   },
   {
    "duration": 8836,
    "start_time": "2022-08-02T12:45:58.640Z"
   },
   {
    "duration": 7842,
    "start_time": "2022-08-02T12:46:16.326Z"
   },
   {
    "duration": 7793,
    "start_time": "2022-08-02T12:46:51.366Z"
   },
   {
    "duration": 342,
    "start_time": "2022-08-02T12:47:14.420Z"
   },
   {
    "duration": 69,
    "start_time": "2022-08-02T12:50:39.418Z"
   },
   {
    "duration": 75,
    "start_time": "2022-08-02T12:50:47.873Z"
   },
   {
    "duration": 254,
    "start_time": "2022-08-02T12:50:58.856Z"
   },
   {
    "duration": 8175,
    "start_time": "2022-08-02T12:51:09.182Z"
   },
   {
    "duration": 8895,
    "start_time": "2022-08-02T12:51:44.270Z"
   },
   {
    "duration": 7755,
    "start_time": "2022-08-02T12:51:58.013Z"
   },
   {
    "duration": 111,
    "start_time": "2022-08-02T12:53:15.357Z"
   },
   {
    "duration": 63,
    "start_time": "2022-08-02T12:53:37.763Z"
   },
   {
    "duration": 78689,
    "start_time": "2022-08-02T12:53:56.787Z"
   },
   {
    "duration": 11868,
    "start_time": "2022-08-02T12:55:18.612Z"
   },
   {
    "duration": 0,
    "start_time": "2022-08-02T12:57:35.877Z"
   },
   {
    "duration": 3,
    "start_time": "2022-08-02T12:57:40.142Z"
   },
   {
    "duration": 52,
    "start_time": "2022-08-02T12:57:40.148Z"
   },
   {
    "duration": 20,
    "start_time": "2022-08-02T12:57:40.202Z"
   },
   {
    "duration": 12,
    "start_time": "2022-08-02T12:57:40.224Z"
   },
   {
    "duration": 221,
    "start_time": "2022-08-02T12:57:40.237Z"
   },
   {
    "duration": 259,
    "start_time": "2022-08-02T12:57:40.459Z"
   },
   {
    "duration": 10,
    "start_time": "2022-08-02T12:57:40.720Z"
   },
   {
    "duration": 0,
    "start_time": "2022-08-02T12:57:40.731Z"
   },
   {
    "duration": 0,
    "start_time": "2022-08-02T12:57:40.732Z"
   },
   {
    "duration": 0,
    "start_time": "2022-08-02T12:57:40.733Z"
   },
   {
    "duration": 0,
    "start_time": "2022-08-02T12:57:40.734Z"
   },
   {
    "duration": 0,
    "start_time": "2022-08-02T12:57:40.757Z"
   },
   {
    "duration": 0,
    "start_time": "2022-08-02T12:57:40.758Z"
   },
   {
    "duration": 1,
    "start_time": "2022-08-02T12:57:40.759Z"
   },
   {
    "duration": 13307,
    "start_time": "2022-08-02T12:57:49.072Z"
   },
   {
    "duration": 6,
    "start_time": "2022-08-02T12:58:08.311Z"
   },
   {
    "duration": 46,
    "start_time": "2022-08-02T12:58:08.613Z"
   },
   {
    "duration": 17,
    "start_time": "2022-08-02T12:58:09.734Z"
   },
   {
    "duration": 12,
    "start_time": "2022-08-02T12:58:10.741Z"
   },
   {
    "duration": 218,
    "start_time": "2022-08-02T12:58:10.916Z"
   },
   {
    "duration": 269,
    "start_time": "2022-08-02T12:58:11.136Z"
   },
   {
    "duration": 9,
    "start_time": "2022-08-02T12:58:11.407Z"
   },
   {
    "duration": 17,
    "start_time": "2022-08-02T12:58:11.420Z"
   },
   {
    "duration": 584,
    "start_time": "2022-08-02T12:58:11.603Z"
   },
   {
    "duration": 4,
    "start_time": "2022-08-02T12:58:12.936Z"
   },
   {
    "duration": 34,
    "start_time": "2022-08-02T12:58:13.565Z"
   },
   {
    "duration": 12,
    "start_time": "2022-08-02T12:58:14.758Z"
   },
   {
    "duration": 8,
    "start_time": "2022-08-02T12:58:15.021Z"
   },
   {
    "duration": 36,
    "start_time": "2022-08-02T12:58:15.421Z"
   },
   {
    "duration": 30606,
    "start_time": "2022-08-02T12:58:17.766Z"
   },
   {
    "duration": 43435,
    "start_time": "2022-08-02T12:58:51.022Z"
   },
   {
    "duration": 249,
    "start_time": "2022-08-02T13:00:23.372Z"
   },
   {
    "duration": 55507,
    "start_time": "2022-08-02T13:01:16.760Z"
   },
   {
    "duration": 47,
    "start_time": "2022-08-02T13:02:54.320Z"
   },
   {
    "duration": 9,
    "start_time": "2022-08-02T13:07:13.442Z"
   },
   {
    "duration": 9,
    "start_time": "2022-08-02T13:07:52.811Z"
   },
   {
    "duration": 5,
    "start_time": "2022-08-02T13:08:09.649Z"
   },
   {
    "duration": 9,
    "start_time": "2022-08-02T13:08:10.907Z"
   },
   {
    "duration": 10,
    "start_time": "2022-08-02T13:10:54.311Z"
   },
   {
    "duration": 9,
    "start_time": "2022-08-02T13:11:07.445Z"
   },
   {
    "duration": 10,
    "start_time": "2022-08-02T13:13:22.915Z"
   },
   {
    "duration": 13,
    "start_time": "2022-08-02T13:14:29.970Z"
   },
   {
    "duration": 10,
    "start_time": "2022-08-02T13:14:56.715Z"
   },
   {
    "duration": 12,
    "start_time": "2022-08-02T13:16:17.322Z"
   },
   {
    "duration": 5,
    "start_time": "2022-08-02T13:18:16.549Z"
   },
   {
    "duration": 4,
    "start_time": "2022-08-02T13:18:25.869Z"
   },
   {
    "duration": 5,
    "start_time": "2022-08-02T13:18:44.148Z"
   },
   {
    "duration": 5,
    "start_time": "2022-08-02T13:18:44.826Z"
   },
   {
    "duration": 25,
    "start_time": "2022-08-02T13:21:22.881Z"
   },
   {
    "duration": 18,
    "start_time": "2022-08-02T13:22:04.943Z"
   },
   {
    "duration": 6,
    "start_time": "2022-08-02T13:22:39.363Z"
   },
   {
    "duration": 57,
    "start_time": "2022-08-02T13:22:39.372Z"
   },
   {
    "duration": 19,
    "start_time": "2022-08-02T13:22:39.431Z"
   },
   {
    "duration": 17,
    "start_time": "2022-08-02T13:22:39.452Z"
   },
   {
    "duration": 258,
    "start_time": "2022-08-02T13:22:39.473Z"
   },
   {
    "duration": 261,
    "start_time": "2022-08-02T13:22:39.733Z"
   },
   {
    "duration": 11,
    "start_time": "2022-08-02T13:22:39.996Z"
   },
   {
    "duration": 0,
    "start_time": "2022-08-02T13:22:40.008Z"
   },
   {
    "duration": 0,
    "start_time": "2022-08-02T13:22:40.010Z"
   },
   {
    "duration": 0,
    "start_time": "2022-08-02T13:22:40.011Z"
   },
   {
    "duration": 0,
    "start_time": "2022-08-02T13:22:40.013Z"
   },
   {
    "duration": 33,
    "start_time": "2022-08-02T13:22:48.919Z"
   },
   {
    "duration": 4,
    "start_time": "2022-08-02T13:22:53.280Z"
   },
   {
    "duration": 19,
    "start_time": "2022-08-02T13:22:58.620Z"
   },
   {
    "duration": 31,
    "start_time": "2022-08-02T13:34:40.769Z"
   },
   {
    "duration": 25,
    "start_time": "2022-08-02T13:36:04.464Z"
   },
   {
    "duration": 14,
    "start_time": "2022-08-02T13:36:46.583Z"
   },
   {
    "duration": 4,
    "start_time": "2022-08-02T13:37:01.521Z"
   },
   {
    "duration": 77,
    "start_time": "2022-08-02T13:37:01.527Z"
   },
   {
    "duration": 18,
    "start_time": "2022-08-02T13:37:01.605Z"
   },
   {
    "duration": 27,
    "start_time": "2022-08-02T13:37:01.624Z"
   },
   {
    "duration": 234,
    "start_time": "2022-08-02T13:37:01.653Z"
   },
   {
    "duration": 361,
    "start_time": "2022-08-02T13:37:01.889Z"
   },
   {
    "duration": 12,
    "start_time": "2022-08-02T13:37:02.252Z"
   },
   {
    "duration": 0,
    "start_time": "2022-08-02T13:37:02.266Z"
   },
   {
    "duration": 0,
    "start_time": "2022-08-02T13:37:02.267Z"
   },
   {
    "duration": 0,
    "start_time": "2022-08-02T13:37:02.268Z"
   },
   {
    "duration": 45,
    "start_time": "2022-08-02T13:37:05.262Z"
   },
   {
    "duration": 15,
    "start_time": "2022-08-02T13:37:07.062Z"
   },
   {
    "duration": 24,
    "start_time": "2022-08-02T13:37:15.824Z"
   },
   {
    "duration": 13,
    "start_time": "2022-08-02T13:37:29.757Z"
   },
   {
    "duration": 37,
    "start_time": "2022-08-02T13:37:48.025Z"
   },
   {
    "duration": 5,
    "start_time": "2022-08-02T13:41:39.680Z"
   },
   {
    "duration": 11,
    "start_time": "2022-08-02T13:41:51.552Z"
   },
   {
    "duration": 6,
    "start_time": "2022-08-02T13:42:30.159Z"
   },
   {
    "duration": 5,
    "start_time": "2022-08-02T13:42:57.542Z"
   },
   {
    "duration": 12,
    "start_time": "2022-08-02T13:45:15.420Z"
   },
   {
    "duration": 31,
    "start_time": "2022-08-02T13:46:10.161Z"
   },
   {
    "duration": 7,
    "start_time": "2022-08-02T13:47:02.455Z"
   },
   {
    "duration": 7,
    "start_time": "2022-08-02T13:47:09.191Z"
   },
   {
    "duration": 4,
    "start_time": "2022-08-02T13:47:46.274Z"
   },
   {
    "duration": 54,
    "start_time": "2022-08-02T13:47:46.280Z"
   },
   {
    "duration": 19,
    "start_time": "2022-08-02T13:47:46.336Z"
   },
   {
    "duration": 12,
    "start_time": "2022-08-02T13:47:46.357Z"
   },
   {
    "duration": 219,
    "start_time": "2022-08-02T13:47:46.371Z"
   },
   {
    "duration": 238,
    "start_time": "2022-08-02T13:47:46.592Z"
   },
   {
    "duration": 10,
    "start_time": "2022-08-02T13:47:46.831Z"
   },
   {
    "duration": 0,
    "start_time": "2022-08-02T13:47:46.842Z"
   },
   {
    "duration": 0,
    "start_time": "2022-08-02T13:47:46.844Z"
   },
   {
    "duration": 0,
    "start_time": "2022-08-02T13:47:46.857Z"
   },
   {
    "duration": 0,
    "start_time": "2022-08-02T13:47:46.858Z"
   },
   {
    "duration": 0,
    "start_time": "2022-08-02T13:47:46.860Z"
   },
   {
    "duration": 14,
    "start_time": "2022-08-02T13:47:53.768Z"
   },
   {
    "duration": 4,
    "start_time": "2022-08-02T13:48:09.855Z"
   },
   {
    "duration": 48,
    "start_time": "2022-08-02T13:48:10.046Z"
   },
   {
    "duration": 20,
    "start_time": "2022-08-02T13:48:10.535Z"
   },
   {
    "duration": 13,
    "start_time": "2022-08-02T13:48:11.461Z"
   },
   {
    "duration": 224,
    "start_time": "2022-08-02T13:48:11.935Z"
   },
   {
    "duration": 259,
    "start_time": "2022-08-02T13:48:12.161Z"
   },
   {
    "duration": 9,
    "start_time": "2022-08-02T13:48:12.422Z"
   },
   {
    "duration": 18,
    "start_time": "2022-08-02T13:48:12.446Z"
   },
   {
    "duration": 589,
    "start_time": "2022-08-02T13:48:13.573Z"
   },
   {
    "duration": 5,
    "start_time": "2022-08-02T13:48:15.639Z"
   },
   {
    "duration": 35,
    "start_time": "2022-08-02T13:48:16.618Z"
   },
   {
    "duration": 46,
    "start_time": "2022-08-02T13:48:17.447Z"
   },
   {
    "duration": 5,
    "start_time": "2022-08-02T13:48:23.525Z"
   },
   {
    "duration": 6,
    "start_time": "2022-08-02T13:48:23.925Z"
   },
   {
    "duration": 5,
    "start_time": "2022-08-02T13:48:24.333Z"
   },
   {
    "duration": 15,
    "start_time": "2022-08-02T13:48:26.816Z"
   },
   {
    "duration": 31,
    "start_time": "2022-08-02T13:48:28.957Z"
   },
   {
    "duration": 20,
    "start_time": "2022-08-02T13:49:22.388Z"
   },
   {
    "duration": 16,
    "start_time": "2022-08-02T13:49:26.972Z"
   },
   {
    "duration": 9,
    "start_time": "2022-08-02T13:49:28.323Z"
   },
   {
    "duration": 79103,
    "start_time": "2022-08-02T13:49:42.261Z"
   },
   {
    "duration": 137,
    "start_time": "2022-08-02T13:51:13.124Z"
   },
   {
    "duration": 73,
    "start_time": "2022-08-02T13:51:25.784Z"
   },
   {
    "duration": 36,
    "start_time": "2022-08-02T13:51:27.120Z"
   },
   {
    "duration": 44,
    "start_time": "2022-08-02T14:01:18.926Z"
   },
   {
    "duration": 35550,
    "start_time": "2022-08-02T14:02:20.614Z"
   },
   {
    "duration": 30848,
    "start_time": "2022-08-02T14:03:42.325Z"
   },
   {
    "duration": 17,
    "start_time": "2022-08-02T14:11:10.013Z"
   },
   {
    "duration": 10,
    "start_time": "2022-08-02T14:11:11.573Z"
   },
   {
    "duration": 3,
    "start_time": "2022-08-02T14:11:38.724Z"
   },
   {
    "duration": 2,
    "start_time": "2022-08-02T14:11:53.334Z"
   },
   {
    "duration": 2,
    "start_time": "2022-08-02T14:11:58.231Z"
   },
   {
    "duration": 18,
    "start_time": "2022-08-02T14:12:05.231Z"
   },
   {
    "duration": 14,
    "start_time": "2022-08-02T14:12:07.024Z"
   },
   {
    "duration": 10,
    "start_time": "2022-08-02T14:12:08.931Z"
   },
   {
    "duration": 216,
    "start_time": "2022-08-02T14:12:58.348Z"
   },
   {
    "duration": 4,
    "start_time": "2022-08-02T14:13:24.174Z"
   },
   {
    "duration": 58,
    "start_time": "2022-08-02T14:13:24.338Z"
   },
   {
    "duration": 18,
    "start_time": "2022-08-02T14:13:24.836Z"
   },
   {
    "duration": 14,
    "start_time": "2022-08-02T14:13:25.338Z"
   },
   {
    "duration": 251,
    "start_time": "2022-08-02T14:13:25.522Z"
   },
   {
    "duration": 254,
    "start_time": "2022-08-02T14:13:25.775Z"
   },
   {
    "duration": 13,
    "start_time": "2022-08-02T14:13:26.031Z"
   },
   {
    "duration": 0,
    "start_time": "2022-08-02T14:13:26.057Z"
   },
   {
    "duration": 677,
    "start_time": "2022-08-02T14:13:26.220Z"
   },
   {
    "duration": 4,
    "start_time": "2022-08-02T14:13:27.283Z"
   },
   {
    "duration": 46,
    "start_time": "2022-08-02T14:13:27.643Z"
   },
   {
    "duration": 2,
    "start_time": "2022-08-02T14:13:28.024Z"
   },
   {
    "duration": 2,
    "start_time": "2022-08-02T14:13:28.417Z"
   },
   {
    "duration": 3,
    "start_time": "2022-08-02T14:13:29.234Z"
   },
   {
    "duration": 2,
    "start_time": "2022-08-02T14:13:29.418Z"
   },
   {
    "duration": 2,
    "start_time": "2022-08-02T14:13:29.570Z"
   },
   {
    "duration": 2,
    "start_time": "2022-08-02T14:13:29.753Z"
   },
   {
    "duration": 12,
    "start_time": "2022-08-02T14:13:32.224Z"
   },
   {
    "duration": 7,
    "start_time": "2022-08-02T14:13:33.139Z"
   },
   {
    "duration": 20,
    "start_time": "2022-08-02T14:13:34.346Z"
   },
   {
    "duration": 287736,
    "start_time": "2022-08-02T14:14:35.139Z"
   },
   {
    "duration": 14,
    "start_time": "2022-08-02T14:22:41.021Z"
   },
   {
    "duration": 5,
    "start_time": "2022-08-02T14:25:41.261Z"
   },
   {
    "duration": 12,
    "start_time": "2022-08-02T14:26:38.692Z"
   },
   {
    "duration": 4,
    "start_time": "2022-08-02T14:27:09.292Z"
   },
   {
    "duration": 49,
    "start_time": "2022-08-02T14:27:10.436Z"
   },
   {
    "duration": 19,
    "start_time": "2022-08-02T14:27:10.934Z"
   },
   {
    "duration": 12,
    "start_time": "2022-08-02T14:27:13.361Z"
   },
   {
    "duration": 213,
    "start_time": "2022-08-02T14:27:13.532Z"
   },
   {
    "duration": 265,
    "start_time": "2022-08-02T14:27:13.747Z"
   },
   {
    "duration": 9,
    "start_time": "2022-08-02T14:27:14.014Z"
   },
   {
    "duration": 33,
    "start_time": "2022-08-02T14:27:14.029Z"
   },
   {
    "duration": 613,
    "start_time": "2022-08-02T14:27:14.418Z"
   },
   {
    "duration": 6,
    "start_time": "2022-08-02T14:27:15.451Z"
   },
   {
    "duration": 34,
    "start_time": "2022-08-02T14:27:16.651Z"
   },
   {
    "duration": 3,
    "start_time": "2022-08-02T14:27:17.083Z"
   },
   {
    "duration": 2,
    "start_time": "2022-08-02T14:27:17.570Z"
   },
   {
    "duration": 2,
    "start_time": "2022-08-02T14:27:18.430Z"
   },
   {
    "duration": 2,
    "start_time": "2022-08-02T14:27:18.570Z"
   },
   {
    "duration": 2,
    "start_time": "2022-08-02T14:27:18.946Z"
   },
   {
    "duration": 3,
    "start_time": "2022-08-02T14:27:21.050Z"
   },
   {
    "duration": 12,
    "start_time": "2022-08-02T14:27:26.037Z"
   },
   {
    "duration": 13,
    "start_time": "2022-08-02T14:27:26.970Z"
   },
   {
    "duration": 176977,
    "start_time": "2022-08-02T14:27:31.117Z"
   },
   {
    "duration": 84237,
    "start_time": "2022-08-02T14:30:31.334Z"
   },
   {
    "duration": 9,
    "start_time": "2022-08-02T14:39:28.147Z"
   },
   {
    "duration": 4,
    "start_time": "2022-08-02T14:39:36.630Z"
   },
   {
    "duration": 12,
    "start_time": "2022-08-02T14:42:53.951Z"
   },
   {
    "duration": 12,
    "start_time": "2022-08-02T14:43:46.262Z"
   },
   {
    "duration": 11,
    "start_time": "2022-08-02T14:44:06.882Z"
   },
   {
    "duration": 11,
    "start_time": "2022-08-02T14:44:32.030Z"
   },
   {
    "duration": 3,
    "start_time": "2022-08-02T14:47:13.930Z"
   },
   {
    "duration": 3,
    "start_time": "2022-08-02T14:47:36.289Z"
   },
   {
    "duration": 19,
    "start_time": "2022-08-02T14:50:18.734Z"
   },
   {
    "duration": 18,
    "start_time": "2022-08-02T14:50:53.334Z"
   },
   {
    "duration": 1731,
    "start_time": "2022-08-02T14:56:00.727Z"
   },
   {
    "duration": 0,
    "start_time": "2022-08-02T14:56:02.460Z"
   },
   {
    "duration": 1792,
    "start_time": "2022-08-02T14:56:44.790Z"
   },
   {
    "duration": 0,
    "start_time": "2022-08-02T14:56:46.585Z"
   },
   {
    "duration": 1675,
    "start_time": "2022-08-02T14:57:48.740Z"
   },
   {
    "duration": 0,
    "start_time": "2022-08-02T14:57:50.417Z"
   },
   {
    "duration": 1788,
    "start_time": "2022-08-02T15:00:30.881Z"
   },
   {
    "duration": 1770,
    "start_time": "2022-08-02T15:00:46.065Z"
   },
   {
    "duration": 1731,
    "start_time": "2022-08-02T15:01:12.152Z"
   },
   {
    "duration": 1788,
    "start_time": "2022-08-02T15:01:37.073Z"
   },
   {
    "duration": 14,
    "start_time": "2022-08-02T15:03:36.016Z"
   },
   {
    "duration": 4,
    "start_time": "2022-08-02T15:05:13.460Z"
   },
   {
    "duration": 4,
    "start_time": "2022-08-02T15:05:14.226Z"
   },
   {
    "duration": 61698,
    "start_time": "2022-08-02T15:05:15.001Z"
   },
   {
    "duration": 543,
    "start_time": "2022-08-02T15:06:16.701Z"
   },
   {
    "duration": 1550,
    "start_time": "2022-08-03T05:05:03.933Z"
   },
   {
    "duration": 122,
    "start_time": "2022-08-03T05:05:05.485Z"
   },
   {
    "duration": 23,
    "start_time": "2022-08-03T05:05:08.444Z"
   },
   {
    "duration": 16,
    "start_time": "2022-08-03T05:05:22.131Z"
   },
   {
    "duration": 283,
    "start_time": "2022-08-03T05:05:22.723Z"
   },
   {
    "duration": 243,
    "start_time": "2022-08-03T05:05:24.235Z"
   },
   {
    "duration": 126,
    "start_time": "2022-08-03T05:05:24.481Z"
   },
   {
    "duration": 12,
    "start_time": "2022-08-03T05:05:26.739Z"
   },
   {
    "duration": 775,
    "start_time": "2022-08-03T05:05:27.712Z"
   },
   {
    "duration": 4,
    "start_time": "2022-08-03T05:05:34.635Z"
   },
   {
    "duration": 35,
    "start_time": "2022-08-03T05:06:07.815Z"
   },
   {
    "duration": 12,
    "start_time": "2022-08-03T05:12:20.984Z"
   },
   {
    "duration": 3,
    "start_time": "2022-08-03T05:12:41.427Z"
   },
   {
    "duration": 6,
    "start_time": "2022-08-03T05:12:41.918Z"
   },
   {
    "duration": 5,
    "start_time": "2022-08-03T05:12:42.437Z"
   },
   {
    "duration": 11,
    "start_time": "2022-08-03T05:12:42.958Z"
   },
   {
    "duration": 27,
    "start_time": "2022-08-03T05:13:08.977Z"
   },
   {
    "duration": 13,
    "start_time": "2022-08-03T05:15:39.627Z"
   },
   {
    "duration": 2012,
    "start_time": "2022-08-03T05:15:57.072Z"
   },
   {
    "duration": 15,
    "start_time": "2022-08-03T05:16:06.443Z"
   },
   {
    "duration": 2,
    "start_time": "2022-08-03T05:16:48.747Z"
   },
   {
    "duration": 4,
    "start_time": "2022-08-03T05:16:49.845Z"
   },
   {
    "duration": 3,
    "start_time": "2022-08-03T05:16:51.427Z"
   },
   {
    "duration": 72460,
    "start_time": "2022-08-03T05:16:54.834Z"
   },
   {
    "duration": 631,
    "start_time": "2022-08-03T05:18:11.851Z"
   },
   {
    "duration": 51,
    "start_time": "2022-08-03T05:20:25.046Z"
   },
   {
    "duration": 617,
    "start_time": "2022-08-03T05:20:33.553Z"
   },
   {
    "duration": 4,
    "start_time": "2022-08-03T05:21:43.493Z"
   },
   {
    "duration": 203019,
    "start_time": "2022-08-03T05:21:44.535Z"
   },
   {
    "duration": 0,
    "start_time": "2022-08-03T05:25:07.556Z"
   },
   {
    "duration": 0,
    "start_time": "2022-08-03T05:33:11.496Z"
   },
   {
    "duration": 0,
    "start_time": "2022-08-03T05:33:11.498Z"
   },
   {
    "duration": 3,
    "start_time": "2022-08-03T05:33:18.143Z"
   },
   {
    "duration": 169779,
    "start_time": "2022-08-03T05:33:20.042Z"
   },
   {
    "duration": 3,
    "start_time": "2022-08-03T05:36:17.688Z"
   },
   {
    "duration": 0,
    "start_time": "2022-08-03T05:37:55.645Z"
   },
   {
    "duration": 0,
    "start_time": "2022-08-03T05:37:55.646Z"
   },
   {
    "duration": 4,
    "start_time": "2022-08-03T05:38:02.594Z"
   },
   {
    "duration": 67,
    "start_time": "2022-08-03T05:38:02.600Z"
   },
   {
    "duration": 21,
    "start_time": "2022-08-03T05:38:02.669Z"
   },
   {
    "duration": 11,
    "start_time": "2022-08-03T05:38:02.692Z"
   },
   {
    "duration": 225,
    "start_time": "2022-08-03T05:38:02.706Z"
   },
   {
    "duration": 280,
    "start_time": "2022-08-03T05:38:02.932Z"
   },
   {
    "duration": 10,
    "start_time": "2022-08-03T05:38:03.214Z"
   },
   {
    "duration": 0,
    "start_time": "2022-08-03T05:38:03.226Z"
   },
   {
    "duration": 0,
    "start_time": "2022-08-03T05:38:03.228Z"
   },
   {
    "duration": 0,
    "start_time": "2022-08-03T05:38:03.230Z"
   },
   {
    "duration": 0,
    "start_time": "2022-08-03T05:38:03.231Z"
   },
   {
    "duration": 0,
    "start_time": "2022-08-03T05:38:03.233Z"
   },
   {
    "duration": 0,
    "start_time": "2022-08-03T05:38:03.234Z"
   },
   {
    "duration": 0,
    "start_time": "2022-08-03T05:38:03.235Z"
   },
   {
    "duration": 0,
    "start_time": "2022-08-03T05:38:03.235Z"
   },
   {
    "duration": 0,
    "start_time": "2022-08-03T05:38:03.236Z"
   },
   {
    "duration": 0,
    "start_time": "2022-08-03T05:38:03.238Z"
   },
   {
    "duration": 0,
    "start_time": "2022-08-03T05:38:03.239Z"
   },
   {
    "duration": 0,
    "start_time": "2022-08-03T05:38:03.240Z"
   },
   {
    "duration": 0,
    "start_time": "2022-08-03T05:38:03.241Z"
   },
   {
    "duration": 0,
    "start_time": "2022-08-03T05:38:03.243Z"
   },
   {
    "duration": 0,
    "start_time": "2022-08-03T05:38:03.244Z"
   },
   {
    "duration": 0,
    "start_time": "2022-08-03T05:38:03.246Z"
   },
   {
    "duration": 4,
    "start_time": "2022-08-03T05:38:06.388Z"
   },
   {
    "duration": 72278,
    "start_time": "2022-08-03T05:38:07.852Z"
   },
   {
    "duration": 604,
    "start_time": "2022-08-03T05:39:26.678Z"
   },
   {
    "duration": 4,
    "start_time": "2022-08-03T05:40:31.163Z"
   },
   {
    "duration": 115655,
    "start_time": "2022-08-03T05:40:32.158Z"
   },
   {
    "duration": 634,
    "start_time": "2022-08-03T05:43:32.943Z"
   },
   {
    "duration": 4,
    "start_time": "2022-08-03T05:44:34.983Z"
   },
   {
    "duration": 149774,
    "start_time": "2022-08-03T05:44:36.932Z"
   },
   {
    "duration": 839,
    "start_time": "2022-08-03T05:47:26.027Z"
   },
   {
    "duration": 102564,
    "start_time": "2022-08-03T05:47:43.324Z"
   },
   {
    "duration": 116068,
    "start_time": "2022-08-03T05:50:21.822Z"
   },
   {
    "duration": 58,
    "start_time": "2022-08-03T05:54:17.393Z"
   },
   {
    "duration": 4,
    "start_time": "2022-08-03T05:55:54.623Z"
   },
   {
    "duration": 273,
    "start_time": "2022-08-03T05:56:16.057Z"
   },
   {
    "duration": 12,
    "start_time": "2022-08-03T05:56:28.953Z"
   },
   {
    "duration": 10,
    "start_time": "2022-08-03T06:00:39.934Z"
   },
   {
    "duration": 6,
    "start_time": "2022-08-03T06:00:57.925Z"
   },
   {
    "duration": 274,
    "start_time": "2022-08-03T06:02:00.568Z"
   },
   {
    "duration": 7,
    "start_time": "2022-08-03T06:05:30.720Z"
   },
   {
    "duration": 516,
    "start_time": "2022-08-03T06:05:41.295Z"
   },
   {
    "duration": 17,
    "start_time": "2022-08-03T06:08:07.738Z"
   },
   {
    "duration": 2182,
    "start_time": "2022-08-03T06:08:56.456Z"
   },
   {
    "duration": 4,
    "start_time": "2022-08-03T06:09:53.918Z"
   },
   {
    "duration": 8,
    "start_time": "2022-08-03T06:10:00.014Z"
   },
   {
    "duration": 59,
    "start_time": "2022-08-03T06:10:02.318Z"
   },
   {
    "duration": 21,
    "start_time": "2022-08-03T06:10:03.255Z"
   },
   {
    "duration": 12,
    "start_time": "2022-08-03T06:10:04.359Z"
   },
   {
    "duration": 243,
    "start_time": "2022-08-03T06:10:04.736Z"
   },
   {
    "duration": 300,
    "start_time": "2022-08-03T06:10:05.121Z"
   },
   {
    "duration": 18,
    "start_time": "2022-08-03T06:10:05.793Z"
   },
   {
    "duration": 17,
    "start_time": "2022-08-03T06:10:06.391Z"
   },
   {
    "duration": 678,
    "start_time": "2022-08-03T06:10:40.783Z"
   },
   {
    "duration": 5,
    "start_time": "2022-08-03T06:11:00.935Z"
   },
   {
    "duration": 8,
    "start_time": "2022-08-03T06:11:01.767Z"
   },
   {
    "duration": 53,
    "start_time": "2022-08-03T06:11:02.277Z"
   },
   {
    "duration": 19,
    "start_time": "2022-08-03T06:11:03.742Z"
   },
   {
    "duration": 12,
    "start_time": "2022-08-03T06:11:05.426Z"
   },
   {
    "duration": 273,
    "start_time": "2022-08-03T06:11:06.069Z"
   },
   {
    "duration": 271,
    "start_time": "2022-08-03T06:11:06.846Z"
   },
   {
    "duration": 21,
    "start_time": "2022-08-03T06:11:08.192Z"
   },
   {
    "duration": 717,
    "start_time": "2022-08-03T06:11:09.116Z"
   },
   {
    "duration": 4,
    "start_time": "2022-08-03T06:11:13.319Z"
   },
   {
    "duration": 37,
    "start_time": "2022-08-03T06:11:18.125Z"
   },
   {
    "duration": 5,
    "start_time": "2022-08-03T06:11:19.820Z"
   },
   {
    "duration": 5,
    "start_time": "2022-08-03T06:11:20.453Z"
   },
   {
    "duration": 6,
    "start_time": "2022-08-03T06:11:21.139Z"
   },
   {
    "duration": 14,
    "start_time": "2022-08-03T06:11:21.793Z"
   },
   {
    "duration": 27,
    "start_time": "2022-08-03T06:11:27.422Z"
   },
   {
    "duration": 11,
    "start_time": "2022-08-03T06:11:37.122Z"
   },
   {
    "duration": 2240,
    "start_time": "2022-08-03T06:11:42.826Z"
   },
   {
    "duration": 6,
    "start_time": "2022-08-03T06:12:14.024Z"
   },
   {
    "duration": 3,
    "start_time": "2022-08-03T06:12:22.772Z"
   },
   {
    "duration": 172081,
    "start_time": "2022-08-03T06:12:29.381Z"
   },
   {
    "duration": 104191,
    "start_time": "2022-08-03T06:15:32.720Z"
   },
   {
    "duration": 440,
    "start_time": "2022-08-03T06:18:42.067Z"
   }
  ],
  "kernelspec": {
   "display_name": "Python 3 (ipykernel)",
   "language": "python",
   "name": "python3"
  },
  "language_info": {
   "codemirror_mode": {
    "name": "ipython",
    "version": 3
   },
   "file_extension": ".py",
   "mimetype": "text/x-python",
   "name": "python",
   "nbconvert_exporter": "python",
   "pygments_lexer": "ipython3",
   "version": "3.9.5"
  },
  "toc": {
   "base_numbering": 1,
   "nav_menu": {},
   "number_sections": true,
   "sideBar": true,
   "skip_h1_title": true,
   "title_cell": "Table of Contents",
   "title_sidebar": "Contents",
   "toc_cell": false,
   "toc_position": {},
   "toc_section_display": true,
   "toc_window_display": false
  }
 },
 "nbformat": 4,
 "nbformat_minor": 2
}
