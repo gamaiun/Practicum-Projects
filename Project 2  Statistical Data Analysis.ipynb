{
 "cells": [
  {
   "cell_type": "markdown",
   "metadata": {
    "id": "SB8msEm7EokS"
   },
   "source": [
    "We recieved data files of telecom operator Megaline, that offers its clients two prepaid plans, Surf and Ultimate. Our main task is to determine which of the plans brings in more revenue in order to adjust the advertising budget.\n",
    "\n",
    "We will end the task by checking two hypotheses proposed by the admin. "
   ]
  },
  {
   "cell_type": "code",
   "execution_count": 1,
   "metadata": {
    "id": "eIEJ6-SYJz8X"
   },
   "outputs": [],
   "source": [
    "# Loading all the libraries\n",
    "\n",
    "import pandas as pd\n",
    "import numpy as np\n",
    "import seaborn as sns\n",
    "import matplotlib.pyplot as plt\n",
    "from IPython.display import set_matplotlib_formats\n",
    "from scipy import stats \n",
    "import matplotlib_inline.backend_inline\n",
    "import math\n",
    "\n",
    "pd.options.mode.chained_assignment = None  \n",
    "\n",
    "### These lines will make the graphs much crisper\n",
    "\n",
    "#if isinstance('svg', str):\n",
    "#   ipython_format = ['svg']\n",
    "#   matplotlib_inline.backend_inline.set_matplotlib_formats(*ipython_format)"
   ]
  },
  {
   "cell_type": "markdown",
   "metadata": {
    "id": "rl5tK8YzMAFQ"
   },
   "source": [
    "First' let's load the data:"
   ]
  },
  {
   "cell_type": "code",
   "execution_count": 2,
   "metadata": {
    "id": "3rQrDvaYKEun"
   },
   "outputs": [],
   "source": [
    "# Load the data files into raw_data df.\n",
    "\n",
    "try:\n",
    "  raw_calls = pd.read_csv(\"/content/sample_data/megaline_calls.csv\", )\n",
    "except: \n",
    "  raw_calls = pd.read_csv(\"/datasets/megaline_calls.csv\", )\n",
    "\n",
    "try:\n",
    "  raw_internet = pd.read_csv(\"/content/sample_data/megaline_internet.csv\", )\n",
    "except: \n",
    "  raw_internet = pd.read_csv(\"/datasets/megaline_internet.csv\", )\n",
    "\n",
    "try:\n",
    "  raw_messages = pd.read_csv(\"/content/sample_data/megaline_messages.csv\", )\n",
    "except: \n",
    "  raw_messages = pd.read_csv(\"/datasets/megaline_messages.csv\", )\n",
    "\n",
    "try:\n",
    "  raw_plans = pd.read_csv(\"/content/sample_data/megaline_plans.csv\", )\n",
    "except: \n",
    "  raw_plans = pd.read_csv(\"/datasets/megaline_plans.csv\", )\n",
    "\n",
    "try:\n",
    "  raw_users = pd.read_csv(\"/content/sample_data/megaline_users.csv\", )\n",
    "except: \n",
    "  raw_users = pd.read_csv(\"/datasets/megaline_users.csv\", )"
   ]
  },
  {
   "cell_type": "markdown",
   "metadata": {
    "id": "x-qi6uSJL8WH"
   },
   "source": [
    "<div class=\"alert alert-block alert-success\">\n",
    "<b>Reviewer's comment</b> <a class=\"tocSkip\"></a>\n",
    "\n",
    "Great job using **try-except** construction!\n",
    "Really helpful when you want your script to work both locally and on the platform.\n",
    "</div>"
   ]
  },
  {
   "cell_type": "markdown",
   "metadata": {
    "id": "s7yTeJSsN_SQ"
   },
   "source": [
    "In order to understand what is going on in our data we should check each file separately, as looping through won't help us here... "
   ]
  },
  {
   "cell_type": "code",
   "execution_count": 3,
   "metadata": {
    "colab": {
     "base_uri": "https://localhost:8080/"
    },
    "id": "RqMncPkYMc-J",
    "outputId": "3da549a0-2a56-41b2-886c-158d78bb299e"
   },
   "outputs": [
    {
     "name": "stdout",
     "output_type": "stream",
     "text": [
      "*********************************************\n",
      "******************🅳🅰🆃🅰*******************\n",
      "*********************************************\n",
      " \n",
      "         id  user_id   call_date  duration\n",
      "0   1000_93     1000  2018-12-27      8.52\n",
      "1  1000_145     1000  2018-12-27     13.66\n",
      "2  1000_247     1000  2018-12-27     14.48\n",
      "3  1000_309     1000  2018-12-28      5.76\n",
      "4  1000_380     1000  2018-12-30      4.22\n",
      " \n",
      "*********************************************\n",
      "******************🅸🅽🅵🅾*******************\n",
      "*********************************************\n",
      " \n",
      "<class 'pandas.core.frame.DataFrame'>\n",
      "RangeIndex: 137735 entries, 0 to 137734\n",
      "Data columns (total 4 columns):\n",
      "id           137735 non-null object\n",
      "user_id      137735 non-null int64\n",
      "call_date    137735 non-null object\n",
      "duration     137735 non-null float64\n",
      "dtypes: float64(1), int64(1), object(2)\n",
      "memory usage: 4.2+ MB\n",
      " \n",
      "*********************************************\n",
      "****🅳🆄🆁🅰🆃🅸🅾🅽  🅲🅾🅻🆄🅼🅽  🆂🆃🅰🆃🆂****\n",
      "*********************************************\n",
      " \n"
     ]
    },
    {
     "data": {
      "text/plain": [
       "count    137735.000000\n",
       "mean          6.745927\n",
       "std           5.839241\n",
       "min           0.000000\n",
       "25%           1.290000\n",
       "50%           5.980000\n",
       "75%          10.690000\n",
       "max          37.600000\n",
       "Name: duration, dtype: float64"
      ]
     },
     "execution_count": 3,
     "metadata": {},
     "output_type": "execute_result"
    }
   ],
   "source": [
    "print(\"*********************************************\")\n",
    "print(\"******************🅳🅰🆃🅰*******************\")\n",
    "print(\"*********************************************\")\n",
    "print(\" \")\n",
    "print(raw_calls.head(5))\n",
    "print(\" \")\n",
    "print(\"*********************************************\")\n",
    "print(\"******************🅸🅽🅵🅾*******************\")\n",
    "print(\"*********************************************\")\n",
    "print(\" \")\n",
    "raw_calls.info()\n",
    "print(\" \")\n",
    "print(\"*********************************************\")\n",
    "print(\"****🅳🆄🆁🅰🆃🅸🅾🅽  🅲🅾🅻🆄🅼🅽  🆂🆃🅰🆃🆂****\")\n",
    "print(\"*********************************************\")\n",
    "print(\" \")\n",
    "raw_calls.duration.describe()"
   ]
  },
  {
   "cell_type": "markdown",
   "metadata": {
    "id": "z-w84jOIOms4"
   },
   "source": [
    "raw_calls file contains a 4/137735  table. No nans. The tables ***duration*** and ***user_id*** look ok, but  ***call_date:*** must change the type to dateframe. \n",
    "At this point I choose not to change the type of the ***id*** column to numeric. For now I will leave it as string. \n",
    "\n",
    "From the project description we know that the call duration should be rounded up to the closest minute. \n",
    "So let's change the ***date_call*** type and round the seconds up to the closest minute. "
   ]
  },
  {
   "cell_type": "code",
   "execution_count": 4,
   "metadata": {
    "colab": {
     "base_uri": "https://localhost:8080/"
    },
    "id": "HP2rlhjPOMG4",
    "outputId": "0042bd00-6c10-4408-e8f8-4c5df8193262"
   },
   "outputs": [
    {
     "name": "stdout",
     "output_type": "stream",
     "text": [
      " \n",
      "*********************************************\n",
      "******************🅸🅽🅵🅾*******************\n",
      "*********************************************\n",
      " \n",
      "<class 'pandas.core.frame.DataFrame'>\n",
      "RangeIndex: 137735 entries, 0 to 137734\n",
      "Data columns (total 4 columns):\n",
      "id           137735 non-null object\n",
      "user_id      137735 non-null int64\n",
      "call_date    137735 non-null datetime64[ns]\n",
      "duration     137735 non-null float64\n",
      "dtypes: datetime64[ns](1), float64(1), int64(1), object(1)\n",
      "memory usage: 4.2+ MB\n",
      " \n",
      "*********************************************\n",
      "****🅳🆄🆁🅰🆃🅸🅾🅽  🅲🅾🅻🆄🅼🅽  🆂🆃🅰🆃🆂****\n",
      "*********************************************\n",
      " \n",
      "0     9.0\n",
      "1    14.0\n",
      "2    15.0\n",
      "3     6.0\n",
      "4     5.0\n",
      "Name: duration, dtype: float64\n"
     ]
    }
   ],
   "source": [
    "# Changing the call date type to datetime\n",
    "\n",
    "raw_calls.call_date = pd.to_datetime(raw_calls.call_date, format='%Y-%m-%d')\n",
    "\n",
    "# Rounding the durutions up\n",
    "\n",
    "raw_calls.duration = raw_calls.duration.apply(np.ceil)\n",
    "\n",
    "# Check:\n",
    "print(\" \")\n",
    "print(\"*********************************************\")\n",
    "print(\"******************🅸🅽🅵🅾*******************\")\n",
    "print(\"*********************************************\")\n",
    "print(\" \")\n",
    "raw_calls.info()\n",
    "print(\" \")\n",
    "print(\"*********************************************\")\n",
    "print(\"****🅳🆄🆁🅰🆃🅸🅾🅽  🅲🅾🅻🆄🅼🅽  🆂🆃🅰🆃🆂****\")\n",
    "print(\"*********************************************\")\n",
    "print(\" \")\n",
    "print(raw_calls.duration.head(5))"
   ]
  },
  {
   "cell_type": "markdown",
   "metadata": {
    "id": "yWnmkCqnTO62"
   },
   "source": [
    "Great, 8.52 changed to 9 and numerics to datetime.\n",
    "\n",
    "Our next table is ***raw_internet***. Let's see what is going on there:"
   ]
  },
  {
   "cell_type": "code",
   "execution_count": 5,
   "metadata": {
    "colab": {
     "base_uri": "https://localhost:8080/"
    },
    "id": "4bnK-1a8PPqw",
    "outputId": "c63574a1-6349-4ed2-aedd-dcb5269cf346"
   },
   "outputs": [
    {
     "name": "stdout",
     "output_type": "stream",
     "text": [
      "*********************************************\n",
      "******************🅳🅰🆃🅰*******************\n",
      "*********************************************\n",
      " \n",
      "         id  user_id session_date  mb_used\n",
      "0   1000_13     1000   2018-12-29    89.86\n",
      "1  1000_204     1000   2018-12-31     0.00\n",
      "2  1000_379     1000   2018-12-28   660.40\n",
      "3  1000_413     1000   2018-12-26   270.99\n",
      "4  1000_442     1000   2018-12-27   880.22\n",
      " \n",
      "*********************************************\n",
      "******************🅸🅽🅵🅾*******************\n",
      "*********************************************\n",
      " \n",
      "<class 'pandas.core.frame.DataFrame'>\n",
      "RangeIndex: 104825 entries, 0 to 104824\n",
      "Data columns (total 4 columns):\n",
      "id              104825 non-null object\n",
      "user_id         104825 non-null int64\n",
      "session_date    104825 non-null object\n",
      "mb_used         104825 non-null float64\n",
      "dtypes: float64(1), int64(1), object(2)\n",
      "memory usage: 3.2+ MB\n",
      " \n",
      "*********************************************\n",
      "*****🅼🅱_🆄🆂🅴🅳  🅲🅾🅻🆄🅼🅽  🆂🆃🅰🆃🆂*****\n",
      "*********************************************\n",
      " \n"
     ]
    },
    {
     "data": {
      "text/plain": [
       "count    104825.000000\n",
       "mean        366.713701\n",
       "std         277.170542\n",
       "min           0.000000\n",
       "25%         136.080000\n",
       "50%         343.980000\n",
       "75%         554.610000\n",
       "max        1693.470000\n",
       "Name: mb_used, dtype: float64"
      ]
     },
     "execution_count": 5,
     "metadata": {},
     "output_type": "execute_result"
    }
   ],
   "source": [
    "\n",
    "\n",
    "print(\"*********************************************\")\n",
    "print(\"******************🅳🅰🆃🅰*******************\")\n",
    "print(\"*********************************************\")\n",
    "print(\" \")\n",
    "print(raw_internet.head(5))\n",
    "print(\" \")\n",
    "print(\"*********************************************\")\n",
    "print(\"******************🅸🅽🅵🅾*******************\")\n",
    "print(\"*********************************************\")\n",
    "print(\" \")\n",
    "raw_internet.info()\n",
    "print(\" \")\n",
    "print(\"*********************************************\")\n",
    "print(\"*****🅼🅱_🆄🆂🅴🅳  🅲🅾🅻🆄🅼🅽  🆂🆃🅰🆃🆂*****\")\n",
    "print(\"*********************************************\")\n",
    "print(\" \")\n",
    "raw_internet.mb_used.describe()"
   ]
  },
  {
   "cell_type": "markdown",
   "metadata": {
    "id": "Ghx_pd4AT0iV"
   },
   "source": [
    "We notice that there are 2 columns that appear again: ***id*** and ***user id***. Meaning we **potentially** can merge the first and the second csv files (raw_internet and raw_calls). \n",
    "\n",
    "So far there are no Nans, but the ***session_date*** column got the wrong type again. Let's change it:"
   ]
  },
  {
   "cell_type": "code",
   "execution_count": 6,
   "metadata": {
    "colab": {
     "base_uri": "https://localhost:8080/"
    },
    "id": "18H_x6kNUoxH",
    "outputId": "c5c44c0a-161f-46df-ddcf-b4e721578fff"
   },
   "outputs": [
    {
     "name": "stdout",
     "output_type": "stream",
     "text": [
      "<class 'pandas.core.frame.DataFrame'>\n",
      "RangeIndex: 104825 entries, 0 to 104824\n",
      "Data columns (total 4 columns):\n",
      "id              104825 non-null object\n",
      "user_id         104825 non-null int64\n",
      "session_date    104825 non-null datetime64[ns]\n",
      "mb_used         104825 non-null float64\n",
      "dtypes: datetime64[ns](1), float64(1), int64(1), object(1)\n",
      "memory usage: 3.2+ MB\n"
     ]
    }
   ],
   "source": [
    "raw_internet.session_date   = pd.to_datetime(raw_internet.session_date, format='%Y-%m-%d')\n",
    "\n",
    "# Check:\n",
    "\n",
    "raw_internet.info()"
   ]
  },
  {
   "cell_type": "markdown",
   "metadata": {
    "id": "ayVp8iPoVwt-"
   },
   "source": [
    "We are moving to the next table: ***raw_messages***"
   ]
  },
  {
   "cell_type": "code",
   "execution_count": 7,
   "metadata": {
    "colab": {
     "base_uri": "https://localhost:8080/"
    },
    "id": "NDUMakH6V6U4",
    "outputId": "ca05a2b5-08df-425b-a80c-5fb08076dc07"
   },
   "outputs": [
    {
     "name": "stdout",
     "output_type": "stream",
     "text": [
      "*********************************************\n",
      "******************🅳🅰🆃🅰*******************\n",
      "*********************************************\n",
      " \n",
      "         id  user_id message_date\n",
      "0  1000_125     1000   2018-12-27\n",
      "1  1000_160     1000   2018-12-31\n",
      "2  1000_223     1000   2018-12-31\n",
      "3  1000_251     1000   2018-12-27\n",
      "4  1000_255     1000   2018-12-26\n",
      " \n",
      "*********************************************\n",
      "******************🅸🅽🅵🅾*******************\n",
      "*********************************************\n",
      " \n",
      "<class 'pandas.core.frame.DataFrame'>\n",
      "RangeIndex: 76051 entries, 0 to 76050\n",
      "Data columns (total 3 columns):\n",
      "id              76051 non-null object\n",
      "user_id         76051 non-null int64\n",
      "message_date    76051 non-null object\n",
      "dtypes: int64(1), object(2)\n",
      "memory usage: 1.7+ MB\n"
     ]
    }
   ],
   "source": [
    "\n",
    "\n",
    "print(\"*********************************************\")\n",
    "print(\"******************🅳🅰🆃🅰*******************\")\n",
    "print(\"*********************************************\")\n",
    "print(\" \")\n",
    "print(raw_messages.head(5))\n",
    "print(\" \")\n",
    "print(\"*********************************************\")\n",
    "print(\"******************🅸🅽🅵🅾*******************\")\n",
    "print(\"*********************************************\")\n",
    "print(\" \")\n",
    "raw_messages.info()\n",
    "\n"
   ]
  },
  {
   "cell_type": "markdown",
   "metadata": {
    "id": "6PHOe3v2WSL8"
   },
   "source": [
    "No Nans. Let's change the ***message_date*** column:"
   ]
  },
  {
   "cell_type": "code",
   "execution_count": 8,
   "metadata": {
    "colab": {
     "base_uri": "https://localhost:8080/"
    },
    "id": "enus2PSOWYwe",
    "outputId": "161ee612-5f9e-409f-a63c-0a3fbe6fe1de"
   },
   "outputs": [
    {
     "name": "stdout",
     "output_type": "stream",
     "text": [
      "<class 'pandas.core.frame.DataFrame'>\n",
      "RangeIndex: 76051 entries, 0 to 76050\n",
      "Data columns (total 3 columns):\n",
      "id              76051 non-null object\n",
      "user_id         76051 non-null int64\n",
      "message_date    76051 non-null datetime64[ns]\n",
      "dtypes: datetime64[ns](1), int64(1), object(1)\n",
      "memory usage: 1.7+ MB\n"
     ]
    }
   ],
   "source": [
    "raw_messages.message_date   = pd.to_datetime(raw_messages.message_date, format='%Y-%m-%d')\n",
    "\n",
    "# Check:\n",
    "raw_messages.info()"
   ]
  },
  {
   "cell_type": "markdown",
   "metadata": {
    "id": "K03X8UzqWxSa"
   },
   "source": [
    "Moving to ***raw_plans*** column:"
   ]
  },
  {
   "cell_type": "code",
   "execution_count": 9,
   "metadata": {
    "colab": {
     "base_uri": "https://localhost:8080/"
    },
    "id": "s-rugVpXW2Km",
    "outputId": "333602a0-e4e0-4bd3-a0da-90c0b997ed03"
   },
   "outputs": [
    {
     "name": "stdout",
     "output_type": "stream",
     "text": [
      "*********************************************\n",
      "******************🅳🅰🆃🅰*******************\n",
      "*********************************************\n",
      " \n",
      "   messages_included  mb_per_month_included  minutes_included  \\\n",
      "0                 50                  15360               500   \n",
      "1               1000                  30720              3000   \n",
      "\n",
      "   usd_monthly_pay  usd_per_gb  usd_per_message  usd_per_minute plan_name  \n",
      "0               20          10             0.03            0.03      surf  \n",
      "1               70           7             0.01            0.01  ultimate  \n",
      " \n",
      "*********************************************\n",
      "******************🅸🅽🅵🅾********************\n",
      "*********************************************\n",
      " \n",
      "<class 'pandas.core.frame.DataFrame'>\n",
      "RangeIndex: 2 entries, 0 to 1\n",
      "Data columns (total 8 columns):\n",
      "messages_included        2 non-null int64\n",
      "mb_per_month_included    2 non-null int64\n",
      "minutes_included         2 non-null int64\n",
      "usd_monthly_pay          2 non-null int64\n",
      "usd_per_gb               2 non-null int64\n",
      "usd_per_message          2 non-null float64\n",
      "usd_per_minute           2 non-null float64\n",
      "plan_name                2 non-null object\n",
      "dtypes: float64(2), int64(5), object(1)\n",
      "memory usage: 256.0+ bytes\n"
     ]
    }
   ],
   "source": [
    "print(\"*********************************************\")\n",
    "print(\"******************🅳🅰🆃🅰*******************\")\n",
    "print(\"*********************************************\")\n",
    "print(\" \")\n",
    "print(raw_plans.head(5))\n",
    "print(\" \")\n",
    "print(\"*********************************************\")\n",
    "print(\"******************🅸🅽🅵🅾********************\")\n",
    "print(\"*********************************************\")\n",
    "print(\" \")\n",
    "raw_plans.info()"
   ]
  },
  {
   "cell_type": "markdown",
   "metadata": {
    "id": "biB2OBrqYP9I"
   },
   "source": [
    "At this stage it is not clear if any of the columns in this table should change their type. Therefore, for now, we will leave them as is.       "
   ]
  },
  {
   "cell_type": "markdown",
   "metadata": {
    "id": "VQ0owBb4aU0O"
   },
   "source": [
    "Moving to the  ***raw_users*** file: "
   ]
  },
  {
   "cell_type": "code",
   "execution_count": 10,
   "metadata": {
    "colab": {
     "base_uri": "https://localhost:8080/"
    },
    "id": "DsUwKZtVZvDN",
    "outputId": "6097ac6d-32e4-4d65-c573-ebbb79abcb13"
   },
   "outputs": [
    {
     "name": "stdout",
     "output_type": "stream",
     "text": [
      "*********************************************\n",
      "******************🅳🅰🆃🅰*******************\n",
      "*********************************************\n",
      " \n",
      "   user_id first_name  last_name  age                                   city  \\\n",
      "0     1000   Anamaria      Bauer   45  Atlanta-Sandy Springs-Roswell, GA MSA   \n",
      "1     1001     Mickey  Wilkerson   28        Seattle-Tacoma-Bellevue, WA MSA   \n",
      "2     1002     Carlee    Hoffman   36   Las Vegas-Henderson-Paradise, NV MSA   \n",
      "3     1003   Reynaldo    Jenkins   52                          Tulsa, OK MSA   \n",
      "4     1004    Leonila   Thompson   40        Seattle-Tacoma-Bellevue, WA MSA   \n",
      "\n",
      "     reg_date      plan churn_date  \n",
      "0  2018-12-24  ultimate        NaN  \n",
      "1  2018-08-13      surf        NaN  \n",
      "2  2018-10-21      surf        NaN  \n",
      "3  2018-01-28      surf        NaN  \n",
      "4  2018-05-23      surf        NaN  \n",
      " \n",
      "*********************************************\n",
      "******************🅸🅽🅵🅾*******************\n",
      "*********************************************\n",
      " \n",
      "<class 'pandas.core.frame.DataFrame'>\n",
      "RangeIndex: 500 entries, 0 to 499\n",
      "Data columns (total 8 columns):\n",
      "user_id       500 non-null int64\n",
      "first_name    500 non-null object\n",
      "last_name     500 non-null object\n",
      "age           500 non-null int64\n",
      "city          500 non-null object\n",
      "reg_date      500 non-null object\n",
      "plan          500 non-null object\n",
      "churn_date    34 non-null object\n",
      "dtypes: int64(2), object(6)\n",
      "memory usage: 31.4+ KB\n",
      " \n",
      "*********************************************\n",
      "****************🆂🆃🅰🆃🆂*********************\n",
      "*********************************************\n",
      " \n"
     ]
    },
    {
     "data": {
      "text/plain": [
       "surf        339\n",
       "ultimate    161\n",
       "Name: plan, dtype: int64"
      ]
     },
     "execution_count": 10,
     "metadata": {},
     "output_type": "execute_result"
    }
   ],
   "source": [
    "\n",
    "print(\"*********************************************\")\n",
    "print(\"******************🅳🅰🆃🅰*******************\")\n",
    "print(\"*********************************************\")\n",
    "print(\" \")\n",
    "print(raw_users.head(5))\n",
    "print(\" \")\n",
    "print(\"*********************************************\")\n",
    "print(\"******************🅸🅽🅵🅾*******************\")\n",
    "print(\"*********************************************\")\n",
    "print(\" \")\n",
    "raw_users.info()\n",
    "print(\" \")\n",
    "print(\"*********************************************\")\n",
    "print(\"****************🆂🆃🅰🆃🆂*********************\")\n",
    "print(\"*********************************************\")\n",
    "print(\" \")\n",
    "raw_users.plan.value_counts()"
   ]
  },
  {
   "cell_type": "markdown",
   "metadata": {
    "id": "n2oTiqebbRr1"
   },
   "source": [
    "Churn date column contains only 34 instances, meaning the other 466 were active users on the day the data was collected. \n",
    "\n",
    "We have two dates columns in this table: ***reg_date*** and ***churn_date***. Both in the wrong format. Let's change it:\n"
   ]
  },
  {
   "cell_type": "code",
   "execution_count": 11,
   "metadata": {
    "colab": {
     "base_uri": "https://localhost:8080/"
    },
    "id": "2csugAVYfB41",
    "outputId": "9fb9f6fc-1537-4fd8-8da5-e9aacc7c2c29"
   },
   "outputs": [
    {
     "name": "stdout",
     "output_type": "stream",
     "text": [
      "<class 'pandas.core.frame.DataFrame'>\n",
      "RangeIndex: 500 entries, 0 to 499\n",
      "Data columns (total 8 columns):\n",
      "user_id       500 non-null int64\n",
      "first_name    500 non-null object\n",
      "last_name     500 non-null object\n",
      "age           500 non-null int64\n",
      "city          500 non-null object\n",
      "reg_date      500 non-null datetime64[ns]\n",
      "plan          500 non-null object\n",
      "churn_date    34 non-null datetime64[ns]\n",
      "dtypes: datetime64[ns](2), int64(2), object(4)\n",
      "memory usage: 31.4+ KB\n"
     ]
    }
   ],
   "source": [
    "raw_users.reg_date = pd.to_datetime(raw_users.reg_date, format='%Y-%m-%d')\n",
    "raw_users.churn_date = pd.to_datetime(raw_users.churn_date, format='%Y-%m-%d')\n",
    "\n",
    "# Check:\n",
    "raw_users.info()"
   ]
  },
  {
   "cell_type": "markdown",
   "metadata": {
    "id": "Q6OemoVNYWFh"
   },
   "source": [
    "From the task description we know that later on we will need to compare the NY-NJ users with the rest of the customers, so lets make a step that will assist us later on: Let's split split the data stored in the ***city*** column, and save the states in a column ***PostCode*** \n",
    "\n",
    "\n"
   ]
  },
  {
   "cell_type": "code",
   "execution_count": 12,
   "metadata": {
    "colab": {
     "base_uri": "https://localhost:8080/"
    },
    "id": "i6dSapdNYVc6",
    "outputId": "8c8303f2-c280-4d53-d255-94794a05270f"
   },
   "outputs": [
    {
     "name": "stdout",
     "output_type": "stream",
     "text": [
      "There are 103 instances of either NY, NJ, or NY_NJ, and only 80 instances of NY-NJ-PA MSA\n"
     ]
    }
   ],
   "source": [
    "\n",
    "raw_users['Address'], raw_users['PostCode'] = raw_users['city'].str.rsplit(', ', 1).str\n",
    "\n",
    "# let's check if  we can pull out New Yorkers! They are stored as \"NY-NJ-PA MSA\".\n",
    "\n",
    "# Using str.contains we will pull out only the NY-NJ\n",
    "\n",
    "NY_NJ_test = raw_users[raw_users['city'].str.contains(\"NY|NJ\")]\n",
    "NY_NJ_PA_MSA_test = raw_users[raw_users['city'].str.contains(\"NY-NJ-PA MSA\")]\n",
    "\n",
    "# How many NY-NJ instances we have?\n",
    "          \n",
    "if len(NY_NJ_test) ==  len(NY_NJ_PA_MSA_test):\n",
    "    print(\"Yes,  NY-NJ-PA MSA are the only value corresponding to NY-NJ area\")\n",
    "else:\n",
    "    print(\"There are\", len(NY_NJ_test), \"instances of either NY, NJ, or NY_NJ, and only\", len(NY_NJ_PA_MSA_test), \"instances of NY-NJ-PA MSA\" )\n"
   ]
  },
  {
   "cell_type": "markdown",
   "metadata": {
    "id": "AurS23XOrRBw"
   },
   "source": [
    "Our next goal, is to calculate:\n",
    "\n",
    "1. The number of calls made and minutes used per month\n",
    "2. The number of text messages sent per month\n",
    "3. The volume of data per month\n",
    "4. The monthly revenue from each user (subtract the free package limit from the total number of calls, text messages, and data; multiply the result by the calling plan value; add the monthly charge depending on the calling plan)\n",
    "\n",
    "Let's tackle these tasks one by one:"
   ]
  },
  {
   "cell_type": "markdown",
   "metadata": {},
   "source": [
    "## 1. The number of calls made *(count)* and minutes used *(sum)* per month per user.\n",
    "\n"
   ]
  },
  {
   "cell_type": "code",
   "execution_count": 13,
   "metadata": {},
   "outputs": [
    {
     "data": {
      "text/html": [
       "<div>\n",
       "<style scoped>\n",
       "    .dataframe tbody tr th:only-of-type {\n",
       "        vertical-align: middle;\n",
       "    }\n",
       "\n",
       "    .dataframe tbody tr th {\n",
       "        vertical-align: top;\n",
       "    }\n",
       "\n",
       "    .dataframe thead tr th {\n",
       "        text-align: left;\n",
       "    }\n",
       "</style>\n",
       "<table border=\"1\" class=\"dataframe\">\n",
       "  <thead>\n",
       "    <tr>\n",
       "      <th></th>\n",
       "      <th>user_id</th>\n",
       "      <th>month</th>\n",
       "      <th colspan=\"2\" halign=\"left\">duration</th>\n",
       "    </tr>\n",
       "    <tr>\n",
       "      <th></th>\n",
       "      <th></th>\n",
       "      <th></th>\n",
       "      <th>count</th>\n",
       "      <th>sum</th>\n",
       "    </tr>\n",
       "  </thead>\n",
       "  <tbody>\n",
       "    <tr>\n",
       "      <td>0</td>\n",
       "      <td>1000</td>\n",
       "      <td>12</td>\n",
       "      <td>16</td>\n",
       "      <td>124.0</td>\n",
       "    </tr>\n",
       "    <tr>\n",
       "      <td>1</td>\n",
       "      <td>1001</td>\n",
       "      <td>8</td>\n",
       "      <td>27</td>\n",
       "      <td>182.0</td>\n",
       "    </tr>\n",
       "    <tr>\n",
       "      <td>2</td>\n",
       "      <td>1001</td>\n",
       "      <td>9</td>\n",
       "      <td>49</td>\n",
       "      <td>315.0</td>\n",
       "    </tr>\n",
       "    <tr>\n",
       "      <td>3</td>\n",
       "      <td>1001</td>\n",
       "      <td>10</td>\n",
       "      <td>65</td>\n",
       "      <td>393.0</td>\n",
       "    </tr>\n",
       "    <tr>\n",
       "      <td>4</td>\n",
       "      <td>1001</td>\n",
       "      <td>11</td>\n",
       "      <td>64</td>\n",
       "      <td>426.0</td>\n",
       "    </tr>\n",
       "  </tbody>\n",
       "</table>\n",
       "</div>"
      ],
      "text/plain": [
       "  user_id month duration       \n",
       "                   count    sum\n",
       "0    1000    12       16  124.0\n",
       "1    1001     8       27  182.0\n",
       "2    1001     9       49  315.0\n",
       "3    1001    10       65  393.0\n",
       "4    1001    11       64  426.0"
      ]
     },
     "execution_count": 13,
     "metadata": {},
     "output_type": "execute_result"
    }
   ],
   "source": [
    "new_calls = raw_calls.groupby(['user_id', raw_calls.call_date.dt.month]).agg({'duration' : ('count','sum')}).reset_index()\n",
    "new_calls.rename(columns = {\"call_date\": \"month\"}, inplace = True)\n",
    "new_calls.head()"
   ]
  },
  {
   "cell_type": "code",
   "execution_count": 14,
   "metadata": {},
   "outputs": [
    {
     "name": "stdout",
     "output_type": "stream",
     "text": [
      "We have 481 unique users in new_calls and 500 unique users in raw_users\n"
     ]
    }
   ],
   "source": [
    "print(\"We have\", new_calls.user_id.nunique(), \"unique users in new_calls and\",  raw_users.user_id.nunique(), \"unique users in raw_users\")"
   ]
  },
  {
   "cell_type": "markdown",
   "metadata": {},
   "source": [
    "## 2. The number of text messages sent per month per user. \n",
    "Let's create a new column in raw_messages and fill it with 0"
   ]
  },
  {
   "cell_type": "code",
   "execution_count": 15,
   "metadata": {},
   "outputs": [
    {
     "data": {
      "text/html": [
       "<div>\n",
       "<style scoped>\n",
       "    .dataframe tbody tr th:only-of-type {\n",
       "        vertical-align: middle;\n",
       "    }\n",
       "\n",
       "    .dataframe tbody tr th {\n",
       "        vertical-align: top;\n",
       "    }\n",
       "\n",
       "    .dataframe thead th {\n",
       "        text-align: right;\n",
       "    }\n",
       "</style>\n",
       "<table border=\"1\" class=\"dataframe\">\n",
       "  <thead>\n",
       "    <tr style=\"text-align: right;\">\n",
       "      <th></th>\n",
       "      <th>id</th>\n",
       "      <th>user_id</th>\n",
       "      <th>message_date</th>\n",
       "      <th>messages_stats</th>\n",
       "    </tr>\n",
       "  </thead>\n",
       "  <tbody>\n",
       "    <tr>\n",
       "      <td>0</td>\n",
       "      <td>1000_125</td>\n",
       "      <td>1000</td>\n",
       "      <td>2018-12-27</td>\n",
       "      <td>0</td>\n",
       "    </tr>\n",
       "    <tr>\n",
       "      <td>1</td>\n",
       "      <td>1000_160</td>\n",
       "      <td>1000</td>\n",
       "      <td>2018-12-31</td>\n",
       "      <td>0</td>\n",
       "    </tr>\n",
       "    <tr>\n",
       "      <td>2</td>\n",
       "      <td>1000_223</td>\n",
       "      <td>1000</td>\n",
       "      <td>2018-12-31</td>\n",
       "      <td>0</td>\n",
       "    </tr>\n",
       "    <tr>\n",
       "      <td>3</td>\n",
       "      <td>1000_251</td>\n",
       "      <td>1000</td>\n",
       "      <td>2018-12-27</td>\n",
       "      <td>0</td>\n",
       "    </tr>\n",
       "    <tr>\n",
       "      <td>4</td>\n",
       "      <td>1000_255</td>\n",
       "      <td>1000</td>\n",
       "      <td>2018-12-26</td>\n",
       "      <td>0</td>\n",
       "    </tr>\n",
       "  </tbody>\n",
       "</table>\n",
       "</div>"
      ],
      "text/plain": [
       "         id  user_id message_date  messages_stats\n",
       "0  1000_125     1000   2018-12-27               0\n",
       "1  1000_160     1000   2018-12-31               0\n",
       "2  1000_223     1000   2018-12-31               0\n",
       "3  1000_251     1000   2018-12-27               0\n",
       "4  1000_255     1000   2018-12-26               0"
      ]
     },
     "execution_count": 15,
     "metadata": {},
     "output_type": "execute_result"
    }
   ],
   "source": [
    "raw_messages[\"messages_stats\"] = 0\n",
    "raw_messages.head(5)"
   ]
  },
  {
   "cell_type": "markdown",
   "metadata": {},
   "source": [
    "Let's group the messages by user_id and months. We also count the number of messages per user per month. "
   ]
  },
  {
   "cell_type": "code",
   "execution_count": 16,
   "metadata": {},
   "outputs": [
    {
     "data": {
      "text/html": [
       "<div>\n",
       "<style scoped>\n",
       "    .dataframe tbody tr th:only-of-type {\n",
       "        vertical-align: middle;\n",
       "    }\n",
       "\n",
       "    .dataframe tbody tr th {\n",
       "        vertical-align: top;\n",
       "    }\n",
       "\n",
       "    .dataframe thead th {\n",
       "        text-align: right;\n",
       "    }\n",
       "</style>\n",
       "<table border=\"1\" class=\"dataframe\">\n",
       "  <thead>\n",
       "    <tr style=\"text-align: right;\">\n",
       "      <th></th>\n",
       "      <th>user_id</th>\n",
       "      <th>month</th>\n",
       "      <th>messages_stats</th>\n",
       "    </tr>\n",
       "  </thead>\n",
       "  <tbody>\n",
       "    <tr>\n",
       "      <td>0</td>\n",
       "      <td>1000</td>\n",
       "      <td>12</td>\n",
       "      <td>11</td>\n",
       "    </tr>\n",
       "    <tr>\n",
       "      <td>1</td>\n",
       "      <td>1001</td>\n",
       "      <td>8</td>\n",
       "      <td>30</td>\n",
       "    </tr>\n",
       "    <tr>\n",
       "      <td>2</td>\n",
       "      <td>1001</td>\n",
       "      <td>9</td>\n",
       "      <td>44</td>\n",
       "    </tr>\n",
       "    <tr>\n",
       "      <td>3</td>\n",
       "      <td>1001</td>\n",
       "      <td>10</td>\n",
       "      <td>53</td>\n",
       "    </tr>\n",
       "    <tr>\n",
       "      <td>4</td>\n",
       "      <td>1001</td>\n",
       "      <td>11</td>\n",
       "      <td>36</td>\n",
       "    </tr>\n",
       "  </tbody>\n",
       "</table>\n",
       "</div>"
      ],
      "text/plain": [
       "   user_id  month  messages_stats\n",
       "0     1000     12              11\n",
       "1     1001      8              30\n",
       "2     1001      9              44\n",
       "3     1001     10              53\n",
       "4     1001     11              36"
      ]
     },
     "execution_count": 16,
     "metadata": {},
     "output_type": "execute_result"
    }
   ],
   "source": [
    "new_messages = raw_messages.groupby(['user_id', raw_messages.message_date.dt.month]).agg({'messages_stats' : ('count')}).reset_index()\n",
    "new_messages.rename(columns = {\"message_date\": \"month\"}, inplace = True)\n",
    "new_messages.head(5)"
   ]
  },
  {
   "cell_type": "code",
   "execution_count": 17,
   "metadata": {},
   "outputs": [
    {
     "name": "stdout",
     "output_type": "stream",
     "text": [
      "We have 402 unique users in new_messages and 500 unique users in raw_users\n"
     ]
    }
   ],
   "source": [
    "print(\"We have\", new_messages.user_id.nunique(), \"unique users in new_messages and\",  raw_users.user_id.nunique(), \"unique users in raw_users\")"
   ]
  },
  {
   "cell_type": "markdown",
   "metadata": {},
   "source": [
    "## 3. The volume of data per month per user. \n"
   ]
  },
  {
   "cell_type": "code",
   "execution_count": 18,
   "metadata": {},
   "outputs": [
    {
     "data": {
      "text/html": [
       "<div>\n",
       "<style scoped>\n",
       "    .dataframe tbody tr th:only-of-type {\n",
       "        vertical-align: middle;\n",
       "    }\n",
       "\n",
       "    .dataframe tbody tr th {\n",
       "        vertical-align: top;\n",
       "    }\n",
       "\n",
       "    .dataframe thead th {\n",
       "        text-align: right;\n",
       "    }\n",
       "</style>\n",
       "<table border=\"1\" class=\"dataframe\">\n",
       "  <thead>\n",
       "    <tr style=\"text-align: right;\">\n",
       "      <th></th>\n",
       "      <th>user_id</th>\n",
       "      <th>month</th>\n",
       "      <th>mb_used</th>\n",
       "    </tr>\n",
       "  </thead>\n",
       "  <tbody>\n",
       "    <tr>\n",
       "      <td>0</td>\n",
       "      <td>1000</td>\n",
       "      <td>12</td>\n",
       "      <td>1901.47</td>\n",
       "    </tr>\n",
       "    <tr>\n",
       "      <td>1</td>\n",
       "      <td>1001</td>\n",
       "      <td>8</td>\n",
       "      <td>6919.15</td>\n",
       "    </tr>\n",
       "    <tr>\n",
       "      <td>2</td>\n",
       "      <td>1001</td>\n",
       "      <td>9</td>\n",
       "      <td>13314.82</td>\n",
       "    </tr>\n",
       "    <tr>\n",
       "      <td>3</td>\n",
       "      <td>1001</td>\n",
       "      <td>10</td>\n",
       "      <td>22330.49</td>\n",
       "    </tr>\n",
       "    <tr>\n",
       "      <td>4</td>\n",
       "      <td>1001</td>\n",
       "      <td>11</td>\n",
       "      <td>18504.30</td>\n",
       "    </tr>\n",
       "  </tbody>\n",
       "</table>\n",
       "</div>"
      ],
      "text/plain": [
       "   user_id  month   mb_used\n",
       "0     1000     12   1901.47\n",
       "1     1001      8   6919.15\n",
       "2     1001      9  13314.82\n",
       "3     1001     10  22330.49\n",
       "4     1001     11  18504.30"
      ]
     },
     "execution_count": 18,
     "metadata": {},
     "output_type": "execute_result"
    }
   ],
   "source": [
    "new_internet = raw_internet.groupby(['user_id', raw_internet.session_date.dt.month]).agg({'mb_used' : ('sum')}).reset_index()\n",
    "new_internet.rename(columns = {\"session_date\": \"month\"}, inplace = True)\n",
    "new_internet.head(5)\n"
   ]
  },
  {
   "cell_type": "code",
   "execution_count": 19,
   "metadata": {},
   "outputs": [
    {
     "name": "stdout",
     "output_type": "stream",
     "text": [
      "We have 489 unique users in new_internet and 500 unique users in raw_users\n"
     ]
    }
   ],
   "source": [
    "# Let's run a little check:\n",
    "\n",
    "print(\"We have\", new_internet.user_id.nunique(), \"unique users in new_internet and\",  raw_users.user_id.nunique(), \"unique users in raw_users\")"
   ]
  },
  {
   "cell_type": "code",
   "execution_count": null,
   "metadata": {},
   "outputs": [],
   "source": []
  },
  {
   "cell_type": "markdown",
   "metadata": {
    "id": "aJotNtHb_cM9"
   },
   "source": [
    "## 4. The monthly revenue from each user. \n",
    "\n",
    "To complete this task we need to:\n",
    "\n",
    "1. Subtract the free package limit from the total number of calls, text messages, and data; \n",
    "2. Multiply the result by the calling plan value; \n",
    "3. Add the monthly charge depending on the calling plan"
   ]
  },
  {
   "cell_type": "markdown",
   "metadata": {
    "id": "m8uLFP-7BWAy"
   },
   "source": [
    "In order to accomplish this task we decided to merge the previous tables into one. It will take several steps and some houskeeping to create a clean and functional multi-grouped df. \n",
    "\n",
    "Let's start with merging "
   ]
  },
  {
   "cell_type": "code",
   "execution_count": 20,
   "metadata": {
    "colab": {
     "base_uri": "https://localhost:8080/"
    },
    "id": "U3K122AzCXfs",
    "outputId": "2f568402-c609-4c57-ee5c-2bff51818b26"
   },
   "outputs": [
    {
     "name": "stderr",
     "output_type": "stream",
     "text": [
      "/opt/conda/lib/python3.7/site-packages/pandas/core/reshape/merge.py:617: UserWarning: merging between different levels can give an unintended result (2 levels on the left, 1 on the right)\n",
      "  warnings.warn(msg, UserWarning)\n"
     ]
    },
    {
     "data": {
      "text/html": [
       "<div>\n",
       "<style scoped>\n",
       "    .dataframe tbody tr th:only-of-type {\n",
       "        vertical-align: middle;\n",
       "    }\n",
       "\n",
       "    .dataframe tbody tr th {\n",
       "        vertical-align: top;\n",
       "    }\n",
       "\n",
       "    .dataframe thead th {\n",
       "        text-align: right;\n",
       "    }\n",
       "</style>\n",
       "<table border=\"1\" class=\"dataframe\">\n",
       "  <thead>\n",
       "    <tr style=\"text-align: right;\">\n",
       "      <th></th>\n",
       "      <th>user_id</th>\n",
       "      <th>month</th>\n",
       "      <th>(month, )</th>\n",
       "      <th>(duration, count)</th>\n",
       "      <th>(duration, sum)</th>\n",
       "      <th>messages_stats</th>\n",
       "    </tr>\n",
       "  </thead>\n",
       "  <tbody>\n",
       "    <tr>\n",
       "      <td>0</td>\n",
       "      <td>1000</td>\n",
       "      <td>12</td>\n",
       "      <td>12.0</td>\n",
       "      <td>16.0</td>\n",
       "      <td>124.0</td>\n",
       "      <td>11.0</td>\n",
       "    </tr>\n",
       "    <tr>\n",
       "      <td>1</td>\n",
       "      <td>1001</td>\n",
       "      <td>8</td>\n",
       "      <td>8.0</td>\n",
       "      <td>27.0</td>\n",
       "      <td>182.0</td>\n",
       "      <td>30.0</td>\n",
       "    </tr>\n",
       "    <tr>\n",
       "      <td>2</td>\n",
       "      <td>1001</td>\n",
       "      <td>9</td>\n",
       "      <td>9.0</td>\n",
       "      <td>49.0</td>\n",
       "      <td>315.0</td>\n",
       "      <td>44.0</td>\n",
       "    </tr>\n",
       "    <tr>\n",
       "      <td>3</td>\n",
       "      <td>1001</td>\n",
       "      <td>10</td>\n",
       "      <td>10.0</td>\n",
       "      <td>65.0</td>\n",
       "      <td>393.0</td>\n",
       "      <td>53.0</td>\n",
       "    </tr>\n",
       "    <tr>\n",
       "      <td>4</td>\n",
       "      <td>1001</td>\n",
       "      <td>11</td>\n",
       "      <td>11.0</td>\n",
       "      <td>64.0</td>\n",
       "      <td>426.0</td>\n",
       "      <td>36.0</td>\n",
       "    </tr>\n",
       "  </tbody>\n",
       "</table>\n",
       "</div>"
      ],
      "text/plain": [
       "   user_id  month  (month, )  (duration, count)  (duration, sum)  \\\n",
       "0     1000     12       12.0               16.0            124.0   \n",
       "1     1001      8        8.0               27.0            182.0   \n",
       "2     1001      9        9.0               49.0            315.0   \n",
       "3     1001     10       10.0               65.0            393.0   \n",
       "4     1001     11       11.0               64.0            426.0   \n",
       "\n",
       "   messages_stats  \n",
       "0            11.0  \n",
       "1            30.0  \n",
       "2            44.0  \n",
       "3            53.0  \n",
       "4            36.0  "
      ]
     },
     "execution_count": 20,
     "metadata": {},
     "output_type": "execute_result"
    }
   ],
   "source": [
    "# Merging \n",
    "\n",
    "multi_group = pd.merge(new_calls, \n",
    "                       new_messages, on=[\"user_id\", \"month\"], how = \"outer\")\n",
    "\n",
    "# Dropping a doubled columns\n",
    "\n",
    "multi_group.drop([multi_group.columns[2],multi_group.columns[2]], axis=1, inplace = True)\n",
    "\n",
    "multi_group.head(5)"
   ]
  },
  {
   "cell_type": "markdown",
   "metadata": {},
   "source": [
    "We don't need the (month) column, and the titles of 2 columns are not clear enogh. Let's change this:"
   ]
  },
  {
   "cell_type": "markdown",
   "metadata": {
    "id": "Mr-g65JCCLq7"
   },
   "source": [
    "Let's rename the () columns. "
   ]
  },
  {
   "cell_type": "code",
   "execution_count": 21,
   "metadata": {
    "id": "FfV7VnW3CK96"
   },
   "outputs": [
    {
     "data": {
      "text/html": [
       "<div>\n",
       "<style scoped>\n",
       "    .dataframe tbody tr th:only-of-type {\n",
       "        vertical-align: middle;\n",
       "    }\n",
       "\n",
       "    .dataframe tbody tr th {\n",
       "        vertical-align: top;\n",
       "    }\n",
       "\n",
       "    .dataframe thead th {\n",
       "        text-align: right;\n",
       "    }\n",
       "</style>\n",
       "<table border=\"1\" class=\"dataframe\">\n",
       "  <thead>\n",
       "    <tr style=\"text-align: right;\">\n",
       "      <th></th>\n",
       "      <th>user_id</th>\n",
       "      <th>month</th>\n",
       "      <th>messages_stats</th>\n",
       "      <th>calls_count</th>\n",
       "      <th>calls_sum</th>\n",
       "    </tr>\n",
       "  </thead>\n",
       "  <tbody>\n",
       "    <tr>\n",
       "      <td>0</td>\n",
       "      <td>1000</td>\n",
       "      <td>12</td>\n",
       "      <td>11.0</td>\n",
       "      <td>16.0</td>\n",
       "      <td>124.0</td>\n",
       "    </tr>\n",
       "    <tr>\n",
       "      <td>1</td>\n",
       "      <td>1001</td>\n",
       "      <td>8</td>\n",
       "      <td>30.0</td>\n",
       "      <td>27.0</td>\n",
       "      <td>182.0</td>\n",
       "    </tr>\n",
       "    <tr>\n",
       "      <td>2</td>\n",
       "      <td>1001</td>\n",
       "      <td>9</td>\n",
       "      <td>44.0</td>\n",
       "      <td>49.0</td>\n",
       "      <td>315.0</td>\n",
       "    </tr>\n",
       "    <tr>\n",
       "      <td>3</td>\n",
       "      <td>1001</td>\n",
       "      <td>10</td>\n",
       "      <td>53.0</td>\n",
       "      <td>65.0</td>\n",
       "      <td>393.0</td>\n",
       "    </tr>\n",
       "    <tr>\n",
       "      <td>4</td>\n",
       "      <td>1001</td>\n",
       "      <td>11</td>\n",
       "      <td>36.0</td>\n",
       "      <td>64.0</td>\n",
       "      <td>426.0</td>\n",
       "    </tr>\n",
       "  </tbody>\n",
       "</table>\n",
       "</div>"
      ],
      "text/plain": [
       "   user_id  month  messages_stats  calls_count  calls_sum\n",
       "0     1000     12            11.0         16.0      124.0\n",
       "1     1001      8            30.0         27.0      182.0\n",
       "2     1001      9            44.0         49.0      315.0\n",
       "3     1001     10            53.0         65.0      393.0\n",
       "4     1001     11            36.0         64.0      426.0"
      ]
     },
     "execution_count": 21,
     "metadata": {},
     "output_type": "execute_result"
    }
   ],
   "source": [
    "multi_group[\"calls_count\"] = multi_group[multi_group.columns[3]]\n",
    "multi_group[\"calls_sum\"] = multi_group[multi_group.columns[4]]\n",
    "\n",
    "# drop the (duration, count) column:\n",
    "multi_group.drop([multi_group.columns[2],multi_group.columns[3],multi_group.columns[4]], axis=1, inplace = True)\n",
    "# drop the (duration, sum) column:\n",
    "multi_group.head(5)\n"
   ]
  },
  {
   "cell_type": "markdown",
   "metadata": {
    "id": "_z71GW4GPKc-"
   },
   "source": [
    "Great! Let's continue adding data to our table: let's add the internet data.\n"
   ]
  },
  {
   "cell_type": "code",
   "execution_count": 22,
   "metadata": {
    "colab": {
     "base_uri": "https://localhost:8080/",
     "height": 206
    },
    "id": "dazubrE-Pe1D",
    "outputId": "b525f755-379b-430c-a0a2-75fc5e9a7844"
   },
   "outputs": [
    {
     "data": {
      "text/html": [
       "<div>\n",
       "<style scoped>\n",
       "    .dataframe tbody tr th:only-of-type {\n",
       "        vertical-align: middle;\n",
       "    }\n",
       "\n",
       "    .dataframe tbody tr th {\n",
       "        vertical-align: top;\n",
       "    }\n",
       "\n",
       "    .dataframe thead th {\n",
       "        text-align: right;\n",
       "    }\n",
       "</style>\n",
       "<table border=\"1\" class=\"dataframe\">\n",
       "  <thead>\n",
       "    <tr style=\"text-align: right;\">\n",
       "      <th></th>\n",
       "      <th>user_id</th>\n",
       "      <th>month</th>\n",
       "      <th>messages_stats</th>\n",
       "      <th>calls_count</th>\n",
       "      <th>calls_sum</th>\n",
       "      <th>mb_used</th>\n",
       "    </tr>\n",
       "  </thead>\n",
       "  <tbody>\n",
       "    <tr>\n",
       "      <td>0</td>\n",
       "      <td>1000</td>\n",
       "      <td>12</td>\n",
       "      <td>11.0</td>\n",
       "      <td>16.0</td>\n",
       "      <td>124.0</td>\n",
       "      <td>1901.47</td>\n",
       "    </tr>\n",
       "    <tr>\n",
       "      <td>1</td>\n",
       "      <td>1001</td>\n",
       "      <td>8</td>\n",
       "      <td>30.0</td>\n",
       "      <td>27.0</td>\n",
       "      <td>182.0</td>\n",
       "      <td>6919.15</td>\n",
       "    </tr>\n",
       "    <tr>\n",
       "      <td>2</td>\n",
       "      <td>1001</td>\n",
       "      <td>9</td>\n",
       "      <td>44.0</td>\n",
       "      <td>49.0</td>\n",
       "      <td>315.0</td>\n",
       "      <td>13314.82</td>\n",
       "    </tr>\n",
       "    <tr>\n",
       "      <td>3</td>\n",
       "      <td>1001</td>\n",
       "      <td>10</td>\n",
       "      <td>53.0</td>\n",
       "      <td>65.0</td>\n",
       "      <td>393.0</td>\n",
       "      <td>22330.49</td>\n",
       "    </tr>\n",
       "    <tr>\n",
       "      <td>4</td>\n",
       "      <td>1001</td>\n",
       "      <td>11</td>\n",
       "      <td>36.0</td>\n",
       "      <td>64.0</td>\n",
       "      <td>426.0</td>\n",
       "      <td>18504.30</td>\n",
       "    </tr>\n",
       "  </tbody>\n",
       "</table>\n",
       "</div>"
      ],
      "text/plain": [
       "   user_id  month  messages_stats  calls_count  calls_sum   mb_used\n",
       "0     1000     12            11.0         16.0      124.0   1901.47\n",
       "1     1001      8            30.0         27.0      182.0   6919.15\n",
       "2     1001      9            44.0         49.0      315.0  13314.82\n",
       "3     1001     10            53.0         65.0      393.0  22330.49\n",
       "4     1001     11            36.0         64.0      426.0  18504.30"
      ]
     },
     "execution_count": 22,
     "metadata": {},
     "output_type": "execute_result"
    }
   ],
   "source": [
    "multi_group = pd.merge(multi_group, new_internet, on=[\"user_id\", \"month\"], how = \"outer\")\n",
    "\n",
    "# Check:\n",
    "multi_group.head(5) "
   ]
  },
  {
   "cell_type": "markdown",
   "metadata": {
    "id": "ZAkDXCQ5P4k9"
   },
   "source": [
    "Looks good. Next let's add the specifics of each user.  Let's remind ourselves how raw_users looks like\n"
   ]
  },
  {
   "cell_type": "code",
   "execution_count": 23,
   "metadata": {},
   "outputs": [
    {
     "data": {
      "text/html": [
       "<div>\n",
       "<style scoped>\n",
       "    .dataframe tbody tr th:only-of-type {\n",
       "        vertical-align: middle;\n",
       "    }\n",
       "\n",
       "    .dataframe tbody tr th {\n",
       "        vertical-align: top;\n",
       "    }\n",
       "\n",
       "    .dataframe thead th {\n",
       "        text-align: right;\n",
       "    }\n",
       "</style>\n",
       "<table border=\"1\" class=\"dataframe\">\n",
       "  <thead>\n",
       "    <tr style=\"text-align: right;\">\n",
       "      <th></th>\n",
       "      <th>user_id</th>\n",
       "      <th>first_name</th>\n",
       "      <th>last_name</th>\n",
       "      <th>age</th>\n",
       "      <th>city</th>\n",
       "      <th>reg_date</th>\n",
       "      <th>plan</th>\n",
       "      <th>churn_date</th>\n",
       "      <th>Address</th>\n",
       "      <th>PostCode</th>\n",
       "    </tr>\n",
       "  </thead>\n",
       "  <tbody>\n",
       "    <tr>\n",
       "      <td>0</td>\n",
       "      <td>1000</td>\n",
       "      <td>Anamaria</td>\n",
       "      <td>Bauer</td>\n",
       "      <td>45</td>\n",
       "      <td>Atlanta-Sandy Springs-Roswell, GA MSA</td>\n",
       "      <td>2018-12-24</td>\n",
       "      <td>ultimate</td>\n",
       "      <td>NaT</td>\n",
       "      <td>Atlanta-Sandy Springs-Roswell</td>\n",
       "      <td>GA MSA</td>\n",
       "    </tr>\n",
       "    <tr>\n",
       "      <td>1</td>\n",
       "      <td>1001</td>\n",
       "      <td>Mickey</td>\n",
       "      <td>Wilkerson</td>\n",
       "      <td>28</td>\n",
       "      <td>Seattle-Tacoma-Bellevue, WA MSA</td>\n",
       "      <td>2018-08-13</td>\n",
       "      <td>surf</td>\n",
       "      <td>NaT</td>\n",
       "      <td>Seattle-Tacoma-Bellevue</td>\n",
       "      <td>WA MSA</td>\n",
       "    </tr>\n",
       "    <tr>\n",
       "      <td>2</td>\n",
       "      <td>1002</td>\n",
       "      <td>Carlee</td>\n",
       "      <td>Hoffman</td>\n",
       "      <td>36</td>\n",
       "      <td>Las Vegas-Henderson-Paradise, NV MSA</td>\n",
       "      <td>2018-10-21</td>\n",
       "      <td>surf</td>\n",
       "      <td>NaT</td>\n",
       "      <td>Las Vegas-Henderson-Paradise</td>\n",
       "      <td>NV MSA</td>\n",
       "    </tr>\n",
       "  </tbody>\n",
       "</table>\n",
       "</div>"
      ],
      "text/plain": [
       "   user_id first_name  last_name  age                                   city  \\\n",
       "0     1000   Anamaria      Bauer   45  Atlanta-Sandy Springs-Roswell, GA MSA   \n",
       "1     1001     Mickey  Wilkerson   28        Seattle-Tacoma-Bellevue, WA MSA   \n",
       "2     1002     Carlee    Hoffman   36   Las Vegas-Henderson-Paradise, NV MSA   \n",
       "\n",
       "    reg_date      plan churn_date                        Address PostCode  \n",
       "0 2018-12-24  ultimate        NaT  Atlanta-Sandy Springs-Roswell   GA MSA  \n",
       "1 2018-08-13      surf        NaT        Seattle-Tacoma-Bellevue   WA MSA  \n",
       "2 2018-10-21      surf        NaT   Las Vegas-Henderson-Paradise   NV MSA  "
      ]
     },
     "execution_count": 23,
     "metadata": {},
     "output_type": "execute_result"
    }
   ],
   "source": [
    "raw_users.head(3)"
   ]
  },
  {
   "cell_type": "markdown",
   "metadata": {},
   "source": [
    "WE don't need all this data in our multi table. Let's use only the user_id, plan and PostCode."
   ]
  },
  {
   "cell_type": "code",
   "execution_count": 24,
   "metadata": {},
   "outputs": [
    {
     "data": {
      "text/html": [
       "<div>\n",
       "<style scoped>\n",
       "    .dataframe tbody tr th:only-of-type {\n",
       "        vertical-align: middle;\n",
       "    }\n",
       "\n",
       "    .dataframe tbody tr th {\n",
       "        vertical-align: top;\n",
       "    }\n",
       "\n",
       "    .dataframe thead th {\n",
       "        text-align: right;\n",
       "    }\n",
       "</style>\n",
       "<table border=\"1\" class=\"dataframe\">\n",
       "  <thead>\n",
       "    <tr style=\"text-align: right;\">\n",
       "      <th></th>\n",
       "      <th>user_id</th>\n",
       "      <th>month</th>\n",
       "      <th>messages_stats</th>\n",
       "      <th>calls_count</th>\n",
       "      <th>calls_sum</th>\n",
       "      <th>mb_used</th>\n",
       "      <th>plan</th>\n",
       "      <th>PostCode</th>\n",
       "    </tr>\n",
       "  </thead>\n",
       "  <tbody>\n",
       "    <tr>\n",
       "      <td>0</td>\n",
       "      <td>1000</td>\n",
       "      <td>12.0</td>\n",
       "      <td>11.0</td>\n",
       "      <td>16.0</td>\n",
       "      <td>124.0</td>\n",
       "      <td>1901.47</td>\n",
       "      <td>ultimate</td>\n",
       "      <td>GA MSA</td>\n",
       "    </tr>\n",
       "    <tr>\n",
       "      <td>1</td>\n",
       "      <td>1001</td>\n",
       "      <td>8.0</td>\n",
       "      <td>30.0</td>\n",
       "      <td>27.0</td>\n",
       "      <td>182.0</td>\n",
       "      <td>6919.15</td>\n",
       "      <td>surf</td>\n",
       "      <td>WA MSA</td>\n",
       "    </tr>\n",
       "    <tr>\n",
       "      <td>2</td>\n",
       "      <td>1001</td>\n",
       "      <td>9.0</td>\n",
       "      <td>44.0</td>\n",
       "      <td>49.0</td>\n",
       "      <td>315.0</td>\n",
       "      <td>13314.82</td>\n",
       "      <td>surf</td>\n",
       "      <td>WA MSA</td>\n",
       "    </tr>\n",
       "    <tr>\n",
       "      <td>3</td>\n",
       "      <td>1001</td>\n",
       "      <td>10.0</td>\n",
       "      <td>53.0</td>\n",
       "      <td>65.0</td>\n",
       "      <td>393.0</td>\n",
       "      <td>22330.49</td>\n",
       "      <td>surf</td>\n",
       "      <td>WA MSA</td>\n",
       "    </tr>\n",
       "    <tr>\n",
       "      <td>4</td>\n",
       "      <td>1001</td>\n",
       "      <td>11.0</td>\n",
       "      <td>36.0</td>\n",
       "      <td>64.0</td>\n",
       "      <td>426.0</td>\n",
       "      <td>18504.30</td>\n",
       "      <td>surf</td>\n",
       "      <td>WA MSA</td>\n",
       "    </tr>\n",
       "    <tr>\n",
       "      <td>5</td>\n",
       "      <td>1001</td>\n",
       "      <td>12.0</td>\n",
       "      <td>44.0</td>\n",
       "      <td>56.0</td>\n",
       "      <td>412.0</td>\n",
       "      <td>19369.18</td>\n",
       "      <td>surf</td>\n",
       "      <td>WA MSA</td>\n",
       "    </tr>\n",
       "    <tr>\n",
       "      <td>6</td>\n",
       "      <td>1002</td>\n",
       "      <td>10.0</td>\n",
       "      <td>15.0</td>\n",
       "      <td>11.0</td>\n",
       "      <td>59.0</td>\n",
       "      <td>6552.01</td>\n",
       "      <td>surf</td>\n",
       "      <td>NV MSA</td>\n",
       "    </tr>\n",
       "    <tr>\n",
       "      <td>7</td>\n",
       "      <td>1002</td>\n",
       "      <td>11.0</td>\n",
       "      <td>32.0</td>\n",
       "      <td>55.0</td>\n",
       "      <td>386.0</td>\n",
       "      <td>19345.08</td>\n",
       "      <td>surf</td>\n",
       "      <td>NV MSA</td>\n",
       "    </tr>\n",
       "    <tr>\n",
       "      <td>8</td>\n",
       "      <td>1002</td>\n",
       "      <td>12.0</td>\n",
       "      <td>41.0</td>\n",
       "      <td>47.0</td>\n",
       "      <td>384.0</td>\n",
       "      <td>14396.24</td>\n",
       "      <td>surf</td>\n",
       "      <td>NV MSA</td>\n",
       "    </tr>\n",
       "    <tr>\n",
       "      <td>9</td>\n",
       "      <td>1003</td>\n",
       "      <td>12.0</td>\n",
       "      <td>50.0</td>\n",
       "      <td>149.0</td>\n",
       "      <td>1104.0</td>\n",
       "      <td>27044.14</td>\n",
       "      <td>surf</td>\n",
       "      <td>OK MSA</td>\n",
       "    </tr>\n",
       "  </tbody>\n",
       "</table>\n",
       "</div>"
      ],
      "text/plain": [
       "   user_id  month  messages_stats  calls_count  calls_sum   mb_used      plan  \\\n",
       "0     1000   12.0            11.0         16.0      124.0   1901.47  ultimate   \n",
       "1     1001    8.0            30.0         27.0      182.0   6919.15      surf   \n",
       "2     1001    9.0            44.0         49.0      315.0  13314.82      surf   \n",
       "3     1001   10.0            53.0         65.0      393.0  22330.49      surf   \n",
       "4     1001   11.0            36.0         64.0      426.0  18504.30      surf   \n",
       "5     1001   12.0            44.0         56.0      412.0  19369.18      surf   \n",
       "6     1002   10.0            15.0         11.0       59.0   6552.01      surf   \n",
       "7     1002   11.0            32.0         55.0      386.0  19345.08      surf   \n",
       "8     1002   12.0            41.0         47.0      384.0  14396.24      surf   \n",
       "9     1003   12.0            50.0        149.0     1104.0  27044.14      surf   \n",
       "\n",
       "  PostCode  \n",
       "0   GA MSA  \n",
       "1   WA MSA  \n",
       "2   WA MSA  \n",
       "3   WA MSA  \n",
       "4   WA MSA  \n",
       "5   WA MSA  \n",
       "6   NV MSA  \n",
       "7   NV MSA  \n",
       "8   NV MSA  \n",
       "9   OK MSA  "
      ]
     },
     "execution_count": 24,
     "metadata": {},
     "output_type": "execute_result"
    }
   ],
   "source": [
    "new_users = raw_users.drop(['first_name', 'last_name', \"age\", \"Address\", \"city\", \"reg_date\", \"churn_date\"], axis=1)\n",
    "multi_group = pd.merge(multi_group, new_users, on=[\"user_id\"], how = \"outer\")\n",
    "\n",
    "# Let's check: \n",
    "multi_group.head(10)"
   ]
  },
  {
   "cell_type": "markdown",
   "metadata": {
    "id": "EBvVI381AS0v"
   },
   "source": [
    "\n",
    "Clean and tidy! \n",
    "\n",
    "Last but not the least let's add the ***raw_plan***. Unlike the other merges, this time we will merge on the ***plan*** column. \n"
   ]
  },
  {
   "cell_type": "code",
   "execution_count": 25,
   "metadata": {
    "scrolled": true
   },
   "outputs": [
    {
     "data": {
      "text/html": [
       "<div>\n",
       "<style scoped>\n",
       "    .dataframe tbody tr th:only-of-type {\n",
       "        vertical-align: middle;\n",
       "    }\n",
       "\n",
       "    .dataframe tbody tr th {\n",
       "        vertical-align: top;\n",
       "    }\n",
       "\n",
       "    .dataframe thead th {\n",
       "        text-align: right;\n",
       "    }\n",
       "</style>\n",
       "<table border=\"1\" class=\"dataframe\">\n",
       "  <thead>\n",
       "    <tr style=\"text-align: right;\">\n",
       "      <th></th>\n",
       "      <th>user_id</th>\n",
       "      <th>month</th>\n",
       "      <th>messages_stats</th>\n",
       "      <th>calls_count</th>\n",
       "      <th>calls_sum</th>\n",
       "      <th>mb_used</th>\n",
       "      <th>plan</th>\n",
       "      <th>PostCode</th>\n",
       "      <th>messages_included</th>\n",
       "      <th>mb_per_month_included</th>\n",
       "      <th>minutes_included</th>\n",
       "      <th>usd_monthly_pay</th>\n",
       "      <th>usd_per_gb</th>\n",
       "      <th>usd_per_message</th>\n",
       "      <th>usd_per_minute</th>\n",
       "      <th>plan_name</th>\n",
       "    </tr>\n",
       "  </thead>\n",
       "  <tbody>\n",
       "    <tr>\n",
       "      <td>0</td>\n",
       "      <td>1000</td>\n",
       "      <td>12.0</td>\n",
       "      <td>11.0</td>\n",
       "      <td>16.0</td>\n",
       "      <td>124.0</td>\n",
       "      <td>1901.47</td>\n",
       "      <td>ultimate</td>\n",
       "      <td>GA MSA</td>\n",
       "      <td>1000</td>\n",
       "      <td>30720</td>\n",
       "      <td>3000</td>\n",
       "      <td>70</td>\n",
       "      <td>7</td>\n",
       "      <td>0.01</td>\n",
       "      <td>0.01</td>\n",
       "      <td>ultimate</td>\n",
       "    </tr>\n",
       "    <tr>\n",
       "      <td>1</td>\n",
       "      <td>1006</td>\n",
       "      <td>11.0</td>\n",
       "      <td>15.0</td>\n",
       "      <td>2.0</td>\n",
       "      <td>10.0</td>\n",
       "      <td>2068.37</td>\n",
       "      <td>ultimate</td>\n",
       "      <td>CA MSA</td>\n",
       "      <td>1000</td>\n",
       "      <td>30720</td>\n",
       "      <td>3000</td>\n",
       "      <td>70</td>\n",
       "      <td>7</td>\n",
       "      <td>0.01</td>\n",
       "      <td>0.01</td>\n",
       "      <td>ultimate</td>\n",
       "    </tr>\n",
       "    <tr>\n",
       "      <td>2</td>\n",
       "      <td>1006</td>\n",
       "      <td>12.0</td>\n",
       "      <td>139.0</td>\n",
       "      <td>9.0</td>\n",
       "      <td>59.0</td>\n",
       "      <td>32118.82</td>\n",
       "      <td>ultimate</td>\n",
       "      <td>CA MSA</td>\n",
       "      <td>1000</td>\n",
       "      <td>30720</td>\n",
       "      <td>3000</td>\n",
       "      <td>70</td>\n",
       "      <td>7</td>\n",
       "      <td>0.01</td>\n",
       "      <td>0.01</td>\n",
       "      <td>ultimate</td>\n",
       "    </tr>\n",
       "  </tbody>\n",
       "</table>\n",
       "</div>"
      ],
      "text/plain": [
       "   user_id  month  messages_stats  calls_count  calls_sum   mb_used      plan  \\\n",
       "0     1000   12.0            11.0         16.0      124.0   1901.47  ultimate   \n",
       "1     1006   11.0            15.0          2.0       10.0   2068.37  ultimate   \n",
       "2     1006   12.0           139.0          9.0       59.0  32118.82  ultimate   \n",
       "\n",
       "  PostCode  messages_included  mb_per_month_included  minutes_included  \\\n",
       "0   GA MSA               1000                  30720              3000   \n",
       "1   CA MSA               1000                  30720              3000   \n",
       "2   CA MSA               1000                  30720              3000   \n",
       "\n",
       "   usd_monthly_pay  usd_per_gb  usd_per_message  usd_per_minute plan_name  \n",
       "0               70           7             0.01            0.01  ultimate  \n",
       "1               70           7             0.01            0.01  ultimate  \n",
       "2               70           7             0.01            0.01  ultimate  "
      ]
     },
     "execution_count": 25,
     "metadata": {},
     "output_type": "execute_result"
    }
   ],
   "source": [
    "multi_group = pd.merge(multi_group, raw_plans, left_on='plan', right_on='plan_name')\n",
    "\n",
    "# Let's check: \n",
    "multi_group.head(3)"
   ]
  },
  {
   "cell_type": "code",
   "execution_count": 26,
   "metadata": {
    "id": "FBIj2mfaTBEW"
   },
   "outputs": [],
   "source": [
    "multi_group = multi_group.drop([\"plan_name\"], axis = 1)"
   ]
  },
  {
   "cell_type": "markdown",
   "metadata": {
    "id": "6JpIVFR15z-9"
   },
   "source": [
    "Some titles are way too long. Let's rename:"
   ]
  },
  {
   "cell_type": "code",
   "execution_count": 27,
   "metadata": {
    "colab": {
     "base_uri": "https://localhost:8080/",
     "height": 259
    },
    "id": "blb1udp0Tjhl",
    "outputId": "8ba95a6d-1430-46e3-84d6-bf3fd31d7ce8"
   },
   "outputs": [],
   "source": [
    "multi_group.rename(columns = { \n",
    "    \"messages_stats\" : \"mess_stats\",\n",
    "    \"messages_included\": \"mess_inc\",\n",
    "    \"mb_per_month_included\": \"mb_inc\",\n",
    "    \"minutes_included\":\"min_inc\",\n",
    "    \"usd_monthly_pay\": \"price\",\n",
    "    \"usd_per_gb\": \"per_gb\",\n",
    "    \"usd_per_message\": \"per_mess\",\n",
    "    \"usd_per_minute\":\"per_min\"}, inplace = True)"
   ]
  },
  {
   "cell_type": "code",
   "execution_count": 28,
   "metadata": {},
   "outputs": [
    {
     "data": {
      "text/html": [
       "<div>\n",
       "<style scoped>\n",
       "    .dataframe tbody tr th:only-of-type {\n",
       "        vertical-align: middle;\n",
       "    }\n",
       "\n",
       "    .dataframe tbody tr th {\n",
       "        vertical-align: top;\n",
       "    }\n",
       "\n",
       "    .dataframe thead th {\n",
       "        text-align: right;\n",
       "    }\n",
       "</style>\n",
       "<table border=\"1\" class=\"dataframe\">\n",
       "  <thead>\n",
       "    <tr style=\"text-align: right;\">\n",
       "      <th></th>\n",
       "      <th>user_id</th>\n",
       "      <th>month</th>\n",
       "      <th>mess_stats</th>\n",
       "      <th>calls_count</th>\n",
       "      <th>calls_sum</th>\n",
       "      <th>mb_used</th>\n",
       "      <th>plan</th>\n",
       "      <th>PostCode</th>\n",
       "      <th>mess_inc</th>\n",
       "      <th>mb_inc</th>\n",
       "      <th>min_inc</th>\n",
       "      <th>price</th>\n",
       "      <th>per_gb</th>\n",
       "      <th>per_mess</th>\n",
       "      <th>per_min</th>\n",
       "    </tr>\n",
       "  </thead>\n",
       "  <tbody>\n",
       "    <tr>\n",
       "      <td>0</td>\n",
       "      <td>1000</td>\n",
       "      <td>12.0</td>\n",
       "      <td>11.0</td>\n",
       "      <td>16.0</td>\n",
       "      <td>124.0</td>\n",
       "      <td>1901.47</td>\n",
       "      <td>ultimate</td>\n",
       "      <td>GA MSA</td>\n",
       "      <td>1000</td>\n",
       "      <td>30720</td>\n",
       "      <td>3000</td>\n",
       "      <td>70</td>\n",
       "      <td>7</td>\n",
       "      <td>0.01</td>\n",
       "      <td>0.01</td>\n",
       "    </tr>\n",
       "    <tr>\n",
       "      <td>1</td>\n",
       "      <td>1006</td>\n",
       "      <td>11.0</td>\n",
       "      <td>15.0</td>\n",
       "      <td>2.0</td>\n",
       "      <td>10.0</td>\n",
       "      <td>2068.37</td>\n",
       "      <td>ultimate</td>\n",
       "      <td>CA MSA</td>\n",
       "      <td>1000</td>\n",
       "      <td>30720</td>\n",
       "      <td>3000</td>\n",
       "      <td>70</td>\n",
       "      <td>7</td>\n",
       "      <td>0.01</td>\n",
       "      <td>0.01</td>\n",
       "    </tr>\n",
       "    <tr>\n",
       "      <td>2</td>\n",
       "      <td>1006</td>\n",
       "      <td>12.0</td>\n",
       "      <td>139.0</td>\n",
       "      <td>9.0</td>\n",
       "      <td>59.0</td>\n",
       "      <td>32118.82</td>\n",
       "      <td>ultimate</td>\n",
       "      <td>CA MSA</td>\n",
       "      <td>1000</td>\n",
       "      <td>30720</td>\n",
       "      <td>3000</td>\n",
       "      <td>70</td>\n",
       "      <td>7</td>\n",
       "      <td>0.01</td>\n",
       "      <td>0.01</td>\n",
       "    </tr>\n",
       "    <tr>\n",
       "      <td>3</td>\n",
       "      <td>1008</td>\n",
       "      <td>10.0</td>\n",
       "      <td>21.0</td>\n",
       "      <td>71.0</td>\n",
       "      <td>476.0</td>\n",
       "      <td>17106.99</td>\n",
       "      <td>ultimate</td>\n",
       "      <td>FL MSA</td>\n",
       "      <td>1000</td>\n",
       "      <td>30720</td>\n",
       "      <td>3000</td>\n",
       "      <td>70</td>\n",
       "      <td>7</td>\n",
       "      <td>0.01</td>\n",
       "      <td>0.01</td>\n",
       "    </tr>\n",
       "    <tr>\n",
       "      <td>4</td>\n",
       "      <td>1008</td>\n",
       "      <td>11.0</td>\n",
       "      <td>37.0</td>\n",
       "      <td>63.0</td>\n",
       "      <td>446.0</td>\n",
       "      <td>23676.72</td>\n",
       "      <td>ultimate</td>\n",
       "      <td>FL MSA</td>\n",
       "      <td>1000</td>\n",
       "      <td>30720</td>\n",
       "      <td>3000</td>\n",
       "      <td>70</td>\n",
       "      <td>7</td>\n",
       "      <td>0.01</td>\n",
       "      <td>0.01</td>\n",
       "    </tr>\n",
       "  </tbody>\n",
       "</table>\n",
       "</div>"
      ],
      "text/plain": [
       "   user_id  month  mess_stats  calls_count  calls_sum   mb_used      plan  \\\n",
       "0     1000   12.0        11.0         16.0      124.0   1901.47  ultimate   \n",
       "1     1006   11.0        15.0          2.0       10.0   2068.37  ultimate   \n",
       "2     1006   12.0       139.0          9.0       59.0  32118.82  ultimate   \n",
       "3     1008   10.0        21.0         71.0      476.0  17106.99  ultimate   \n",
       "4     1008   11.0        37.0         63.0      446.0  23676.72  ultimate   \n",
       "\n",
       "  PostCode  mess_inc  mb_inc  min_inc  price  per_gb  per_mess  per_min  \n",
       "0   GA MSA      1000   30720     3000     70       7      0.01     0.01  \n",
       "1   CA MSA      1000   30720     3000     70       7      0.01     0.01  \n",
       "2   CA MSA      1000   30720     3000     70       7      0.01     0.01  \n",
       "3   FL MSA      1000   30720     3000     70       7      0.01     0.01  \n",
       "4   FL MSA      1000   30720     3000     70       7      0.01     0.01  "
      ]
     },
     "execution_count": 28,
     "metadata": {},
     "output_type": "execute_result"
    }
   ],
   "source": [
    "multi_group.head(5)"
   ]
  },
  {
   "cell_type": "code",
   "execution_count": 29,
   "metadata": {},
   "outputs": [
    {
     "name": "stdout",
     "output_type": "stream",
     "text": [
      "we have 500 unique customers in our dataset\n"
     ]
    }
   ],
   "source": [
    "print(\"we have\", multi_group.user_id.nunique(), \"unique customers in our dataset\")"
   ]
  },
  {
   "cell_type": "markdown",
   "metadata": {
    "id": "JNImTKgX5_4p"
   },
   "source": [
    "Great! This is the table that we need for our further analysis. Our task is to find the monthly revenue from each user.\n",
    "\n",
    "To achive this goal we must perform 3 step calculation:\n",
    "1. Subtract the free package limit from the total number of calls, text messages, and data.\n",
    "2. Multiply the result by the calling plan value.\n",
    "3. Add the monthly charge depending on the calling plan.\n",
    "\n",
    "Let's start with number 1. "
   ]
  },
  {
   "cell_type": "markdown",
   "metadata": {
    "id": "je6tldkC69e_"
   },
   "source": [
    "## Subtracting the free package limit from the total number of calls, text messages, and data.\n",
    "\n",
    "In order to save the substructed information (total number - package limit) we will need 3 additional columns:\n",
    "clean_num_messages, clean_calls_sum, messages_netto, clean_mb_used."
   ]
  },
  {
   "cell_type": "code",
   "execution_count": 30,
   "metadata": {
    "id": "lPVSQsm2Annj"
   },
   "outputs": [],
   "source": [
    "triplex = {\"mess_stats\": \"mess_inc\", \n",
    "           \"calls_sum\"  : \"min_inc\",\n",
    "           \"mb_used\": \"mb_inc\"}"
   ]
  },
  {
   "cell_type": "markdown",
   "metadata": {
    "id": "HVukAQnfFp9g"
   },
   "source": [
    "Now the for loop:"
   ]
  },
  {
   "cell_type": "code",
   "execution_count": 31,
   "metadata": {
    "id": "v_w2_gex9mNg"
   },
   "outputs": [],
   "source": [
    "for x in triplex:\n",
    "    multi_group[\"clean_\"+x] =  multi_group[triplex[x]] - multi_group[x]\n"
   ]
  },
  {
   "cell_type": "code",
   "execution_count": 32,
   "metadata": {
    "colab": {
     "base_uri": "https://localhost:8080/",
     "height": 206
    },
    "id": "RE8QurPwZ9pl",
    "outputId": "a970d4ac-8a29-46a0-ff63-1e528127d801"
   },
   "outputs": [
    {
     "data": {
      "text/html": [
       "<div>\n",
       "<style scoped>\n",
       "    .dataframe tbody tr th:only-of-type {\n",
       "        vertical-align: middle;\n",
       "    }\n",
       "\n",
       "    .dataframe tbody tr th {\n",
       "        vertical-align: top;\n",
       "    }\n",
       "\n",
       "    .dataframe thead th {\n",
       "        text-align: right;\n",
       "    }\n",
       "</style>\n",
       "<table border=\"1\" class=\"dataframe\">\n",
       "  <thead>\n",
       "    <tr style=\"text-align: right;\">\n",
       "      <th></th>\n",
       "      <th>clean_mess_stats</th>\n",
       "      <th>clean_calls_sum</th>\n",
       "      <th>clean_mb_used</th>\n",
       "    </tr>\n",
       "  </thead>\n",
       "  <tbody>\n",
       "    <tr>\n",
       "      <td>0</td>\n",
       "      <td>989.0</td>\n",
       "      <td>2876.0</td>\n",
       "      <td>28818.53</td>\n",
       "    </tr>\n",
       "    <tr>\n",
       "      <td>1</td>\n",
       "      <td>985.0</td>\n",
       "      <td>2990.0</td>\n",
       "      <td>28651.63</td>\n",
       "    </tr>\n",
       "    <tr>\n",
       "      <td>2</td>\n",
       "      <td>861.0</td>\n",
       "      <td>2941.0</td>\n",
       "      <td>-1398.82</td>\n",
       "    </tr>\n",
       "    <tr>\n",
       "      <td>3</td>\n",
       "      <td>979.0</td>\n",
       "      <td>2524.0</td>\n",
       "      <td>13613.01</td>\n",
       "    </tr>\n",
       "    <tr>\n",
       "      <td>4</td>\n",
       "      <td>963.0</td>\n",
       "      <td>2554.0</td>\n",
       "      <td>7043.28</td>\n",
       "    </tr>\n",
       "  </tbody>\n",
       "</table>\n",
       "</div>"
      ],
      "text/plain": [
       "   clean_mess_stats  clean_calls_sum  clean_mb_used\n",
       "0             989.0           2876.0       28818.53\n",
       "1             985.0           2990.0       28651.63\n",
       "2             861.0           2941.0       -1398.82\n",
       "3             979.0           2524.0       13613.01\n",
       "4             963.0           2554.0        7043.28"
      ]
     },
     "execution_count": 32,
     "metadata": {},
     "output_type": "execute_result"
    }
   ],
   "source": [
    "# Let's check:\n",
    "\n",
    "multi_group.iloc[:, -3:].head(5)\n"
   ]
  },
  {
   "cell_type": "markdown",
   "metadata": {
    "id": "5_ZT9onmahGk"
   },
   "source": [
    "We dedacted from the plan limit the customer's monthly usage of services and saved the results in a separate new columns. "
   ]
  },
  {
   "cell_type": "markdown",
   "metadata": {
    "id": "H2DVXhOYbMU0"
   },
   "source": [
    "# Calculating the different revenues streams."
   ]
  },
  {
   "cell_type": "markdown",
   "metadata": {
    "id": "RU_fgIxr1ceJ"
   },
   "source": [
    "We should only charge if the customer usage is negative. We don't care about the values above 0 as they are still within the limits of the bundle. \n"
   ]
  },
  {
   "cell_type": "code",
   "execution_count": 33,
   "metadata": {
    "colab": {
     "base_uri": "https://localhost:8080/"
    },
    "id": "xIc0dzfPNwVB",
    "outputId": "564fd060-4127-4e47-a155-8363abcd0768"
   },
   "outputs": [
    {
     "data": {
      "text/html": [
       "<div>\n",
       "<style scoped>\n",
       "    .dataframe tbody tr th:only-of-type {\n",
       "        vertical-align: middle;\n",
       "    }\n",
       "\n",
       "    .dataframe tbody tr th {\n",
       "        vertical-align: top;\n",
       "    }\n",
       "\n",
       "    .dataframe thead th {\n",
       "        text-align: right;\n",
       "    }\n",
       "</style>\n",
       "<table border=\"1\" class=\"dataframe\">\n",
       "  <thead>\n",
       "    <tr style=\"text-align: right;\">\n",
       "      <th></th>\n",
       "      <th>per_gb</th>\n",
       "      <th>per_mess</th>\n",
       "      <th>per_min</th>\n",
       "      <th>clean_mess_stats</th>\n",
       "      <th>clean_calls_sum</th>\n",
       "      <th>clean_mb_used</th>\n",
       "    </tr>\n",
       "  </thead>\n",
       "  <tbody>\n",
       "    <tr>\n",
       "      <td>0</td>\n",
       "      <td>7</td>\n",
       "      <td>0.01</td>\n",
       "      <td>0.01</td>\n",
       "      <td>0.0</td>\n",
       "      <td>0.0</td>\n",
       "      <td>0.0</td>\n",
       "    </tr>\n",
       "    <tr>\n",
       "      <td>1</td>\n",
       "      <td>7</td>\n",
       "      <td>0.01</td>\n",
       "      <td>0.01</td>\n",
       "      <td>0.0</td>\n",
       "      <td>0.0</td>\n",
       "      <td>0.0</td>\n",
       "    </tr>\n",
       "    <tr>\n",
       "      <td>2</td>\n",
       "      <td>7</td>\n",
       "      <td>0.01</td>\n",
       "      <td>0.01</td>\n",
       "      <td>0.0</td>\n",
       "      <td>0.0</td>\n",
       "      <td>-2.0</td>\n",
       "    </tr>\n",
       "    <tr>\n",
       "      <td>3</td>\n",
       "      <td>7</td>\n",
       "      <td>0.01</td>\n",
       "      <td>0.01</td>\n",
       "      <td>0.0</td>\n",
       "      <td>0.0</td>\n",
       "      <td>0.0</td>\n",
       "    </tr>\n",
       "    <tr>\n",
       "      <td>4</td>\n",
       "      <td>7</td>\n",
       "      <td>0.01</td>\n",
       "      <td>0.01</td>\n",
       "      <td>0.0</td>\n",
       "      <td>0.0</td>\n",
       "      <td>0.0</td>\n",
       "    </tr>\n",
       "  </tbody>\n",
       "</table>\n",
       "</div>"
      ],
      "text/plain": [
       "   per_gb  per_mess  per_min  clean_mess_stats  clean_calls_sum  clean_mb_used\n",
       "0       7      0.01     0.01               0.0              0.0            0.0\n",
       "1       7      0.01     0.01               0.0              0.0            0.0\n",
       "2       7      0.01     0.01               0.0              0.0           -2.0\n",
       "3       7      0.01     0.01               0.0              0.0            0.0\n",
       "4       7      0.01     0.01               0.0              0.0            0.0"
      ]
     },
     "execution_count": 33,
     "metadata": {},
     "output_type": "execute_result"
    }
   ],
   "source": [
    "# Creating and Saving the new CLEAN mb vals \n",
    "\n",
    "new_vals2 = multi_group.apply(lambda row: np.floor(row.clean_mb_used * (1.0/1024)) if (row.clean_mb_used < 0) else 0, axis = 1)\n",
    "multi_group.clean_mb_used = new_vals2\n",
    "\n",
    "\n",
    "# Creating and Saving the new CLEAN messages vals\n",
    "\n",
    "new_messages = multi_group.apply(lambda row:  0 if (row.clean_mess_stats > 0) else (row.clean_mess_stats), axis = 1)\n",
    "multi_group.clean_mess_stats = new_messages\n",
    "\n",
    "# Creating and Saving the new CLEAN calls vals\n",
    "\n",
    "new_calls = multi_group.apply(lambda row:  0 if (row.clean_calls_sum > 0) else (row.clean_calls_sum), axis = 1)\n",
    "multi_group.clean_calls_sum = new_calls\n",
    "\n",
    "multi_group.iloc[:, -6:].head(5)\n",
    "\n",
    "# Let's check:\n"
   ]
  },
  {
   "cell_type": "markdown",
   "metadata": {},
   "source": [
    "We can clearly see that all the values lower than 0 are rounded to to the thousand. For example instance 2."
   ]
  },
  {
   "cell_type": "markdown",
   "metadata": {
    "id": "Ck1f9VMlNwVC"
   },
   "source": [
    "<div class=\"alert alert-block alert-warning\">\n",
    "<b>Reviewer's comment</b> <a class=\"tocSkip\"></a>\n",
    "\n",
    "This can also be done using pandas apply() method, which is generally better than iterrows().\n",
    "For more information please see this: https://stackoverflow.com/questions/24870953/does-pandas-iterrows-have-performance-issues\n",
    "</div>"
   ]
  },
  {
   "cell_type": "markdown",
   "metadata": {
    "id": "AstfiP1o6ss4"
   },
   "source": [
    "Now let's calculate the total revenue per user per month\n",
    "\n",
    "Let's remind ourselves how our table looks like:\n"
   ]
  },
  {
   "cell_type": "code",
   "execution_count": 34,
   "metadata": {},
   "outputs": [
    {
     "data": {
      "text/html": [
       "<div>\n",
       "<style scoped>\n",
       "    .dataframe tbody tr th:only-of-type {\n",
       "        vertical-align: middle;\n",
       "    }\n",
       "\n",
       "    .dataframe tbody tr th {\n",
       "        vertical-align: top;\n",
       "    }\n",
       "\n",
       "    .dataframe thead th {\n",
       "        text-align: right;\n",
       "    }\n",
       "</style>\n",
       "<table border=\"1\" class=\"dataframe\">\n",
       "  <thead>\n",
       "    <tr style=\"text-align: right;\">\n",
       "      <th></th>\n",
       "      <th>user_id</th>\n",
       "      <th>month</th>\n",
       "      <th>mess_stats</th>\n",
       "      <th>calls_count</th>\n",
       "      <th>calls_sum</th>\n",
       "      <th>mb_used</th>\n",
       "      <th>plan</th>\n",
       "      <th>PostCode</th>\n",
       "      <th>mess_inc</th>\n",
       "      <th>mb_inc</th>\n",
       "      <th>min_inc</th>\n",
       "      <th>price</th>\n",
       "      <th>per_gb</th>\n",
       "      <th>per_mess</th>\n",
       "      <th>per_min</th>\n",
       "      <th>clean_mess_stats</th>\n",
       "      <th>clean_calls_sum</th>\n",
       "      <th>clean_mb_used</th>\n",
       "    </tr>\n",
       "  </thead>\n",
       "  <tbody>\n",
       "    <tr>\n",
       "      <td>0</td>\n",
       "      <td>1000</td>\n",
       "      <td>12.0</td>\n",
       "      <td>11.0</td>\n",
       "      <td>16.0</td>\n",
       "      <td>124.0</td>\n",
       "      <td>1901.47</td>\n",
       "      <td>ultimate</td>\n",
       "      <td>GA MSA</td>\n",
       "      <td>1000</td>\n",
       "      <td>30720</td>\n",
       "      <td>3000</td>\n",
       "      <td>70</td>\n",
       "      <td>7</td>\n",
       "      <td>0.01</td>\n",
       "      <td>0.01</td>\n",
       "      <td>0.0</td>\n",
       "      <td>0.0</td>\n",
       "      <td>0.0</td>\n",
       "    </tr>\n",
       "    <tr>\n",
       "      <td>1</td>\n",
       "      <td>1006</td>\n",
       "      <td>11.0</td>\n",
       "      <td>15.0</td>\n",
       "      <td>2.0</td>\n",
       "      <td>10.0</td>\n",
       "      <td>2068.37</td>\n",
       "      <td>ultimate</td>\n",
       "      <td>CA MSA</td>\n",
       "      <td>1000</td>\n",
       "      <td>30720</td>\n",
       "      <td>3000</td>\n",
       "      <td>70</td>\n",
       "      <td>7</td>\n",
       "      <td>0.01</td>\n",
       "      <td>0.01</td>\n",
       "      <td>0.0</td>\n",
       "      <td>0.0</td>\n",
       "      <td>0.0</td>\n",
       "    </tr>\n",
       "    <tr>\n",
       "      <td>2</td>\n",
       "      <td>1006</td>\n",
       "      <td>12.0</td>\n",
       "      <td>139.0</td>\n",
       "      <td>9.0</td>\n",
       "      <td>59.0</td>\n",
       "      <td>32118.82</td>\n",
       "      <td>ultimate</td>\n",
       "      <td>CA MSA</td>\n",
       "      <td>1000</td>\n",
       "      <td>30720</td>\n",
       "      <td>3000</td>\n",
       "      <td>70</td>\n",
       "      <td>7</td>\n",
       "      <td>0.01</td>\n",
       "      <td>0.01</td>\n",
       "      <td>0.0</td>\n",
       "      <td>0.0</td>\n",
       "      <td>-2.0</td>\n",
       "    </tr>\n",
       "  </tbody>\n",
       "</table>\n",
       "</div>"
      ],
      "text/plain": [
       "   user_id  month  mess_stats  calls_count  calls_sum   mb_used      plan  \\\n",
       "0     1000   12.0        11.0         16.0      124.0   1901.47  ultimate   \n",
       "1     1006   11.0        15.0          2.0       10.0   2068.37  ultimate   \n",
       "2     1006   12.0       139.0          9.0       59.0  32118.82  ultimate   \n",
       "\n",
       "  PostCode  mess_inc  mb_inc  min_inc  price  per_gb  per_mess  per_min  \\\n",
       "0   GA MSA      1000   30720     3000     70       7      0.01     0.01   \n",
       "1   CA MSA      1000   30720     3000     70       7      0.01     0.01   \n",
       "2   CA MSA      1000   30720     3000     70       7      0.01     0.01   \n",
       "\n",
       "   clean_mess_stats  clean_calls_sum  clean_mb_used  \n",
       "0               0.0              0.0            0.0  \n",
       "1               0.0              0.0            0.0  \n",
       "2               0.0              0.0           -2.0  "
      ]
     },
     "execution_count": 34,
     "metadata": {},
     "output_type": "execute_result"
    }
   ],
   "source": [
    "multi_group.head(3)"
   ]
  },
  {
   "cell_type": "code",
   "execution_count": 35,
   "metadata": {
    "id": "EfhZIl9lFHSm"
   },
   "outputs": [],
   "source": [
    "triplex_2 = {\"clean_mess_stats\": \"per_mess\", \n",
    "           \"clean_calls_sum\"  : \"per_min\",\n",
    "           \"clean_mb_used\": \"per_gb\"}\n",
    "           "
   ]
  },
  {
   "cell_type": "code",
   "execution_count": 36,
   "metadata": {},
   "outputs": [
    {
     "data": {
      "text/html": [
       "<div>\n",
       "<style scoped>\n",
       "    .dataframe tbody tr th:only-of-type {\n",
       "        vertical-align: middle;\n",
       "    }\n",
       "\n",
       "    .dataframe tbody tr th {\n",
       "        vertical-align: top;\n",
       "    }\n",
       "\n",
       "    .dataframe thead th {\n",
       "        text-align: right;\n",
       "    }\n",
       "</style>\n",
       "<table border=\"1\" class=\"dataframe\">\n",
       "  <thead>\n",
       "    <tr style=\"text-align: right;\">\n",
       "      <th></th>\n",
       "      <th>clean_mess_stats</th>\n",
       "      <th>clean_calls_sum</th>\n",
       "      <th>clean_mb_used</th>\n",
       "      <th>pay_clean_mess_stats</th>\n",
       "      <th>pay_clean_calls_sum</th>\n",
       "      <th>pay_clean_mb_used</th>\n",
       "    </tr>\n",
       "  </thead>\n",
       "  <tbody>\n",
       "    <tr>\n",
       "      <td>0</td>\n",
       "      <td>0.0</td>\n",
       "      <td>0.0</td>\n",
       "      <td>0.0</td>\n",
       "      <td>0.0</td>\n",
       "      <td>0.0</td>\n",
       "      <td>0.0</td>\n",
       "    </tr>\n",
       "    <tr>\n",
       "      <td>1</td>\n",
       "      <td>0.0</td>\n",
       "      <td>0.0</td>\n",
       "      <td>0.0</td>\n",
       "      <td>0.0</td>\n",
       "      <td>0.0</td>\n",
       "      <td>0.0</td>\n",
       "    </tr>\n",
       "    <tr>\n",
       "      <td>2</td>\n",
       "      <td>0.0</td>\n",
       "      <td>0.0</td>\n",
       "      <td>-2.0</td>\n",
       "      <td>0.0</td>\n",
       "      <td>0.0</td>\n",
       "      <td>14.0</td>\n",
       "    </tr>\n",
       "    <tr>\n",
       "      <td>3</td>\n",
       "      <td>0.0</td>\n",
       "      <td>0.0</td>\n",
       "      <td>0.0</td>\n",
       "      <td>0.0</td>\n",
       "      <td>0.0</td>\n",
       "      <td>0.0</td>\n",
       "    </tr>\n",
       "    <tr>\n",
       "      <td>4</td>\n",
       "      <td>0.0</td>\n",
       "      <td>0.0</td>\n",
       "      <td>0.0</td>\n",
       "      <td>0.0</td>\n",
       "      <td>0.0</td>\n",
       "      <td>0.0</td>\n",
       "    </tr>\n",
       "  </tbody>\n",
       "</table>\n",
       "</div>"
      ],
      "text/plain": [
       "   clean_mess_stats  clean_calls_sum  clean_mb_used  pay_clean_mess_stats  \\\n",
       "0               0.0              0.0            0.0                   0.0   \n",
       "1               0.0              0.0            0.0                   0.0   \n",
       "2               0.0              0.0           -2.0                   0.0   \n",
       "3               0.0              0.0            0.0                   0.0   \n",
       "4               0.0              0.0            0.0                   0.0   \n",
       "\n",
       "   pay_clean_calls_sum  pay_clean_mb_used  \n",
       "0                  0.0                0.0  \n",
       "1                  0.0                0.0  \n",
       "2                  0.0               14.0  \n",
       "3                  0.0                0.0  \n",
       "4                  0.0                0.0  "
      ]
     },
     "execution_count": 36,
     "metadata": {},
     "output_type": "execute_result"
    }
   ],
   "source": [
    "# Calculating the payment:\n",
    "\n",
    "for x in triplex_2:\n",
    "      multi_group[\"pay_\"+x]= abs(multi_group[x]) * multi_group[triplex_2[x]]\n",
    "        \n",
    "        \n",
    "#Checking the table:    \n",
    "multi_group.iloc[:, -6:].head(5)\n"
   ]
  },
  {
   "cell_type": "markdown",
   "metadata": {
    "id": "AKPuYnkFpLvM"
   },
   "source": [
    "Great! We have created 3 new columns, and saved only the multiplications of the castumers that passed their limits. \n",
    "\n",
    "Let's run a quick check to see that are columns are not filled with zeros:"
   ]
  },
  {
   "cell_type": "code",
   "execution_count": 37,
   "metadata": {
    "colab": {
     "base_uri": "https://localhost:8080/"
    },
    "id": "isuJtaMkmbLF",
    "outputId": "fd148e24-f5d8-48a0-bf1d-7368dd1735bb"
   },
   "outputs": [
    {
     "name": "stdout",
     "output_type": "stream",
     "text": [
      "There are 300 unique values in payment_clean_calls_sum\n",
      "There are 94 unique values in payment_clean_messages\n",
      "There are 45 unique values in payment_clean_mb_used\n"
     ]
    }
   ],
   "source": [
    "print(\"There are\", multi_group.pay_clean_calls_sum.nunique(), \"unique values in payment_clean_calls_sum\")\n",
    "print(\"There are\", multi_group.pay_clean_mess_stats.nunique(), \"unique values in payment_clean_messages\")\n",
    "print(\"There are\", multi_group.pay_clean_mb_used.nunique(), \"unique values in payment_clean_mb_used\")"
   ]
  },
  {
   "cell_type": "markdown",
   "metadata": {},
   "source": [
    "<div class=\"alert alert-block alert-success\">\n",
    "<b>Reviewer's comment v2</b> <a class=\"tocSkip\"></a>\n",
    "\n",
    "You're right to check things like this.\n",
    "</div>"
   ]
  },
  {
   "cell_type": "markdown",
   "metadata": {
    "id": "wE4lhCnaqi-m"
   },
   "source": [
    "Now let's add the total monthly charges + the price of the plan."
   ]
  },
  {
   "cell_type": "code",
   "execution_count": 38,
   "metadata": {
    "id": "HiiFeb-0rgKj"
   },
   "outputs": [],
   "source": [
    "multi_group[\"m_rev\"] =  multi_group[\"pay_clean_calls_sum\"] + multi_group[\"pay_clean_mess_stats\"] + multi_group[\"pay_clean_mb_used\"] + multi_group.price"
   ]
  },
  {
   "cell_type": "code",
   "execution_count": 39,
   "metadata": {
    "colab": {
     "base_uri": "https://localhost:8080/",
     "height": 206
    },
    "id": "qUN-SKrHtfDO",
    "outputId": "ad72b0e1-4f60-4489-837d-fc9609887d1e"
   },
   "outputs": [
    {
     "data": {
      "text/html": [
       "<div>\n",
       "<style scoped>\n",
       "    .dataframe tbody tr th:only-of-type {\n",
       "        vertical-align: middle;\n",
       "    }\n",
       "\n",
       "    .dataframe tbody tr th {\n",
       "        vertical-align: top;\n",
       "    }\n",
       "\n",
       "    .dataframe thead th {\n",
       "        text-align: right;\n",
       "    }\n",
       "</style>\n",
       "<table border=\"1\" class=\"dataframe\">\n",
       "  <thead>\n",
       "    <tr style=\"text-align: right;\">\n",
       "      <th></th>\n",
       "      <th>pay_clean_mess_stats</th>\n",
       "      <th>pay_clean_calls_sum</th>\n",
       "      <th>pay_clean_mb_used</th>\n",
       "      <th>m_rev</th>\n",
       "    </tr>\n",
       "  </thead>\n",
       "  <tbody>\n",
       "    <tr>\n",
       "      <td>0</td>\n",
       "      <td>0.0</td>\n",
       "      <td>0.0</td>\n",
       "      <td>0.0</td>\n",
       "      <td>70.0</td>\n",
       "    </tr>\n",
       "    <tr>\n",
       "      <td>1</td>\n",
       "      <td>0.0</td>\n",
       "      <td>0.0</td>\n",
       "      <td>0.0</td>\n",
       "      <td>70.0</td>\n",
       "    </tr>\n",
       "    <tr>\n",
       "      <td>2</td>\n",
       "      <td>0.0</td>\n",
       "      <td>0.0</td>\n",
       "      <td>14.0</td>\n",
       "      <td>84.0</td>\n",
       "    </tr>\n",
       "    <tr>\n",
       "      <td>3</td>\n",
       "      <td>0.0</td>\n",
       "      <td>0.0</td>\n",
       "      <td>0.0</td>\n",
       "      <td>70.0</td>\n",
       "    </tr>\n",
       "    <tr>\n",
       "      <td>4</td>\n",
       "      <td>0.0</td>\n",
       "      <td>0.0</td>\n",
       "      <td>0.0</td>\n",
       "      <td>70.0</td>\n",
       "    </tr>\n",
       "  </tbody>\n",
       "</table>\n",
       "</div>"
      ],
      "text/plain": [
       "   pay_clean_mess_stats  pay_clean_calls_sum  pay_clean_mb_used  m_rev\n",
       "0                   0.0                  0.0                0.0   70.0\n",
       "1                   0.0                  0.0                0.0   70.0\n",
       "2                   0.0                  0.0               14.0   84.0\n",
       "3                   0.0                  0.0                0.0   70.0\n",
       "4                   0.0                  0.0                0.0   70.0"
      ]
     },
     "execution_count": 39,
     "metadata": {},
     "output_type": "execute_result"
    }
   ],
   "source": [
    "#let's print the last columns\n",
    "\n",
    "multi_group.iloc[:, -4:].head(5)\n",
    "\n"
   ]
  },
  {
   "cell_type": "markdown",
   "metadata": {
    "id": "ez4bx5jeCqcA"
   },
   "source": [
    "Looks good! We see that those who did not passed their call/mb/messages limit are charged according to the plan, and those who passed their limits are charged some extra. "
   ]
  },
  {
   "cell_type": "markdown",
   "metadata": {
    "id": "f0IXZSgxHdJF"
   },
   "source": [
    "Our next task would be to analize the data: to find the minutes, texts, and mb the users of each plan require per month.\n",
    "\n",
    "Let's devide the data into two df's according to the plan. "
   ]
  },
  {
   "cell_type": "code",
   "execution_count": 40,
   "metadata": {
    "id": "_2RpyCwxH5Wm"
   },
   "outputs": [],
   "source": [
    "ultimate = multi_group.query('plan == \"ultimate\"')\n",
    "surf = multi_group.query('plan == \"surf\"')"
   ]
  },
  {
   "cell_type": "markdown",
   "metadata": {},
   "source": [
    "Let's create a pivot that will answer our task of calculating the monthly revenue from each user:"
   ]
  },
  {
   "cell_type": "code",
   "execution_count": 41,
   "metadata": {},
   "outputs": [],
   "source": [
    "ultimate2 = pd.pivot_table(ultimate, index=['user_id','month'], values='m_rev', aggfunc='sum')\n",
    "surf2 = pd.pivot_table(surf, index=['user_id','month'], values='m_rev', aggfunc='sum')"
   ]
  },
  {
   "cell_type": "code",
   "execution_count": 42,
   "metadata": {
    "id": "eVMr46HFZPlA"
   },
   "outputs": [
    {
     "data": {
      "text/html": [
       "<div>\n",
       "<style scoped>\n",
       "    .dataframe tbody tr th:only-of-type {\n",
       "        vertical-align: middle;\n",
       "    }\n",
       "\n",
       "    .dataframe tbody tr th {\n",
       "        vertical-align: top;\n",
       "    }\n",
       "\n",
       "    .dataframe thead th {\n",
       "        text-align: right;\n",
       "    }\n",
       "</style>\n",
       "<table border=\"1\" class=\"dataframe\">\n",
       "  <thead>\n",
       "    <tr style=\"text-align: right;\">\n",
       "      <th></th>\n",
       "      <th></th>\n",
       "      <th>m_rev</th>\n",
       "    </tr>\n",
       "    <tr>\n",
       "      <th>user_id</th>\n",
       "      <th>month</th>\n",
       "      <th></th>\n",
       "    </tr>\n",
       "  </thead>\n",
       "  <tbody>\n",
       "    <tr>\n",
       "      <td>1000</td>\n",
       "      <td>12.0</td>\n",
       "      <td>70.0</td>\n",
       "    </tr>\n",
       "    <tr>\n",
       "      <td rowspan=\"2\" valign=\"top\">1006</td>\n",
       "      <td>11.0</td>\n",
       "      <td>70.0</td>\n",
       "    </tr>\n",
       "    <tr>\n",
       "      <td>12.0</td>\n",
       "      <td>84.0</td>\n",
       "    </tr>\n",
       "    <tr>\n",
       "      <td rowspan=\"2\" valign=\"top\">1008</td>\n",
       "      <td>10.0</td>\n",
       "      <td>70.0</td>\n",
       "    </tr>\n",
       "    <tr>\n",
       "      <td>11.0</td>\n",
       "      <td>70.0</td>\n",
       "    </tr>\n",
       "  </tbody>\n",
       "</table>\n",
       "</div>"
      ],
      "text/plain": [
       "               m_rev\n",
       "user_id month       \n",
       "1000    12.0    70.0\n",
       "1006    11.0    70.0\n",
       "        12.0    84.0\n",
       "1008    10.0    70.0\n",
       "        11.0    70.0"
      ]
     },
     "execution_count": 42,
     "metadata": {},
     "output_type": "execute_result"
    }
   ],
   "source": [
    "# Let's see:\n",
    "ultimate2.head(5)"
   ]
  },
  {
   "cell_type": "markdown",
   "metadata": {},
   "source": [
    "Moving to task 3:\n",
    "\n",
    "Step 3. Analyze the data\n",
    "\n",
    "Describe the customers' behavior. Find the minutes, texts, and volume of data the users of each plan require per month. Calculate the mean, dispersion, and standard deviation. Plot histograms. Describe the distributions."
   ]
  },
  {
   "cell_type": "code",
   "execution_count": 43,
   "metadata": {},
   "outputs": [
    {
     "data": {
      "text/html": [
       "<div>\n",
       "<style scoped>\n",
       "    .dataframe tbody tr th:only-of-type {\n",
       "        vertical-align: middle;\n",
       "    }\n",
       "\n",
       "    .dataframe tbody tr th {\n",
       "        vertical-align: top;\n",
       "    }\n",
       "\n",
       "    .dataframe thead th {\n",
       "        text-align: right;\n",
       "    }\n",
       "</style>\n",
       "<table border=\"1\" class=\"dataframe\">\n",
       "  <thead>\n",
       "    <tr style=\"text-align: right;\">\n",
       "      <th></th>\n",
       "      <th>user_id</th>\n",
       "      <th>month</th>\n",
       "      <th>mess_stats</th>\n",
       "      <th>calls_count</th>\n",
       "      <th>calls_sum</th>\n",
       "      <th>mb_used</th>\n",
       "      <th>plan</th>\n",
       "      <th>PostCode</th>\n",
       "      <th>mess_inc</th>\n",
       "      <th>mb_inc</th>\n",
       "      <th>...</th>\n",
       "      <th>per_gb</th>\n",
       "      <th>per_mess</th>\n",
       "      <th>per_min</th>\n",
       "      <th>clean_mess_stats</th>\n",
       "      <th>clean_calls_sum</th>\n",
       "      <th>clean_mb_used</th>\n",
       "      <th>pay_clean_mess_stats</th>\n",
       "      <th>pay_clean_calls_sum</th>\n",
       "      <th>pay_clean_mb_used</th>\n",
       "      <th>m_rev</th>\n",
       "    </tr>\n",
       "  </thead>\n",
       "  <tbody>\n",
       "    <tr>\n",
       "      <td>0</td>\n",
       "      <td>1000</td>\n",
       "      <td>12.0</td>\n",
       "      <td>11.0</td>\n",
       "      <td>16.0</td>\n",
       "      <td>124.0</td>\n",
       "      <td>1901.47</td>\n",
       "      <td>ultimate</td>\n",
       "      <td>GA MSA</td>\n",
       "      <td>1000</td>\n",
       "      <td>30720</td>\n",
       "      <td>...</td>\n",
       "      <td>7</td>\n",
       "      <td>0.01</td>\n",
       "      <td>0.01</td>\n",
       "      <td>0.0</td>\n",
       "      <td>0.0</td>\n",
       "      <td>0.0</td>\n",
       "      <td>0.0</td>\n",
       "      <td>0.0</td>\n",
       "      <td>0.0</td>\n",
       "      <td>70.0</td>\n",
       "    </tr>\n",
       "    <tr>\n",
       "      <td>1</td>\n",
       "      <td>1006</td>\n",
       "      <td>11.0</td>\n",
       "      <td>15.0</td>\n",
       "      <td>2.0</td>\n",
       "      <td>10.0</td>\n",
       "      <td>2068.37</td>\n",
       "      <td>ultimate</td>\n",
       "      <td>CA MSA</td>\n",
       "      <td>1000</td>\n",
       "      <td>30720</td>\n",
       "      <td>...</td>\n",
       "      <td>7</td>\n",
       "      <td>0.01</td>\n",
       "      <td>0.01</td>\n",
       "      <td>0.0</td>\n",
       "      <td>0.0</td>\n",
       "      <td>0.0</td>\n",
       "      <td>0.0</td>\n",
       "      <td>0.0</td>\n",
       "      <td>0.0</td>\n",
       "      <td>70.0</td>\n",
       "    </tr>\n",
       "    <tr>\n",
       "      <td>2</td>\n",
       "      <td>1006</td>\n",
       "      <td>12.0</td>\n",
       "      <td>139.0</td>\n",
       "      <td>9.0</td>\n",
       "      <td>59.0</td>\n",
       "      <td>32118.82</td>\n",
       "      <td>ultimate</td>\n",
       "      <td>CA MSA</td>\n",
       "      <td>1000</td>\n",
       "      <td>30720</td>\n",
       "      <td>...</td>\n",
       "      <td>7</td>\n",
       "      <td>0.01</td>\n",
       "      <td>0.01</td>\n",
       "      <td>0.0</td>\n",
       "      <td>0.0</td>\n",
       "      <td>-2.0</td>\n",
       "      <td>0.0</td>\n",
       "      <td>0.0</td>\n",
       "      <td>14.0</td>\n",
       "      <td>84.0</td>\n",
       "    </tr>\n",
       "    <tr>\n",
       "      <td>3</td>\n",
       "      <td>1008</td>\n",
       "      <td>10.0</td>\n",
       "      <td>21.0</td>\n",
       "      <td>71.0</td>\n",
       "      <td>476.0</td>\n",
       "      <td>17106.99</td>\n",
       "      <td>ultimate</td>\n",
       "      <td>FL MSA</td>\n",
       "      <td>1000</td>\n",
       "      <td>30720</td>\n",
       "      <td>...</td>\n",
       "      <td>7</td>\n",
       "      <td>0.01</td>\n",
       "      <td>0.01</td>\n",
       "      <td>0.0</td>\n",
       "      <td>0.0</td>\n",
       "      <td>0.0</td>\n",
       "      <td>0.0</td>\n",
       "      <td>0.0</td>\n",
       "      <td>0.0</td>\n",
       "      <td>70.0</td>\n",
       "    </tr>\n",
       "    <tr>\n",
       "      <td>4</td>\n",
       "      <td>1008</td>\n",
       "      <td>11.0</td>\n",
       "      <td>37.0</td>\n",
       "      <td>63.0</td>\n",
       "      <td>446.0</td>\n",
       "      <td>23676.72</td>\n",
       "      <td>ultimate</td>\n",
       "      <td>FL MSA</td>\n",
       "      <td>1000</td>\n",
       "      <td>30720</td>\n",
       "      <td>...</td>\n",
       "      <td>7</td>\n",
       "      <td>0.01</td>\n",
       "      <td>0.01</td>\n",
       "      <td>0.0</td>\n",
       "      <td>0.0</td>\n",
       "      <td>0.0</td>\n",
       "      <td>0.0</td>\n",
       "      <td>0.0</td>\n",
       "      <td>0.0</td>\n",
       "      <td>70.0</td>\n",
       "    </tr>\n",
       "    <tr>\n",
       "      <td>...</td>\n",
       "      <td>...</td>\n",
       "      <td>...</td>\n",
       "      <td>...</td>\n",
       "      <td>...</td>\n",
       "      <td>...</td>\n",
       "      <td>...</td>\n",
       "      <td>...</td>\n",
       "      <td>...</td>\n",
       "      <td>...</td>\n",
       "      <td>...</td>\n",
       "      <td>...</td>\n",
       "      <td>...</td>\n",
       "      <td>...</td>\n",
       "      <td>...</td>\n",
       "      <td>...</td>\n",
       "      <td>...</td>\n",
       "      <td>...</td>\n",
       "      <td>...</td>\n",
       "      <td>...</td>\n",
       "      <td>...</td>\n",
       "      <td>...</td>\n",
       "    </tr>\n",
       "    <tr>\n",
       "      <td>719</td>\n",
       "      <td>1108</td>\n",
       "      <td>12.0</td>\n",
       "      <td>NaN</td>\n",
       "      <td>NaN</td>\n",
       "      <td>NaN</td>\n",
       "      <td>233.17</td>\n",
       "      <td>ultimate</td>\n",
       "      <td>UT MSA</td>\n",
       "      <td>1000</td>\n",
       "      <td>30720</td>\n",
       "      <td>...</td>\n",
       "      <td>7</td>\n",
       "      <td>0.01</td>\n",
       "      <td>0.01</td>\n",
       "      <td>NaN</td>\n",
       "      <td>NaN</td>\n",
       "      <td>0.0</td>\n",
       "      <td>NaN</td>\n",
       "      <td>NaN</td>\n",
       "      <td>0.0</td>\n",
       "      <td>NaN</td>\n",
       "    </tr>\n",
       "    <tr>\n",
       "      <td>720</td>\n",
       "      <td>1025</td>\n",
       "      <td>NaN</td>\n",
       "      <td>NaN</td>\n",
       "      <td>NaN</td>\n",
       "      <td>NaN</td>\n",
       "      <td>NaN</td>\n",
       "      <td>ultimate</td>\n",
       "      <td>GA MSA</td>\n",
       "      <td>1000</td>\n",
       "      <td>30720</td>\n",
       "      <td>...</td>\n",
       "      <td>7</td>\n",
       "      <td>0.01</td>\n",
       "      <td>0.01</td>\n",
       "      <td>NaN</td>\n",
       "      <td>NaN</td>\n",
       "      <td>0.0</td>\n",
       "      <td>NaN</td>\n",
       "      <td>NaN</td>\n",
       "      <td>0.0</td>\n",
       "      <td>NaN</td>\n",
       "    </tr>\n",
       "    <tr>\n",
       "      <td>721</td>\n",
       "      <td>1269</td>\n",
       "      <td>NaN</td>\n",
       "      <td>NaN</td>\n",
       "      <td>NaN</td>\n",
       "      <td>NaN</td>\n",
       "      <td>NaN</td>\n",
       "      <td>ultimate</td>\n",
       "      <td>TX MSA</td>\n",
       "      <td>1000</td>\n",
       "      <td>30720</td>\n",
       "      <td>...</td>\n",
       "      <td>7</td>\n",
       "      <td>0.01</td>\n",
       "      <td>0.01</td>\n",
       "      <td>NaN</td>\n",
       "      <td>NaN</td>\n",
       "      <td>0.0</td>\n",
       "      <td>NaN</td>\n",
       "      <td>NaN</td>\n",
       "      <td>0.0</td>\n",
       "      <td>NaN</td>\n",
       "    </tr>\n",
       "    <tr>\n",
       "      <td>722</td>\n",
       "      <td>1275</td>\n",
       "      <td>NaN</td>\n",
       "      <td>NaN</td>\n",
       "      <td>NaN</td>\n",
       "      <td>NaN</td>\n",
       "      <td>NaN</td>\n",
       "      <td>ultimate</td>\n",
       "      <td>NY-NJ-PA MSA</td>\n",
       "      <td>1000</td>\n",
       "      <td>30720</td>\n",
       "      <td>...</td>\n",
       "      <td>7</td>\n",
       "      <td>0.01</td>\n",
       "      <td>0.01</td>\n",
       "      <td>NaN</td>\n",
       "      <td>NaN</td>\n",
       "      <td>0.0</td>\n",
       "      <td>NaN</td>\n",
       "      <td>NaN</td>\n",
       "      <td>0.0</td>\n",
       "      <td>NaN</td>\n",
       "    </tr>\n",
       "    <tr>\n",
       "      <td>723</td>\n",
       "      <td>1463</td>\n",
       "      <td>NaN</td>\n",
       "      <td>NaN</td>\n",
       "      <td>NaN</td>\n",
       "      <td>NaN</td>\n",
       "      <td>NaN</td>\n",
       "      <td>ultimate</td>\n",
       "      <td>GA MSA</td>\n",
       "      <td>1000</td>\n",
       "      <td>30720</td>\n",
       "      <td>...</td>\n",
       "      <td>7</td>\n",
       "      <td>0.01</td>\n",
       "      <td>0.01</td>\n",
       "      <td>NaN</td>\n",
       "      <td>NaN</td>\n",
       "      <td>0.0</td>\n",
       "      <td>NaN</td>\n",
       "      <td>NaN</td>\n",
       "      <td>0.0</td>\n",
       "      <td>NaN</td>\n",
       "    </tr>\n",
       "  </tbody>\n",
       "</table>\n",
       "<p>724 rows × 22 columns</p>\n",
       "</div>"
      ],
      "text/plain": [
       "     user_id  month  mess_stats  calls_count  calls_sum   mb_used      plan  \\\n",
       "0       1000   12.0        11.0         16.0      124.0   1901.47  ultimate   \n",
       "1       1006   11.0        15.0          2.0       10.0   2068.37  ultimate   \n",
       "2       1006   12.0       139.0          9.0       59.0  32118.82  ultimate   \n",
       "3       1008   10.0        21.0         71.0      476.0  17106.99  ultimate   \n",
       "4       1008   11.0        37.0         63.0      446.0  23676.72  ultimate   \n",
       "..       ...    ...         ...          ...        ...       ...       ...   \n",
       "719     1108   12.0         NaN          NaN        NaN    233.17  ultimate   \n",
       "720     1025    NaN         NaN          NaN        NaN       NaN  ultimate   \n",
       "721     1269    NaN         NaN          NaN        NaN       NaN  ultimate   \n",
       "722     1275    NaN         NaN          NaN        NaN       NaN  ultimate   \n",
       "723     1463    NaN         NaN          NaN        NaN       NaN  ultimate   \n",
       "\n",
       "         PostCode  mess_inc  mb_inc  ...  per_gb  per_mess  per_min  \\\n",
       "0          GA MSA      1000   30720  ...       7      0.01     0.01   \n",
       "1          CA MSA      1000   30720  ...       7      0.01     0.01   \n",
       "2          CA MSA      1000   30720  ...       7      0.01     0.01   \n",
       "3          FL MSA      1000   30720  ...       7      0.01     0.01   \n",
       "4          FL MSA      1000   30720  ...       7      0.01     0.01   \n",
       "..            ...       ...     ...  ...     ...       ...      ...   \n",
       "719        UT MSA      1000   30720  ...       7      0.01     0.01   \n",
       "720        GA MSA      1000   30720  ...       7      0.01     0.01   \n",
       "721        TX MSA      1000   30720  ...       7      0.01     0.01   \n",
       "722  NY-NJ-PA MSA      1000   30720  ...       7      0.01     0.01   \n",
       "723        GA MSA      1000   30720  ...       7      0.01     0.01   \n",
       "\n",
       "     clean_mess_stats  clean_calls_sum  clean_mb_used  pay_clean_mess_stats  \\\n",
       "0                 0.0              0.0            0.0                   0.0   \n",
       "1                 0.0              0.0            0.0                   0.0   \n",
       "2                 0.0              0.0           -2.0                   0.0   \n",
       "3                 0.0              0.0            0.0                   0.0   \n",
       "4                 0.0              0.0            0.0                   0.0   \n",
       "..                ...              ...            ...                   ...   \n",
       "719               NaN              NaN            0.0                   NaN   \n",
       "720               NaN              NaN            0.0                   NaN   \n",
       "721               NaN              NaN            0.0                   NaN   \n",
       "722               NaN              NaN            0.0                   NaN   \n",
       "723               NaN              NaN            0.0                   NaN   \n",
       "\n",
       "     pay_clean_calls_sum  pay_clean_mb_used  m_rev  \n",
       "0                    0.0                0.0   70.0  \n",
       "1                    0.0                0.0   70.0  \n",
       "2                    0.0               14.0   84.0  \n",
       "3                    0.0                0.0   70.0  \n",
       "4                    0.0                0.0   70.0  \n",
       "..                   ...                ...    ...  \n",
       "719                  NaN                0.0    NaN  \n",
       "720                  NaN                0.0    NaN  \n",
       "721                  NaN                0.0    NaN  \n",
       "722                  NaN                0.0    NaN  \n",
       "723                  NaN                0.0    NaN  \n",
       "\n",
       "[724 rows x 22 columns]"
      ]
     },
     "execution_count": 43,
     "metadata": {},
     "output_type": "execute_result"
    }
   ],
   "source": [
    "ultimate"
   ]
  },
  {
   "cell_type": "markdown",
   "metadata": {
    "id": "T8vRf2OzAvZa"
   },
   "source": [
    "Let's create a function that will analyze and plot the data of the two plans. We will first analyze the ultimate plan, then the surf plan, and then compare our observations. Our function will also display the mean, dispersion (variance), and standard deviation. "
   ]
  },
  {
   "cell_type": "code",
   "execution_count": 44,
   "metadata": {
    "colab": {
     "base_uri": "https://localhost:8080/",
     "height": 1000
    },
    "id": "ApWjRvPZ2Tqx",
    "outputId": "c5f8cddf-ae67-49ed-b361-dc4c8d0fe321"
   },
   "outputs": [
    {
     "name": "stdout",
     "output_type": "stream",
     "text": [
      "*******************************\n",
      "******* 🅰🅽🅰🅻🆈🆉🅴🆁 ********\n",
      "*******************************\n",
      " \n",
      "    🅼🅴🆂🆂🅰🅶🅴🆂\n",
      " \n",
      "variance  1083\n",
      "MONTHLY\n",
      "count    584.000000\n",
      "mean      46.296233\n",
      "std       32.942118\n",
      "min        1.000000\n",
      "25%       21.000000\n",
      "50%       41.000000\n",
      "75%       66.000000\n",
      "max      166.000000\n",
      "Name: mess_stats, dtype: float64\n",
      "************************ \n",
      " \n",
      "     🅲🅰🅻🅻🆂\n",
      " \n",
      "MONTHLY\n",
      "variance  56494.28633925359\n",
      "count     713.000000\n",
      "mean      434.676017\n",
      "std       237.852123\n",
      "min         0.000000\n",
      "25%       263.000000\n",
      "50%       425.000000\n",
      "75%       566.000000\n",
      "max      1369.000000\n",
      "Name: calls_sum, dtype: float64\n",
      "************************ \n",
      " \n",
      "   🅼🅴🅶🅰🅱🆈🆃🅴\n",
      " \n",
      "MONTHLY\n",
      "variance  61239556\n",
      "count      719.000000\n",
      "mean     17238.642253\n",
      "std       7831.018323\n",
      "min        233.170000\n",
      "25%      12671.130000\n",
      "50%      16863.450000\n",
      "75%      21025.155000\n",
      "max      46595.330000\n",
      "Name: mb_used, dtype: float64\n",
      "************************ \n",
      " \n",
      "                              🅿🅻🅾🆃🆂 OF MONTHLY AVERAGES\n",
      " \n",
      "HISTS OD USERS DISTRIBUTIONS\n"
     ]
    },
    {
     "data": {
      "image/png": "[encoded data removed]",
      "text/plain": [
       "<Figure size 432x288 with 1 Axes>"
      ]
     },
     "metadata": {
      "needs_background": "light"
     },
     "output_type": "display_data"
    },
    {
     "data": {
      "image/png": "[encoded data removed]",
      "text/plain": [
       "<Figure size 432x288 with 1 Axes>"
      ]
     },
     "metadata": {
      "needs_background": "light"
     },
     "output_type": "display_data"
    },
    {
     "data": {
      "image/png": "[encoded data removed]",
      "text/plain": [
       "<Figure size 432x288 with 1 Axes>"
      ]
     },
     "metadata": {
      "needs_background": "light"
     },
     "output_type": "display_data"
    }
   ],
   "source": [
    "def analyzer(data):\n",
    "  print(\"*******************************\")\n",
    "  print(\"******* 🅰🅽🅰🅻🆈🆉🅴🆁 ********\")\n",
    "  print(\"*******************************\")\n",
    "\n",
    "  print(\" \")\n",
    "  print (\"    🅼🅴🆂🆂🅰🅶🅴🆂\")\n",
    "  print(\" \")\n",
    "  print(\"variance\", \"\", int(np.var(data.mess_stats)))\n",
    "  print(\"MONTHLY\")\n",
    "  print(data.mess_stats.describe())\n",
    "  print(\"************************ \")\n",
    "  print(\" \")\n",
    "  print (\"     🅲🅰🅻🅻🆂\")\n",
    "  print(\" \")\n",
    "  print(\"MONTHLY\")\n",
    "  print(\"variance\", \"\", np.var(data.calls_sum))\n",
    "  print(data.calls_sum.describe())\n",
    "  print(\"************************ \")\n",
    "  print(\" \")\n",
    "\n",
    "  print (\"   🅼🅴🅶🅰🅱🆈🆃🅴\")\n",
    "  print(\" \")\n",
    "  print(\"MONTHLY\")\n",
    "  print(\"variance\", \"\", int(np.var(data.mb_used)))\n",
    "  print(data.mb_used.describe())\n",
    "  print(\"************************ \")\n",
    "  print(\" \") \n",
    "  print (\"                              🅿🅻🅾🆃🆂 OF MONTHLY AVERAGES\")\n",
    "  print(\" \") \n",
    "  print (\"HISTS OD USERS DISTRIBUTIONS\")\n",
    "\n",
    "  plt.hist(data.mess_stats)\n",
    "  plt.title(\"Distribution of Messages\")\n",
    "  plt.ylabel(\"USERS\")\n",
    "  plt.xlabel(\"MESSAGES\")\n",
    "  plt.show()\n",
    "\n",
    "  plt.hist(data.calls_sum)\n",
    "  plt.title(\"Distribution of Calls\")\n",
    "  plt.ylabel(\"USERS\")\n",
    "  plt.xlabel(\"CALL MINUTES\")\n",
    "  plt.show()\n",
    "\n",
    "  plt.hist(data.mb_used)\n",
    "  plt.title(\"Distribution of MB used\")\n",
    "  plt.ylabel(\"USERS\")\n",
    "  plt.xlabel(\"MB USED\")\n",
    "  plt.show()\n",
    "\n",
    "\n",
    "\n",
    "analyzer(ultimate)"
   ]
  },
  {
   "cell_type": "markdown",
   "metadata": {
    "id": "KXaNdrJnTo3U"
   },
   "source": [
    "\n",
    "\n",
    "The histograms demonstrate the distribution of the users on a \"light\" to \"heavy\" scale. The messages column demonstrates a clear negative distribution. Meaning that only small number of customers tend to use the messages prequently. Most users stay bellow 50 monthly messages. \n",
    "\n",
    "The CALLS histogram demonstrates a more normally distributed dataset, yet the vast majority of the customers are below the 600 monthly minutes mark. \n",
    "\n",
    "The same is true for the MB used histogram, that displays the typical slightly negative normal distribution.\n",
    "\n",
    "Let's perform the same procedure with the surf plan:"
   ]
  },
  {
   "cell_type": "code",
   "execution_count": 45,
   "metadata": {
    "colab": {
     "base_uri": "https://localhost:8080/"
    },
    "id": "BLIKrCTomLRu",
    "outputId": "56f3adbd-9eee-43be-cf2f-e3a54744331a"
   },
   "outputs": [
    {
     "name": "stdout",
     "output_type": "stream",
     "text": [
      "*******************************\n",
      "******* 🅰🅽🅰🅻🆈🆉🅴🆁 ********\n",
      "*******************************\n",
      " \n",
      "    🅼🅴🆂🆂🅰🅶🅴🆂\n",
      " \n",
      "variance  1090\n",
      "MONTHLY\n",
      "count    1222.000000\n",
      "mean       40.109656\n",
      "std        33.035500\n",
      "min         1.000000\n",
      "25%        16.000000\n",
      "50%        32.000000\n",
      "75%        54.000000\n",
      "max       266.000000\n",
      "Name: mess_stats, dtype: float64\n",
      "************************ \n",
      " \n",
      "     🅲🅰🅻🅻🆂\n",
      " \n",
      "MONTHLY\n",
      "variance  52537.03666530514\n",
      "count    1545.000000\n",
      "mean      436.519741\n",
      "std       229.283805\n",
      "min         0.000000\n",
      "25%       279.000000\n",
      "50%       430.000000\n",
      "75%       579.000000\n",
      "max      1510.000000\n",
      "Name: calls_sum, dtype: float64\n",
      "************************ \n",
      " \n",
      "   🅼🅴🅶🅰🅱🆈🆃🅴\n",
      " \n",
      "MONTHLY\n",
      "variance  62128323\n",
      "count     1558.000000\n",
      "mean     16717.702137\n",
      "std       7884.682983\n",
      "min         92.310000\n",
      "25%      12187.955000\n",
      "50%      16923.830000\n",
      "75%      21039.860000\n",
      "max      70931.590000\n",
      "Name: mb_used, dtype: float64\n",
      "************************ \n",
      " \n",
      "                              🅿🅻🅾🆃🆂 OF MONTHLY AVERAGES\n",
      " \n",
      "HISTS OD USERS DISTRIBUTIONS\n"
     ]
    },
    {
     "data": {
      "image/png": "[encoded data removed]",
      "text/plain": [
       "<Figure size 432x288 with 1 Axes>"
      ]
     },
     "metadata": {
      "needs_background": "light"
     },
     "output_type": "display_data"
    },
    {
     "data": {
      "image/png": "[encoded data removed]",
      "text/plain": [
       "<Figure size 432x288 with 1 Axes>"
      ]
     },
     "metadata": {
      "needs_background": "light"
     },
     "output_type": "display_data"
    },
    {
     "data": {
      "image/png": "[encoded data removed]",
      "text/plain": [
       "<Figure size 432x288 with 1 Axes>"
      ]
     },
     "metadata": {
      "needs_background": "light"
     },
     "output_type": "display_data"
    }
   ],
   "source": [
    "analyzer(surf)"
   ]
  },
  {
   "cell_type": "code",
   "execution_count": 46,
   "metadata": {
    "colab": {
     "base_uri": "https://localhost:8080/"
    },
    "id": "6HEr3Hl-pjDq",
    "outputId": "b9fbf677-e4d2-426d-9d6e-bf3f260a5b0a"
   },
   "outputs": [
    {
     "name": "stdout",
     "output_type": "stream",
     "text": [
      "The max 3 values of ULTIMATE calls are: \n",
      " 438    1369.0\n",
      "502    1295.0\n",
      "498    1292.0\n",
      "Name: calls_sum, dtype: float64\n",
      "while max 3 values of SURF calls are: \n",
      " 1571    1510.0\n",
      "1923    1357.0\n",
      "1752    1304.0\n",
      "Name: calls_sum, dtype: float64\n",
      "****************************************************\n",
      "****************************************************\n",
      "****************************************************\n",
      "****************************************************\n",
      "****************************************************\n",
      "The max 3 values of ULTIMATE messages are: \n",
      " 195    166.0\n",
      "193    155.0\n",
      "194    153.0\n",
      "Name: mess_stats, dtype: float64\n",
      "while max 3 values of SURF messages are: \n",
      " 853     266.0\n",
      "1960    224.0\n",
      "1961    180.0\n",
      "Name: mess_stats, dtype: float64\n",
      "****************************************************\n",
      "****************************************************\n",
      "****************************************************\n",
      "****************************************************\n",
      "****************************************************\n",
      "The max 3 values of ULTIMATE mb are: \n",
      " 23     46595.33\n",
      "710    46215.51\n",
      "52     45020.31\n",
      "Name: mb_used, dtype: float64\n",
      "while max 3 values of SURF mb are: \n",
      " 1958    70931.59\n",
      "2277    66863.89\n",
      "1644    52034.66\n",
      "Name: mb_used, dtype: float64\n"
     ]
    }
   ],
   "source": [
    "print(\"The max 3 values of ULTIMATE calls are: \\n\",  ultimate.calls_sum.nlargest(3))\n",
    "print(\"while max 3 values of SURF calls are: \\n\",  surf.calls_sum.nlargest(3))\n",
    "print(\"****************************************************\")\n",
    "print(\"****************************************************\")\n",
    "print(\"****************************************************\")\n",
    "print(\"****************************************************\")\n",
    "print(\"****************************************************\")\n",
    "print(\"The max 3 values of ULTIMATE messages are: \\n\",  ultimate.mess_stats.nlargest(3))\n",
    "print(\"while max 3 values of SURF messages are: \\n\",  surf.mess_stats.nlargest(3))\n",
    "print(\"****************************************************\")\n",
    "print(\"****************************************************\")\n",
    "print(\"****************************************************\")\n",
    "print(\"****************************************************\")\n",
    "print(\"****************************************************\")\n",
    "print(\"The max 3 values of ULTIMATE mb are: \\n\",  ultimate.mb_used.nlargest(3))\n",
    "print(\"while max 3 values of SURF mb are: \\n\",  surf.mb_used.nlargest(3))\n"
   ]
  },
  {
   "cell_type": "markdown",
   "metadata": {
    "id": "ZdG8GNt2rREy"
   },
   "source": [
    "Amazing... Some people obviously rather get a low cost bundle but pay the extra! Brits have a saying: *we are not rich enough to buy cheap.*"
   ]
  },
  {
   "cell_type": "markdown",
   "metadata": {},
   "source": [
    "Let's normalize the data and take a look at the distribution of the two bundles:"
   ]
  },
  {
   "cell_type": "code",
   "execution_count": 47,
   "metadata": {
    "colab": {
     "base_uri": "https://localhost:8080/",
     "height": 756
    },
    "id": "Op9lguHPtpxj",
    "outputId": "71d34eb3-f1bf-40ce-baed-f673d16d8915"
   },
   "outputs": [
    {
     "data": {
      "image/png": "[encoded data removed]",
      "text/plain": [
       "<Figure size 864x288 with 1 Axes>"
      ]
     },
     "metadata": {
      "needs_background": "light"
     },
     "output_type": "display_data"
    },
    {
     "name": "stdout",
     "output_type": "stream",
     "text": [
      " \n"
     ]
    },
    {
     "data": {
      "image/png": "[encoded data removed]",
      "text/plain": [
       "<Figure size 864x288 with 1 Axes>"
      ]
     },
     "metadata": {
      "needs_background": "light"
     },
     "output_type": "display_data"
    }
   ],
   "source": [
    "############# ULTIMATE PLAN ######################\n",
    " \n",
    "# Let's create a new df with the data we need:\n",
    "\n",
    "tab = pd.DataFrame()\n",
    "\n",
    "tab[\"messages\"] = multi_group[\"mess_stats\"]\n",
    "tab[\"calls\"] = multi_group[\"calls_sum\"]\n",
    "tab[\"mb\"] = multi_group[\"mb_used\"]\n",
    "tab[\"plan\"] = multi_group[\"plan\"]\n",
    "tab[\"month\"] =  multi_group[\"month\"]\n",
    "\n",
    "# Normalization\n",
    "\n",
    "normed_df = pd.DataFrame()\n",
    "list_of_columns = [\"messages\", \"calls\", \"mb\"]\n",
    "\n",
    "for col in list_of_columns:\n",
    "  normed_df[col] = tab[col] / max(tab[col])\n",
    "  normed_df[\"plan\"] = tab[\"plan\"]\n",
    "\n",
    "# Plotting \n",
    "\n",
    "fig,ax = plt.subplots(1,figsize=(12,4))\n",
    "ax = sns.boxplot(data=normed_df[normed_df.plan == \"ultimate\"])\n",
    "ax.set_xticklabels(ax.get_xticklabels(),rotation=0, )\n",
    "ax.tick_params(axis = 'both', which = 'major', labelsize = 14)\n",
    "ax.set_title(\"THE ULTIMATE PLAN NORMALIZED DATA\")\n",
    "plt.show()\n",
    "\n",
    "# ##################################################################\n",
    "# ##################################################################\n",
    "# ##################################################################\n",
    "# #################### SURF PLAN ###################################\n",
    "\n",
    "print(\" \")\n",
    "fig,ax = plt.subplots(1,figsize=(12,4))\n",
    "ax = sns.boxplot(data=normed_df[normed_df.plan == \"surf\"])\n",
    "ax.set_xticklabels(ax.get_xticklabels(),rotation=0, )\n",
    "ax.tick_params(which = 'major', labelsize = 14,)\n",
    "ax.set_title(\"THE SURF PLAN NORMALIZED DATA\")\n",
    "plt.show()\n",
    "\n",
    "\n"
   ]
  },
  {
   "cell_type": "markdown",
   "metadata": {
    "id": "VfCHPRtEv0Th"
   },
   "source": [
    "Now we can clearly see the behavioral differences of the customers in both plans. We see again the tendecy we noted previuosly - some of the customers of the cheaper surf plan tend to consume more services than the heavy users from the ultimate plan.  \n"
   ]
  },
  {
   "cell_type": "markdown",
   "metadata": {
    "id": "EzZqdLJIdYSs"
   },
   "source": [
    "Let's also do this:"
   ]
  },
  {
   "cell_type": "code",
   "execution_count": 48,
   "metadata": {
    "colab": {
     "base_uri": "https://localhost:8080/",
     "height": 336
    },
    "id": "CfyXfFvwcnAA",
    "outputId": "5961368f-3bc1-47ee-c409-f3fe9226f6a3"
   },
   "outputs": [
    {
     "name": "stdout",
     "output_type": "stream",
     "text": [
      " COMPARING THE CUSTOMERS BEHAVIOR IN BOTH GROUPS  \n",
      " \n"
     ]
    },
    {
     "data": {
      "text/html": [
       "<div>\n",
       "<style scoped>\n",
       "    .dataframe tbody tr th:only-of-type {\n",
       "        vertical-align: middle;\n",
       "    }\n",
       "\n",
       "    .dataframe tbody tr th {\n",
       "        vertical-align: top;\n",
       "    }\n",
       "\n",
       "    .dataframe thead th {\n",
       "        text-align: right;\n",
       "    }\n",
       "</style>\n",
       "<table border=\"1\" class=\"dataframe\">\n",
       "  <thead>\n",
       "    <tr style=\"text-align: right;\">\n",
       "      <th></th>\n",
       "      <th>messages</th>\n",
       "      <th>calls</th>\n",
       "      <th>mb</th>\n",
       "      <th>month</th>\n",
       "    </tr>\n",
       "  </thead>\n",
       "  <tbody>\n",
       "    <tr>\n",
       "      <td>count</td>\n",
       "      <td>-638.000000</td>\n",
       "      <td>-832.000000</td>\n",
       "      <td>-839.000000</td>\n",
       "      <td>-853.000000</td>\n",
       "    </tr>\n",
       "    <tr>\n",
       "      <td>mean</td>\n",
       "      <td>6.186577</td>\n",
       "      <td>-1.843724</td>\n",
       "      <td>520.940116</td>\n",
       "      <td>-0.031065</td>\n",
       "    </tr>\n",
       "    <tr>\n",
       "      <td>std</td>\n",
       "      <td>-0.093382</td>\n",
       "      <td>8.568318</td>\n",
       "      <td>-53.664660</td>\n",
       "      <td>0.090295</td>\n",
       "    </tr>\n",
       "    <tr>\n",
       "      <td>min</td>\n",
       "      <td>0.000000</td>\n",
       "      <td>0.000000</td>\n",
       "      <td>140.860000</td>\n",
       "      <td>0.000000</td>\n",
       "    </tr>\n",
       "    <tr>\n",
       "      <td>25%</td>\n",
       "      <td>5.000000</td>\n",
       "      <td>-16.000000</td>\n",
       "      <td>483.175000</td>\n",
       "      <td>0.000000</td>\n",
       "    </tr>\n",
       "    <tr>\n",
       "      <td>50%</td>\n",
       "      <td>9.000000</td>\n",
       "      <td>-5.000000</td>\n",
       "      <td>-60.380000</td>\n",
       "      <td>0.000000</td>\n",
       "    </tr>\n",
       "    <tr>\n",
       "      <td>75%</td>\n",
       "      <td>12.000000</td>\n",
       "      <td>-13.000000</td>\n",
       "      <td>-14.705000</td>\n",
       "      <td>0.000000</td>\n",
       "    </tr>\n",
       "    <tr>\n",
       "      <td>max</td>\n",
       "      <td>-100.000000</td>\n",
       "      <td>-141.000000</td>\n",
       "      <td>-24336.260000</td>\n",
       "      <td>0.000000</td>\n",
       "    </tr>\n",
       "  </tbody>\n",
       "</table>\n",
       "</div>"
      ],
      "text/plain": [
       "         messages       calls            mb       month\n",
       "count -638.000000 -832.000000   -839.000000 -853.000000\n",
       "mean     6.186577   -1.843724    520.940116   -0.031065\n",
       "std     -0.093382    8.568318    -53.664660    0.090295\n",
       "min      0.000000    0.000000    140.860000    0.000000\n",
       "25%      5.000000  -16.000000    483.175000    0.000000\n",
       "50%      9.000000   -5.000000    -60.380000    0.000000\n",
       "75%     12.000000  -13.000000    -14.705000    0.000000\n",
       "max   -100.000000 -141.000000 -24336.260000    0.000000"
      ]
     },
     "execution_count": 48,
     "metadata": {},
     "output_type": "execute_result"
    }
   ],
   "source": [
    "print(\" COMPARING THE CUSTOMERS BEHAVIOR IN BOTH GROUPS  \")\n",
    "print(\" \")\n",
    "tab[tab.plan == \"ultimate\"].describe() - tab[tab.plan == \"surf\"].describe()\n"
   ]
  },
  {
   "cell_type": "markdown",
   "metadata": {
    "id": "FaTcUnxvdlo1"
   },
   "source": [
    "By deducting the describe methods on the columns of two plans we got some interesting findings:\n",
    "\n",
    "As stated many times already - the maxes of ultimate users are lower (last row in the column) than the maxes of the heavy users in the surf plan.\n",
    " \n",
    "The ultimate plan users on mean send only 6 messages more than the surf users ( 9 messages on the medean).\n",
    "\n",
    "The ultimate plan users spend slightly less time on their phones (-1 to -5 minutes less), and more on the web (more mb_used, on the mean)\n"
   ]
  },
  {
   "cell_type": "markdown",
   "metadata": {
    "id": "edREQ-uUz5wQ"
   },
   "source": [
    "# \"How many minutes and SMS and the volume of web traffic do the users of each of the plans require per month?\""
   ]
  },
  {
   "cell_type": "code",
   "execution_count": 49,
   "metadata": {
    "colab": {
     "base_uri": "https://localhost:8080/"
    },
    "id": "du3n4PnIz8Aj",
    "outputId": "fb9e087b-d8e6-4317-bc6f-0200b0472e93"
   },
   "outputs": [
    {
     "name": "stdout",
     "output_type": "stream",
     "text": [
      "The ULTIMATE plan users require:\n",
      "25827 minutes per month\n",
      "2253 messages per month\n",
      "1032881 mb per month\n",
      " \n",
      "The SURF plan users require:\n",
      "56201 minutes per month\n",
      "4084 messages per month\n",
      "2170514 mb per month\n",
      " \n",
      "The ultimate plan users use:\n",
      "-30374 minutes than surf\n",
      "-1831 messages than surf\n",
      "-1137633 mb than surf\n"
     ]
    }
   ],
   "source": [
    "x = tab.groupby([\"plan\", \"month\"]).agg([\"sum\", \"count\"])\n",
    "\n",
    "print(\"The ULTIMATE plan users require:\")\n",
    "print(int(tab.loc[(tab.plan == \"ultimate\"),[\"calls\"]].sum()/12), \"minutes per month\")\n",
    "print(int(tab.loc[(tab.plan == \"ultimate\"), [\"messages\"]].sum()/12), \"messages per month\")\n",
    "print(int(tab.loc[(tab.plan == \"ultimate\"),[\"mb\"]].sum()/12), \"mb per month\" )\n",
    "print(\" \")\n",
    "print(\"The SURF plan users require:\")\n",
    "print(int(tab.loc[(tab.plan == \"surf\"),[\"calls\"]].sum()/12), \"minutes per month\")\n",
    "print(int(tab.loc[(tab.plan == \"surf\"), [\"messages\"]].sum()/12), \"messages per month\")\n",
    "print(int(tab.loc[(tab.plan == \"surf\"),[\"mb\"]].sum()/12), \"mb per month\" )\n",
    "print(\" \")\n",
    "print(\"The ultimate plan users use:\")\n",
    "print(int(tab.loc[(tab.plan == \"ultimate\"),[\"calls\"]].sum()/12) - int(tab.loc[(tab.plan == \"surf\"),[\"calls\"]].sum()/12), \"minutes than surf\")\n",
    "print(int(tab.loc[(tab.plan == \"ultimate\"), [\"messages\"]].sum()/12) - int(tab.loc[(tab.plan == \"surf\"), [\"messages\"]].sum()/12), \"messages than surf\")\n",
    "print(int(tab.loc[(tab.plan == \"ultimate\"),[\"mb\"]].sum()/12) - int(tab.loc[(tab.plan == \"surf\"),[\"mb\"]].sum()/12), \"mb than surf\")"
   ]
  },
  {
   "cell_type": "markdown",
   "metadata": {
    "id": "OXj1IX0l3CfV"
   },
   "source": [
    "### HYPOTHESES 1"
   ]
  },
  {
   "cell_type": "markdown",
   "metadata": {
    "id": "8JvdAkzD96P4"
   },
   "source": [
    "Moving forward, let's check the hypothesis 1 that the average revenue from users of Ultimate and Surf calling plans differs. Our NULL hypotheses stats that they are the same.\n",
    "\n",
    "\n",
    "1.   H*o* : avr revenue Ultimate plan == avr revenue Surf plan\n",
    "\n",
    "2.   H*a* : avr revenue Ultimate plan != avr revenue Surf plan\n",
    "\n",
    "\n",
    "Significance level: alpha = 0.03\n",
    "\n",
    "n = 100 samples from each group"
   ]
  },
  {
   "cell_type": "code",
   "execution_count": 50,
   "metadata": {
    "colab": {
     "base_uri": "https://localhost:8080/"
    },
    "id": "S8N2rB9092se",
    "outputId": "3ea51082-5f2a-4a21-e221-24262b7dcb14"
   },
   "outputs": [
    {
     "name": "stdout",
     "output_type": "stream",
     "text": [
      "p-value:  0.05166793256470792\n",
      "We reject Ha hypothesis. We found evidence for Ho.\n"
     ]
    }
   ],
   "source": [
    "from scipy import stats as st\n",
    "results = st.ttest_ind(\n",
    "    ultimate[ultimate.m_rev.notna()][\"m_rev\"].sample(n = 100), \n",
    "     surf[surf.m_rev.notna()][\"m_rev\"].sample(n = 100),\n",
    "    equal_var = True )\n",
    "\n",
    "print('p-value: ', results.pvalue)\n",
    "alpha = 0.05\n",
    "if results.pvalue < alpha:\n",
    "  print(\"We reject Ho hypothesis. We found evidence for Ha.\")\n",
    "else:\n",
    "  print(\"We reject Ha hypothesis. We found evidence for Ho.\")"
   ]
  },
  {
   "cell_type": "markdown",
   "metadata": {},
   "source": [
    "In the code above we took 100 instances of m_rev (monthly revenue) of our ultimate/surf plans and compared the p_value to the alpha of 0.05 (5%). We are trying to answer the question is the average revenue from users of Ultimate and Surf calling plans differs. The code above should satisfy this question by using alpha as our threshold. "
   ]
  },
  {
   "cell_type": "markdown",
   "metadata": {
    "id": "LsCM-45VMWLf"
   },
   "source": [
    "With our code we rejected one of the hypotheses yet we **know** that the *ultimate plan* customers **pay more** by default. What if we deduct from their payments their plan payment, will the results still differ?\n",
    "\n",
    "Let's check, this time by comparing the monthly payment NETTO averages:"
   ]
  },
  {
   "cell_type": "code",
   "execution_count": 51,
   "metadata": {},
   "outputs": [],
   "source": [
    "a = ultimate.m_rev.sum() / len(ultimate.user_id) - 70\n",
    "b = surf.m_rev.sum() / len(surf.user_id) - 20"
   ]
  },
  {
   "cell_type": "code",
   "execution_count": 52,
   "metadata": {
    "id": "gKx1HXanOo2Q"
   },
   "outputs": [
    {
     "name": "stdout",
     "output_type": "stream",
     "text": [
      "The ultimate plan subscriber, on avr, pays -38  USD on the services that are not included in the bundle\n"
     ]
    }
   ],
   "source": [
    "print(\"The ultimate plan subscriber, on avr, pays\", round(a - b), \" USD on the services that are not included in the bundle\") "
   ]
  },
  {
   "cell_type": "markdown",
   "metadata": {},
   "source": [
    "By the line of code above we manualy compared the avr revenues and see that the distance between the plans is too big, i.e. the chances that they are from the same \"group\" are very low, thus we reject the NULL hypotheses."
   ]
  },
  {
   "cell_type": "markdown",
   "metadata": {
    "id": "U8cnieXP7E-B"
   },
   "source": [
    "### HYPOTHESES 2"
   ]
  },
  {
   "cell_type": "markdown",
   "metadata": {
    "id": "wbXqN2H9XiBu"
   },
   "source": [
    "Our second hypotheses states that:\n",
    "\n",
    "*The average revenue from users in NY-NJ area is different from that of the users from other regions.*\n",
    "\n",
    "1.   H*o* : avr revenue NY-NJ customers == avr revenue OTHER area customers.\n",
    "\n",
    "2.   H*a* :  avr revenue NY-NJ customers != avr revenue OTHER area customers.\n",
    "\n",
    "Significance level: alpha = 0.03\n",
    "\n",
    "n = 120 samples from each group\n",
    "\n",
    "First let's split the data on  NY / not NY basis."
   ]
  },
  {
   "cell_type": "code",
   "execution_count": 53,
   "metadata": {
    "id": "CGOzhlocRipo"
   },
   "outputs": [],
   "source": [
    "new_yorkers = multi_group[multi_group['PostCode'].str.contains(\"NY|NJ\")]\n",
    "normal_people = multi_group[~multi_group['PostCode'].str.contains(\"NY|NJ\")]\n"
   ]
  },
  {
   "cell_type": "markdown",
   "metadata": {
    "id": "bHit9gUBbBNO"
   },
   "source": [
    "Since we are here, let's compare the % of ultimate / surf plans customers in both groups. Is there any difference between the groups? "
   ]
  },
  {
   "cell_type": "code",
   "execution_count": 54,
   "metadata": {
    "colab": {
     "base_uri": "https://localhost:8080/",
     "height": 973
    },
    "id": "QeAt_HdiPfQQ",
    "outputId": "f99c57e6-3c93-43a8-c069-0aec30d6ce0b"
   },
   "outputs": [
    {
     "data": {
      "image/png": "[encoded data removed]",
      "text/plain": [
       "<Figure size 432x432 with 1 Axes>"
      ]
     },
     "metadata": {},
     "output_type": "display_data"
    },
    {
     "data": {
      "image/png": "[encoded data removed]",
      "text/plain": [
       "<Figure size 432x432 with 1 Axes>"
      ]
     },
     "metadata": {},
     "output_type": "display_data"
    }
   ],
   "source": [
    "\n",
    "new_yorkers.plan.value_counts().plot.pie(y='type', figsize=(6, 6), autopct='%1.1f%%',title = \"Plan Ratio NY_NJ\")\n",
    "plt.show()\n",
    "\n",
    "normal_people.plan.value_counts().plot.pie(y='type', figsize=(6, 6), autopct='%1.1f%%',title = \"Plan Ratio OTHER PEOPLE\")\n",
    "plt.show()"
   ]
  },
  {
   "cell_type": "markdown",
   "metadata": {
    "id": "iVbs_3xS1i4g"
   },
   "source": [
    "Seems like the people of the Big Apple tend to use surf plan more than their friends from the other areas. Has it anything to do with free wifii freely avalble in the big city?\n",
    "\n",
    "The difference in the plan ratio across the population groups means that the group with more ultimate plans will pay more on avr. But we know that the total  payment is not the whole story, therefore we will also check the netto revenue, where no no plans are included.  "
   ]
  },
  {
   "cell_type": "code",
   "execution_count": 55,
   "metadata": {},
   "outputs": [
    {
     "name": "stdout",
     "output_type": "stream",
     "text": [
      "NY-NJ group, on avr, pays -4  USD than the people from other cities.\n"
     ]
    }
   ],
   "source": [
    "c = new_yorkers.m_rev.sum() / len(new_yorkers.user_id)\n",
    "d = normal_people.m_rev.sum() / len(normal_people.user_id)\n",
    "\n",
    "print(\"NY-NJ group, on avr, pays\", round(c - d), \" USD than the people from other cities.\") "
   ]
  },
  {
   "cell_type": "markdown",
   "metadata": {
    "id": "ubVafOawFjCZ"
   },
   "source": [
    "Comparing the two datas, looks like the non-ny group OTHERS, on avr, pays more than the NY-NJ group. But not by much...\n",
    "Will it pass our treshold?"
   ]
  },
  {
   "cell_type": "markdown",
   "metadata": {
    "id": "3S91zJ4GNs8N"
   },
   "source": [
    "Let's check our previous statement using the stats method ttest_ind:\n",
    "\n",
    "1.   H*o* : avr revenue NY-NJ customers == avr revenue OTHER area customers.\n",
    "\n",
    "2.   H*a* :  avr revenue NY-NJ customers != avr revenue OTHER area customers.\n",
    "\n",
    "Significance level: alpha = 0.03\n",
    "\n",
    "n = 120 samples from each group"
   ]
  },
  {
   "cell_type": "code",
   "execution_count": 56,
   "metadata": {
    "colab": {
     "base_uri": "https://localhost:8080/"
    },
    "id": "whaR2RQrRw9D",
    "outputId": "87b16475-0a7a-48bb-bc77-59ef67a88072"
   },
   "outputs": [
    {
     "name": "stdout",
     "output_type": "stream",
     "text": [
      "p-value:  nan\n",
      "We reject Ha hypothesis. We found evidence for Ho.\n"
     ]
    }
   ],
   "source": [
    "from scipy import stats as st\n",
    "results = st.ttest_ind(\n",
    "    new_yorkers.m_rev.sample(n=120), \n",
    "    normal_people.m_rev.sample(n=120), equal_var = True)\n",
    "\n",
    "print('p-value: ', results.pvalue)\n",
    "alpha = 0.05\n",
    "if results.pvalue < alpha:\n",
    "  print(\"We reject Ho hypothesis. We found evidence for Ha.\")\n",
    "else:\n",
    "  print(\"We reject Ha hypothesis. We found evidence for Ho.\")"
   ]
  },
  {
   "cell_type": "markdown",
   "metadata": {
    "id": "Wu212K76O29l"
   },
   "source": [
    "We see that p_value confirms our previous observation, therefore we SHALL NOT reject the Ho hypothesis. When comparing 120 samples from both groups, we see that the p_value is too high for us to reject the null hypothesis, as we indeed confirmed previously (last bar chart)."
   ]
  },
  {
   "cell_type": "markdown",
   "metadata": {
    "id": "K5aKpb67yIXR"
   },
   "source": [
    "# Conclusion:\n",
    "\n",
    "We recieved data files of telecom operator Megaline, that offers its clients two prepaid plans, Surf and Ultimate. Our main task was to determine which of the plans brings in more revenue in order to adjust the advertising budget.\n",
    "\n",
    "We started by importing and fixing the datatypes when nessecary. \n",
    "We then calculated the number of calls made and minutes used per month, the number of text messages sent per month and the mb of data used per month.\n",
    "\n",
    "We then continued with calculating the monthly revenue from each user. This sub-task requered merging multiple tables into one, subtracting the free package limit from the total number of calls, text messages, and mb, multiplying the result by the calling plan value and adding the monthly charge depending on the calling plan.\n",
    "\n",
    "We then found the minutes, texts, and mbs the users of each plan require per month, calculated the mean, dispersion, and standard deviation of each plan and showed it on a graph. \n",
    "\n",
    "We then moved to testing 2 hypothesis:\n",
    "1. The average revenue from users of Ultimate and Surf calling plans differs.\n",
    "2. The average revenue from users in NY-NJ area is different from that of the users from other regions.\n",
    "\n",
    "Knowing that Ultimate plan user pay 70 USD and surf users only 20 USD we defined the \"avr revenue\" in hypotheses 1 as a NETTO avr revenue, regular payment not included. By callculating and then plotting the graphs we demonstrated that the surf users have unsaturated demand for more services and they are readily pay more and more (the revenues are in uptrend). Our NULL hypothesis is that average revenue from users of Ultimate and Surf ARE EQUAL. We reject the NULL hypothesis. \n",
    "\n",
    "Moving to the city-based hypotheses 2 (The average revenue from users in NY-NJ area is different from that of the users from other regions), our NULL hypotheses was that the average revenue from users in NY-NJ area is equal to that of the users from other regions.\n",
    "\n",
    "We have calculated the yearly avr revenue and yearly NETTO avr revenue and showed that although non-NY pays more when regualr payments are calculated, when we are comparing the NETTO payments - both groups generate ROUGHLY the same yearly avr revenue.\n",
    "Therefore we did NOT reject the NULL hypothesis that both groups are equal.  \n",
    "\n",
    "Finnaly, we confirmed this by scipy.stats.ttest_ind() method.\n",
    "\n"
   ]
  }
 ],
 "metadata": {
  "ExecuteTimeLog": [
   {
    "duration": 1545,
    "start_time": "2022-02-12T14:41:51.567Z"
   },
   {
    "duration": 374,
    "start_time": "2022-02-12T14:41:53.114Z"
   },
   {
    "duration": 52,
    "start_time": "2022-02-12T14:41:53.491Z"
   },
   {
    "duration": 50,
    "start_time": "2022-02-12T14:41:53.546Z"
   },
   {
    "duration": 49,
    "start_time": "2022-02-12T14:41:53.599Z"
   },
   {
    "duration": 33,
    "start_time": "2022-02-12T14:41:53.651Z"
   },
   {
    "duration": 23,
    "start_time": "2022-02-12T14:41:53.687Z"
   },
   {
    "duration": 35,
    "start_time": "2022-02-12T14:41:53.714Z"
   },
   {
    "duration": 17,
    "start_time": "2022-02-12T14:41:53.752Z"
   },
   {
    "duration": 38,
    "start_time": "2022-02-12T14:41:53.771Z"
   },
   {
    "duration": 25,
    "start_time": "2022-02-12T14:41:53.811Z"
   },
   {
    "duration": 48,
    "start_time": "2022-02-12T14:41:53.839Z"
   },
   {
    "duration": 90,
    "start_time": "2022-02-12T14:41:53.890Z"
   },
   {
    "duration": 14,
    "start_time": "2022-02-12T14:41:53.984Z"
   },
   {
    "duration": 49,
    "start_time": "2022-02-12T14:41:54.001Z"
   },
   {
    "duration": 12,
    "start_time": "2022-02-12T14:41:54.052Z"
   },
   {
    "duration": 48,
    "start_time": "2022-02-12T14:41:54.067Z"
   },
   {
    "duration": 20,
    "start_time": "2022-02-12T14:41:54.117Z"
   },
   {
    "duration": 10,
    "start_time": "2022-02-12T14:41:54.139Z"
   },
   {
    "duration": 23,
    "start_time": "2022-02-12T14:41:54.152Z"
   },
   {
    "duration": 10,
    "start_time": "2022-02-12T14:41:54.178Z"
   },
   {
    "duration": 14,
    "start_time": "2022-02-12T14:41:54.190Z"
   },
   {
    "duration": 19,
    "start_time": "2022-02-12T14:41:54.210Z"
   },
   {
    "duration": 36,
    "start_time": "2022-02-12T14:41:54.232Z"
   },
   {
    "duration": 11,
    "start_time": "2022-02-12T14:41:54.270Z"
   },
   {
    "duration": 35,
    "start_time": "2022-02-12T14:41:54.288Z"
   },
   {
    "duration": 3,
    "start_time": "2022-02-12T14:41:54.326Z"
   },
   {
    "duration": 16,
    "start_time": "2022-02-12T14:41:54.331Z"
   },
   {
    "duration": 19,
    "start_time": "2022-02-12T14:41:54.350Z"
   },
   {
    "duration": 407,
    "start_time": "2022-02-12T14:41:54.371Z"
   },
   {
    "duration": 10,
    "start_time": "2022-02-12T14:41:54.780Z"
   },
   {
    "duration": 4,
    "start_time": "2022-02-12T14:41:54.793Z"
   },
   {
    "duration": 552,
    "start_time": "2022-02-12T14:41:54.799Z"
   },
   {
    "duration": -69,
    "start_time": "2022-02-12T14:41:55.424Z"
   },
   {
    "duration": -68,
    "start_time": "2022-02-12T14:41:55.425Z"
   },
   {
    "duration": -66,
    "start_time": "2022-02-12T14:41:55.426Z"
   },
   {
    "duration": -65,
    "start_time": "2022-02-12T14:41:55.427Z"
   },
   {
    "duration": -66,
    "start_time": "2022-02-12T14:41:55.430Z"
   },
   {
    "duration": -73,
    "start_time": "2022-02-12T14:41:55.440Z"
   },
   {
    "duration": -84,
    "start_time": "2022-02-12T14:41:55.453Z"
   },
   {
    "duration": -87,
    "start_time": "2022-02-12T14:41:55.458Z"
   },
   {
    "duration": -85,
    "start_time": "2022-02-12T14:41:55.459Z"
   },
   {
    "duration": -97,
    "start_time": "2022-02-12T14:41:55.473Z"
   },
   {
    "duration": -96,
    "start_time": "2022-02-12T14:41:55.474Z"
   },
   {
    "duration": -95,
    "start_time": "2022-02-12T14:41:55.475Z"
   },
   {
    "duration": -95,
    "start_time": "2022-02-12T14:41:55.477Z"
   },
   {
    "duration": -96,
    "start_time": "2022-02-12T14:41:55.480Z"
   },
   {
    "duration": -102,
    "start_time": "2022-02-12T14:41:55.488Z"
   },
   {
    "duration": -101,
    "start_time": "2022-02-12T14:41:55.490Z"
   },
   {
    "duration": -41,
    "start_time": "2022-02-12T14:41:55.491Z"
   },
   {
    "duration": -39,
    "start_time": "2022-02-12T14:41:55.491Z"
   },
   {
    "duration": -39,
    "start_time": "2022-02-12T14:41:55.493Z"
   },
   {
    "duration": -34,
    "start_time": "2022-02-12T14:41:55.494Z"
   },
   {
    "duration": 1564,
    "start_time": "2022-02-12T14:42:12.472Z"
   },
   {
    "duration": 375,
    "start_time": "2022-02-12T14:42:14.039Z"
   },
   {
    "duration": 51,
    "start_time": "2022-02-12T14:42:14.417Z"
   },
   {
    "duration": 55,
    "start_time": "2022-02-12T14:42:14.471Z"
   },
   {
    "duration": 62,
    "start_time": "2022-02-12T14:42:14.528Z"
   },
   {
    "duration": 56,
    "start_time": "2022-02-12T14:42:14.593Z"
   },
   {
    "duration": 32,
    "start_time": "2022-02-12T14:42:14.653Z"
   },
   {
    "duration": 65,
    "start_time": "2022-02-12T14:42:14.688Z"
   },
   {
    "duration": 22,
    "start_time": "2022-02-12T14:42:14.756Z"
   },
   {
    "duration": 39,
    "start_time": "2022-02-12T14:42:14.781Z"
   },
   {
    "duration": 45,
    "start_time": "2022-02-12T14:42:14.823Z"
   },
   {
    "duration": 29,
    "start_time": "2022-02-12T14:42:14.871Z"
   },
   {
    "duration": 93,
    "start_time": "2022-02-12T14:42:14.902Z"
   },
   {
    "duration": 15,
    "start_time": "2022-02-12T14:42:14.998Z"
   },
   {
    "duration": 63,
    "start_time": "2022-02-12T14:42:15.016Z"
   },
   {
    "duration": 14,
    "start_time": "2022-02-12T14:42:15.081Z"
   },
   {
    "duration": 66,
    "start_time": "2022-02-12T14:42:15.097Z"
   },
   {
    "duration": 19,
    "start_time": "2022-02-12T14:42:15.168Z"
   },
   {
    "duration": 6,
    "start_time": "2022-02-12T14:42:15.191Z"
   },
   {
    "duration": 24,
    "start_time": "2022-02-12T14:42:15.200Z"
   },
   {
    "duration": 11,
    "start_time": "2022-02-12T14:42:15.249Z"
   },
   {
    "duration": 21,
    "start_time": "2022-02-12T14:42:15.262Z"
   },
   {
    "duration": 22,
    "start_time": "2022-02-12T14:42:15.286Z"
   },
   {
    "duration": 58,
    "start_time": "2022-02-12T14:42:15.311Z"
   },
   {
    "duration": 5,
    "start_time": "2022-02-12T14:42:15.372Z"
   },
   {
    "duration": 37,
    "start_time": "2022-02-12T14:42:15.380Z"
   },
   {
    "duration": 3,
    "start_time": "2022-02-12T14:42:15.419Z"
   },
   {
    "duration": 13,
    "start_time": "2022-02-12T14:42:15.448Z"
   },
   {
    "duration": 14,
    "start_time": "2022-02-12T14:42:15.464Z"
   },
   {
    "duration": 293,
    "start_time": "2022-02-12T14:42:15.481Z"
   },
   {
    "duration": 9,
    "start_time": "2022-02-12T14:42:15.776Z"
   },
   {
    "duration": 9,
    "start_time": "2022-02-12T14:42:15.788Z"
   },
   {
    "duration": 428,
    "start_time": "2022-02-12T14:42:15.800Z"
   },
   {
    "duration": -17,
    "start_time": "2022-02-12T14:42:16.248Z"
   },
   {
    "duration": -24,
    "start_time": "2022-02-12T14:42:16.257Z"
   },
   {
    "duration": -23,
    "start_time": "2022-02-12T14:42:16.259Z"
   },
   {
    "duration": -22,
    "start_time": "2022-02-12T14:42:16.260Z"
   },
   {
    "duration": -22,
    "start_time": "2022-02-12T14:42:16.262Z"
   },
   {
    "duration": -20,
    "start_time": "2022-02-12T14:42:16.263Z"
   },
   {
    "duration": -23,
    "start_time": "2022-02-12T14:42:16.268Z"
   },
   {
    "duration": -23,
    "start_time": "2022-02-12T14:42:16.270Z"
   },
   {
    "duration": -22,
    "start_time": "2022-02-12T14:42:16.271Z"
   },
   {
    "duration": -22,
    "start_time": "2022-02-12T14:42:16.272Z"
   },
   {
    "duration": -22,
    "start_time": "2022-02-12T14:42:16.274Z"
   },
   {
    "duration": -21,
    "start_time": "2022-02-12T14:42:16.275Z"
   },
   {
    "duration": -20,
    "start_time": "2022-02-12T14:42:16.276Z"
   },
   {
    "duration": -20,
    "start_time": "2022-02-12T14:42:16.277Z"
   },
   {
    "duration": -20,
    "start_time": "2022-02-12T14:42:16.279Z"
   },
   {
    "duration": -19,
    "start_time": "2022-02-12T14:42:16.280Z"
   },
   {
    "duration": -23,
    "start_time": "2022-02-12T14:42:16.285Z"
   },
   {
    "duration": -22,
    "start_time": "2022-02-12T14:42:16.286Z"
   },
   {
    "duration": -22,
    "start_time": "2022-02-12T14:42:16.287Z"
   },
   {
    "duration": -21,
    "start_time": "2022-02-12T14:42:16.288Z"
   },
   {
    "duration": 82,
    "start_time": "2022-02-12T16:17:07.885Z"
   },
   {
    "duration": 5,
    "start_time": "2022-02-12T16:21:36.709Z"
   },
   {
    "duration": 9,
    "start_time": "2022-02-12T16:21:47.726Z"
   },
   {
    "duration": 258,
    "start_time": "2022-02-12T16:23:10.646Z"
   },
   {
    "duration": 299,
    "start_time": "2022-02-12T16:23:14.631Z"
   },
   {
    "duration": 7,
    "start_time": "2022-02-12T16:23:20.154Z"
   },
   {
    "duration": 6,
    "start_time": "2022-02-12T16:31:54.865Z"
   },
   {
    "duration": 121,
    "start_time": "2022-02-12T16:32:12.410Z"
   },
   {
    "duration": 93,
    "start_time": "2022-02-12T16:33:51.966Z"
   },
   {
    "duration": 8,
    "start_time": "2022-02-12T16:36:19.034Z"
   },
   {
    "duration": 6,
    "start_time": "2022-02-12T16:36:21.866Z"
   },
   {
    "duration": 79,
    "start_time": "2022-02-12T16:36:49.789Z"
   },
   {
    "duration": 250,
    "start_time": "2022-02-12T16:42:42.901Z"
   },
   {
    "duration": 7163,
    "start_time": "2022-02-12T16:42:47.334Z"
   },
   {
    "duration": 10,
    "start_time": "2022-02-12T16:42:56.731Z"
   },
   {
    "duration": 14,
    "start_time": "2022-02-12T16:43:05.436Z"
   },
   {
    "duration": 266,
    "start_time": "2022-02-12T16:43:06.439Z"
   },
   {
    "duration": 448,
    "start_time": "2022-02-12T16:43:12.581Z"
   },
   {
    "duration": 907,
    "start_time": "2022-02-12T16:43:15.331Z"
   },
   {
    "duration": 667,
    "start_time": "2022-02-12T16:44:20.799Z"
   },
   {
    "duration": 1083,
    "start_time": "2022-02-12T16:44:21.524Z"
   },
   {
    "duration": 9,
    "start_time": "2022-02-12T16:44:48.789Z"
   },
   {
    "duration": 539,
    "start_time": "2022-02-12T16:44:49.510Z"
   },
   {
    "duration": 44,
    "start_time": "2022-02-12T16:45:16.850Z"
   },
   {
    "duration": 243,
    "start_time": "2022-02-12T16:45:21.660Z"
   },
   {
    "duration": 262,
    "start_time": "2022-02-12T16:45:27.120Z"
   },
   {
    "duration": 230,
    "start_time": "2022-02-12T16:45:28.840Z"
   },
   {
    "duration": 8,
    "start_time": "2022-02-12T16:45:31.629Z"
   },
   {
    "duration": 150,
    "start_time": "2022-02-12T16:45:34.475Z"
   },
   {
    "duration": 334,
    "start_time": "2022-02-12T16:46:08.834Z"
   },
   {
    "duration": 242,
    "start_time": "2022-02-12T16:46:11.973Z"
   },
   {
    "duration": 6062,
    "start_time": "2022-02-12T16:46:14.908Z"
   },
   {
    "duration": 81,
    "start_time": "2022-02-12T17:34:26.720Z"
   },
   {
    "duration": 107,
    "start_time": "2022-02-12T17:35:03.847Z"
   },
   {
    "duration": 85,
    "start_time": "2022-02-12T17:39:18.836Z"
   },
   {
    "duration": 7,
    "start_time": "2022-02-12T17:42:43.614Z"
   },
   {
    "duration": 9771,
    "start_time": "2022-02-12T17:42:44.133Z"
   },
   {
    "duration": 1493,
    "start_time": "2022-02-12T17:43:11.636Z"
   },
   {
    "duration": 361,
    "start_time": "2022-02-12T17:43:13.132Z"
   },
   {
    "duration": 48,
    "start_time": "2022-02-12T17:43:13.495Z"
   },
   {
    "duration": 60,
    "start_time": "2022-02-12T17:43:13.546Z"
   },
   {
    "duration": 55,
    "start_time": "2022-02-12T17:43:13.608Z"
   },
   {
    "duration": 33,
    "start_time": "2022-02-12T17:43:13.666Z"
   },
   {
    "duration": 53,
    "start_time": "2022-02-12T17:43:13.701Z"
   },
   {
    "duration": 26,
    "start_time": "2022-02-12T17:43:13.760Z"
   },
   {
    "duration": 15,
    "start_time": "2022-02-12T17:43:13.789Z"
   },
   {
    "duration": 67,
    "start_time": "2022-02-12T17:43:13.807Z"
   },
   {
    "duration": 15,
    "start_time": "2022-02-12T17:43:13.877Z"
   },
   {
    "duration": 28,
    "start_time": "2022-02-12T17:43:13.895Z"
   },
   {
    "duration": 78,
    "start_time": "2022-02-12T17:43:13.925Z"
   },
   {
    "duration": 11,
    "start_time": "2022-02-12T17:43:14.006Z"
   },
   {
    "duration": 65,
    "start_time": "2022-02-12T17:43:14.019Z"
   },
   {
    "duration": 11,
    "start_time": "2022-02-12T17:43:14.087Z"
   },
   {
    "duration": 67,
    "start_time": "2022-02-12T17:43:14.101Z"
   },
   {
    "duration": 19,
    "start_time": "2022-02-12T17:43:14.170Z"
   },
   {
    "duration": 4,
    "start_time": "2022-02-12T17:43:14.192Z"
   },
   {
    "duration": 20,
    "start_time": "2022-02-12T17:43:14.198Z"
   },
   {
    "duration": 36,
    "start_time": "2022-02-12T17:43:14.220Z"
   },
   {
    "duration": 17,
    "start_time": "2022-02-12T17:43:14.265Z"
   },
   {
    "duration": 20,
    "start_time": "2022-02-12T17:43:14.290Z"
   },
   {
    "duration": 64,
    "start_time": "2022-02-12T17:43:14.314Z"
   },
   {
    "duration": 4,
    "start_time": "2022-02-12T17:43:14.381Z"
   },
   {
    "duration": 30,
    "start_time": "2022-02-12T17:43:14.388Z"
   },
   {
    "duration": 7,
    "start_time": "2022-02-12T17:43:14.449Z"
   },
   {
    "duration": 20,
    "start_time": "2022-02-12T17:43:14.458Z"
   },
   {
    "duration": 12,
    "start_time": "2022-02-12T17:43:14.480Z"
   },
   {
    "duration": 287,
    "start_time": "2022-02-12T17:43:14.495Z"
   },
   {
    "duration": 9,
    "start_time": "2022-02-12T17:43:14.785Z"
   },
   {
    "duration": 9,
    "start_time": "2022-02-12T17:43:14.798Z"
   },
   {
    "duration": 449,
    "start_time": "2022-02-12T17:43:14.809Z"
   },
   {
    "duration": -124,
    "start_time": "2022-02-12T17:43:15.385Z"
   },
   {
    "duration": -124,
    "start_time": "2022-02-12T17:43:15.387Z"
   },
   {
    "duration": -126,
    "start_time": "2022-02-12T17:43:15.390Z"
   },
   {
    "duration": -126,
    "start_time": "2022-02-12T17:43:15.392Z"
   },
   {
    "duration": -127,
    "start_time": "2022-02-12T17:43:15.394Z"
   },
   {
    "duration": -133,
    "start_time": "2022-02-12T17:43:15.401Z"
   },
   {
    "duration": -133,
    "start_time": "2022-02-12T17:43:15.403Z"
   },
   {
    "duration": -133,
    "start_time": "2022-02-12T17:43:15.404Z"
   },
   {
    "duration": -134,
    "start_time": "2022-02-12T17:43:15.406Z"
   },
   {
    "duration": -134,
    "start_time": "2022-02-12T17:43:15.408Z"
   },
   {
    "duration": -136,
    "start_time": "2022-02-12T17:43:15.411Z"
   },
   {
    "duration": -140,
    "start_time": "2022-02-12T17:43:15.417Z"
   },
   {
    "duration": -140,
    "start_time": "2022-02-12T17:43:15.418Z"
   },
   {
    "duration": -142,
    "start_time": "2022-02-12T17:43:15.421Z"
   },
   {
    "duration": -142,
    "start_time": "2022-02-12T17:43:15.422Z"
   },
   {
    "duration": -142,
    "start_time": "2022-02-12T17:43:15.424Z"
   },
   {
    "duration": -142,
    "start_time": "2022-02-12T17:43:15.425Z"
   },
   {
    "duration": -141,
    "start_time": "2022-02-12T17:43:15.426Z"
   },
   {
    "duration": -145,
    "start_time": "2022-02-12T17:43:15.431Z"
   },
   {
    "duration": -145,
    "start_time": "2022-02-12T17:43:15.432Z"
   },
   {
    "duration": 337,
    "start_time": "2022-02-12T17:44:26.398Z"
   },
   {
    "duration": 7840,
    "start_time": "2022-02-12T17:44:33.610Z"
   },
   {
    "duration": 11,
    "start_time": "2022-02-12T17:44:44.117Z"
   },
   {
    "duration": 149,
    "start_time": "2022-02-12T17:45:39.675Z"
   },
   {
    "duration": 12,
    "start_time": "2022-02-12T17:46:55.515Z"
   },
   {
    "duration": 244,
    "start_time": "2022-02-12T17:47:12.991Z"
   },
   {
    "duration": 305,
    "start_time": "2022-02-12T17:48:46.798Z"
   },
   {
    "duration": 44,
    "start_time": "2022-02-12T17:52:10.830Z"
   },
   {
    "duration": 932,
    "start_time": "2022-02-12T17:56:26.581Z"
   },
   {
    "duration": 545,
    "start_time": "2022-02-12T17:56:38.362Z"
   },
   {
    "duration": 1005,
    "start_time": "2022-02-12T17:56:38.909Z"
   },
   {
    "duration": 9,
    "start_time": "2022-02-12T17:56:39.917Z"
   },
   {
    "duration": 593,
    "start_time": "2022-02-12T17:56:40.272Z"
   },
   {
    "duration": 49,
    "start_time": "2022-02-12T17:56:42.073Z"
   },
   {
    "duration": 264,
    "start_time": "2022-02-12T17:56:43.764Z"
   },
   {
    "duration": 271,
    "start_time": "2022-02-12T17:56:44.433Z"
   },
   {
    "duration": 444,
    "start_time": "2022-02-12T17:56:45.241Z"
   },
   {
    "duration": 8,
    "start_time": "2022-02-12T17:56:49.941Z"
   },
   {
    "duration": 155,
    "start_time": "2022-02-12T17:56:50.562Z"
   },
   {
    "duration": 333,
    "start_time": "2022-02-12T17:56:51.720Z"
   },
   {
    "duration": 583,
    "start_time": "2022-02-12T17:56:52.762Z"
   },
   {
    "duration": 8402,
    "start_time": "2022-02-12T17:56:55.528Z"
   },
   {
    "duration": 47,
    "start_time": "2022-02-12T18:18:00.854Z"
   },
   {
    "duration": 47,
    "start_time": "2022-02-12T18:18:07.190Z"
   },
   {
    "duration": 110,
    "start_time": "2022-02-12T18:23:01.272Z"
   },
   {
    "duration": 130,
    "start_time": "2022-02-12T18:52:22.720Z"
   },
   {
    "duration": 82,
    "start_time": "2022-02-12T18:53:28.096Z"
   },
   {
    "duration": 94,
    "start_time": "2022-02-12T19:20:26.528Z"
   },
   {
    "duration": 85,
    "start_time": "2022-02-12T19:28:58.760Z"
   },
   {
    "duration": 85,
    "start_time": "2022-02-12T20:21:57.313Z"
   },
   {
    "duration": 1476,
    "start_time": "2022-02-12T20:46:53.031Z"
   },
   {
    "duration": 462,
    "start_time": "2022-02-12T20:46:54.510Z"
   },
   {
    "duration": 49,
    "start_time": "2022-02-12T20:46:54.976Z"
   },
   {
    "duration": 54,
    "start_time": "2022-02-12T20:46:55.030Z"
   },
   {
    "duration": 69,
    "start_time": "2022-02-12T20:46:55.087Z"
   },
   {
    "duration": 32,
    "start_time": "2022-02-12T20:46:55.159Z"
   },
   {
    "duration": 56,
    "start_time": "2022-02-12T20:46:55.194Z"
   },
   {
    "duration": 36,
    "start_time": "2022-02-12T20:46:55.254Z"
   },
   {
    "duration": 25,
    "start_time": "2022-02-12T20:46:55.295Z"
   },
   {
    "duration": 53,
    "start_time": "2022-02-12T20:46:55.323Z"
   },
   {
    "duration": 17,
    "start_time": "2022-02-12T20:46:55.379Z"
   },
   {
    "duration": 67,
    "start_time": "2022-02-12T20:46:55.399Z"
   },
   {
    "duration": 62,
    "start_time": "2022-02-12T20:46:55.468Z"
   },
   {
    "duration": 24,
    "start_time": "2022-02-12T20:46:55.533Z"
   },
   {
    "duration": 53,
    "start_time": "2022-02-12T20:46:55.560Z"
   },
   {
    "duration": 41,
    "start_time": "2022-02-12T20:46:55.616Z"
   },
   {
    "duration": 44,
    "start_time": "2022-02-12T20:46:55.660Z"
   },
   {
    "duration": 42,
    "start_time": "2022-02-12T20:46:55.707Z"
   },
   {
    "duration": 5,
    "start_time": "2022-02-12T20:46:55.752Z"
   },
   {
    "duration": 23,
    "start_time": "2022-02-12T20:46:55.760Z"
   },
   {
    "duration": 11,
    "start_time": "2022-02-12T20:46:55.786Z"
   },
   {
    "duration": 51,
    "start_time": "2022-02-12T20:46:55.800Z"
   },
   {
    "duration": 18,
    "start_time": "2022-02-12T20:46:55.859Z"
   },
   {
    "duration": 29,
    "start_time": "2022-02-12T20:46:55.880Z"
   },
   {
    "duration": 37,
    "start_time": "2022-02-12T20:46:55.912Z"
   },
   {
    "duration": 34,
    "start_time": "2022-02-12T20:46:55.952Z"
   },
   {
    "duration": 3,
    "start_time": "2022-02-12T20:46:55.989Z"
   },
   {
    "duration": 17,
    "start_time": "2022-02-12T20:46:55.995Z"
   },
   {
    "duration": 45,
    "start_time": "2022-02-12T20:46:56.015Z"
   },
   {
    "duration": 303,
    "start_time": "2022-02-12T20:46:56.062Z"
   },
   {
    "duration": 9,
    "start_time": "2022-02-12T20:46:56.367Z"
   },
   {
    "duration": 5,
    "start_time": "2022-02-12T20:46:56.379Z"
   },
   {
    "duration": 391,
    "start_time": "2022-02-12T20:46:56.386Z"
   },
   {
    "duration": 829,
    "start_time": "2022-02-12T20:46:55.951Z"
   },
   {
    "duration": 828,
    "start_time": "2022-02-12T20:46:55.954Z"
   },
   {
    "duration": 827,
    "start_time": "2022-02-12T20:46:55.956Z"
   },
   {
    "duration": 826,
    "start_time": "2022-02-12T20:46:55.959Z"
   },
   {
    "duration": 825,
    "start_time": "2022-02-12T20:46:55.961Z"
   },
   {
    "duration": 818,
    "start_time": "2022-02-12T20:46:55.969Z"
   },
   {
    "duration": 817,
    "start_time": "2022-02-12T20:46:55.972Z"
   },
   {
    "duration": 815,
    "start_time": "2022-02-12T20:46:55.975Z"
   },
   {
    "duration": 813,
    "start_time": "2022-02-12T20:46:55.978Z"
   },
   {
    "duration": 812,
    "start_time": "2022-02-12T20:46:55.981Z"
   },
   {
    "duration": 811,
    "start_time": "2022-02-12T20:46:55.983Z"
   },
   {
    "duration": 810,
    "start_time": "2022-02-12T20:46:55.985Z"
   },
   {
    "duration": 809,
    "start_time": "2022-02-12T20:46:55.988Z"
   },
   {
    "duration": 808,
    "start_time": "2022-02-12T20:46:55.990Z"
   },
   {
    "duration": 807,
    "start_time": "2022-02-12T20:46:55.993Z"
   },
   {
    "duration": 802,
    "start_time": "2022-02-12T20:46:55.999Z"
   },
   {
    "duration": 798,
    "start_time": "2022-02-12T20:46:56.004Z"
   },
   {
    "duration": 797,
    "start_time": "2022-02-12T20:46:56.006Z"
   },
   {
    "duration": 796,
    "start_time": "2022-02-12T20:46:56.009Z"
   },
   {
    "duration": 794,
    "start_time": "2022-02-12T20:46:56.012Z"
   },
   {
    "duration": 317,
    "start_time": "2022-02-13T06:00:42.477Z"
   },
   {
    "duration": 89,
    "start_time": "2022-02-13T06:04:36.181Z"
   },
   {
    "duration": 262,
    "start_time": "2022-02-13T06:05:02.968Z"
   },
   {
    "duration": 511,
    "start_time": "2022-02-13T06:17:16.863Z"
   },
   {
    "duration": 269,
    "start_time": "2022-02-13T06:17:56.430Z"
   },
   {
    "duration": 1218,
    "start_time": "2022-02-13T06:18:09.164Z"
   },
   {
    "duration": 289,
    "start_time": "2022-02-13T06:18:10.965Z"
   },
   {
    "duration": 38,
    "start_time": "2022-02-13T06:18:13.386Z"
   },
   {
    "duration": 39,
    "start_time": "2022-02-13T06:18:15.316Z"
   },
   {
    "duration": 28,
    "start_time": "2022-02-13T06:18:16.973Z"
   },
   {
    "duration": 24,
    "start_time": "2022-02-13T06:18:18.603Z"
   },
   {
    "duration": 21,
    "start_time": "2022-02-13T06:18:20.316Z"
   },
   {
    "duration": 20,
    "start_time": "2022-02-13T06:18:21.610Z"
   },
   {
    "duration": 12,
    "start_time": "2022-02-13T06:18:24.178Z"
   },
   {
    "duration": 17,
    "start_time": "2022-02-13T06:18:26.531Z"
   },
   {
    "duration": 11,
    "start_time": "2022-02-13T06:18:27.795Z"
   },
   {
    "duration": 12,
    "start_time": "2022-02-13T06:18:30.533Z"
   },
   {
    "duration": 9,
    "start_time": "2022-02-13T06:18:49.146Z"
   },
   {
    "duration": 89,
    "start_time": "2022-02-13T06:22:07.460Z"
   },
   {
    "duration": 93,
    "start_time": "2022-02-13T06:22:59.054Z"
   },
   {
    "duration": 91,
    "start_time": "2022-02-13T06:23:06.165Z"
   },
   {
    "duration": 670,
    "start_time": "2022-02-13T06:23:25.316Z"
   },
   {
    "duration": 9,
    "start_time": "2022-02-13T06:23:59.316Z"
   },
   {
    "duration": 10,
    "start_time": "2022-02-13T06:24:06.771Z"
   },
   {
    "duration": 5,
    "start_time": "2022-02-13T06:27:23.285Z"
   },
   {
    "duration": 480,
    "start_time": "2022-02-13T06:28:46.045Z"
   },
   {
    "duration": 4,
    "start_time": "2022-02-13T06:28:50.993Z"
   },
   {
    "duration": 21,
    "start_time": "2022-02-13T06:28:57.132Z"
   },
   {
    "duration": 4,
    "start_time": "2022-02-13T06:29:28.905Z"
   },
   {
    "duration": 228,
    "start_time": "2022-02-13T06:29:32.370Z"
   },
   {
    "duration": 5,
    "start_time": "2022-02-13T06:29:35.227Z"
   },
   {
    "duration": 5,
    "start_time": "2022-02-13T06:30:00.644Z"
   },
   {
    "duration": 5,
    "start_time": "2022-02-13T06:30:13.315Z"
   },
   {
    "duration": 518,
    "start_time": "2022-02-13T06:31:48.424Z"
   },
   {
    "duration": 49,
    "start_time": "2022-02-13T06:32:03.765Z"
   },
   {
    "duration": 8,
    "start_time": "2022-02-13T06:32:20.806Z"
   },
   {
    "duration": 7,
    "start_time": "2022-02-13T06:33:09.805Z"
   },
   {
    "duration": 8,
    "start_time": "2022-02-13T06:33:40.077Z"
   },
   {
    "duration": 29,
    "start_time": "2022-02-13T06:33:44.326Z"
   },
   {
    "duration": 6,
    "start_time": "2022-02-13T06:35:25.850Z"
   },
   {
    "duration": 24,
    "start_time": "2022-02-13T06:36:09.390Z"
   },
   {
    "duration": 6,
    "start_time": "2022-02-13T06:36:14.473Z"
   },
   {
    "duration": 9,
    "start_time": "2022-02-13T06:36:16.120Z"
   },
   {
    "duration": 27,
    "start_time": "2022-02-13T06:36:19.329Z"
   },
   {
    "duration": 6,
    "start_time": "2022-02-13T06:36:51.847Z"
   },
   {
    "duration": 14,
    "start_time": "2022-02-13T06:37:04.271Z"
   },
   {
    "duration": 366,
    "start_time": "2022-02-13T06:38:23.558Z"
   },
   {
    "duration": 13,
    "start_time": "2022-02-13T06:38:29.103Z"
   },
   {
    "duration": 262,
    "start_time": "2022-02-13T06:39:13.981Z"
   },
   {
    "duration": 261,
    "start_time": "2022-02-13T06:41:23.114Z"
   },
   {
    "duration": 31,
    "start_time": "2022-02-13T06:41:23.827Z"
   },
   {
    "duration": 34,
    "start_time": "2022-02-13T06:41:24.754Z"
   },
   {
    "duration": 29,
    "start_time": "2022-02-13T06:41:25.578Z"
   },
   {
    "duration": 24,
    "start_time": "2022-02-13T06:41:26.177Z"
   },
   {
    "duration": 15,
    "start_time": "2022-02-13T06:41:26.778Z"
   },
   {
    "duration": 18,
    "start_time": "2022-02-13T06:41:27.162Z"
   },
   {
    "duration": 11,
    "start_time": "2022-02-13T06:41:27.850Z"
   },
   {
    "duration": 16,
    "start_time": "2022-02-13T06:41:28.849Z"
   },
   {
    "duration": 11,
    "start_time": "2022-02-13T06:41:29.424Z"
   },
   {
    "duration": 12,
    "start_time": "2022-02-13T06:41:30.457Z"
   },
   {
    "duration": 40,
    "start_time": "2022-02-13T06:41:33.848Z"
   },
   {
    "duration": 7,
    "start_time": "2022-02-13T06:41:35.136Z"
   },
   {
    "duration": 7,
    "start_time": "2022-02-13T06:41:37.273Z"
   },
   {
    "duration": 28,
    "start_time": "2022-02-13T06:41:39.433Z"
   },
   {
    "duration": 6,
    "start_time": "2022-02-13T06:41:40.641Z"
   },
   {
    "duration": 9,
    "start_time": "2022-02-13T06:41:42.209Z"
   },
   {
    "duration": 28,
    "start_time": "2022-02-13T06:41:42.888Z"
   },
   {
    "duration": 6,
    "start_time": "2022-02-13T06:41:43.984Z"
   },
   {
    "duration": 12,
    "start_time": "2022-02-13T06:41:45.530Z"
   },
   {
    "duration": 4,
    "start_time": "2022-02-13T06:41:51.017Z"
   },
   {
    "duration": 13,
    "start_time": "2022-02-13T06:41:53.019Z"
   },
   {
    "duration": 8,
    "start_time": "2022-02-13T06:42:03.771Z"
   },
   {
    "duration": 4,
    "start_time": "2022-02-13T06:46:10.147Z"
   },
   {
    "duration": 257,
    "start_time": "2022-02-13T06:46:10.676Z"
   },
   {
    "duration": 34,
    "start_time": "2022-02-13T06:46:11.205Z"
   },
   {
    "duration": 35,
    "start_time": "2022-02-13T06:46:11.716Z"
   },
   {
    "duration": 29,
    "start_time": "2022-02-13T06:46:12.220Z"
   },
   {
    "duration": 24,
    "start_time": "2022-02-13T06:46:12.738Z"
   },
   {
    "duration": 24,
    "start_time": "2022-02-13T06:46:13.259Z"
   },
   {
    "duration": 20,
    "start_time": "2022-02-13T06:46:13.610Z"
   },
   {
    "duration": 11,
    "start_time": "2022-02-13T06:46:14.124Z"
   },
   {
    "duration": 15,
    "start_time": "2022-02-13T06:46:14.812Z"
   },
   {
    "duration": 13,
    "start_time": "2022-02-13T06:46:15.163Z"
   },
   {
    "duration": 11,
    "start_time": "2022-02-13T06:46:15.691Z"
   },
   {
    "duration": 39,
    "start_time": "2022-02-13T06:46:19.742Z"
   },
   {
    "duration": 7,
    "start_time": "2022-02-13T06:46:21.850Z"
   },
   {
    "duration": 8,
    "start_time": "2022-02-13T06:46:22.882Z"
   },
   {
    "duration": 26,
    "start_time": "2022-02-13T06:46:23.249Z"
   },
   {
    "duration": 6,
    "start_time": "2022-02-13T06:46:24.149Z"
   },
   {
    "duration": 10,
    "start_time": "2022-02-13T06:46:25.010Z"
   },
   {
    "duration": 27,
    "start_time": "2022-02-13T06:46:25.587Z"
   },
   {
    "duration": 7,
    "start_time": "2022-02-13T06:46:26.579Z"
   },
   {
    "duration": 12,
    "start_time": "2022-02-13T06:46:29.546Z"
   },
   {
    "duration": 10,
    "start_time": "2022-02-13T06:47:42.355Z"
   },
   {
    "duration": 13,
    "start_time": "2022-02-13T06:47:54.240Z"
   },
   {
    "duration": 4,
    "start_time": "2022-02-13T06:47:56.928Z"
   },
   {
    "duration": 12,
    "start_time": "2022-02-13T06:47:58.327Z"
   },
   {
    "duration": 128,
    "start_time": "2022-02-13T06:48:01.856Z"
   },
   {
    "duration": 16,
    "start_time": "2022-02-13T06:48:15.313Z"
   },
   {
    "duration": 13,
    "start_time": "2022-02-13T06:49:03.527Z"
   },
   {
    "duration": 12,
    "start_time": "2022-02-13T06:49:08.448Z"
   },
   {
    "duration": 15,
    "start_time": "2022-02-13T06:49:27.280Z"
   },
   {
    "duration": 20,
    "start_time": "2022-02-13T06:49:51.757Z"
   },
   {
    "duration": 289,
    "start_time": "2022-02-13T06:50:29.916Z"
   },
   {
    "duration": 4,
    "start_time": "2022-02-13T06:50:35.276Z"
   },
   {
    "duration": 23,
    "start_time": "2022-02-13T06:50:39.464Z"
   },
   {
    "duration": 3,
    "start_time": "2022-02-13T06:50:56.026Z"
   },
   {
    "duration": 6891,
    "start_time": "2022-02-13T06:50:59.004Z"
   },
   {
    "duration": -282,
    "start_time": "2022-02-13T06:51:06.179Z"
   },
   {
    "duration": 4,
    "start_time": "2022-02-13T06:52:05.452Z"
   },
   {
    "duration": 259,
    "start_time": "2022-02-13T06:52:06.035Z"
   },
   {
    "duration": 43,
    "start_time": "2022-02-13T06:52:06.612Z"
   },
   {
    "duration": 36,
    "start_time": "2022-02-13T06:52:07.203Z"
   },
   {
    "duration": 29,
    "start_time": "2022-02-13T06:52:07.914Z"
   },
   {
    "duration": 25,
    "start_time": "2022-02-13T06:52:08.722Z"
   },
   {
    "duration": 16,
    "start_time": "2022-02-13T06:52:09.563Z"
   },
   {
    "duration": 23,
    "start_time": "2022-02-13T06:52:10.289Z"
   },
   {
    "duration": 12,
    "start_time": "2022-02-13T06:52:11.075Z"
   },
   {
    "duration": 17,
    "start_time": "2022-02-13T06:52:11.796Z"
   },
   {
    "duration": 10,
    "start_time": "2022-02-13T06:52:12.153Z"
   },
   {
    "duration": 11,
    "start_time": "2022-02-13T06:52:12.931Z"
   },
   {
    "duration": 37,
    "start_time": "2022-02-13T06:52:14.962Z"
   },
   {
    "duration": 7,
    "start_time": "2022-02-13T06:52:16.259Z"
   },
   {
    "duration": 7,
    "start_time": "2022-02-13T06:52:17.208Z"
   },
   {
    "duration": 26,
    "start_time": "2022-02-13T06:52:17.714Z"
   },
   {
    "duration": 6,
    "start_time": "2022-02-13T06:52:18.809Z"
   },
   {
    "duration": 9,
    "start_time": "2022-02-13T06:52:20.313Z"
   },
   {
    "duration": 27,
    "start_time": "2022-02-13T06:52:21.778Z"
   },
   {
    "duration": 5,
    "start_time": "2022-02-13T06:52:27.114Z"
   },
   {
    "duration": 13,
    "start_time": "2022-02-13T06:52:28.265Z"
   },
   {
    "duration": 4,
    "start_time": "2022-02-13T06:53:03.881Z"
   },
   {
    "duration": 14,
    "start_time": "2022-02-13T06:53:16.801Z"
   },
   {
    "duration": 14,
    "start_time": "2022-02-13T06:53:31.281Z"
   },
   {
    "duration": 13,
    "start_time": "2022-02-13T06:53:34.225Z"
   },
   {
    "duration": 14,
    "start_time": "2022-02-13T06:54:01.065Z"
   },
   {
    "duration": 4,
    "start_time": "2022-02-13T06:54:48.046Z"
   },
   {
    "duration": 13,
    "start_time": "2022-02-13T06:55:02.854Z"
   },
   {
    "duration": 14,
    "start_time": "2022-02-13T06:55:09.269Z"
   },
   {
    "duration": 11,
    "start_time": "2022-02-13T06:55:28.140Z"
   },
   {
    "duration": 16,
    "start_time": "2022-02-13T06:55:36.287Z"
   },
   {
    "duration": 18,
    "start_time": "2022-02-13T06:56:06.420Z"
   },
   {
    "duration": 4,
    "start_time": "2022-02-13T06:56:17.923Z"
   },
   {
    "duration": 23,
    "start_time": "2022-02-13T06:56:31.539Z"
   },
   {
    "duration": 3,
    "start_time": "2022-02-13T06:56:41.700Z"
   },
   {
    "duration": 6870,
    "start_time": "2022-02-13T06:56:45.924Z"
   },
   {
    "duration": -290,
    "start_time": "2022-02-13T06:56:53.086Z"
   },
   {
    "duration": 3,
    "start_time": "2022-02-13T06:57:54.291Z"
   },
   {
    "duration": 6627,
    "start_time": "2022-02-13T06:58:27.441Z"
   },
   {
    "duration": 29,
    "start_time": "2022-02-13T06:58:43.648Z"
   },
   {
    "duration": 29,
    "start_time": "2022-02-13T07:00:44.757Z"
   },
   {
    "duration": 28,
    "start_time": "2022-02-13T07:00:49.549Z"
   },
   {
    "duration": 27,
    "start_time": "2022-02-13T07:00:54.301Z"
   },
   {
    "duration": 4,
    "start_time": "2022-02-13T07:02:24.699Z"
   },
   {
    "duration": 263,
    "start_time": "2022-02-13T07:02:25.229Z"
   },
   {
    "duration": 32,
    "start_time": "2022-02-13T07:02:25.677Z"
   },
   {
    "duration": 35,
    "start_time": "2022-02-13T07:02:26.171Z"
   },
   {
    "duration": 30,
    "start_time": "2022-02-13T07:02:26.668Z"
   },
   {
    "duration": 25,
    "start_time": "2022-02-13T07:02:27.163Z"
   },
   {
    "duration": 16,
    "start_time": "2022-02-13T07:02:27.676Z"
   },
   {
    "duration": 20,
    "start_time": "2022-02-13T07:02:28.010Z"
   },
   {
    "duration": 12,
    "start_time": "2022-02-13T07:02:28.514Z"
   },
   {
    "duration": 16,
    "start_time": "2022-02-13T07:02:29.180Z"
   },
   {
    "duration": 12,
    "start_time": "2022-02-13T07:02:29.515Z"
   },
   {
    "duration": 13,
    "start_time": "2022-02-13T07:02:30.021Z"
   },
   {
    "duration": 44,
    "start_time": "2022-02-13T07:02:32.419Z"
   },
   {
    "duration": 8,
    "start_time": "2022-02-13T07:02:33.995Z"
   },
   {
    "duration": 8,
    "start_time": "2022-02-13T07:02:35.714Z"
   },
   {
    "duration": 28,
    "start_time": "2022-02-13T07:02:36.644Z"
   },
   {
    "duration": 6,
    "start_time": "2022-02-13T07:02:38.050Z"
   },
   {
    "duration": 9,
    "start_time": "2022-02-13T07:02:41.499Z"
   },
   {
    "duration": 29,
    "start_time": "2022-02-13T07:02:42.580Z"
   },
   {
    "duration": 6,
    "start_time": "2022-02-13T07:02:44.548Z"
   },
   {
    "duration": 13,
    "start_time": "2022-02-13T07:02:51.115Z"
   },
   {
    "duration": 4,
    "start_time": "2022-02-13T07:02:57.050Z"
   },
   {
    "duration": 16,
    "start_time": "2022-02-13T07:03:00.363Z"
   },
   {
    "duration": 9,
    "start_time": "2022-02-13T07:03:12.021Z"
   },
   {
    "duration": 11,
    "start_time": "2022-02-13T07:03:26.155Z"
   },
   {
    "duration": 2,
    "start_time": "2022-02-13T07:07:30.397Z"
   },
   {
    "duration": 10,
    "start_time": "2022-02-13T07:07:33.868Z"
   },
   {
    "duration": 15,
    "start_time": "2022-02-13T07:07:37.965Z"
   },
   {
    "duration": 20,
    "start_time": "2022-02-13T07:07:42.163Z"
   },
   {
    "duration": 4,
    "start_time": "2022-02-13T07:07:46.212Z"
   },
   {
    "duration": 20,
    "start_time": "2022-02-13T07:07:52.803Z"
   },
   {
    "duration": 3,
    "start_time": "2022-02-13T07:07:58.492Z"
   },
   {
    "duration": 6,
    "start_time": "2022-02-13T07:08:10.372Z"
   },
   {
    "duration": 30,
    "start_time": "2022-02-13T07:08:16.242Z"
   },
   {
    "duration": 9,
    "start_time": "2022-02-13T07:08:22.435Z"
   },
   {
    "duration": 168,
    "start_time": "2022-02-13T07:08:40.874Z"
   },
   {
    "duration": 313,
    "start_time": "2022-02-13T07:13:27.249Z"
   },
   {
    "duration": 700,
    "start_time": "2022-02-13T07:32:52.488Z"
   },
   {
    "duration": 777,
    "start_time": "2022-02-13T07:34:20.432Z"
   },
   {
    "duration": 840,
    "start_time": "2022-02-13T07:34:32.710Z"
   },
   {
    "duration": 561,
    "start_time": "2022-02-13T07:34:59.444Z"
   },
   {
    "duration": 72,
    "start_time": "2022-02-13T07:35:23.285Z"
   },
   {
    "duration": 4,
    "start_time": "2022-02-13T07:37:49.793Z"
   },
   {
    "duration": 70,
    "start_time": "2022-02-13T07:38:38.825Z"
   },
   {
    "duration": 2,
    "start_time": "2022-02-13T07:39:00.655Z"
   },
   {
    "duration": 72,
    "start_time": "2022-02-13T07:39:02.063Z"
   },
   {
    "duration": 4,
    "start_time": "2022-02-13T07:39:32.382Z"
   },
   {
    "duration": 8,
    "start_time": "2022-02-13T07:39:41.324Z"
   },
   {
    "duration": 5,
    "start_time": "2022-02-13T07:42:20.803Z"
   },
   {
    "duration": 333,
    "start_time": "2022-02-13T07:42:47.520Z"
   },
   {
    "duration": 72,
    "start_time": "2022-02-13T07:43:01.258Z"
   },
   {
    "duration": 7,
    "start_time": "2022-02-13T07:43:08.778Z"
   },
   {
    "duration": 67,
    "start_time": "2022-02-13T07:44:19.280Z"
   },
   {
    "duration": 93,
    "start_time": "2022-02-13T07:45:28.472Z"
   },
   {
    "duration": 115,
    "start_time": "2022-02-13T07:45:45.669Z"
   },
   {
    "duration": 71,
    "start_time": "2022-02-13T07:46:09.766Z"
   },
   {
    "duration": 7,
    "start_time": "2022-02-13T07:46:28.437Z"
   },
   {
    "duration": 339,
    "start_time": "2022-02-13T07:47:21.636Z"
   },
   {
    "duration": 72,
    "start_time": "2022-02-13T07:47:31.860Z"
   },
   {
    "duration": 71,
    "start_time": "2022-02-13T07:47:59.707Z"
   },
   {
    "duration": 7,
    "start_time": "2022-02-13T07:48:09.769Z"
   },
   {
    "duration": 742,
    "start_time": "2022-02-13T07:48:37.186Z"
   },
   {
    "duration": 5078,
    "start_time": "2022-02-13T07:49:13.480Z"
   },
   {
    "duration": 7,
    "start_time": "2022-02-13T07:49:21.272Z"
   },
   {
    "duration": 654,
    "start_time": "2022-02-13T07:52:53.204Z"
   },
   {
    "duration": 3,
    "start_time": "2022-02-13T07:53:06.163Z"
   },
   {
    "duration": 3,
    "start_time": "2022-02-13T07:53:16.298Z"
   },
   {
    "duration": 7,
    "start_time": "2022-02-13T07:53:21.714Z"
   },
   {
    "duration": 2,
    "start_time": "2022-02-13T07:53:29.923Z"
   },
   {
    "duration": 298,
    "start_time": "2022-02-13T07:54:11.336Z"
   },
   {
    "duration": 326,
    "start_time": "2022-02-13T07:56:15.487Z"
   },
   {
    "duration": 4,
    "start_time": "2022-02-13T07:57:10.016Z"
   },
   {
    "duration": 13,
    "start_time": "2022-02-13T07:58:33.116Z"
   },
   {
    "duration": 2,
    "start_time": "2022-02-13T08:00:07.523Z"
   },
   {
    "duration": 12,
    "start_time": "2022-02-13T08:00:29.182Z"
   },
   {
    "duration": 6,
    "start_time": "2022-02-13T08:00:59.927Z"
   },
   {
    "duration": 275,
    "start_time": "2022-02-13T08:01:46.654Z"
   },
   {
    "duration": 296,
    "start_time": "2022-02-13T08:02:12.663Z"
   },
   {
    "duration": 322,
    "start_time": "2022-02-13T08:02:29.102Z"
   },
   {
    "duration": 293,
    "start_time": "2022-02-13T08:02:42.824Z"
   },
   {
    "duration": 6,
    "start_time": "2022-02-13T08:03:00.349Z"
   },
   {
    "duration": 6,
    "start_time": "2022-02-13T08:03:20.893Z"
   },
   {
    "duration": 5,
    "start_time": "2022-02-13T08:03:44.556Z"
   },
   {
    "duration": 8,
    "start_time": "2022-02-13T08:03:53.275Z"
   },
   {
    "duration": 10,
    "start_time": "2022-02-13T08:04:07.916Z"
   },
   {
    "duration": 276,
    "start_time": "2022-02-13T08:04:18.819Z"
   },
   {
    "duration": 3,
    "start_time": "2022-02-13T08:04:39.138Z"
   },
   {
    "duration": 187,
    "start_time": "2022-02-13T08:04:41.131Z"
   },
   {
    "duration": 621,
    "start_time": "2022-02-13T08:05:25.148Z"
   },
   {
    "duration": 611,
    "start_time": "2022-02-13T08:15:22.219Z"
   },
   {
    "duration": 4,
    "start_time": "2022-02-13T08:15:28.185Z"
   },
   {
    "duration": 8,
    "start_time": "2022-02-13T08:15:28.993Z"
   },
   {
    "duration": 3,
    "start_time": "2022-02-13T08:15:35.442Z"
   },
   {
    "duration": 3,
    "start_time": "2022-02-13T08:15:38.890Z"
   },
   {
    "duration": 11,
    "start_time": "2022-02-13T08:15:40.967Z"
   },
   {
    "duration": 6,
    "start_time": "2022-02-13T08:15:49.680Z"
   },
   {
    "duration": 5,
    "start_time": "2022-02-13T08:15:58.944Z"
   },
   {
    "duration": 7,
    "start_time": "2022-02-13T08:16:05.415Z"
   },
   {
    "duration": 7,
    "start_time": "2022-02-13T08:16:29.373Z"
   },
   {
    "duration": 9,
    "start_time": "2022-02-13T08:16:33.159Z"
   },
   {
    "duration": 2,
    "start_time": "2022-02-13T08:16:40.120Z"
   },
   {
    "duration": 188,
    "start_time": "2022-02-13T08:16:57.120Z"
   },
   {
    "duration": 562,
    "start_time": "2022-02-13T08:16:59.921Z"
   },
   {
    "duration": 360,
    "start_time": "2022-02-13T08:17:24.926Z"
   },
   {
    "duration": 495,
    "start_time": "2022-02-13T08:17:28.409Z"
   },
   {
    "duration": 8,
    "start_time": "2022-02-13T08:18:57.842Z"
   },
   {
    "duration": 357,
    "start_time": "2022-02-13T08:19:00.193Z"
   },
   {
    "duration": 29,
    "start_time": "2022-02-13T08:19:41.021Z"
   },
   {
    "duration": 1843,
    "start_time": "2022-02-13T14:12:15.196Z"
   },
   {
    "duration": 931,
    "start_time": "2022-02-13T14:12:17.043Z"
   },
   {
    "duration": 50,
    "start_time": "2022-02-13T14:12:17.978Z"
   },
   {
    "duration": 274,
    "start_time": "2022-02-13T14:12:18.031Z"
   },
   {
    "duration": 441,
    "start_time": "2022-02-13T14:12:18.308Z"
   },
   {
    "duration": 248,
    "start_time": "2022-02-13T14:12:18.754Z"
   },
   {
    "duration": 357,
    "start_time": "2022-02-13T14:12:19.005Z"
   },
   {
    "duration": 259,
    "start_time": "2022-02-13T14:12:19.366Z"
   },
   {
    "duration": 398,
    "start_time": "2022-02-13T14:12:19.629Z"
   },
   {
    "duration": 285,
    "start_time": "2022-02-13T14:12:20.031Z"
   },
   {
    "duration": 310,
    "start_time": "2022-02-13T14:12:20.319Z"
   },
   {
    "duration": 278,
    "start_time": "2022-02-13T14:12:20.632Z"
   },
   {
    "duration": 439,
    "start_time": "2022-02-13T14:12:20.914Z"
   },
   {
    "duration": 152,
    "start_time": "2022-02-13T14:12:21.357Z"
   },
   {
    "duration": 211,
    "start_time": "2022-02-13T14:12:21.513Z"
   },
   {
    "duration": 293,
    "start_time": "2022-02-13T14:12:21.732Z"
   },
   {
    "duration": 209,
    "start_time": "2022-02-13T14:12:22.028Z"
   },
   {
    "duration": 200,
    "start_time": "2022-02-13T14:12:22.241Z"
   },
   {
    "duration": 265,
    "start_time": "2022-02-13T14:12:22.444Z"
   },
   {
    "duration": 234,
    "start_time": "2022-02-13T14:12:22.712Z"
   },
   {
    "duration": 254,
    "start_time": "2022-02-13T14:12:22.949Z"
   },
   {
    "duration": 443,
    "start_time": "2022-02-13T14:12:23.207Z"
   },
   {
    "duration": 230,
    "start_time": "2022-02-13T14:12:23.653Z"
   },
   {
    "duration": 319,
    "start_time": "2022-02-13T14:12:23.885Z"
   },
   {
    "duration": 152,
    "start_time": "2022-02-13T14:12:24.209Z"
   },
   {
    "duration": 219,
    "start_time": "2022-02-13T14:12:24.364Z"
   },
   {
    "duration": 254,
    "start_time": "2022-02-13T14:12:24.590Z"
   },
   {
    "duration": 295,
    "start_time": "2022-02-13T14:12:24.849Z"
   },
   {
    "duration": 298,
    "start_time": "2022-02-13T14:12:25.147Z"
   },
   {
    "duration": 258,
    "start_time": "2022-02-13T14:12:25.449Z"
   },
   {
    "duration": 215,
    "start_time": "2022-02-13T14:12:25.710Z"
   },
   {
    "duration": 321,
    "start_time": "2022-02-13T14:12:25.927Z"
   },
   {
    "duration": 317,
    "start_time": "2022-02-13T14:12:26.250Z"
   },
   {
    "duration": 317,
    "start_time": "2022-02-13T14:12:26.570Z"
   },
   {
    "duration": 445,
    "start_time": "2022-02-13T14:12:26.890Z"
   },
   {
    "duration": 150,
    "start_time": "2022-02-13T14:12:27.337Z"
   },
   {
    "duration": 307,
    "start_time": "2022-02-13T14:12:27.489Z"
   },
   {
    "duration": 298,
    "start_time": "2022-02-13T14:12:27.799Z"
   },
   {
    "duration": 328,
    "start_time": "2022-02-13T14:12:28.100Z"
   },
   {
    "duration": 319,
    "start_time": "2022-02-13T14:12:28.431Z"
   },
   {
    "duration": 363,
    "start_time": "2022-02-13T14:12:28.753Z"
   },
   {
    "duration": 247,
    "start_time": "2022-02-13T14:12:29.119Z"
   },
   {
    "duration": 424,
    "start_time": "2022-02-13T14:12:29.370Z"
   },
   {
    "duration": 357,
    "start_time": "2022-02-13T14:12:29.797Z"
   },
   {
    "duration": 322,
    "start_time": "2022-02-13T14:12:30.157Z"
   },
   {
    "duration": 960,
    "start_time": "2022-02-13T14:12:30.482Z"
   },
   {
    "duration": -59,
    "start_time": "2022-02-13T14:12:31.505Z"
   },
   {
    "duration": -58,
    "start_time": "2022-02-13T14:12:31.507Z"
   },
   {
    "duration": -59,
    "start_time": "2022-02-13T14:12:31.509Z"
   },
   {
    "duration": -60,
    "start_time": "2022-02-13T14:12:31.512Z"
   },
   {
    "duration": -60,
    "start_time": "2022-02-13T14:12:31.514Z"
   },
   {
    "duration": -110,
    "start_time": "2022-02-13T14:12:31.565Z"
   },
   {
    "duration": -110,
    "start_time": "2022-02-13T14:12:31.567Z"
   },
   {
    "duration": -116,
    "start_time": "2022-02-13T14:12:31.575Z"
   },
   {
    "duration": -118,
    "start_time": "2022-02-13T14:12:31.578Z"
   },
   {
    "duration": -115,
    "start_time": "2022-02-13T14:12:31.580Z"
   },
   {
    "duration": -116,
    "start_time": "2022-02-13T14:12:31.583Z"
   },
   {
    "duration": -116,
    "start_time": "2022-02-13T14:12:31.585Z"
   },
   {
    "duration": -122,
    "start_time": "2022-02-13T14:12:31.593Z"
   },
   {
    "duration": -122,
    "start_time": "2022-02-13T14:12:31.595Z"
   },
   {
    "duration": -121,
    "start_time": "2022-02-13T14:12:31.597Z"
   },
   {
    "duration": -121,
    "start_time": "2022-02-13T14:12:31.599Z"
   },
   {
    "duration": -121,
    "start_time": "2022-02-13T14:12:31.601Z"
   },
   {
    "duration": -125,
    "start_time": "2022-02-13T14:12:31.607Z"
   },
   {
    "duration": 517,
    "start_time": "2022-02-13T14:12:48.200Z"
   },
   {
    "duration": 1274,
    "start_time": "2022-02-13T14:12:51.289Z"
   },
   {
    "duration": 1267,
    "start_time": "2022-02-13T14:12:52.567Z"
   },
   {
    "duration": 820,
    "start_time": "2022-02-13T14:12:53.838Z"
   },
   {
    "duration": 1196,
    "start_time": "2022-02-13T14:12:54.660Z"
   },
   {
    "duration": 1119,
    "start_time": "2022-02-13T14:12:55.859Z"
   },
   {
    "duration": 52,
    "start_time": "2022-02-13T14:12:56.981Z"
   },
   {
    "duration": 1059,
    "start_time": "2022-02-13T14:12:57.038Z"
   },
   {
    "duration": 90,
    "start_time": "2022-02-13T14:12:58.101Z"
   },
   {
    "duration": 103,
    "start_time": "2022-02-13T14:12:58.415Z"
   },
   {
    "duration": 18,
    "start_time": "2022-02-13T14:13:01.421Z"
   },
   {
    "duration": 14,
    "start_time": "2022-02-13T14:13:02.879Z"
   },
   {
    "duration": 815,
    "start_time": "2022-02-13T14:13:04.440Z"
   },
   {
    "duration": 20,
    "start_time": "2022-02-13T14:13:09.625Z"
   },
   {
    "duration": 189,
    "start_time": "2022-02-13T14:13:10.156Z"
   },
   {
    "duration": 1048,
    "start_time": "2022-02-13T14:13:11.386Z"
   },
   {
    "duration": 976,
    "start_time": "2022-02-13T14:13:13.197Z"
   },
   {
    "duration": 13,
    "start_time": "2022-02-13T14:13:16.413Z"
   },
   {
    "duration": 154,
    "start_time": "2022-02-13T14:21:14.876Z"
   },
   {
    "duration": 1983,
    "start_time": "2022-02-13T14:26:54.151Z"
   },
   {
    "duration": 433,
    "start_time": "2022-02-13T14:26:56.137Z"
   },
   {
    "duration": 74,
    "start_time": "2022-02-13T14:26:56.573Z"
   },
   {
    "duration": 308,
    "start_time": "2022-02-13T14:26:56.651Z"
   },
   {
    "duration": 213,
    "start_time": "2022-02-13T14:26:56.962Z"
   },
   {
    "duration": 175,
    "start_time": "2022-02-13T14:26:57.178Z"
   },
   {
    "duration": 143,
    "start_time": "2022-02-13T14:26:57.357Z"
   },
   {
    "duration": 198,
    "start_time": "2022-02-13T14:26:57.503Z"
   },
   {
    "duration": 202,
    "start_time": "2022-02-13T14:26:57.706Z"
   },
   {
    "duration": 217,
    "start_time": "2022-02-13T14:26:57.912Z"
   },
   {
    "duration": 212,
    "start_time": "2022-02-13T14:26:58.131Z"
   },
   {
    "duration": 251,
    "start_time": "2022-02-13T14:26:58.346Z"
   },
   {
    "duration": 326,
    "start_time": "2022-02-13T14:26:58.601Z"
   },
   {
    "duration": 115,
    "start_time": "2022-02-13T14:26:58.930Z"
   },
   {
    "duration": 183,
    "start_time": "2022-02-13T14:26:59.049Z"
   },
   {
    "duration": 259,
    "start_time": "2022-02-13T14:26:59.235Z"
   },
   {
    "duration": 157,
    "start_time": "2022-02-13T14:26:59.497Z"
   },
   {
    "duration": 249,
    "start_time": "2022-02-13T14:26:59.657Z"
   },
   {
    "duration": 319,
    "start_time": "2022-02-13T14:26:59.908Z"
   },
   {
    "duration": 354,
    "start_time": "2022-02-13T14:27:00.231Z"
   },
   {
    "duration": 250,
    "start_time": "2022-02-13T14:27:00.589Z"
   },
   {
    "duration": 173,
    "start_time": "2022-02-13T14:27:00.842Z"
   },
   {
    "duration": 298,
    "start_time": "2022-02-13T14:27:01.018Z"
   },
   {
    "duration": 286,
    "start_time": "2022-02-13T14:27:01.319Z"
   },
   {
    "duration": 222,
    "start_time": "2022-02-13T14:27:01.609Z"
   },
   {
    "duration": 183,
    "start_time": "2022-02-13T14:27:01.834Z"
   },
   {
    "duration": 317,
    "start_time": "2022-02-13T14:27:02.023Z"
   },
   {
    "duration": 170,
    "start_time": "2022-02-13T14:27:02.343Z"
   },
   {
    "duration": 159,
    "start_time": "2022-02-13T14:27:02.516Z"
   },
   {
    "duration": 185,
    "start_time": "2022-02-13T14:27:02.678Z"
   },
   {
    "duration": 154,
    "start_time": "2022-02-13T14:27:02.866Z"
   },
   {
    "duration": 161,
    "start_time": "2022-02-13T14:27:03.023Z"
   },
   {
    "duration": 256,
    "start_time": "2022-02-13T14:27:03.187Z"
   },
   {
    "duration": 173,
    "start_time": "2022-02-13T14:27:03.446Z"
   },
   {
    "duration": 416,
    "start_time": "2022-02-13T14:27:03.622Z"
   },
   {
    "duration": 30,
    "start_time": "2022-02-13T14:27:04.041Z"
   },
   {
    "duration": 303,
    "start_time": "2022-02-13T14:27:04.073Z"
   },
   {
    "duration": 247,
    "start_time": "2022-02-13T14:27:04.379Z"
   },
   {
    "duration": 177,
    "start_time": "2022-02-13T14:27:04.628Z"
   },
   {
    "duration": 252,
    "start_time": "2022-02-13T14:27:04.814Z"
   },
   {
    "duration": 259,
    "start_time": "2022-02-13T14:27:05.069Z"
   },
   {
    "duration": 245,
    "start_time": "2022-02-13T14:27:05.331Z"
   },
   {
    "duration": 178,
    "start_time": "2022-02-13T14:27:05.580Z"
   },
   {
    "duration": 166,
    "start_time": "2022-02-13T14:27:05.760Z"
   },
   {
    "duration": 204,
    "start_time": "2022-02-13T14:27:05.929Z"
   },
   {
    "duration": 894,
    "start_time": "2022-02-13T14:27:06.136Z"
   },
   {
    "duration": -115,
    "start_time": "2022-02-13T14:27:07.148Z"
   },
   {
    "duration": -118,
    "start_time": "2022-02-13T14:27:07.153Z"
   },
   {
    "duration": -126,
    "start_time": "2022-02-13T14:27:07.162Z"
   },
   {
    "duration": -128,
    "start_time": "2022-02-13T14:27:07.165Z"
   },
   {
    "duration": -128,
    "start_time": "2022-02-13T14:27:07.168Z"
   },
   {
    "duration": -166,
    "start_time": "2022-02-13T14:27:07.209Z"
   },
   {
    "duration": -167,
    "start_time": "2022-02-13T14:27:07.212Z"
   },
   {
    "duration": -167,
    "start_time": "2022-02-13T14:27:07.214Z"
   },
   {
    "duration": -167,
    "start_time": "2022-02-13T14:27:07.216Z"
   },
   {
    "duration": -167,
    "start_time": "2022-02-13T14:27:07.218Z"
   },
   {
    "duration": -167,
    "start_time": "2022-02-13T14:27:07.220Z"
   },
   {
    "duration": -171,
    "start_time": "2022-02-13T14:27:07.226Z"
   },
   {
    "duration": -170,
    "start_time": "2022-02-13T14:27:07.228Z"
   },
   {
    "duration": -170,
    "start_time": "2022-02-13T14:27:07.230Z"
   },
   {
    "duration": -170,
    "start_time": "2022-02-13T14:27:07.232Z"
   },
   {
    "duration": -171,
    "start_time": "2022-02-13T14:27:07.234Z"
   },
   {
    "duration": -171,
    "start_time": "2022-02-13T14:27:07.236Z"
   },
   {
    "duration": -171,
    "start_time": "2022-02-13T14:27:07.238Z"
   },
   {
    "duration": 1664,
    "start_time": "2022-02-13T14:49:11.253Z"
   },
   {
    "duration": 410,
    "start_time": "2022-02-13T14:49:12.920Z"
   },
   {
    "duration": 55,
    "start_time": "2022-02-13T14:49:13.333Z"
   },
   {
    "duration": 236,
    "start_time": "2022-02-13T14:49:13.391Z"
   },
   {
    "duration": 374,
    "start_time": "2022-02-13T14:49:13.630Z"
   },
   {
    "duration": 316,
    "start_time": "2022-02-13T14:49:14.008Z"
   },
   {
    "duration": 226,
    "start_time": "2022-02-13T14:49:14.327Z"
   },
   {
    "duration": 211,
    "start_time": "2022-02-13T14:49:14.556Z"
   },
   {
    "duration": 202,
    "start_time": "2022-02-13T14:49:14.772Z"
   },
   {
    "duration": 207,
    "start_time": "2022-02-13T14:49:14.979Z"
   },
   {
    "duration": 137,
    "start_time": "2022-02-13T14:49:15.190Z"
   },
   {
    "duration": 194,
    "start_time": "2022-02-13T14:49:15.329Z"
   },
   {
    "duration": 273,
    "start_time": "2022-02-13T14:49:15.526Z"
   },
   {
    "duration": 149,
    "start_time": "2022-02-13T14:49:15.803Z"
   },
   {
    "duration": 153,
    "start_time": "2022-02-13T14:49:15.954Z"
   },
   {
    "duration": 195,
    "start_time": "2022-02-13T14:49:16.109Z"
   },
   {
    "duration": 220,
    "start_time": "2022-02-13T14:49:16.307Z"
   },
   {
    "duration": 231,
    "start_time": "2022-02-13T14:49:16.530Z"
   },
   {
    "duration": 218,
    "start_time": "2022-02-13T14:49:16.765Z"
   },
   {
    "duration": 188,
    "start_time": "2022-02-13T14:49:16.986Z"
   },
   {
    "duration": 182,
    "start_time": "2022-02-13T14:49:17.178Z"
   },
   {
    "duration": 147,
    "start_time": "2022-02-13T14:49:17.363Z"
   },
   {
    "duration": 177,
    "start_time": "2022-02-13T14:49:17.513Z"
   },
   {
    "duration": 170,
    "start_time": "2022-02-13T14:49:17.693Z"
   },
   {
    "duration": 167,
    "start_time": "2022-02-13T14:49:17.867Z"
   },
   {
    "duration": 206,
    "start_time": "2022-02-13T14:49:18.037Z"
   },
   {
    "duration": 196,
    "start_time": "2022-02-13T14:49:18.250Z"
   },
   {
    "duration": 168,
    "start_time": "2022-02-13T14:49:18.449Z"
   },
   {
    "duration": 152,
    "start_time": "2022-02-13T14:49:18.619Z"
   },
   {
    "duration": 161,
    "start_time": "2022-02-13T14:49:18.774Z"
   },
   {
    "duration": 122,
    "start_time": "2022-02-13T14:49:18.938Z"
   },
   {
    "duration": 124,
    "start_time": "2022-02-13T14:49:19.063Z"
   },
   {
    "duration": 205,
    "start_time": "2022-02-13T14:49:19.190Z"
   },
   {
    "duration": 113,
    "start_time": "2022-02-13T14:49:19.398Z"
   },
   {
    "duration": 301,
    "start_time": "2022-02-13T14:49:19.513Z"
   },
   {
    "duration": 38,
    "start_time": "2022-02-13T14:49:19.817Z"
   },
   {
    "duration": 132,
    "start_time": "2022-02-13T14:49:19.858Z"
   },
   {
    "duration": 159,
    "start_time": "2022-02-13T14:49:19.993Z"
   },
   {
    "duration": 137,
    "start_time": "2022-02-13T14:49:20.154Z"
   },
   {
    "duration": 139,
    "start_time": "2022-02-13T14:49:20.294Z"
   },
   {
    "duration": 133,
    "start_time": "2022-02-13T14:49:20.436Z"
   },
   {
    "duration": 138,
    "start_time": "2022-02-13T14:49:20.572Z"
   },
   {
    "duration": 117,
    "start_time": "2022-02-13T14:49:20.713Z"
   },
   {
    "duration": 154,
    "start_time": "2022-02-13T14:49:20.833Z"
   },
   {
    "duration": 132,
    "start_time": "2022-02-13T14:49:20.990Z"
   },
   {
    "duration": 825,
    "start_time": "2022-02-13T14:49:21.125Z"
   },
   {
    "duration": -121,
    "start_time": "2022-02-13T14:49:22.074Z"
   },
   {
    "duration": -121,
    "start_time": "2022-02-13T14:49:22.077Z"
   },
   {
    "duration": -122,
    "start_time": "2022-02-13T14:49:22.079Z"
   },
   {
    "duration": -133,
    "start_time": "2022-02-13T14:49:22.093Z"
   },
   {
    "duration": -135,
    "start_time": "2022-02-13T14:49:22.096Z"
   },
   {
    "duration": -135,
    "start_time": "2022-02-13T14:49:22.098Z"
   },
   {
    "duration": -140,
    "start_time": "2022-02-13T14:49:22.105Z"
   },
   {
    "duration": -139,
    "start_time": "2022-02-13T14:49:22.107Z"
   },
   {
    "duration": -139,
    "start_time": "2022-02-13T14:49:22.109Z"
   },
   {
    "duration": -139,
    "start_time": "2022-02-13T14:49:22.110Z"
   },
   {
    "duration": -419,
    "start_time": "2022-02-13T14:49:22.392Z"
   },
   {
    "duration": -419,
    "start_time": "2022-02-13T14:49:22.394Z"
   },
   {
    "duration": -419,
    "start_time": "2022-02-13T14:49:22.396Z"
   },
   {
    "duration": -450,
    "start_time": "2022-02-13T14:49:22.429Z"
   },
   {
    "duration": -450,
    "start_time": "2022-02-13T14:49:22.431Z"
   },
   {
    "duration": -455,
    "start_time": "2022-02-13T14:49:22.438Z"
   },
   {
    "duration": -456,
    "start_time": "2022-02-13T14:49:22.440Z"
   },
   {
    "duration": -456,
    "start_time": "2022-02-13T14:49:22.442Z"
   },
   {
    "duration": 49,
    "start_time": "2022-02-13T14:54:16.560Z"
   },
   {
    "duration": 1695,
    "start_time": "2022-02-13T14:54:51.310Z"
   },
   {
    "duration": 1806,
    "start_time": "2022-02-13T14:55:25.975Z"
   },
   {
    "duration": 384,
    "start_time": "2022-02-13T14:55:29.825Z"
   },
   {
    "duration": 54,
    "start_time": "2022-02-13T14:55:32.117Z"
   },
   {
    "duration": 56,
    "start_time": "2022-02-13T14:55:33.317Z"
   },
   {
    "duration": 45,
    "start_time": "2022-02-13T14:55:34.937Z"
   },
   {
    "duration": 36,
    "start_time": "2022-02-13T14:55:37.337Z"
   },
   {
    "duration": 39,
    "start_time": "2022-02-13T14:55:38.817Z"
   },
   {
    "duration": 26,
    "start_time": "2022-02-13T14:55:39.388Z"
   },
   {
    "duration": 17,
    "start_time": "2022-02-13T14:55:41.506Z"
   },
   {
    "duration": 27,
    "start_time": "2022-02-13T14:55:43.153Z"
   },
   {
    "duration": 16,
    "start_time": "2022-02-13T14:55:46.759Z"
   },
   {
    "duration": 25,
    "start_time": "2022-02-13T14:55:49.918Z"
   },
   {
    "duration": 63,
    "start_time": "2022-02-13T14:56:00.251Z"
   },
   {
    "duration": 14,
    "start_time": "2022-02-13T14:56:03.087Z"
   },
   {
    "duration": 26,
    "start_time": "2022-02-13T14:56:05.595Z"
   },
   {
    "duration": 44,
    "start_time": "2022-02-13T14:56:06.674Z"
   },
   {
    "duration": 7,
    "start_time": "2022-02-13T14:56:07.565Z"
   },
   {
    "duration": 18,
    "start_time": "2022-02-13T14:58:42.200Z"
   },
   {
    "duration": 44,
    "start_time": "2022-02-13T14:58:44.187Z"
   },
   {
    "duration": 8,
    "start_time": "2022-02-13T14:58:47.703Z"
   },
   {
    "duration": 25,
    "start_time": "2022-02-13T14:58:52.338Z"
   },
   {
    "duration": 7,
    "start_time": "2022-02-13T14:59:00.393Z"
   },
   {
    "duration": 15,
    "start_time": "2022-02-13T14:59:15.509Z"
   },
   {
    "duration": 21,
    "start_time": "2022-02-13T14:59:25.301Z"
   },
   {
    "duration": 3,
    "start_time": "2022-02-13T15:00:07.442Z"
   },
   {
    "duration": 14,
    "start_time": "2022-02-13T15:00:13.889Z"
   },
   {
    "duration": 21,
    "start_time": "2022-02-13T15:10:30.976Z"
   },
   {
    "duration": 21,
    "start_time": "2022-02-13T15:10:33.835Z"
   },
   {
    "duration": 29,
    "start_time": "2022-02-13T15:10:36.967Z"
   },
   {
    "duration": 6,
    "start_time": "2022-02-13T15:10:40.294Z"
   },
   {
    "duration": 30,
    "start_time": "2022-02-13T15:10:41.547Z"
   },
   {
    "duration": 4,
    "start_time": "2022-02-13T15:10:45.265Z"
   },
   {
    "duration": 63,
    "start_time": "2022-02-13T15:10:45.957Z"
   },
   {
    "duration": 13,
    "start_time": "2022-02-13T15:10:46.713Z"
   },
   {
    "duration": 109,
    "start_time": "2022-02-13T15:11:01.203Z"
   },
   {
    "duration": 5,
    "start_time": "2022-02-13T15:12:03.083Z"
   },
   {
    "duration": 111,
    "start_time": "2022-02-13T15:12:24.814Z"
   },
   {
    "duration": 12,
    "start_time": "2022-02-13T15:14:37.689Z"
   },
   {
    "duration": 4,
    "start_time": "2022-02-13T15:14:38.968Z"
   },
   {
    "duration": 18,
    "start_time": "2022-02-13T15:14:43.826Z"
   },
   {
    "duration": 10,
    "start_time": "2022-02-13T15:16:36.758Z"
   },
   {
    "duration": 6,
    "start_time": "2022-02-13T15:16:48.073Z"
   },
   {
    "duration": 6,
    "start_time": "2022-02-13T15:17:34.405Z"
   },
   {
    "duration": 11,
    "start_time": "2022-02-13T15:17:48.552Z"
   },
   {
    "duration": 14,
    "start_time": "2022-02-13T15:18:24.602Z"
   },
   {
    "duration": 9,
    "start_time": "2022-02-13T15:18:31.774Z"
   },
   {
    "duration": 530,
    "start_time": "2022-02-13T15:18:43.790Z"
   },
   {
    "duration": 127,
    "start_time": "2022-02-13T15:19:09.493Z"
   },
   {
    "duration": 403,
    "start_time": "2022-02-13T15:19:13.811Z"
   },
   {
    "duration": 15,
    "start_time": "2022-02-13T15:19:20.612Z"
   },
   {
    "duration": 14,
    "start_time": "2022-02-13T15:19:51.121Z"
   },
   {
    "duration": 69,
    "start_time": "2022-02-13T15:21:40.646Z"
   },
   {
    "duration": 13,
    "start_time": "2022-02-13T15:25:14.158Z"
   },
   {
    "duration": 11,
    "start_time": "2022-02-13T15:25:29.425Z"
   },
   {
    "duration": 10,
    "start_time": "2022-02-13T15:29:02.820Z"
   },
   {
    "duration": 69,
    "start_time": "2022-02-13T15:29:32.688Z"
   },
   {
    "duration": 33,
    "start_time": "2022-02-13T15:30:02.482Z"
   },
   {
    "duration": 22,
    "start_time": "2022-02-13T15:34:27.895Z"
   },
   {
    "duration": 31,
    "start_time": "2022-02-13T15:34:35.457Z"
   },
   {
    "duration": 13,
    "start_time": "2022-02-13T15:38:50.367Z"
   },
   {
    "duration": 369,
    "start_time": "2022-02-13T15:38:53.597Z"
   },
   {
    "duration": 428,
    "start_time": "2022-02-13T15:40:52.129Z"
   },
   {
    "duration": 107,
    "start_time": "2022-02-13T15:41:43.251Z"
   },
   {
    "duration": 398,
    "start_time": "2022-02-13T15:41:51.458Z"
   },
   {
    "duration": 1047,
    "start_time": "2022-02-13T15:44:59.524Z"
   },
   {
    "duration": 1181,
    "start_time": "2022-02-13T15:45:14.258Z"
   },
   {
    "duration": 715,
    "start_time": "2022-02-13T15:45:36.215Z"
   },
   {
    "duration": 1078,
    "start_time": "2022-02-13T15:45:36.933Z"
   },
   {
    "duration": 999,
    "start_time": "2022-02-13T15:45:38.014Z"
   },
   {
    "duration": 41,
    "start_time": "2022-02-13T15:45:54.492Z"
   },
   {
    "duration": 137,
    "start_time": "2022-02-13T15:54:05.181Z"
   },
   {
    "duration": 667,
    "start_time": "2022-02-13T16:04:22.097Z"
   },
   {
    "duration": 63,
    "start_time": "2022-02-13T16:08:25.437Z"
   },
   {
    "duration": 112,
    "start_time": "2022-02-13T16:09:03.385Z"
   },
   {
    "duration": 115,
    "start_time": "2022-02-13T16:10:11.353Z"
   },
   {
    "duration": 15,
    "start_time": "2022-02-13T16:24:44.687Z"
   },
   {
    "duration": 14,
    "start_time": "2022-02-13T16:24:56.056Z"
   },
   {
    "duration": 782,
    "start_time": "2022-02-13T16:25:07.856Z"
   },
   {
    "duration": 11,
    "start_time": "2022-02-13T16:25:17.860Z"
   },
   {
    "duration": 290,
    "start_time": "2022-02-13T16:25:19.211Z"
   },
   {
    "duration": 859,
    "start_time": "2022-02-13T16:25:21.335Z"
   },
   {
    "duration": 1013,
    "start_time": "2022-02-13T16:25:23.215Z"
   },
   {
    "duration": 13,
    "start_time": "2022-02-13T16:25:29.336Z"
   },
   {
    "duration": 146,
    "start_time": "2022-02-13T16:30:36.018Z"
   },
   {
    "duration": 125,
    "start_time": "2022-02-13T16:32:37.190Z"
   },
   {
    "duration": 6,
    "start_time": "2022-02-13T18:08:20.409Z"
   },
   {
    "duration": 53,
    "start_time": "2022-02-13T18:08:23.100Z"
   },
   {
    "duration": 304,
    "start_time": "2022-02-14T05:37:10.452Z"
   },
   {
    "duration": 1446,
    "start_time": "2022-02-14T05:37:21.780Z"
   },
   {
    "duration": 637,
    "start_time": "2022-02-14T05:37:23.300Z"
   },
   {
    "duration": 50,
    "start_time": "2022-02-14T05:37:24.779Z"
   },
   {
    "duration": 52,
    "start_time": "2022-02-14T05:37:27.140Z"
   },
   {
    "duration": 40,
    "start_time": "2022-02-14T05:37:32.293Z"
   },
   {
    "duration": 35,
    "start_time": "2022-02-14T05:37:32.435Z"
   },
   {
    "duration": 21,
    "start_time": "2022-02-14T05:37:34.419Z"
   },
   {
    "duration": 30,
    "start_time": "2022-02-14T05:37:35.954Z"
   },
   {
    "duration": 16,
    "start_time": "2022-02-14T05:37:38.157Z"
   },
   {
    "duration": 24,
    "start_time": "2022-02-14T05:37:41.453Z"
   },
   {
    "duration": 15,
    "start_time": "2022-02-14T05:37:46.418Z"
   },
   {
    "duration": 17,
    "start_time": "2022-02-14T05:37:49.624Z"
   },
   {
    "duration": 15,
    "start_time": "2022-02-14T05:39:55.921Z"
   },
   {
    "duration": 60,
    "start_time": "2022-02-14T05:42:49.619Z"
   },
   {
    "duration": 9,
    "start_time": "2022-02-14T05:42:54.642Z"
   },
   {
    "duration": 10,
    "start_time": "2022-02-14T05:45:22.671Z"
   },
   {
    "duration": 36,
    "start_time": "2022-02-14T05:45:23.670Z"
   },
   {
    "duration": 12,
    "start_time": "2022-02-14T05:45:53.463Z"
   },
   {
    "duration": 39,
    "start_time": "2022-02-14T05:45:54.878Z"
   },
   {
    "duration": 8,
    "start_time": "2022-02-14T05:45:57.014Z"
   },
   {
    "duration": 21,
    "start_time": "2022-02-14T05:46:12.166Z"
   },
   {
    "duration": 5,
    "start_time": "2022-02-14T05:46:19.647Z"
   },
   {
    "duration": 13,
    "start_time": "2022-02-14T05:46:20.373Z"
   },
   {
    "duration": 10,
    "start_time": "2022-02-14T05:46:21.166Z"
   },
   {
    "duration": 3,
    "start_time": "2022-02-14T05:46:23.094Z"
   },
   {
    "duration": 13,
    "start_time": "2022-02-14T05:46:35.789Z"
   },
   {
    "duration": 24,
    "start_time": "2022-02-14T05:46:37.806Z"
   },
   {
    "duration": 30,
    "start_time": "2022-02-14T05:46:46.732Z"
   },
   {
    "duration": 5,
    "start_time": "2022-02-14T05:46:50.820Z"
   },
   {
    "duration": 33,
    "start_time": "2022-02-14T05:46:51.852Z"
   },
   {
    "duration": 3,
    "start_time": "2022-02-14T05:46:54.741Z"
   },
   {
    "duration": 11,
    "start_time": "2022-02-14T05:46:55.388Z"
   },
   {
    "duration": 13,
    "start_time": "2022-02-14T05:46:55.575Z"
   },
   {
    "duration": 3,
    "start_time": "2022-02-14T05:46:57.869Z"
   },
   {
    "duration": 105,
    "start_time": "2022-02-14T05:46:58.779Z"
   },
   {
    "duration": 4,
    "start_time": "2022-02-14T05:47:18.460Z"
   },
   {
    "duration": 10,
    "start_time": "2022-02-14T05:47:19.780Z"
   },
   {
    "duration": 3,
    "start_time": "2022-02-14T05:47:21.948Z"
   },
   {
    "duration": 3,
    "start_time": "2022-02-14T05:47:23.708Z"
   },
   {
    "duration": 20,
    "start_time": "2022-02-14T05:47:25.324Z"
   },
   {
    "duration": 9,
    "start_time": "2022-02-14T05:48:14.427Z"
   },
   {
    "duration": 7,
    "start_time": "2022-02-14T05:48:26.309Z"
   },
   {
    "duration": 10,
    "start_time": "2022-02-14T05:48:26.995Z"
   },
   {
    "duration": 5,
    "start_time": "2022-02-14T05:55:14.418Z"
   },
   {
    "duration": 5,
    "start_time": "2022-02-14T06:00:07.390Z"
   },
   {
    "duration": 335,
    "start_time": "2022-02-14T06:00:08.060Z"
   },
   {
    "duration": 43,
    "start_time": "2022-02-14T06:00:08.537Z"
   },
   {
    "duration": 48,
    "start_time": "2022-02-14T06:00:09.034Z"
   },
   {
    "duration": 44,
    "start_time": "2022-02-14T06:00:09.537Z"
   },
   {
    "duration": 34,
    "start_time": "2022-02-14T06:00:10.024Z"
   },
   {
    "duration": 21,
    "start_time": "2022-02-14T06:00:10.522Z"
   },
   {
    "duration": 28,
    "start_time": "2022-02-14T06:00:10.858Z"
   },
   {
    "duration": 16,
    "start_time": "2022-02-14T06:00:11.368Z"
   },
   {
    "duration": 24,
    "start_time": "2022-02-14T06:00:12.113Z"
   },
   {
    "duration": 17,
    "start_time": "2022-02-14T06:00:12.176Z"
   },
   {
    "duration": 24,
    "start_time": "2022-02-14T06:00:12.275Z"
   },
   {
    "duration": 57,
    "start_time": "2022-02-14T06:00:12.569Z"
   },
   {
    "duration": 10,
    "start_time": "2022-02-14T06:00:12.706Z"
   },
   {
    "duration": 10,
    "start_time": "2022-02-14T06:00:12.840Z"
   },
   {
    "duration": 36,
    "start_time": "2022-02-14T06:00:12.906Z"
   },
   {
    "duration": 7,
    "start_time": "2022-02-14T06:00:13.018Z"
   },
   {
    "duration": 11,
    "start_time": "2022-02-14T06:00:13.153Z"
   },
   {
    "duration": 39,
    "start_time": "2022-02-14T06:00:13.220Z"
   },
   {
    "duration": 8,
    "start_time": "2022-02-14T06:00:13.315Z"
   },
   {
    "duration": 18,
    "start_time": "2022-02-14T06:00:13.466Z"
   },
   {
    "duration": 6,
    "start_time": "2022-02-14T06:00:13.600Z"
   },
   {
    "duration": 13,
    "start_time": "2022-02-14T06:00:13.664Z"
   },
   {
    "duration": 10,
    "start_time": "2022-02-14T06:00:13.730Z"
   },
   {
    "duration": 3,
    "start_time": "2022-02-14T06:00:13.837Z"
   },
   {
    "duration": 12,
    "start_time": "2022-02-14T06:00:13.929Z"
   },
   {
    "duration": 21,
    "start_time": "2022-02-14T06:00:13.996Z"
   },
   {
    "duration": 28,
    "start_time": "2022-02-14T06:00:20.353Z"
   },
   {
    "duration": 5,
    "start_time": "2022-02-14T06:00:21.648Z"
   },
   {
    "duration": 39,
    "start_time": "2022-02-14T06:00:23.161Z"
   },
   {
    "duration": 3,
    "start_time": "2022-02-14T06:00:27.817Z"
   },
   {
    "duration": 8,
    "start_time": "2022-02-14T06:00:28.424Z"
   },
   {
    "duration": 12,
    "start_time": "2022-02-14T06:00:28.945Z"
   },
   {
    "duration": 3,
    "start_time": "2022-02-14T06:00:32.105Z"
   },
   {
    "duration": 97,
    "start_time": "2022-02-14T06:00:35.394Z"
   },
   {
    "duration": 4,
    "start_time": "2022-02-14T06:00:38.607Z"
   },
   {
    "duration": 9,
    "start_time": "2022-02-14T06:00:40.192Z"
   },
   {
    "duration": 4,
    "start_time": "2022-02-14T06:00:42.400Z"
   },
   {
    "duration": 3,
    "start_time": "2022-02-14T06:00:44.177Z"
   },
   {
    "duration": 3,
    "start_time": "2022-02-14T06:00:44.593Z"
   },
   {
    "duration": 330,
    "start_time": "2022-02-14T06:00:47.489Z"
   },
   {
    "duration": 250,
    "start_time": "2022-02-14T06:02:07.764Z"
   },
   {
    "duration": 241,
    "start_time": "2022-02-14T06:02:37.791Z"
   },
   {
    "duration": 78,
    "start_time": "2022-02-14T06:03:05.046Z"
   },
   {
    "duration": 254,
    "start_time": "2022-02-14T06:03:46.477Z"
   },
   {
    "duration": 8,
    "start_time": "2022-02-14T06:03:52.726Z"
   },
   {
    "duration": 99,
    "start_time": "2022-02-14T06:04:16.417Z"
   },
   {
    "duration": 241,
    "start_time": "2022-02-14T06:04:27.676Z"
   },
   {
    "duration": 231,
    "start_time": "2022-02-14T06:08:32.015Z"
   },
   {
    "duration": 238,
    "start_time": "2022-02-14T06:08:46.437Z"
   },
   {
    "duration": 6,
    "start_time": "2022-02-14T06:08:49.885Z"
   },
   {
    "duration": 228,
    "start_time": "2022-02-14T06:09:06.918Z"
   },
   {
    "duration": 246,
    "start_time": "2022-02-14T06:11:49.875Z"
   },
   {
    "duration": 63,
    "start_time": "2022-02-14T06:12:59.444Z"
   },
   {
    "duration": 12,
    "start_time": "2022-02-14T06:13:00.969Z"
   },
   {
    "duration": 74,
    "start_time": "2022-02-14T06:13:34.033Z"
   },
   {
    "duration": 11,
    "start_time": "2022-02-14T06:13:34.251Z"
   },
   {
    "duration": 5,
    "start_time": "2022-02-14T06:13:40.392Z"
   },
   {
    "duration": 334,
    "start_time": "2022-02-14T06:13:41.040Z"
   },
   {
    "duration": 44,
    "start_time": "2022-02-14T06:13:41.527Z"
   },
   {
    "duration": 50,
    "start_time": "2022-02-14T06:13:42.000Z"
   },
   {
    "duration": 39,
    "start_time": "2022-02-14T06:13:42.584Z"
   },
   {
    "duration": 33,
    "start_time": "2022-02-14T06:13:42.687Z"
   },
   {
    "duration": 24,
    "start_time": "2022-02-14T06:13:42.782Z"
   },
   {
    "duration": 29,
    "start_time": "2022-02-14T06:13:42.846Z"
   },
   {
    "duration": 16,
    "start_time": "2022-02-14T06:13:42.942Z"
   },
   {
    "duration": 24,
    "start_time": "2022-02-14T06:13:43.077Z"
   },
   {
    "duration": 15,
    "start_time": "2022-02-14T06:13:43.159Z"
   },
   {
    "duration": 18,
    "start_time": "2022-02-14T06:13:43.255Z"
   },
   {
    "duration": 59,
    "start_time": "2022-02-14T06:13:43.533Z"
   },
   {
    "duration": 12,
    "start_time": "2022-02-14T06:13:43.672Z"
   },
   {
    "duration": 12,
    "start_time": "2022-02-14T06:13:43.802Z"
   },
   {
    "duration": 38,
    "start_time": "2022-02-14T06:13:43.869Z"
   },
   {
    "duration": 7,
    "start_time": "2022-02-14T06:13:43.960Z"
   },
   {
    "duration": 12,
    "start_time": "2022-02-14T06:13:44.096Z"
   },
   {
    "duration": 40,
    "start_time": "2022-02-14T06:13:44.162Z"
   },
   {
    "duration": 7,
    "start_time": "2022-02-14T06:13:44.270Z"
   },
   {
    "duration": 19,
    "start_time": "2022-02-14T06:13:44.429Z"
   },
   {
    "duration": 5,
    "start_time": "2022-02-14T06:13:44.561Z"
   },
   {
    "duration": 14,
    "start_time": "2022-02-14T06:13:44.628Z"
   },
   {
    "duration": 10,
    "start_time": "2022-02-14T06:13:44.697Z"
   },
   {
    "duration": 3,
    "start_time": "2022-02-14T06:13:44.789Z"
   },
   {
    "duration": 12,
    "start_time": "2022-02-14T06:13:44.882Z"
   },
   {
    "duration": 22,
    "start_time": "2022-02-14T06:13:44.964Z"
   },
   {
    "duration": 29,
    "start_time": "2022-02-14T06:13:45.112Z"
   },
   {
    "duration": 5,
    "start_time": "2022-02-14T06:13:45.215Z"
   },
   {
    "duration": 32,
    "start_time": "2022-02-14T06:13:45.320Z"
   },
   {
    "duration": 4,
    "start_time": "2022-02-14T06:13:45.442Z"
   },
   {
    "duration": 129,
    "start_time": "2022-02-14T06:13:45.519Z"
   },
   {
    "duration": -2013,
    "start_time": "2022-02-14T06:13:47.663Z"
   },
   {
    "duration": 3,
    "start_time": "2022-02-14T06:13:45.753Z"
   },
   {
    "duration": 432,
    "start_time": "2022-02-14T06:13:45.819Z"
   },
   {
    "duration": -1420,
    "start_time": "2022-02-14T06:13:47.674Z"
   },
   {
    "duration": -1421,
    "start_time": "2022-02-14T06:13:47.677Z"
   },
   {
    "duration": -1423,
    "start_time": "2022-02-14T06:13:47.680Z"
   },
   {
    "duration": -1424,
    "start_time": "2022-02-14T06:13:47.683Z"
   },
   {
    "duration": -1426,
    "start_time": "2022-02-14T06:13:47.686Z"
   },
   {
    "duration": 5803,
    "start_time": "2022-02-14T06:13:46.317Z"
   },
   {
    "duration": -756,
    "start_time": "2022-02-14T06:13:52.880Z"
   },
   {
    "duration": -762,
    "start_time": "2022-02-14T06:13:52.888Z"
   },
   {
    "duration": -763,
    "start_time": "2022-02-14T06:13:52.891Z"
   },
   {
    "duration": -764,
    "start_time": "2022-02-14T06:13:52.894Z"
   },
   {
    "duration": -765,
    "start_time": "2022-02-14T06:13:52.897Z"
   },
   {
    "duration": -766,
    "start_time": "2022-02-14T06:13:52.900Z"
   },
   {
    "duration": 80,
    "start_time": "2022-02-14T06:14:12.086Z"
   },
   {
    "duration": 73,
    "start_time": "2022-02-14T06:15:51.467Z"
   },
   {
    "duration": 19,
    "start_time": "2022-02-14T06:16:20.115Z"
   },
   {
    "duration": 13,
    "start_time": "2022-02-14T06:16:22.220Z"
   },
   {
    "duration": 7,
    "start_time": "2022-02-14T06:17:29.290Z"
   },
   {
    "duration": 21,
    "start_time": "2022-02-14T06:17:44.337Z"
   },
   {
    "duration": 8,
    "start_time": "2022-02-14T06:18:03.993Z"
   },
   {
    "duration": 8,
    "start_time": "2022-02-14T06:18:09.105Z"
   },
   {
    "duration": 9,
    "start_time": "2022-02-14T06:18:35.951Z"
   },
   {
    "duration": 29,
    "start_time": "2022-02-14T06:18:40.152Z"
   },
   {
    "duration": 20,
    "start_time": "2022-02-14T06:18:51.730Z"
   },
   {
    "duration": 8,
    "start_time": "2022-02-14T06:19:02.949Z"
   },
   {
    "duration": 8,
    "start_time": "2022-02-14T06:19:19.200Z"
   },
   {
    "duration": 22,
    "start_time": "2022-02-14T06:22:24.763Z"
   },
   {
    "duration": 248,
    "start_time": "2022-02-14T06:22:56.813Z"
   },
   {
    "duration": 7,
    "start_time": "2022-02-14T06:23:30.276Z"
   },
   {
    "duration": 7,
    "start_time": "2022-02-14T06:23:36.416Z"
   },
   {
    "duration": 21,
    "start_time": "2022-02-14T06:23:55.409Z"
   },
   {
    "duration": 24,
    "start_time": "2022-02-14T06:24:05.177Z"
   },
   {
    "duration": 7,
    "start_time": "2022-02-14T06:24:19.897Z"
   },
   {
    "duration": 8,
    "start_time": "2022-02-14T06:24:38.943Z"
   },
   {
    "duration": 574,
    "start_time": "2022-02-14T06:24:51.215Z"
   },
   {
    "duration": 6,
    "start_time": "2022-02-14T06:31:46.053Z"
   },
   {
    "duration": 11,
    "start_time": "2022-02-14T06:31:47.781Z"
   },
   {
    "duration": 3,
    "start_time": "2022-02-14T06:32:00.725Z"
   },
   {
    "duration": 104,
    "start_time": "2022-02-14T06:32:03.460Z"
   },
   {
    "duration": 674,
    "start_time": "2022-02-14T06:32:56.213Z"
   },
   {
    "duration": 933,
    "start_time": "2022-02-14T06:34:44.593Z"
   },
   {
    "duration": 168,
    "start_time": "2022-02-14T06:35:28.169Z"
   },
   {
    "duration": 5,
    "start_time": "2022-02-14T06:35:44.273Z"
   },
   {
    "duration": 12,
    "start_time": "2022-02-14T06:35:48.423Z"
   },
   {
    "duration": 5,
    "start_time": "2022-02-14T06:35:51.694Z"
   },
   {
    "duration": 219,
    "start_time": "2022-02-14T06:36:51.806Z"
   },
   {
    "duration": 256,
    "start_time": "2022-02-14T06:37:13.085Z"
   },
   {
    "duration": 227,
    "start_time": "2022-02-14T06:37:52.632Z"
   },
   {
    "duration": 224,
    "start_time": "2022-02-14T06:38:03.149Z"
   },
   {
    "duration": 77,
    "start_time": "2022-02-14T06:40:14.473Z"
   },
   {
    "duration": 82,
    "start_time": "2022-02-14T06:40:19.234Z"
   },
   {
    "duration": 21,
    "start_time": "2022-02-14T06:40:34.856Z"
   },
   {
    "duration": 79,
    "start_time": "2022-02-14T06:41:08.360Z"
   },
   {
    "duration": 19,
    "start_time": "2022-02-14T06:41:14.120Z"
   },
   {
    "duration": 8,
    "start_time": "2022-02-14T06:41:19.992Z"
   },
   {
    "duration": 6,
    "start_time": "2022-02-14T06:41:47.518Z"
   },
   {
    "duration": 12,
    "start_time": "2022-02-14T06:41:56.975Z"
   },
   {
    "duration": 14,
    "start_time": "2022-02-14T06:42:04.615Z"
   },
   {
    "duration": 20,
    "start_time": "2022-02-14T06:43:45.246Z"
   },
   {
    "duration": 10,
    "start_time": "2022-02-14T06:43:52.971Z"
   },
   {
    "duration": 6,
    "start_time": "2022-02-14T06:43:55.092Z"
   },
   {
    "duration": 15,
    "start_time": "2022-02-14T06:43:56.731Z"
   },
   {
    "duration": 16,
    "start_time": "2022-02-14T06:44:14.547Z"
   },
   {
    "duration": 5827,
    "start_time": "2022-02-14T06:58:05.689Z"
   },
   {
    "duration": 6,
    "start_time": "2022-02-14T06:58:29.287Z"
   },
   {
    "duration": 349,
    "start_time": "2022-02-14T06:58:29.295Z"
   },
   {
    "duration": 43,
    "start_time": "2022-02-14T06:58:29.647Z"
   },
   {
    "duration": 67,
    "start_time": "2022-02-14T06:58:29.694Z"
   },
   {
    "duration": 43,
    "start_time": "2022-02-14T06:58:29.764Z"
   },
   {
    "duration": 32,
    "start_time": "2022-02-14T06:58:29.833Z"
   },
   {
    "duration": 21,
    "start_time": "2022-02-14T06:58:29.869Z"
   },
   {
    "duration": 55,
    "start_time": "2022-02-14T06:58:29.892Z"
   },
   {
    "duration": 16,
    "start_time": "2022-02-14T06:58:29.950Z"
   },
   {
    "duration": 63,
    "start_time": "2022-02-14T06:58:29.969Z"
   },
   {
    "duration": 23,
    "start_time": "2022-02-14T06:58:30.035Z"
   },
   {
    "duration": 27,
    "start_time": "2022-02-14T06:58:30.060Z"
   },
   {
    "duration": 65,
    "start_time": "2022-02-14T06:58:30.966Z"
   },
   {
    "duration": 11,
    "start_time": "2022-02-14T06:58:31.767Z"
   },
   {
    "duration": 12,
    "start_time": "2022-02-14T06:58:32.821Z"
   },
   {
    "duration": 37,
    "start_time": "2022-02-14T06:58:33.934Z"
   },
   {
    "duration": 7,
    "start_time": "2022-02-14T06:58:35.888Z"
   },
   {
    "duration": 11,
    "start_time": "2022-02-14T06:58:37.975Z"
   },
   {
    "duration": 38,
    "start_time": "2022-02-14T06:58:39.023Z"
   },
   {
    "duration": 7,
    "start_time": "2022-02-14T06:58:40.767Z"
   },
   {
    "duration": 18,
    "start_time": "2022-02-14T06:58:43.511Z"
   },
   {
    "duration": 6,
    "start_time": "2022-02-14T06:58:46.334Z"
   },
   {
    "duration": 13,
    "start_time": "2022-02-14T06:58:47.149Z"
   },
   {
    "duration": 10,
    "start_time": "2022-02-14T06:58:48.093Z"
   },
   {
    "duration": 3,
    "start_time": "2022-02-14T06:58:49.583Z"
   },
   {
    "duration": 12,
    "start_time": "2022-02-14T06:58:51.662Z"
   },
   {
    "duration": 23,
    "start_time": "2022-02-14T06:58:52.942Z"
   },
   {
    "duration": 28,
    "start_time": "2022-02-14T06:58:55.278Z"
   },
   {
    "duration": 6,
    "start_time": "2022-02-14T06:59:00.445Z"
   },
   {
    "duration": 35,
    "start_time": "2022-02-14T06:59:05.197Z"
   },
   {
    "duration": 245,
    "start_time": "2022-02-14T07:07:14.254Z"
   },
   {
    "duration": 16,
    "start_time": "2022-02-14T07:07:36.042Z"
   },
   {
    "duration": 22,
    "start_time": "2022-02-14T07:07:52.403Z"
   },
   {
    "duration": 51,
    "start_time": "2022-02-14T07:08:23.786Z"
   },
   {
    "duration": 35,
    "start_time": "2022-02-14T07:08:35.808Z"
   },
   {
    "duration": 7,
    "start_time": "2022-02-14T07:08:53.777Z"
   },
   {
    "duration": 7,
    "start_time": "2022-02-14T07:08:59.369Z"
   },
   {
    "duration": 32,
    "start_time": "2022-02-14T07:09:08.737Z"
   },
   {
    "duration": 65,
    "start_time": "2022-02-14T07:10:59.916Z"
   },
   {
    "duration": 34,
    "start_time": "2022-02-14T07:11:03.622Z"
   },
   {
    "duration": 70,
    "start_time": "2022-02-14T07:13:33.284Z"
   },
   {
    "duration": 20,
    "start_time": "2022-02-14T07:13:59.563Z"
   },
   {
    "duration": 58,
    "start_time": "2022-02-14T07:17:10.380Z"
   },
   {
    "duration": 38,
    "start_time": "2022-02-14T07:18:30.843Z"
   },
   {
    "duration": 36,
    "start_time": "2022-02-14T07:21:49.630Z"
   },
   {
    "duration": 8,
    "start_time": "2022-02-14T07:22:11.541Z"
   },
   {
    "duration": 7,
    "start_time": "2022-02-14T07:22:23.949Z"
   },
   {
    "duration": 11,
    "start_time": "2022-02-14T07:22:37.366Z"
   },
   {
    "duration": 7,
    "start_time": "2022-02-14T07:22:52.615Z"
   },
   {
    "duration": 299,
    "start_time": "2022-02-14T07:22:58.932Z"
   },
   {
    "duration": 7,
    "start_time": "2022-02-14T07:23:03.676Z"
   },
   {
    "duration": 24,
    "start_time": "2022-02-14T07:23:54.507Z"
   },
   {
    "duration": 25,
    "start_time": "2022-02-14T07:26:22.306Z"
   },
   {
    "duration": 7,
    "start_time": "2022-02-14T07:26:51.943Z"
   },
   {
    "duration": 7,
    "start_time": "2022-02-14T07:27:41.319Z"
   },
   {
    "duration": 23,
    "start_time": "2022-02-14T07:27:54.877Z"
   },
   {
    "duration": 121,
    "start_time": "2022-02-14T07:35:00.693Z"
   },
   {
    "duration": 2251,
    "start_time": "2022-02-14T07:35:06.388Z"
   },
   {
    "duration": 120,
    "start_time": "2022-02-14T07:35:13.463Z"
   },
   {
    "duration": 374,
    "start_time": "2022-02-14T07:36:03.355Z"
   },
   {
    "duration": 394,
    "start_time": "2022-02-14T07:36:30.907Z"
   },
   {
    "duration": 266,
    "start_time": "2022-02-14T07:37:06.121Z"
   },
   {
    "duration": 295,
    "start_time": "2022-02-14T07:37:31.505Z"
   },
   {
    "duration": 237,
    "start_time": "2022-02-14T07:37:35.920Z"
   },
   {
    "duration": 258,
    "start_time": "2022-02-14T07:37:49.928Z"
   },
   {
    "duration": 5,
    "start_time": "2022-02-14T07:37:55.183Z"
   },
   {
    "duration": 262,
    "start_time": "2022-02-14T07:38:05.473Z"
   },
   {
    "duration": 238,
    "start_time": "2022-02-14T07:38:10.937Z"
   },
   {
    "duration": 13,
    "start_time": "2022-02-14T07:38:49.856Z"
   },
   {
    "duration": 64,
    "start_time": "2022-02-14T07:39:02.743Z"
   },
   {
    "duration": 6,
    "start_time": "2022-02-14T07:39:10.621Z"
   },
   {
    "duration": 48,
    "start_time": "2022-02-14T07:39:13.798Z"
   },
   {
    "duration": 237,
    "start_time": "2022-02-14T07:39:16.637Z"
   },
   {
    "duration": 2369,
    "start_time": "2022-02-14T07:39:21.271Z"
   },
   {
    "duration": 295,
    "start_time": "2022-02-14T07:39:53.941Z"
   },
   {
    "duration": 222,
    "start_time": "2022-02-14T07:40:06.717Z"
   },
   {
    "duration": 93,
    "start_time": "2022-02-14T07:40:14.597Z"
   },
   {
    "duration": 394,
    "start_time": "2022-02-14T07:41:11.763Z"
   },
   {
    "duration": 13,
    "start_time": "2022-02-14T07:41:22.179Z"
   },
   {
    "duration": 566,
    "start_time": "2022-02-14T07:42:04.267Z"
   },
   {
    "duration": 537,
    "start_time": "2022-02-14T07:42:36.786Z"
   },
   {
    "duration": 5,
    "start_time": "2022-02-14T07:43:35.762Z"
   },
   {
    "duration": 333,
    "start_time": "2022-02-14T07:43:42.298Z"
   },
   {
    "duration": 42,
    "start_time": "2022-02-14T07:43:43.953Z"
   },
   {
    "duration": 44,
    "start_time": "2022-02-14T07:43:45.705Z"
   },
   {
    "duration": 40,
    "start_time": "2022-02-14T07:43:47.255Z"
   },
   {
    "duration": 33,
    "start_time": "2022-02-14T07:43:48.551Z"
   },
   {
    "duration": 22,
    "start_time": "2022-02-14T07:43:50.153Z"
   },
   {
    "duration": 24,
    "start_time": "2022-02-14T07:43:51.127Z"
   },
   {
    "duration": 19,
    "start_time": "2022-02-14T07:43:52.736Z"
   },
   {
    "duration": 25,
    "start_time": "2022-02-14T07:43:54.592Z"
   },
   {
    "duration": 15,
    "start_time": "2022-02-14T07:43:55.527Z"
   },
   {
    "duration": 18,
    "start_time": "2022-02-14T07:43:56.888Z"
   },
   {
    "duration": 129,
    "start_time": "2022-02-14T07:44:35.646Z"
   },
   {
    "duration": 6,
    "start_time": "2022-02-14T07:44:45.542Z"
   },
   {
    "duration": 60,
    "start_time": "2022-02-14T07:44:50.830Z"
   },
   {
    "duration": 28,
    "start_time": "2022-02-14T07:45:07.703Z"
   },
   {
    "duration": 230,
    "start_time": "2022-02-14T07:45:20.597Z"
   },
   {
    "duration": 52,
    "start_time": "2022-02-14T07:45:28.540Z"
   },
   {
    "duration": 1798,
    "start_time": "2022-02-14T07:45:39.644Z"
   },
   {
    "duration": 2674,
    "start_time": "2022-02-14T07:46:16.546Z"
   },
   {
    "duration": 5,
    "start_time": "2022-02-14T07:47:06.962Z"
   },
   {
    "duration": 310,
    "start_time": "2022-02-14T07:47:08.140Z"
   },
   {
    "duration": 44,
    "start_time": "2022-02-14T07:47:09.524Z"
   },
   {
    "duration": 47,
    "start_time": "2022-02-14T07:47:10.660Z"
   },
   {
    "duration": 38,
    "start_time": "2022-02-14T07:47:11.469Z"
   },
   {
    "duration": 32,
    "start_time": "2022-02-14T07:47:13.129Z"
   },
   {
    "duration": 21,
    "start_time": "2022-02-14T07:47:13.273Z"
   },
   {
    "duration": 26,
    "start_time": "2022-02-14T07:47:14.088Z"
   },
   {
    "duration": 17,
    "start_time": "2022-02-14T07:47:14.753Z"
   },
   {
    "duration": 24,
    "start_time": "2022-02-14T07:47:15.747Z"
   },
   {
    "duration": 15,
    "start_time": "2022-02-14T07:47:16.609Z"
   },
   {
    "duration": 22,
    "start_time": "2022-02-14T07:47:18.003Z"
   },
   {
    "duration": 127,
    "start_time": "2022-02-14T07:47:21.594Z"
   },
   {
    "duration": 7,
    "start_time": "2022-02-14T07:47:22.650Z"
   },
   {
    "duration": 56,
    "start_time": "2022-02-14T07:47:23.702Z"
   },
   {
    "duration": 2163,
    "start_time": "2022-02-14T07:47:30.433Z"
   },
   {
    "duration": 3484,
    "start_time": "2022-02-14T07:48:52.951Z"
   },
   {
    "duration": 2329,
    "start_time": "2022-02-14T07:49:57.915Z"
   },
   {
    "duration": 2526,
    "start_time": "2022-02-14T07:50:40.422Z"
   },
   {
    "duration": 4,
    "start_time": "2022-02-14T07:51:14.138Z"
   },
   {
    "duration": 324,
    "start_time": "2022-02-14T07:51:14.145Z"
   },
   {
    "duration": 41,
    "start_time": "2022-02-14T07:51:14.472Z"
   },
   {
    "duration": 46,
    "start_time": "2022-02-14T07:51:14.711Z"
   },
   {
    "duration": 38,
    "start_time": "2022-02-14T07:51:15.173Z"
   },
   {
    "duration": 32,
    "start_time": "2022-02-14T07:51:15.980Z"
   },
   {
    "duration": 22,
    "start_time": "2022-02-14T07:51:16.960Z"
   },
   {
    "duration": 27,
    "start_time": "2022-02-14T07:51:17.445Z"
   },
   {
    "duration": 15,
    "start_time": "2022-02-14T07:51:18.118Z"
   },
   {
    "duration": 23,
    "start_time": "2022-02-14T07:51:18.934Z"
   },
   {
    "duration": 15,
    "start_time": "2022-02-14T07:51:19.556Z"
   },
   {
    "duration": 18,
    "start_time": "2022-02-14T07:51:20.365Z"
   },
   {
    "duration": 126,
    "start_time": "2022-02-14T07:51:24.014Z"
   },
   {
    "duration": 7,
    "start_time": "2022-02-14T07:51:24.500Z"
   },
   {
    "duration": 60,
    "start_time": "2022-02-14T07:51:25.628Z"
   },
   {
    "duration": 2222,
    "start_time": "2022-02-14T07:51:27.573Z"
   },
   {
    "duration": 213,
    "start_time": "2022-02-14T07:52:04.219Z"
   },
   {
    "duration": 8,
    "start_time": "2022-02-14T07:54:00.350Z"
   },
   {
    "duration": 9,
    "start_time": "2022-02-14T07:54:49.312Z"
   },
   {
    "duration": 6,
    "start_time": "2022-02-14T08:00:15.594Z"
   },
   {
    "duration": 1233,
    "start_time": "2022-02-14T08:05:29.794Z"
   },
   {
    "duration": 6,
    "start_time": "2022-02-14T08:06:44.496Z"
   },
   {
    "duration": 11,
    "start_time": "2022-02-14T08:07:10.215Z"
   },
   {
    "duration": 141,
    "start_time": "2022-02-14T08:09:08.524Z"
   },
   {
    "duration": 6,
    "start_time": "2022-02-14T08:09:13.651Z"
   },
   {
    "duration": 50,
    "start_time": "2022-02-14T08:09:20.101Z"
   },
   {
    "duration": 1942,
    "start_time": "2022-02-14T08:09:44.737Z"
   },
   {
    "duration": 10,
    "start_time": "2022-02-14T08:09:51.804Z"
   },
   {
    "duration": 55,
    "start_time": "2022-02-14T08:11:08.298Z"
   },
   {
    "duration": 1335,
    "start_time": "2022-02-14T08:22:16.751Z"
   },
   {
    "duration": 352,
    "start_time": "2022-02-14T08:22:18.457Z"
   },
   {
    "duration": 49,
    "start_time": "2022-02-14T08:22:19.327Z"
   },
   {
    "duration": 50,
    "start_time": "2022-02-14T08:22:20.214Z"
   },
   {
    "duration": 40,
    "start_time": "2022-02-14T08:22:21.414Z"
   },
   {
    "duration": 33,
    "start_time": "2022-02-14T08:22:22.941Z"
   },
   {
    "duration": 22,
    "start_time": "2022-02-14T08:22:23.966Z"
   },
   {
    "duration": 27,
    "start_time": "2022-02-14T08:22:24.860Z"
   },
   {
    "duration": 17,
    "start_time": "2022-02-14T08:22:26.462Z"
   },
   {
    "duration": 27,
    "start_time": "2022-02-14T08:22:28.629Z"
   },
   {
    "duration": 16,
    "start_time": "2022-02-14T08:22:30.013Z"
   },
   {
    "duration": 18,
    "start_time": "2022-02-14T08:22:35.550Z"
   },
   {
    "duration": 7,
    "start_time": "2022-02-14T08:23:29.699Z"
   },
   {
    "duration": 6,
    "start_time": "2022-02-14T08:24:14.313Z"
   },
   {
    "duration": 373,
    "start_time": "2022-02-14T08:25:34.504Z"
   },
   {
    "duration": 18,
    "start_time": "2022-02-14T08:25:56.830Z"
   },
   {
    "duration": 58,
    "start_time": "2022-02-14T08:26:27.093Z"
   },
   {
    "duration": 14,
    "start_time": "2022-02-14T08:28:39.121Z"
   },
   {
    "duration": 265,
    "start_time": "2022-02-14T08:29:19.356Z"
   },
   {
    "duration": 19,
    "start_time": "2022-02-14T08:30:30.222Z"
   },
   {
    "duration": 46,
    "start_time": "2022-02-14T08:30:39.753Z"
   },
   {
    "duration": 31,
    "start_time": "2022-02-14T08:33:52.324Z"
   },
   {
    "duration": 32,
    "start_time": "2022-02-14T08:35:35.281Z"
   },
   {
    "duration": 6,
    "start_time": "2022-02-14T08:40:34.419Z"
   },
   {
    "duration": 6,
    "start_time": "2022-02-14T08:40:57.666Z"
   },
   {
    "duration": 18,
    "start_time": "2022-02-14T08:41:06.095Z"
   },
   {
    "duration": 33,
    "start_time": "2022-02-14T08:41:13.387Z"
   },
   {
    "duration": 7,
    "start_time": "2022-02-14T08:41:24.538Z"
   },
   {
    "duration": 18,
    "start_time": "2022-02-14T08:41:58.442Z"
   },
   {
    "duration": 40,
    "start_time": "2022-02-14T08:42:40.775Z"
   },
   {
    "duration": 6,
    "start_time": "2022-02-14T08:43:24.186Z"
   },
   {
    "duration": 40,
    "start_time": "2022-02-14T08:45:19.715Z"
   },
   {
    "duration": 6,
    "start_time": "2022-02-14T08:45:29.828Z"
   },
   {
    "duration": 13,
    "start_time": "2022-02-14T08:47:22.017Z"
   },
   {
    "duration": 33,
    "start_time": "2022-02-14T08:47:33.440Z"
   },
   {
    "duration": 52,
    "start_time": "2022-02-14T08:47:43.368Z"
   },
   {
    "duration": 53,
    "start_time": "2022-02-14T08:51:13.725Z"
   },
   {
    "duration": 9,
    "start_time": "2022-02-14T08:51:30.466Z"
   },
   {
    "duration": 32,
    "start_time": "2022-02-14T08:52:02.683Z"
   },
   {
    "duration": 6,
    "start_time": "2022-02-14T08:52:15.499Z"
   },
   {
    "duration": 35,
    "start_time": "2022-02-14T08:52:45.676Z"
   },
   {
    "duration": 6,
    "start_time": "2022-02-14T08:52:56.430Z"
   },
   {
    "duration": 55,
    "start_time": "2022-02-14T08:54:25.793Z"
   },
   {
    "duration": 347,
    "start_time": "2022-02-14T08:54:36.312Z"
   },
   {
    "duration": 56,
    "start_time": "2022-02-14T08:54:40.959Z"
   },
   {
    "duration": 58,
    "start_time": "2022-02-14T08:54:55.478Z"
   },
   {
    "duration": 36,
    "start_time": "2022-02-14T08:55:31.046Z"
   },
   {
    "duration": 38,
    "start_time": "2022-02-14T08:55:56.981Z"
   },
   {
    "duration": 35,
    "start_time": "2022-02-14T08:56:19.437Z"
   },
   {
    "duration": 37,
    "start_time": "2022-02-14T08:57:35.860Z"
   },
   {
    "duration": 75,
    "start_time": "2022-02-14T09:00:48.479Z"
   },
   {
    "duration": 87,
    "start_time": "2022-02-14T09:01:43.404Z"
   },
   {
    "duration": 8,
    "start_time": "2022-02-14T09:01:49.861Z"
   },
   {
    "duration": 245,
    "start_time": "2022-02-14T09:02:11.135Z"
   },
   {
    "duration": 18,
    "start_time": "2022-02-14T09:04:28.377Z"
   },
   {
    "duration": 5,
    "start_time": "2022-02-14T09:05:30.872Z"
   },
   {
    "duration": 331,
    "start_time": "2022-02-14T09:05:32.617Z"
   },
   {
    "duration": 44,
    "start_time": "2022-02-14T09:05:34.008Z"
   },
   {
    "duration": 48,
    "start_time": "2022-02-14T09:05:35.344Z"
   },
   {
    "duration": 40,
    "start_time": "2022-02-14T09:05:36.471Z"
   },
   {
    "duration": 35,
    "start_time": "2022-02-14T09:05:37.655Z"
   },
   {
    "duration": 22,
    "start_time": "2022-02-14T09:05:38.928Z"
   },
   {
    "duration": 27,
    "start_time": "2022-02-14T09:05:39.767Z"
   },
   {
    "duration": 16,
    "start_time": "2022-02-14T09:05:40.974Z"
   },
   {
    "duration": 24,
    "start_time": "2022-02-14T09:05:42.647Z"
   },
   {
    "duration": 15,
    "start_time": "2022-02-14T09:05:43.470Z"
   },
   {
    "duration": 18,
    "start_time": "2022-02-14T09:05:44.751Z"
   },
   {
    "duration": 58,
    "start_time": "2022-02-14T09:05:55.643Z"
   },
   {
    "duration": 10,
    "start_time": "2022-02-14T09:05:56.680Z"
   },
   {
    "duration": 14,
    "start_time": "2022-02-14T09:06:00.942Z"
   },
   {
    "duration": 38,
    "start_time": "2022-02-14T09:06:03.374Z"
   },
   {
    "duration": 7,
    "start_time": "2022-02-14T09:06:06.285Z"
   },
   {
    "duration": 38,
    "start_time": "2022-02-14T09:06:09.910Z"
   },
   {
    "duration": 6,
    "start_time": "2022-02-14T09:06:11.397Z"
   },
   {
    "duration": 29,
    "start_time": "2022-02-14T09:06:18.702Z"
   },
   {
    "duration": 250,
    "start_time": "2022-02-14T09:06:23.589Z"
   },
   {
    "duration": 17,
    "start_time": "2022-02-14T09:06:46.446Z"
   },
   {
    "duration": 21,
    "start_time": "2022-02-14T09:09:11.987Z"
   },
   {
    "duration": 28,
    "start_time": "2022-02-14T09:10:13.592Z"
   },
   {
    "duration": 21,
    "start_time": "2022-02-14T09:11:53.550Z"
   },
   {
    "duration": 5,
    "start_time": "2022-02-14T09:13:03.726Z"
   },
   {
    "duration": 339,
    "start_time": "2022-02-14T09:13:04.366Z"
   },
   {
    "duration": 42,
    "start_time": "2022-02-14T09:13:04.844Z"
   },
   {
    "duration": 49,
    "start_time": "2022-02-14T09:13:05.325Z"
   },
   {
    "duration": 51,
    "start_time": "2022-02-14T09:13:05.829Z"
   },
   {
    "duration": 32,
    "start_time": "2022-02-14T09:13:06.324Z"
   },
   {
    "duration": 22,
    "start_time": "2022-02-14T09:13:06.821Z"
   },
   {
    "duration": 25,
    "start_time": "2022-02-14T09:13:07.157Z"
   },
   {
    "duration": 16,
    "start_time": "2022-02-14T09:13:07.644Z"
   },
   {
    "duration": 23,
    "start_time": "2022-02-14T09:13:08.318Z"
   },
   {
    "duration": 14,
    "start_time": "2022-02-14T09:13:08.661Z"
   },
   {
    "duration": 18,
    "start_time": "2022-02-14T09:13:09.285Z"
   },
   {
    "duration": 55,
    "start_time": "2022-02-14T09:13:12.099Z"
   },
   {
    "duration": 13,
    "start_time": "2022-02-14T09:13:12.282Z"
   },
   {
    "duration": 13,
    "start_time": "2022-02-14T09:13:13.668Z"
   },
   {
    "duration": 33,
    "start_time": "2022-02-14T09:13:14.595Z"
   },
   {
    "duration": 6,
    "start_time": "2022-02-14T09:13:15.035Z"
   },
   {
    "duration": 37,
    "start_time": "2022-02-14T09:13:16.828Z"
   },
   {
    "duration": 6,
    "start_time": "2022-02-14T09:13:20.947Z"
   },
   {
    "duration": 29,
    "start_time": "2022-02-14T09:13:32.148Z"
   },
   {
    "duration": 19,
    "start_time": "2022-02-14T09:13:42.107Z"
   },
   {
    "duration": 22,
    "start_time": "2022-02-14T09:14:09.956Z"
   },
   {
    "duration": 33,
    "start_time": "2022-02-14T09:14:19.242Z"
   },
   {
    "duration": 29,
    "start_time": "2022-02-14T09:14:44.657Z"
   },
   {
    "duration": 266,
    "start_time": "2022-02-14T09:17:40.542Z"
   },
   {
    "duration": 252,
    "start_time": "2022-02-14T09:18:55.164Z"
   },
   {
    "duration": 5,
    "start_time": "2022-02-14T09:19:23.700Z"
   },
   {
    "duration": 347,
    "start_time": "2022-02-14T09:19:24.509Z"
   },
   {
    "duration": 47,
    "start_time": "2022-02-14T09:19:25.061Z"
   },
   {
    "duration": 46,
    "start_time": "2022-02-14T09:19:25.676Z"
   },
   {
    "duration": 39,
    "start_time": "2022-02-14T09:19:26.460Z"
   },
   {
    "duration": 34,
    "start_time": "2022-02-14T09:19:27.361Z"
   },
   {
    "duration": 32,
    "start_time": "2022-02-14T09:19:28.372Z"
   },
   {
    "duration": 27,
    "start_time": "2022-02-14T09:19:29.067Z"
   },
   {
    "duration": 18,
    "start_time": "2022-02-14T09:19:30.195Z"
   },
   {
    "duration": 23,
    "start_time": "2022-02-14T09:19:30.987Z"
   },
   {
    "duration": 16,
    "start_time": "2022-02-14T09:19:31.442Z"
   },
   {
    "duration": 18,
    "start_time": "2022-02-14T09:19:32.300Z"
   },
   {
    "duration": 57,
    "start_time": "2022-02-14T09:19:34.665Z"
   },
   {
    "duration": 9,
    "start_time": "2022-02-14T09:19:34.868Z"
   },
   {
    "duration": 12,
    "start_time": "2022-02-14T09:19:35.299Z"
   },
   {
    "duration": 35,
    "start_time": "2022-02-14T09:19:35.764Z"
   },
   {
    "duration": 6,
    "start_time": "2022-02-14T09:19:35.974Z"
   },
   {
    "duration": 53,
    "start_time": "2022-02-14T09:19:36.515Z"
   },
   {
    "duration": 8,
    "start_time": "2022-02-14T09:19:36.812Z"
   },
   {
    "duration": 41,
    "start_time": "2022-02-14T09:19:40.754Z"
   },
   {
    "duration": 17,
    "start_time": "2022-02-14T09:19:43.011Z"
   },
   {
    "duration": 21,
    "start_time": "2022-02-14T09:19:45.508Z"
   },
   {
    "duration": 29,
    "start_time": "2022-02-14T09:19:48.499Z"
   },
   {
    "duration": 27,
    "start_time": "2022-02-14T09:19:55.691Z"
   },
   {
    "duration": 12,
    "start_time": "2022-02-14T09:23:59.844Z"
   },
   {
    "duration": 235,
    "start_time": "2022-02-14T09:27:02.838Z"
   },
   {
    "duration": 267,
    "start_time": "2022-02-14T09:27:18.170Z"
   },
   {
    "duration": 257,
    "start_time": "2022-02-14T09:27:30.639Z"
   },
   {
    "duration": 247,
    "start_time": "2022-02-14T09:27:59.791Z"
   },
   {
    "duration": 248,
    "start_time": "2022-02-14T09:28:24.816Z"
   },
   {
    "duration": 622,
    "start_time": "2022-02-14T09:29:34.931Z"
   },
   {
    "duration": 27,
    "start_time": "2022-02-14T09:30:48.627Z"
   },
   {
    "duration": 35,
    "start_time": "2022-02-14T09:31:38.246Z"
   },
   {
    "duration": 7,
    "start_time": "2022-02-14T09:36:44.738Z"
   },
   {
    "duration": 23,
    "start_time": "2022-02-14T09:37:10.449Z"
   },
   {
    "duration": 7,
    "start_time": "2022-02-14T09:37:48.546Z"
   },
   {
    "duration": 6,
    "start_time": "2022-02-14T09:38:35.345Z"
   },
   {
    "duration": 14,
    "start_time": "2022-02-14T09:38:48.255Z"
   },
   {
    "duration": 5,
    "start_time": "2022-02-14T09:39:01.088Z"
   },
   {
    "duration": 21,
    "start_time": "2022-02-14T09:39:08.191Z"
   },
   {
    "duration": 5,
    "start_time": "2022-02-14T09:39:11.552Z"
   },
   {
    "duration": 3,
    "start_time": "2022-02-14T09:41:53.924Z"
   },
   {
    "duration": 11,
    "start_time": "2022-02-14T09:41:57.387Z"
   },
   {
    "duration": 14,
    "start_time": "2022-02-14T09:42:03.745Z"
   },
   {
    "duration": 82,
    "start_time": "2022-02-14T09:43:28.720Z"
   },
   {
    "duration": 38,
    "start_time": "2022-02-14T09:45:45.703Z"
   },
   {
    "duration": 3,
    "start_time": "2022-02-14T09:46:51.204Z"
   },
   {
    "duration": 4,
    "start_time": "2022-02-14T09:47:13.490Z"
   },
   {
    "duration": 457,
    "start_time": "2022-02-14T09:52:41.415Z"
   },
   {
    "duration": 5,
    "start_time": "2022-02-14T09:53:48.147Z"
   },
   {
    "duration": 332,
    "start_time": "2022-02-14T09:53:49.306Z"
   },
   {
    "duration": 42,
    "start_time": "2022-02-14T09:53:50.077Z"
   },
   {
    "duration": 46,
    "start_time": "2022-02-14T09:53:50.596Z"
   },
   {
    "duration": 43,
    "start_time": "2022-02-14T09:53:51.580Z"
   },
   {
    "duration": 32,
    "start_time": "2022-02-14T09:53:52.657Z"
   },
   {
    "duration": 26,
    "start_time": "2022-02-14T09:53:53.755Z"
   },
   {
    "duration": 32,
    "start_time": "2022-02-14T09:53:54.594Z"
   },
   {
    "duration": 20,
    "start_time": "2022-02-14T09:53:55.618Z"
   },
   {
    "duration": 29,
    "start_time": "2022-02-14T09:53:57.124Z"
   },
   {
    "duration": 16,
    "start_time": "2022-02-14T09:53:57.906Z"
   },
   {
    "duration": 20,
    "start_time": "2022-02-14T09:53:58.906Z"
   },
   {
    "duration": 55,
    "start_time": "2022-02-14T09:54:03.448Z"
   },
   {
    "duration": 9,
    "start_time": "2022-02-14T09:54:03.802Z"
   },
   {
    "duration": 13,
    "start_time": "2022-02-14T09:54:04.808Z"
   },
   {
    "duration": 33,
    "start_time": "2022-02-14T09:54:06.452Z"
   },
   {
    "duration": 6,
    "start_time": "2022-02-14T09:54:07.730Z"
   },
   {
    "duration": 36,
    "start_time": "2022-02-14T09:54:09.010Z"
   },
   {
    "duration": 6,
    "start_time": "2022-02-14T09:54:09.666Z"
   },
   {
    "duration": 29,
    "start_time": "2022-02-14T09:54:15.938Z"
   },
   {
    "duration": 18,
    "start_time": "2022-02-14T09:54:21.603Z"
   },
   {
    "duration": 21,
    "start_time": "2022-02-14T09:54:25.418Z"
   },
   {
    "duration": 29,
    "start_time": "2022-02-14T09:54:30.035Z"
   },
   {
    "duration": 25,
    "start_time": "2022-02-14T09:54:36.241Z"
   },
   {
    "duration": 32,
    "start_time": "2022-02-14T09:54:42.217Z"
   },
   {
    "duration": 5,
    "start_time": "2022-02-14T09:54:43.633Z"
   },
   {
    "duration": 8,
    "start_time": "2022-02-14T09:54:47.226Z"
   },
   {
    "duration": 22,
    "start_time": "2022-02-14T09:54:49.088Z"
   },
   {
    "duration": 5,
    "start_time": "2022-02-14T09:54:52.849Z"
   },
   {
    "duration": 3,
    "start_time": "2022-02-14T09:54:56.194Z"
   },
   {
    "duration": 9,
    "start_time": "2022-02-14T09:54:58.600Z"
   },
   {
    "duration": 12,
    "start_time": "2022-02-14T09:55:03.440Z"
   },
   {
    "duration": 221,
    "start_time": "2022-02-14T09:56:06.413Z"
   },
   {
    "duration": 291,
    "start_time": "2022-02-14T09:57:05.775Z"
   },
   {
    "duration": 4,
    "start_time": "2022-02-14T09:59:45.399Z"
   },
   {
    "duration": 398,
    "start_time": "2022-02-14T09:59:45.406Z"
   },
   {
    "duration": 44,
    "start_time": "2022-02-14T09:59:45.807Z"
   },
   {
    "duration": 51,
    "start_time": "2022-02-14T09:59:45.855Z"
   },
   {
    "duration": 40,
    "start_time": "2022-02-14T09:59:45.933Z"
   },
   {
    "duration": 58,
    "start_time": "2022-02-14T09:59:45.976Z"
   },
   {
    "duration": 20,
    "start_time": "2022-02-14T09:59:46.040Z"
   },
   {
    "duration": 28,
    "start_time": "2022-02-14T09:59:46.063Z"
   },
   {
    "duration": 46,
    "start_time": "2022-02-14T09:59:46.093Z"
   },
   {
    "duration": 32,
    "start_time": "2022-02-14T09:59:46.142Z"
   },
   {
    "duration": 15,
    "start_time": "2022-02-14T09:59:46.176Z"
   },
   {
    "duration": 53,
    "start_time": "2022-02-14T09:59:46.193Z"
   },
   {
    "duration": 56,
    "start_time": "2022-02-14T09:59:46.248Z"
   },
   {
    "duration": 32,
    "start_time": "2022-02-14T09:59:46.307Z"
   },
   {
    "duration": 21,
    "start_time": "2022-02-14T09:59:46.343Z"
   },
   {
    "duration": 40,
    "start_time": "2022-02-14T09:59:46.366Z"
   },
   {
    "duration": 27,
    "start_time": "2022-02-14T09:59:46.410Z"
   },
   {
    "duration": 40,
    "start_time": "2022-02-14T09:59:46.439Z"
   },
   {
    "duration": 6,
    "start_time": "2022-02-14T09:59:46.486Z"
   },
   {
    "duration": 62,
    "start_time": "2022-02-14T09:59:46.495Z"
   },
   {
    "duration": 20,
    "start_time": "2022-02-14T09:59:46.559Z"
   },
   {
    "duration": 54,
    "start_time": "2022-02-14T09:59:46.581Z"
   },
   {
    "duration": 33,
    "start_time": "2022-02-14T09:59:46.637Z"
   },
   {
    "duration": 28,
    "start_time": "2022-02-14T09:59:46.673Z"
   },
   {
    "duration": 25,
    "start_time": "2022-02-14T09:59:46.733Z"
   },
   {
    "duration": 10,
    "start_time": "2022-02-14T09:59:46.760Z"
   },
   {
    "duration": 8,
    "start_time": "2022-02-14T09:59:46.772Z"
   },
   {
    "duration": 26,
    "start_time": "2022-02-14T09:59:46.782Z"
   },
   {
    "duration": 5,
    "start_time": "2022-02-14T09:59:46.833Z"
   },
   {
    "duration": 9,
    "start_time": "2022-02-14T09:59:46.840Z"
   },
   {
    "duration": 11,
    "start_time": "2022-02-14T09:59:46.851Z"
   },
   {
    "duration": 16,
    "start_time": "2022-02-14T09:59:46.864Z"
   },
   {
    "duration": 293,
    "start_time": "2022-02-14T09:59:46.883Z"
   },
   {
    "duration": 5,
    "start_time": "2022-02-14T09:59:47.179Z"
   },
   {
    "duration": 11,
    "start_time": "2022-02-14T09:59:47.186Z"
   },
   {
    "duration": 6,
    "start_time": "2022-02-14T09:59:47.199Z"
   },
   {
    "duration": 25,
    "start_time": "2022-02-14T09:59:47.208Z"
   },
   {
    "duration": 470,
    "start_time": "2022-02-14T09:59:47.235Z"
   },
   {
    "duration": -1075,
    "start_time": "2022-02-14T09:59:48.783Z"
   },
   {
    "duration": -1077,
    "start_time": "2022-02-14T09:59:48.787Z"
   },
   {
    "duration": -1078,
    "start_time": "2022-02-14T09:59:48.790Z"
   },
   {
    "duration": -1079,
    "start_time": "2022-02-14T09:59:48.793Z"
   },
   {
    "duration": -1238,
    "start_time": "2022-02-14T09:59:48.953Z"
   },
   {
    "duration": -1248,
    "start_time": "2022-02-14T09:59:48.965Z"
   },
   {
    "duration": -1255,
    "start_time": "2022-02-14T09:59:48.974Z"
   },
   {
    "duration": -1258,
    "start_time": "2022-02-14T09:59:48.979Z"
   },
   {
    "duration": -1260,
    "start_time": "2022-02-14T09:59:48.983Z"
   },
   {
    "duration": -1270,
    "start_time": "2022-02-14T09:59:48.994Z"
   },
   {
    "duration": -1272,
    "start_time": "2022-02-14T09:59:48.998Z"
   },
   {
    "duration": -1281,
    "start_time": "2022-02-14T09:59:49.009Z"
   },
   {
    "duration": -1284,
    "start_time": "2022-02-14T09:59:49.013Z"
   },
   {
    "duration": -1292,
    "start_time": "2022-02-14T09:59:49.023Z"
   },
   {
    "duration": -1295,
    "start_time": "2022-02-14T09:59:49.027Z"
   },
   {
    "duration": -1298,
    "start_time": "2022-02-14T09:59:49.032Z"
   },
   {
    "duration": -1305,
    "start_time": "2022-02-14T09:59:49.041Z"
   },
   {
    "duration": -1308,
    "start_time": "2022-02-14T09:59:49.045Z"
   },
   {
    "duration": -1310,
    "start_time": "2022-02-14T09:59:49.049Z"
   },
   {
    "duration": -1318,
    "start_time": "2022-02-14T09:59:49.059Z"
   },
   {
    "duration": -1320,
    "start_time": "2022-02-14T09:59:49.062Z"
   },
   {
    "duration": -1323,
    "start_time": "2022-02-14T09:59:49.067Z"
   },
   {
    "duration": -1332,
    "start_time": "2022-02-14T09:59:49.077Z"
   },
   {
    "duration": -1334,
    "start_time": "2022-02-14T09:59:49.081Z"
   },
   {
    "duration": -1342,
    "start_time": "2022-02-14T09:59:49.090Z"
   },
   {
    "duration": 418,
    "start_time": "2022-02-14T10:01:22.345Z"
   },
   {
    "duration": 91,
    "start_time": "2022-02-14T10:03:01.464Z"
   },
   {
    "duration": 258,
    "start_time": "2022-02-14T10:03:18.470Z"
   },
   {
    "duration": 5,
    "start_time": "2022-02-14T10:05:16.640Z"
   },
   {
    "duration": 344,
    "start_time": "2022-02-14T10:05:16.648Z"
   },
   {
    "duration": 45,
    "start_time": "2022-02-14T10:05:16.995Z"
   },
   {
    "duration": 45,
    "start_time": "2022-02-14T10:05:17.043Z"
   },
   {
    "duration": 59,
    "start_time": "2022-02-14T10:05:17.090Z"
   },
   {
    "duration": 32,
    "start_time": "2022-02-14T10:05:17.151Z"
   },
   {
    "duration": 50,
    "start_time": "2022-02-14T10:05:17.187Z"
   },
   {
    "duration": 25,
    "start_time": "2022-02-14T10:05:17.239Z"
   },
   {
    "duration": 16,
    "start_time": "2022-02-14T10:05:17.267Z"
   },
   {
    "duration": 61,
    "start_time": "2022-02-14T10:05:17.286Z"
   },
   {
    "duration": 16,
    "start_time": "2022-02-14T10:05:17.350Z"
   },
   {
    "duration": 19,
    "start_time": "2022-02-14T10:05:17.369Z"
   },
   {
    "duration": 92,
    "start_time": "2022-02-14T10:05:17.391Z"
   },
   {
    "duration": 9,
    "start_time": "2022-02-14T10:05:17.486Z"
   },
   {
    "duration": 44,
    "start_time": "2022-02-14T10:05:17.498Z"
   },
   {
    "duration": 39,
    "start_time": "2022-02-14T10:05:17.544Z"
   },
   {
    "duration": 6,
    "start_time": "2022-02-14T10:05:17.586Z"
   },
   {
    "duration": 67,
    "start_time": "2022-02-14T10:05:17.595Z"
   },
   {
    "duration": 7,
    "start_time": "2022-02-14T10:05:17.667Z"
   },
   {
    "duration": 56,
    "start_time": "2022-02-14T10:05:17.677Z"
   },
   {
    "duration": 19,
    "start_time": "2022-02-14T10:05:17.736Z"
   },
   {
    "duration": 25,
    "start_time": "2022-02-14T10:05:17.758Z"
   },
   {
    "duration": 60,
    "start_time": "2022-02-14T10:05:17.785Z"
   },
   {
    "duration": 29,
    "start_time": "2022-02-14T10:05:17.848Z"
   },
   {
    "duration": 53,
    "start_time": "2022-02-14T10:05:17.880Z"
   },
   {
    "duration": 5,
    "start_time": "2022-02-14T10:05:17.936Z"
   },
   {
    "duration": 9,
    "start_time": "2022-02-14T10:05:17.944Z"
   },
   {
    "duration": 23,
    "start_time": "2022-02-14T10:05:17.956Z"
   },
   {
    "duration": 6,
    "start_time": "2022-02-14T10:05:17.982Z"
   },
   {
    "duration": 42,
    "start_time": "2022-02-14T10:05:17.991Z"
   },
   {
    "duration": 10,
    "start_time": "2022-02-14T10:05:18.036Z"
   },
   {
    "duration": 16,
    "start_time": "2022-02-14T10:05:18.048Z"
   },
   {
    "duration": 247,
    "start_time": "2022-02-14T10:05:29.162Z"
   },
   {
    "duration": 54,
    "start_time": "2022-02-14T10:06:31.617Z"
   },
   {
    "duration": 9,
    "start_time": "2022-02-14T10:06:37.869Z"
   },
   {
    "duration": 13,
    "start_time": "2022-02-14T10:06:44.024Z"
   },
   {
    "duration": 33,
    "start_time": "2022-02-14T10:06:52.408Z"
   },
   {
    "duration": 33,
    "start_time": "2022-02-14T10:07:40.967Z"
   },
   {
    "duration": 31,
    "start_time": "2022-02-14T10:07:47.616Z"
   },
   {
    "duration": 7,
    "start_time": "2022-02-14T10:07:52.534Z"
   },
   {
    "duration": 41,
    "start_time": "2022-02-14T10:07:57.269Z"
   },
   {
    "duration": 7,
    "start_time": "2022-02-14T10:08:01.534Z"
   },
   {
    "duration": 31,
    "start_time": "2022-02-14T10:08:25.774Z"
   },
   {
    "duration": 19,
    "start_time": "2022-02-14T10:08:34.142Z"
   },
   {
    "duration": 22,
    "start_time": "2022-02-14T10:08:42.389Z"
   },
   {
    "duration": 30,
    "start_time": "2022-02-14T10:08:56.291Z"
   },
   {
    "duration": 16,
    "start_time": "2022-02-14T10:09:02.413Z"
   },
   {
    "duration": 27,
    "start_time": "2022-02-14T10:09:22.988Z"
   },
   {
    "duration": 300,
    "start_time": "2022-02-14T10:09:40.346Z"
   },
   {
    "duration": 12,
    "start_time": "2022-02-14T10:10:33.323Z"
   },
   {
    "duration": 22,
    "start_time": "2022-02-14T10:10:44.299Z"
   },
   {
    "duration": 1453,
    "start_time": "2022-02-14T10:13:02.661Z"
   },
   {
    "duration": 363,
    "start_time": "2022-02-14T10:13:04.117Z"
   },
   {
    "duration": 46,
    "start_time": "2022-02-14T10:13:04.483Z"
   },
   {
    "duration": 49,
    "start_time": "2022-02-14T10:13:04.532Z"
   },
   {
    "duration": 66,
    "start_time": "2022-02-14T10:13:04.584Z"
   },
   {
    "duration": 38,
    "start_time": "2022-02-14T10:13:04.654Z"
   },
   {
    "duration": 45,
    "start_time": "2022-02-14T10:13:04.695Z"
   },
   {
    "duration": 26,
    "start_time": "2022-02-14T10:13:04.744Z"
   },
   {
    "duration": 17,
    "start_time": "2022-02-14T10:13:04.773Z"
   },
   {
    "duration": 60,
    "start_time": "2022-02-14T10:13:04.793Z"
   },
   {
    "duration": 17,
    "start_time": "2022-02-14T10:13:04.856Z"
   },
   {
    "duration": 23,
    "start_time": "2022-02-14T10:13:04.876Z"
   },
   {
    "duration": 60,
    "start_time": "2022-02-14T10:13:04.933Z"
   },
   {
    "duration": 8,
    "start_time": "2022-02-14T10:13:04.996Z"
   },
   {
    "duration": 35,
    "start_time": "2022-02-14T10:13:05.006Z"
   },
   {
    "duration": 39,
    "start_time": "2022-02-14T10:13:05.043Z"
   },
   {
    "duration": 6,
    "start_time": "2022-02-14T10:13:05.084Z"
   },
   {
    "duration": 71,
    "start_time": "2022-02-14T10:13:05.092Z"
   },
   {
    "duration": 6,
    "start_time": "2022-02-14T10:13:05.166Z"
   },
   {
    "duration": 58,
    "start_time": "2022-02-14T10:13:05.174Z"
   },
   {
    "duration": 19,
    "start_time": "2022-02-14T10:13:05.234Z"
   },
   {
    "duration": 23,
    "start_time": "2022-02-14T10:13:05.256Z"
   },
   {
    "duration": 50,
    "start_time": "2022-02-14T10:13:05.284Z"
   },
   {
    "duration": 30,
    "start_time": "2022-02-14T10:13:05.338Z"
   },
   {
    "duration": 29,
    "start_time": "2022-02-14T10:13:09.861Z"
   },
   {
    "duration": 7,
    "start_time": "2022-02-14T10:15:00.083Z"
   },
   {
    "duration": 6,
    "start_time": "2022-02-14T10:15:11.170Z"
   },
   {
    "duration": 20,
    "start_time": "2022-02-14T10:15:18.657Z"
   },
   {
    "duration": 5,
    "start_time": "2022-02-14T10:15:28.266Z"
   },
   {
    "duration": 4,
    "start_time": "2022-02-14T10:16:38.135Z"
   },
   {
    "duration": 11,
    "start_time": "2022-02-14T10:16:40.384Z"
   },
   {
    "duration": 12,
    "start_time": "2022-02-14T10:16:44.240Z"
   },
   {
    "duration": 252,
    "start_time": "2022-02-14T10:18:56.654Z"
   },
   {
    "duration": 227,
    "start_time": "2022-02-14T10:21:22.100Z"
   },
   {
    "duration": 24,
    "start_time": "2022-02-14T10:24:27.333Z"
   },
   {
    "duration": 374,
    "start_time": "2022-02-14T10:26:11.203Z"
   },
   {
    "duration": 3,
    "start_time": "2022-02-14T10:26:15.444Z"
   },
   {
    "duration": 21,
    "start_time": "2022-02-14T10:26:16.196Z"
   },
   {
    "duration": 8,
    "start_time": "2022-02-14T10:27:40.713Z"
   },
   {
    "duration": 5,
    "start_time": "2022-02-14T10:28:00.755Z"
   },
   {
    "duration": 401,
    "start_time": "2022-02-14T10:28:00.762Z"
   },
   {
    "duration": 42,
    "start_time": "2022-02-14T10:28:01.166Z"
   },
   {
    "duration": 52,
    "start_time": "2022-02-14T10:28:01.210Z"
   },
   {
    "duration": 38,
    "start_time": "2022-02-14T10:28:01.264Z"
   },
   {
    "duration": 51,
    "start_time": "2022-02-14T10:28:01.304Z"
   },
   {
    "duration": 21,
    "start_time": "2022-02-14T10:28:01.360Z"
   },
   {
    "duration": 56,
    "start_time": "2022-02-14T10:28:01.384Z"
   },
   {
    "duration": 18,
    "start_time": "2022-02-14T10:28:01.442Z"
   },
   {
    "duration": 31,
    "start_time": "2022-02-14T10:28:01.462Z"
   },
   {
    "duration": 43,
    "start_time": "2022-02-14T10:28:01.496Z"
   },
   {
    "duration": 21,
    "start_time": "2022-02-14T10:28:01.541Z"
   },
   {
    "duration": 77,
    "start_time": "2022-02-14T10:28:01.565Z"
   },
   {
    "duration": 9,
    "start_time": "2022-02-14T10:28:01.645Z"
   },
   {
    "duration": 27,
    "start_time": "2022-02-14T10:28:01.656Z"
   },
   {
    "duration": 74,
    "start_time": "2022-02-14T10:28:01.685Z"
   },
   {
    "duration": 5,
    "start_time": "2022-02-14T10:28:01.762Z"
   },
   {
    "duration": 83,
    "start_time": "2022-02-14T10:28:01.769Z"
   },
   {
    "duration": 5,
    "start_time": "2022-02-14T10:28:01.857Z"
   },
   {
    "duration": 40,
    "start_time": "2022-02-14T10:28:01.865Z"
   },
   {
    "duration": 28,
    "start_time": "2022-02-14T10:28:01.907Z"
   },
   {
    "duration": 28,
    "start_time": "2022-02-14T10:28:01.937Z"
   },
   {
    "duration": 15,
    "start_time": "2022-02-14T10:28:01.967Z"
   },
   {
    "duration": 51,
    "start_time": "2022-02-14T10:28:01.984Z"
   },
   {
    "duration": 27,
    "start_time": "2022-02-14T10:28:02.037Z"
   },
   {
    "duration": 6,
    "start_time": "2022-02-14T10:28:02.066Z"
   },
   {
    "duration": 27,
    "start_time": "2022-02-14T10:28:02.074Z"
   },
   {
    "duration": 32,
    "start_time": "2022-02-14T10:28:02.103Z"
   },
   {
    "duration": 17,
    "start_time": "2022-02-14T10:28:02.137Z"
   },
   {
    "duration": 8,
    "start_time": "2022-02-14T10:28:02.157Z"
   },
   {
    "duration": 36,
    "start_time": "2022-02-14T10:28:02.167Z"
   },
   {
    "duration": 29,
    "start_time": "2022-02-14T10:28:02.205Z"
   },
   {
    "duration": 237,
    "start_time": "2022-02-14T10:28:02.236Z"
   },
   {
    "duration": 22,
    "start_time": "2022-02-14T10:28:02.475Z"
   },
   {
    "duration": 10,
    "start_time": "2022-02-14T10:28:02.499Z"
   },
   {
    "duration": 36,
    "start_time": "2022-02-14T10:28:02.511Z"
   },
   {
    "duration": 9,
    "start_time": "2022-02-14T10:28:07.016Z"
   },
   {
    "duration": 44,
    "start_time": "2022-02-14T10:29:33.397Z"
   },
   {
    "duration": 6,
    "start_time": "2022-02-14T10:30:01.925Z"
   },
   {
    "duration": 14,
    "start_time": "2022-02-14T10:30:07.685Z"
   },
   {
    "duration": 13,
    "start_time": "2022-02-14T10:30:32.572Z"
   },
   {
    "duration": 3,
    "start_time": "2022-02-14T10:30:36.347Z"
   },
   {
    "duration": 10,
    "start_time": "2022-02-14T10:31:12.020Z"
   },
   {
    "duration": 95,
    "start_time": "2022-02-14T10:31:32.490Z"
   },
   {
    "duration": 6,
    "start_time": "2022-02-14T10:31:36.619Z"
   },
   {
    "duration": 44,
    "start_time": "2022-02-14T10:39:44.246Z"
   },
   {
    "duration": 21,
    "start_time": "2022-02-14T10:40:30.711Z"
   },
   {
    "duration": 26,
    "start_time": "2022-02-14T10:40:54.238Z"
   },
   {
    "duration": 5,
    "start_time": "2022-02-14T10:46:07.549Z"
   },
   {
    "duration": 351,
    "start_time": "2022-02-14T10:46:07.556Z"
   },
   {
    "duration": 42,
    "start_time": "2022-02-14T10:46:07.910Z"
   },
   {
    "duration": 45,
    "start_time": "2022-02-14T10:46:07.955Z"
   },
   {
    "duration": 62,
    "start_time": "2022-02-14T10:46:08.003Z"
   },
   {
    "duration": 30,
    "start_time": "2022-02-14T10:46:08.068Z"
   },
   {
    "duration": 41,
    "start_time": "2022-02-14T10:46:08.101Z"
   },
   {
    "duration": 24,
    "start_time": "2022-02-14T10:46:08.145Z"
   },
   {
    "duration": 14,
    "start_time": "2022-02-14T10:46:08.172Z"
   },
   {
    "duration": 60,
    "start_time": "2022-02-14T10:46:08.189Z"
   },
   {
    "duration": 14,
    "start_time": "2022-02-14T10:46:08.251Z"
   },
   {
    "duration": 17,
    "start_time": "2022-02-14T10:46:08.267Z"
   },
   {
    "duration": 92,
    "start_time": "2022-02-14T10:46:08.287Z"
   },
   {
    "duration": 9,
    "start_time": "2022-02-14T10:46:08.381Z"
   },
   {
    "duration": 15,
    "start_time": "2022-02-14T10:46:08.392Z"
   },
   {
    "duration": 55,
    "start_time": "2022-02-14T10:46:08.409Z"
   },
   {
    "duration": 6,
    "start_time": "2022-02-14T10:46:08.467Z"
   },
   {
    "duration": 62,
    "start_time": "2022-02-14T10:46:08.475Z"
   },
   {
    "duration": 6,
    "start_time": "2022-02-14T10:46:08.542Z"
   },
   {
    "duration": 31,
    "start_time": "2022-02-14T10:46:08.551Z"
   },
   {
    "duration": 17,
    "start_time": "2022-02-14T10:46:08.584Z"
   },
   {
    "duration": 21,
    "start_time": "2022-02-14T10:46:08.632Z"
   },
   {
    "duration": 15,
    "start_time": "2022-02-14T10:46:08.656Z"
   },
   {
    "duration": 60,
    "start_time": "2022-02-14T10:46:08.673Z"
   },
   {
    "duration": 29,
    "start_time": "2022-02-14T10:46:08.736Z"
   },
   {
    "duration": 6,
    "start_time": "2022-02-14T10:46:08.768Z"
   },
   {
    "duration": 8,
    "start_time": "2022-02-14T10:46:08.776Z"
   },
   {
    "duration": 54,
    "start_time": "2022-02-14T10:46:08.786Z"
   },
   {
    "duration": 18,
    "start_time": "2022-02-14T10:46:08.842Z"
   },
   {
    "duration": 26,
    "start_time": "2022-02-14T10:46:08.862Z"
   },
   {
    "duration": 14,
    "start_time": "2022-02-14T10:46:08.891Z"
   },
   {
    "duration": 26,
    "start_time": "2022-02-14T10:46:08.907Z"
   },
   {
    "duration": 233,
    "start_time": "2022-02-14T10:46:08.936Z"
   },
   {
    "duration": 21,
    "start_time": "2022-02-14T10:46:09.172Z"
   },
   {
    "duration": 13,
    "start_time": "2022-02-14T10:46:09.195Z"
   },
   {
    "duration": 40,
    "start_time": "2022-02-14T10:46:09.210Z"
   },
   {
    "duration": 8,
    "start_time": "2022-02-14T10:46:09.252Z"
   },
   {
    "duration": 11,
    "start_time": "2022-02-14T10:46:09.262Z"
   },
   {
    "duration": 19,
    "start_time": "2022-02-14T10:46:09.275Z"
   },
   {
    "duration": 37,
    "start_time": "2022-02-14T10:46:09.296Z"
   },
   {
    "duration": 44,
    "start_time": "2022-02-14T10:46:09.338Z"
   },
   {
    "duration": 16,
    "start_time": "2022-02-14T10:46:18.445Z"
   },
   {
    "duration": 19,
    "start_time": "2022-02-14T10:46:22.518Z"
   },
   {
    "duration": 12,
    "start_time": "2022-02-14T10:46:53.138Z"
   },
   {
    "duration": 5,
    "start_time": "2022-02-14T10:48:19.412Z"
   },
   {
    "duration": 223,
    "start_time": "2022-02-14T10:48:26.595Z"
   },
   {
    "duration": 5,
    "start_time": "2022-02-14T10:48:46.517Z"
   },
   {
    "duration": 396,
    "start_time": "2022-02-14T10:48:46.525Z"
   },
   {
    "duration": 66,
    "start_time": "2022-02-14T10:48:46.925Z"
   },
   {
    "duration": 89,
    "start_time": "2022-02-14T10:48:46.995Z"
   },
   {
    "duration": 53,
    "start_time": "2022-02-14T10:48:47.087Z"
   },
   {
    "duration": 33,
    "start_time": "2022-02-14T10:48:47.142Z"
   },
   {
    "duration": 57,
    "start_time": "2022-02-14T10:48:47.179Z"
   },
   {
    "duration": 27,
    "start_time": "2022-02-14T10:48:47.239Z"
   },
   {
    "duration": 17,
    "start_time": "2022-02-14T10:48:47.268Z"
   },
   {
    "duration": 65,
    "start_time": "2022-02-14T10:48:47.287Z"
   },
   {
    "duration": 17,
    "start_time": "2022-02-14T10:48:47.355Z"
   },
   {
    "duration": 20,
    "start_time": "2022-02-14T10:48:47.374Z"
   },
   {
    "duration": 102,
    "start_time": "2022-02-14T10:48:47.397Z"
   },
   {
    "duration": 29,
    "start_time": "2022-02-14T10:48:47.502Z"
   },
   {
    "duration": 16,
    "start_time": "2022-02-14T10:48:47.534Z"
   },
   {
    "duration": 42,
    "start_time": "2022-02-14T10:48:47.553Z"
   },
   {
    "duration": 6,
    "start_time": "2022-02-14T10:48:47.597Z"
   },
   {
    "duration": 37,
    "start_time": "2022-02-14T10:48:47.632Z"
   },
   {
    "duration": 5,
    "start_time": "2022-02-14T10:48:47.674Z"
   },
   {
    "duration": 59,
    "start_time": "2022-02-14T10:48:47.682Z"
   },
   {
    "duration": 17,
    "start_time": "2022-02-14T10:48:47.743Z"
   },
   {
    "duration": 21,
    "start_time": "2022-02-14T10:48:47.762Z"
   },
   {
    "duration": 16,
    "start_time": "2022-02-14T10:48:47.786Z"
   },
   {
    "duration": 27,
    "start_time": "2022-02-14T10:48:47.833Z"
   },
   {
    "duration": 28,
    "start_time": "2022-02-14T10:48:47.862Z"
   },
   {
    "duration": 6,
    "start_time": "2022-02-14T10:48:47.892Z"
   },
   {
    "duration": 6,
    "start_time": "2022-02-14T10:48:47.933Z"
   },
   {
    "duration": 22,
    "start_time": "2022-02-14T10:48:47.941Z"
   },
   {
    "duration": 6,
    "start_time": "2022-02-14T10:48:47.966Z"
   },
   {
    "duration": 4,
    "start_time": "2022-02-14T10:48:47.975Z"
   },
   {
    "duration": 11,
    "start_time": "2022-02-14T10:48:47.981Z"
   },
   {
    "duration": 51,
    "start_time": "2022-02-14T10:48:47.995Z"
   },
   {
    "duration": 240,
    "start_time": "2022-02-14T10:48:48.048Z"
   },
   {
    "duration": 23,
    "start_time": "2022-02-14T10:48:48.290Z"
   },
   {
    "duration": 18,
    "start_time": "2022-02-14T10:48:48.315Z"
   },
   {
    "duration": 25,
    "start_time": "2022-02-14T10:48:48.335Z"
   },
   {
    "duration": 9,
    "start_time": "2022-02-14T10:48:48.363Z"
   },
   {
    "duration": 8,
    "start_time": "2022-02-14T10:48:48.374Z"
   },
   {
    "duration": 50,
    "start_time": "2022-02-14T10:48:48.384Z"
   },
   {
    "duration": 12,
    "start_time": "2022-02-14T10:48:48.437Z"
   },
   {
    "duration": 29,
    "start_time": "2022-02-14T10:48:48.452Z"
   },
   {
    "duration": 24,
    "start_time": "2022-02-14T10:48:51.825Z"
   },
   {
    "duration": 12,
    "start_time": "2022-02-14T10:48:53.314Z"
   },
   {
    "duration": 24,
    "start_time": "2022-02-14T10:53:59.500Z"
   },
   {
    "duration": 6,
    "start_time": "2022-02-14T10:56:04.013Z"
   },
   {
    "duration": 379,
    "start_time": "2022-02-14T10:56:04.024Z"
   },
   {
    "duration": 55,
    "start_time": "2022-02-14T10:56:04.406Z"
   },
   {
    "duration": 46,
    "start_time": "2022-02-14T10:56:04.464Z"
   },
   {
    "duration": 39,
    "start_time": "2022-02-14T10:56:04.533Z"
   },
   {
    "duration": 32,
    "start_time": "2022-02-14T10:56:04.574Z"
   },
   {
    "duration": 31,
    "start_time": "2022-02-14T10:56:04.608Z"
   },
   {
    "duration": 26,
    "start_time": "2022-02-14T10:56:04.642Z"
   },
   {
    "duration": 19,
    "start_time": "2022-02-14T10:56:04.671Z"
   },
   {
    "duration": 39,
    "start_time": "2022-02-14T10:56:04.694Z"
   },
   {
    "duration": 15,
    "start_time": "2022-02-14T10:56:04.736Z"
   },
   {
    "duration": 19,
    "start_time": "2022-02-14T10:56:04.754Z"
   },
   {
    "duration": 69,
    "start_time": "2022-02-14T10:56:04.775Z"
   },
   {
    "duration": 8,
    "start_time": "2022-02-14T10:56:04.846Z"
   },
   {
    "duration": 17,
    "start_time": "2022-02-14T10:56:04.857Z"
   },
   {
    "duration": 46,
    "start_time": "2022-02-14T10:56:04.877Z"
   },
   {
    "duration": 5,
    "start_time": "2022-02-14T10:56:04.925Z"
   },
   {
    "duration": 43,
    "start_time": "2022-02-14T10:56:04.932Z"
   },
   {
    "duration": 6,
    "start_time": "2022-02-14T10:56:04.977Z"
   },
   {
    "duration": 28,
    "start_time": "2022-02-14T10:56:04.985Z"
   },
   {
    "duration": 21,
    "start_time": "2022-02-14T10:56:05.016Z"
   },
   {
    "duration": 22,
    "start_time": "2022-02-14T10:56:05.039Z"
   },
   {
    "duration": 17,
    "start_time": "2022-02-14T10:56:05.063Z"
   },
   {
    "duration": 32,
    "start_time": "2022-02-14T10:56:05.082Z"
   },
   {
    "duration": 37,
    "start_time": "2022-02-14T10:56:05.116Z"
   },
   {
    "duration": 6,
    "start_time": "2022-02-14T10:56:05.155Z"
   },
   {
    "duration": 5,
    "start_time": "2022-02-14T10:56:05.164Z"
   },
   {
    "duration": 21,
    "start_time": "2022-02-14T10:56:05.174Z"
   },
   {
    "duration": 14,
    "start_time": "2022-02-14T10:56:05.197Z"
   },
   {
    "duration": 8,
    "start_time": "2022-02-14T10:56:05.213Z"
   },
   {
    "duration": 9,
    "start_time": "2022-02-14T10:56:05.223Z"
   },
   {
    "duration": 19,
    "start_time": "2022-02-14T10:56:05.235Z"
   },
   {
    "duration": 392,
    "start_time": "2022-02-14T10:56:05.257Z"
   },
   {
    "duration": 21,
    "start_time": "2022-02-14T10:56:05.651Z"
   },
   {
    "duration": 4,
    "start_time": "2022-02-14T10:56:05.675Z"
   },
   {
    "duration": 64,
    "start_time": "2022-02-14T10:56:05.682Z"
   },
   {
    "duration": 10,
    "start_time": "2022-02-14T10:56:05.749Z"
   },
   {
    "duration": 5,
    "start_time": "2022-02-14T10:56:05.762Z"
   },
   {
    "duration": 65,
    "start_time": "2022-02-14T10:56:05.769Z"
   },
   {
    "duration": 12,
    "start_time": "2022-02-14T10:56:05.836Z"
   },
   {
    "duration": 83,
    "start_time": "2022-02-14T10:56:05.851Z"
   },
   {
    "duration": 30,
    "start_time": "2022-02-14T10:56:05.936Z"
   },
   {
    "duration": 65,
    "start_time": "2022-02-14T10:56:05.969Z"
   },
   {
    "duration": 5,
    "start_time": "2022-02-14T10:56:33.577Z"
   },
   {
    "duration": 365,
    "start_time": "2022-02-14T10:56:33.585Z"
   },
   {
    "duration": 44,
    "start_time": "2022-02-14T10:56:33.953Z"
   },
   {
    "duration": 59,
    "start_time": "2022-02-14T10:56:33.999Z"
   },
   {
    "duration": 37,
    "start_time": "2022-02-14T10:56:34.060Z"
   },
   {
    "duration": 55,
    "start_time": "2022-02-14T10:56:34.099Z"
   },
   {
    "duration": 19,
    "start_time": "2022-02-14T10:56:34.158Z"
   },
   {
    "duration": 31,
    "start_time": "2022-02-14T10:56:34.180Z"
   },
   {
    "duration": 16,
    "start_time": "2022-02-14T10:56:34.232Z"
   },
   {
    "duration": 25,
    "start_time": "2022-02-14T10:56:34.250Z"
   },
   {
    "duration": 18,
    "start_time": "2022-02-14T10:56:34.277Z"
   },
   {
    "duration": 47,
    "start_time": "2022-02-14T10:56:34.297Z"
   },
   {
    "duration": 61,
    "start_time": "2022-02-14T10:56:34.347Z"
   },
   {
    "duration": 10,
    "start_time": "2022-02-14T10:56:34.432Z"
   },
   {
    "duration": 15,
    "start_time": "2022-02-14T10:56:34.445Z"
   },
   {
    "duration": 34,
    "start_time": "2022-02-14T10:56:34.463Z"
   },
   {
    "duration": 7,
    "start_time": "2022-02-14T10:56:34.533Z"
   },
   {
    "duration": 38,
    "start_time": "2022-02-14T10:56:34.543Z"
   },
   {
    "duration": 6,
    "start_time": "2022-02-14T10:56:34.587Z"
   },
   {
    "duration": 66,
    "start_time": "2022-02-14T10:56:34.595Z"
   },
   {
    "duration": 16,
    "start_time": "2022-02-14T10:56:34.664Z"
   },
   {
    "duration": 22,
    "start_time": "2022-02-14T10:56:34.682Z"
   },
   {
    "duration": 40,
    "start_time": "2022-02-14T10:56:34.707Z"
   },
   {
    "duration": 25,
    "start_time": "2022-02-14T10:56:34.749Z"
   },
   {
    "duration": 55,
    "start_time": "2022-02-14T10:56:34.777Z"
   },
   {
    "duration": 8,
    "start_time": "2022-02-14T10:56:34.835Z"
   },
   {
    "duration": 11,
    "start_time": "2022-02-14T10:56:34.846Z"
   },
   {
    "duration": 25,
    "start_time": "2022-02-14T10:56:34.860Z"
   },
   {
    "duration": 12,
    "start_time": "2022-02-14T10:56:34.887Z"
   },
   {
    "duration": 32,
    "start_time": "2022-02-14T10:56:34.901Z"
   },
   {
    "duration": 9,
    "start_time": "2022-02-14T10:56:34.936Z"
   },
   {
    "duration": 16,
    "start_time": "2022-02-14T10:56:34.948Z"
   },
   {
    "duration": 255,
    "start_time": "2022-02-14T10:56:34.966Z"
   },
   {
    "duration": 28,
    "start_time": "2022-02-14T10:56:35.223Z"
   },
   {
    "duration": 5,
    "start_time": "2022-02-14T10:56:35.253Z"
   },
   {
    "duration": 21,
    "start_time": "2022-02-14T10:56:35.261Z"
   },
   {
    "duration": 16,
    "start_time": "2022-02-14T10:56:35.285Z"
   },
   {
    "duration": 31,
    "start_time": "2022-02-14T10:56:35.304Z"
   },
   {
    "duration": 16,
    "start_time": "2022-02-14T10:56:35.338Z"
   },
   {
    "duration": 13,
    "start_time": "2022-02-14T10:56:35.357Z"
   },
   {
    "duration": 67,
    "start_time": "2022-02-14T10:56:35.373Z"
   },
   {
    "duration": 26,
    "start_time": "2022-02-14T10:56:35.443Z"
   },
   {
    "duration": 12,
    "start_time": "2022-02-14T10:56:35.472Z"
   },
   {
    "duration": 11,
    "start_time": "2022-02-14T10:56:43.478Z"
   },
   {
    "duration": 29,
    "start_time": "2022-02-14T10:57:09.789Z"
   },
   {
    "duration": 33,
    "start_time": "2022-02-14T10:59:05.531Z"
   },
   {
    "duration": 44,
    "start_time": "2022-02-14T10:59:14.314Z"
   },
   {
    "duration": 7362,
    "start_time": "2022-02-14T11:03:08.057Z"
   },
   {
    "duration": 80,
    "start_time": "2022-02-14T11:04:47.535Z"
   },
   {
    "duration": 1064,
    "start_time": "2022-02-14T11:07:24.641Z"
   },
   {
    "duration": 227,
    "start_time": "2022-02-14T11:07:35.218Z"
   },
   {
    "duration": 373,
    "start_time": "2022-02-14T11:08:08.793Z"
   },
   {
    "duration": 950,
    "start_time": "2022-02-14T11:08:25.720Z"
   },
   {
    "duration": 901,
    "start_time": "2022-02-14T11:09:22.164Z"
   },
   {
    "duration": 696,
    "start_time": "2022-02-14T11:10:14.734Z"
   },
   {
    "duration": 111,
    "start_time": "2022-02-14T11:11:42.987Z"
   },
   {
    "duration": 5,
    "start_time": "2022-02-14T11:12:12.320Z"
   },
   {
    "duration": 356,
    "start_time": "2022-02-14T11:12:12.328Z"
   },
   {
    "duration": 42,
    "start_time": "2022-02-14T11:12:12.687Z"
   },
   {
    "duration": 44,
    "start_time": "2022-02-14T11:12:12.732Z"
   },
   {
    "duration": 63,
    "start_time": "2022-02-14T11:12:12.778Z"
   },
   {
    "duration": 33,
    "start_time": "2022-02-14T11:12:12.843Z"
   },
   {
    "duration": 21,
    "start_time": "2022-02-14T11:12:12.880Z"
   },
   {
    "duration": 26,
    "start_time": "2022-02-14T11:12:12.934Z"
   },
   {
    "duration": 17,
    "start_time": "2022-02-14T11:12:12.962Z"
   },
   {
    "duration": 54,
    "start_time": "2022-02-14T11:12:12.981Z"
   },
   {
    "duration": 18,
    "start_time": "2022-02-14T11:12:13.037Z"
   },
   {
    "duration": 17,
    "start_time": "2022-02-14T11:12:13.058Z"
   },
   {
    "duration": 91,
    "start_time": "2022-02-14T11:12:13.078Z"
   },
   {
    "duration": 8,
    "start_time": "2022-02-14T11:12:13.171Z"
   },
   {
    "duration": 13,
    "start_time": "2022-02-14T11:12:13.182Z"
   },
   {
    "duration": 62,
    "start_time": "2022-02-14T11:12:13.197Z"
   },
   {
    "duration": 5,
    "start_time": "2022-02-14T11:12:13.262Z"
   },
   {
    "duration": 64,
    "start_time": "2022-02-14T11:12:13.269Z"
   },
   {
    "duration": 6,
    "start_time": "2022-02-14T11:12:13.339Z"
   },
   {
    "duration": 29,
    "start_time": "2022-02-14T11:12:13.348Z"
   },
   {
    "duration": 17,
    "start_time": "2022-02-14T11:12:13.379Z"
   },
   {
    "duration": 51,
    "start_time": "2022-02-14T11:12:13.399Z"
   },
   {
    "duration": 15,
    "start_time": "2022-02-14T11:12:13.452Z"
   },
   {
    "duration": 26,
    "start_time": "2022-02-14T11:12:13.469Z"
   },
   {
    "duration": 59,
    "start_time": "2022-02-14T11:12:13.497Z"
   },
   {
    "duration": 6,
    "start_time": "2022-02-14T11:12:13.558Z"
   },
   {
    "duration": 6,
    "start_time": "2022-02-14T11:12:13.566Z"
   },
   {
    "duration": 22,
    "start_time": "2022-02-14T11:12:13.575Z"
   },
   {
    "duration": 36,
    "start_time": "2022-02-14T11:12:13.600Z"
   },
   {
    "duration": 8,
    "start_time": "2022-02-14T11:12:13.638Z"
   },
   {
    "duration": 14,
    "start_time": "2022-02-14T11:12:13.649Z"
   },
   {
    "duration": 18,
    "start_time": "2022-02-14T11:12:13.665Z"
   },
   {
    "duration": 250,
    "start_time": "2022-02-14T11:12:13.685Z"
   },
   {
    "duration": 21,
    "start_time": "2022-02-14T11:12:13.938Z"
   },
   {
    "duration": 5,
    "start_time": "2022-02-14T11:12:13.962Z"
   },
   {
    "duration": 23,
    "start_time": "2022-02-14T11:12:13.970Z"
   },
   {
    "duration": 10,
    "start_time": "2022-02-14T11:12:14.032Z"
   },
   {
    "duration": 6,
    "start_time": "2022-02-14T11:12:14.045Z"
   },
   {
    "duration": 17,
    "start_time": "2022-02-14T11:12:14.054Z"
   },
   {
    "duration": 14,
    "start_time": "2022-02-14T11:12:14.074Z"
   },
   {
    "duration": 65,
    "start_time": "2022-02-14T11:12:14.090Z"
   },
   {
    "duration": 12,
    "start_time": "2022-02-14T11:12:14.157Z"
   },
   {
    "duration": 74,
    "start_time": "2022-02-14T11:12:14.172Z"
   },
   {
    "duration": 95,
    "start_time": "2022-02-14T11:12:17.363Z"
   },
   {
    "duration": 975,
    "start_time": "2022-02-14T11:12:29.235Z"
   },
   {
    "duration": 903,
    "start_time": "2022-02-14T11:12:36.586Z"
   },
   {
    "duration": 29,
    "start_time": "2022-02-14T11:14:37.719Z"
   },
   {
    "duration": 624,
    "start_time": "2022-02-14T11:16:58.053Z"
   },
   {
    "duration": 52,
    "start_time": "2022-02-14T11:17:53.327Z"
   },
   {
    "duration": 69,
    "start_time": "2022-02-14T11:19:11.583Z"
   },
   {
    "duration": 231,
    "start_time": "2022-02-14T11:19:57.637Z"
   },
   {
    "duration": 239,
    "start_time": "2022-02-14T11:20:21.108Z"
   },
   {
    "duration": 13,
    "start_time": "2022-02-14T11:20:43.740Z"
   },
   {
    "duration": 6,
    "start_time": "2022-02-14T11:24:22.832Z"
   },
   {
    "duration": 224,
    "start_time": "2022-02-14T11:24:36.351Z"
   },
   {
    "duration": 8,
    "start_time": "2022-02-14T11:24:41.623Z"
   },
   {
    "duration": 8,
    "start_time": "2022-02-14T11:25:08.862Z"
   },
   {
    "duration": 395,
    "start_time": "2022-02-14T11:26:06.948Z"
   },
   {
    "duration": 245,
    "start_time": "2022-02-14T11:26:16.094Z"
   },
   {
    "duration": 222,
    "start_time": "2022-02-14T11:26:53.325Z"
   },
   {
    "duration": 5,
    "start_time": "2022-02-14T11:26:59.691Z"
   },
   {
    "duration": 552,
    "start_time": "2022-02-14T11:27:02.292Z"
   },
   {
    "duration": 263,
    "start_time": "2022-02-14T11:27:17.474Z"
   },
   {
    "duration": 5,
    "start_time": "2022-02-14T11:30:39.679Z"
   },
   {
    "duration": 6,
    "start_time": "2022-02-14T11:30:59.758Z"
   },
   {
    "duration": 10,
    "start_time": "2022-02-14T11:33:28.754Z"
   },
   {
    "duration": 351,
    "start_time": "2022-02-14T11:33:42.283Z"
   },
   {
    "duration": 486,
    "start_time": "2022-02-14T11:35:20.009Z"
   },
   {
    "duration": 893,
    "start_time": "2022-02-14T11:35:58.249Z"
   },
   {
    "duration": 426,
    "start_time": "2022-02-14T11:37:58.767Z"
   },
   {
    "duration": 775,
    "start_time": "2022-02-14T11:38:10.182Z"
   },
   {
    "duration": 789,
    "start_time": "2022-02-14T11:39:26.701Z"
   },
   {
    "duration": 13,
    "start_time": "2022-02-14T11:40:53.160Z"
   },
   {
    "duration": 5,
    "start_time": "2022-02-14T11:49:01.347Z"
   },
   {
    "duration": 6,
    "start_time": "2022-02-14T11:49:06.724Z"
   },
   {
    "duration": 10,
    "start_time": "2022-02-14T11:51:17.897Z"
   },
   {
    "duration": 274,
    "start_time": "2022-02-14T11:51:18.769Z"
   },
   {
    "duration": 47,
    "start_time": "2022-02-14T11:52:56.094Z"
   },
   {
    "duration": 236,
    "start_time": "2022-02-14T11:54:09.677Z"
   },
   {
    "duration": 6,
    "start_time": "2022-02-14T11:54:19.509Z"
   },
   {
    "duration": 6,
    "start_time": "2022-02-14T11:56:13.970Z"
   },
   {
    "duration": 6,
    "start_time": "2022-02-14T11:56:24.848Z"
   },
   {
    "duration": 229,
    "start_time": "2022-02-14T11:59:25.350Z"
   },
   {
    "duration": 230,
    "start_time": "2022-02-14T12:00:14.229Z"
   },
   {
    "duration": 7,
    "start_time": "2022-02-14T12:01:15.092Z"
   },
   {
    "duration": 6,
    "start_time": "2022-02-14T12:03:18.916Z"
   },
   {
    "duration": 395,
    "start_time": "2022-02-14T12:03:18.925Z"
   },
   {
    "duration": 50,
    "start_time": "2022-02-14T12:03:19.323Z"
   },
   {
    "duration": 75,
    "start_time": "2022-02-14T12:03:19.376Z"
   },
   {
    "duration": 43,
    "start_time": "2022-02-14T12:03:19.454Z"
   },
   {
    "duration": 73,
    "start_time": "2022-02-14T12:03:19.500Z"
   },
   {
    "duration": 21,
    "start_time": "2022-02-14T12:03:19.576Z"
   },
   {
    "duration": 51,
    "start_time": "2022-02-14T12:03:19.600Z"
   },
   {
    "duration": 17,
    "start_time": "2022-02-14T12:03:19.655Z"
   },
   {
    "duration": 59,
    "start_time": "2022-02-14T12:03:19.674Z"
   },
   {
    "duration": 17,
    "start_time": "2022-02-14T12:03:19.736Z"
   },
   {
    "duration": 19,
    "start_time": "2022-02-14T12:03:19.755Z"
   },
   {
    "duration": 90,
    "start_time": "2022-02-14T12:03:19.777Z"
   },
   {
    "duration": 8,
    "start_time": "2022-02-14T12:03:19.869Z"
   },
   {
    "duration": 18,
    "start_time": "2022-02-14T12:03:19.879Z"
   },
   {
    "duration": 55,
    "start_time": "2022-02-14T12:03:19.900Z"
   },
   {
    "duration": 6,
    "start_time": "2022-02-14T12:03:19.957Z"
   },
   {
    "duration": 50,
    "start_time": "2022-02-14T12:03:19.965Z"
   },
   {
    "duration": 5,
    "start_time": "2022-02-14T12:03:20.033Z"
   },
   {
    "duration": 35,
    "start_time": "2022-02-14T12:03:20.040Z"
   },
   {
    "duration": 18,
    "start_time": "2022-02-14T12:03:20.077Z"
   },
   {
    "duration": 53,
    "start_time": "2022-02-14T12:03:20.098Z"
   },
   {
    "duration": 16,
    "start_time": "2022-02-14T12:03:20.156Z"
   },
   {
    "duration": 30,
    "start_time": "2022-02-14T12:03:20.175Z"
   },
   {
    "duration": 50,
    "start_time": "2022-02-14T12:03:20.208Z"
   },
   {
    "duration": 6,
    "start_time": "2022-02-14T12:03:20.260Z"
   },
   {
    "duration": 15,
    "start_time": "2022-02-14T12:03:20.269Z"
   },
   {
    "duration": 49,
    "start_time": "2022-02-14T12:03:20.287Z"
   },
   {
    "duration": 9,
    "start_time": "2022-02-14T12:03:20.338Z"
   },
   {
    "duration": 7,
    "start_time": "2022-02-14T12:03:20.349Z"
   },
   {
    "duration": 14,
    "start_time": "2022-02-14T12:03:20.358Z"
   },
   {
    "duration": 16,
    "start_time": "2022-02-14T12:03:20.374Z"
   },
   {
    "duration": 253,
    "start_time": "2022-02-14T12:03:20.392Z"
   },
   {
    "duration": 22,
    "start_time": "2022-02-14T12:03:20.647Z"
   },
   {
    "duration": 8,
    "start_time": "2022-02-14T12:03:20.672Z"
   },
   {
    "duration": 24,
    "start_time": "2022-02-14T12:03:20.682Z"
   },
   {
    "duration": 30,
    "start_time": "2022-02-14T12:03:20.709Z"
   },
   {
    "duration": 14,
    "start_time": "2022-02-14T12:03:20.741Z"
   },
   {
    "duration": 21,
    "start_time": "2022-02-14T12:03:20.757Z"
   },
   {
    "duration": 15,
    "start_time": "2022-02-14T12:03:20.781Z"
   },
   {
    "duration": 50,
    "start_time": "2022-02-14T12:03:20.798Z"
   },
   {
    "duration": 12,
    "start_time": "2022-02-14T12:03:20.851Z"
   },
   {
    "duration": 48,
    "start_time": "2022-02-14T12:03:20.865Z"
   },
   {
    "duration": 1009,
    "start_time": "2022-02-14T12:03:20.915Z"
   },
   {
    "duration": 942,
    "start_time": "2022-02-14T12:03:21.932Z"
   },
   {
    "duration": 26,
    "start_time": "2022-02-14T12:03:22.877Z"
   },
   {
    "duration": 744,
    "start_time": "2022-02-14T12:03:22.906Z"
   },
   {
    "duration": 90,
    "start_time": "2022-02-14T12:03:23.653Z"
   },
   {
    "duration": 101,
    "start_time": "2022-02-14T12:03:23.746Z"
   },
   {
    "duration": 12,
    "start_time": "2022-02-14T12:03:23.850Z"
   },
   {
    "duration": 6,
    "start_time": "2022-02-14T12:03:23.864Z"
   },
   {
    "duration": 7,
    "start_time": "2022-02-14T12:03:23.873Z"
   },
   {
    "duration": 13,
    "start_time": "2022-02-14T12:03:23.882Z"
   },
   {
    "duration": 300,
    "start_time": "2022-02-14T12:03:23.932Z"
   },
   {
    "duration": 6,
    "start_time": "2022-02-14T12:03:24.235Z"
   },
   {
    "duration": 11,
    "start_time": "2022-02-14T12:03:24.243Z"
   },
   {
    "duration": 5,
    "start_time": "2022-02-14T12:03:34.951Z"
   },
   {
    "duration": 324,
    "start_time": "2022-02-14T12:03:36.689Z"
   },
   {
    "duration": 44,
    "start_time": "2022-02-14T12:03:38.191Z"
   },
   {
    "duration": 46,
    "start_time": "2022-02-14T12:03:39.719Z"
   },
   {
    "duration": 39,
    "start_time": "2022-02-14T12:03:41.049Z"
   },
   {
    "duration": 47,
    "start_time": "2022-02-14T12:03:42.286Z"
   },
   {
    "duration": 23,
    "start_time": "2022-02-14T12:03:43.528Z"
   },
   {
    "duration": 27,
    "start_time": "2022-02-14T12:03:44.293Z"
   },
   {
    "duration": 17,
    "start_time": "2022-02-14T12:03:45.438Z"
   },
   {
    "duration": 24,
    "start_time": "2022-02-14T12:03:46.968Z"
   },
   {
    "duration": 15,
    "start_time": "2022-02-14T12:03:47.671Z"
   },
   {
    "duration": 19,
    "start_time": "2022-02-14T12:03:48.712Z"
   },
   {
    "duration": 59,
    "start_time": "2022-02-14T12:04:05.805Z"
   },
   {
    "duration": 10,
    "start_time": "2022-02-14T12:04:08.215Z"
   },
   {
    "duration": 13,
    "start_time": "2022-02-14T12:04:10.656Z"
   },
   {
    "duration": 36,
    "start_time": "2022-02-14T12:04:12.054Z"
   },
   {
    "duration": 6,
    "start_time": "2022-02-14T12:04:13.462Z"
   },
   {
    "duration": 39,
    "start_time": "2022-02-14T12:04:14.631Z"
   },
   {
    "duration": 7,
    "start_time": "2022-02-14T12:04:15.367Z"
   },
   {
    "duration": 32,
    "start_time": "2022-02-14T12:04:23.214Z"
   },
   {
    "duration": 19,
    "start_time": "2022-02-14T12:04:27.782Z"
   },
   {
    "duration": 21,
    "start_time": "2022-02-14T12:04:29.997Z"
   },
   {
    "duration": 17,
    "start_time": "2022-02-14T12:04:31.789Z"
   },
   {
    "duration": 27,
    "start_time": "2022-02-14T12:04:32.686Z"
   },
   {
    "duration": 27,
    "start_time": "2022-02-14T12:04:35.463Z"
   },
   {
    "duration": 7,
    "start_time": "2022-02-14T12:04:36.054Z"
   },
   {
    "duration": 6,
    "start_time": "2022-02-14T12:04:37.326Z"
   },
   {
    "duration": 21,
    "start_time": "2022-02-14T12:04:38.805Z"
   },
   {
    "duration": 5,
    "start_time": "2022-02-14T12:04:39.341Z"
   },
   {
    "duration": 4,
    "start_time": "2022-02-14T12:04:41.069Z"
   },
   {
    "duration": 8,
    "start_time": "2022-02-14T12:04:41.932Z"
   },
   {
    "duration": 14,
    "start_time": "2022-02-14T12:04:42.565Z"
   },
   {
    "duration": 232,
    "start_time": "2022-02-14T12:04:44.998Z"
   },
   {
    "duration": 22,
    "start_time": "2022-02-14T12:04:51.333Z"
   },
   {
    "duration": 4,
    "start_time": "2022-02-14T12:04:52.231Z"
   },
   {
    "duration": 22,
    "start_time": "2022-02-14T12:04:52.781Z"
   },
   {
    "duration": 9,
    "start_time": "2022-02-14T12:04:55.816Z"
   },
   {
    "duration": 6,
    "start_time": "2022-02-14T12:04:58.125Z"
   },
   {
    "duration": 13,
    "start_time": "2022-02-14T12:04:59.076Z"
   },
   {
    "duration": 13,
    "start_time": "2022-02-14T12:05:01.693Z"
   },
   {
    "duration": 27,
    "start_time": "2022-02-14T12:05:03.206Z"
   },
   {
    "duration": 12,
    "start_time": "2022-02-14T12:05:03.644Z"
   },
   {
    "duration": 45,
    "start_time": "2022-02-14T12:05:04.998Z"
   },
   {
    "duration": 885,
    "start_time": "2022-02-14T12:05:07.895Z"
   },
   {
    "duration": 963,
    "start_time": "2022-02-14T12:05:14.540Z"
   },
   {
    "duration": 28,
    "start_time": "2022-02-14T12:05:26.903Z"
   },
   {
    "duration": 642,
    "start_time": "2022-02-14T12:05:40.927Z"
   },
   {
    "duration": 52,
    "start_time": "2022-02-14T12:05:44.709Z"
   },
   {
    "duration": 64,
    "start_time": "2022-02-14T12:05:47.610Z"
   },
   {
    "duration": 11,
    "start_time": "2022-02-14T12:05:52.813Z"
   },
   {
    "duration": 5,
    "start_time": "2022-02-14T12:05:55.299Z"
   },
   {
    "duration": 5,
    "start_time": "2022-02-14T12:05:56.723Z"
   },
   {
    "duration": 11,
    "start_time": "2022-02-14T12:05:58.562Z"
   },
   {
    "duration": 281,
    "start_time": "2022-02-14T12:05:59.186Z"
   },
   {
    "duration": 7,
    "start_time": "2022-02-14T12:06:00.532Z"
   },
   {
    "duration": 8,
    "start_time": "2022-02-14T12:06:01.971Z"
   },
   {
    "duration": 117,
    "start_time": "2022-02-14T12:06:29.771Z"
   },
   {
    "duration": 1130,
    "start_time": "2022-02-14T15:27:12.965Z"
   },
   {
    "duration": 278,
    "start_time": "2022-02-14T15:27:14.097Z"
   },
   {
    "duration": 34,
    "start_time": "2022-02-14T15:27:14.377Z"
   },
   {
    "duration": 36,
    "start_time": "2022-02-14T15:27:14.413Z"
   },
   {
    "duration": 32,
    "start_time": "2022-02-14T15:27:14.451Z"
   },
   {
    "duration": 24,
    "start_time": "2022-02-14T15:27:14.484Z"
   },
   {
    "duration": 15,
    "start_time": "2022-02-14T15:27:14.510Z"
   },
   {
    "duration": 46,
    "start_time": "2022-02-14T15:27:14.527Z"
   },
   {
    "duration": 10,
    "start_time": "2022-02-14T15:27:14.577Z"
   },
   {
    "duration": 16,
    "start_time": "2022-02-14T15:27:14.589Z"
   },
   {
    "duration": 12,
    "start_time": "2022-02-14T15:27:14.606Z"
   },
   {
    "duration": 40,
    "start_time": "2022-02-14T15:27:14.620Z"
   },
   {
    "duration": 48,
    "start_time": "2022-02-14T15:27:14.661Z"
   },
   {
    "duration": 6,
    "start_time": "2022-02-14T15:27:14.711Z"
   },
   {
    "duration": 12,
    "start_time": "2022-02-14T15:27:14.719Z"
   },
   {
    "duration": 47,
    "start_time": "2022-02-14T15:27:14.732Z"
   },
   {
    "duration": 4,
    "start_time": "2022-02-14T15:27:14.781Z"
   },
   {
    "duration": 43,
    "start_time": "2022-02-14T15:27:14.787Z"
   },
   {
    "duration": 5,
    "start_time": "2022-02-14T15:27:14.832Z"
   },
   {
    "duration": 28,
    "start_time": "2022-02-14T15:27:14.859Z"
   },
   {
    "duration": 12,
    "start_time": "2022-02-14T15:27:14.889Z"
   },
   {
    "duration": 16,
    "start_time": "2022-02-14T15:27:14.903Z"
   },
   {
    "duration": 40,
    "start_time": "2022-02-14T15:27:14.920Z"
   },
   {
    "duration": 18,
    "start_time": "2022-02-14T15:27:14.961Z"
   },
   {
    "duration": 16,
    "start_time": "2022-02-14T15:27:14.981Z"
   },
   {
    "duration": 5,
    "start_time": "2022-02-14T15:27:14.999Z"
   },
   {
    "duration": 20,
    "start_time": "2022-02-14T15:27:15.007Z"
   },
   {
    "duration": 34,
    "start_time": "2022-02-14T15:27:15.030Z"
   },
   {
    "duration": 8,
    "start_time": "2022-02-14T15:27:15.065Z"
   },
   {
    "duration": 5,
    "start_time": "2022-02-14T15:27:15.075Z"
   },
   {
    "duration": 11,
    "start_time": "2022-02-14T15:27:15.081Z"
   },
   {
    "duration": 9,
    "start_time": "2022-02-14T15:27:15.094Z"
   },
   {
    "duration": 146,
    "start_time": "2022-02-14T15:27:15.105Z"
   },
   {
    "duration": 18,
    "start_time": "2022-02-14T15:27:15.252Z"
   },
   {
    "duration": 4,
    "start_time": "2022-02-14T15:27:15.272Z"
   },
   {
    "duration": 18,
    "start_time": "2022-02-14T15:27:15.278Z"
   },
   {
    "duration": 6,
    "start_time": "2022-02-14T15:27:15.298Z"
   },
   {
    "duration": 8,
    "start_time": "2022-02-14T15:27:15.305Z"
   },
   {
    "duration": 20,
    "start_time": "2022-02-14T15:27:15.314Z"
   },
   {
    "duration": 27,
    "start_time": "2022-02-14T15:27:15.336Z"
   },
   {
    "duration": 19,
    "start_time": "2022-02-14T15:27:15.365Z"
   },
   {
    "duration": 9,
    "start_time": "2022-02-14T15:27:15.385Z"
   },
   {
    "duration": 35,
    "start_time": "2022-02-14T15:27:15.396Z"
   },
   {
    "duration": 588,
    "start_time": "2022-02-14T15:27:15.434Z"
   },
   {
    "duration": 575,
    "start_time": "2022-02-14T15:27:16.025Z"
   },
   {
    "duration": 19,
    "start_time": "2022-02-14T15:27:16.602Z"
   },
   {
    "duration": 474,
    "start_time": "2022-02-14T15:27:16.623Z"
   },
   {
    "duration": 36,
    "start_time": "2022-02-14T15:27:17.098Z"
   },
   {
    "duration": 62,
    "start_time": "2022-02-14T15:27:17.136Z"
   },
   {
    "duration": 8,
    "start_time": "2022-02-14T15:27:17.200Z"
   },
   {
    "duration": 8,
    "start_time": "2022-02-14T15:27:17.210Z"
   },
   {
    "duration": 5,
    "start_time": "2022-02-14T15:27:17.220Z"
   },
   {
    "duration": 10,
    "start_time": "2022-02-14T15:27:17.227Z"
   },
   {
    "duration": 171,
    "start_time": "2022-02-14T15:27:17.259Z"
   },
   {
    "duration": 5,
    "start_time": "2022-02-14T15:27:17.432Z"
   },
   {
    "duration": 22,
    "start_time": "2022-02-14T15:27:17.439Z"
   },
   {
    "duration": 27,
    "start_time": "2022-02-14T15:47:48.966Z"
   },
   {
    "duration": 53,
    "start_time": "2022-02-14T16:14:54.941Z"
   },
   {
    "duration": 47,
    "start_time": "2022-02-14T16:14:59.359Z"
   },
   {
    "duration": 81,
    "start_time": "2022-02-14T16:26:29.214Z"
   },
   {
    "duration": 40,
    "start_time": "2022-02-14T16:29:10.771Z"
   },
   {
    "duration": 81,
    "start_time": "2022-02-14T16:29:43.264Z"
   },
   {
    "duration": 293,
    "start_time": "2022-02-14T16:30:08.029Z"
   },
   {
    "duration": 71,
    "start_time": "2022-02-14T16:30:16.709Z"
   },
   {
    "duration": 1273,
    "start_time": "2022-02-14T17:55:15.914Z"
   },
   {
    "duration": 330,
    "start_time": "2022-02-14T17:55:18.740Z"
   },
   {
    "duration": 40,
    "start_time": "2022-02-14T17:55:20.702Z"
   },
   {
    "duration": 42,
    "start_time": "2022-02-14T17:55:22.260Z"
   },
   {
    "duration": 32,
    "start_time": "2022-02-14T17:55:23.950Z"
   },
   {
    "duration": 27,
    "start_time": "2022-02-14T17:55:27.972Z"
   },
   {
    "duration": 18,
    "start_time": "2022-02-14T17:55:29.814Z"
   },
   {
    "duration": 21,
    "start_time": "2022-02-14T17:55:30.749Z"
   },
   {
    "duration": 12,
    "start_time": "2022-02-14T17:55:32.374Z"
   },
   {
    "duration": 17,
    "start_time": "2022-02-14T17:55:34.366Z"
   },
   {
    "duration": 13,
    "start_time": "2022-02-14T17:55:35.389Z"
   },
   {
    "duration": 15,
    "start_time": "2022-02-14T17:55:40.308Z"
   },
   {
    "duration": 49,
    "start_time": "2022-02-14T17:56:02.209Z"
   },
   {
    "duration": 8,
    "start_time": "2022-02-14T17:56:06.992Z"
   },
   {
    "duration": 11,
    "start_time": "2022-02-14T17:56:09.670Z"
   },
   {
    "duration": 28,
    "start_time": "2022-02-14T17:56:14.052Z"
   },
   {
    "duration": 6,
    "start_time": "2022-02-14T17:56:17.587Z"
   },
   {
    "duration": 36,
    "start_time": "2022-02-14T17:56:21.460Z"
   },
   {
    "duration": 5,
    "start_time": "2022-02-14T17:56:24.511Z"
   },
   {
    "duration": 23,
    "start_time": "2022-02-14T17:56:29.423Z"
   },
   {
    "duration": 15,
    "start_time": "2022-02-14T17:56:49.251Z"
   },
   {
    "duration": 17,
    "start_time": "2022-02-14T17:57:03.522Z"
   },
   {
    "duration": 13,
    "start_time": "2022-02-14T17:57:08.170Z"
   },
   {
    "duration": 19,
    "start_time": "2022-02-14T17:57:15.954Z"
   },
   {
    "duration": 20,
    "start_time": "2022-02-14T17:57:25.937Z"
   },
   {
    "duration": 6,
    "start_time": "2022-02-14T17:57:28.274Z"
   },
   {
    "duration": 5,
    "start_time": "2022-02-14T17:57:30.921Z"
   },
   {
    "duration": 16,
    "start_time": "2022-02-14T17:57:32.969Z"
   },
   {
    "duration": 5,
    "start_time": "2022-02-14T17:57:37.153Z"
   },
   {
    "duration": 3,
    "start_time": "2022-02-14T17:57:44.480Z"
   },
   {
    "duration": 11,
    "start_time": "2022-02-14T17:57:45.384Z"
   },
   {
    "duration": 10,
    "start_time": "2022-02-14T17:57:47.794Z"
   },
   {
    "duration": 156,
    "start_time": "2022-02-14T17:58:00.937Z"
   },
   {
    "duration": 17,
    "start_time": "2022-02-14T17:58:16.113Z"
   },
   {
    "duration": 4,
    "start_time": "2022-02-14T17:58:18.256Z"
   },
   {
    "duration": 16,
    "start_time": "2022-02-14T17:58:20.265Z"
   },
   {
    "duration": 7,
    "start_time": "2022-02-14T17:58:36.943Z"
   },
   {
    "duration": 5,
    "start_time": "2022-02-14T17:58:43.175Z"
   },
   {
    "duration": 11,
    "start_time": "2022-02-14T17:58:46.208Z"
   },
   {
    "duration": 10,
    "start_time": "2022-02-14T17:58:56.728Z"
   },
   {
    "duration": 22,
    "start_time": "2022-02-14T17:59:02.137Z"
   },
   {
    "duration": 16,
    "start_time": "2022-02-14T17:59:02.162Z"
   },
   {
    "duration": 30,
    "start_time": "2022-02-14T17:59:09.519Z"
   },
   {
    "duration": 655,
    "start_time": "2022-02-14T17:59:31.738Z"
   },
   {
    "duration": 602,
    "start_time": "2022-02-14T17:59:38.005Z"
   },
   {
    "duration": 19,
    "start_time": "2022-02-14T17:59:45.856Z"
   },
   {
    "duration": 526,
    "start_time": "2022-02-14T18:00:07.271Z"
   },
   {
    "duration": 39,
    "start_time": "2022-02-14T18:00:25.734Z"
   },
   {
    "duration": 48,
    "start_time": "2022-02-14T18:00:48.473Z"
   },
   {
    "duration": 9,
    "start_time": "2022-02-14T18:01:04.822Z"
   },
   {
    "duration": 5,
    "start_time": "2022-02-14T18:01:37.530Z"
   },
   {
    "duration": 5,
    "start_time": "2022-02-14T18:01:51.499Z"
   },
   {
    "duration": 8,
    "start_time": "2022-02-14T18:02:25.242Z"
   },
   {
    "duration": 182,
    "start_time": "2022-02-14T18:02:26.714Z"
   },
   {
    "duration": 6,
    "start_time": "2022-02-14T18:02:31.317Z"
   },
   {
    "duration": 7,
    "start_time": "2022-02-14T18:02:42.570Z"
   }
  ],
  "colab": {
   "collapsed_sections": [],
   "name": "sprint3.draft2.ipynb",
   "provenance": []
  },
  "kernelspec": {
   "display_name": "Python 3 (ipykernel)",
   "language": "python",
   "name": "python3"
  },
  "language_info": {
   "codemirror_mode": {
    "name": "ipython",
    "version": 3
   },
   "file_extension": ".py",
   "mimetype": "text/x-python",
   "name": "python",
   "nbconvert_exporter": "python",
   "pygments_lexer": "ipython3",
   "version": "3.9.7"
  },
  "toc": {
   "base_numbering": 1,
   "nav_menu": {},
   "number_sections": true,
   "sideBar": true,
   "skip_h1_title": true,
   "title_cell": "Table of Contents",
   "title_sidebar": "Contents",
   "toc_cell": false,
   "toc_position": {},
   "toc_section_display": true,
   "toc_window_display": false
  }
 },
 "nbformat": 4,
 "nbformat_minor": 1
}
