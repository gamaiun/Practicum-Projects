{
 "cells": [
  {
   "cell_type": "markdown",
   "metadata": {
    "id": "3en894uUfKz0"
   },
   "source": [
    "We are an analyst at a big online store. Together with the marketing department, we've compiled a list of hypotheses that may help boost revenue. We need to prioritize these hypotheses, launch an A/B test, and analyze the results."
   ]
  },
  {
   "cell_type": "code",
   "execution_count": 1,
   "metadata": {
    "id": "39po-lYjAd8F"
   },
   "outputs": [],
   "source": [
    "# Loading all the libraries\n",
    "\n",
    "import pandas as pd\n",
    "import numpy as np\n",
    "import seaborn as sns\n",
    "import matplotlib.pyplot as plt\n",
    "from IPython.display import set_matplotlib_formats\n",
    "from scipy import stats \n",
    "import matplotlib_inline.backend_inline\n",
    "import math\n"
   ]
  },
  {
   "cell_type": "markdown",
   "metadata": {
    "id": "-8uQrFY8fgQu"
   },
   "source": [
    "## Please do not run the cell bellow. "
   ]
  },
  {
   "cell_type": "code",
   "execution_count": 2,
   "metadata": {
    "colab": {
     "base_uri": "https://localhost:8080/"
    },
    "id": "XPz0XxhcAgxs",
    "outputId": "cff607d6-3f47-4766-e051-d7c6db82987f"
   },
   "outputs": [],
   "source": [
    "#from google.colab import drive\n",
    "#drive.mount('/content/drive')"
   ]
  },
  {
   "cell_type": "code",
   "execution_count": null,
   "metadata": {},
   "outputs": [],
   "source": []
  },
  {
   "cell_type": "markdown",
   "metadata": {
    "id": "SX_JnOLafmxQ"
   },
   "source": [
    "## Run from here."
   ]
  },
  {
   "cell_type": "code",
   "execution_count": 3,
   "metadata": {
    "id": "1RIIO3dwAjs_"
   },
   "outputs": [],
   "source": [
    "# Loading the data files.\n",
    "\n",
    "try:\n",
    "  hypos = pd.read_csv(\"/content/drive/MyDrive/Practicum_data/hypotheses_us.csv\", sep=';')#, parse_dates=['dt'])\n",
    "except: \n",
    "  hypos = pd.read_csv(\"/datasets/hypotheses_us.csv\", sep=';')\n",
    "\n",
    "try:\n",
    "  orders = pd.read_csv(\"/content/drive/MyDrive/Practicum_data/orders_us.csv\")#, parse_dates=['Buy Ts'])\n",
    "except: \n",
    "  orders = pd.read_csv(\"/datasets/orders_us.csv\" )\n",
    "\n",
    "try:\n",
    "  visits = pd.read_csv(\"/content/drive/MyDrive/Practicum_data/visits_us.csv\")#, parse_dates=['End Ts', \"Start Ts\"], dtype={'Device': 'category'} )\n",
    "except: \n",
    "  visits = pd.read_csv(\"/datasets/visits_us.csv\")"
   ]
  },
  {
   "cell_type": "markdown",
   "metadata": {},
   "source": [
    "<div class=\"alert alert-block alert-success\">\n",
    "<b>Reviewer's comment v:</b>\n",
    "\n",
    "Thanks for fixing that!"
   ]
  },
  {
   "cell_type": "code",
   "execution_count": 4,
   "metadata": {
    "colab": {
     "base_uri": "https://localhost:8080/"
    },
    "id": "AG7-VbwRCkGM",
    "outputId": "27ec6cbd-9a99-4de3-b142-c0ca9df0487c"
   },
   "outputs": [
    {
     "name": "stdout",
     "output_type": "stream",
     "text": [
      "*********************************************\n",
      "****************** hypotheses ******************\n",
      "*********************************************\n",
      " \n",
      "<class 'pandas.core.frame.DataFrame'>\n",
      "RangeIndex: 9 entries, 0 to 8\n",
      "Data columns (total 5 columns):\n",
      " #   Column      Non-Null Count  Dtype \n",
      "---  ------      --------------  ----- \n",
      " 0   Hypothesis  9 non-null      object\n",
      " 1   Reach       9 non-null      int64 \n",
      " 2   Impact      9 non-null      int64 \n",
      " 3   Confidence  9 non-null      int64 \n",
      " 4   Effort      9 non-null      int64 \n",
      "dtypes: int64(4), object(1)\n",
      "memory usage: 488.0+ bytes\n",
      " \n",
      "*********************************************\n",
      "**************** ORDERS *****************\n",
      "*********************************************\n",
      " \n",
      "<class 'pandas.core.frame.DataFrame'>\n",
      "RangeIndex: 1197 entries, 0 to 1196\n",
      "Data columns (total 5 columns):\n",
      " #   Column         Non-Null Count  Dtype  \n",
      "---  ------         --------------  -----  \n",
      " 0   transactionId  1197 non-null   int64  \n",
      " 1   visitorId      1197 non-null   int64  \n",
      " 2   date           1197 non-null   object \n",
      " 3   revenue        1197 non-null   float64\n",
      " 4   group          1197 non-null   object \n",
      "dtypes: float64(1), int64(2), object(2)\n",
      "memory usage: 46.9+ KB\n",
      " \n",
      "*********************************************\n",
      "************** VISITS ***********************\n",
      "*********************************************\n",
      " \n",
      "<class 'pandas.core.frame.DataFrame'>\n",
      "RangeIndex: 62 entries, 0 to 61\n",
      "Data columns (total 3 columns):\n",
      " #   Column  Non-Null Count  Dtype \n",
      "---  ------  --------------  ----- \n",
      " 0   date    62 non-null     object\n",
      " 1   group   62 non-null     object\n",
      " 2   visits  62 non-null     int64 \n",
      "dtypes: int64(1), object(2)\n",
      "memory usage: 1.6+ KB\n"
     ]
    }
   ],
   "source": [
    "print(\"*********************************************\")\n",
    "print(\"****************** hypotheses ******************\")\n",
    "print(\"*********************************************\")\n",
    "print(\" \")\n",
    "hypos.info()\n",
    "print(\" \")\n",
    "print(\"*********************************************\")\n",
    "print(\"**************** ORDERS *****************\")\n",
    "print(\"*********************************************\")\n",
    "print(\" \")\n",
    "orders.info()\n",
    "print(\" \")\n",
    "print(\"*********************************************\")\n",
    "print(\"************** VISITS ***********************\")\n",
    "print(\"*********************************************\")\n",
    "print(\" \")\n",
    "visits.info()\n"
   ]
  },
  {
   "cell_type": "markdown",
   "metadata": {
    "id": "1QXbmu6fgFoS"
   },
   "source": [
    "Let's print the hypothesis:"
   ]
  },
  {
   "cell_type": "code",
   "execution_count": 5,
   "metadata": {
    "colab": {
     "base_uri": "https://localhost:8080/"
    },
    "id": "_Cc_5auLDFbd",
    "outputId": "99919621-94c0-473e-d936-649036f774d1"
   },
   "outputs": [
    {
     "data": {
      "text/plain": [
       "0    Add two new channels for attracting traffic. T...\n",
       "1    Launch your own delivery service. This will sh...\n",
       "2    Add product recommendation blocks to the store...\n",
       "3    Change the category structure. This will incre...\n",
       "4    Change the background color on the main page. ...\n",
       "5    Add a customer review page. This will increase...\n",
       "6    Show banners with current offers and sales on ...\n",
       "7    Add a subscription form to all the main pages....\n",
       "8    Launch a promotion that gives users discounts ...\n",
       "Name: Hypothesis, dtype: object"
      ]
     },
     "execution_count": 5,
     "metadata": {},
     "output_type": "execute_result"
    }
   ],
   "source": [
    "hypos.iloc[:, 0]"
   ]
  },
  {
   "cell_type": "markdown",
   "metadata": {
    "id": "nQ2HynHEf660"
   },
   "source": [
    "Let's check NANS and duplicates:"
   ]
  },
  {
   "cell_type": "code",
   "execution_count": 6,
   "metadata": {
    "colab": {
     "base_uri": "https://localhost:8080/"
    },
    "id": "pD_KJiZWC2-s",
    "outputId": "c5c749e0-23c5-4b80-f7ce-a276f57b264f"
   },
   "outputs": [
    {
     "name": "stdout",
     "output_type": "stream",
     "text": [
      "There are 0 nans in visits file \n",
      "There are 0 nans in orders file \n"
     ]
    }
   ],
   "source": [
    "print(\"There are\", visits.isnull().sum().sum(), \"nans in visits file \")\n",
    "print(\"There are\", orders.isnull().sum().sum(), \"nans in orders file \")"
   ]
  },
  {
   "cell_type": "code",
   "execution_count": 7,
   "metadata": {
    "colab": {
     "base_uri": "https://localhost:8080/"
    },
    "id": "K-0LZNIEC5NE",
    "outputId": "39eee7b6-662d-4cdc-9644-5e32703520bd"
   },
   "outputs": [
    {
     "name": "stdout",
     "output_type": "stream",
     "text": [
      "There are 0 duplicates in visits_log file \n",
      "There are 0 duplicates in orders_log file \n"
     ]
    }
   ],
   "source": [
    "print(\"There are\", visits.duplicated(keep='first').sum(), \"duplicates in visits_log file \")\n",
    "print(\"There are\", orders.duplicated(keep='first').sum(), \"duplicates in orders_log file \")\n"
   ]
  },
  {
   "cell_type": "markdown",
   "metadata": {
    "id": "6r-jd1rpIjMn"
   },
   "source": [
    "We have 0 COMPLETE duplicates, but what if we have the same visitor IDs in both groups. We don't want that. \n",
    "\n",
    "Let's check if there are visitors that got into two groups A and B and get rid of them..."
   ]
  },
  {
   "cell_type": "code",
   "execution_count": 8,
   "metadata": {
    "colab": {
     "base_uri": "https://localhost:8080/"
    },
    "id": "a_cJEL39ilN0",
    "outputId": "18c9ebc0-aa8f-47f1-ffdc-6734edab6573"
   },
   "outputs": [
    {
     "data": {
      "text/plain": [
       "1031"
      ]
     },
     "execution_count": 8,
     "metadata": {},
     "output_type": "execute_result"
    }
   ],
   "source": [
    "# First let's check how many unique visitorID are there in the orders:\n",
    "orders.visitorId.nunique()"
   ]
  },
  {
   "cell_type": "code",
   "execution_count": 9,
   "metadata": {
    "colab": {
     "base_uri": "https://localhost:8080/",
     "height": 206
    },
    "id": "8f_gxXRzOgI4",
    "outputId": "9fa51ba0-973c-4e82-84eb-52c5e3805da4"
   },
   "outputs": [
    {
     "data": {
      "text/html": [
       "<div>\n",
       "<style scoped>\n",
       "    .dataframe tbody tr th:only-of-type {\n",
       "        vertical-align: middle;\n",
       "    }\n",
       "\n",
       "    .dataframe tbody tr th {\n",
       "        vertical-align: top;\n",
       "    }\n",
       "\n",
       "    .dataframe thead th {\n",
       "        text-align: right;\n",
       "    }\n",
       "</style>\n",
       "<table border=\"1\" class=\"dataframe\">\n",
       "  <thead>\n",
       "    <tr style=\"text-align: right;\">\n",
       "      <th></th>\n",
       "      <th>transactionId</th>\n",
       "      <th>visitorId</th>\n",
       "      <th>date</th>\n",
       "      <th>revenue</th>\n",
       "      <th>group</th>\n",
       "    </tr>\n",
       "  </thead>\n",
       "  <tbody>\n",
       "    <tr>\n",
       "      <th>2</th>\n",
       "      <td>2961555356</td>\n",
       "      <td>4069496402</td>\n",
       "      <td>2019-08-15</td>\n",
       "      <td>10.2</td>\n",
       "      <td>A</td>\n",
       "    </tr>\n",
       "    <tr>\n",
       "      <th>7</th>\n",
       "      <td>2626614568</td>\n",
       "      <td>78758296</td>\n",
       "      <td>2019-08-15</td>\n",
       "      <td>20.1</td>\n",
       "      <td>A</td>\n",
       "    </tr>\n",
       "    <tr>\n",
       "      <th>8</th>\n",
       "      <td>1576988021</td>\n",
       "      <td>295230930</td>\n",
       "      <td>2019-08-15</td>\n",
       "      <td>215.9</td>\n",
       "      <td>A</td>\n",
       "    </tr>\n",
       "    <tr>\n",
       "      <th>10</th>\n",
       "      <td>3649131742</td>\n",
       "      <td>879864040</td>\n",
       "      <td>2019-08-15</td>\n",
       "      <td>65.7</td>\n",
       "      <td>A</td>\n",
       "    </tr>\n",
       "    <tr>\n",
       "      <th>12</th>\n",
       "      <td>2809384911</td>\n",
       "      <td>3213223594</td>\n",
       "      <td>2019-08-15</td>\n",
       "      <td>115.4</td>\n",
       "      <td>A</td>\n",
       "    </tr>\n",
       "  </tbody>\n",
       "</table>\n",
       "</div>"
      ],
      "text/plain": [
       "    transactionId   visitorId        date  revenue group\n",
       "2      2961555356  4069496402  2019-08-15     10.2     A\n",
       "7      2626614568    78758296  2019-08-15     20.1     A\n",
       "8      1576988021   295230930  2019-08-15    215.9     A\n",
       "10     3649131742   879864040  2019-08-15     65.7     A\n",
       "12     2809384911  3213223594  2019-08-15    115.4     A"
      ]
     },
     "execution_count": 9,
     "metadata": {},
     "output_type": "execute_result"
    }
   ],
   "source": [
    "# Then let's subgroup \"groups\", A and B\n",
    "df_2_groups =  orders.groupby(\"group\")\n",
    "\n",
    "# Next then we split the df into two separate dfs\n",
    "group_A = pd.DataFrame(df_2_groups.get_group('A'))\n",
    "group_B = pd.DataFrame(df_2_groups.get_group('B'))\n",
    "group_A.head()"
   ]
  },
  {
   "cell_type": "code",
   "execution_count": 10,
   "metadata": {
    "colab": {
     "base_uri": "https://localhost:8080/"
    },
    "id": "vtMkUipnSugM",
    "outputId": "aff091e5-6309-43d4-8fdd-61fd596bc2be"
   },
   "outputs": [
    {
     "data": {
      "text/plain": [
       "0     5114589\n",
       "1     6958315\n",
       "2     8300375\n",
       "3    39475350\n",
       "4    47206413\n",
       "Name: visitorId, dtype: int64"
      ]
     },
     "execution_count": 10,
     "metadata": {},
     "output_type": "execute_result"
    }
   ],
   "source": [
    "# Let's group the subgroups A and B again, this time by the visitorIDs. i.e. we want all the visits \"shrink\" to the number of visitors...\n",
    "grouped_by_usersA = pd.DataFrame(group_A.groupby(\"visitorId\"))\n",
    "grouped_by_usersA.columns = [\"visitorId\", \"info\"]\n",
    "\n",
    "grouped_by_usersB = pd.DataFrame(group_B.groupby(\"visitorId\"))\n",
    "grouped_by_usersB.columns = [\"visitorId\", \"info\"]\n",
    "grouped_by_usersB[\"visitorId\"].head(5)"
   ]
  },
  {
   "cell_type": "code",
   "execution_count": 11,
   "metadata": {
    "colab": {
     "base_uri": "https://localhost:8080/"
    },
    "id": "eZbE55rdUJ7s",
    "outputId": "ccdef0f5-f276-475a-d833-8762cfbb312b"
   },
   "outputs": [
    {
     "data": {
      "text/plain": [
       "58"
      ]
     },
     "execution_count": 11,
     "metadata": {},
     "output_type": "execute_result"
    }
   ],
   "source": [
    "# Here we finnaly get the ids of the visitors that are assigned A AND B. We do this by merging the datasets on \"inner\". \n",
    "df_merge = pd.merge(grouped_by_usersA, grouped_by_usersB, on=[\"visitorId\"], how='inner')[\"visitorId\"]\n",
    "len(df_merge)"
   ]
  },
  {
   "cell_type": "markdown",
   "metadata": {
    "id": "dUFFr1Quh7gb"
   },
   "source": [
    "Looks like there are 58 instances of visitors that are both A and B. Let's get rid of them:"
   ]
  },
  {
   "cell_type": "code",
   "execution_count": 12,
   "metadata": {
    "colab": {
     "base_uri": "https://localhost:8080/"
    },
    "id": "XBd9iibHgK7E",
    "outputId": "06d052d9-e663-415f-c050-dac9b587593d"
   },
   "outputs": [
    {
     "data": {
      "text/plain": [
       "973"
      ]
     },
     "execution_count": 12,
     "metadata": {},
     "output_type": "execute_result"
    }
   ],
   "source": [
    "# And get rid of these instances saving the rest in a new orders df\n",
    "\n",
    "orders = orders[~orders.visitorId.isin(df_merge)]\n",
    "orders.visitorId.nunique()"
   ]
  },
  {
   "cell_type": "markdown",
   "metadata": {},
   "source": [
    "<div class=\"alert alert-block alert-success\">\n",
    "<b>Reviewer's comment v2:</b>\n",
    "    \n",
    "Well done! Great, that you identified these users. Indeed, having the same users in both groups contradicts the whole idea of A/B test."
   ]
  },
  {
   "cell_type": "markdown",
   "metadata": {
    "id": "BlrPTceEi2qu"
   },
   "source": [
    "We have cleaned our orders table from the visitors that were assigned to both the A and B groups. 1031 - 973 = 58 were dropped. \n",
    "\n",
    "*Another approach we could use is to asign these visitors to the group with the most [mode()] group instances. If someone is twice in group A and only once in group B, we would asign him to group A. We desided NOT to use this approach as it would create a logical problem: what do we do if an instance is asigned to both groups equal amount of times: twice to B and twice to A. Dropping these instances looks like the best solution...*\n",
    "\n",
    "Our next task is:\n",
    "\n",
    "*Apply the ICE framework to prioritize hypotheses. Sort them in descending order of priority.*"
   ]
  },
  {
   "cell_type": "code",
   "execution_count": 13,
   "metadata": {
    "colab": {
     "base_uri": "https://localhost:8080/",
     "height": 143
    },
    "id": "eABls4yvpIYf",
    "outputId": "a8dd9db3-b79e-47d7-bf26-c07f2197ff58"
   },
   "outputs": [
    {
     "data": {
      "text/html": [
       "<div>\n",
       "<style scoped>\n",
       "    .dataframe tbody tr th:only-of-type {\n",
       "        vertical-align: middle;\n",
       "    }\n",
       "\n",
       "    .dataframe tbody tr th {\n",
       "        vertical-align: top;\n",
       "    }\n",
       "\n",
       "    .dataframe thead th {\n",
       "        text-align: right;\n",
       "    }\n",
       "</style>\n",
       "<table border=\"1\" class=\"dataframe\">\n",
       "  <thead>\n",
       "    <tr style=\"text-align: right;\">\n",
       "      <th></th>\n",
       "      <th>Hypothesis</th>\n",
       "      <th>Reach</th>\n",
       "      <th>Impact</th>\n",
       "      <th>Confidence</th>\n",
       "      <th>Effort</th>\n",
       "    </tr>\n",
       "  </thead>\n",
       "  <tbody>\n",
       "    <tr>\n",
       "      <th>0</th>\n",
       "      <td>Add two new channels for attracting traffic. T...</td>\n",
       "      <td>3</td>\n",
       "      <td>10</td>\n",
       "      <td>8</td>\n",
       "      <td>6</td>\n",
       "    </tr>\n",
       "    <tr>\n",
       "      <th>1</th>\n",
       "      <td>Launch your own delivery service. This will sh...</td>\n",
       "      <td>2</td>\n",
       "      <td>5</td>\n",
       "      <td>4</td>\n",
       "      <td>10</td>\n",
       "    </tr>\n",
       "    <tr>\n",
       "      <th>2</th>\n",
       "      <td>Add product recommendation blocks to the store...</td>\n",
       "      <td>8</td>\n",
       "      <td>3</td>\n",
       "      <td>7</td>\n",
       "      <td>3</td>\n",
       "    </tr>\n",
       "  </tbody>\n",
       "</table>\n",
       "</div>"
      ],
      "text/plain": [
       "                                          Hypothesis  Reach  Impact  \\\n",
       "0  Add two new channels for attracting traffic. T...      3      10   \n",
       "1  Launch your own delivery service. This will sh...      2       5   \n",
       "2  Add product recommendation blocks to the store...      8       3   \n",
       "\n",
       "   Confidence  Effort  \n",
       "0           8       6  \n",
       "1           4      10  \n",
       "2           7       3  "
      ]
     },
     "execution_count": 13,
     "metadata": {},
     "output_type": "execute_result"
    }
   ],
   "source": [
    "hypos.head(3)"
   ]
  },
  {
   "cell_type": "markdown",
   "metadata": {
    "id": "FxODtOcMjlQu"
   },
   "source": [
    "ICE framework states that the hypothsis should be avaluated based on a score \n",
    "\n",
    "ICE = (impact * confidence) / effort"
   ]
  },
  {
   "cell_type": "code",
   "execution_count": 14,
   "metadata": {
    "colab": {
     "base_uri": "https://localhost:8080/",
     "height": 331
    },
    "id": "8xHjf9nJkqHM",
    "outputId": "a5daa2d0-3db9-403a-c53f-d480b8850364"
   },
   "outputs": [
    {
     "data": {
      "text/html": [
       "<div>\n",
       "<style scoped>\n",
       "    .dataframe tbody tr th:only-of-type {\n",
       "        vertical-align: middle;\n",
       "    }\n",
       "\n",
       "    .dataframe tbody tr th {\n",
       "        vertical-align: top;\n",
       "    }\n",
       "\n",
       "    .dataframe thead th {\n",
       "        text-align: right;\n",
       "    }\n",
       "</style>\n",
       "<table border=\"1\" class=\"dataframe\">\n",
       "  <thead>\n",
       "    <tr style=\"text-align: right;\">\n",
       "      <th></th>\n",
       "      <th>Hypothesis</th>\n",
       "      <th>Reach</th>\n",
       "      <th>Impact</th>\n",
       "      <th>Confidence</th>\n",
       "      <th>Effort</th>\n",
       "      <th>ice_score</th>\n",
       "    </tr>\n",
       "  </thead>\n",
       "  <tbody>\n",
       "    <tr>\n",
       "      <th>8</th>\n",
       "      <td>Launch a promotion that gives users discounts ...</td>\n",
       "      <td>1</td>\n",
       "      <td>9</td>\n",
       "      <td>9</td>\n",
       "      <td>5</td>\n",
       "      <td>16.200000</td>\n",
       "    </tr>\n",
       "    <tr>\n",
       "      <th>0</th>\n",
       "      <td>Add two new channels for attracting traffic. T...</td>\n",
       "      <td>3</td>\n",
       "      <td>10</td>\n",
       "      <td>8</td>\n",
       "      <td>6</td>\n",
       "      <td>13.333333</td>\n",
       "    </tr>\n",
       "    <tr>\n",
       "      <th>7</th>\n",
       "      <td>Add a subscription form to all the main pages....</td>\n",
       "      <td>10</td>\n",
       "      <td>7</td>\n",
       "      <td>8</td>\n",
       "      <td>5</td>\n",
       "      <td>11.200000</td>\n",
       "    </tr>\n",
       "    <tr>\n",
       "      <th>6</th>\n",
       "      <td>Show banners with current offers and sales on ...</td>\n",
       "      <td>5</td>\n",
       "      <td>3</td>\n",
       "      <td>8</td>\n",
       "      <td>3</td>\n",
       "      <td>8.000000</td>\n",
       "    </tr>\n",
       "    <tr>\n",
       "      <th>2</th>\n",
       "      <td>Add product recommendation blocks to the store...</td>\n",
       "      <td>8</td>\n",
       "      <td>3</td>\n",
       "      <td>7</td>\n",
       "      <td>3</td>\n",
       "      <td>7.000000</td>\n",
       "    </tr>\n",
       "    <tr>\n",
       "      <th>1</th>\n",
       "      <td>Launch your own delivery service. This will sh...</td>\n",
       "      <td>2</td>\n",
       "      <td>5</td>\n",
       "      <td>4</td>\n",
       "      <td>10</td>\n",
       "      <td>2.000000</td>\n",
       "    </tr>\n",
       "    <tr>\n",
       "      <th>5</th>\n",
       "      <td>Add a customer review page. This will increase...</td>\n",
       "      <td>3</td>\n",
       "      <td>2</td>\n",
       "      <td>2</td>\n",
       "      <td>3</td>\n",
       "      <td>1.333333</td>\n",
       "    </tr>\n",
       "    <tr>\n",
       "      <th>3</th>\n",
       "      <td>Change the category structure. This will incre...</td>\n",
       "      <td>8</td>\n",
       "      <td>3</td>\n",
       "      <td>3</td>\n",
       "      <td>8</td>\n",
       "      <td>1.125000</td>\n",
       "    </tr>\n",
       "    <tr>\n",
       "      <th>4</th>\n",
       "      <td>Change the background color on the main page. ...</td>\n",
       "      <td>3</td>\n",
       "      <td>1</td>\n",
       "      <td>1</td>\n",
       "      <td>1</td>\n",
       "      <td>1.000000</td>\n",
       "    </tr>\n",
       "  </tbody>\n",
       "</table>\n",
       "</div>"
      ],
      "text/plain": [
       "                                          Hypothesis  Reach  Impact  \\\n",
       "8  Launch a promotion that gives users discounts ...      1       9   \n",
       "0  Add two new channels for attracting traffic. T...      3      10   \n",
       "7  Add a subscription form to all the main pages....     10       7   \n",
       "6  Show banners with current offers and sales on ...      5       3   \n",
       "2  Add product recommendation blocks to the store...      8       3   \n",
       "1  Launch your own delivery service. This will sh...      2       5   \n",
       "5  Add a customer review page. This will increase...      3       2   \n",
       "3  Change the category structure. This will incre...      8       3   \n",
       "4  Change the background color on the main page. ...      3       1   \n",
       "\n",
       "   Confidence  Effort  ice_score  \n",
       "8           9       5  16.200000  \n",
       "0           8       6  13.333333  \n",
       "7           8       5  11.200000  \n",
       "6           8       3   8.000000  \n",
       "2           7       3   7.000000  \n",
       "1           4      10   2.000000  \n",
       "5           2       3   1.333333  \n",
       "3           3       8   1.125000  \n",
       "4           1       1   1.000000  "
      ]
     },
     "execution_count": 14,
     "metadata": {},
     "output_type": "execute_result"
    }
   ],
   "source": [
    "hypos[\"ice_score\"] = (hypos.Impact * hypos.Confidence)/hypos.Effort\n",
    "hypos.sort_values(by = \"ice_score\", ascending = False)"
   ]
  },
  {
   "cell_type": "markdown",
   "metadata": {
    "id": "oZBKsfN7p8Dv"
   },
   "source": [
    "Seems like the 8 hypothesis is most effective (by the ICE score). Followed by 0 and 7. "
   ]
  },
  {
   "cell_type": "markdown",
   "metadata": {
    "id": "JLZCkPWJqzTQ"
   },
   "source": [
    "Our next task is:\n",
    "\n",
    "**Apply the RICE framework to prioritize hypotheses. Sort them in\n",
    "descending order of priority**"
   ]
  },
  {
   "cell_type": "code",
   "execution_count": 15,
   "metadata": {
    "colab": {
     "base_uri": "https://localhost:8080/",
     "height": 331
    },
    "id": "4oIFOTmKqj9c",
    "outputId": "434963ed-648e-4032-d3c7-142885236825"
   },
   "outputs": [
    {
     "data": {
      "text/html": [
       "<div>\n",
       "<style scoped>\n",
       "    .dataframe tbody tr th:only-of-type {\n",
       "        vertical-align: middle;\n",
       "    }\n",
       "\n",
       "    .dataframe tbody tr th {\n",
       "        vertical-align: top;\n",
       "    }\n",
       "\n",
       "    .dataframe thead th {\n",
       "        text-align: right;\n",
       "    }\n",
       "</style>\n",
       "<table border=\"1\" class=\"dataframe\">\n",
       "  <thead>\n",
       "    <tr style=\"text-align: right;\">\n",
       "      <th></th>\n",
       "      <th>Hypothesis</th>\n",
       "      <th>Reach</th>\n",
       "      <th>Impact</th>\n",
       "      <th>Confidence</th>\n",
       "      <th>Effort</th>\n",
       "      <th>ice_score</th>\n",
       "      <th>rice_score</th>\n",
       "    </tr>\n",
       "  </thead>\n",
       "  <tbody>\n",
       "    <tr>\n",
       "      <th>8</th>\n",
       "      <td>Launch a promotion that gives users discounts ...</td>\n",
       "      <td>1</td>\n",
       "      <td>9</td>\n",
       "      <td>9</td>\n",
       "      <td>5</td>\n",
       "      <td>16.200000</td>\n",
       "      <td>16.2</td>\n",
       "    </tr>\n",
       "    <tr>\n",
       "      <th>0</th>\n",
       "      <td>Add two new channels for attracting traffic. T...</td>\n",
       "      <td>3</td>\n",
       "      <td>10</td>\n",
       "      <td>8</td>\n",
       "      <td>6</td>\n",
       "      <td>13.333333</td>\n",
       "      <td>40.0</td>\n",
       "    </tr>\n",
       "    <tr>\n",
       "      <th>7</th>\n",
       "      <td>Add a subscription form to all the main pages....</td>\n",
       "      <td>10</td>\n",
       "      <td>7</td>\n",
       "      <td>8</td>\n",
       "      <td>5</td>\n",
       "      <td>11.200000</td>\n",
       "      <td>112.0</td>\n",
       "    </tr>\n",
       "    <tr>\n",
       "      <th>6</th>\n",
       "      <td>Show banners with current offers and sales on ...</td>\n",
       "      <td>5</td>\n",
       "      <td>3</td>\n",
       "      <td>8</td>\n",
       "      <td>3</td>\n",
       "      <td>8.000000</td>\n",
       "      <td>40.0</td>\n",
       "    </tr>\n",
       "    <tr>\n",
       "      <th>2</th>\n",
       "      <td>Add product recommendation blocks to the store...</td>\n",
       "      <td>8</td>\n",
       "      <td>3</td>\n",
       "      <td>7</td>\n",
       "      <td>3</td>\n",
       "      <td>7.000000</td>\n",
       "      <td>56.0</td>\n",
       "    </tr>\n",
       "    <tr>\n",
       "      <th>1</th>\n",
       "      <td>Launch your own delivery service. This will sh...</td>\n",
       "      <td>2</td>\n",
       "      <td>5</td>\n",
       "      <td>4</td>\n",
       "      <td>10</td>\n",
       "      <td>2.000000</td>\n",
       "      <td>4.0</td>\n",
       "    </tr>\n",
       "    <tr>\n",
       "      <th>5</th>\n",
       "      <td>Add a customer review page. This will increase...</td>\n",
       "      <td>3</td>\n",
       "      <td>2</td>\n",
       "      <td>2</td>\n",
       "      <td>3</td>\n",
       "      <td>1.333333</td>\n",
       "      <td>4.0</td>\n",
       "    </tr>\n",
       "    <tr>\n",
       "      <th>3</th>\n",
       "      <td>Change the category structure. This will incre...</td>\n",
       "      <td>8</td>\n",
       "      <td>3</td>\n",
       "      <td>3</td>\n",
       "      <td>8</td>\n",
       "      <td>1.125000</td>\n",
       "      <td>9.0</td>\n",
       "    </tr>\n",
       "    <tr>\n",
       "      <th>4</th>\n",
       "      <td>Change the background color on the main page. ...</td>\n",
       "      <td>3</td>\n",
       "      <td>1</td>\n",
       "      <td>1</td>\n",
       "      <td>1</td>\n",
       "      <td>1.000000</td>\n",
       "      <td>3.0</td>\n",
       "    </tr>\n",
       "  </tbody>\n",
       "</table>\n",
       "</div>"
      ],
      "text/plain": [
       "                                          Hypothesis  Reach  Impact  \\\n",
       "8  Launch a promotion that gives users discounts ...      1       9   \n",
       "0  Add two new channels for attracting traffic. T...      3      10   \n",
       "7  Add a subscription form to all the main pages....     10       7   \n",
       "6  Show banners with current offers and sales on ...      5       3   \n",
       "2  Add product recommendation blocks to the store...      8       3   \n",
       "1  Launch your own delivery service. This will sh...      2       5   \n",
       "5  Add a customer review page. This will increase...      3       2   \n",
       "3  Change the category structure. This will incre...      8       3   \n",
       "4  Change the background color on the main page. ...      3       1   \n",
       "\n",
       "   Confidence  Effort  ice_score  rice_score  \n",
       "8           9       5  16.200000        16.2  \n",
       "0           8       6  13.333333        40.0  \n",
       "7           8       5  11.200000       112.0  \n",
       "6           8       3   8.000000        40.0  \n",
       "2           7       3   7.000000        56.0  \n",
       "1           4      10   2.000000         4.0  \n",
       "5           2       3   1.333333         4.0  \n",
       "3           3       8   1.125000         9.0  \n",
       "4           1       1   1.000000         3.0  "
      ]
     },
     "execution_count": 15,
     "metadata": {},
     "output_type": "execute_result"
    }
   ],
   "source": [
    "hypos[\"rice_score\"] = (hypos.Reach * hypos.Impact * hypos.Confidence)/hypos.Effort\n",
    "hypos = hypos.sort_values(by = [\"ice_score\",\"rice_score\"], ascending = False)\n",
    "hypos"
   ]
  },
  {
   "cell_type": "markdown",
   "metadata": {},
   "source": [
    "<div class=\"alert alert-block alert-warning\">\n",
    "<b>Reviewer's comment v2:</b>\n",
    "    \n",
    "Also you can add the following code to show all data in the table above: \n",
    "    \n",
    "    pd.options.display.max_colwidth = 210"
   ]
  },
  {
   "cell_type": "markdown",
   "metadata": {
    "id": "LAWd5XbKrlLg"
   },
   "source": [
    "When we add a **Reach** factor into the equation - we get a different prioritazation of hypothesis. It happens mainly because our numerator (impact*confidince) is multiplied by one more factor, reach. \n",
    "\n",
    "Now the hypothesis that have larger REACH *(how many users will be impacted by the impementation)* gets highier priority. \n",
    "\n",
    "Let's see ICE and RICE scores on a graph:"
   ]
  },
  {
   "cell_type": "code",
   "execution_count": 16,
   "metadata": {
    "colab": {
     "base_uri": "https://localhost:8080/",
     "height": 294
    },
    "id": "XOf952KsrbiE",
    "outputId": "70d5f5a5-a8fb-453b-f59a-42bdb6ce8926"
   },
   "outputs": [
    {
     "data": {
      "image/png": "[encoded data removed]",
      "text/plain": [
       "<Figure size 432x288 with 1 Axes>"
      ]
     },
     "metadata": {
      "needs_background": "light"
     },
     "output_type": "display_data"
    }
   ],
   "source": [
    "X_axis = np.arange(len(hypos))\n",
    "  \n",
    "plt.bar(X_axis - 0.2, hypos.ice_score, 0.4, label = 'ice_score')\n",
    "plt.bar(X_axis + 0.2, hypos.rice_score, 0.4, label = 'rice_score')\n",
    "  \n",
    "plt.xticks(X_axis, hypos.index)\n",
    "plt.xlabel(\"Groups\")\n",
    "plt.ylabel(\"Scores\")\n",
    "plt.title(\"RICE / ICE SCORES PER HYP\")\n",
    "plt.legend()\n",
    "plt.show()"
   ]
  },
  {
   "cell_type": "markdown",
   "metadata": {
    "id": "FtvsjvLZuHPw"
   },
   "source": [
    "Since multiplication by Reach significantly changes our numerical means of RICE, much better approach to visualisation would be to first NORMALIZE our data. \n",
    "\n",
    "There are several way we can do this. Two the most comman are min/max normalization and zscore method. \n",
    "\n",
    "Let's use a zscore and plot our data again. "
   ]
  },
  {
   "cell_type": "code",
   "execution_count": 17,
   "metadata": {
    "id": "X3G28WMKsPMD"
   },
   "outputs": [],
   "source": [
    "from scipy.stats import zscore\n",
    "\n",
    "hypos['ice_zscored'] = zscore(hypos['ice_score'])\n",
    "hypos['rice_zscored'] = zscore(hypos['rice_score'])\n",
    "hypos = hypos.sort_values(by = [\"rice_zscored\", \"ice_zscored\"], ascending = False)"
   ]
  },
  {
   "cell_type": "code",
   "execution_count": 18,
   "metadata": {
    "colab": {
     "base_uri": "https://localhost:8080/",
     "height": 294
    },
    "id": "i-uhyVXdvZNu",
    "outputId": "8b3f0c8f-8966-422d-b3e0-f23356c266df"
   },
   "outputs": [
    {
     "data": {
      "image/png": "[encoded data removed]",
      "text/plain": [
       "<Figure size 432x288 with 1 Axes>"
      ]
     },
     "metadata": {
      "needs_background": "light"
     },
     "output_type": "display_data"
    }
   ],
   "source": [
    "X_axis = np.arange(len(hypos))\n",
    "  \n",
    "plt.bar(X_axis - 0.2, hypos.ice_zscored, 0.4, label = 'ice_score')\n",
    "plt.bar(X_axis + 0.2, hypos.rice_zscored, 0.4, label = 'rice_score')\n",
    "  \n",
    "plt.xticks(X_axis, hypos.index)\n",
    "plt.xlabel(\"Groups\")\n",
    "plt.ylabel(\"Zscores\")\n",
    "plt.title(\"RICE/ICE SCORES ZSCORED PER HYP\")\n",
    "plt.legend()\n",
    "plt.show()"
   ]
  },
  {
   "cell_type": "markdown",
   "metadata": {
    "id": "pQ50K1z9tAZz"
   },
   "source": [
    "Zscore uses the mean as a borderline. We see that 7 and 0 have the highiest values. Now let's try the minmax method:"
   ]
  },
  {
   "cell_type": "markdown",
   "metadata": {
    "id": "fiS1aE2fwfjD"
   },
   "source": [
    "Let's see what the minmax normalization has to say:\n"
   ]
  },
  {
   "cell_type": "code",
   "execution_count": 19,
   "metadata": {
    "id": "KjVhF3bNxZT6"
   },
   "outputs": [],
   "source": [
    "v = hypos[\"ice_score\"] \n",
    "z = (v - v.min()) / (v.max() - v.min())\n",
    "hypos[\"ice_minmaxed\"] = z\n",
    "\n",
    "r = hypos[\"rice_score\"] \n",
    "b = (r - r.min()) / (r.max() - r.min())\n",
    "hypos[\"rice_minmaxed\"] = b\n"
   ]
  },
  {
   "cell_type": "code",
   "execution_count": 20,
   "metadata": {
    "id": "P89iLrwqzrnQ"
   },
   "outputs": [],
   "source": [
    "hypos = hypos.sort_values(by = [\"rice_minmaxed\", \"ice_minmaxed\"], ascending = False)"
   ]
  },
  {
   "cell_type": "code",
   "execution_count": 21,
   "metadata": {
    "colab": {
     "base_uri": "https://localhost:8080/",
     "height": 294
    },
    "id": "ybBCSoSyxn0R",
    "outputId": "69b3d6cb-975c-4dc3-fbd9-21d59a0a7c89"
   },
   "outputs": [
    {
     "data": {
      "image/png": "[encoded data removed]",
      "text/plain": [
       "<Figure size 432x288 with 1 Axes>"
      ]
     },
     "metadata": {
      "needs_background": "light"
     },
     "output_type": "display_data"
    }
   ],
   "source": [
    "X_axis = np.arange(len(hypos))\n",
    "  \n",
    "plt.bar(X_axis - 0.2, hypos.ice_minmaxed, 0.4, label = 'ice_score')\n",
    "plt.bar(X_axis + 0.2, hypos.rice_minmaxed, 0.4, label = 'rice_score')\n",
    "  \n",
    "plt.xticks(X_axis, hypos.index)\n",
    "plt.xlabel(\"Groups\")\n",
    "plt.ylabel(\"MINMAXED scores\")\n",
    "plt.title(\"RICE/ICE SCORES MINMAXED PER HYP\")\n",
    "plt.legend()\n",
    "plt.show()"
   ]
  },
  {
   "cell_type": "markdown",
   "metadata": {
    "id": "au7dUIk9unPr"
   },
   "source": [
    "Same results but calculated differently. \n",
    "\n",
    "Normalization od data allows us to see the relative \"strenght\" of the values from different groups."
   ]
  },
  {
   "cell_type": "markdown",
   "metadata": {},
   "source": [
    "<div class=\"alert alert-block alert-success\">\n",
    "<b>Reviewer's comment v2:</b>\n",
    "    \n",
    "Almost everything is correct here. You correctly applied `RICE` framework. And based on the results, it is clear now what is the impact of the reach factor on overall value.\n",
    "    \n",
    "Additionally you can create a scatter plot to map all numbers per hypothesis to compare them."
   ]
  },
  {
   "cell_type": "markdown",
   "metadata": {
    "id": "-btBvFFiz31P"
   },
   "source": [
    "# Part 2. A/B Test Analysis\n",
    "\n",
    "### *You carried out an A/B test and got the results described in the files orders_us.csv and visits_us.csv*.\n",
    "### *1. Graph cumulative revenue by group. Make conclusions and conjectures.*"
   ]
  },
  {
   "cell_type": "code",
   "execution_count": 22,
   "metadata": {
    "colab": {
     "base_uri": "https://localhost:8080/",
     "height": 350
    },
    "id": "Wu5UGgDA09Lh",
    "outputId": "d0d2ebd7-6a65-4cba-a181-9c69b08997fe"
   },
   "outputs": [
    {
     "name": "stderr",
     "output_type": "stream",
     "text": [
      "/tmp/ipykernel_72/589637157.py:22: UserWarning: FixedFormatter should only be used together with FixedLocator\n",
      "  ax.xaxis.set_ticklabels(year_labels)\n"
     ]
    },
    {
     "data": {
      "image/png": "[encoded data removed]",
      "text/plain": [
       "<Figure size 864x360 with 1 Axes>"
      ]
     },
     "metadata": {
      "needs_background": "light"
     },
     "output_type": "display_data"
    }
   ],
   "source": [
    "# First let's groupby \"groups\", A and B\n",
    "df_2_groups =  orders.groupby(\"group\")\n",
    "\n",
    "# Now we split the df into two separate dfs\n",
    "group_A = df_2_groups.get_group('A')\n",
    "group_B = df_2_groups.get_group('B')\n",
    "\n",
    "# We sum the revenues by dates\n",
    "group_A = group_A.groupby([\"date\"]).agg({\"revenue\": \"sum\"}).reset_index()\n",
    "group_B = group_B.groupby([\"date\"]).agg({\"revenue\": \"sum\"}).reset_index()\n",
    "\n",
    "# And cumsum the results in a new table\n",
    "group_A[\"cumsum_rev_A\"] = group_A[\"revenue\"].cumsum()\n",
    "group_B[\"cumsum_rev_B\"] = group_B[\"revenue\"].cumsum()\n",
    "\n",
    "# Then let's plot the results:\n",
    "import matplotlib.pyplot as plt\n",
    "fig, ax = plt.subplots(figsize=(12,5))\n",
    "group_A[\"cumsum_rev_A\"].plot(ax=ax)\n",
    "group_B[\"cumsum_rev_B\"].plot(ax=ax)\n",
    "year_labels = group_A.date.values\n",
    "ax.xaxis.set_ticklabels(year_labels)\n",
    "plt.title(\"cumulative revenue by group\")\n",
    "plt.xlabel(\"DATES\")\n",
    "plt.ylabel(\"REVENUE\")\n",
    "plt.legend()\n",
    "plt.show()\n"
   ]
  },
  {
   "cell_type": "markdown",
   "metadata": {
    "id": "KODRfvIBxSCi"
   },
   "source": [
    "The graph above shows that unlike group A, that is steadily grows over time, group B experinces a \"jump\" in revenues. This is **not** due to a change in the oveall bussiness strategy, as the cumulative revenues of B **after** the \"jump\" remain in the same level of growth as group A. This means that we are having a very big order in group B. "
   ]
  },
  {
   "cell_type": "markdown",
   "metadata": {},
   "source": [
    "<div class=\"alert alert-block alert-success\">\n",
    "<b>Reviewer's comment v2:</b>\n",
    "    \n",
    "Very nice data visualization.\n",
    "\n",
    "It is a matter of taste, but you can also use `plt.grid()` to add grid to your graph and rotate x-axis ticks."
   ]
  },
  {
   "cell_type": "markdown",
   "metadata": {
    "id": "vSg2vDtjCpNL"
   },
   "source": [
    "### *2 Graph **cumulative average order size by group**. Make conclusions and conjectures.*"
   ]
  },
  {
   "cell_type": "code",
   "execution_count": 23,
   "metadata": {
    "colab": {
     "base_uri": "https://localhost:8080/",
     "height": 350
    },
    "id": "TTa9Z4VY8TaI",
    "outputId": "51e0700d-3cfd-46ef-86fc-3fd2fd93b6bb"
   },
   "outputs": [
    {
     "name": "stderr",
     "output_type": "stream",
     "text": [
      "/tmp/ipykernel_72/2141295702.py:19: UserWarning: FixedFormatter should only be used together with FixedLocator\n",
      "  ax.xaxis.set_ticklabels(year_labels)\n"
     ]
    },
    {
     "data": {
      "image/png": "[encoded data removed]",
      "text/plain": [
       "<Figure size 864x360 with 1 Axes>"
      ]
     },
     "metadata": {
      "needs_background": "light"
     },
     "output_type": "display_data"
    }
   ],
   "source": [
    "# Let's take the original clean data and split to A2 & B2\n",
    "group_A2 = df_2_groups.get_group('A')\n",
    "group_B2 = df_2_groups.get_group('B')\n",
    "\n",
    "# We then group by dates and agg by the mean of rev (NOT sum as prev.)\n",
    "group_A2 = group_A2.groupby([\"date\"]).agg({\"revenue\": \"mean\"}).reset_index()\n",
    "group_B2 = group_B2.groupby([\"date\"]).agg({\"revenue\": \"mean\"}).reset_index()\n",
    "\n",
    "# We create a new col wt the avr revs cumsumed\n",
    "group_A2[\"cumsum_avr_revA2\"] = group_A2[\"revenue\"].cumsum()\n",
    "group_B2[\"cumsum_avr_revB2\"] = group_B2[\"revenue\"].cumsum()\n",
    "\n",
    "# and plot\n",
    "import matplotlib.pyplot as plt\n",
    "fig, ax = plt.subplots(figsize=(12,5))\n",
    "group_A2[\"cumsum_avr_revA2\"].plot(ax=ax)\n",
    "group_B2[\"cumsum_avr_revB2\"].plot(ax=ax)\n",
    "year_labels = group_A2.date.values\n",
    "ax.xaxis.set_ticklabels(year_labels)\n",
    "plt.title(\"cumulative avr order size by group\")\n",
    "plt.xlabel(\"DATES\")\n",
    "plt.ylabel(\"REVENUE\")\n",
    "plt.legend()\n",
    "plt.show()\n"
   ]
  },
  {
   "cell_type": "markdown",
   "metadata": {
    "id": "JJagg8e23-J2"
   },
   "source": [
    "The graph of avr order size by group repeats the same dinamic of cumulative revenue by group graph. There's a big order that shifts the mean of orders up. Let's explore this order a little deeper. Let's plot the revenues of group B using a bar chart.  "
   ]
  },
  {
   "cell_type": "markdown",
   "metadata": {},
   "source": [
    "<div class=\"alert alert-block alert-success\">\n",
    "<b>Reviewer's comment v2:</b>\n",
    "    \n",
    "Once again everything is correct here and the same comments as above."
   ]
  },
  {
   "cell_type": "code",
   "execution_count": 24,
   "metadata": {
    "colab": {
     "base_uri": "https://localhost:8080/",
     "height": 387
    },
    "id": "hVXsCxrf5riJ",
    "outputId": "b00f9290-c7fe-4e3d-b4a4-90e7c5434f5b"
   },
   "outputs": [
    {
     "data": {
      "image/png": "[encoded data removed]",
      "text/plain": [
       "<Figure size 1152x360 with 1 Axes>"
      ]
     },
     "metadata": {
      "needs_background": "light"
     },
     "output_type": "display_data"
    }
   ],
   "source": [
    "\n",
    "dts = list(group_B2.date)\n",
    "revs = list(group_B2[\"revenue\"])\n",
    "  \n",
    "fig = plt.figure(figsize = (16, 5))\n",
    " \n",
    "# creating the bar plot\n",
    "plt.bar(dts, revs, color ='maroon',\n",
    "        width = 0.4)\n",
    "plt.tick_params(axis='x', rotation=45)\n",
    "plt.xlabel(\"days\")\n",
    "plt.ylabel(\"revs\")\n",
    "plt.title(\"Revenues B by dates\")\n",
    "plt.show()"
   ]
  },
  {
   "cell_type": "markdown",
   "metadata": {
    "id": "N58StG_O82S1"
   },
   "source": [
    "On 18.08.2019 there was a very big order. The day after the daily revenue dropped back to the normal level. \n",
    "\n",
    "If we ignore the spike in the revs, the bar chart showes another interesting feature of group B: There's a **weekly pattern** that repeats throught these 31 days: the daily revenues go up and down in a **wave like form**. This is something that we couldn't discover using our previous charts. What this wave form means? It means that the daily rev of this group demonstrate predictability. We can say with a certain confidence that on weekdays the revs are lower than weekends. We can even calculate our confidence AND the expected weekends avr level based on the avr historical and avr mid-week level.\n",
    "\n",
    "Let's see if we can find something similiar in group A:"
   ]
  },
  {
   "cell_type": "code",
   "execution_count": 25,
   "metadata": {
    "colab": {
     "base_uri": "https://localhost:8080/",
     "height": 387
    },
    "id": "E5aC_ESc-qhe",
    "outputId": "666c179c-bc4a-4e9c-b811-b3cca7d25d03"
   },
   "outputs": [
    {
     "data": {
      "image/png": "[encoded data removed]",
      "text/plain": [
       "<Figure size 1152x360 with 1 Axes>"
      ]
     },
     "metadata": {
      "needs_background": "light"
     },
     "output_type": "display_data"
    }
   ],
   "source": [
    "\n",
    "dts = list(group_A2.date)\n",
    "revs = list(group_A2[\"revenue\"])\n",
    "  \n",
    "fig = plt.figure(figsize = (16, 5))\n",
    " \n",
    "# creating the bar plot\n",
    "plt.bar(dts, revs, color ='maroon',\n",
    "        width = 0.4)\n",
    "plt.tick_params(axis='x', rotation=45)\n",
    "plt.xlabel(\"days\")\n",
    "plt.ylabel(\"revs\")\n",
    "plt.title(\"Revenues A by dates\")\n",
    "plt.show()"
   ]
  },
  {
   "cell_type": "markdown",
   "metadata": {
    "id": "X-TQTd_d-3ak"
   },
   "source": [
    "The wave pattern in Group A **is not as distinct** as with the group B. Meaning Group B is more predictable in it's behavior. "
   ]
  },
  {
   "cell_type": "markdown",
   "metadata": {
    "id": "Gl5bf_3NGG5q"
   },
   "source": [
    "## *3. Graph the **relative difference in cumulative average order size** for group B compared with group A. Make conclusions and conjectures.*\n",
    "\n"
   ]
  },
  {
   "cell_type": "code",
   "execution_count": 26,
   "metadata": {
    "colab": {
     "base_uri": "https://localhost:8080/",
     "height": 482
    },
    "id": "G9fGhgSVLe4F",
    "outputId": "d64974bb-1a80-4399-a59c-ac2e1c860f08"
   },
   "outputs": [
    {
     "data": {
      "image/png": "[encoded data removed]",
      "text/plain": [
       "<Figure size 1152x504 with 1 Axes>"
      ]
     },
     "metadata": {
      "needs_background": "light"
     },
     "output_type": "display_data"
    }
   ],
   "source": [
    "# We will need just two columns from the Group A:\n",
    "new = group_A2[[\"cumsum_avr_revA2\", \"date\"]]\n",
    "\n",
    "\n",
    "# gathering the data into one DataFrame\n",
    "merged_avr_cumulative_size = new.merge(group_B2, left_on='date', right_on='date', how='inner', suffixes=['A', 'B'])\n",
    "\n",
    "# plotting a relative difference graph for the average purchase sizes\n",
    "plt.figure(figsize = (16,7))\n",
    "plt.plot(merged_avr_cumulative_size['date'], (merged_avr_cumulative_size['cumsum_avr_revB2']/(merged_avr_cumulative_size['cumsum_avr_revA2'] - 1) ))\n",
    "mean_line = (merged_avr_cumulative_size['cumsum_avr_revB2']/(merged_avr_cumulative_size['cumsum_avr_revA2'] - 1) ).mean() \n",
    "\n",
    "# adding the X axis and legend\n",
    "plt.axhline(y=mean_line, color='black', linestyle='--', label = \"mean line\") \n",
    "plt.tick_params(axis='x', rotation=45)\n",
    "plt.title(\"Relative difference in cumulative average order size for group B compared with group A\")\n",
    "plt.legend()\n",
    "plt.show()"
   ]
  },
  {
   "cell_type": "markdown",
   "metadata": {
    "id": "hlshNguTCV46"
   },
   "source": [
    "We see that the ratio bt avr order size of the the groups changes significantly throught the period. Group B starts 50% bellow the mean but in just 5 days moves above the mean and gains almost 30% more than A. It then shaply drops and regains it's advantage on a day of a big order (18.8). Curently B metrics are 12% higher than A. \n",
    "\n",
    "The graph of the difference in average purchase size shows fluctuations: This graph allows us to detect anomalies but we can't draw any definite conclusions from this graph. We can say that **visually**, the differences between the groups are distinct.  "
   ]
  },
  {
   "cell_type": "markdown",
   "metadata": {},
   "source": [
    "<div class=\"alert alert-block alert-success\">\n",
    "<b>Reviewer's comment v2:</b>\n",
    "    \n",
    "Indeed, it could be helpful to study data without outliers. Also, interesting to note that difference has been stabilized in the last couple of days."
   ]
  },
  {
   "cell_type": "markdown",
   "metadata": {
    "id": "sjUq_yRWRHQt"
   },
   "source": [
    "##4. *Calculate each group's conversion rate as the ratio of orders to the number of visits for each day. Plot the daily conversion rates of the two groups and describe the difference. Draw conclusions and make conjectures.*"
   ]
  },
  {
   "cell_type": "code",
   "execution_count": 27,
   "metadata": {
    "colab": {
     "base_uri": "https://localhost:8080/",
     "height": 335
    },
    "id": "N43L9X3cUNAz",
    "outputId": "64c2aa48-b723-4320-a027-d93d35657456"
   },
   "outputs": [
    {
     "name": "stderr",
     "output_type": "stream",
     "text": [
      "/tmp/ipykernel_98/1890234299.py:27: UserWarning: FixedFormatter should only be used together with FixedLocator\n",
      "  ax.xaxis.set_ticklabels(year_labels)\n"
     ]
    },
    {
     "data": {
      "image/png": "[encoded data removed]",
      "text/plain": [
       "<Figure size 864x360 with 1 Axes>"
      ]
     },
     "metadata": {
      "needs_background": "light"
     },
     "output_type": "display_data"
    }
   ],
   "source": [
    "# Taking care of visits\n",
    "convertion_table = visits.groupby([\"date\", \"group\"]).agg({\"visits\": \"sum\"}).reset_index()\n",
    "convertion_table = convertion_table.merge(group_A)\n",
    "\n",
    "#roup_B2, left_on='date', right_on='date', how='left', suffixes=['A',' 'B])\n",
    "\n",
    "# Error handler\n",
    "pd.options.mode.chained_assignment = None\n",
    "\n",
    "# Taking care of orders\n",
    "ords = orders.groupby([\"date\", \"group\"]).agg({\"revenue\": \"sum\"}).reset_index()\n",
    "\n",
    "convertion_table = convertion_table.merge(ords, left_on=['date', \"group\"],right_on= ['date', \"group\"], how='outer', suffixes=['A', 'B'])\n",
    "\n",
    "convertion_table_A = convertion_table.query('group == \"A\"')\n",
    "convertion_table_B = convertion_table.query('group == \"B\"')\n",
    "\n",
    "convertion_table_A[\"con_rate_A\"] = convertion_table_A.revenueA / convertion_table_A.visits\n",
    "convertion_table_B[\"con_rate_B\"] = convertion_table_B.revenueB / convertion_table_B.visits\n",
    "\n",
    "# and plot\n",
    "import matplotlib.pyplot as plt\n",
    "fig, ax = plt.subplots(figsize=(12,5))\n",
    "convertion_table_A[\"con_rate_A\"].plot(ax=ax)\n",
    "convertion_table_B[\"con_rate_B\"].plot(ax=ax)\n",
    "year_labels = convertion_table_A.date.values\n",
    "ax.xaxis.set_ticklabels(year_labels)\n",
    "plt.title(\"Group A and B conversion rate (orders / visits) for each day.\")\n",
    "plt.legend()\n",
    "plt.show()\n",
    "\n"
   ]
  },
  {
   "cell_type": "markdown",
   "metadata": {},
   "source": [
    "<div class=\"alert alert-block alert-warning\">\n",
    "<b>Reviewer's comment v2:</b>\n",
    "    \n",
    "Nice plot with conversion and conclusions. \n",
    "    \n",
    "However, additionally could be interesting to plot a relative difference graph for the cumulative conversion rates, as based on the graph above it is difficult to say smth about data stability and which group has higher conversion rate."
   ]
  },
  {
   "cell_type": "markdown",
   "metadata": {
    "id": "JDseQAj1Z7uc"
   },
   "source": [
    "##5. *Plot a scatter chart of the **number of orders per user**. Make conclusions and conjectures.*\n",
    "\n",
    "I think it would be more informative to plot this chart by groups too..."
   ]
  },
  {
   "cell_type": "code",
   "execution_count": 28,
   "metadata": {
    "colab": {
     "base_uri": "https://localhost:8080/",
     "height": 294
    },
    "id": "bhTK4N6RjAo0",
    "outputId": "d088ef3d-3cdd-421d-84ec-644ce393d6d1"
   },
   "outputs": [
    {
     "data": {
      "image/png": "[encoded data removed]",
      "text/plain": [
       "<Figure size 432x288 with 1 Axes>"
      ]
     },
     "metadata": {
      "needs_background": "light"
     },
     "output_type": "display_data"
    }
   ],
   "source": [
    "import matplotlib.transforms as transforms\n",
    "\n",
    "\n",
    "# First let's groupby \"groups\", A and B\n",
    "df_2_groups_new =  orders.groupby(\"group\")\n",
    "\n",
    "# Here we split the df into two separate dfs\n",
    "group_A = df_2_groups_new.get_group('A')\n",
    "group_B = df_2_groups_new.get_group('B')\n",
    "\n",
    "group_A = group_A.groupby([\"visitorId\"]).agg({'transactionId' : pd.Series.nunique}).reset_index()\n",
    "group_B = group_B.groupby([\"visitorId\"]).agg({'transactionId' : pd.Series.nunique}).reset_index()\n",
    "\n",
    "group_A.columns = [\"visitorId\", \"num_orders_A\"]\n",
    "group_B.columns = [\"visitorId\", \"num_orders_B\"]\n",
    "\n",
    "\n",
    "x_valuesA = pd.Series(range(0, len(group_A['visitorId'])))\n",
    "labelA = \"Group A\"\n",
    "plt.scatter(x_valuesA, group_A['num_orders_A'], alpha = 0.5, s= 50,label = labelA)\n",
    "\n",
    "x_valuesB = pd.Series(range(0, len(group_B['visitorId'])))\n",
    "labelB = \"Group B\"\n",
    "plt.scatter(x_valuesB, group_B['num_orders_B'], alpha = 0.5, s=50, label = labelB)\n",
    "plt.xlabel(\"instances\")\n",
    "plt.xlabel(\"num of orders\")\n",
    "plt.title(\"number of orders per user in A and B\")\n",
    "plt.legend()\n",
    "plt.show()"
   ]
  },
  {
   "cell_type": "markdown",
   "metadata": {
    "id": "_LTHxXFWClsO"
   },
   "source": [
    "The graph above shows that the vast majority of users in both groups are one time users. Rarely do they buy twice. And on a very rare ocassions they buy 3 times. With that said, Group A users tend to buy 3 orders 2.5 times more than Group B. We see this on a graph or by a calculation:"
   ]
  },
  {
   "cell_type": "code",
   "execution_count": 29,
   "metadata": {
    "colab": {
     "base_uri": "https://localhost:8080/"
    },
    "id": "2fuG_j8RDnJH",
    "outputId": "6cf27c81-119e-4217-a40f-cdf7a2b5c5af"
   },
   "outputs": [
    {
     "data": {
      "text/plain": [
       "num_orders_A    NaN\n",
       "num_orders_B    NaN\n",
       "visitorId       2.5\n",
       "dtype: float64"
      ]
     },
     "execution_count": 29,
     "metadata": {},
     "output_type": "execute_result"
    }
   ],
   "source": [
    "group_A[group_A[\"num_orders_A\"] ==3].count() / group_B[group_B[\"num_orders_B\"] ==3].count()\n"
   ]
  },
  {
   "cell_type": "markdown",
   "metadata": {
    "id": "HUmSDlEeoYuT"
   },
   "source": [
    "## 6. *Calculate the **95th and 99th percentiles** for the number of orders per user. Define the point at which a data point becomes an anomaly.*"
   ]
  },
  {
   "cell_type": "code",
   "execution_count": 30,
   "metadata": {
    "colab": {
     "base_uri": "https://localhost:8080/"
    },
    "id": "z25HB-dnip3c",
    "outputId": "3bd3e2a4-00c4-4d33-d73d-9df3bab95d5e"
   },
   "outputs": [
    {
     "name": "stdout",
     "output_type": "stream",
     "text": [
      "For Group A, the 95, 99 percentiles are [1.   2.56]\n",
      "For Group B, the 95, 99 percentiles are [1. 2.]\n"
     ]
    }
   ],
   "source": [
    "print(\"For Group A, the 95, 99 percentiles are\", np.percentile(group_A['num_orders_A'], [95, 99])) \n",
    "print(\"For Group B, the 95, 99 percentiles are\", np.percentile(group_B['num_orders_B'], [95, 99])) "
   ]
  },
  {
   "cell_type": "markdown",
   "metadata": {
    "id": "9a-ICRYOIG6N"
   },
   "source": [
    "Group A have a higher 99 percentile than Group B, since, as we know from our previous calculations Group A tends to buy 3 orders per user 2.5 times more than Group B. We confirm this again by a highier 99 percentile (2.56). With that said, for BOTH groups, 3 orders per user is an anomaly, if we defina anomaly as a 1% of our data. If we define anomaly as 5% likelihood, then 2 orders per user are falling into the anomaly zone, and this is true for both groups. "
   ]
  },
  {
   "cell_type": "markdown",
   "metadata": {
    "id": "j7QaHdeKqLg9"
   },
   "source": [
    "##7 *Plot a **scatter chart of order prices**. Make conclusions and conjectures.*\n",
    "\n",
    "We decided to plot Group A and Group B seperatly:"
   ]
  },
  {
   "cell_type": "code",
   "execution_count": 31,
   "metadata": {
    "colab": {
     "base_uri": "https://localhost:8080/",
     "height": 544
    },
    "id": "7SWQLkXtqkfw",
    "outputId": "931c7b3b-16b9-4ccb-d82d-d22f757a313f"
   },
   "outputs": [
    {
     "data": {
      "image/png": "[encoded data removed]",
      "text/plain": [
       "<Figure size 432x288 with 1 Axes>"
      ]
     },
     "metadata": {
      "needs_background": "light"
     },
     "output_type": "display_data"
    },
    {
     "data": {
      "image/png": "[encoded data removed]",
      "text/plain": [
       "<Figure size 432x288 with 1 Axes>"
      ]
     },
     "metadata": {
      "needs_background": "light"
     },
     "output_type": "display_data"
    }
   ],
   "source": [
    "group_A = df_2_groups_new.get_group('A')\n",
    "group_B = df_2_groups_new.get_group('B')\n",
    "\n",
    "# A\n",
    "x_values_A = pd.Series(range(0, len(group_A['visitorId'])))\n",
    "plt.scatter(x_values_A, group_A['revenue'], alpha = 0.5) \n",
    "plt.title(\"GROUP A\")\n",
    "plt.show()\n",
    "\n",
    "# B\n",
    "x_values_B = pd.Series(range(0, len(group_B['visitorId'])))\n",
    "plt.scatter(x_values_B, group_B['revenue'], alpha = 0.5, color = \"red\") \n",
    "plt.title(\"GROUP B\")\n",
    "plt.show()"
   ]
  },
  {
   "cell_type": "markdown",
   "metadata": {
    "id": "R1mFC5hdshz7"
   },
   "source": [
    "The 20000$ order skews the table of Group B and squizes 99% of the data. Let's cut it off..."
   ]
  },
  {
   "cell_type": "code",
   "execution_count": 32,
   "metadata": {
    "colab": {
     "base_uri": "https://localhost:8080/",
     "height": 544
    },
    "id": "w_1K8IYKrBc3",
    "outputId": "4fcce696-c77a-474a-c040-86e180ce61f9"
   },
   "outputs": [
    {
     "data": {
      "image/png": "[encoded data removed]",
      "text/plain": [
       "<Figure size 432x288 with 1 Axes>"
      ]
     },
     "metadata": {
      "needs_background": "light"
     },
     "output_type": "display_data"
    },
    {
     "data": {
      "image/png": "[encoded data removed]",
      "text/plain": [
       "<Figure size 432x288 with 1 Axes>"
      ]
     },
     "metadata": {
      "needs_background": "light"
     },
     "output_type": "display_data"
    }
   ],
   "source": [
    "# A\n",
    "x_values_A = pd.Series(range(0, len(group_A['visitorId'])))\n",
    "plt.scatter(x_values_A, group_A['revenue'], alpha = 0.5) \n",
    "plt.title(\"GROUP A\")\n",
    "plt.show()\n",
    "\n",
    "x_values_B = pd.Series(range(0, len(group_B['visitorId'])))\n",
    "plt.scatter(x_values_B, group_B['revenue'], alpha = 0.5, color = \"red\") \n",
    "plt.ylim(0, 1500)\n",
    "plt.title(\"GROUP B\")\n",
    "plt.show()"
   ]
  },
  {
   "cell_type": "markdown",
   "metadata": {
    "id": "ddABwkcbLzhi"
   },
   "source": [
    "**Visually** we can **not** draw a definitive conclution regarding the differences between the two groups. The order prices between 0 and 1400 seems alike in both groups. Let's inspect the orders between 800 and 3000"
   ]
  },
  {
   "cell_type": "code",
   "execution_count": 33,
   "metadata": {
    "colab": {
     "base_uri": "https://localhost:8080/",
     "height": 544
    },
    "id": "J0TF_wGpMYsX",
    "outputId": "41ece8f0-fb4d-4f0d-957e-631e3ab28946"
   },
   "outputs": [
    {
     "data": {
      "image/png": "[encoded data removed]",
      "text/plain": [
       "<Figure size 432x288 with 1 Axes>"
      ]
     },
     "metadata": {
      "needs_background": "light"
     },
     "output_type": "display_data"
    },
    {
     "data": {
      "image/png": "[encoded data removed]",
      "text/plain": [
       "<Figure size 432x288 with 1 Axes>"
      ]
     },
     "metadata": {
      "needs_background": "light"
     },
     "output_type": "display_data"
    }
   ],
   "source": [
    "# A\n",
    "x_values_A = pd.Series(range(0, len(group_A['visitorId'])))\n",
    "plt.scatter(x_values_A, group_A['revenue'], alpha = 0.5) \n",
    "plt.ylim(800, 3000)\n",
    "plt.title(\"GROUP A\")\n",
    "plt.show()\n",
    "\n",
    "x_values_B = pd.Series(range(0, len(group_B['visitorId'])))\n",
    "plt.scatter(x_values_B, group_B['revenue'], alpha = 0.5, color = \"red\") \n",
    "plt.ylim(800, 3000)\n",
    "plt.title(\"GROUP B\")\n",
    "plt.show()"
   ]
  },
  {
   "cell_type": "markdown",
   "metadata": {
    "id": "4EsyYzilM-KV"
   },
   "source": [
    "Group A has twice as much orders in a 800-1750 range than Group B. (8 vs 4)"
   ]
  },
  {
   "cell_type": "markdown",
   "metadata": {},
   "source": [
    "<div class=\"alert alert-block alert-success\">\n",
    "<b>Reviewer's comment v2:</b>\n",
    "    \n",
    "Great scaterplots. Additionally you can color two groups on this graph using other 'hue' parameter (https://seaborn.pydata.org/generated/seaborn.scatterplot.html) or different data sources (https://moonbooks.org/Articles/How-to-create-a-scatter-plot-with-several-colors-in-matplotlib-/)"
   ]
  },
  {
   "cell_type": "markdown",
   "metadata": {
    "id": "g_6Z1wLxtBVP"
   },
   "source": [
    "## 8 . *Calculate the **95th and 99th** percentiles of order prices. Define the point at which a data point becomes an anomaly.*\n",
    "\n",
    "We decided to calc the percentiles for each group:"
   ]
  },
  {
   "cell_type": "code",
   "execution_count": 34,
   "metadata": {
    "colab": {
     "base_uri": "https://localhost:8080/"
    },
    "id": "QGoh_ju7GGAF",
    "outputId": "bfc0ec3d-ca64-439d-d1ab-202f504864ed"
   },
   "outputs": [
    {
     "name": "stdout",
     "output_type": "stream",
     "text": [
      "For Group A the percentiles are [385.63  863.201]\n",
      "For Group B the percentiles are [425.795 763.865]\n"
     ]
    }
   ],
   "source": [
    "print(\"For Group A the percentiles are\", np.percentile(group_A['revenue'], [ 95, 99])) \n",
    "print(\"For Group B the percentiles are\", np.percentile(group_B['revenue'], [ 95, 99])) \n"
   ]
  },
  {
   "cell_type": "markdown",
   "metadata": {
    "id": "2MgKXSBIPkXU"
   },
   "source": [
    "We define anomaly as likelihood thet the price is higher than 99% of the data. \n",
    "\n",
    "For Group A the anomolous price is any price above 863. \n",
    "For Group B, it is any price above 763. "
   ]
  },
  {
   "cell_type": "markdown",
   "metadata": {},
   "source": [
    "<div class=\"alert alert-block alert-success\">\n",
    "<b>Reviewer's comment v2:</b>\n",
    "    \n",
    "You correctly identified 95th and 99th percentiles of order prices. Now you have a threshold and data could be filtered."
   ]
  },
  {
   "cell_type": "markdown",
   "metadata": {
    "id": "XZHPOoKd1bHX"
   },
   "source": [
    "## 9. *Find the statistical significance of the **difference in conversion** between the groups using the **raw data**. Make conclusions and conjectures.*"
   ]
  },
  {
   "cell_type": "code",
   "execution_count": 35,
   "metadata": {
    "id": "ZqAIV1yfRAa6"
   },
   "outputs": [],
   "source": [
    "#let's import the orders data as orders_raw\n",
    "\n",
    "\n",
    "orders_raw = pd.read_csv(\"/datasets/orders_us.csv\")"
   ]
  },
  {
   "cell_type": "code",
   "execution_count": 36,
   "metadata": {
    "colab": {
     "base_uri": "https://localhost:8080/"
    },
    "id": "tOnitX7Y1QIL",
    "outputId": "3c7f77b2-b028-4f2c-9ccf-f1471488f56c"
   },
   "outputs": [
    {
     "name": "stdout",
     "output_type": "stream",
     "text": [
      "P_VALUE: 0.017\n",
      "RELATIVE DIFF RATIO: 0.138\n"
     ]
    }
   ],
   "source": [
    "#Organizing group A\n",
    "ordersByUsersA = orders_raw[orders_raw['group']=='A'].groupby('visitorId', as_index=False).agg({'transactionId' : pd.Series.nunique})\n",
    "ordersByUsersA.columns = ['visitorId', 'num_orders_A']\n",
    "\n",
    "##Organizing group A\n",
    "ordersByUsersB = orders_raw[orders_raw['group']=='B'].groupby('visitorId', as_index=False).agg({'transactionId' : pd.Series.nunique})\n",
    "ordersByUsersB.columns = ['visitorId', 'num_orders_B']\n",
    "\n",
    "# Creating samples A & B\n",
    "sampleAraw = pd.concat([ordersByUsersA['num_orders_A'],pd.Series(0, index=np.arange(visits[visits['group']=='A']['visits'].sum() - len(ordersByUsersA['num_orders_A'])))],axis=0)\n",
    "sampleBraw = pd.concat([ordersByUsersB['num_orders_B'],pd.Series(0, index=np.arange(visits[visits['group']=='B']['visits'].sum() - len(ordersByUsersB['num_orders_B'])))],axis=0)\n",
    "\n",
    "print(\"P_VALUE:\", \"{0:.3f}\".format(stats.mannwhitneyu(sampleAraw, sampleBraw)[1]))\n",
    "\n",
    "print(\"RELATIVE DIFF RATIO:\", \"{0:.3f}\".format(sampleBraw.mean()/sampleAraw.mean()-1)) "
   ]
  },
  {
   "cell_type": "markdown",
   "metadata": {
    "id": "VSnhRqRbRAVz"
   },
   "source": [
    "When using the raw data, our p_value is lower than 0.05%, and therefore we find evidence to reject the null hypothesis. We find evidence that support the hypothesis that the two groups are different. We also know by how much their samples means were different: by 13.8%\n"
   ]
  },
  {
   "cell_type": "markdown",
   "metadata": {
    "id": "Lel342Vr7-bh"
   },
   "source": [
    "#10. *Find the statistical significance of the difference in **average order size** between the groups using the **raw data**. Make conclusions and conjectures.*"
   ]
  },
  {
   "cell_type": "markdown",
   "metadata": {
    "id": "PPsBK7iaIFUz"
   },
   "source": [
    "To calculate the statistical significance of the difference in the two groups average order size, we'll pass the data on revenue to the mannwhitneyu() criterion.\n",
    "We'll also find the relative difference in average order size between the groups:\n"
   ]
  },
  {
   "cell_type": "code",
   "execution_count": 37,
   "metadata": {
    "id": "yyRMuaH3IWwH"
   },
   "outputs": [],
   "source": [
    "import scipy.stats as stats\n"
   ]
  },
  {
   "cell_type": "code",
   "execution_count": 38,
   "metadata": {
    "colab": {
     "base_uri": "https://localhost:8080/"
    },
    "id": "cpP89S8t796K",
    "outputId": "78a0efc0-f26e-42a1-8577-2c3fcb165863"
   },
   "outputs": [
    {
     "name": "stdout",
     "output_type": "stream",
     "text": [
      "p-value: 0.692\n",
      "Relative difference in average order size: 0.252\n"
     ]
    }
   ],
   "source": [
    "print( \"p-value:\", '{0:.3f}'.format(stats.mannwhitneyu(orders_raw[orders_raw['group']=='A']['revenue'], orders_raw[orders_raw['group']=='B']['revenue'])[1]))\n",
    "print(\"Relative difference in average order size:\",'{0:.3f}'.format(orders_raw[orders_raw['group']=='B']['revenue'].mean()/orders_raw[orders_raw['group']=='A']['revenue'].mean()-1)) "
   ]
  },
  {
   "cell_type": "markdown",
   "metadata": {
    "id": "34_3brtOJ15D"
   },
   "source": [
    "Оur p_value (based on a **structural approach**, or a **nonparametric** test of a data called mannwhitneyu() method) is highier than 0.05. By alot!\n",
    "\n",
    "We know that our **raw** data contains a outlier in revenues of Group B. If we would apply the usual parametric approach, our p_value would be influenced by the outliers. But the nonparametric method mannwhitneyu() calculates the p_value while ignoring the outliers, thus our final result is deep into the null hyp terrotory, meaning **we can not reject** the null hyp that states that the two groups have similiar average order size. \n",
    "\n",
    "The relative difference between the raw sets is 25%"
   ]
  },
  {
   "cell_type": "markdown",
   "metadata": {
    "id": "L1zl7ZKtOk_i"
   },
   "source": [
    "#11. *Find the statistical significance of the **difference in conversion** between the groups using the **filtered data**. Make conclusions and conjectures.*\n",
    "\n"
   ]
  },
  {
   "cell_type": "code",
   "execution_count": 39,
   "metadata": {
    "colab": {
     "base_uri": "https://localhost:8080/"
    },
    "id": "4i9jl8LtOkNR",
    "outputId": "01b87637-6ff1-4d4a-d1c6-ec9464b65fc1"
   },
   "outputs": [
    {
     "name": "stdout",
     "output_type": "stream",
     "text": [
      "P_VALUE: 0.011\n",
      "RELATIVE DIFF RATIO: 0.160\n"
     ]
    }
   ],
   "source": [
    "#Organizing group A\n",
    "ordersByUsersA = orders[orders['group']=='A'].groupby('visitorId', as_index=False).agg({'transactionId' : pd.Series.nunique})\n",
    "ordersByUsersA.columns = ['visitorId', 'num_orders_A']\n",
    "\n",
    "##Organizing group A\n",
    "ordersByUsersB = orders[orders['group']=='B'].groupby('visitorId', as_index=False).agg({'transactionId' : pd.Series.nunique})\n",
    "ordersByUsersB.columns = ['visitorId', 'num_orders_B']\n",
    "\n",
    "# Creating samples A & B\n",
    "sampleA = pd.concat([ordersByUsersA['num_orders_A'],pd.Series(0, index=np.arange(visits[visits['group']=='A']['visits'].sum() - len(ordersByUsersA['num_orders_A'])))],axis=0)\n",
    "sampleB = pd.concat([ordersByUsersB['num_orders_B'],pd.Series(0, index=np.arange(visits[visits['group']=='B']['visits'].sum() - len(ordersByUsersB['num_orders_B'])))],axis=0)\n",
    "\n",
    "print(\"P_VALUE:\", \"{0:.3f}\".format(stats.mannwhitneyu(sampleA, sampleB)[1]))\n",
    "\n",
    "print(\"RELATIVE DIFF RATIO:\", \"{0:.3f}\".format(sampleB.mean()/sampleA.mean()-1)) "
   ]
  },
  {
   "cell_type": "markdown",
   "metadata": {
    "id": "EVOkjMd9_NPF"
   },
   "source": [
    "Previously, when we used the raw data, our results were:\n",
    "P_VALUE: 0.008\n",
    "RELATIVE DIFF RATIO: 0.138\n",
    "\n",
    "Our p_value was lower than 0.05%,we rejected the null hypothesis and found evidence that the two groups are different( by 13.8%)\n",
    "\n",
    "Now, using the filtered data, we see that the difference between the group samples is larger, that previously found: \n",
    "\n",
    "The filtered P VALUE is 0.011\n",
    "and relative diff ratio of means is 0.16\n",
    "\n",
    "Meaning that the filtered samples A and B are MORE heterogeneous (diverse) than the raw data, and the diff ratio of means (B.mean / A.mean) is 16%. "
   ]
  },
  {
   "cell_type": "markdown",
   "metadata": {},
   "source": [
    "<div class=\"alert alert-block alert-success\">\n",
    "<b>Reviewer's comment v2:</b>\n",
    "    \n",
    "Great job! Hypotheses have been formulated and tested correctly. "
   ]
  },
  {
   "cell_type": "markdown",
   "metadata": {
    "id": "1aXFFNLbWze1"
   },
   "source": [
    "# 12. *Find the statistical significance of the **difference in average order size** between the groups using the **filtered data**. Make conclusions and conjectures.*"
   ]
  },
  {
   "cell_type": "code",
   "execution_count": 40,
   "metadata": {
    "colab": {
     "base_uri": "https://localhost:8080/"
    },
    "id": "R4W0DaP0OkVF",
    "outputId": "1a077eb0-c765-42df-bf78-7c4272e23da5"
   },
   "outputs": [
    {
     "name": "stdout",
     "output_type": "stream",
     "text": [
      "p-value: 0.862\n",
      "Relative difference in average order size (filtered): 0.278\n"
     ]
    }
   ],
   "source": [
    "print( \"p-value:\", '{0:.3f}'.format(stats.mannwhitneyu(orders[orders['group']=='A']['revenue'], orders[orders['group']=='B']['revenue'])[1]))\n",
    "print(\"Relative difference in average order size (filtered):\",'{0:.3f}'.format(orders[orders['group']=='B']['revenue'].mean()/orders[orders['group']=='A']['revenue'].mean()-1)) "
   ]
  },
  {
   "cell_type": "markdown",
   "metadata": {
    "id": "omZvNvWyBGFd"
   },
   "source": [
    "Let's see the overall results of our test:\n",
    "\n",
    "\n"
   ]
  },
  {
   "cell_type": "code",
   "execution_count": 41,
   "metadata": {
    "colab": {
     "base_uri": "https://localhost:8080/"
    },
    "id": "tCrsmscuB3mB",
    "outputId": "5183a502-0ea4-4be6-de89-ae27a800b4d2"
   },
   "outputs": [
    {
     "name": "stdout",
     "output_type": "stream",
     "text": [
      "Convertion rate p_value of raw_data is 0.017\n",
      "Convertion rate of filtered data is 0.011\n",
      " \n",
      "Group B mean of convertion is by 0.138 % higher than A in raw data\n",
      "Group B mean of convertion is by 0.160 % higher than A in filtered data\n",
      " \n",
      "Avr order size p_value in raw data is 0.692 and ijn filtered 0.862\n",
      " \n",
      "Group B mean of order size in raw_data is by 0.252 bigger than group A\n",
      "Group B mean of order size in filtered_data is by 0.278 bigger than group A\n"
     ]
    }
   ],
   "source": [
    "\n",
    "print(\"Convertion rate p_value of raw_data is\",  \"{0:.3f}\".format(stats.mannwhitneyu(sampleBraw, sampleAraw)[1]))\n",
    "print(\"Convertion rate of filtered data is\", \"{0:.3f}\".format(stats.mannwhitneyu( sampleB, sampleA)[1]))\n",
    "print(\" \")\n",
    "print(\"Group B mean of convertion is by\",  \"{0:.3f}\".format(sampleBraw.mean()/sampleAraw.mean()-1), \"% higher than A in raw data\")\n",
    "print(\"Group B mean of convertion is by\", \"{0:.3f}\".format(sampleB.mean()/sampleA.mean()-1), \"% higher than A in filtered data\")\n",
    "print(\" \")\n",
    "print(\"Avr order size p_value in raw data is\",'{0:.3f}'.format(stats.mannwhitneyu(orders_raw[orders_raw['group']=='A']['revenue'], orders_raw[orders_raw['group']=='B']['revenue'])[1]),\n",
    "      \"and ijn filtered\", '{0:.3f}'.format(stats.mannwhitneyu(orders[orders['group']=='A']['revenue'], orders[orders['group']=='B']['revenue'])[1], ))\n",
    "print(\" \")\n",
    "print(\"Group B mean of order size in raw_data is by\",  '{0:.3f}'.format(orders_raw[orders_raw['group']=='B']['revenue'].mean()/orders_raw[orders_raw['group']=='A']['revenue'].mean()-1), \"bigger than group A\" )\n",
    "print(\"Group B mean of order size in filtered_data is by\",'{0:.3f}'.format(orders[orders['group']=='B']['revenue'].mean()/orders[orders['group']=='A']['revenue'].mean()-1),\n",
    "    \"bigger than group A\")"
   ]
  },
  {
   "cell_type": "markdown",
   "metadata": {
    "id": "vm1HSHpL9jgK"
   },
   "source": [
    "\n",
    "There's a statistically significant difference in conversion between the groups, in both the raw **and** the filtered data. And as we filtered the data the difference between the groups is more distinct (on the convertion rate) it grows from 13% to 16% difference of B over A.  \n",
    "\n",
    "Yet the raw and filtered data didn't show a statistically significant difference between the groups in terms of **average purchase size**. \n",
    "Filtered data merly fine tuned what we already knew: the avr order size in both groups is similiar (resulted p_value is way above 5%).\n",
    "\n",
    "Meaning that in one of the groups the visitors convert better(earlier) but they do not  (necessarily) buy more per user. \n",
    "\n",
    "For our business model the KPI is the **convertion** rate. \n",
    "Therefore we stop the test and declare the B group as a leader. "
   ]
  },
  {
   "cell_type": "markdown",
   "metadata": {},
   "source": [
    "<div class=\"alert alert-block alert-success\">\n",
    "<b>Reviewer's comment v2</b> \n",
    "\n",
    "Great that you wrote about all important steps and findings in your project. \n",
    " \n",
    "And overall, you conducted great research with correct interim findings, clean code and nice visualization.\n",
    "    \n",
    "One comment about running the test is that we can mistakenly wait till the moment we get correct results (to face a peeking problem). \n",
    "    \n",
    "You can check an article about it here: https://gopractice.io/blog/peeking-problem/#:~:text=by%20Oleg%20Yakubenkov-,Peeking%20problem%20%E2%80%93%20the%20fatal%20mistake%20in%20A%2FB%20testing%20and,A%2FB%20test%20is%20over\n",
    "    \n",
    "</div>"
   ]
  }
 ],
 "metadata": {
  "ExecuteTimeLog": [
   {
    "duration": 1150,
    "start_time": "2022-04-07T12:18:31.523Z"
   },
   {
    "duration": 2,
    "start_time": "2022-04-07T12:18:32.675Z"
   },
   {
    "duration": 119,
    "start_time": "2022-04-07T12:18:32.679Z"
   },
   {
    "duration": 0,
    "start_time": "2022-04-07T12:18:32.801Z"
   },
   {
    "duration": 0,
    "start_time": "2022-04-07T12:18:32.803Z"
   },
   {
    "duration": 0,
    "start_time": "2022-04-07T12:18:32.804Z"
   },
   {
    "duration": 0,
    "start_time": "2022-04-07T12:18:32.805Z"
   },
   {
    "duration": 0,
    "start_time": "2022-04-07T12:18:32.807Z"
   },
   {
    "duration": 0,
    "start_time": "2022-04-07T12:18:32.808Z"
   },
   {
    "duration": 0,
    "start_time": "2022-04-07T12:18:32.809Z"
   },
   {
    "duration": 0,
    "start_time": "2022-04-07T12:18:32.810Z"
   },
   {
    "duration": 0,
    "start_time": "2022-04-07T12:18:32.812Z"
   },
   {
    "duration": 0,
    "start_time": "2022-04-07T12:18:32.813Z"
   },
   {
    "duration": 0,
    "start_time": "2022-04-07T12:18:32.815Z"
   },
   {
    "duration": 0,
    "start_time": "2022-04-07T12:18:32.816Z"
   },
   {
    "duration": 0,
    "start_time": "2022-04-07T12:18:32.816Z"
   },
   {
    "duration": 0,
    "start_time": "2022-04-07T12:18:32.817Z"
   },
   {
    "duration": 0,
    "start_time": "2022-04-07T12:18:32.818Z"
   },
   {
    "duration": 0,
    "start_time": "2022-04-07T12:18:32.819Z"
   },
   {
    "duration": 0,
    "start_time": "2022-04-07T12:18:32.820Z"
   },
   {
    "duration": 0,
    "start_time": "2022-04-07T12:18:32.821Z"
   },
   {
    "duration": 0,
    "start_time": "2022-04-07T12:18:32.821Z"
   },
   {
    "duration": 0,
    "start_time": "2022-04-07T12:18:32.822Z"
   },
   {
    "duration": 0,
    "start_time": "2022-04-07T12:18:32.823Z"
   },
   {
    "duration": 0,
    "start_time": "2022-04-07T12:18:32.824Z"
   },
   {
    "duration": 0,
    "start_time": "2022-04-07T12:18:32.825Z"
   },
   {
    "duration": 0,
    "start_time": "2022-04-07T12:18:32.826Z"
   },
   {
    "duration": 0,
    "start_time": "2022-04-07T12:18:32.827Z"
   },
   {
    "duration": 0,
    "start_time": "2022-04-07T12:18:32.828Z"
   },
   {
    "duration": 0,
    "start_time": "2022-04-07T12:18:32.829Z"
   },
   {
    "duration": 0,
    "start_time": "2022-04-07T12:18:32.830Z"
   },
   {
    "duration": 0,
    "start_time": "2022-04-07T12:18:32.881Z"
   },
   {
    "duration": 0,
    "start_time": "2022-04-07T12:18:32.883Z"
   },
   {
    "duration": 0,
    "start_time": "2022-04-07T12:18:32.884Z"
   },
   {
    "duration": 0,
    "start_time": "2022-04-07T12:18:32.885Z"
   },
   {
    "duration": 0,
    "start_time": "2022-04-07T12:18:32.886Z"
   },
   {
    "duration": 0,
    "start_time": "2022-04-07T12:18:32.886Z"
   },
   {
    "duration": 0,
    "start_time": "2022-04-07T12:18:32.887Z"
   },
   {
    "duration": 0,
    "start_time": "2022-04-07T12:18:32.888Z"
   },
   {
    "duration": 0,
    "start_time": "2022-04-07T12:18:32.889Z"
   },
   {
    "duration": 0,
    "start_time": "2022-04-07T12:18:32.890Z"
   },
   {
    "duration": 50,
    "start_time": "2022-04-07T12:20:01.805Z"
   },
   {
    "duration": 9,
    "start_time": "2022-04-07T12:20:06.107Z"
   },
   {
    "duration": 1018,
    "start_time": "2022-04-07T12:20:20.473Z"
   },
   {
    "duration": 12,
    "start_time": "2022-04-07T12:20:21.493Z"
   },
   {
    "duration": 102,
    "start_time": "2022-04-07T12:23:17.480Z"
   },
   {
    "duration": 22,
    "start_time": "2022-04-07T12:23:20.271Z"
   },
   {
    "duration": 6,
    "start_time": "2022-04-07T12:23:26.343Z"
   },
   {
    "duration": 7,
    "start_time": "2022-04-07T12:23:26.701Z"
   },
   {
    "duration": 7,
    "start_time": "2022-04-07T12:23:27.032Z"
   },
   {
    "duration": 5,
    "start_time": "2022-04-07T12:23:27.739Z"
   },
   {
    "duration": 11,
    "start_time": "2022-04-07T12:23:28.084Z"
   },
   {
    "duration": 36,
    "start_time": "2022-04-07T12:23:28.367Z"
   },
   {
    "duration": 9,
    "start_time": "2022-04-07T12:23:28.669Z"
   },
   {
    "duration": 6,
    "start_time": "2022-04-07T12:23:29.311Z"
   },
   {
    "duration": 8,
    "start_time": "2022-04-07T12:23:29.961Z"
   },
   {
    "duration": 11,
    "start_time": "2022-04-07T12:23:30.361Z"
   },
   {
    "duration": 9,
    "start_time": "2022-04-07T12:23:38.888Z"
   },
   {
    "duration": 9,
    "start_time": "2022-04-07T12:23:40.082Z"
   },
   {
    "duration": 3185,
    "start_time": "2022-04-07T12:23:41.313Z"
   },
   {
    "duration": 0,
    "start_time": "2022-04-07T12:23:44.500Z"
   },
   {
    "duration": 13,
    "start_time": "2022-04-07T12:23:54.549Z"
   },
   {
    "duration": 5,
    "start_time": "2022-04-07T12:24:37.478Z"
   },
   {
    "duration": 71,
    "start_time": "2022-04-07T20:53:05.571Z"
   },
   {
    "duration": 6,
    "start_time": "2022-04-07T20:54:37.097Z"
   },
   {
    "duration": 12,
    "start_time": "2022-04-07T20:55:04.008Z"
   },
   {
    "duration": 1736,
    "start_time": "2022-04-07T20:55:11.854Z"
   },
   {
    "duration": 3,
    "start_time": "2022-04-07T20:55:13.593Z"
   },
   {
    "duration": 81,
    "start_time": "2022-04-07T20:55:16.206Z"
   },
   {
    "duration": 39,
    "start_time": "2022-04-07T20:55:19.680Z"
   },
   {
    "duration": 11,
    "start_time": "2022-04-07T20:55:30.045Z"
   },
   {
    "duration": 10,
    "start_time": "2022-04-07T20:55:30.877Z"
   },
   {
    "duration": 10,
    "start_time": "2022-04-07T20:55:31.478Z"
   },
   {
    "duration": 7,
    "start_time": "2022-04-07T20:55:33.645Z"
   },
   {
    "duration": 19,
    "start_time": "2022-04-07T20:55:34.324Z"
   },
   {
    "duration": 61,
    "start_time": "2022-04-07T20:55:36.918Z"
   },
   {
    "duration": 12,
    "start_time": "2022-04-07T20:55:37.734Z"
   },
   {
    "duration": 9,
    "start_time": "2022-04-07T20:55:40.558Z"
   },
   {
    "duration": 9,
    "start_time": "2022-04-07T20:55:41.853Z"
   },
   {
    "duration": 89,
    "start_time": "2022-04-07T20:55:45.294Z"
   },
   {
    "duration": 68,
    "start_time": "2022-04-07T20:56:30.437Z"
   },
   {
    "duration": 39,
    "start_time": "2022-04-07T20:56:32.485Z"
   },
   {
    "duration": 6,
    "start_time": "2022-04-07T20:56:33.484Z"
   },
   {
    "duration": 9,
    "start_time": "2022-04-07T20:56:33.684Z"
   },
   {
    "duration": 9,
    "start_time": "2022-04-07T20:56:34.045Z"
   },
   {
    "duration": 6,
    "start_time": "2022-04-07T20:56:34.996Z"
   },
   {
    "duration": 17,
    "start_time": "2022-04-07T20:56:35.413Z"
   },
   {
    "duration": 58,
    "start_time": "2022-04-07T20:56:35.901Z"
   },
   {
    "duration": 10,
    "start_time": "2022-04-07T20:56:36.397Z"
   },
   {
    "duration": 7,
    "start_time": "2022-04-07T20:56:37.500Z"
   },
   {
    "duration": 11,
    "start_time": "2022-04-07T20:56:38.668Z"
   },
   {
    "duration": 19,
    "start_time": "2022-04-07T20:56:41.396Z"
   },
   {
    "duration": 20,
    "start_time": "2022-04-07T20:56:47.628Z"
   },
   {
    "duration": 318,
    "start_time": "2022-04-07T20:56:48.805Z"
   },
   {
    "duration": 19,
    "start_time": "2022-04-07T20:56:50.149Z"
   },
   {
    "duration": 265,
    "start_time": "2022-04-07T20:56:55.435Z"
   },
   {
    "duration": 9,
    "start_time": "2022-04-07T20:56:59.218Z"
   },
   {
    "duration": 7,
    "start_time": "2022-04-07T20:56:59.899Z"
   },
   {
    "duration": 246,
    "start_time": "2022-04-07T20:57:00.492Z"
   },
   {
    "duration": 396,
    "start_time": "2022-04-07T20:57:02.510Z"
   },
   {
    "duration": 284,
    "start_time": "2022-04-07T20:57:06.738Z"
   },
   {
    "duration": 444,
    "start_time": "2022-04-07T20:57:10.260Z"
   },
   {
    "duration": 451,
    "start_time": "2022-04-07T20:57:14.699Z"
   },
   {
    "duration": 689,
    "start_time": "2022-04-07T20:57:18.972Z"
   },
   {
    "duration": 295,
    "start_time": "2022-04-07T20:57:24.045Z"
   },
   {
    "duration": 540,
    "start_time": "2022-04-07T20:57:27.645Z"
   },
   {
    "duration": 15,
    "start_time": "2022-04-07T20:57:30.234Z"
   },
   {
    "duration": 8,
    "start_time": "2022-04-07T20:57:31.571Z"
   },
   {
    "duration": 378,
    "start_time": "2022-04-07T20:57:33.667Z"
   },
   {
    "duration": 480,
    "start_time": "2022-04-07T20:57:37.042Z"
   },
   {
    "duration": 409,
    "start_time": "2022-04-07T20:57:38.643Z"
   },
   {
    "duration": 7,
    "start_time": "2022-04-07T20:57:41.339Z"
   },
   {
    "duration": 63,
    "start_time": "2022-04-07T20:57:43.546Z"
   },
   {
    "duration": 70,
    "start_time": "2022-04-07T20:58:14.363Z"
   },
   {
    "duration": 294,
    "start_time": "2022-04-07T20:58:17.403Z"
   },
   {
    "duration": 4,
    "start_time": "2022-04-07T20:58:29.929Z"
   },
   {
    "duration": 15,
    "start_time": "2022-04-07T20:58:30.634Z"
   },
   {
    "duration": 260,
    "start_time": "2022-04-07T20:59:45.243Z"
   },
   {
    "duration": 16,
    "start_time": "2022-04-07T21:01:13.806Z"
   },
   {
    "duration": 74,
    "start_time": "2022-04-07T21:01:16.816Z"
   },
   {
    "duration": 5,
    "start_time": "2022-04-07T21:01:43.470Z"
   },
   {
    "duration": 3,
    "start_time": "2022-04-07T21:01:45.341Z"
   },
   {
    "duration": 101,
    "start_time": "2022-04-07T21:01:47.518Z"
   },
   {
    "duration": 41,
    "start_time": "2022-04-07T21:01:49.406Z"
   },
   {
    "duration": 10,
    "start_time": "2022-04-07T21:03:43.970Z"
   },
   {
    "duration": 11,
    "start_time": "2022-04-07T21:03:45.012Z"
   },
   {
    "duration": 7,
    "start_time": "2022-04-07T21:03:53.091Z"
   },
   {
    "duration": 17,
    "start_time": "2022-04-07T21:03:54.826Z"
   },
   {
    "duration": 65,
    "start_time": "2022-04-07T21:04:03.552Z"
   },
   {
    "duration": 11,
    "start_time": "2022-04-07T21:04:05.227Z"
   },
   {
    "duration": 8,
    "start_time": "2022-04-07T21:04:09.882Z"
   },
   {
    "duration": 10,
    "start_time": "2022-04-07T21:04:18.186Z"
   },
   {
    "duration": 16,
    "start_time": "2022-04-07T21:04:20.595Z"
   },
   {
    "duration": 19,
    "start_time": "2022-04-07T21:04:47.387Z"
   },
   {
    "duration": 409,
    "start_time": "2022-04-07T21:04:48.851Z"
   },
   {
    "duration": 16,
    "start_time": "2022-04-07T21:04:52.833Z"
   },
   {
    "duration": 328,
    "start_time": "2022-04-07T21:04:54.471Z"
   },
   {
    "duration": 13,
    "start_time": "2022-04-07T21:04:57.915Z"
   },
   {
    "duration": 11,
    "start_time": "2022-04-07T21:04:58.506Z"
   },
   {
    "duration": 245,
    "start_time": "2022-04-07T21:04:59.081Z"
   },
   {
    "duration": 294,
    "start_time": "2022-04-07T21:05:03.036Z"
   },
   {
    "duration": 372,
    "start_time": "2022-04-07T21:05:06.718Z"
   },
   {
    "duration": 571,
    "start_time": "2022-04-07T21:05:08.730Z"
   },
   {
    "duration": 443,
    "start_time": "2022-04-07T21:05:17.499Z"
   },
   {
    "duration": 569,
    "start_time": "2022-04-07T21:05:21.467Z"
   },
   {
    "duration": 281,
    "start_time": "2022-04-07T21:05:26.798Z"
   },
   {
    "duration": 511,
    "start_time": "2022-04-07T21:05:33.479Z"
   },
   {
    "duration": 13,
    "start_time": "2022-04-07T21:05:38.609Z"
   },
   {
    "duration": 7,
    "start_time": "2022-04-07T21:05:41.600Z"
   },
   {
    "duration": 386,
    "start_time": "2022-04-07T21:05:57.625Z"
   },
   {
    "duration": 487,
    "start_time": "2022-04-07T21:06:04.383Z"
   },
   {
    "duration": 368,
    "start_time": "2022-04-07T21:06:11.000Z"
   },
   {
    "duration": 8,
    "start_time": "2022-04-07T21:06:17.193Z"
   },
   {
    "duration": 61,
    "start_time": "2022-04-07T21:06:21.504Z"
   },
   {
    "duration": 297,
    "start_time": "2022-04-07T21:06:23.617Z"
   },
   {
    "duration": 5,
    "start_time": "2022-04-07T21:06:30.329Z"
   },
   {
    "duration": 15,
    "start_time": "2022-04-07T21:06:33.256Z"
   },
   {
    "duration": 294,
    "start_time": "2022-04-07T21:07:18.352Z"
   },
   {
    "duration": 16,
    "start_time": "2022-04-07T21:08:54.291Z"
   },
   {
    "duration": 69,
    "start_time": "2022-04-07T21:09:12.464Z"
   },
   {
    "duration": 72,
    "start_time": "2022-04-07T21:12:57.306Z"
   },
   {
    "duration": 1776,
    "start_time": "2022-04-08T20:05:34.112Z"
   },
   {
    "duration": 3,
    "start_time": "2022-04-08T20:05:35.891Z"
   },
   {
    "duration": 182,
    "start_time": "2022-04-08T20:05:35.896Z"
   },
   {
    "duration": 42,
    "start_time": "2022-04-08T20:05:36.081Z"
   },
   {
    "duration": 10,
    "start_time": "2022-04-08T20:05:36.125Z"
   },
   {
    "duration": 9,
    "start_time": "2022-04-08T20:05:36.137Z"
   },
   {
    "duration": 9,
    "start_time": "2022-04-08T20:05:36.149Z"
   },
   {
    "duration": 5,
    "start_time": "2022-04-08T20:05:36.160Z"
   },
   {
    "duration": 18,
    "start_time": "2022-04-08T20:05:36.167Z"
   },
   {
    "duration": 97,
    "start_time": "2022-04-08T20:05:36.189Z"
   },
   {
    "duration": 10,
    "start_time": "2022-04-08T20:05:36.289Z"
   },
   {
    "duration": 8,
    "start_time": "2022-04-08T20:05:36.301Z"
   },
   {
    "duration": 34,
    "start_time": "2022-04-08T20:05:36.311Z"
   },
   {
    "duration": 20,
    "start_time": "2022-04-08T20:05:36.347Z"
   },
   {
    "duration": 20,
    "start_time": "2022-04-08T20:05:36.369Z"
   },
   {
    "duration": 289,
    "start_time": "2022-04-08T20:05:36.392Z"
   },
   {
    "duration": 13,
    "start_time": "2022-04-08T20:05:36.683Z"
   },
   {
    "duration": 272,
    "start_time": "2022-04-08T20:05:36.699Z"
   },
   {
    "duration": 9,
    "start_time": "2022-04-08T20:05:36.973Z"
   },
   {
    "duration": 9,
    "start_time": "2022-04-08T20:05:36.984Z"
   },
   {
    "duration": 260,
    "start_time": "2022-04-08T20:05:36.996Z"
   },
   {
    "duration": 320,
    "start_time": "2022-04-08T20:05:37.258Z"
   },
   {
    "duration": 278,
    "start_time": "2022-04-08T20:05:37.581Z"
   },
   {
    "duration": 458,
    "start_time": "2022-04-08T20:05:37.862Z"
   },
   {
    "duration": 531,
    "start_time": "2022-04-08T20:05:38.322Z"
   },
   {
    "duration": 592,
    "start_time": "2022-04-08T20:05:38.855Z"
   },
   {
    "duration": 295,
    "start_time": "2022-04-08T20:05:39.449Z"
   },
   {
    "duration": 518,
    "start_time": "2022-04-08T20:05:39.749Z"
   },
   {
    "duration": 14,
    "start_time": "2022-04-08T20:05:40.269Z"
   },
   {
    "duration": 7,
    "start_time": "2022-04-08T20:05:40.285Z"
   },
   {
    "duration": 392,
    "start_time": "2022-04-08T20:05:40.294Z"
   },
   {
    "duration": 392,
    "start_time": "2022-04-08T20:05:40.688Z"
   },
   {
    "duration": 389,
    "start_time": "2022-04-08T20:05:41.082Z"
   },
   {
    "duration": 9,
    "start_time": "2022-04-08T20:05:41.473Z"
   },
   {
    "duration": 43,
    "start_time": "2022-04-08T20:05:41.484Z"
   },
   {
    "duration": 309,
    "start_time": "2022-04-08T20:05:41.529Z"
   },
   {
    "duration": 4,
    "start_time": "2022-04-08T20:05:41.840Z"
   },
   {
    "duration": 17,
    "start_time": "2022-04-08T20:05:41.846Z"
   },
   {
    "duration": 310,
    "start_time": "2022-04-08T20:05:41.866Z"
   },
   {
    "duration": 17,
    "start_time": "2022-04-08T20:05:42.178Z"
   },
   {
    "duration": 97,
    "start_time": "2022-04-08T20:05:42.197Z"
   },
   {
    "duration": 1635,
    "start_time": "2022-04-09T07:37:06.222Z"
   },
   {
    "duration": 7,
    "start_time": "2022-04-09T07:37:07.860Z"
   },
   {
    "duration": 46,
    "start_time": "2022-04-09T07:37:07.870Z"
   },
   {
    "duration": 45,
    "start_time": "2022-04-09T07:37:08.895Z"
   },
   {
    "duration": 12,
    "start_time": "2022-04-09T07:37:09.399Z"
   },
   {
    "duration": 12,
    "start_time": "2022-04-09T07:37:10.206Z"
   },
   {
    "duration": 11,
    "start_time": "2022-04-09T07:37:10.558Z"
   },
   {
    "duration": 7,
    "start_time": "2022-04-09T07:37:11.413Z"
   },
   {
    "duration": 22,
    "start_time": "2022-04-09T07:37:11.900Z"
   },
   {
    "duration": 85,
    "start_time": "2022-04-09T07:37:12.150Z"
   },
   {
    "duration": 13,
    "start_time": "2022-04-09T07:37:12.462Z"
   },
   {
    "duration": 10,
    "start_time": "2022-04-09T07:37:13.213Z"
   },
   {
    "duration": 11,
    "start_time": "2022-04-09T07:37:22.621Z"
   },
   {
    "duration": 19,
    "start_time": "2022-04-09T07:37:23.950Z"
   },
   {
    "duration": 25,
    "start_time": "2022-04-09T07:37:27.909Z"
   },
   {
    "duration": 331,
    "start_time": "2022-04-09T07:37:56.965Z"
   },
   {
    "duration": 13,
    "start_time": "2022-04-09T07:37:57.932Z"
   },
   {
    "duration": 301,
    "start_time": "2022-04-09T07:37:58.357Z"
   },
   {
    "duration": 9,
    "start_time": "2022-04-09T07:37:59.588Z"
   },
   {
    "duration": 7,
    "start_time": "2022-04-09T07:37:59.917Z"
   },
   {
    "duration": 254,
    "start_time": "2022-04-09T07:38:00.125Z"
   },
   {
    "duration": 346,
    "start_time": "2022-04-09T07:38:25.013Z"
   },
   {
    "duration": 289,
    "start_time": "2022-04-09T07:38:44.129Z"
   }
  ],
  "colab": {
   "collapsed_sections": [],
   "name": "A/B_project.ipynb",
   "provenance": []
  },
  "kernelspec": {
   "display_name": "Python 3 (ipykernel)",
   "language": "python",
   "name": "python3"
  },
  "language_info": {
   "codemirror_mode": {
    "name": "ipython",
    "version": 3
   },
   "file_extension": ".py",
   "mimetype": "text/x-python",
   "name": "python",
   "nbconvert_exporter": "python",
   "pygments_lexer": "ipython3",
   "version": "3.9.5"
  },
  "toc": {
   "base_numbering": 1,
   "nav_menu": {},
   "number_sections": true,
   "sideBar": true,
   "skip_h1_title": true,
   "title_cell": "Table of Contents",
   "title_sidebar": "Contents",
   "toc_cell": false,
   "toc_position": {},
   "toc_section_display": true,
   "toc_window_display": false
  }
 },
 "nbformat": 4,
 "nbformat_minor": 1
}
