{
 "cells": [
  {
   "cell_type": "markdown",
   "id": "496a64d7",
   "metadata": {
    "id": "496a64d7"
   },
   "source": [
    "<center><h1>Project XII</h1><h2>Machine Learning in Business</h2></center>"
   ]
  },
  {
   "cell_type": "markdown",
   "id": "731d073a",
   "metadata": {
    "id": "731d073a"
   },
   "source": [
    "<b><u>Description:</u></b>\n",
    "\n",
    "We work at OilyGiant mining company. Our task is to find the best place for a new well. We were provided with 3 datasets of 3 different regions: df_1, df_2, df_3.\n",
    "\n",
    "\n",
    "<b><u>Our plan:</u></b>\n",
    "\n",
    "- Collect the oil well parameters in the selected region: oil quality and volume of reserves;\n",
    "\n",
    "- Build a model for predicting the volume of reserves in the new wells;\n",
    "\n",
    "- Pick the oil wells with the highest estimated values;\n",
    "\n",
    "- Pick the region with the highest total profit for the selected oil wells."
   ]
  },
  {
   "cell_type": "markdown",
   "id": "9c0cf9a6",
   "metadata": {
    "id": "9c0cf9a6"
   },
   "source": [
    "<hr><div id=\"Step I\"><h2>Step I - Open data and general info</h2><br><i>Loading all the libraries: pandas,numpy,matplotlib,etc</i></div>\n"
   ]
  },
  {
   "cell_type": "code",
   "execution_count": 1,
   "id": "b0573367",
   "metadata": {
    "colab": {
     "base_uri": "https://localhost:8080/",
     "height": 35
    },
    "id": "b0573367",
    "outputId": "ea8eaae6-5a8b-4721-95a6-e09caeb9fcdc"
   },
   "outputs": [
    {
     "data": {
      "text/html": [
       "<style>.container { width:80% !important; }</style>"
      ],
      "text/plain": [
       "<IPython.core.display.HTML object>"
      ]
     },
     "metadata": {},
     "output_type": "display_data"
    },
    {
     "name": "stdout",
     "output_type": "stream",
     "text": [
      "Project libraries has been successfully imported!\n"
     ]
    }
   ],
   "source": [
    "# import pandas and numpy for data preprocessing and manipulation\n",
    "import pandas as pd\n",
    "import numpy as np\n",
    "import re\n",
    "\n",
    "# seaborn for visualization\n",
    "import seaborn as sns\n",
    "sns.set_style(\"darkgrid\")\n",
    "\n",
    "# matplotlib for visualization\n",
    "import matplotlib\n",
    "import matplotlib.pyplot as plt\n",
    "%matplotlib inline\n",
    "\n",
    "# import sklearn modules\n",
    "from sklearn.utils import shuffle\n",
    "from sklearn.preprocessing import StandardScaler as ss\n",
    "from sklearn.model_selection import train_test_split\n",
    "from sklearn.metrics import f1_score\n",
    "from sklearn.metrics import roc_curve\n",
    "from sklearn.metrics import roc_auc_score\n",
    "# from sklearn.dummy import DummyClassifier\n",
    "# from sklearn.tree import DecisionTreeClassifier\n",
    "# from sklearn.ensemble import RandomForestClassifier\n",
    "# from sklearn.linear_model import LogisticRegression\n",
    "\n",
    "from sklearn.linear_model import LinearRegression\n",
    "from sklearn.metrics import mean_squared_error\n",
    "\n",
    "# import warnings and display html\n",
    "import warnings\n",
    "warnings.filterwarnings('ignore')\n",
    "from IPython.display import display_html\n",
    "from itertools import chain,cycle\n",
    "from IPython.core.display import display, HTML\n",
    "display(HTML(\"<style>.container { width:80% !important; }</style>\"))\n",
    "pd.set_option('display.max_rows', None)\n",
    "\n",
    "print('Project libraries has been successfully imported!')"
   ]
  },
  {
   "cell_type": "markdown",
   "id": "a00f1fd0",
   "metadata": {
    "id": "a00f1fd0"
   },
   "source": [
    "<hr><i>Loading Dataset</i>\n"
   ]
  },
  {
   "cell_type": "code",
   "execution_count": 2,
   "id": "c77e9b28",
   "metadata": {
    "colab": {
     "base_uri": "https://localhost:8080/",
     "height": 447
    },
    "id": "c77e9b28",
    "outputId": "294956d2-1e0c-4f65-f7ed-00a0844c5ab0"
   },
   "outputs": [
    {
     "name": "stdout",
     "output_type": "stream",
     "text": [
      "Data df_0 has been read correctly!\n",
      "Data df_1 has been read correctly!\n",
      "Data df_2 has been read correctly!\n"
     ]
    }
   ],
   "source": [
    "# read the data\n",
    "\n",
    "try:\n",
    "    df_0 = pd.read_csv('/datasets/geo_data_0.csv')\n",
    "except:\n",
    "    df_0 = pd.read_csv(r'C:\\Users\\vlady\\Downloads\\geo_data_0.csv')\n",
    "    \n",
    "print('Data df_0 has been read correctly!')\n",
    "\n",
    "try:\n",
    "    df_1 = pd.read_csv('/datasets/geo_data_1.csv')\n",
    "except:\n",
    "    df_1 = pd.read_csv(r'C:\\Users\\vlady\\Downloads\\geo_data_1.csv')\n",
    "    \n",
    "print('Data df_1 has been read correctly!')\n",
    "\n",
    "try:\n",
    "    df_2 = pd.read_csv('/datasets/geo_data_2.csv')\n",
    "except:\n",
    "    df_2 = pd.read_csv(r'C:\\Users\\vlady\\Downloads\\geo_data_2.csv')\n",
    "    \n",
    "print('Data df_2 has been read correctly!')"
   ]
  },
  {
   "cell_type": "markdown",
   "id": "241d1b6b",
   "metadata": {
    "id": "241d1b6b"
   },
   "source": [
    "\n",
    "**Features**\n",
    "\n",
    " \n",
    " - `f0` - features of unknown parameter 0\n",
    " \n",
    " \n",
    " - `f1` - features of unknown parameter 1\n",
    " \n",
    " \n",
    " - `f2` - features of unknown parameter 2\n",
    " \n",
    " \n",
    " - `product` - volume of reserves in the oil well (thousand barrels).\n",
    " \n",
    " \n",
    " - `id` - unique oil well identifier\n",
    "\n"
   ]
  },
  {
   "cell_type": "markdown",
   "id": "a35a64db",
   "metadata": {
    "id": "a35a64db"
   },
   "source": [
    "### Data Checking functions:"
   ]
  },
  {
   "cell_type": "code",
   "execution_count": 3,
   "id": "765545c1",
   "metadata": {
    "id": "765545c1"
   },
   "outputs": [],
   "source": [
    "\n",
    "# function to determine if columns in file have null values        \n",
    "def get_percent_of_na(df, num):\n",
    "    count = 0\n",
    "    df = df.copy()\n",
    "    s = (df.isna().sum() / df.shape[0])\n",
    "    for column, percent in zip(s.index, s.values):\n",
    "        num_of_nulls = df[column].isna().sum()\n",
    "        if num_of_nulls == 0:\n",
    "            continue\n",
    "        else:\n",
    "            count += 1\n",
    "        print('{} has {} nulls, which is {:.{}%} percent of Nulls'.format(column, num_of_nulls, percent, num))\n",
    "    if count != 0:\n",
    "        print(\"\\033[1m\" + 'There are {} columns with NA.'.format(count) + \"\\033[0m\")\n",
    "    else:\n",
    "        print()\n",
    "        print(\"\\033[1m\" + 'There are no columns with NA.' + \"\\033[0m\")       \n",
    "        \n",
    "# function to display general information about the dataset\n",
    "def general_info(df):\n",
    "    print(\"\\033[1m\" + \"\\033[0m\")\n",
    "    display(pd.concat([df.dtypes, df.count(),df.isna().sum(),df.isna().sum()/len(df)], keys=['type','count','na','na%'],\n",
    "                      axis=1))\n",
    "    print()\n",
    "    print(\"\\033[1m\" + 'Sample:')  \n",
    "    display(df.sample(5))\n",
    "    print()\n",
    "    print(\"\\033[1m\" + 'Info:')\n",
    "    print()\n",
    "    display(df.info())\n",
    "    print()\n",
    "    print(\"\\033[1m\" + 'Describe:')\n",
    "    print()\n",
    "    display(df.describe())\n",
    "    print()\n",
    "    print(\"\\033[1m\" + 'Nulls in the columns:') \n",
    "    display(df.isna().sum())\n",
    "    print()\n",
    "    print(\"\\033[1m\" + 'Zeros in the columns:') \n",
    "    print()\n",
    "    print(\"\\033[1m\" + 'Shape:', df.shape)\n",
    "    print()\n",
    "    print(\"Unique wells in the dataset :\", df.id.nunique())\n",
    "    print()\n",
    "    print('Duplicated:',\"\\033[1m\" + 'We have {} duplicated rows\\n'.format(df.duplicated().sum()) + \"\\033[0m\")\n",
    "    print()\n",
    "    print(\"\\033[1m\" + 'Dtypes:')  \n",
    "    display(df.dtypes)\n",
    "    print()\n"
   ]
  },
  {
   "cell_type": "code",
   "execution_count": 4,
   "id": "fe23304d",
   "metadata": {
    "id": "fe23304d",
    "outputId": "776a7969-96a2-4243-d1b6-9df2ffc56b97"
   },
   "outputs": [
    {
     "name": "stdout",
     "output_type": "stream",
     "text": [
      "Inspection of df_0 dataset:\n",
      "\u001b[1m\u001b[0m\n"
     ]
    },
    {
     "data": {
      "text/html": [
       "<div>\n",
       "<style scoped>\n",
       "    .dataframe tbody tr th:only-of-type {\n",
       "        vertical-align: middle;\n",
       "    }\n",
       "\n",
       "    .dataframe tbody tr th {\n",
       "        vertical-align: top;\n",
       "    }\n",
       "\n",
       "    .dataframe thead th {\n",
       "        text-align: right;\n",
       "    }\n",
       "</style>\n",
       "<table border=\"1\" class=\"dataframe\">\n",
       "  <thead>\n",
       "    <tr style=\"text-align: right;\">\n",
       "      <th></th>\n",
       "      <th>type</th>\n",
       "      <th>count</th>\n",
       "      <th>na</th>\n",
       "      <th>na%</th>\n",
       "    </tr>\n",
       "  </thead>\n",
       "  <tbody>\n",
       "    <tr>\n",
       "      <th>id</th>\n",
       "      <td>object</td>\n",
       "      <td>100000</td>\n",
       "      <td>0</td>\n",
       "      <td>0.0</td>\n",
       "    </tr>\n",
       "    <tr>\n",
       "      <th>f0</th>\n",
       "      <td>float64</td>\n",
       "      <td>100000</td>\n",
       "      <td>0</td>\n",
       "      <td>0.0</td>\n",
       "    </tr>\n",
       "    <tr>\n",
       "      <th>f1</th>\n",
       "      <td>float64</td>\n",
       "      <td>100000</td>\n",
       "      <td>0</td>\n",
       "      <td>0.0</td>\n",
       "    </tr>\n",
       "    <tr>\n",
       "      <th>f2</th>\n",
       "      <td>float64</td>\n",
       "      <td>100000</td>\n",
       "      <td>0</td>\n",
       "      <td>0.0</td>\n",
       "    </tr>\n",
       "    <tr>\n",
       "      <th>product</th>\n",
       "      <td>float64</td>\n",
       "      <td>100000</td>\n",
       "      <td>0</td>\n",
       "      <td>0.0</td>\n",
       "    </tr>\n",
       "  </tbody>\n",
       "</table>\n",
       "</div>"
      ],
      "text/plain": [
       "            type   count  na  na%\n",
       "id        object  100000   0  0.0\n",
       "f0       float64  100000   0  0.0\n",
       "f1       float64  100000   0  0.0\n",
       "f2       float64  100000   0  0.0\n",
       "product  float64  100000   0  0.0"
      ]
     },
     "metadata": {},
     "output_type": "display_data"
    },
    {
     "name": "stdout",
     "output_type": "stream",
     "text": [
      "\n",
      "\u001b[1mSample:\n"
     ]
    },
    {
     "data": {
      "text/html": [
       "<div>\n",
       "<style scoped>\n",
       "    .dataframe tbody tr th:only-of-type {\n",
       "        vertical-align: middle;\n",
       "    }\n",
       "\n",
       "    .dataframe tbody tr th {\n",
       "        vertical-align: top;\n",
       "    }\n",
       "\n",
       "    .dataframe thead th {\n",
       "        text-align: right;\n",
       "    }\n",
       "</style>\n",
       "<table border=\"1\" class=\"dataframe\">\n",
       "  <thead>\n",
       "    <tr style=\"text-align: right;\">\n",
       "      <th></th>\n",
       "      <th>id</th>\n",
       "      <th>f0</th>\n",
       "      <th>f1</th>\n",
       "      <th>f2</th>\n",
       "      <th>product</th>\n",
       "    </tr>\n",
       "  </thead>\n",
       "  <tbody>\n",
       "    <tr>\n",
       "      <th>92158</th>\n",
       "      <td>Dielf</td>\n",
       "      <td>-0.246867</td>\n",
       "      <td>1.139938</td>\n",
       "      <td>3.787254</td>\n",
       "      <td>124.944251</td>\n",
       "    </tr>\n",
       "    <tr>\n",
       "      <th>97973</th>\n",
       "      <td>HsAzR</td>\n",
       "      <td>1.665654</td>\n",
       "      <td>-0.215909</td>\n",
       "      <td>6.418615</td>\n",
       "      <td>183.209590</td>\n",
       "    </tr>\n",
       "    <tr>\n",
       "      <th>24948</th>\n",
       "      <td>y1i8e</td>\n",
       "      <td>2.120696</td>\n",
       "      <td>0.290109</td>\n",
       "      <td>2.529260</td>\n",
       "      <td>104.558008</td>\n",
       "    </tr>\n",
       "    <tr>\n",
       "      <th>61438</th>\n",
       "      <td>iOAHs</td>\n",
       "      <td>0.139714</td>\n",
       "      <td>1.156531</td>\n",
       "      <td>4.834322</td>\n",
       "      <td>36.894584</td>\n",
       "    </tr>\n",
       "    <tr>\n",
       "      <th>87303</th>\n",
       "      <td>1pLfe</td>\n",
       "      <td>-0.477732</td>\n",
       "      <td>0.967057</td>\n",
       "      <td>3.216607</td>\n",
       "      <td>54.500438</td>\n",
       "    </tr>\n",
       "  </tbody>\n",
       "</table>\n",
       "</div>"
      ],
      "text/plain": [
       "          id        f0        f1        f2     product\n",
       "92158  Dielf -0.246867  1.139938  3.787254  124.944251\n",
       "97973  HsAzR  1.665654 -0.215909  6.418615  183.209590\n",
       "24948  y1i8e  2.120696  0.290109  2.529260  104.558008\n",
       "61438  iOAHs  0.139714  1.156531  4.834322   36.894584\n",
       "87303  1pLfe -0.477732  0.967057  3.216607   54.500438"
      ]
     },
     "metadata": {},
     "output_type": "display_data"
    },
    {
     "name": "stdout",
     "output_type": "stream",
     "text": [
      "\n",
      "\u001b[1mInfo:\n",
      "\n",
      "<class 'pandas.core.frame.DataFrame'>\n",
      "RangeIndex: 100000 entries, 0 to 99999\n",
      "Data columns (total 5 columns):\n",
      " #   Column   Non-Null Count   Dtype  \n",
      "---  ------   --------------   -----  \n",
      " 0   id       100000 non-null  object \n",
      " 1   f0       100000 non-null  float64\n",
      " 2   f1       100000 non-null  float64\n",
      " 3   f2       100000 non-null  float64\n",
      " 4   product  100000 non-null  float64\n",
      "dtypes: float64(4), object(1)\n",
      "memory usage: 3.8+ MB\n"
     ]
    },
    {
     "data": {
      "text/plain": [
       "None"
      ]
     },
     "metadata": {},
     "output_type": "display_data"
    },
    {
     "name": "stdout",
     "output_type": "stream",
     "text": [
      "\n",
      "\u001b[1mDescribe:\n",
      "\n"
     ]
    },
    {
     "data": {
      "text/html": [
       "<div>\n",
       "<style scoped>\n",
       "    .dataframe tbody tr th:only-of-type {\n",
       "        vertical-align: middle;\n",
       "    }\n",
       "\n",
       "    .dataframe tbody tr th {\n",
       "        vertical-align: top;\n",
       "    }\n",
       "\n",
       "    .dataframe thead th {\n",
       "        text-align: right;\n",
       "    }\n",
       "</style>\n",
       "<table border=\"1\" class=\"dataframe\">\n",
       "  <thead>\n",
       "    <tr style=\"text-align: right;\">\n",
       "      <th></th>\n",
       "      <th>f0</th>\n",
       "      <th>f1</th>\n",
       "      <th>f2</th>\n",
       "      <th>product</th>\n",
       "    </tr>\n",
       "  </thead>\n",
       "  <tbody>\n",
       "    <tr>\n",
       "      <th>count</th>\n",
       "      <td>100000.000000</td>\n",
       "      <td>100000.000000</td>\n",
       "      <td>100000.000000</td>\n",
       "      <td>100000.000000</td>\n",
       "    </tr>\n",
       "    <tr>\n",
       "      <th>mean</th>\n",
       "      <td>0.500419</td>\n",
       "      <td>0.250143</td>\n",
       "      <td>2.502647</td>\n",
       "      <td>92.500000</td>\n",
       "    </tr>\n",
       "    <tr>\n",
       "      <th>std</th>\n",
       "      <td>0.871832</td>\n",
       "      <td>0.504433</td>\n",
       "      <td>3.248248</td>\n",
       "      <td>44.288691</td>\n",
       "    </tr>\n",
       "    <tr>\n",
       "      <th>min</th>\n",
       "      <td>-1.408605</td>\n",
       "      <td>-0.848218</td>\n",
       "      <td>-12.088328</td>\n",
       "      <td>0.000000</td>\n",
       "    </tr>\n",
       "    <tr>\n",
       "      <th>25%</th>\n",
       "      <td>-0.072580</td>\n",
       "      <td>-0.200881</td>\n",
       "      <td>0.287748</td>\n",
       "      <td>56.497507</td>\n",
       "    </tr>\n",
       "    <tr>\n",
       "      <th>50%</th>\n",
       "      <td>0.502360</td>\n",
       "      <td>0.250252</td>\n",
       "      <td>2.515969</td>\n",
       "      <td>91.849972</td>\n",
       "    </tr>\n",
       "    <tr>\n",
       "      <th>75%</th>\n",
       "      <td>1.073581</td>\n",
       "      <td>0.700646</td>\n",
       "      <td>4.715088</td>\n",
       "      <td>128.564089</td>\n",
       "    </tr>\n",
       "    <tr>\n",
       "      <th>max</th>\n",
       "      <td>2.362331</td>\n",
       "      <td>1.343769</td>\n",
       "      <td>16.003790</td>\n",
       "      <td>185.364347</td>\n",
       "    </tr>\n",
       "  </tbody>\n",
       "</table>\n",
       "</div>"
      ],
      "text/plain": [
       "                  f0             f1             f2        product\n",
       "count  100000.000000  100000.000000  100000.000000  100000.000000\n",
       "mean        0.500419       0.250143       2.502647      92.500000\n",
       "std         0.871832       0.504433       3.248248      44.288691\n",
       "min        -1.408605      -0.848218     -12.088328       0.000000\n",
       "25%        -0.072580      -0.200881       0.287748      56.497507\n",
       "50%         0.502360       0.250252       2.515969      91.849972\n",
       "75%         1.073581       0.700646       4.715088     128.564089\n",
       "max         2.362331       1.343769      16.003790     185.364347"
      ]
     },
     "metadata": {},
     "output_type": "display_data"
    },
    {
     "name": "stdout",
     "output_type": "stream",
     "text": [
      "\n",
      "\u001b[1mNulls in the columns:\n"
     ]
    },
    {
     "data": {
      "text/plain": [
       "id         0\n",
       "f0         0\n",
       "f1         0\n",
       "f2         0\n",
       "product    0\n",
       "dtype: int64"
      ]
     },
     "metadata": {},
     "output_type": "display_data"
    },
    {
     "name": "stdout",
     "output_type": "stream",
     "text": [
      "\n",
      "\u001b[1mZeros in the columns:\n",
      "\n",
      "\u001b[1mShape: (100000, 5)\n",
      "\n",
      "Unique wells in the dataset : 99990\n",
      "\n",
      "Duplicated: \u001b[1mWe have 0 duplicated rows\n",
      "\u001b[0m\n",
      "\n",
      "\u001b[1mDtypes:\n"
     ]
    },
    {
     "data": {
      "text/plain": [
       "id          object\n",
       "f0         float64\n",
       "f1         float64\n",
       "f2         float64\n",
       "product    float64\n",
       "dtype: object"
      ]
     },
     "metadata": {},
     "output_type": "display_data"
    },
    {
     "name": "stdout",
     "output_type": "stream",
     "text": [
      "\n"
     ]
    }
   ],
   "source": [
    "#print our info data\n",
    "print('Inspection of df_0 dataset:')\n",
    "general_info(df_0)"
   ]
  },
  {
   "cell_type": "code",
   "execution_count": 5,
   "id": "858c8da8",
   "metadata": {
    "id": "858c8da8",
    "outputId": "5ea1f1e1-20b1-4b34-f9ce-8e4c3b1df601"
   },
   "outputs": [
    {
     "data": {
      "text/plain": [
       "10"
      ]
     },
     "execution_count": 5,
     "metadata": {},
     "output_type": "execute_result"
    }
   ],
   "source": [
    "# Checking the number of duplicated ids\n",
    "df_0.id.duplicated().sum()\n"
   ]
  },
  {
   "cell_type": "markdown",
   "id": "e4605c3a",
   "metadata": {
    "id": "e4605c3a"
   },
   "source": [
    "<hr><h2>Fixing df_0</h2>\n",
    "\n",
    "- Our analysis shows that there are **10 instances of not unique well ids**. The original dataset contains 100K instances, yet only 99,990 are unique. We will average the parameters of these non uniq wells and drop the duplicated ids.    \n",
    "\n"
   ]
  },
  {
   "cell_type": "code",
   "execution_count": 6,
   "id": "8822d95d",
   "metadata": {
    "id": "8822d95d"
   },
   "outputs": [],
   "source": [
    "df_0 = df_0.groupby('id').mean().reset_index()"
   ]
  },
  {
   "cell_type": "code",
   "execution_count": 7,
   "id": "f0633607",
   "metadata": {
    "id": "f0633607",
    "outputId": "645d52b3-9451-434f-b837-e88d268e658d"
   },
   "outputs": [
    {
     "data": {
      "text/plain": [
       "0"
      ]
     },
     "execution_count": 7,
     "metadata": {},
     "output_type": "execute_result"
    }
   ],
   "source": [
    "# Checking that we have no duplicates in id column\n",
    "df_0.id.duplicated().sum()"
   ]
  },
  {
   "cell_type": "code",
   "execution_count": 8,
   "id": "01fa83b7",
   "metadata": {
    "id": "01fa83b7",
    "outputId": "4654e839-db0a-4a9a-e78c-03c26ca5caec"
   },
   "outputs": [
    {
     "data": {
      "text/plain": [
       "True"
      ]
     },
     "execution_count": 8,
     "metadata": {},
     "output_type": "execute_result"
    }
   ],
   "source": [
    "# Checking that the lenght of the dataset is equal to the unique instances of the dataset. \n",
    "df_0.id.nunique() == len(df_0)"
   ]
  },
  {
   "cell_type": "markdown",
   "id": "5ad66124",
   "metadata": {
    "id": "5ad66124"
   },
   "source": [
    "## Checking DF_1"
   ]
  },
  {
   "cell_type": "code",
   "execution_count": 9,
   "id": "bb293d9e",
   "metadata": {
    "id": "bb293d9e",
    "outputId": "b2a4f5a5-1ac9-433f-d210-50fd6ad49261"
   },
   "outputs": [
    {
     "name": "stdout",
     "output_type": "stream",
     "text": [
      "\u001b[1m\u001b[0m\n"
     ]
    },
    {
     "data": {
      "text/html": [
       "<div>\n",
       "<style scoped>\n",
       "    .dataframe tbody tr th:only-of-type {\n",
       "        vertical-align: middle;\n",
       "    }\n",
       "\n",
       "    .dataframe tbody tr th {\n",
       "        vertical-align: top;\n",
       "    }\n",
       "\n",
       "    .dataframe thead th {\n",
       "        text-align: right;\n",
       "    }\n",
       "</style>\n",
       "<table border=\"1\" class=\"dataframe\">\n",
       "  <thead>\n",
       "    <tr style=\"text-align: right;\">\n",
       "      <th></th>\n",
       "      <th>type</th>\n",
       "      <th>count</th>\n",
       "      <th>na</th>\n",
       "      <th>na%</th>\n",
       "    </tr>\n",
       "  </thead>\n",
       "  <tbody>\n",
       "    <tr>\n",
       "      <th>id</th>\n",
       "      <td>object</td>\n",
       "      <td>100000</td>\n",
       "      <td>0</td>\n",
       "      <td>0.0</td>\n",
       "    </tr>\n",
       "    <tr>\n",
       "      <th>f0</th>\n",
       "      <td>float64</td>\n",
       "      <td>100000</td>\n",
       "      <td>0</td>\n",
       "      <td>0.0</td>\n",
       "    </tr>\n",
       "    <tr>\n",
       "      <th>f1</th>\n",
       "      <td>float64</td>\n",
       "      <td>100000</td>\n",
       "      <td>0</td>\n",
       "      <td>0.0</td>\n",
       "    </tr>\n",
       "    <tr>\n",
       "      <th>f2</th>\n",
       "      <td>float64</td>\n",
       "      <td>100000</td>\n",
       "      <td>0</td>\n",
       "      <td>0.0</td>\n",
       "    </tr>\n",
       "    <tr>\n",
       "      <th>product</th>\n",
       "      <td>float64</td>\n",
       "      <td>100000</td>\n",
       "      <td>0</td>\n",
       "      <td>0.0</td>\n",
       "    </tr>\n",
       "  </tbody>\n",
       "</table>\n",
       "</div>"
      ],
      "text/plain": [
       "            type   count  na  na%\n",
       "id        object  100000   0  0.0\n",
       "f0       float64  100000   0  0.0\n",
       "f1       float64  100000   0  0.0\n",
       "f2       float64  100000   0  0.0\n",
       "product  float64  100000   0  0.0"
      ]
     },
     "metadata": {},
     "output_type": "display_data"
    },
    {
     "name": "stdout",
     "output_type": "stream",
     "text": [
      "\n",
      "\u001b[1mSample:\n"
     ]
    },
    {
     "data": {
      "text/html": [
       "<div>\n",
       "<style scoped>\n",
       "    .dataframe tbody tr th:only-of-type {\n",
       "        vertical-align: middle;\n",
       "    }\n",
       "\n",
       "    .dataframe tbody tr th {\n",
       "        vertical-align: top;\n",
       "    }\n",
       "\n",
       "    .dataframe thead th {\n",
       "        text-align: right;\n",
       "    }\n",
       "</style>\n",
       "<table border=\"1\" class=\"dataframe\">\n",
       "  <thead>\n",
       "    <tr style=\"text-align: right;\">\n",
       "      <th></th>\n",
       "      <th>id</th>\n",
       "      <th>f0</th>\n",
       "      <th>f1</th>\n",
       "      <th>f2</th>\n",
       "      <th>product</th>\n",
       "    </tr>\n",
       "  </thead>\n",
       "  <tbody>\n",
       "    <tr>\n",
       "      <th>91368</th>\n",
       "      <td>WYKPd</td>\n",
       "      <td>-5.708452</td>\n",
       "      <td>-5.924074</td>\n",
       "      <td>3.997003</td>\n",
       "      <td>110.992147</td>\n",
       "    </tr>\n",
       "    <tr>\n",
       "      <th>49825</th>\n",
       "      <td>WsEZg</td>\n",
       "      <td>9.321891</td>\n",
       "      <td>-14.028430</td>\n",
       "      <td>2.999607</td>\n",
       "      <td>80.859783</td>\n",
       "    </tr>\n",
       "    <tr>\n",
       "      <th>20118</th>\n",
       "      <td>i5tQq</td>\n",
       "      <td>-13.322438</td>\n",
       "      <td>-6.834484</td>\n",
       "      <td>2.002320</td>\n",
       "      <td>57.085625</td>\n",
       "    </tr>\n",
       "    <tr>\n",
       "      <th>19345</th>\n",
       "      <td>jCkRm</td>\n",
       "      <td>6.012912</td>\n",
       "      <td>-4.072312</td>\n",
       "      <td>2.994306</td>\n",
       "      <td>80.859783</td>\n",
       "    </tr>\n",
       "    <tr>\n",
       "      <th>17936</th>\n",
       "      <td>4y0oR</td>\n",
       "      <td>-4.785439</td>\n",
       "      <td>0.620117</td>\n",
       "      <td>0.002984</td>\n",
       "      <td>3.179103</td>\n",
       "    </tr>\n",
       "  </tbody>\n",
       "</table>\n",
       "</div>"
      ],
      "text/plain": [
       "          id         f0         f1        f2     product\n",
       "91368  WYKPd  -5.708452  -5.924074  3.997003  110.992147\n",
       "49825  WsEZg   9.321891 -14.028430  2.999607   80.859783\n",
       "20118  i5tQq -13.322438  -6.834484  2.002320   57.085625\n",
       "19345  jCkRm   6.012912  -4.072312  2.994306   80.859783\n",
       "17936  4y0oR  -4.785439   0.620117  0.002984    3.179103"
      ]
     },
     "metadata": {},
     "output_type": "display_data"
    },
    {
     "name": "stdout",
     "output_type": "stream",
     "text": [
      "\n",
      "\u001b[1mInfo:\n",
      "\n",
      "<class 'pandas.core.frame.DataFrame'>\n",
      "RangeIndex: 100000 entries, 0 to 99999\n",
      "Data columns (total 5 columns):\n",
      " #   Column   Non-Null Count   Dtype  \n",
      "---  ------   --------------   -----  \n",
      " 0   id       100000 non-null  object \n",
      " 1   f0       100000 non-null  float64\n",
      " 2   f1       100000 non-null  float64\n",
      " 3   f2       100000 non-null  float64\n",
      " 4   product  100000 non-null  float64\n",
      "dtypes: float64(4), object(1)\n",
      "memory usage: 3.8+ MB\n"
     ]
    },
    {
     "data": {
      "text/plain": [
       "None"
      ]
     },
     "metadata": {},
     "output_type": "display_data"
    },
    {
     "name": "stdout",
     "output_type": "stream",
     "text": [
      "\n",
      "\u001b[1mDescribe:\n",
      "\n"
     ]
    },
    {
     "data": {
      "text/html": [
       "<div>\n",
       "<style scoped>\n",
       "    .dataframe tbody tr th:only-of-type {\n",
       "        vertical-align: middle;\n",
       "    }\n",
       "\n",
       "    .dataframe tbody tr th {\n",
       "        vertical-align: top;\n",
       "    }\n",
       "\n",
       "    .dataframe thead th {\n",
       "        text-align: right;\n",
       "    }\n",
       "</style>\n",
       "<table border=\"1\" class=\"dataframe\">\n",
       "  <thead>\n",
       "    <tr style=\"text-align: right;\">\n",
       "      <th></th>\n",
       "      <th>f0</th>\n",
       "      <th>f1</th>\n",
       "      <th>f2</th>\n",
       "      <th>product</th>\n",
       "    </tr>\n",
       "  </thead>\n",
       "  <tbody>\n",
       "    <tr>\n",
       "      <th>count</th>\n",
       "      <td>100000.000000</td>\n",
       "      <td>100000.000000</td>\n",
       "      <td>100000.000000</td>\n",
       "      <td>100000.000000</td>\n",
       "    </tr>\n",
       "    <tr>\n",
       "      <th>mean</th>\n",
       "      <td>1.141296</td>\n",
       "      <td>-4.796579</td>\n",
       "      <td>2.494541</td>\n",
       "      <td>68.825000</td>\n",
       "    </tr>\n",
       "    <tr>\n",
       "      <th>std</th>\n",
       "      <td>8.965932</td>\n",
       "      <td>5.119872</td>\n",
       "      <td>1.703572</td>\n",
       "      <td>45.944423</td>\n",
       "    </tr>\n",
       "    <tr>\n",
       "      <th>min</th>\n",
       "      <td>-31.609576</td>\n",
       "      <td>-26.358598</td>\n",
       "      <td>-0.018144</td>\n",
       "      <td>0.000000</td>\n",
       "    </tr>\n",
       "    <tr>\n",
       "      <th>25%</th>\n",
       "      <td>-6.298551</td>\n",
       "      <td>-8.267985</td>\n",
       "      <td>1.000021</td>\n",
       "      <td>26.953261</td>\n",
       "    </tr>\n",
       "    <tr>\n",
       "      <th>50%</th>\n",
       "      <td>1.153055</td>\n",
       "      <td>-4.813172</td>\n",
       "      <td>2.011479</td>\n",
       "      <td>57.085625</td>\n",
       "    </tr>\n",
       "    <tr>\n",
       "      <th>75%</th>\n",
       "      <td>8.621015</td>\n",
       "      <td>-1.332816</td>\n",
       "      <td>3.999904</td>\n",
       "      <td>107.813044</td>\n",
       "    </tr>\n",
       "    <tr>\n",
       "      <th>max</th>\n",
       "      <td>29.421755</td>\n",
       "      <td>18.734063</td>\n",
       "      <td>5.019721</td>\n",
       "      <td>137.945408</td>\n",
       "    </tr>\n",
       "  </tbody>\n",
       "</table>\n",
       "</div>"
      ],
      "text/plain": [
       "                  f0             f1             f2        product\n",
       "count  100000.000000  100000.000000  100000.000000  100000.000000\n",
       "mean        1.141296      -4.796579       2.494541      68.825000\n",
       "std         8.965932       5.119872       1.703572      45.944423\n",
       "min       -31.609576     -26.358598      -0.018144       0.000000\n",
       "25%        -6.298551      -8.267985       1.000021      26.953261\n",
       "50%         1.153055      -4.813172       2.011479      57.085625\n",
       "75%         8.621015      -1.332816       3.999904     107.813044\n",
       "max        29.421755      18.734063       5.019721     137.945408"
      ]
     },
     "metadata": {},
     "output_type": "display_data"
    },
    {
     "name": "stdout",
     "output_type": "stream",
     "text": [
      "\n",
      "\u001b[1mNulls in the columns:\n"
     ]
    },
    {
     "data": {
      "text/plain": [
       "id         0\n",
       "f0         0\n",
       "f1         0\n",
       "f2         0\n",
       "product    0\n",
       "dtype: int64"
      ]
     },
     "metadata": {},
     "output_type": "display_data"
    },
    {
     "name": "stdout",
     "output_type": "stream",
     "text": [
      "\n",
      "\u001b[1mZeros in the columns:\n",
      "\n",
      "\u001b[1mShape: (100000, 5)\n",
      "\n",
      "Unique wells in the dataset : 99996\n",
      "\n",
      "Duplicated: \u001b[1mWe have 0 duplicated rows\n",
      "\u001b[0m\n",
      "\n",
      "\u001b[1mDtypes:\n"
     ]
    },
    {
     "data": {
      "text/plain": [
       "id          object\n",
       "f0         float64\n",
       "f1         float64\n",
       "f2         float64\n",
       "product    float64\n",
       "dtype: object"
      ]
     },
     "metadata": {},
     "output_type": "display_data"
    },
    {
     "name": "stdout",
     "output_type": "stream",
     "text": [
      "\n"
     ]
    }
   ],
   "source": [
    "general_info(df_1)"
   ]
  },
  {
   "cell_type": "markdown",
   "id": "7da2d805",
   "metadata": {
    "id": "7da2d805"
   },
   "source": [
    "## Fixing df_1:\n",
    "\n",
    "df_1 dataset contains extremly large proportion of zero values in the product column (8235 instances). For now we decided to leave it as is, but it is something that we should keep in mind (df_0, for example had only 1 instance of product ==0 instance).\n",
    "\n",
    "We also came across duplicates in the id column of df_1. We will solve this in the same way we dealt with the previous dataset: group by id and get the mean. "
   ]
  },
  {
   "cell_type": "code",
   "execution_count": 10,
   "id": "8266d0e8",
   "metadata": {
    "id": "8266d0e8",
    "outputId": "0971d596-9b5b-420d-b708-e301d02d3805"
   },
   "outputs": [
    {
     "name": "stdout",
     "output_type": "stream",
     "text": [
      "0\n"
     ]
    },
    {
     "data": {
      "text/plain": [
       "True"
      ]
     },
     "execution_count": 10,
     "metadata": {},
     "output_type": "execute_result"
    }
   ],
   "source": [
    "df_1 = df_1.groupby('id').mean().reset_index()\n",
    "\n",
    "# Checking that we have no duplicates in id column\n",
    "print(df_1.id.duplicated().sum())\n",
    "\n",
    "# Checking that the lenght of the dataset is equal to the unique instances of the dataset. \n",
    "df_1.id.nunique() == len(df_1)"
   ]
  },
  {
   "cell_type": "markdown",
   "id": "29622406",
   "metadata": {
    "id": "29622406"
   },
   "source": [
    "## Checking DF_2"
   ]
  },
  {
   "cell_type": "code",
   "execution_count": 11,
   "id": "83272541",
   "metadata": {
    "id": "83272541",
    "outputId": "844d1e84-c95c-4e90-f7e9-d1f38f307e42"
   },
   "outputs": [
    {
     "name": "stdout",
     "output_type": "stream",
     "text": [
      "\u001b[1m\u001b[0m\n"
     ]
    },
    {
     "data": {
      "text/html": [
       "<div>\n",
       "<style scoped>\n",
       "    .dataframe tbody tr th:only-of-type {\n",
       "        vertical-align: middle;\n",
       "    }\n",
       "\n",
       "    .dataframe tbody tr th {\n",
       "        vertical-align: top;\n",
       "    }\n",
       "\n",
       "    .dataframe thead th {\n",
       "        text-align: right;\n",
       "    }\n",
       "</style>\n",
       "<table border=\"1\" class=\"dataframe\">\n",
       "  <thead>\n",
       "    <tr style=\"text-align: right;\">\n",
       "      <th></th>\n",
       "      <th>type</th>\n",
       "      <th>count</th>\n",
       "      <th>na</th>\n",
       "      <th>na%</th>\n",
       "    </tr>\n",
       "  </thead>\n",
       "  <tbody>\n",
       "    <tr>\n",
       "      <th>id</th>\n",
       "      <td>object</td>\n",
       "      <td>100000</td>\n",
       "      <td>0</td>\n",
       "      <td>0.0</td>\n",
       "    </tr>\n",
       "    <tr>\n",
       "      <th>f0</th>\n",
       "      <td>float64</td>\n",
       "      <td>100000</td>\n",
       "      <td>0</td>\n",
       "      <td>0.0</td>\n",
       "    </tr>\n",
       "    <tr>\n",
       "      <th>f1</th>\n",
       "      <td>float64</td>\n",
       "      <td>100000</td>\n",
       "      <td>0</td>\n",
       "      <td>0.0</td>\n",
       "    </tr>\n",
       "    <tr>\n",
       "      <th>f2</th>\n",
       "      <td>float64</td>\n",
       "      <td>100000</td>\n",
       "      <td>0</td>\n",
       "      <td>0.0</td>\n",
       "    </tr>\n",
       "    <tr>\n",
       "      <th>product</th>\n",
       "      <td>float64</td>\n",
       "      <td>100000</td>\n",
       "      <td>0</td>\n",
       "      <td>0.0</td>\n",
       "    </tr>\n",
       "  </tbody>\n",
       "</table>\n",
       "</div>"
      ],
      "text/plain": [
       "            type   count  na  na%\n",
       "id        object  100000   0  0.0\n",
       "f0       float64  100000   0  0.0\n",
       "f1       float64  100000   0  0.0\n",
       "f2       float64  100000   0  0.0\n",
       "product  float64  100000   0  0.0"
      ]
     },
     "metadata": {},
     "output_type": "display_data"
    },
    {
     "name": "stdout",
     "output_type": "stream",
     "text": [
      "\n",
      "\u001b[1mSample:\n"
     ]
    },
    {
     "data": {
      "text/html": [
       "<div>\n",
       "<style scoped>\n",
       "    .dataframe tbody tr th:only-of-type {\n",
       "        vertical-align: middle;\n",
       "    }\n",
       "\n",
       "    .dataframe tbody tr th {\n",
       "        vertical-align: top;\n",
       "    }\n",
       "\n",
       "    .dataframe thead th {\n",
       "        text-align: right;\n",
       "    }\n",
       "</style>\n",
       "<table border=\"1\" class=\"dataframe\">\n",
       "  <thead>\n",
       "    <tr style=\"text-align: right;\">\n",
       "      <th></th>\n",
       "      <th>id</th>\n",
       "      <th>f0</th>\n",
       "      <th>f1</th>\n",
       "      <th>f2</th>\n",
       "      <th>product</th>\n",
       "    </tr>\n",
       "  </thead>\n",
       "  <tbody>\n",
       "    <tr>\n",
       "      <th>5218</th>\n",
       "      <td>EYuGF</td>\n",
       "      <td>1.980388</td>\n",
       "      <td>1.044908</td>\n",
       "      <td>1.300817</td>\n",
       "      <td>58.666450</td>\n",
       "    </tr>\n",
       "    <tr>\n",
       "      <th>47879</th>\n",
       "      <td>8etwE</td>\n",
       "      <td>1.574434</td>\n",
       "      <td>4.983617</td>\n",
       "      <td>3.425385</td>\n",
       "      <td>128.787131</td>\n",
       "    </tr>\n",
       "    <tr>\n",
       "      <th>18129</th>\n",
       "      <td>OLL6u</td>\n",
       "      <td>2.130182</td>\n",
       "      <td>0.248854</td>\n",
       "      <td>1.722685</td>\n",
       "      <td>39.740780</td>\n",
       "    </tr>\n",
       "    <tr>\n",
       "      <th>31400</th>\n",
       "      <td>CePFp</td>\n",
       "      <td>1.430780</td>\n",
       "      <td>-1.614388</td>\n",
       "      <td>-1.320081</td>\n",
       "      <td>173.754635</td>\n",
       "    </tr>\n",
       "    <tr>\n",
       "      <th>45023</th>\n",
       "      <td>2rmtK</td>\n",
       "      <td>-0.591297</td>\n",
       "      <td>0.212175</td>\n",
       "      <td>3.641514</td>\n",
       "      <td>54.477672</td>\n",
       "    </tr>\n",
       "  </tbody>\n",
       "</table>\n",
       "</div>"
      ],
      "text/plain": [
       "          id        f0        f1        f2     product\n",
       "5218   EYuGF  1.980388  1.044908  1.300817   58.666450\n",
       "47879  8etwE  1.574434  4.983617  3.425385  128.787131\n",
       "18129  OLL6u  2.130182  0.248854  1.722685   39.740780\n",
       "31400  CePFp  1.430780 -1.614388 -1.320081  173.754635\n",
       "45023  2rmtK -0.591297  0.212175  3.641514   54.477672"
      ]
     },
     "metadata": {},
     "output_type": "display_data"
    },
    {
     "name": "stdout",
     "output_type": "stream",
     "text": [
      "\n",
      "\u001b[1mInfo:\n",
      "\n",
      "<class 'pandas.core.frame.DataFrame'>\n",
      "RangeIndex: 100000 entries, 0 to 99999\n",
      "Data columns (total 5 columns):\n",
      " #   Column   Non-Null Count   Dtype  \n",
      "---  ------   --------------   -----  \n",
      " 0   id       100000 non-null  object \n",
      " 1   f0       100000 non-null  float64\n",
      " 2   f1       100000 non-null  float64\n",
      " 3   f2       100000 non-null  float64\n",
      " 4   product  100000 non-null  float64\n",
      "dtypes: float64(4), object(1)\n",
      "memory usage: 3.8+ MB\n"
     ]
    },
    {
     "data": {
      "text/plain": [
       "None"
      ]
     },
     "metadata": {},
     "output_type": "display_data"
    },
    {
     "name": "stdout",
     "output_type": "stream",
     "text": [
      "\n",
      "\u001b[1mDescribe:\n",
      "\n"
     ]
    },
    {
     "data": {
      "text/html": [
       "<div>\n",
       "<style scoped>\n",
       "    .dataframe tbody tr th:only-of-type {\n",
       "        vertical-align: middle;\n",
       "    }\n",
       "\n",
       "    .dataframe tbody tr th {\n",
       "        vertical-align: top;\n",
       "    }\n",
       "\n",
       "    .dataframe thead th {\n",
       "        text-align: right;\n",
       "    }\n",
       "</style>\n",
       "<table border=\"1\" class=\"dataframe\">\n",
       "  <thead>\n",
       "    <tr style=\"text-align: right;\">\n",
       "      <th></th>\n",
       "      <th>f0</th>\n",
       "      <th>f1</th>\n",
       "      <th>f2</th>\n",
       "      <th>product</th>\n",
       "    </tr>\n",
       "  </thead>\n",
       "  <tbody>\n",
       "    <tr>\n",
       "      <th>count</th>\n",
       "      <td>100000.000000</td>\n",
       "      <td>100000.000000</td>\n",
       "      <td>100000.000000</td>\n",
       "      <td>100000.000000</td>\n",
       "    </tr>\n",
       "    <tr>\n",
       "      <th>mean</th>\n",
       "      <td>0.002023</td>\n",
       "      <td>-0.002081</td>\n",
       "      <td>2.495128</td>\n",
       "      <td>95.000000</td>\n",
       "    </tr>\n",
       "    <tr>\n",
       "      <th>std</th>\n",
       "      <td>1.732045</td>\n",
       "      <td>1.730417</td>\n",
       "      <td>3.473445</td>\n",
       "      <td>44.749921</td>\n",
       "    </tr>\n",
       "    <tr>\n",
       "      <th>min</th>\n",
       "      <td>-8.760004</td>\n",
       "      <td>-7.084020</td>\n",
       "      <td>-11.970335</td>\n",
       "      <td>0.000000</td>\n",
       "    </tr>\n",
       "    <tr>\n",
       "      <th>25%</th>\n",
       "      <td>-1.162288</td>\n",
       "      <td>-1.174820</td>\n",
       "      <td>0.130359</td>\n",
       "      <td>59.450441</td>\n",
       "    </tr>\n",
       "    <tr>\n",
       "      <th>50%</th>\n",
       "      <td>0.009424</td>\n",
       "      <td>-0.009482</td>\n",
       "      <td>2.484236</td>\n",
       "      <td>94.925613</td>\n",
       "    </tr>\n",
       "    <tr>\n",
       "      <th>75%</th>\n",
       "      <td>1.158535</td>\n",
       "      <td>1.163678</td>\n",
       "      <td>4.858794</td>\n",
       "      <td>130.595027</td>\n",
       "    </tr>\n",
       "    <tr>\n",
       "      <th>max</th>\n",
       "      <td>7.238262</td>\n",
       "      <td>7.844801</td>\n",
       "      <td>16.739402</td>\n",
       "      <td>190.029838</td>\n",
       "    </tr>\n",
       "  </tbody>\n",
       "</table>\n",
       "</div>"
      ],
      "text/plain": [
       "                  f0             f1             f2        product\n",
       "count  100000.000000  100000.000000  100000.000000  100000.000000\n",
       "mean        0.002023      -0.002081       2.495128      95.000000\n",
       "std         1.732045       1.730417       3.473445      44.749921\n",
       "min        -8.760004      -7.084020     -11.970335       0.000000\n",
       "25%        -1.162288      -1.174820       0.130359      59.450441\n",
       "50%         0.009424      -0.009482       2.484236      94.925613\n",
       "75%         1.158535       1.163678       4.858794     130.595027\n",
       "max         7.238262       7.844801      16.739402     190.029838"
      ]
     },
     "metadata": {},
     "output_type": "display_data"
    },
    {
     "name": "stdout",
     "output_type": "stream",
     "text": [
      "\n",
      "\u001b[1mNulls in the columns:\n"
     ]
    },
    {
     "data": {
      "text/plain": [
       "id         0\n",
       "f0         0\n",
       "f1         0\n",
       "f2         0\n",
       "product    0\n",
       "dtype: int64"
      ]
     },
     "metadata": {},
     "output_type": "display_data"
    },
    {
     "name": "stdout",
     "output_type": "stream",
     "text": [
      "\n",
      "\u001b[1mZeros in the columns:\n",
      "\n",
      "\u001b[1mShape: (100000, 5)\n",
      "\n",
      "Unique wells in the dataset : 99996\n",
      "\n",
      "Duplicated: \u001b[1mWe have 0 duplicated rows\n",
      "\u001b[0m\n",
      "\n",
      "\u001b[1mDtypes:\n"
     ]
    },
    {
     "data": {
      "text/plain": [
       "id          object\n",
       "f0         float64\n",
       "f1         float64\n",
       "f2         float64\n",
       "product    float64\n",
       "dtype: object"
      ]
     },
     "metadata": {},
     "output_type": "display_data"
    },
    {
     "name": "stdout",
     "output_type": "stream",
     "text": [
      "\n"
     ]
    }
   ],
   "source": [
    "general_info(df_2)"
   ]
  },
  {
   "cell_type": "code",
   "execution_count": 12,
   "id": "bfea00b8",
   "metadata": {},
   "outputs": [
    {
     "data": {
      "text/plain": [
       "4"
      ]
     },
     "execution_count": 12,
     "metadata": {},
     "output_type": "execute_result"
    }
   ],
   "source": [
    "# Checking the number of duplicated ids\n",
    "df_2.id.duplicated().sum()"
   ]
  },
  {
   "cell_type": "markdown",
   "id": "c7d73299",
   "metadata": {
    "id": "c7d73299"
   },
   "source": [
    "## Fixing df_2:\n",
    "\n",
    "df_2 dataset contains 4 duplicates in the id column. Let's group by id and avr."
   ]
  },
  {
   "cell_type": "code",
   "execution_count": 13,
   "id": "1534c1a0",
   "metadata": {
    "id": "1534c1a0",
    "outputId": "10fb71fc-a621-40a2-ca7a-926996843f5e"
   },
   "outputs": [
    {
     "name": "stdout",
     "output_type": "stream",
     "text": [
      "0\n"
     ]
    },
    {
     "data": {
      "text/plain": [
       "True"
      ]
     },
     "execution_count": 13,
     "metadata": {},
     "output_type": "execute_result"
    }
   ],
   "source": [
    "df_2 = df_2.groupby('id').mean().reset_index()\n",
    "\n",
    "# Checking that we have no duplicates in id column\n",
    "print(df_2.id.duplicated().sum())\n",
    "\n",
    "# Checking that the lenght of the dataset is equal to the unique instances of the dataset. \n",
    "df_2.id.nunique() == len(df_2)"
   ]
  },
  {
   "cell_type": "markdown",
   "id": "548f9717",
   "metadata": {},
   "source": [
    "<div class=\"alert alert-success\">\n",
    "<b>Reviewer's comment</b>\n",
    "\n",
    "Alright, the data was loaded and inspected\n",
    "\n",
    "</div>"
   ]
  },
  {
   "cell_type": "markdown",
   "id": "3ee5de6a",
   "metadata": {
    "id": "3ee5de6a"
   },
   "source": [
    "### So far we imported the datasets, got familiar with the numbers, noticed the anomalies (8K instances of product == 0 in df_1), and got rid of the duplicates. \n",
    "\n",
    "**Our next step would be :**\n",
    "\n",
    "* To split the data into a training set and validation set at a ratio of 75:25.\n",
    "* To train the model and make predictions for the validation set.\n",
    "* To save the predictions and correct answers for the validation set.\n",
    "* To print the average volume of predicted reserves and model RMSE.\n",
    "* To analyze the results."
   ]
  },
  {
   "cell_type": "code",
   "execution_count": 14,
   "id": "f4508666",
   "metadata": {
    "id": "f4508666"
   },
   "outputs": [],
   "source": [
    "## Let's do the following:"
   ]
  },
  {
   "cell_type": "code",
   "execution_count": 15,
   "id": "776425b8",
   "metadata": {
    "id": "776425b8",
    "outputId": "f167d302-33a2-40ca-e71b-e189452c9a19"
   },
   "outputs": [
    {
     "name": "stdout",
     "output_type": "stream",
     "text": [
      "RMSE of df_0 is 37.62 , avr volume of predicted reserves: 92.46\n",
      "RMSE of df_1 is 0.89 , avr volume of predicted reserves: 68.85\n",
      "RMSE of df_2 is 39.86 , avr volume of predicted reserves: 94.92\n"
     ]
    }
   ],
   "source": [
    "df_0.name = \"df_0\"\n",
    "df_1.name = \"df_1\"\n",
    "df_2.name = \"df_2\"\n",
    "\n",
    "\n",
    "for data in [df_0,df_1, df_2]:\n",
    "    # Let's split our features and target to test and train subsets:\n",
    "    features = data[[\"f0\", \"f1\",  \"f2\"]]\n",
    "    target  = data[\"product\"]  \n",
    "    X_train, X_test, y_train, y_test = train_test_split(features, target, test_size=0.25, random_state=42)\n",
    "    \n",
    "    #Let's instantiate the model:\n",
    "    model = LinearRegression()\n",
    "\n",
    "    # Training the model:\n",
    "    model.fit(X_train, y_train)\n",
    "    \n",
    "    # Predicting the values of the test features and saving in the predicted values variable:\n",
    "    predicted_values = model.predict(X_test)\n",
    "    \n",
    "    # Calculating the Root_mean_squared_error (RMSE) \n",
    "    rmse = mean_squared_error(y_test, predicted_values, squared=False)\n",
    "    print(\"RMSE of\", data.name, \"is\",round(rmse, 2), \", avr volume of predicted reserves:\", round(predicted_values.mean(),2))"
   ]
  },
  {
   "cell_type": "markdown",
   "id": "5e303890",
   "metadata": {
    "id": "5e303890"
   },
   "source": [
    "## Analyzing the results:"
   ]
  },
  {
   "cell_type": "markdown",
   "id": "d83cecb9",
   "metadata": {
    "id": "d83cecb9"
   },
   "source": [
    "We performed 3 tests of different models, each referring to a different geographical area. \n",
    "There's not likely to be any acceptable \"good\" value for RMSE. These scores are better interpreted and applied comparatively rather than absolutely. Yet as a rule of a tumb, in terms of RMSE, the lower the better. Our best performing model so far is the second one (of df_1), with the lowest RMSE of 0.88. Our worst model is the third one (df_2) with RMSE of 39.8"
   ]
  },
  {
   "cell_type": "markdown",
   "id": "5d4d1d96",
   "metadata": {},
   "source": [
    "<div class=\"alert alert-success\">\n",
    "<b>Reviewer's comment</b>\n",
    "\n",
    "The models were trained and evaluated correctly\n",
    "\n",
    "</div>"
   ]
  },
  {
   "cell_type": "markdown",
   "id": "679c72d9",
   "metadata": {},
   "source": [
    "Yet our suspicion is that the unusually good RMSE score of region df_1 is due to the high volume of \n",
    "product = 0 instances. \n",
    "Let's make a test and run this check again, this time without product = 0 instances:"
   ]
  },
  {
   "cell_type": "code",
   "execution_count": 16,
   "id": "a9381c85",
   "metadata": {},
   "outputs": [
    {
     "name": "stdout",
     "output_type": "stream",
     "text": [
      "The lenght of testing subset of df_1 region is 91761 instances\n",
      "\n",
      "RMSE of df_0 is 37.62 , avr volume of predicted reserves: 92.46\n",
      "RMSE of df_1 is 0.89 , avr volume of predicted reserves: 68.85\n",
      "RMSE of df_2 is 39.86 , avr volume of predicted reserves: 94.92\n",
      "RMSE of testing_subset is 0.89 , avr volume of predicted reserves: 74.57\n"
     ]
    }
   ],
   "source": [
    "testing_subset = df_1[df_1[\"product\"]>0]\n",
    "print(\"The lenght of testing subset of df_1 region is\", len(testing_subset), \"instances\")\n",
    "print()\n",
    "\n",
    "testing_subset.name = \"testing_subset\"\n",
    "\n",
    "for data in [df_0,df_1, df_2, testing_subset]:\n",
    "    # Let's split our features and target to test and train subsets:\n",
    "    features = data[[\"f0\", \"f1\",  \"f2\"]]\n",
    "    target  = data[\"product\"]  \n",
    "    X_train, X_test, y_train, y_test = train_test_split(features, target, test_size=0.25, random_state=42)\n",
    "    \n",
    "    #Let's instantiate the model:\n",
    "    model = LinearRegression()\n",
    "\n",
    "    # Training the model:\n",
    "    model.fit(X_train, y_train)\n",
    "    \n",
    "    # Predicting the values of the test features and saving in the predicted values variable:\n",
    "    predicted_values = model.predict(X_test)\n",
    "    \n",
    "    # Calculating the Root_mean_squared_error (RMSE) \n",
    "    rmse = mean_squared_error(y_test, predicted_values, squared=False)\n",
    "    print(\"RMSE of\", data.name, \"is\", round(rmse, 2), \", avr volume of predicted reserves:\", round(predicted_values.mean(),2))"
   ]
  },
  {
   "cell_type": "markdown",
   "id": "80d5adf3",
   "metadata": {},
   "source": [
    "Seems like the good results of df_1 are NOT due to the high number of product=0 instances."
   ]
  },
  {
   "cell_type": "markdown",
   "id": "c8ccb2c0",
   "metadata": {},
   "source": [
    "<div class=\"alert alert-success\">\n",
    "<b>Reviewer's comment</b>\n",
    "\n",
    "Indeed\n",
    "\n",
    "</div>"
   ]
  },
  {
   "cell_type": "markdown",
   "id": "c10f20b8",
   "metadata": {},
   "source": [
    "# 3. Profit Calculations"
   ]
  },
  {
   "cell_type": "markdown",
   "id": "577b3e50",
   "metadata": {},
   "source": [
    "### 3.1 Storing all key values for calculations in separate variables.\n"
   ]
  },
  {
   "cell_type": "code",
   "execution_count": 17,
   "id": "c73bc1a6",
   "metadata": {},
   "outputs": [
    {
     "data": {
      "text/plain": [
       "500000.0"
      ]
     },
     "execution_count": 17,
     "metadata": {},
     "output_type": "execute_result"
    }
   ],
   "source": [
    "\n",
    "cost_of_200_wells = 100000000 # (one hundred million)\n",
    "number_of_wells = 200\n",
    "cost_of_one_well = cost_of_200_wells / number_of_wells\n",
    "unit_of_product = 4500\n",
    "cost_of_one_well"
   ]
  },
  {
   "cell_type": "markdown",
   "id": "bc6a2697",
   "metadata": {},
   "source": [
    "### 3.2 Calculate the volume of reserves sufficient for developing a new well without losses. Compare the obtained value with the average volume of reserves in each region."
   ]
  },
  {
   "cell_type": "code",
   "execution_count": 18,
   "id": "e7fcd0ed",
   "metadata": {},
   "outputs": [
    {
     "name": "stdout",
     "output_type": "stream",
     "text": [
      "\n",
      "The volume of reserves sufficient for developing a new well without losses is 111.11 units\n",
      "and yet our mean of products in the regions are:\n",
      "\n",
      "Mean volume of reserves of df_0  region is 92.5\n",
      "Mean volume of reserves of df_1  region is 68.82\n",
      "Mean volume of reserves of df_2  region is 95.0\n"
     ]
    }
   ],
   "source": [
    "volume_of_reserves_sufficient = cost_of_one_well / unit_of_product \n",
    "volume_of_reserves_sufficient\n",
    "\n",
    "print()\n",
    "print(\"The volume of reserves sufficient for developing a new well without losses is\", round(volume_of_reserves_sufficient, 2), \"units\")\n",
    "print(\"and yet our mean of products in the regions are:\")\n",
    "print()\n",
    "\n",
    "for region in [df_0, df_1, df_2]:\n",
    "    print(\"Mean volume of reserves of\", region.name, \" region is\", round(region[\"product\"].mean(),2))"
   ]
  },
  {
   "cell_type": "markdown",
   "id": "947166bd",
   "metadata": {},
   "source": [
    "### 3.3. Provide the findings about the preparation for profit calculation step."
   ]
  },
  {
   "cell_type": "markdown",
   "id": "8dc38af8",
   "metadata": {},
   "source": [
    "So far we have found that the region with the most precise prediction product estimates its mean product to be 68.8 units, the lowest value of the three. The other regions are in the lower 90 of mean units. Which is not sufficient for covering the costs of the well development. \n",
    "Meaning that the company involved in the well development takes a risk."
   ]
  },
  {
   "cell_type": "markdown",
   "id": "7416a3fe",
   "metadata": {},
   "source": [
    "<div class=\"alert alert-success\">\n",
    "<b>Reviewer's comment</b>\n",
    "\n",
    "Calculations are correct!\n",
    "\n",
    "</div>"
   ]
  },
  {
   "cell_type": "markdown",
   "id": "5d1b2032",
   "metadata": {},
   "source": [
    "### 4.1 - 4.2  Pick the wells with the highest values of predictions. Summarize the target volume of reserves in accordance with these predictions"
   ]
  },
  {
   "cell_type": "code",
   "execution_count": 19,
   "id": "06d9c059",
   "metadata": {},
   "outputs": [],
   "source": [
    "def profit(list_to_inspect):\n",
    "    print(\"True profit of 200 wells with best predictions:\")\n",
    "    print(\" \")\n",
    "    price_of_unit = 4500\n",
    "    cost_of_200_wells = 100000000\n",
    "    for data in list_to_inspect:\n",
    "        # Let's split our features and target to test and train subsets:\n",
    "        features = data[[\"f0\", \"f1\",  \"f2\"]]\n",
    "        target  = data[\"product\"]  \n",
    "        X_train, X_test, y_train, y_test = train_test_split(features, target, test_size=0.25, random_state=42)\n",
    "\n",
    "        #Let's instantiate the model:\n",
    "        model = LinearRegression()\n",
    "\n",
    "        # Training the model:\n",
    "        model.fit(X_train, y_train)\n",
    "\n",
    "        # Predicting the values of the test features and saving in the predicted values variable:\n",
    "        predicted_values = pd.Series(model.predict(X_test))\n",
    "        \n",
    "        best_200_predictions = predicted_values.nlargest(200)\n",
    "        best_picks = [y_test.iloc[i] for i in best_200_predictions.index]\n",
    "        target_volume = sum(best_picks)\n",
    "        print(f\"Region: {data.name} /  Revenue: {round(target_volume*price_of_unit/1000000, 2)} million USD. Profit: {round((target_volume*price_of_unit-cost_of_200_wells)/1000000, 2)} \")\n",
    "        #print(f\"Region:  /  Revenue: {round(target_volume*price_of_unit/1000000, 2)} mill USD. Profit: {round((target_volume*price_of_unit-cost_of_200_wells)/1000000, 2)} mill USD\")\n"
   ]
  },
  {
   "cell_type": "code",
   "execution_count": 20,
   "id": "f7e3d49e",
   "metadata": {},
   "outputs": [
    {
     "name": "stdout",
     "output_type": "stream",
     "text": [
      "True profit of 200 wells with best predictions:\n",
      " \n",
      "Region: df_0 /  Revenue: 133.72 million USD. Profit: 33.72 \n",
      "Region: df_1 /  Revenue: 124.15 million USD. Profit: 24.15 \n",
      "Region: df_2 /  Revenue: 123.65 million USD. Profit: 23.65 \n"
     ]
    }
   ],
   "source": [
    "regions = [df_0,df_1, df_2]\n",
    "profit(regions)"
   ]
  },
  {
   "cell_type": "markdown",
   "id": "762d932d",
   "metadata": {},
   "source": [
    "### 4.3  Provide findings: suggest a region for oil wells' development and justify the choice. "
   ]
  },
  {
   "cell_type": "markdown",
   "id": "a513a9f0",
   "metadata": {},
   "source": [
    "It would be logical to suggest that df_0 is the best performing region and therefore is the leading condidate for well development. Yet we must take into the account the different risk levels and the different levels of predictability of our model (RMSE)\n",
    "\n",
    "In order to suggest a region for oil wells development we must take into account the risk involved in each region, the predictability of the profits. \n",
    "\n"
   ]
  },
  {
   "cell_type": "markdown",
   "id": "9d99cca2",
   "metadata": {},
   "source": [
    "<div class=\"alert alert-success\">\n",
    "<b>Reviewer's comment V2</b>\n",
    "\n",
    "Alright, looks good!\n",
    "\n",
    "</div>"
   ]
  },
  {
   "cell_type": "markdown",
   "id": "adbce2b2",
   "metadata": {},
   "source": [
    "### 5.1 - 5.2  Use the bootstrapping technique with 1000 samples to find the distribution of profit. Find average profit, 95% confidence interval and risk of losses. Loss is negative profit, calculate it as a probability and then express as a percentage."
   ]
  },
  {
   "cell_type": "markdown",
   "id": "c18b98b4",
   "metadata": {},
   "source": [
    "This task was quite challenging as it was ambigious and there were many many wrong interpretations made by me and other students. From my best understanding of the task, following your comments, I used this logic:\n",
    "\n",
    "- We devide our 3 regions by 1000 samples each,\n",
    "- Each sample contains 500 instances of wells. \n",
    "- We run a model on each sample and get the predictions \n",
    "- We sort these predictions and use the best 200 predictions' indexes to choose 200 true products of the wells.\n",
    "- Thus we can calculate the avr revenue, profit and risk. \n",
    "\n"
   ]
  },
  {
   "cell_type": "code",
   "execution_count": 26,
   "id": "2a1fc2b0",
   "metadata": {},
   "outputs": [
    {
     "name": "stdout",
     "output_type": "stream",
     "text": [
      "    Region: df_0 \n",
      "Avr Revenue 104232732.99  USD \n",
      "Avr Profit 4232732.99  USD \n",
      "Lower Profit -570194.17 USD\n",
      "Upper Profit 9133042.35  USD\n",
      "Risk of Losses 4.1% \n",
      "################# \n",
      " \n",
      "    Region: df_1 \n",
      "Avr Revenue 104533359.92  USD \n",
      "Avr Profit 4533359.92  USD \n",
      "Lower Profit 510389.78 USD\n",
      "Upper Profit 8431289.73  USD\n",
      "Risk of Losses 1.0% \n",
      "################# \n",
      " \n",
      "    Region: df_2 \n",
      "Avr Revenue 103746295.39  USD \n",
      "Avr Profit 3746295.39  USD \n",
      "Lower Profit -1546313.08 USD\n",
      "Upper Profit 8931852.11  USD\n",
      "Risk of Losses 9.0% \n",
      "################# \n",
      " \n"
     ]
    }
   ],
   "source": [
    "def bootstraping(data_list):\n",
    "\n",
    "    for data in data_list:\n",
    "        cost_of_200_wells = 100000000\n",
    "        features = data[[\"f0\", \"f1\",  \"f2\"]]\n",
    "        target  = data[\"product\"]        \n",
    "        X_train, X_test, y_train, y_test = train_test_split(features, target, test_size=0.25, random_state=42) \n",
    "                # Let's instantiate the model:\n",
    "        model = LinearRegression()     \n",
    "                # Training the model:\n",
    "        model.fit(X_train, y_train)       \n",
    "\n",
    "        list_of_prods = []\n",
    "        list_of_revs = []\n",
    "        list_of_profits = []\n",
    "        for i in range(1000):\n",
    "                subsample = data.sample(n=500,  replace=True)\n",
    "\n",
    "                # Predicting the values of the test features and saving in the predicted values variable:\n",
    "                predicted_values = pd.Series(model.predict(subsample[[\"f0\", \"f1\",  \"f2\"]])) \n",
    "                # Selecting 200 best predictions\n",
    "                best_200_predictions = predicted_values.nlargest(200)  \n",
    "                # Using the indexes of best preds to find the wells \n",
    "                best_prods = [subsample[\"product\"].iloc[ind] for ind in best_200_predictions.index]\n",
    "                list_of_prods.append(sum(best_prods))\n",
    "                list_of_revs.append(sum(best_prods)*4500)\n",
    "                list_of_profits.append((sum(best_prods)*4500) - cost_of_200_wells)\n",
    "\n",
    "        avr_true_product = np.mean(list_of_prods)\n",
    "        avr_rev = avr_true_product*4500\n",
    "        avr_profit = avr_rev - cost_of_200_wells\n",
    "        lower = pd.Series(list_of_profits).quantile(0.025)\n",
    "        upper = pd.Series(list_of_profits).quantile(0.975)\n",
    "        neg_count = len(list(filter(lambda x: (x < 0), list_of_profits)))\n",
    "                \n",
    "\n",
    "\n",
    "        print(f\"    Region: {data.name} \\n\" \n",
    "                  f\"Avr Revenue {round(avr_rev,2)}  USD \\n\" \n",
    "                  f\"Avr Profit {round(avr_profit,2)}  USD \\n\" \n",
    "                  f\"Lower Profit {round(lower,2)} USD\\n\" \n",
    "                  f\"Upper Profit {round(upper,2)}  USD\\n\" \n",
    "                  f\"Risk of Losses {round(neg_count/len(list_of_profits)*100,2)}% \\n\"\n",
    "                  \"################# \\n\"\n",
    "                   \" \")\n",
    "regions = [df_0,df_1, df_2]\n",
    "bootstraping(regions)"
   ]
  },
  {
   "cell_type": "markdown",
   "id": "24c7c621",
   "metadata": {},
   "source": [
    "<div class=\"alert alert-success\">\n",
    "<b>Reviewer's comment V3</b>\n",
    "\n",
    "Great, everything is correct now!\n",
    "\n",
    "</div>"
   ]
  },
  {
   "cell_type": "markdown",
   "id": "b9f79226",
   "metadata": {},
   "source": [
    "## Thank you, these were very important points!"
   ]
  },
  {
   "cell_type": "markdown",
   "id": "b7b69026",
   "metadata": {},
   "source": [
    "### Conclution:\n",
    "\n",
    "Our analysis shows that **region df_1**, is the best performing region in our task.\n",
    "\n",
    "Having the **highiest mean profit** of the three regions, the df_1 region also benefits from:\n",
    "* The **lowest risk of losses**, \n",
    "* **Highest lower confidence** level. \n",
    "* **The Lowest RMSE**, meaning that the predictability of the product estimates in this region are very high (thus, the risk is low)"
   ]
  },
  {
   "cell_type": "markdown",
   "id": "e51d9421",
   "metadata": {},
   "source": [
    "<div class=\"alert alert-success\">\n",
    "<b>Reviewer's comment V3</b>\n",
    "\n",
    "Region choice is correct and justified!\n",
    "\n",
    "</div>"
   ]
  },
  {
   "cell_type": "code",
   "execution_count": null,
   "id": "2ad12cce",
   "metadata": {},
   "outputs": [],
   "source": []
  },
  {
   "cell_type": "code",
   "execution_count": null,
   "id": "02568d75",
   "metadata": {},
   "outputs": [],
   "source": []
  }
 ],
 "metadata": {
  "ExecuteTimeLog": [
   {
    "duration": 1277,
    "start_time": "2022-05-22T15:58:56.186Z"
   },
   {
    "duration": 163,
    "start_time": "2022-05-22T15:58:57.470Z"
   },
   {
    "duration": 8,
    "start_time": "2022-05-22T15:58:57.635Z"
   },
   {
    "duration": 240,
    "start_time": "2022-05-22T15:58:57.646Z"
   },
   {
    "duration": 8,
    "start_time": "2022-05-22T15:58:57.888Z"
   },
   {
    "duration": 424,
    "start_time": "2022-05-22T15:58:57.898Z"
   },
   {
    "duration": 17,
    "start_time": "2022-05-22T15:58:58.323Z"
   },
   {
    "duration": 30,
    "start_time": "2022-05-22T15:58:58.342Z"
   },
   {
    "duration": 12,
    "start_time": "2022-05-22T15:58:58.373Z"
   },
   {
    "duration": 5,
    "start_time": "2022-05-22T15:58:58.387Z"
   },
   {
    "duration": 5,
    "start_time": "2022-05-22T15:58:58.394Z"
   },
   {
    "duration": 9,
    "start_time": "2022-05-22T15:58:58.400Z"
   },
   {
    "duration": 11,
    "start_time": "2022-05-22T15:58:58.411Z"
   },
   {
    "duration": 79,
    "start_time": "2022-05-22T15:58:58.424Z"
   },
   {
    "duration": 4,
    "start_time": "2022-05-22T15:58:58.505Z"
   },
   {
    "duration": 22,
    "start_time": "2022-05-22T15:58:58.511Z"
   },
   {
    "duration": 23,
    "start_time": "2022-05-22T15:58:58.535Z"
   },
   {
    "duration": 7,
    "start_time": "2022-05-22T15:58:58.561Z"
   },
   {
    "duration": 227,
    "start_time": "2022-05-22T15:58:58.571Z"
   },
   {
    "duration": 344,
    "start_time": "2022-05-22T15:58:58.800Z"
   },
   {
    "duration": 115,
    "start_time": "2022-05-22T15:58:59.145Z"
   },
   {
    "duration": 280,
    "start_time": "2022-05-22T15:58:59.263Z"
   },
   {
    "duration": 29,
    "start_time": "2022-05-22T15:58:59.545Z"
   },
   {
    "duration": 96,
    "start_time": "2022-05-22T15:58:59.577Z"
   },
   {
    "duration": 89,
    "start_time": "2022-05-22T15:58:59.674Z"
   },
   {
    "duration": 8781,
    "start_time": "2022-05-22T15:58:59.765Z"
   },
   {
    "duration": 5,
    "start_time": "2022-05-22T15:59:08.548Z"
   },
   {
    "duration": 59,
    "start_time": "2022-05-22T15:59:08.560Z"
   },
   {
    "duration": 334743,
    "start_time": "2022-05-22T15:59:08.620Z"
   },
   {
    "duration": 13,
    "start_time": "2022-05-22T16:04:43.366Z"
   },
   {
    "duration": 278,
    "start_time": "2022-05-22T16:04:43.381Z"
   },
   {
    "duration": 1192,
    "start_time": "2022-05-22T16:05:32.219Z"
   },
   {
    "duration": 40,
    "start_time": "2022-05-22T16:05:33.413Z"
   },
   {
    "duration": 18,
    "start_time": "2022-05-22T16:05:33.455Z"
   },
   {
    "duration": 186,
    "start_time": "2022-05-22T16:05:33.475Z"
   },
   {
    "duration": 11,
    "start_time": "2022-05-22T16:05:33.666Z"
   },
   {
    "duration": 348,
    "start_time": "2022-05-22T16:05:33.678Z"
   },
   {
    "duration": 15,
    "start_time": "2022-05-22T16:05:34.028Z"
   },
   {
    "duration": 17,
    "start_time": "2022-05-22T16:05:34.059Z"
   },
   {
    "duration": 26,
    "start_time": "2022-05-22T16:05:34.077Z"
   },
   {
    "duration": 6,
    "start_time": "2022-05-22T16:05:34.105Z"
   },
   {
    "duration": 14,
    "start_time": "2022-05-22T16:05:34.113Z"
   },
   {
    "duration": 17,
    "start_time": "2022-05-22T16:05:34.128Z"
   },
   {
    "duration": 27,
    "start_time": "2022-05-22T16:05:34.146Z"
   },
   {
    "duration": 65,
    "start_time": "2022-05-22T16:05:34.175Z"
   },
   {
    "duration": 4,
    "start_time": "2022-05-22T16:05:34.242Z"
   },
   {
    "duration": 32,
    "start_time": "2022-05-22T16:05:34.248Z"
   },
   {
    "duration": 29,
    "start_time": "2022-05-22T16:05:34.282Z"
   },
   {
    "duration": 1281,
    "start_time": "2022-05-22T16:06:17.354Z"
   },
   {
    "duration": 49,
    "start_time": "2022-05-22T16:06:18.636Z"
   },
   {
    "duration": 9,
    "start_time": "2022-05-22T16:06:18.687Z"
   },
   {
    "duration": 182,
    "start_time": "2022-05-22T16:06:18.697Z"
   },
   {
    "duration": 6,
    "start_time": "2022-05-22T16:06:18.880Z"
   },
   {
    "duration": 354,
    "start_time": "2022-05-22T16:06:18.887Z"
   },
   {
    "duration": 31,
    "start_time": "2022-05-22T16:06:19.242Z"
   },
   {
    "duration": 9,
    "start_time": "2022-05-22T16:06:19.275Z"
   },
   {
    "duration": 13,
    "start_time": "2022-05-22T16:06:19.285Z"
   },
   {
    "duration": 5,
    "start_time": "2022-05-22T16:06:19.301Z"
   },
   {
    "duration": 7,
    "start_time": "2022-05-22T16:06:19.307Z"
   },
   {
    "duration": 11,
    "start_time": "2022-05-22T16:06:19.316Z"
   },
   {
    "duration": 41,
    "start_time": "2022-05-22T16:06:19.329Z"
   },
   {
    "duration": 52,
    "start_time": "2022-05-22T16:06:19.372Z"
   },
   {
    "duration": 5,
    "start_time": "2022-05-22T16:06:19.425Z"
   },
   {
    "duration": 9,
    "start_time": "2022-05-22T16:06:19.431Z"
   },
   {
    "duration": 35,
    "start_time": "2022-05-22T16:06:19.441Z"
   },
   {
    "duration": 5,
    "start_time": "2022-05-22T16:06:19.477Z"
   },
   {
    "duration": 88,
    "start_time": "2022-05-22T16:06:19.483Z"
   },
   {
    "duration": 283,
    "start_time": "2022-05-22T16:06:50.024Z"
   },
   {
    "duration": 1268,
    "start_time": "2022-05-22T16:07:27.498Z"
   },
   {
    "duration": 42,
    "start_time": "2022-05-22T16:07:28.767Z"
   },
   {
    "duration": 9,
    "start_time": "2022-05-22T16:07:28.810Z"
   },
   {
    "duration": 188,
    "start_time": "2022-05-22T16:07:28.821Z"
   },
   {
    "duration": 6,
    "start_time": "2022-05-22T16:07:29.011Z"
   },
   {
    "duration": 399,
    "start_time": "2022-05-22T16:07:29.018Z"
   },
   {
    "duration": 17,
    "start_time": "2022-05-22T16:07:29.419Z"
   },
   {
    "duration": 24,
    "start_time": "2022-05-22T16:07:29.438Z"
   },
   {
    "duration": 12,
    "start_time": "2022-05-22T16:07:29.464Z"
   },
   {
    "duration": 6,
    "start_time": "2022-05-22T16:07:29.479Z"
   },
   {
    "duration": 8,
    "start_time": "2022-05-22T16:07:29.486Z"
   },
   {
    "duration": 11,
    "start_time": "2022-05-22T16:07:29.495Z"
   },
   {
    "duration": 21,
    "start_time": "2022-05-22T16:07:29.508Z"
   },
   {
    "duration": 71,
    "start_time": "2022-05-22T16:07:29.530Z"
   },
   {
    "duration": 5,
    "start_time": "2022-05-22T16:07:29.602Z"
   },
   {
    "duration": 9,
    "start_time": "2022-05-22T16:07:29.609Z"
   },
   {
    "duration": 28,
    "start_time": "2022-05-22T16:07:29.620Z"
   },
   {
    "duration": 12,
    "start_time": "2022-05-22T16:07:29.649Z"
   },
   {
    "duration": 112,
    "start_time": "2022-05-22T16:07:29.663Z"
   },
   {
    "duration": 362,
    "start_time": "2022-05-22T16:07:29.777Z"
   },
   {
    "duration": 39,
    "start_time": "2022-05-22T16:07:30.141Z"
   },
   {
    "duration": 373,
    "start_time": "2022-05-22T16:07:30.261Z"
   },
   {
    "duration": 52,
    "start_time": "2022-05-22T16:08:13.313Z"
   },
   {
    "duration": 1281,
    "start_time": "2022-05-22T16:09:23.262Z"
   },
   {
    "duration": 43,
    "start_time": "2022-05-22T16:09:24.545Z"
   },
   {
    "duration": 12,
    "start_time": "2022-05-22T16:09:24.590Z"
   },
   {
    "duration": 188,
    "start_time": "2022-05-22T16:09:24.603Z"
   },
   {
    "duration": 6,
    "start_time": "2022-05-22T16:09:24.793Z"
   },
   {
    "duration": 436,
    "start_time": "2022-05-22T16:09:24.801Z"
   },
   {
    "duration": 24,
    "start_time": "2022-05-22T16:09:25.238Z"
   },
   {
    "duration": 7,
    "start_time": "2022-05-22T16:09:25.264Z"
   },
   {
    "duration": 15,
    "start_time": "2022-05-22T16:09:25.272Z"
   },
   {
    "duration": 7,
    "start_time": "2022-05-22T16:09:25.288Z"
   },
   {
    "duration": 8,
    "start_time": "2022-05-22T16:09:25.296Z"
   },
   {
    "duration": 13,
    "start_time": "2022-05-22T16:09:25.305Z"
   },
   {
    "duration": 13,
    "start_time": "2022-05-22T16:09:25.320Z"
   },
   {
    "duration": 45,
    "start_time": "2022-05-22T16:09:25.359Z"
   },
   {
    "duration": 4,
    "start_time": "2022-05-22T16:09:25.406Z"
   },
   {
    "duration": 8,
    "start_time": "2022-05-22T16:09:25.412Z"
   },
   {
    "duration": 40,
    "start_time": "2022-05-22T16:09:25.421Z"
   },
   {
    "duration": 4,
    "start_time": "2022-05-22T16:09:25.462Z"
   },
   {
    "duration": 95,
    "start_time": "2022-05-22T16:09:25.468Z"
   },
   {
    "duration": 369,
    "start_time": "2022-05-22T16:09:25.565Z"
   },
   {
    "duration": 37,
    "start_time": "2022-05-22T16:09:25.936Z"
   },
   {
    "duration": 373,
    "start_time": "2022-05-22T16:09:25.975Z"
   },
   {
    "duration": 100,
    "start_time": "2022-05-22T16:09:26.359Z"
   },
   {
    "duration": 99,
    "start_time": "2022-05-22T16:09:26.462Z"
   },
   {
    "duration": 8539,
    "start_time": "2022-05-22T16:09:26.563Z"
   },
   {
    "duration": 125,
    "start_time": "2022-05-22T16:10:17.453Z"
   },
   {
    "duration": 1292,
    "start_time": "2022-05-22T16:10:29.276Z"
   },
   {
    "duration": 42,
    "start_time": "2022-05-22T16:10:30.570Z"
   },
   {
    "duration": 10,
    "start_time": "2022-05-22T16:10:30.613Z"
   },
   {
    "duration": 202,
    "start_time": "2022-05-22T16:10:30.625Z"
   },
   {
    "duration": 31,
    "start_time": "2022-05-22T16:10:30.829Z"
   },
   {
    "duration": 356,
    "start_time": "2022-05-22T16:10:30.862Z"
   },
   {
    "duration": 17,
    "start_time": "2022-05-22T16:10:31.219Z"
   },
   {
    "duration": 21,
    "start_time": "2022-05-22T16:10:31.238Z"
   },
   {
    "duration": 71,
    "start_time": "2022-05-22T16:10:31.260Z"
   },
   {
    "duration": 26,
    "start_time": "2022-05-22T16:10:31.333Z"
   },
   {
    "duration": 18,
    "start_time": "2022-05-22T16:10:31.360Z"
   },
   {
    "duration": 61,
    "start_time": "2022-05-22T16:10:31.379Z"
   },
   {
    "duration": 47,
    "start_time": "2022-05-22T16:10:31.441Z"
   },
   {
    "duration": 69,
    "start_time": "2022-05-22T16:10:31.490Z"
   },
   {
    "duration": 5,
    "start_time": "2022-05-22T16:10:31.560Z"
   },
   {
    "duration": 47,
    "start_time": "2022-05-22T16:10:31.566Z"
   },
   {
    "duration": 45,
    "start_time": "2022-05-22T16:10:31.615Z"
   },
   {
    "duration": 6,
    "start_time": "2022-05-22T16:10:31.662Z"
   },
   {
    "duration": 190,
    "start_time": "2022-05-22T16:10:31.669Z"
   },
   {
    "duration": 378,
    "start_time": "2022-05-22T16:10:31.861Z"
   },
   {
    "duration": 37,
    "start_time": "2022-05-22T16:10:32.241Z"
   },
   {
    "duration": 357,
    "start_time": "2022-05-22T16:10:32.281Z"
   },
   {
    "duration": 120,
    "start_time": "2022-05-22T16:10:32.639Z"
   },
   {
    "duration": 99,
    "start_time": "2022-05-22T16:10:32.762Z"
   },
   {
    "duration": 8598,
    "start_time": "2022-05-22T16:10:32.863Z"
   },
   {
    "duration": 6,
    "start_time": "2022-05-22T16:10:41.463Z"
   },
   {
    "duration": 55,
    "start_time": "2022-05-22T16:10:41.471Z"
   },
   {
    "duration": 1347,
    "start_time": "2022-05-22T16:11:51.928Z"
   },
   {
    "duration": 42,
    "start_time": "2022-05-22T16:11:53.277Z"
   },
   {
    "duration": 11,
    "start_time": "2022-05-22T16:11:53.321Z"
   },
   {
    "duration": 201,
    "start_time": "2022-05-22T16:11:53.333Z"
   },
   {
    "duration": 24,
    "start_time": "2022-05-22T16:11:53.536Z"
   },
   {
    "duration": 367,
    "start_time": "2022-05-22T16:11:53.562Z"
   },
   {
    "duration": 17,
    "start_time": "2022-05-22T16:11:53.931Z"
   },
   {
    "duration": 9,
    "start_time": "2022-05-22T16:11:53.960Z"
   },
   {
    "duration": 14,
    "start_time": "2022-05-22T16:11:53.970Z"
   },
   {
    "duration": 6,
    "start_time": "2022-05-22T16:11:53.986Z"
   },
   {
    "duration": 7,
    "start_time": "2022-05-22T16:11:53.994Z"
   },
   {
    "duration": 13,
    "start_time": "2022-05-22T16:11:54.002Z"
   },
   {
    "duration": 44,
    "start_time": "2022-05-22T16:11:54.016Z"
   },
   {
    "duration": 49,
    "start_time": "2022-05-22T16:11:54.063Z"
   },
   {
    "duration": 4,
    "start_time": "2022-05-22T16:11:54.114Z"
   },
   {
    "duration": 35,
    "start_time": "2022-05-22T16:11:54.120Z"
   },
   {
    "duration": 66,
    "start_time": "2022-05-22T16:11:54.156Z"
   },
   {
    "duration": 25,
    "start_time": "2022-05-22T16:11:54.224Z"
   },
   {
    "duration": 109,
    "start_time": "2022-05-22T16:11:54.251Z"
   },
   {
    "duration": 385,
    "start_time": "2022-05-22T16:11:54.362Z"
   },
   {
    "duration": 23,
    "start_time": "2022-05-22T16:11:54.760Z"
   },
   {
    "duration": 275,
    "start_time": "2022-05-22T16:11:54.859Z"
   },
   {
    "duration": 59,
    "start_time": "2022-05-22T16:11:55.136Z"
   },
   {
    "duration": 65,
    "start_time": "2022-05-22T16:11:55.197Z"
   },
   {
    "duration": 8838,
    "start_time": "2022-05-22T16:11:55.265Z"
   },
   {
    "duration": 5,
    "start_time": "2022-05-22T16:12:04.105Z"
   },
   {
    "duration": 64,
    "start_time": "2022-05-22T16:12:04.111Z"
   },
   {
    "duration": 185983,
    "start_time": "2022-05-22T16:12:04.177Z"
   },
   {
    "duration": 97,
    "start_time": "2022-05-22T16:15:10.164Z"
   },
   {
    "duration": 200,
    "start_time": "2022-05-22T16:15:10.263Z"
   },
   {
    "duration": 1260,
    "start_time": "2022-05-22T16:24:18.409Z"
   },
   {
    "duration": 52,
    "start_time": "2022-05-22T16:24:19.671Z"
   },
   {
    "duration": 10,
    "start_time": "2022-05-22T16:24:19.725Z"
   },
   {
    "duration": 198,
    "start_time": "2022-05-22T16:24:19.738Z"
   },
   {
    "duration": 27,
    "start_time": "2022-05-22T16:24:19.938Z"
   },
   {
    "duration": 368,
    "start_time": "2022-05-22T16:24:19.967Z"
   },
   {
    "duration": 26,
    "start_time": "2022-05-22T16:24:20.337Z"
   },
   {
    "duration": 9,
    "start_time": "2022-05-22T16:24:20.364Z"
   },
   {
    "duration": 15,
    "start_time": "2022-05-22T16:24:20.375Z"
   },
   {
    "duration": 6,
    "start_time": "2022-05-22T16:24:20.392Z"
   },
   {
    "duration": 8,
    "start_time": "2022-05-22T16:24:20.400Z"
   },
   {
    "duration": 10,
    "start_time": "2022-05-22T16:24:20.410Z"
   },
   {
    "duration": 49,
    "start_time": "2022-05-22T16:24:20.422Z"
   },
   {
    "duration": 50,
    "start_time": "2022-05-22T16:24:20.473Z"
   },
   {
    "duration": 5,
    "start_time": "2022-05-22T16:24:20.525Z"
   },
   {
    "duration": 29,
    "start_time": "2022-05-22T16:24:20.532Z"
   },
   {
    "duration": 26,
    "start_time": "2022-05-22T16:24:20.562Z"
   },
   {
    "duration": 4,
    "start_time": "2022-05-22T16:24:20.589Z"
   },
   {
    "duration": 73,
    "start_time": "2022-05-22T16:24:20.595Z"
   },
   {
    "duration": 396,
    "start_time": "2022-05-22T16:24:20.670Z"
   },
   {
    "duration": 98,
    "start_time": "2022-05-22T16:24:21.068Z"
   },
   {
    "duration": 368,
    "start_time": "2022-05-22T16:24:21.168Z"
   },
   {
    "duration": 55,
    "start_time": "2022-05-22T16:24:21.538Z"
   },
   {
    "duration": 71,
    "start_time": "2022-05-22T16:24:21.596Z"
   },
   {
    "duration": 9001,
    "start_time": "2022-05-22T16:24:21.670Z"
   },
   {
    "duration": 6,
    "start_time": "2022-05-22T16:24:30.672Z"
   },
   {
    "duration": 72,
    "start_time": "2022-05-22T16:24:30.679Z"
   },
   {
    "duration": 1314,
    "start_time": "2022-05-22T16:26:47.822Z"
   },
   {
    "duration": 40,
    "start_time": "2022-05-22T16:26:49.138Z"
   },
   {
    "duration": 9,
    "start_time": "2022-05-22T16:26:49.180Z"
   },
   {
    "duration": 182,
    "start_time": "2022-05-22T16:26:49.190Z"
   },
   {
    "duration": 7,
    "start_time": "2022-05-22T16:26:49.374Z"
   },
   {
    "duration": 402,
    "start_time": "2022-05-22T16:26:49.383Z"
   },
   {
    "duration": 16,
    "start_time": "2022-05-22T16:26:49.787Z"
   },
   {
    "duration": 8,
    "start_time": "2022-05-22T16:26:49.804Z"
   },
   {
    "duration": 26,
    "start_time": "2022-05-22T16:26:49.813Z"
   },
   {
    "duration": 18,
    "start_time": "2022-05-22T16:26:49.841Z"
   },
   {
    "duration": 16,
    "start_time": "2022-05-22T16:26:49.860Z"
   },
   {
    "duration": 18,
    "start_time": "2022-05-22T16:26:49.878Z"
   },
   {
    "duration": 22,
    "start_time": "2022-05-22T16:26:49.897Z"
   },
   {
    "duration": 49,
    "start_time": "2022-05-22T16:26:49.920Z"
   },
   {
    "duration": 7,
    "start_time": "2022-05-22T16:26:49.972Z"
   },
   {
    "duration": 9,
    "start_time": "2022-05-22T16:26:49.981Z"
   },
   {
    "duration": 30,
    "start_time": "2022-05-22T16:26:49.992Z"
   },
   {
    "duration": 6,
    "start_time": "2022-05-22T16:26:50.024Z"
   },
   {
    "duration": 129,
    "start_time": "2022-05-22T16:26:50.032Z"
   },
   {
    "duration": 373,
    "start_time": "2022-05-22T16:26:50.162Z"
   },
   {
    "duration": 29,
    "start_time": "2022-05-22T16:26:50.537Z"
   },
   {
    "duration": 272,
    "start_time": "2022-05-22T16:26:50.567Z"
   },
   {
    "duration": 60,
    "start_time": "2022-05-22T16:26:50.840Z"
   },
   {
    "duration": 98,
    "start_time": "2022-05-22T16:26:50.960Z"
   },
   {
    "duration": 8457,
    "start_time": "2022-05-22T16:26:51.061Z"
   },
   {
    "duration": 5,
    "start_time": "2022-05-22T16:26:59.519Z"
   },
   {
    "duration": 61,
    "start_time": "2022-05-22T16:26:59.526Z"
   },
   {
    "duration": 149871,
    "start_time": "2022-05-22T16:26:59.591Z"
   },
   {
    "duration": 97,
    "start_time": "2022-05-22T16:29:29.463Z"
   },
   {
    "duration": 312,
    "start_time": "2022-05-22T16:29:29.562Z"
   },
   {
    "duration": 474044,
    "start_time": "2022-05-22T16:29:29.876Z"
   },
   {
    "duration": 6,
    "start_time": "2022-05-22T16:37:23.922Z"
   },
   {
    "duration": 371,
    "start_time": "2022-05-22T16:37:23.930Z"
   },
   {
    "duration": 1228,
    "start_time": "2022-05-22T16:42:16.213Z"
   },
   {
    "duration": 40,
    "start_time": "2022-05-22T16:42:17.443Z"
   },
   {
    "duration": 9,
    "start_time": "2022-05-22T16:42:17.485Z"
   },
   {
    "duration": 176,
    "start_time": "2022-05-22T16:42:17.496Z"
   },
   {
    "duration": 6,
    "start_time": "2022-05-22T16:42:17.674Z"
   },
   {
    "duration": 441,
    "start_time": "2022-05-22T16:42:17.682Z"
   },
   {
    "duration": 17,
    "start_time": "2022-05-22T16:42:18.125Z"
   },
   {
    "duration": 23,
    "start_time": "2022-05-22T16:42:18.143Z"
   },
   {
    "duration": 15,
    "start_time": "2022-05-22T16:42:18.167Z"
   },
   {
    "duration": 6,
    "start_time": "2022-05-22T16:42:18.185Z"
   },
   {
    "duration": 9,
    "start_time": "2022-05-22T16:42:18.192Z"
   },
   {
    "duration": 23,
    "start_time": "2022-05-22T16:42:18.203Z"
   },
   {
    "duration": 19,
    "start_time": "2022-05-22T16:42:18.229Z"
   },
   {
    "duration": 67,
    "start_time": "2022-05-22T16:42:18.249Z"
   },
   {
    "duration": 4,
    "start_time": "2022-05-22T16:42:18.318Z"
   },
   {
    "duration": 19,
    "start_time": "2022-05-22T16:42:18.324Z"
   },
   {
    "duration": 29,
    "start_time": "2022-05-22T16:42:18.345Z"
   },
   {
    "duration": 4,
    "start_time": "2022-05-22T16:42:18.375Z"
   },
   {
    "duration": 82,
    "start_time": "2022-05-22T16:42:18.381Z"
   },
   {
    "duration": 373,
    "start_time": "2022-05-22T16:42:18.464Z"
   },
   {
    "duration": 32,
    "start_time": "2022-05-22T16:42:18.839Z"
   },
   {
    "duration": 406,
    "start_time": "2022-05-22T16:42:18.877Z"
   },
   {
    "duration": 37,
    "start_time": "2022-05-22T16:42:19.285Z"
   },
   {
    "duration": 100,
    "start_time": "2022-05-22T16:42:19.360Z"
   },
   {
    "duration": 8309,
    "start_time": "2022-05-22T16:42:19.462Z"
   },
   {
    "duration": 9,
    "start_time": "2022-05-22T16:42:27.773Z"
   },
   {
    "duration": 79,
    "start_time": "2022-05-22T16:42:27.784Z"
   },
   {
    "duration": 150601,
    "start_time": "2022-05-22T16:42:27.867Z"
   },
   {
    "duration": 98,
    "start_time": "2022-05-22T16:44:58.470Z"
   },
   {
    "duration": 298,
    "start_time": "2022-05-22T16:44:58.570Z"
   },
   {
    "duration": 1250,
    "start_time": "2022-05-22T16:52:13.304Z"
   },
   {
    "duration": 44,
    "start_time": "2022-05-22T16:52:14.556Z"
   },
   {
    "duration": 9,
    "start_time": "2022-05-22T16:52:14.601Z"
   },
   {
    "duration": 178,
    "start_time": "2022-05-22T16:52:14.612Z"
   },
   {
    "duration": 6,
    "start_time": "2022-05-22T16:52:14.791Z"
   },
   {
    "duration": 388,
    "start_time": "2022-05-22T16:52:14.798Z"
   },
   {
    "duration": 16,
    "start_time": "2022-05-22T16:52:15.188Z"
   },
   {
    "duration": 8,
    "start_time": "2022-05-22T16:52:15.206Z"
   },
   {
    "duration": 14,
    "start_time": "2022-05-22T16:52:15.215Z"
   },
   {
    "duration": 30,
    "start_time": "2022-05-22T16:52:15.231Z"
   },
   {
    "duration": 12,
    "start_time": "2022-05-22T16:52:15.262Z"
   },
   {
    "duration": 11,
    "start_time": "2022-05-22T16:52:15.275Z"
   },
   {
    "duration": 12,
    "start_time": "2022-05-22T16:52:15.287Z"
   },
   {
    "duration": 68,
    "start_time": "2022-05-22T16:52:15.301Z"
   },
   {
    "duration": 4,
    "start_time": "2022-05-22T16:52:15.371Z"
   },
   {
    "duration": 18,
    "start_time": "2022-05-22T16:52:15.376Z"
   },
   {
    "duration": 27,
    "start_time": "2022-05-22T16:52:15.395Z"
   },
   {
    "duration": 4,
    "start_time": "2022-05-22T16:52:15.424Z"
   },
   {
    "duration": 132,
    "start_time": "2022-05-22T16:52:15.430Z"
   },
   {
    "duration": 380,
    "start_time": "2022-05-22T16:52:15.564Z"
   },
   {
    "duration": 112,
    "start_time": "2022-05-22T16:52:15.946Z"
   },
   {
    "duration": 369,
    "start_time": "2022-05-22T16:52:16.064Z"
   },
   {
    "duration": 49,
    "start_time": "2022-05-22T16:52:16.435Z"
   },
   {
    "duration": 80,
    "start_time": "2022-05-22T16:52:16.486Z"
   },
   {
    "duration": 8894,
    "start_time": "2022-05-22T16:52:16.568Z"
   },
   {
    "duration": 5,
    "start_time": "2022-05-22T16:52:25.463Z"
   },
   {
    "duration": 73,
    "start_time": "2022-05-22T16:52:25.470Z"
   },
   {
    "duration": 305522,
    "start_time": "2022-05-22T16:52:25.546Z"
   },
   {
    "duration": 101,
    "start_time": "2022-05-22T16:57:31.070Z"
   },
   {
    "duration": 198,
    "start_time": "2022-05-22T16:57:31.173Z"
   },
   {
    "duration": 1274,
    "start_time": "2022-05-22T16:58:40.977Z"
   },
   {
    "duration": 52,
    "start_time": "2022-05-22T16:58:42.253Z"
   },
   {
    "duration": 13,
    "start_time": "2022-05-22T16:58:42.307Z"
   },
   {
    "duration": 189,
    "start_time": "2022-05-22T16:58:42.322Z"
   },
   {
    "duration": 5,
    "start_time": "2022-05-22T16:58:42.513Z"
   },
   {
    "duration": 396,
    "start_time": "2022-05-22T16:58:42.520Z"
   },
   {
    "duration": 17,
    "start_time": "2022-05-22T16:58:42.918Z"
   },
   {
    "duration": 7,
    "start_time": "2022-05-22T16:58:42.936Z"
   },
   {
    "duration": 23,
    "start_time": "2022-05-22T16:58:42.960Z"
   },
   {
    "duration": 10,
    "start_time": "2022-05-22T16:58:42.984Z"
   },
   {
    "duration": 7,
    "start_time": "2022-05-22T16:58:42.995Z"
   },
   {
    "duration": 16,
    "start_time": "2022-05-22T16:58:43.004Z"
   },
   {
    "duration": 12,
    "start_time": "2022-05-22T16:58:43.021Z"
   },
   {
    "duration": 68,
    "start_time": "2022-05-22T16:58:43.035Z"
   },
   {
    "duration": 5,
    "start_time": "2022-05-22T16:58:43.104Z"
   },
   {
    "duration": 12,
    "start_time": "2022-05-22T16:58:43.110Z"
   },
   {
    "duration": 45,
    "start_time": "2022-05-22T16:58:43.123Z"
   },
   {
    "duration": 5,
    "start_time": "2022-05-22T16:58:43.169Z"
   },
   {
    "duration": 99,
    "start_time": "2022-05-22T16:58:43.176Z"
   },
   {
    "duration": 363,
    "start_time": "2022-05-22T16:58:43.277Z"
   },
   {
    "duration": 37,
    "start_time": "2022-05-22T16:58:43.641Z"
   },
   {
    "duration": 335,
    "start_time": "2022-05-22T16:58:43.681Z"
   },
   {
    "duration": 53,
    "start_time": "2022-05-22T16:58:44.018Z"
   },
   {
    "duration": 92,
    "start_time": "2022-05-22T16:58:44.082Z"
   },
   {
    "duration": 8713,
    "start_time": "2022-05-22T16:58:44.175Z"
   },
   {
    "duration": 5,
    "start_time": "2022-05-22T16:58:52.890Z"
   },
   {
    "duration": 55,
    "start_time": "2022-05-22T16:58:52.897Z"
   },
   {
    "duration": 1298,
    "start_time": "2022-05-22T17:01:21.353Z"
   },
   {
    "duration": 44,
    "start_time": "2022-05-22T17:01:22.653Z"
   },
   {
    "duration": 9,
    "start_time": "2022-05-22T17:01:22.698Z"
   },
   {
    "duration": 180,
    "start_time": "2022-05-22T17:01:22.709Z"
   },
   {
    "duration": 5,
    "start_time": "2022-05-22T17:01:22.891Z"
   },
   {
    "duration": 391,
    "start_time": "2022-05-22T17:01:22.898Z"
   },
   {
    "duration": 16,
    "start_time": "2022-05-22T17:01:23.290Z"
   },
   {
    "duration": 22,
    "start_time": "2022-05-22T17:01:23.307Z"
   },
   {
    "duration": 27,
    "start_time": "2022-05-22T17:01:23.330Z"
   },
   {
    "duration": 32,
    "start_time": "2022-05-22T17:01:23.361Z"
   },
   {
    "duration": 20,
    "start_time": "2022-05-22T17:01:23.395Z"
   },
   {
    "duration": 26,
    "start_time": "2022-05-22T17:01:23.416Z"
   },
   {
    "duration": 41,
    "start_time": "2022-05-22T17:01:23.444Z"
   },
   {
    "duration": 54,
    "start_time": "2022-05-22T17:01:23.486Z"
   },
   {
    "duration": 4,
    "start_time": "2022-05-22T17:01:23.541Z"
   },
   {
    "duration": 40,
    "start_time": "2022-05-22T17:01:23.547Z"
   },
   {
    "duration": 53,
    "start_time": "2022-05-22T17:01:23.588Z"
   },
   {
    "duration": 4,
    "start_time": "2022-05-22T17:01:23.642Z"
   },
   {
    "duration": 58,
    "start_time": "2022-05-22T17:01:23.647Z"
   },
   {
    "duration": 368,
    "start_time": "2022-05-22T17:01:23.762Z"
   },
   {
    "duration": 44,
    "start_time": "2022-05-22T17:01:24.131Z"
   },
   {
    "duration": 268,
    "start_time": "2022-05-22T17:01:24.179Z"
   },
   {
    "duration": 45,
    "start_time": "2022-05-22T17:01:24.459Z"
   },
   {
    "duration": 98,
    "start_time": "2022-05-22T17:01:24.569Z"
   },
   {
    "duration": 8473,
    "start_time": "2022-05-22T17:01:24.668Z"
   },
   {
    "duration": 5,
    "start_time": "2022-05-22T17:01:33.143Z"
   },
   {
    "duration": 71,
    "start_time": "2022-05-22T17:01:33.149Z"
   },
   {
    "duration": 5,
    "start_time": "2022-05-22T17:01:33.223Z"
   },
   {
    "duration": 123,
    "start_time": "2022-05-22T17:01:33.230Z"
   },
   {
    "duration": 0,
    "start_time": "2022-05-22T17:01:33.354Z"
   },
   {
    "duration": 0,
    "start_time": "2022-05-22T17:01:33.356Z"
   },
   {
    "duration": 0,
    "start_time": "2022-05-22T17:01:33.367Z"
   },
   {
    "duration": 1254,
    "start_time": "2022-05-22T17:06:32.369Z"
   },
   {
    "duration": 48,
    "start_time": "2022-05-22T17:06:33.625Z"
   },
   {
    "duration": 13,
    "start_time": "2022-05-22T17:06:33.675Z"
   },
   {
    "duration": 195,
    "start_time": "2022-05-22T17:06:33.690Z"
   },
   {
    "duration": 6,
    "start_time": "2022-05-22T17:06:33.887Z"
   },
   {
    "duration": 359,
    "start_time": "2022-05-22T17:06:33.895Z"
   },
   {
    "duration": 26,
    "start_time": "2022-05-22T17:06:34.258Z"
   },
   {
    "duration": 7,
    "start_time": "2022-05-22T17:06:34.285Z"
   },
   {
    "duration": 11,
    "start_time": "2022-05-22T17:06:34.294Z"
   },
   {
    "duration": 5,
    "start_time": "2022-05-22T17:06:34.306Z"
   },
   {
    "duration": 7,
    "start_time": "2022-05-22T17:06:34.312Z"
   },
   {
    "duration": 8,
    "start_time": "2022-05-22T17:06:34.320Z"
   },
   {
    "duration": 44,
    "start_time": "2022-05-22T17:06:34.330Z"
   },
   {
    "duration": 45,
    "start_time": "2022-05-22T17:06:34.377Z"
   },
   {
    "duration": 5,
    "start_time": "2022-05-22T17:06:34.423Z"
   },
   {
    "duration": 7,
    "start_time": "2022-05-22T17:06:34.429Z"
   },
   {
    "duration": 36,
    "start_time": "2022-05-22T17:06:34.437Z"
   },
   {
    "duration": 4,
    "start_time": "2022-05-22T17:06:34.475Z"
   },
   {
    "duration": 86,
    "start_time": "2022-05-22T17:06:34.481Z"
   },
   {
    "duration": 372,
    "start_time": "2022-05-22T17:06:34.569Z"
   },
   {
    "duration": 38,
    "start_time": "2022-05-22T17:06:34.942Z"
   },
   {
    "duration": 353,
    "start_time": "2022-05-22T17:06:34.984Z"
   },
   {
    "duration": 55,
    "start_time": "2022-05-22T17:06:35.338Z"
   },
   {
    "duration": 71,
    "start_time": "2022-05-22T17:06:35.394Z"
   },
   {
    "duration": 8550,
    "start_time": "2022-05-22T17:06:35.466Z"
   },
   {
    "duration": 5,
    "start_time": "2022-05-22T17:06:44.017Z"
   },
   {
    "duration": 64,
    "start_time": "2022-05-22T17:06:44.025Z"
   },
   {
    "duration": 353272,
    "start_time": "2022-05-22T17:06:44.090Z"
   },
   {
    "duration": 90,
    "start_time": "2022-05-22T17:12:37.368Z"
   },
   {
    "duration": 208,
    "start_time": "2022-05-22T17:12:37.463Z"
   },
   {
    "duration": 1573,
    "start_time": "2022-06-05T11:50:16.816Z"
   },
   {
    "duration": 140,
    "start_time": "2022-06-05T11:50:18.391Z"
   },
   {
    "duration": 8,
    "start_time": "2022-06-05T11:50:18.533Z"
   },
   {
    "duration": 339,
    "start_time": "2022-06-05T11:50:18.543Z"
   },
   {
    "duration": 58,
    "start_time": "2022-06-05T11:50:18.884Z"
   },
   {
    "duration": 18,
    "start_time": "2022-06-05T11:50:18.944Z"
   },
   {
    "duration": 21,
    "start_time": "2022-06-05T11:50:18.963Z"
   },
   {
    "duration": 18,
    "start_time": "2022-06-05T11:50:18.986Z"
   },
   {
    "duration": 383,
    "start_time": "2022-06-05T11:50:19.006Z"
   },
   {
    "duration": 17,
    "start_time": "2022-06-05T11:50:19.393Z"
   },
   {
    "duration": 142,
    "start_time": "2022-06-05T11:50:19.412Z"
   },
   {
    "duration": 0,
    "start_time": "2022-06-05T11:50:19.556Z"
   },
   {
    "duration": 0,
    "start_time": "2022-06-05T11:50:19.558Z"
   },
   {
    "duration": 0,
    "start_time": "2022-06-05T11:50:19.559Z"
   },
   {
    "duration": 0,
    "start_time": "2022-06-05T11:50:19.560Z"
   },
   {
    "duration": 0,
    "start_time": "2022-06-05T11:50:19.561Z"
   },
   {
    "duration": 0,
    "start_time": "2022-06-05T11:50:19.562Z"
   },
   {
    "duration": 0,
    "start_time": "2022-06-05T11:50:19.563Z"
   },
   {
    "duration": 0,
    "start_time": "2022-06-05T11:50:19.564Z"
   },
   {
    "duration": 0,
    "start_time": "2022-06-05T11:50:19.565Z"
   },
   {
    "duration": 0,
    "start_time": "2022-06-05T11:50:19.567Z"
   },
   {
    "duration": 0,
    "start_time": "2022-06-05T11:50:19.568Z"
   },
   {
    "duration": 0,
    "start_time": "2022-06-05T11:50:19.569Z"
   },
   {
    "duration": 0,
    "start_time": "2022-06-05T11:50:19.570Z"
   },
   {
    "duration": 0,
    "start_time": "2022-06-05T11:50:19.571Z"
   },
   {
    "duration": 0,
    "start_time": "2022-06-05T11:50:19.572Z"
   },
   {
    "duration": 0,
    "start_time": "2022-06-05T11:50:19.573Z"
   },
   {
    "duration": 0,
    "start_time": "2022-06-05T11:50:19.574Z"
   },
   {
    "duration": 0,
    "start_time": "2022-06-05T11:50:19.575Z"
   },
   {
    "duration": 0,
    "start_time": "2022-06-05T11:50:19.576Z"
   },
   {
    "duration": 0,
    "start_time": "2022-06-05T11:50:19.577Z"
   },
   {
    "duration": 0,
    "start_time": "2022-06-05T11:50:19.578Z"
   },
   {
    "duration": 0,
    "start_time": "2022-06-05T11:50:19.579Z"
   },
   {
    "duration": 0,
    "start_time": "2022-06-05T11:50:19.581Z"
   },
   {
    "duration": 0,
    "start_time": "2022-06-05T11:50:19.582Z"
   },
   {
    "duration": 0,
    "start_time": "2022-06-05T11:50:19.583Z"
   },
   {
    "duration": 0,
    "start_time": "2022-06-05T11:50:19.584Z"
   },
   {
    "duration": 0,
    "start_time": "2022-06-05T11:50:19.585Z"
   },
   {
    "duration": 1314,
    "start_time": "2022-06-05T11:51:11.688Z"
   },
   {
    "duration": 40,
    "start_time": "2022-06-05T11:51:13.004Z"
   },
   {
    "duration": 9,
    "start_time": "2022-06-05T11:51:13.046Z"
   },
   {
    "duration": 203,
    "start_time": "2022-06-05T11:51:13.056Z"
   },
   {
    "duration": 4,
    "start_time": "2022-06-05T11:51:13.261Z"
   },
   {
    "duration": 5,
    "start_time": "2022-06-05T11:51:13.267Z"
   },
   {
    "duration": 17,
    "start_time": "2022-06-05T11:51:13.274Z"
   },
   {
    "duration": 6,
    "start_time": "2022-06-05T11:51:13.293Z"
   },
   {
    "duration": 341,
    "start_time": "2022-06-05T11:51:13.301Z"
   },
   {
    "duration": 17,
    "start_time": "2022-06-05T11:51:13.644Z"
   },
   {
    "duration": 9,
    "start_time": "2022-06-05T11:51:13.662Z"
   },
   {
    "duration": 14,
    "start_time": "2022-06-05T11:51:13.673Z"
   },
   {
    "duration": 6,
    "start_time": "2022-06-05T11:51:13.689Z"
   },
   {
    "duration": 146,
    "start_time": "2022-06-05T11:51:13.697Z"
   },
   {
    "duration": 0,
    "start_time": "2022-06-05T11:51:13.844Z"
   },
   {
    "duration": 0,
    "start_time": "2022-06-05T11:51:13.845Z"
   },
   {
    "duration": 0,
    "start_time": "2022-06-05T11:51:13.846Z"
   },
   {
    "duration": 0,
    "start_time": "2022-06-05T11:51:13.847Z"
   },
   {
    "duration": 0,
    "start_time": "2022-06-05T11:51:13.848Z"
   },
   {
    "duration": 0,
    "start_time": "2022-06-05T11:51:13.849Z"
   },
   {
    "duration": 0,
    "start_time": "2022-06-05T11:51:13.850Z"
   },
   {
    "duration": 0,
    "start_time": "2022-06-05T11:51:13.851Z"
   },
   {
    "duration": 0,
    "start_time": "2022-06-05T11:51:13.851Z"
   },
   {
    "duration": 0,
    "start_time": "2022-06-05T11:51:13.852Z"
   },
   {
    "duration": 0,
    "start_time": "2022-06-05T11:51:13.853Z"
   },
   {
    "duration": 0,
    "start_time": "2022-06-05T11:51:13.854Z"
   },
   {
    "duration": 0,
    "start_time": "2022-06-05T11:51:13.855Z"
   },
   {
    "duration": 0,
    "start_time": "2022-06-05T11:51:13.856Z"
   },
   {
    "duration": 0,
    "start_time": "2022-06-05T11:51:13.857Z"
   },
   {
    "duration": 0,
    "start_time": "2022-06-05T11:51:13.858Z"
   },
   {
    "duration": 0,
    "start_time": "2022-06-05T11:51:13.859Z"
   },
   {
    "duration": 0,
    "start_time": "2022-06-05T11:51:13.860Z"
   },
   {
    "duration": 0,
    "start_time": "2022-06-05T11:51:13.860Z"
   },
   {
    "duration": 0,
    "start_time": "2022-06-05T11:51:13.861Z"
   },
   {
    "duration": 0,
    "start_time": "2022-06-05T11:51:13.862Z"
   },
   {
    "duration": 0,
    "start_time": "2022-06-05T11:51:13.863Z"
   },
   {
    "duration": 0,
    "start_time": "2022-06-05T11:51:13.864Z"
   },
   {
    "duration": 0,
    "start_time": "2022-06-05T11:51:13.865Z"
   },
   {
    "duration": 1263,
    "start_time": "2022-06-05T11:52:18.351Z"
   },
   {
    "duration": 40,
    "start_time": "2022-06-05T11:52:19.617Z"
   },
   {
    "duration": 9,
    "start_time": "2022-06-05T11:52:19.659Z"
   },
   {
    "duration": 210,
    "start_time": "2022-06-05T11:52:19.670Z"
   },
   {
    "duration": 3,
    "start_time": "2022-06-05T11:52:19.882Z"
   },
   {
    "duration": 21,
    "start_time": "2022-06-05T11:52:19.887Z"
   },
   {
    "duration": 15,
    "start_time": "2022-06-05T11:52:19.909Z"
   },
   {
    "duration": 28,
    "start_time": "2022-06-05T11:52:19.926Z"
   },
   {
    "duration": 304,
    "start_time": "2022-06-05T11:52:19.956Z"
   },
   {
    "duration": 16,
    "start_time": "2022-06-05T11:52:20.262Z"
   },
   {
    "duration": 18,
    "start_time": "2022-06-05T11:52:20.279Z"
   },
   {
    "duration": 15,
    "start_time": "2022-06-05T11:52:20.298Z"
   },
   {
    "duration": 14,
    "start_time": "2022-06-05T11:52:20.314Z"
   },
   {
    "duration": 23,
    "start_time": "2022-06-05T11:52:20.331Z"
   },
   {
    "duration": 17,
    "start_time": "2022-06-05T11:52:20.356Z"
   },
   {
    "duration": 25,
    "start_time": "2022-06-05T11:52:20.375Z"
   },
   {
    "duration": 20,
    "start_time": "2022-06-05T11:52:20.402Z"
   },
   {
    "duration": 31,
    "start_time": "2022-06-05T11:52:20.424Z"
   },
   {
    "duration": 12,
    "start_time": "2022-06-05T11:52:20.456Z"
   },
   {
    "duration": 22,
    "start_time": "2022-06-05T11:52:20.470Z"
   },
   {
    "duration": 55,
    "start_time": "2022-06-05T11:52:20.493Z"
   },
   {
    "duration": 93,
    "start_time": "2022-06-05T11:52:20.550Z"
   },
   {
    "duration": 1044,
    "start_time": "2022-06-05T11:52:20.645Z"
   },
   {
    "duration": 126,
    "start_time": "2022-06-05T11:52:21.691Z"
   },
   {
    "duration": 0,
    "start_time": "2022-06-05T11:52:21.818Z"
   },
   {
    "duration": 0,
    "start_time": "2022-06-05T11:52:21.820Z"
   },
   {
    "duration": 0,
    "start_time": "2022-06-05T11:52:21.821Z"
   },
   {
    "duration": 0,
    "start_time": "2022-06-05T11:52:21.822Z"
   },
   {
    "duration": 0,
    "start_time": "2022-06-05T11:52:21.823Z"
   },
   {
    "duration": 0,
    "start_time": "2022-06-05T11:52:21.840Z"
   },
   {
    "duration": 0,
    "start_time": "2022-06-05T11:52:21.841Z"
   },
   {
    "duration": 0,
    "start_time": "2022-06-05T11:52:21.842Z"
   },
   {
    "duration": 0,
    "start_time": "2022-06-05T11:52:21.844Z"
   },
   {
    "duration": 0,
    "start_time": "2022-06-05T11:52:21.845Z"
   },
   {
    "duration": 0,
    "start_time": "2022-06-05T11:52:21.846Z"
   },
   {
    "duration": 0,
    "start_time": "2022-06-05T11:52:21.847Z"
   },
   {
    "duration": 0,
    "start_time": "2022-06-05T11:52:21.848Z"
   },
   {
    "duration": 0,
    "start_time": "2022-06-05T11:52:21.850Z"
   },
   {
    "duration": 0,
    "start_time": "2022-06-05T11:52:21.851Z"
   },
   {
    "duration": 1316,
    "start_time": "2022-06-05T11:57:11.806Z"
   },
   {
    "duration": 42,
    "start_time": "2022-06-05T11:57:13.125Z"
   },
   {
    "duration": 9,
    "start_time": "2022-06-05T11:57:13.169Z"
   },
   {
    "duration": 198,
    "start_time": "2022-06-05T11:57:13.180Z"
   },
   {
    "duration": 3,
    "start_time": "2022-06-05T11:57:13.381Z"
   },
   {
    "duration": 10,
    "start_time": "2022-06-05T11:57:13.386Z"
   },
   {
    "duration": 16,
    "start_time": "2022-06-05T11:57:13.398Z"
   },
   {
    "duration": 26,
    "start_time": "2022-06-05T11:57:13.416Z"
   },
   {
    "duration": 309,
    "start_time": "2022-06-05T11:57:13.443Z"
   },
   {
    "duration": 15,
    "start_time": "2022-06-05T11:57:13.754Z"
   },
   {
    "duration": 7,
    "start_time": "2022-06-05T11:57:13.771Z"
   },
   {
    "duration": 12,
    "start_time": "2022-06-05T11:57:13.779Z"
   },
   {
    "duration": 6,
    "start_time": "2022-06-05T11:57:13.792Z"
   },
   {
    "duration": 45,
    "start_time": "2022-06-05T11:57:13.800Z"
   },
   {
    "duration": 12,
    "start_time": "2022-06-05T11:57:13.847Z"
   },
   {
    "duration": 3,
    "start_time": "2022-06-05T11:57:13.860Z"
   },
   {
    "duration": 8,
    "start_time": "2022-06-05T11:57:13.864Z"
   },
   {
    "duration": 12,
    "start_time": "2022-06-05T11:57:13.873Z"
   },
   {
    "duration": 3,
    "start_time": "2022-06-05T11:57:13.887Z"
   },
   {
    "duration": 16,
    "start_time": "2022-06-05T11:57:13.892Z"
   },
   {
    "duration": 63,
    "start_time": "2022-06-05T11:57:13.909Z"
   },
   {
    "duration": 170,
    "start_time": "2022-06-05T11:57:13.973Z"
   },
   {
    "duration": 986,
    "start_time": "2022-06-05T11:57:14.145Z"
   },
   {
    "duration": 0,
    "start_time": "2022-06-05T11:57:15.133Z"
   },
   {
    "duration": 0,
    "start_time": "2022-06-05T11:57:15.135Z"
   },
   {
    "duration": 0,
    "start_time": "2022-06-05T11:57:15.136Z"
   },
   {
    "duration": 0,
    "start_time": "2022-06-05T11:57:15.141Z"
   },
   {
    "duration": 0,
    "start_time": "2022-06-05T11:57:15.142Z"
   },
   {
    "duration": 0,
    "start_time": "2022-06-05T11:57:15.143Z"
   },
   {
    "duration": 0,
    "start_time": "2022-06-05T11:57:15.145Z"
   },
   {
    "duration": 0,
    "start_time": "2022-06-05T11:57:15.146Z"
   },
   {
    "duration": 0,
    "start_time": "2022-06-05T11:57:15.147Z"
   },
   {
    "duration": 0,
    "start_time": "2022-06-05T11:57:15.148Z"
   },
   {
    "duration": 0,
    "start_time": "2022-06-05T11:57:15.149Z"
   },
   {
    "duration": 0,
    "start_time": "2022-06-05T11:57:15.150Z"
   },
   {
    "duration": 0,
    "start_time": "2022-06-05T11:57:15.151Z"
   },
   {
    "duration": 0,
    "start_time": "2022-06-05T11:57:15.152Z"
   },
   {
    "duration": 0,
    "start_time": "2022-06-05T11:57:15.153Z"
   },
   {
    "duration": 0,
    "start_time": "2022-06-05T11:57:15.154Z"
   },
   {
    "duration": 1338,
    "start_time": "2022-06-05T11:57:54.889Z"
   },
   {
    "duration": 40,
    "start_time": "2022-06-05T11:57:56.229Z"
   },
   {
    "duration": 9,
    "start_time": "2022-06-05T11:57:56.271Z"
   },
   {
    "duration": 221,
    "start_time": "2022-06-05T11:57:56.282Z"
   },
   {
    "duration": 5,
    "start_time": "2022-06-05T11:57:56.507Z"
   },
   {
    "duration": 31,
    "start_time": "2022-06-05T11:57:56.514Z"
   },
   {
    "duration": 39,
    "start_time": "2022-06-05T11:57:56.547Z"
   },
   {
    "duration": 48,
    "start_time": "2022-06-05T11:57:56.588Z"
   },
   {
    "duration": 348,
    "start_time": "2022-06-05T11:57:56.638Z"
   },
   {
    "duration": 17,
    "start_time": "2022-06-05T11:57:56.988Z"
   },
   {
    "duration": 23,
    "start_time": "2022-06-05T11:57:57.007Z"
   },
   {
    "duration": 35,
    "start_time": "2022-06-05T11:57:57.031Z"
   },
   {
    "duration": 22,
    "start_time": "2022-06-05T11:57:57.068Z"
   },
   {
    "duration": 34,
    "start_time": "2022-06-05T11:57:57.093Z"
   },
   {
    "duration": 19,
    "start_time": "2022-06-05T11:57:57.129Z"
   },
   {
    "duration": 30,
    "start_time": "2022-06-05T11:57:57.149Z"
   },
   {
    "duration": 14,
    "start_time": "2022-06-05T11:57:57.180Z"
   },
   {
    "duration": 22,
    "start_time": "2022-06-05T11:57:57.195Z"
   },
   {
    "duration": 18,
    "start_time": "2022-06-05T11:57:57.219Z"
   },
   {
    "duration": 13,
    "start_time": "2022-06-05T11:57:57.239Z"
   },
   {
    "duration": 64,
    "start_time": "2022-06-05T11:57:57.254Z"
   },
   {
    "duration": 133,
    "start_time": "2022-06-05T11:57:57.320Z"
   },
   {
    "duration": 1003,
    "start_time": "2022-06-05T11:57:57.455Z"
   },
   {
    "duration": 182,
    "start_time": "2022-06-05T11:57:58.459Z"
   },
   {
    "duration": 5602,
    "start_time": "2022-06-05T11:57:58.642Z"
   },
   {
    "duration": 272,
    "start_time": "2022-06-05T11:58:04.246Z"
   },
   {
    "duration": 31,
    "start_time": "2022-06-05T11:58:04.519Z"
   },
   {
    "duration": 373,
    "start_time": "2022-06-05T11:58:04.552Z"
   },
   {
    "duration": 41,
    "start_time": "2022-06-05T11:58:04.927Z"
   },
   {
    "duration": 75,
    "start_time": "2022-06-05T11:58:04.970Z"
   },
   {
    "duration": 215,
    "start_time": "2022-06-05T11:58:05.047Z"
   },
   {
    "duration": 0,
    "start_time": "2022-06-05T11:58:05.264Z"
   },
   {
    "duration": 0,
    "start_time": "2022-06-05T11:58:05.265Z"
   },
   {
    "duration": 0,
    "start_time": "2022-06-05T11:58:05.266Z"
   },
   {
    "duration": 0,
    "start_time": "2022-06-05T11:58:05.267Z"
   },
   {
    "duration": 0,
    "start_time": "2022-06-05T11:58:05.268Z"
   },
   {
    "duration": 0,
    "start_time": "2022-06-05T11:58:05.269Z"
   },
   {
    "duration": 0,
    "start_time": "2022-06-05T11:58:05.270Z"
   },
   {
    "duration": 0,
    "start_time": "2022-06-05T11:58:05.271Z"
   },
   {
    "duration": 1288,
    "start_time": "2022-06-05T12:00:44.134Z"
   },
   {
    "duration": 39,
    "start_time": "2022-06-05T12:00:45.424Z"
   },
   {
    "duration": 10,
    "start_time": "2022-06-05T12:00:45.465Z"
   },
   {
    "duration": 208,
    "start_time": "2022-06-05T12:00:45.478Z"
   },
   {
    "duration": 4,
    "start_time": "2022-06-05T12:00:45.687Z"
   },
   {
    "duration": 8,
    "start_time": "2022-06-05T12:00:45.693Z"
   },
   {
    "duration": 42,
    "start_time": "2022-06-05T12:00:45.702Z"
   },
   {
    "duration": 8,
    "start_time": "2022-06-05T12:00:45.746Z"
   },
   {
    "duration": 318,
    "start_time": "2022-06-05T12:00:45.755Z"
   },
   {
    "duration": 16,
    "start_time": "2022-06-05T12:00:46.076Z"
   },
   {
    "duration": 10,
    "start_time": "2022-06-05T12:00:46.094Z"
   },
   {
    "duration": 36,
    "start_time": "2022-06-05T12:00:46.106Z"
   },
   {
    "duration": 7,
    "start_time": "2022-06-05T12:00:46.144Z"
   },
   {
    "duration": 17,
    "start_time": "2022-06-05T12:00:46.153Z"
   },
   {
    "duration": 12,
    "start_time": "2022-06-05T12:00:46.172Z"
   },
   {
    "duration": 3,
    "start_time": "2022-06-05T12:00:46.185Z"
   },
   {
    "duration": 8,
    "start_time": "2022-06-05T12:00:46.190Z"
   },
   {
    "duration": 50,
    "start_time": "2022-06-05T12:00:46.200Z"
   },
   {
    "duration": 3,
    "start_time": "2022-06-05T12:00:46.251Z"
   },
   {
    "duration": 8,
    "start_time": "2022-06-05T12:00:46.256Z"
   },
   {
    "duration": 37,
    "start_time": "2022-06-05T12:00:46.265Z"
   },
   {
    "duration": 145,
    "start_time": "2022-06-05T12:00:46.303Z"
   },
   {
    "duration": 944,
    "start_time": "2022-06-05T12:00:46.450Z"
   },
   {
    "duration": 174,
    "start_time": "2022-06-05T12:00:47.395Z"
   },
   {
    "duration": 5518,
    "start_time": "2022-06-05T12:00:47.570Z"
   },
   {
    "duration": 182,
    "start_time": "2022-06-05T12:00:53.090Z"
   },
   {
    "duration": 11,
    "start_time": "2022-06-05T12:00:53.273Z"
   },
   {
    "duration": 155,
    "start_time": "2022-06-05T12:00:53.287Z"
   },
   {
    "duration": 0,
    "start_time": "2022-06-05T12:00:53.443Z"
   },
   {
    "duration": 0,
    "start_time": "2022-06-05T12:00:53.444Z"
   },
   {
    "duration": 0,
    "start_time": "2022-06-05T12:00:53.445Z"
   },
   {
    "duration": 0,
    "start_time": "2022-06-05T12:00:53.447Z"
   },
   {
    "duration": 0,
    "start_time": "2022-06-05T12:00:53.448Z"
   },
   {
    "duration": 0,
    "start_time": "2022-06-05T12:00:53.450Z"
   },
   {
    "duration": 0,
    "start_time": "2022-06-05T12:00:53.450Z"
   },
   {
    "duration": 0,
    "start_time": "2022-06-05T12:00:53.451Z"
   },
   {
    "duration": 0,
    "start_time": "2022-06-05T12:00:53.452Z"
   },
   {
    "duration": 0,
    "start_time": "2022-06-05T12:00:53.453Z"
   },
   {
    "duration": 0,
    "start_time": "2022-06-05T12:00:53.454Z"
   },
   {
    "duration": 0,
    "start_time": "2022-06-05T12:00:53.455Z"
   },
   {
    "duration": 0,
    "start_time": "2022-06-05T12:00:53.456Z"
   },
   {
    "duration": 0,
    "start_time": "2022-06-05T12:00:53.457Z"
   },
   {
    "duration": 1278,
    "start_time": "2022-06-05T12:01:44.188Z"
   },
   {
    "duration": 40,
    "start_time": "2022-06-05T12:01:45.468Z"
   },
   {
    "duration": 9,
    "start_time": "2022-06-05T12:01:45.510Z"
   },
   {
    "duration": 196,
    "start_time": "2022-06-05T12:01:45.520Z"
   },
   {
    "duration": 3,
    "start_time": "2022-06-05T12:01:45.742Z"
   },
   {
    "duration": 13,
    "start_time": "2022-06-05T12:01:45.746Z"
   },
   {
    "duration": 16,
    "start_time": "2022-06-05T12:01:45.760Z"
   },
   {
    "duration": 6,
    "start_time": "2022-06-05T12:01:45.778Z"
   },
   {
    "duration": 351,
    "start_time": "2022-06-05T12:01:45.786Z"
   },
   {
    "duration": 17,
    "start_time": "2022-06-05T12:01:46.141Z"
   },
   {
    "duration": 9,
    "start_time": "2022-06-05T12:01:46.160Z"
   },
   {
    "duration": 13,
    "start_time": "2022-06-05T12:01:46.170Z"
   },
   {
    "duration": 7,
    "start_time": "2022-06-05T12:01:46.184Z"
   },
   {
    "duration": 18,
    "start_time": "2022-06-05T12:01:46.194Z"
   },
   {
    "duration": 13,
    "start_time": "2022-06-05T12:01:46.242Z"
   },
   {
    "duration": 6,
    "start_time": "2022-06-05T12:01:46.257Z"
   },
   {
    "duration": 8,
    "start_time": "2022-06-05T12:01:46.265Z"
   },
   {
    "duration": 15,
    "start_time": "2022-06-05T12:01:46.275Z"
   },
   {
    "duration": 3,
    "start_time": "2022-06-05T12:01:46.292Z"
   },
   {
    "duration": 9,
    "start_time": "2022-06-05T12:01:46.296Z"
   },
   {
    "duration": 61,
    "start_time": "2022-06-05T12:01:46.307Z"
   },
   {
    "duration": 179,
    "start_time": "2022-06-05T12:01:46.369Z"
   },
   {
    "duration": 880,
    "start_time": "2022-06-05T12:01:46.551Z"
   },
   {
    "duration": 173,
    "start_time": "2022-06-05T12:01:47.433Z"
   },
   {
    "duration": 5594,
    "start_time": "2022-06-05T12:01:47.607Z"
   },
   {
    "duration": 169,
    "start_time": "2022-06-05T12:01:53.202Z"
   },
   {
    "duration": 11,
    "start_time": "2022-06-05T12:01:53.373Z"
   },
   {
    "duration": 39357,
    "start_time": "2022-06-05T12:01:53.386Z"
   },
   {
    "duration": 376,
    "start_time": "2022-06-05T12:02:32.745Z"
   },
   {
    "duration": 30,
    "start_time": "2022-06-05T12:02:33.122Z"
   },
   {
    "duration": 352,
    "start_time": "2022-06-05T12:02:33.153Z"
   },
   {
    "duration": 40,
    "start_time": "2022-06-05T12:02:33.507Z"
   },
   {
    "duration": 93,
    "start_time": "2022-06-05T12:02:33.549Z"
   },
   {
    "duration": 223,
    "start_time": "2022-06-05T12:02:33.644Z"
   },
   {
    "duration": 0,
    "start_time": "2022-06-05T12:02:33.869Z"
   },
   {
    "duration": 0,
    "start_time": "2022-06-05T12:02:33.870Z"
   },
   {
    "duration": 1,
    "start_time": "2022-06-05T12:02:33.871Z"
   },
   {
    "duration": 0,
    "start_time": "2022-06-05T12:02:33.872Z"
   },
   {
    "duration": 0,
    "start_time": "2022-06-05T12:02:33.873Z"
   },
   {
    "duration": 0,
    "start_time": "2022-06-05T12:02:33.874Z"
   },
   {
    "duration": 0,
    "start_time": "2022-06-05T12:02:33.876Z"
   },
   {
    "duration": 1,
    "start_time": "2022-06-05T12:02:33.876Z"
   },
   {
    "duration": 1284,
    "start_time": "2022-06-05T12:08:15.267Z"
   },
   {
    "duration": 42,
    "start_time": "2022-06-05T12:08:16.554Z"
   },
   {
    "duration": 10,
    "start_time": "2022-06-05T12:08:16.598Z"
   },
   {
    "duration": 208,
    "start_time": "2022-06-05T12:08:16.610Z"
   },
   {
    "duration": 5,
    "start_time": "2022-06-05T12:08:16.840Z"
   },
   {
    "duration": 6,
    "start_time": "2022-06-05T12:08:16.847Z"
   },
   {
    "duration": 15,
    "start_time": "2022-06-05T12:08:16.855Z"
   },
   {
    "duration": 5,
    "start_time": "2022-06-05T12:08:16.872Z"
   },
   {
    "duration": 370,
    "start_time": "2022-06-05T12:08:16.879Z"
   },
   {
    "duration": 18,
    "start_time": "2022-06-05T12:08:17.251Z"
   },
   {
    "duration": 10,
    "start_time": "2022-06-05T12:08:17.271Z"
   },
   {
    "duration": 14,
    "start_time": "2022-06-05T12:08:17.283Z"
   },
   {
    "duration": 44,
    "start_time": "2022-06-05T12:08:17.299Z"
   },
   {
    "duration": 19,
    "start_time": "2022-06-05T12:08:17.345Z"
   },
   {
    "duration": 13,
    "start_time": "2022-06-05T12:08:17.366Z"
   },
   {
    "duration": 3,
    "start_time": "2022-06-05T12:08:17.381Z"
   },
   {
    "duration": 10,
    "start_time": "2022-06-05T12:08:17.386Z"
   },
   {
    "duration": 15,
    "start_time": "2022-06-05T12:08:17.397Z"
   },
   {
    "duration": 3,
    "start_time": "2022-06-05T12:08:17.441Z"
   },
   {
    "duration": 10,
    "start_time": "2022-06-05T12:08:17.446Z"
   },
   {
    "duration": 40,
    "start_time": "2022-06-05T12:08:17.457Z"
   },
   {
    "duration": 154,
    "start_time": "2022-06-05T12:08:17.498Z"
   },
   {
    "duration": 957,
    "start_time": "2022-06-05T12:08:17.743Z"
   },
   {
    "duration": 174,
    "start_time": "2022-06-05T12:08:18.702Z"
   },
   {
    "duration": 5822,
    "start_time": "2022-06-05T12:08:18.878Z"
   },
   {
    "duration": 168,
    "start_time": "2022-06-05T12:08:24.702Z"
   },
   {
    "duration": 9,
    "start_time": "2022-06-05T12:08:24.872Z"
   },
   {
    "duration": 39060,
    "start_time": "2022-06-05T12:08:24.885Z"
   },
   {
    "duration": 10203,
    "start_time": "2022-06-05T12:09:04.040Z"
   },
   {
    "duration": 265,
    "start_time": "2022-06-05T12:09:14.244Z"
   },
   {
    "duration": 10,
    "start_time": "2022-06-05T12:09:14.510Z"
   },
   {
    "duration": 17729,
    "start_time": "2022-06-05T12:09:14.521Z"
   },
   {
    "duration": 3211,
    "start_time": "2022-06-05T12:09:32.253Z"
   },
   {
    "duration": 82,
    "start_time": "2022-06-05T12:09:35.466Z"
   },
   {
    "duration": 273,
    "start_time": "2022-06-05T12:09:35.550Z"
   },
   {
    "duration": 117,
    "start_time": "2022-06-05T12:09:35.825Z"
   },
   {
    "duration": 304,
    "start_time": "2022-06-05T12:09:35.945Z"
   },
   {
    "duration": 94,
    "start_time": "2022-06-05T12:09:36.251Z"
   },
   {
    "duration": 97,
    "start_time": "2022-06-05T12:09:36.348Z"
   },
   {
    "duration": 168,
    "start_time": "2022-06-05T12:09:36.447Z"
   },
   {
    "duration": 0,
    "start_time": "2022-06-05T12:09:36.617Z"
   },
   {
    "duration": 0,
    "start_time": "2022-06-05T12:09:36.618Z"
   },
   {
    "duration": 0,
    "start_time": "2022-06-05T12:09:36.619Z"
   },
   {
    "duration": 0,
    "start_time": "2022-06-05T12:09:36.620Z"
   },
   {
    "duration": 0,
    "start_time": "2022-06-05T12:09:36.622Z"
   },
   {
    "duration": 0,
    "start_time": "2022-06-05T12:09:36.624Z"
   },
   {
    "duration": 0,
    "start_time": "2022-06-05T12:09:36.625Z"
   },
   {
    "duration": 0,
    "start_time": "2022-06-05T12:09:36.641Z"
   },
   {
    "duration": 1342,
    "start_time": "2022-06-05T12:13:18.149Z"
   },
   {
    "duration": 41,
    "start_time": "2022-06-05T12:13:19.493Z"
   },
   {
    "duration": 9,
    "start_time": "2022-06-05T12:13:19.535Z"
   },
   {
    "duration": 194,
    "start_time": "2022-06-05T12:13:19.547Z"
   },
   {
    "duration": 3,
    "start_time": "2022-06-05T12:13:19.743Z"
   },
   {
    "duration": 5,
    "start_time": "2022-06-05T12:13:19.748Z"
   },
   {
    "duration": 14,
    "start_time": "2022-06-05T12:13:19.755Z"
   },
   {
    "duration": 4,
    "start_time": "2022-06-05T12:13:19.771Z"
   },
   {
    "duration": 344,
    "start_time": "2022-06-05T12:13:19.777Z"
   },
   {
    "duration": 23,
    "start_time": "2022-06-05T12:13:20.123Z"
   },
   {
    "duration": 9,
    "start_time": "2022-06-05T12:13:20.147Z"
   },
   {
    "duration": 14,
    "start_time": "2022-06-05T12:13:20.157Z"
   },
   {
    "duration": 6,
    "start_time": "2022-06-05T12:13:20.173Z"
   },
   {
    "duration": 18,
    "start_time": "2022-06-05T12:13:20.181Z"
   },
   {
    "duration": 50,
    "start_time": "2022-06-05T12:13:20.201Z"
   },
   {
    "duration": 3,
    "start_time": "2022-06-05T12:13:20.253Z"
   },
   {
    "duration": 9,
    "start_time": "2022-06-05T12:13:20.258Z"
   },
   {
    "duration": 12,
    "start_time": "2022-06-05T12:13:20.268Z"
   },
   {
    "duration": 4,
    "start_time": "2022-06-05T12:13:20.281Z"
   },
   {
    "duration": 12,
    "start_time": "2022-06-05T12:13:20.286Z"
   },
   {
    "duration": 58,
    "start_time": "2022-06-05T12:13:20.299Z"
   },
   {
    "duration": 184,
    "start_time": "2022-06-05T12:13:20.359Z"
   },
   {
    "duration": 862,
    "start_time": "2022-06-05T12:13:20.546Z"
   },
   {
    "duration": 170,
    "start_time": "2022-06-05T12:13:21.409Z"
   },
   {
    "duration": 5466,
    "start_time": "2022-06-05T12:13:21.581Z"
   },
   {
    "duration": 169,
    "start_time": "2022-06-05T12:13:27.049Z"
   },
   {
    "duration": 9,
    "start_time": "2022-06-05T12:13:27.220Z"
   },
   {
    "duration": 39002,
    "start_time": "2022-06-05T12:13:27.241Z"
   },
   {
    "duration": 10631,
    "start_time": "2022-06-05T12:14:06.245Z"
   },
   {
    "duration": 271,
    "start_time": "2022-06-05T12:14:16.878Z"
   },
   {
    "duration": 9,
    "start_time": "2022-06-05T12:14:17.151Z"
   },
   {
    "duration": 18281,
    "start_time": "2022-06-05T12:14:17.162Z"
   },
   {
    "duration": 3184,
    "start_time": "2022-06-05T12:14:35.445Z"
   },
   {
    "duration": 77,
    "start_time": "2022-06-05T12:14:38.631Z"
   },
   {
    "duration": 120,
    "start_time": "2022-06-05T12:14:38.710Z"
   },
   {
    "duration": 0,
    "start_time": "2022-06-05T12:14:38.832Z"
   },
   {
    "duration": 0,
    "start_time": "2022-06-05T12:14:38.833Z"
   },
   {
    "duration": 0,
    "start_time": "2022-06-05T12:14:38.834Z"
   },
   {
    "duration": 0,
    "start_time": "2022-06-05T12:14:38.841Z"
   },
   {
    "duration": 0,
    "start_time": "2022-06-05T12:14:38.842Z"
   },
   {
    "duration": 0,
    "start_time": "2022-06-05T12:14:38.842Z"
   },
   {
    "duration": 0,
    "start_time": "2022-06-05T12:14:38.843Z"
   },
   {
    "duration": 0,
    "start_time": "2022-06-05T12:14:38.844Z"
   },
   {
    "duration": 0,
    "start_time": "2022-06-05T12:14:38.845Z"
   },
   {
    "duration": 0,
    "start_time": "2022-06-05T12:14:38.846Z"
   },
   {
    "duration": 0,
    "start_time": "2022-06-05T12:14:38.847Z"
   },
   {
    "duration": 0,
    "start_time": "2022-06-05T12:14:38.848Z"
   },
   {
    "duration": 0,
    "start_time": "2022-06-05T12:14:38.850Z"
   },
   {
    "duration": 0,
    "start_time": "2022-06-05T12:14:38.851Z"
   },
   {
    "duration": 0,
    "start_time": "2022-06-05T12:14:38.852Z"
   },
   {
    "duration": 1401,
    "start_time": "2022-06-05T12:16:52.058Z"
   },
   {
    "duration": 43,
    "start_time": "2022-06-05T12:16:53.461Z"
   },
   {
    "duration": 10,
    "start_time": "2022-06-05T12:16:53.506Z"
   },
   {
    "duration": 239,
    "start_time": "2022-06-05T12:16:53.519Z"
   },
   {
    "duration": 5,
    "start_time": "2022-06-05T12:16:53.760Z"
   },
   {
    "duration": 30,
    "start_time": "2022-06-05T12:16:53.766Z"
   },
   {
    "duration": 40,
    "start_time": "2022-06-05T12:16:53.797Z"
   },
   {
    "duration": 28,
    "start_time": "2022-06-05T12:16:53.840Z"
   },
   {
    "duration": 373,
    "start_time": "2022-06-05T12:16:53.870Z"
   },
   {
    "duration": 19,
    "start_time": "2022-06-05T12:16:54.248Z"
   },
   {
    "duration": 24,
    "start_time": "2022-06-05T12:16:54.269Z"
   },
   {
    "duration": 33,
    "start_time": "2022-06-05T12:16:54.295Z"
   },
   {
    "duration": 23,
    "start_time": "2022-06-05T12:16:54.329Z"
   },
   {
    "duration": 33,
    "start_time": "2022-06-05T12:16:54.354Z"
   },
   {
    "duration": 12,
    "start_time": "2022-06-05T12:16:54.389Z"
   },
   {
    "duration": 21,
    "start_time": "2022-06-05T12:16:54.402Z"
   },
   {
    "duration": 31,
    "start_time": "2022-06-05T12:16:54.424Z"
   },
   {
    "duration": 22,
    "start_time": "2022-06-05T12:16:54.457Z"
   },
   {
    "duration": 26,
    "start_time": "2022-06-05T12:16:54.481Z"
   },
   {
    "duration": 25,
    "start_time": "2022-06-05T12:16:54.509Z"
   },
   {
    "duration": 56,
    "start_time": "2022-06-05T12:16:54.536Z"
   },
   {
    "duration": 156,
    "start_time": "2022-06-05T12:16:54.594Z"
   },
   {
    "duration": 1015,
    "start_time": "2022-06-05T12:16:54.752Z"
   },
   {
    "duration": 194,
    "start_time": "2022-06-05T12:16:55.769Z"
   },
   {
    "duration": 24878,
    "start_time": "2022-06-05T12:16:55.965Z"
   },
   {
    "duration": 5576,
    "start_time": "2022-06-05T12:17:20.845Z"
   },
   {
    "duration": 210,
    "start_time": "2022-06-05T12:17:26.423Z"
   },
   {
    "duration": 16,
    "start_time": "2022-06-05T12:17:26.640Z"
   },
   {
    "duration": 39085,
    "start_time": "2022-06-05T12:17:26.658Z"
   },
   {
    "duration": 10463,
    "start_time": "2022-06-05T12:18:05.746Z"
   },
   {
    "duration": 272,
    "start_time": "2022-06-05T12:18:16.211Z"
   },
   {
    "duration": 11,
    "start_time": "2022-06-05T12:18:16.485Z"
   },
   {
    "duration": 16847,
    "start_time": "2022-06-05T12:18:16.498Z"
   },
   {
    "duration": 3193,
    "start_time": "2022-06-05T12:18:33.348Z"
   },
   {
    "duration": 78,
    "start_time": "2022-06-05T12:18:36.543Z"
   },
   {
    "duration": 5,
    "start_time": "2022-06-05T12:18:36.623Z"
   },
   {
    "duration": 144,
    "start_time": "2022-06-05T12:18:36.629Z"
   },
   {
    "duration": 584,
    "start_time": "2022-06-05T12:22:32.050Z"
   },
   {
    "duration": 619,
    "start_time": "2022-06-05T12:25:39.324Z"
   },
   {
    "duration": 5,
    "start_time": "2022-06-05T12:25:53.616Z"
   },
   {
    "duration": 471,
    "start_time": "2022-06-05T12:25:53.624Z"
   },
   {
    "duration": 5,
    "start_time": "2022-06-05T12:26:14.068Z"
   },
   {
    "duration": 497,
    "start_time": "2022-06-05T12:26:14.083Z"
   },
   {
    "duration": 8,
    "start_time": "2022-06-05T12:26:38.044Z"
   },
   {
    "duration": 455,
    "start_time": "2022-06-05T12:26:38.054Z"
   },
   {
    "duration": 1256,
    "start_time": "2022-06-05T12:39:17.368Z"
   },
   {
    "duration": 47,
    "start_time": "2022-06-05T12:39:18.626Z"
   },
   {
    "duration": 9,
    "start_time": "2022-06-05T12:39:18.675Z"
   },
   {
    "duration": 194,
    "start_time": "2022-06-05T12:39:18.686Z"
   },
   {
    "duration": 3,
    "start_time": "2022-06-05T12:39:18.882Z"
   },
   {
    "duration": 5,
    "start_time": "2022-06-05T12:39:18.887Z"
   },
   {
    "duration": 17,
    "start_time": "2022-06-05T12:39:18.894Z"
   },
   {
    "duration": 32,
    "start_time": "2022-06-05T12:39:18.912Z"
   },
   {
    "duration": 314,
    "start_time": "2022-06-05T12:39:18.945Z"
   },
   {
    "duration": 17,
    "start_time": "2022-06-05T12:39:19.262Z"
   },
   {
    "duration": 10,
    "start_time": "2022-06-05T12:39:19.281Z"
   },
   {
    "duration": 13,
    "start_time": "2022-06-05T12:39:19.293Z"
   },
   {
    "duration": 33,
    "start_time": "2022-06-05T12:39:19.308Z"
   },
   {
    "duration": 16,
    "start_time": "2022-06-05T12:39:19.343Z"
   },
   {
    "duration": 12,
    "start_time": "2022-06-05T12:39:19.361Z"
   },
   {
    "duration": 3,
    "start_time": "2022-06-05T12:39:19.374Z"
   },
   {
    "duration": 10,
    "start_time": "2022-06-05T12:39:19.378Z"
   },
   {
    "duration": 14,
    "start_time": "2022-06-05T12:39:19.389Z"
   },
   {
    "duration": 3,
    "start_time": "2022-06-05T12:39:19.405Z"
   },
   {
    "duration": 35,
    "start_time": "2022-06-05T12:39:19.410Z"
   },
   {
    "duration": 38,
    "start_time": "2022-06-05T12:39:19.447Z"
   },
   {
    "duration": 162,
    "start_time": "2022-06-05T12:39:19.486Z"
   },
   {
    "duration": 936,
    "start_time": "2022-06-05T12:39:19.650Z"
   },
   {
    "duration": 171,
    "start_time": "2022-06-05T12:39:20.588Z"
   },
   {
    "duration": 27384,
    "start_time": "2022-06-05T12:39:20.760Z"
   },
   {
    "duration": 5458,
    "start_time": "2022-06-05T12:39:48.146Z"
   },
   {
    "duration": 175,
    "start_time": "2022-06-05T12:39:53.605Z"
   },
   {
    "duration": 12,
    "start_time": "2022-06-05T12:39:53.783Z"
   },
   {
    "duration": 39446,
    "start_time": "2022-06-05T12:39:53.797Z"
   },
   {
    "duration": 10585,
    "start_time": "2022-06-05T12:40:33.245Z"
   },
   {
    "duration": 264,
    "start_time": "2022-06-05T12:40:43.833Z"
   },
   {
    "duration": 11,
    "start_time": "2022-06-05T12:40:44.099Z"
   },
   {
    "duration": 17838,
    "start_time": "2022-06-05T12:40:44.111Z"
   },
   {
    "duration": 3149,
    "start_time": "2022-06-05T12:41:01.953Z"
   },
   {
    "duration": 81,
    "start_time": "2022-06-05T12:41:05.103Z"
   },
   {
    "duration": 4,
    "start_time": "2022-06-05T12:41:05.186Z"
   },
   {
    "duration": 656,
    "start_time": "2022-06-05T12:41:05.192Z"
   },
   {
    "duration": 5,
    "start_time": "2022-06-05T12:42:39.427Z"
   },
   {
    "duration": 5,
    "start_time": "2022-06-05T12:42:45.163Z"
   },
   {
    "duration": 473,
    "start_time": "2022-06-05T12:42:45.189Z"
   },
   {
    "duration": 509,
    "start_time": "2022-06-05T12:43:47.693Z"
   },
   {
    "duration": 444,
    "start_time": "2022-06-05T12:44:03.626Z"
   },
   {
    "duration": 475,
    "start_time": "2022-06-05T12:44:12.128Z"
   },
   {
    "duration": 80,
    "start_time": "2022-06-05T12:48:50.291Z"
   },
   {
    "duration": 18,
    "start_time": "2022-06-05T12:48:50.372Z"
   },
   {
    "duration": 1239,
    "start_time": "2022-06-05T12:49:09.985Z"
   },
   {
    "duration": 40,
    "start_time": "2022-06-05T12:49:11.226Z"
   },
   {
    "duration": 9,
    "start_time": "2022-06-05T12:49:11.267Z"
   },
   {
    "duration": 188,
    "start_time": "2022-06-05T12:49:11.278Z"
   },
   {
    "duration": 3,
    "start_time": "2022-06-05T12:49:11.468Z"
   },
   {
    "duration": 6,
    "start_time": "2022-06-05T12:49:11.473Z"
   },
   {
    "duration": 19,
    "start_time": "2022-06-05T12:49:11.481Z"
   },
   {
    "duration": 6,
    "start_time": "2022-06-05T12:49:11.502Z"
   },
   {
    "duration": 337,
    "start_time": "2022-06-05T12:49:11.510Z"
   },
   {
    "duration": 18,
    "start_time": "2022-06-05T12:49:11.850Z"
   },
   {
    "duration": 10,
    "start_time": "2022-06-05T12:49:11.870Z"
   },
   {
    "duration": 14,
    "start_time": "2022-06-05T12:49:11.882Z"
   },
   {
    "duration": 6,
    "start_time": "2022-06-05T12:49:11.897Z"
   },
   {
    "duration": 19,
    "start_time": "2022-06-05T12:49:11.942Z"
   },
   {
    "duration": 14,
    "start_time": "2022-06-05T12:49:11.962Z"
   },
   {
    "duration": 3,
    "start_time": "2022-06-05T12:49:11.978Z"
   },
   {
    "duration": 6,
    "start_time": "2022-06-05T12:49:11.983Z"
   },
   {
    "duration": 13,
    "start_time": "2022-06-05T12:49:11.991Z"
   },
   {
    "duration": 35,
    "start_time": "2022-06-05T12:49:12.006Z"
   },
   {
    "duration": 9,
    "start_time": "2022-06-05T12:49:12.043Z"
   },
   {
    "duration": 37,
    "start_time": "2022-06-05T12:49:12.054Z"
   },
   {
    "duration": 156,
    "start_time": "2022-06-05T12:49:12.093Z"
   },
   {
    "duration": 952,
    "start_time": "2022-06-05T12:49:12.251Z"
   },
   {
    "duration": 171,
    "start_time": "2022-06-05T12:49:13.205Z"
   },
   {
    "duration": 27963,
    "start_time": "2022-06-05T12:49:13.377Z"
   },
   {
    "duration": 5543,
    "start_time": "2022-06-05T12:49:41.342Z"
   },
   {
    "duration": 182,
    "start_time": "2022-06-05T12:49:46.886Z"
   },
   {
    "duration": 10,
    "start_time": "2022-06-05T12:49:47.071Z"
   },
   {
    "duration": 38676,
    "start_time": "2022-06-05T12:49:47.082Z"
   },
   {
    "duration": 11492,
    "start_time": "2022-06-05T12:50:25.759Z"
   },
   {
    "duration": 299,
    "start_time": "2022-06-05T12:50:37.252Z"
   },
   {
    "duration": 11,
    "start_time": "2022-06-05T12:50:37.552Z"
   },
   {
    "duration": 15978,
    "start_time": "2022-06-05T12:50:37.565Z"
   },
   {
    "duration": 3177,
    "start_time": "2022-06-05T12:50:53.545Z"
   },
   {
    "duration": 86,
    "start_time": "2022-06-05T12:50:56.723Z"
   },
   {
    "duration": 137,
    "start_time": "2022-06-05T12:50:56.811Z"
   },
   {
    "duration": 1463,
    "start_time": "2022-06-05T13:35:17.225Z"
   },
   {
    "duration": 42,
    "start_time": "2022-06-05T13:35:18.690Z"
   },
   {
    "duration": 9,
    "start_time": "2022-06-05T13:35:18.734Z"
   },
   {
    "duration": 239,
    "start_time": "2022-06-05T13:35:18.745Z"
   },
   {
    "duration": 3,
    "start_time": "2022-06-05T13:35:18.986Z"
   },
   {
    "duration": 8,
    "start_time": "2022-06-05T13:35:18.991Z"
   },
   {
    "duration": 57,
    "start_time": "2022-06-05T13:35:19.001Z"
   },
   {
    "duration": 12,
    "start_time": "2022-06-05T13:35:19.060Z"
   },
   {
    "duration": 394,
    "start_time": "2022-06-05T13:35:19.074Z"
   },
   {
    "duration": 19,
    "start_time": "2022-06-05T13:35:19.471Z"
   },
   {
    "duration": 13,
    "start_time": "2022-06-05T13:35:19.491Z"
   },
   {
    "duration": 36,
    "start_time": "2022-06-05T13:35:19.506Z"
   },
   {
    "duration": 6,
    "start_time": "2022-06-05T13:35:19.544Z"
   },
   {
    "duration": 43,
    "start_time": "2022-06-05T13:35:19.551Z"
   },
   {
    "duration": 13,
    "start_time": "2022-06-05T13:35:19.596Z"
   },
   {
    "duration": 14,
    "start_time": "2022-06-05T13:35:19.610Z"
   },
   {
    "duration": 19,
    "start_time": "2022-06-05T13:35:19.625Z"
   },
   {
    "duration": 30,
    "start_time": "2022-06-05T13:35:19.646Z"
   },
   {
    "duration": 11,
    "start_time": "2022-06-05T13:35:19.678Z"
   },
   {
    "duration": 19,
    "start_time": "2022-06-05T13:35:19.691Z"
   },
   {
    "duration": 48,
    "start_time": "2022-06-05T13:35:19.711Z"
   },
   {
    "duration": 180,
    "start_time": "2022-06-05T13:35:19.761Z"
   },
   {
    "duration": 978,
    "start_time": "2022-06-05T13:35:19.944Z"
   },
   {
    "duration": 197,
    "start_time": "2022-06-05T13:35:20.924Z"
   },
   {
    "duration": 27627,
    "start_time": "2022-06-05T13:35:21.123Z"
   },
   {
    "duration": 5725,
    "start_time": "2022-06-05T13:35:48.841Z"
   },
   {
    "duration": 183,
    "start_time": "2022-06-05T13:35:54.568Z"
   },
   {
    "duration": 11,
    "start_time": "2022-06-05T13:35:54.755Z"
   },
   {
    "duration": 38274,
    "start_time": "2022-06-05T13:35:54.768Z"
   },
   {
    "duration": 10812,
    "start_time": "2022-06-05T13:36:33.045Z"
   },
   {
    "duration": 282,
    "start_time": "2022-06-05T13:36:43.858Z"
   },
   {
    "duration": 10,
    "start_time": "2022-06-05T13:36:44.141Z"
   },
   {
    "duration": 11294,
    "start_time": "2022-06-05T13:36:44.153Z"
   },
   {
    "duration": 3623,
    "start_time": "2022-06-05T13:36:55.454Z"
   },
   {
    "duration": 96,
    "start_time": "2022-06-05T13:36:59.078Z"
   },
   {
    "duration": 1438,
    "start_time": "2022-06-05T13:40:00.459Z"
   },
   {
    "duration": 45,
    "start_time": "2022-06-05T13:40:01.900Z"
   },
   {
    "duration": 11,
    "start_time": "2022-06-05T13:40:01.947Z"
   },
   {
    "duration": 295,
    "start_time": "2022-06-05T13:40:01.961Z"
   },
   {
    "duration": 3,
    "start_time": "2022-06-05T13:40:02.259Z"
   },
   {
    "duration": 22,
    "start_time": "2022-06-05T13:40:02.264Z"
   },
   {
    "duration": 39,
    "start_time": "2022-06-05T13:40:02.288Z"
   },
   {
    "duration": 22,
    "start_time": "2022-06-05T13:40:02.328Z"
   },
   {
    "duration": 324,
    "start_time": "2022-06-05T13:40:02.352Z"
   },
   {
    "duration": 20,
    "start_time": "2022-06-05T13:40:02.678Z"
   },
   {
    "duration": 10,
    "start_time": "2022-06-05T13:40:02.700Z"
   },
   {
    "duration": 40,
    "start_time": "2022-06-05T13:40:02.712Z"
   },
   {
    "duration": 6,
    "start_time": "2022-06-05T13:40:02.754Z"
   },
   {
    "duration": 31,
    "start_time": "2022-06-05T13:40:02.765Z"
   },
   {
    "duration": 48,
    "start_time": "2022-06-05T13:40:02.799Z"
   },
   {
    "duration": 4,
    "start_time": "2022-06-05T13:40:02.850Z"
   },
   {
    "duration": 13,
    "start_time": "2022-06-05T13:40:02.856Z"
   },
   {
    "duration": 16,
    "start_time": "2022-06-05T13:40:02.871Z"
   },
   {
    "duration": 4,
    "start_time": "2022-06-05T13:40:02.889Z"
   },
   {
    "duration": 9,
    "start_time": "2022-06-05T13:40:02.895Z"
   },
   {
    "duration": 74,
    "start_time": "2022-06-05T13:40:02.906Z"
   },
   {
    "duration": 770,
    "start_time": "2022-06-05T13:40:02.981Z"
   },
   {
    "duration": 926,
    "start_time": "2022-06-05T13:40:03.754Z"
   },
   {
    "duration": 187,
    "start_time": "2022-06-05T13:40:04.682Z"
   },
   {
    "duration": 1383,
    "start_time": "2022-06-05T13:40:36.793Z"
   },
   {
    "duration": 42,
    "start_time": "2022-06-05T13:40:38.177Z"
   },
   {
    "duration": 10,
    "start_time": "2022-06-05T13:40:38.221Z"
   },
   {
    "duration": 220,
    "start_time": "2022-06-05T13:40:38.232Z"
   },
   {
    "duration": 4,
    "start_time": "2022-06-05T13:40:38.455Z"
   },
   {
    "duration": 17,
    "start_time": "2022-06-05T13:40:38.460Z"
   },
   {
    "duration": 25,
    "start_time": "2022-06-05T13:40:38.479Z"
   },
   {
    "duration": 16,
    "start_time": "2022-06-05T13:40:38.506Z"
   },
   {
    "duration": 346,
    "start_time": "2022-06-05T13:40:38.523Z"
   },
   {
    "duration": 18,
    "start_time": "2022-06-05T13:40:38.871Z"
   },
   {
    "duration": 9,
    "start_time": "2022-06-05T13:40:38.890Z"
   },
   {
    "duration": 13,
    "start_time": "2022-06-05T13:40:38.901Z"
   },
   {
    "duration": 31,
    "start_time": "2022-06-05T13:40:38.915Z"
   },
   {
    "duration": 23,
    "start_time": "2022-06-05T13:40:38.949Z"
   },
   {
    "duration": 13,
    "start_time": "2022-06-05T13:40:38.974Z"
   },
   {
    "duration": 14,
    "start_time": "2022-06-05T13:40:38.989Z"
   },
   {
    "duration": 21,
    "start_time": "2022-06-05T13:40:39.005Z"
   },
   {
    "duration": 26,
    "start_time": "2022-06-05T13:40:39.028Z"
   },
   {
    "duration": 4,
    "start_time": "2022-06-05T13:40:39.056Z"
   },
   {
    "duration": 23,
    "start_time": "2022-06-05T13:40:39.061Z"
   },
   {
    "duration": 49,
    "start_time": "2022-06-05T13:40:39.086Z"
   },
   {
    "duration": 111,
    "start_time": "2022-06-05T13:40:39.137Z"
   },
   {
    "duration": 940,
    "start_time": "2022-06-05T13:40:39.251Z"
   },
   {
    "duration": 191,
    "start_time": "2022-06-05T13:40:40.193Z"
   },
   {
    "duration": 23855,
    "start_time": "2022-06-05T13:40:40.385Z"
   },
   {
    "duration": 6089,
    "start_time": "2022-06-05T13:41:04.248Z"
   },
   {
    "duration": 183,
    "start_time": "2022-06-05T13:41:10.339Z"
   },
   {
    "duration": 20,
    "start_time": "2022-06-05T13:41:10.523Z"
   },
   {
    "duration": 36898,
    "start_time": "2022-06-05T13:41:10.545Z"
   },
   {
    "duration": 11101,
    "start_time": "2022-06-05T13:41:47.446Z"
   },
   {
    "duration": 285,
    "start_time": "2022-06-05T13:41:58.548Z"
   },
   {
    "duration": 13,
    "start_time": "2022-06-05T13:41:58.834Z"
   },
   {
    "duration": 15608,
    "start_time": "2022-06-05T13:41:58.848Z"
   },
   {
    "duration": 3465,
    "start_time": "2022-06-05T13:42:14.460Z"
   },
   {
    "duration": 143,
    "start_time": "2022-06-05T13:42:17.927Z"
   },
   {
    "duration": 151,
    "start_time": "2022-06-05T13:54:41.515Z"
   },
   {
    "duration": 1341,
    "start_time": "2022-06-05T13:55:54.405Z"
   },
   {
    "duration": 45,
    "start_time": "2022-06-05T13:55:55.748Z"
   },
   {
    "duration": 10,
    "start_time": "2022-06-05T13:55:55.794Z"
   },
   {
    "duration": 246,
    "start_time": "2022-06-05T13:55:55.805Z"
   },
   {
    "duration": 3,
    "start_time": "2022-06-05T13:55:56.053Z"
   },
   {
    "duration": 10,
    "start_time": "2022-06-05T13:55:56.058Z"
   },
   {
    "duration": 23,
    "start_time": "2022-06-05T13:55:56.070Z"
   },
   {
    "duration": 8,
    "start_time": "2022-06-05T13:55:56.095Z"
   },
   {
    "duration": 378,
    "start_time": "2022-06-05T13:55:56.105Z"
   },
   {
    "duration": 29,
    "start_time": "2022-06-05T13:55:56.486Z"
   },
   {
    "duration": 31,
    "start_time": "2022-06-05T13:55:56.517Z"
   },
   {
    "duration": 17,
    "start_time": "2022-06-05T13:55:56.550Z"
   },
   {
    "duration": 8,
    "start_time": "2022-06-05T13:55:56.569Z"
   },
   {
    "duration": 20,
    "start_time": "2022-06-05T13:55:56.580Z"
   },
   {
    "duration": 49,
    "start_time": "2022-06-05T13:55:56.602Z"
   },
   {
    "duration": 5,
    "start_time": "2022-06-05T13:55:56.653Z"
   },
   {
    "duration": 17,
    "start_time": "2022-06-05T13:55:56.659Z"
   },
   {
    "duration": 20,
    "start_time": "2022-06-05T13:55:56.678Z"
   },
   {
    "duration": 3,
    "start_time": "2022-06-05T13:55:56.700Z"
   },
   {
    "duration": 17,
    "start_time": "2022-06-05T13:55:56.705Z"
   },
   {
    "duration": 54,
    "start_time": "2022-06-05T13:55:56.723Z"
   },
   {
    "duration": 369,
    "start_time": "2022-06-05T13:55:56.779Z"
   },
   {
    "duration": 1011,
    "start_time": "2022-06-05T13:55:57.152Z"
   },
   {
    "duration": 190,
    "start_time": "2022-06-05T13:55:58.165Z"
   },
   {
    "duration": 23088,
    "start_time": "2022-06-05T13:55:58.357Z"
   },
   {
    "duration": 5963,
    "start_time": "2022-06-05T13:56:21.448Z"
   },
   {
    "duration": 13,
    "start_time": "2022-06-05T13:56:27.413Z"
   },
   {
    "duration": 37113,
    "start_time": "2022-06-05T13:56:27.429Z"
   },
   {
    "duration": 11919,
    "start_time": "2022-06-05T13:57:04.544Z"
   },
   {
    "duration": 372,
    "start_time": "2022-06-05T13:57:16.466Z"
   },
   {
    "duration": 10,
    "start_time": "2022-06-05T13:57:16.841Z"
   },
   {
    "duration": 9691,
    "start_time": "2022-06-05T13:57:16.853Z"
   },
   {
    "duration": 3502,
    "start_time": "2022-06-05T13:57:26.546Z"
   },
   {
    "duration": 91,
    "start_time": "2022-06-05T13:57:30.050Z"
   },
   {
    "duration": 1427,
    "start_time": "2022-06-05T14:00:23.091Z"
   },
   {
    "duration": 42,
    "start_time": "2022-06-05T14:00:24.520Z"
   },
   {
    "duration": 11,
    "start_time": "2022-06-05T14:00:24.564Z"
   },
   {
    "duration": 278,
    "start_time": "2022-06-05T14:00:24.577Z"
   },
   {
    "duration": 5,
    "start_time": "2022-06-05T14:00:24.857Z"
   },
   {
    "duration": 10,
    "start_time": "2022-06-05T14:00:24.864Z"
   },
   {
    "duration": 22,
    "start_time": "2022-06-05T14:00:24.876Z"
   },
   {
    "duration": 10,
    "start_time": "2022-06-05T14:00:24.900Z"
   },
   {
    "duration": 384,
    "start_time": "2022-06-05T14:00:24.912Z"
   },
   {
    "duration": 20,
    "start_time": "2022-06-05T14:00:25.299Z"
   },
   {
    "duration": 25,
    "start_time": "2022-06-05T14:00:25.321Z"
   },
   {
    "duration": 15,
    "start_time": "2022-06-05T14:00:25.349Z"
   },
   {
    "duration": 9,
    "start_time": "2022-06-05T14:00:25.366Z"
   },
   {
    "duration": 22,
    "start_time": "2022-06-05T14:00:25.377Z"
   },
   {
    "duration": 55,
    "start_time": "2022-06-05T14:00:25.401Z"
   },
   {
    "duration": 4,
    "start_time": "2022-06-05T14:00:25.459Z"
   },
   {
    "duration": 9,
    "start_time": "2022-06-05T14:00:25.466Z"
   },
   {
    "duration": 15,
    "start_time": "2022-06-05T14:00:25.476Z"
   },
   {
    "duration": 4,
    "start_time": "2022-06-05T14:00:25.493Z"
   },
   {
    "duration": 43,
    "start_time": "2022-06-05T14:00:25.499Z"
   },
   {
    "duration": 45,
    "start_time": "2022-06-05T14:00:25.545Z"
   },
   {
    "duration": 262,
    "start_time": "2022-06-05T14:00:25.593Z"
   },
   {
    "duration": 1004,
    "start_time": "2022-06-05T14:00:25.948Z"
   },
   {
    "duration": 208,
    "start_time": "2022-06-05T14:00:26.954Z"
   },
   {
    "duration": 24983,
    "start_time": "2022-06-05T14:00:27.164Z"
   },
   {
    "duration": 6487,
    "start_time": "2022-06-05T14:00:52.149Z"
   },
   {
    "duration": 13,
    "start_time": "2022-06-05T14:00:58.641Z"
   },
   {
    "duration": 39387,
    "start_time": "2022-06-05T14:00:58.659Z"
   },
   {
    "duration": 10980,
    "start_time": "2022-06-05T14:01:38.048Z"
   },
   {
    "duration": 288,
    "start_time": "2022-06-05T14:01:49.030Z"
   },
   {
    "duration": 11,
    "start_time": "2022-06-05T14:01:49.319Z"
   },
   {
    "duration": 19511,
    "start_time": "2022-06-05T14:01:49.332Z"
   },
   {
    "duration": 3341,
    "start_time": "2022-06-05T14:02:08.845Z"
   },
   {
    "duration": 86,
    "start_time": "2022-06-05T14:02:12.188Z"
   },
   {
    "duration": 133,
    "start_time": "2022-06-05T14:02:12.275Z"
   },
   {
    "duration": 0,
    "start_time": "2022-06-05T14:02:12.410Z"
   },
   {
    "duration": 0,
    "start_time": "2022-06-05T14:02:12.411Z"
   },
   {
    "duration": 0,
    "start_time": "2022-06-05T14:02:12.412Z"
   },
   {
    "duration": 0,
    "start_time": "2022-06-05T14:02:12.413Z"
   },
   {
    "duration": 0,
    "start_time": "2022-06-05T14:02:12.414Z"
   },
   {
    "duration": 1387,
    "start_time": "2022-06-05T14:02:40.038Z"
   },
   {
    "duration": 42,
    "start_time": "2022-06-05T14:02:41.427Z"
   },
   {
    "duration": 10,
    "start_time": "2022-06-05T14:02:41.470Z"
   },
   {
    "duration": 260,
    "start_time": "2022-06-05T14:02:41.482Z"
   },
   {
    "duration": 5,
    "start_time": "2022-06-05T14:02:41.744Z"
   },
   {
    "duration": 9,
    "start_time": "2022-06-05T14:02:41.751Z"
   },
   {
    "duration": 25,
    "start_time": "2022-06-05T14:02:41.763Z"
   },
   {
    "duration": 7,
    "start_time": "2022-06-05T14:02:41.790Z"
   },
   {
    "duration": 384,
    "start_time": "2022-06-05T14:02:41.798Z"
   },
   {
    "duration": 17,
    "start_time": "2022-06-05T14:02:42.184Z"
   },
   {
    "duration": 9,
    "start_time": "2022-06-05T14:02:42.202Z"
   },
   {
    "duration": 37,
    "start_time": "2022-06-05T14:02:42.212Z"
   },
   {
    "duration": 7,
    "start_time": "2022-06-05T14:02:42.251Z"
   },
   {
    "duration": 27,
    "start_time": "2022-06-05T14:02:42.263Z"
   },
   {
    "duration": 14,
    "start_time": "2022-06-05T14:02:42.291Z"
   },
   {
    "duration": 4,
    "start_time": "2022-06-05T14:02:42.306Z"
   },
   {
    "duration": 34,
    "start_time": "2022-06-05T14:02:42.311Z"
   },
   {
    "duration": 14,
    "start_time": "2022-06-05T14:02:42.346Z"
   },
   {
    "duration": 3,
    "start_time": "2022-06-05T14:02:42.362Z"
   },
   {
    "duration": 26,
    "start_time": "2022-06-05T14:02:42.367Z"
   },
   {
    "duration": 67,
    "start_time": "2022-06-05T14:02:42.396Z"
   },
   {
    "duration": 385,
    "start_time": "2022-06-05T14:02:42.466Z"
   },
   {
    "duration": 956,
    "start_time": "2022-06-05T14:02:42.854Z"
   },
   {
    "duration": 199,
    "start_time": "2022-06-05T14:02:43.811Z"
   },
   {
    "duration": 23237,
    "start_time": "2022-06-05T14:02:44.012Z"
   },
   {
    "duration": 6152,
    "start_time": "2022-06-05T14:03:07.251Z"
   },
   {
    "duration": 12,
    "start_time": "2022-06-05T14:03:13.405Z"
   },
   {
    "duration": 39428,
    "start_time": "2022-06-05T14:03:13.419Z"
   },
   {
    "duration": 11323,
    "start_time": "2022-06-05T14:03:52.849Z"
   },
   {
    "duration": 293,
    "start_time": "2022-06-05T14:04:04.174Z"
   },
   {
    "duration": 11,
    "start_time": "2022-06-05T14:04:04.469Z"
   },
   {
    "duration": 14767,
    "start_time": "2022-06-05T14:04:04.482Z"
   },
   {
    "duration": 3487,
    "start_time": "2022-06-05T14:04:19.251Z"
   },
   {
    "duration": 84,
    "start_time": "2022-06-05T14:04:22.741Z"
   },
   {
    "duration": 21,
    "start_time": "2022-06-05T14:04:22.827Z"
   },
   {
    "duration": 311,
    "start_time": "2022-06-05T14:04:22.850Z"
   },
   {
    "duration": 23,
    "start_time": "2022-06-05T14:04:23.163Z"
   },
   {
    "duration": 8,
    "start_time": "2022-06-05T14:04:23.188Z"
   },
   {
    "duration": 9,
    "start_time": "2022-06-05T14:04:23.198Z"
   },
   {
    "duration": 155,
    "start_time": "2022-06-05T14:04:23.208Z"
   },
   {
    "duration": 1279,
    "start_time": "2022-06-05T14:23:10.555Z"
   },
   {
    "duration": 41,
    "start_time": "2022-06-05T14:23:11.836Z"
   },
   {
    "duration": 8,
    "start_time": "2022-06-05T14:23:11.879Z"
   },
   {
    "duration": 203,
    "start_time": "2022-06-05T14:23:11.890Z"
   },
   {
    "duration": 4,
    "start_time": "2022-06-05T14:23:12.094Z"
   },
   {
    "duration": 8,
    "start_time": "2022-06-05T14:23:12.100Z"
   },
   {
    "duration": 40,
    "start_time": "2022-06-05T14:23:12.109Z"
   },
   {
    "duration": 28,
    "start_time": "2022-06-05T14:23:12.151Z"
   },
   {
    "duration": 469,
    "start_time": "2022-06-05T14:23:12.181Z"
   },
   {
    "duration": 5,
    "start_time": "2022-06-05T14:23:12.654Z"
   },
   {
    "duration": 24,
    "start_time": "2022-06-05T14:23:12.661Z"
   },
   {
    "duration": 21,
    "start_time": "2022-06-05T14:23:12.688Z"
   },
   {
    "duration": 31,
    "start_time": "2022-06-05T14:23:12.711Z"
   },
   {
    "duration": 29,
    "start_time": "2022-06-05T14:23:12.745Z"
   },
   {
    "duration": 15,
    "start_time": "2022-06-05T14:23:12.776Z"
   },
   {
    "duration": 15,
    "start_time": "2022-06-05T14:23:12.793Z"
   },
   {
    "duration": 23,
    "start_time": "2022-06-05T14:23:12.810Z"
   },
   {
    "duration": 32,
    "start_time": "2022-06-05T14:23:12.834Z"
   },
   {
    "duration": 3,
    "start_time": "2022-06-05T14:23:12.868Z"
   },
   {
    "duration": 19,
    "start_time": "2022-06-05T14:23:12.873Z"
   },
   {
    "duration": 51,
    "start_time": "2022-06-05T14:23:12.894Z"
   },
   {
    "duration": 402,
    "start_time": "2022-06-05T14:23:12.946Z"
   },
   {
    "duration": 874,
    "start_time": "2022-06-05T14:23:13.350Z"
   },
   {
    "duration": 170,
    "start_time": "2022-06-05T14:23:14.226Z"
   },
   {
    "duration": 26853,
    "start_time": "2022-06-05T14:23:14.397Z"
   },
   {
    "duration": 5394,
    "start_time": "2022-06-05T14:23:41.342Z"
   },
   {
    "duration": 11,
    "start_time": "2022-06-05T14:23:46.740Z"
   },
   {
    "duration": 39488,
    "start_time": "2022-06-05T14:23:46.755Z"
   },
   {
    "duration": 10258,
    "start_time": "2022-06-05T14:24:26.245Z"
   },
   {
    "duration": 294,
    "start_time": "2022-06-05T14:24:36.504Z"
   },
   {
    "duration": 9,
    "start_time": "2022-06-05T14:24:36.799Z"
   },
   {
    "duration": 16834,
    "start_time": "2022-06-05T14:24:36.809Z"
   },
   {
    "duration": 3157,
    "start_time": "2022-06-05T14:24:53.646Z"
   },
   {
    "duration": 86,
    "start_time": "2022-06-05T14:24:56.804Z"
   },
   {
    "duration": 7,
    "start_time": "2022-06-05T14:24:56.892Z"
   },
   {
    "duration": 301,
    "start_time": "2022-06-05T14:24:56.901Z"
   },
   {
    "duration": 21,
    "start_time": "2022-06-05T14:24:57.203Z"
   },
   {
    "duration": 17,
    "start_time": "2022-06-05T14:24:57.225Z"
   },
   {
    "duration": 4,
    "start_time": "2022-06-05T14:24:57.244Z"
   },
   {
    "duration": 177,
    "start_time": "2022-06-05T14:24:57.249Z"
   },
   {
    "duration": 1246,
    "start_time": "2022-06-05T14:27:29.991Z"
   },
   {
    "duration": 42,
    "start_time": "2022-06-05T14:27:31.240Z"
   },
   {
    "duration": 9,
    "start_time": "2022-06-05T14:27:31.284Z"
   },
   {
    "duration": 212,
    "start_time": "2022-06-05T14:27:31.294Z"
   },
   {
    "duration": 4,
    "start_time": "2022-06-05T14:27:31.508Z"
   },
   {
    "duration": 34,
    "start_time": "2022-06-05T14:27:31.513Z"
   },
   {
    "duration": 15,
    "start_time": "2022-06-05T14:27:31.549Z"
   },
   {
    "duration": 32,
    "start_time": "2022-06-05T14:27:31.566Z"
   },
   {
    "duration": 431,
    "start_time": "2022-06-05T14:27:31.600Z"
   },
   {
    "duration": 10,
    "start_time": "2022-06-05T14:27:32.040Z"
   },
   {
    "duration": 15,
    "start_time": "2022-06-05T14:27:32.052Z"
   },
   {
    "duration": 5,
    "start_time": "2022-06-05T14:27:32.069Z"
   },
   {
    "duration": 8,
    "start_time": "2022-06-05T14:27:32.076Z"
   },
   {
    "duration": 20,
    "start_time": "2022-06-05T14:27:32.086Z"
   },
   {
    "duration": 45,
    "start_time": "2022-06-05T14:27:32.108Z"
   },
   {
    "duration": 4,
    "start_time": "2022-06-05T14:27:32.154Z"
   },
   {
    "duration": 9,
    "start_time": "2022-06-05T14:27:32.160Z"
   },
   {
    "duration": 14,
    "start_time": "2022-06-05T14:27:32.170Z"
   },
   {
    "duration": 3,
    "start_time": "2022-06-05T14:27:32.186Z"
   },
   {
    "duration": 9,
    "start_time": "2022-06-05T14:27:32.190Z"
   },
   {
    "duration": 70,
    "start_time": "2022-06-05T14:27:32.201Z"
   },
   {
    "duration": 170,
    "start_time": "2022-06-05T14:27:32.273Z"
   },
   {
    "duration": 850,
    "start_time": "2022-06-05T14:27:32.445Z"
   },
   {
    "duration": 175,
    "start_time": "2022-06-05T14:27:33.297Z"
   },
   {
    "duration": 28170,
    "start_time": "2022-06-05T14:27:33.473Z"
   },
   {
    "duration": 5595,
    "start_time": "2022-06-05T14:28:01.645Z"
   },
   {
    "duration": 10,
    "start_time": "2022-06-05T14:28:07.241Z"
   },
   {
    "duration": 38489,
    "start_time": "2022-06-05T14:28:07.254Z"
   },
   {
    "duration": 10442,
    "start_time": "2022-06-05T14:28:45.745Z"
   },
   {
    "duration": 269,
    "start_time": "2022-06-05T14:28:56.189Z"
   },
   {
    "duration": 13,
    "start_time": "2022-06-05T14:28:56.460Z"
   },
   {
    "duration": 17167,
    "start_time": "2022-06-05T14:28:56.475Z"
   },
   {
    "duration": 3136,
    "start_time": "2022-06-05T14:29:13.644Z"
   },
   {
    "duration": 84,
    "start_time": "2022-06-05T14:29:16.782Z"
   },
   {
    "duration": 8,
    "start_time": "2022-06-05T14:29:16.868Z"
   },
   {
    "duration": 290,
    "start_time": "2022-06-05T14:29:16.877Z"
   },
   {
    "duration": 20,
    "start_time": "2022-06-05T14:29:17.169Z"
   },
   {
    "duration": 7,
    "start_time": "2022-06-05T14:29:17.190Z"
   },
   {
    "duration": 3,
    "start_time": "2022-06-05T14:29:17.199Z"
   },
   {
    "duration": 194,
    "start_time": "2022-06-05T14:29:17.204Z"
   },
   {
    "duration": 629,
    "start_time": "2022-06-05T14:41:31.157Z"
   },
   {
    "duration": 44,
    "start_time": "2022-06-05T14:47:15.751Z"
   },
   {
    "duration": 1368,
    "start_time": "2022-06-05T14:57:00.864Z"
   },
   {
    "duration": 42,
    "start_time": "2022-06-05T14:57:02.234Z"
   },
   {
    "duration": 9,
    "start_time": "2022-06-05T14:57:02.279Z"
   },
   {
    "duration": 256,
    "start_time": "2022-06-05T14:57:02.290Z"
   },
   {
    "duration": 3,
    "start_time": "2022-06-05T14:57:02.548Z"
   },
   {
    "duration": 15,
    "start_time": "2022-06-05T14:57:02.554Z"
   },
   {
    "duration": 23,
    "start_time": "2022-06-05T14:57:02.575Z"
   },
   {
    "duration": 47,
    "start_time": "2022-06-05T14:57:02.600Z"
   },
   {
    "duration": 431,
    "start_time": "2022-06-05T14:57:02.650Z"
   },
   {
    "duration": 10,
    "start_time": "2022-06-05T14:57:03.085Z"
   },
   {
    "duration": 15,
    "start_time": "2022-06-05T14:57:03.097Z"
   },
   {
    "duration": 28,
    "start_time": "2022-06-05T14:57:03.115Z"
   },
   {
    "duration": 7,
    "start_time": "2022-06-05T14:57:03.145Z"
   },
   {
    "duration": 10,
    "start_time": "2022-06-05T14:57:03.154Z"
   },
   {
    "duration": 241,
    "start_time": "2022-06-05T14:57:03.166Z"
   },
   {
    "duration": 4,
    "start_time": "2022-06-05T14:57:03.409Z"
   },
   {
    "duration": 593,
    "start_time": "2022-06-05T14:57:03.415Z"
   },
   {
    "duration": 229,
    "start_time": "2022-06-05T14:57:04.010Z"
   },
   {
    "duration": 4,
    "start_time": "2022-06-05T14:57:04.241Z"
   },
   {
    "duration": 17,
    "start_time": "2022-06-05T14:57:04.247Z"
   },
   {
    "duration": 761,
    "start_time": "2022-06-05T14:57:04.267Z"
   },
   {
    "duration": 12,
    "start_time": "2022-06-05T14:57:05.030Z"
   },
   {
    "duration": 22,
    "start_time": "2022-06-05T14:57:05.046Z"
   },
   {
    "duration": 888,
    "start_time": "2022-06-05T14:57:05.071Z"
   },
   {
    "duration": 7613,
    "start_time": "2022-06-05T14:57:05.961Z"
   },
   {
    "duration": 8311,
    "start_time": "2022-06-05T14:57:13.580Z"
   },
   {
    "duration": 2603,
    "start_time": "2022-06-05T14:57:21.893Z"
   },
   {
    "duration": 1341,
    "start_time": "2022-06-05T14:59:23.703Z"
   },
   {
    "duration": 42,
    "start_time": "2022-06-05T14:59:25.046Z"
   },
   {
    "duration": 9,
    "start_time": "2022-06-05T14:59:25.090Z"
   },
   {
    "duration": 186,
    "start_time": "2022-06-05T14:59:25.101Z"
   },
   {
    "duration": 4,
    "start_time": "2022-06-05T14:59:25.289Z"
   },
   {
    "duration": 8,
    "start_time": "2022-06-05T14:59:25.294Z"
   },
   {
    "duration": 37,
    "start_time": "2022-06-05T14:59:25.304Z"
   },
   {
    "duration": 19,
    "start_time": "2022-06-05T14:59:25.343Z"
   },
   {
    "duration": 408,
    "start_time": "2022-06-05T14:59:25.364Z"
   },
   {
    "duration": 9,
    "start_time": "2022-06-05T14:59:25.774Z"
   },
   {
    "duration": 15,
    "start_time": "2022-06-05T14:59:25.785Z"
   },
   {
    "duration": 6,
    "start_time": "2022-06-05T14:59:25.801Z"
   },
   {
    "duration": 38,
    "start_time": "2022-06-05T14:59:25.808Z"
   },
   {
    "duration": 8,
    "start_time": "2022-06-05T14:59:25.851Z"
   },
   {
    "duration": 13,
    "start_time": "2022-06-05T14:59:25.861Z"
   },
   {
    "duration": 20,
    "start_time": "2022-06-05T14:59:25.876Z"
   },
   {
    "duration": 654,
    "start_time": "2022-06-05T14:59:25.898Z"
   },
   {
    "duration": 13,
    "start_time": "2022-06-05T14:59:26.554Z"
   },
   {
    "duration": 3,
    "start_time": "2022-06-05T14:59:26.569Z"
   },
   {
    "duration": 9,
    "start_time": "2022-06-05T14:59:26.573Z"
   },
   {
    "duration": 12,
    "start_time": "2022-06-05T14:59:26.584Z"
   },
   {
    "duration": 4,
    "start_time": "2022-06-05T14:59:26.598Z"
   },
   {
    "duration": 40,
    "start_time": "2022-06-05T14:59:26.604Z"
   },
   {
    "duration": 37,
    "start_time": "2022-06-05T14:59:26.646Z"
   },
   {
    "duration": 158,
    "start_time": "2022-06-05T14:59:26.685Z"
   },
   {
    "duration": 874,
    "start_time": "2022-06-05T14:59:26.847Z"
   },
   {
    "duration": 248,
    "start_time": "2022-06-05T14:59:27.722Z"
   },
   {
    "duration": 26472,
    "start_time": "2022-06-05T14:59:27.972Z"
   },
   {
    "duration": 5819,
    "start_time": "2022-06-05T14:59:54.446Z"
   },
   {
    "duration": 11,
    "start_time": "2022-06-05T15:00:00.267Z"
   },
   {
    "duration": 37974,
    "start_time": "2022-06-05T15:00:00.280Z"
   },
   {
    "duration": 10561,
    "start_time": "2022-06-05T15:00:38.256Z"
   },
   {
    "duration": 272,
    "start_time": "2022-06-05T15:00:48.819Z"
   },
   {
    "duration": 10,
    "start_time": "2022-06-05T15:00:49.093Z"
   },
   {
    "duration": 14442,
    "start_time": "2022-06-05T15:00:49.105Z"
   },
   {
    "duration": 3244,
    "start_time": "2022-06-05T15:01:03.549Z"
   },
   {
    "duration": 81,
    "start_time": "2022-06-05T15:01:06.795Z"
   },
   {
    "duration": 8,
    "start_time": "2022-06-05T15:01:06.878Z"
   },
   {
    "duration": 289,
    "start_time": "2022-06-05T15:01:06.887Z"
   },
   {
    "duration": 21,
    "start_time": "2022-06-05T15:01:07.177Z"
   },
   {
    "duration": 6,
    "start_time": "2022-06-05T15:01:07.201Z"
   },
   {
    "duration": 3,
    "start_time": "2022-06-05T15:01:07.209Z"
   },
   {
    "duration": 179,
    "start_time": "2022-06-05T15:01:07.213Z"
   },
   {
    "duration": 563,
    "start_time": "2022-06-05T15:03:20.351Z"
   },
   {
    "duration": 1388,
    "start_time": "2022-06-05T15:04:16.915Z"
   },
   {
    "duration": 50,
    "start_time": "2022-06-05T15:04:18.305Z"
   },
   {
    "duration": 13,
    "start_time": "2022-06-05T15:04:18.357Z"
   },
   {
    "duration": 222,
    "start_time": "2022-06-05T15:04:18.373Z"
   },
   {
    "duration": 5,
    "start_time": "2022-06-05T15:04:18.597Z"
   },
   {
    "duration": 15,
    "start_time": "2022-06-05T15:04:18.604Z"
   },
   {
    "duration": 15,
    "start_time": "2022-06-05T15:04:18.642Z"
   },
   {
    "duration": 26,
    "start_time": "2022-06-05T15:04:18.659Z"
   },
   {
    "duration": 422,
    "start_time": "2022-06-05T15:04:18.687Z"
   },
   {
    "duration": 10,
    "start_time": "2022-06-05T15:04:19.111Z"
   },
   {
    "duration": 28,
    "start_time": "2022-06-05T15:04:19.122Z"
   },
   {
    "duration": 6,
    "start_time": "2022-06-05T15:04:19.151Z"
   },
   {
    "duration": 8,
    "start_time": "2022-06-05T15:04:19.159Z"
   },
   {
    "duration": 8,
    "start_time": "2022-06-05T15:04:19.168Z"
   },
   {
    "duration": 8,
    "start_time": "2022-06-05T15:04:19.178Z"
   },
   {
    "duration": 22,
    "start_time": "2022-06-05T15:04:19.188Z"
   },
   {
    "duration": 573,
    "start_time": "2022-06-05T15:04:19.241Z"
   },
   {
    "duration": 552,
    "start_time": "2022-06-05T15:04:19.816Z"
   },
   {
    "duration": 12,
    "start_time": "2022-06-05T15:04:20.370Z"
   },
   {
    "duration": 3,
    "start_time": "2022-06-05T15:04:20.384Z"
   },
   {
    "duration": 8,
    "start_time": "2022-06-05T15:04:20.388Z"
   },
   {
    "duration": 15,
    "start_time": "2022-06-05T15:04:20.398Z"
   },
   {
    "duration": 3,
    "start_time": "2022-06-05T15:04:20.441Z"
   },
   {
    "duration": 9,
    "start_time": "2022-06-05T15:04:20.446Z"
   },
   {
    "duration": 39,
    "start_time": "2022-06-05T15:04:20.457Z"
   },
   {
    "duration": 258,
    "start_time": "2022-06-05T15:04:20.497Z"
   },
   {
    "duration": 858,
    "start_time": "2022-06-05T15:04:20.842Z"
   },
   {
    "duration": 208,
    "start_time": "2022-06-05T15:04:21.705Z"
   },
   {
    "duration": 21327,
    "start_time": "2022-06-05T15:04:21.915Z"
   },
   {
    "duration": 5731,
    "start_time": "2022-06-05T15:04:43.244Z"
   },
   {
    "duration": 12,
    "start_time": "2022-06-05T15:04:48.977Z"
   },
   {
    "duration": 37753,
    "start_time": "2022-06-05T15:04:48.990Z"
   },
   {
    "duration": 10769,
    "start_time": "2022-06-05T15:05:26.746Z"
   },
   {
    "duration": 282,
    "start_time": "2022-06-05T15:05:37.517Z"
   },
   {
    "duration": 26,
    "start_time": "2022-06-05T15:05:37.801Z"
   },
   {
    "duration": 16822,
    "start_time": "2022-06-05T15:05:37.829Z"
   },
   {
    "duration": 3133,
    "start_time": "2022-06-05T15:05:54.742Z"
   },
   {
    "duration": 104,
    "start_time": "2022-06-05T15:05:57.877Z"
   },
   {
    "duration": 12,
    "start_time": "2022-06-05T15:05:57.983Z"
   },
   {
    "duration": 317,
    "start_time": "2022-06-05T15:05:57.997Z"
   },
   {
    "duration": 26,
    "start_time": "2022-06-05T15:05:58.316Z"
   },
   {
    "duration": 7,
    "start_time": "2022-06-05T15:05:58.344Z"
   },
   {
    "duration": 7,
    "start_time": "2022-06-05T15:05:58.353Z"
   },
   {
    "duration": 181,
    "start_time": "2022-06-05T15:05:58.362Z"
   },
   {
    "duration": 327,
    "start_time": "2022-06-05T15:24:26.146Z"
   },
   {
    "duration": 272,
    "start_time": "2022-06-05T15:26:51.060Z"
   },
   {
    "duration": 562,
    "start_time": "2022-06-05T15:27:51.937Z"
   },
   {
    "duration": 26456,
    "start_time": "2022-06-05T15:29:17.737Z"
   },
   {
    "duration": 1332,
    "start_time": "2022-06-05T15:30:31.866Z"
   },
   {
    "duration": 43,
    "start_time": "2022-06-05T15:30:33.199Z"
   },
   {
    "duration": 13,
    "start_time": "2022-06-05T15:30:33.244Z"
   },
   {
    "duration": 209,
    "start_time": "2022-06-05T15:30:33.260Z"
   },
   {
    "duration": 4,
    "start_time": "2022-06-05T15:30:33.470Z"
   },
   {
    "duration": 7,
    "start_time": "2022-06-05T15:30:33.475Z"
   },
   {
    "duration": 16,
    "start_time": "2022-06-05T15:30:33.483Z"
   },
   {
    "duration": 18,
    "start_time": "2022-06-05T15:30:33.501Z"
   },
   {
    "duration": 390,
    "start_time": "2022-06-05T15:30:33.521Z"
   },
   {
    "duration": 11,
    "start_time": "2022-06-05T15:30:33.914Z"
   },
   {
    "duration": 24,
    "start_time": "2022-06-05T15:30:33.927Z"
   },
   {
    "duration": 6,
    "start_time": "2022-06-05T15:30:33.953Z"
   },
   {
    "duration": 9,
    "start_time": "2022-06-05T15:30:33.960Z"
   },
   {
    "duration": 6,
    "start_time": "2022-06-05T15:30:33.970Z"
   },
   {
    "duration": 8,
    "start_time": "2022-06-05T15:30:33.978Z"
   },
   {
    "duration": 21,
    "start_time": "2022-06-05T15:30:33.988Z"
   },
   {
    "duration": 641,
    "start_time": "2022-06-05T15:30:34.011Z"
   },
   {
    "duration": 516,
    "start_time": "2022-06-05T15:30:34.654Z"
   },
   {
    "duration": 341,
    "start_time": "2022-06-05T15:30:35.172Z"
   },
   {
    "duration": 290,
    "start_time": "2022-06-05T15:30:35.514Z"
   },
   {
    "duration": 524,
    "start_time": "2022-06-05T15:30:35.806Z"
   },
   {
    "duration": 462,
    "start_time": "2022-06-05T15:30:36.332Z"
   },
   {
    "duration": 19,
    "start_time": "2022-06-05T15:30:36.796Z"
   },
   {
    "duration": 4,
    "start_time": "2022-06-05T15:30:36.817Z"
   },
   {
    "duration": 22,
    "start_time": "2022-06-05T15:30:36.823Z"
   },
   {
    "duration": 12,
    "start_time": "2022-06-05T15:30:36.847Z"
   },
   {
    "duration": 4,
    "start_time": "2022-06-05T15:30:36.860Z"
   },
   {
    "duration": 9,
    "start_time": "2022-06-05T15:30:36.867Z"
   },
   {
    "duration": 37,
    "start_time": "2022-06-05T15:30:36.878Z"
   },
   {
    "duration": 102,
    "start_time": "2022-06-05T15:30:36.941Z"
   },
   {
    "duration": 889,
    "start_time": "2022-06-05T15:30:37.045Z"
   },
   {
    "duration": 218,
    "start_time": "2022-06-05T15:30:37.936Z"
   },
   {
    "duration": 24787,
    "start_time": "2022-06-05T15:30:38.156Z"
   },
   {
    "duration": 5815,
    "start_time": "2022-06-05T15:31:02.945Z"
   },
   {
    "duration": 10,
    "start_time": "2022-06-05T15:31:08.761Z"
   },
   {
    "duration": 38073,
    "start_time": "2022-06-05T15:31:08.773Z"
   },
   {
    "duration": 10280,
    "start_time": "2022-06-05T15:31:46.849Z"
   },
   {
    "duration": 273,
    "start_time": "2022-06-05T15:31:57.131Z"
   },
   {
    "duration": 9,
    "start_time": "2022-06-05T15:31:57.406Z"
   },
   {
    "duration": 19225,
    "start_time": "2022-06-05T15:31:57.417Z"
   },
   {
    "duration": 3062,
    "start_time": "2022-06-05T15:32:16.644Z"
   },
   {
    "duration": 91,
    "start_time": "2022-06-05T15:32:19.707Z"
   },
   {
    "duration": 9,
    "start_time": "2022-06-05T15:32:19.800Z"
   },
   {
    "duration": 301,
    "start_time": "2022-06-05T15:32:19.811Z"
   },
   {
    "duration": 32,
    "start_time": "2022-06-05T15:32:20.113Z"
   },
   {
    "duration": 6,
    "start_time": "2022-06-05T15:32:20.147Z"
   },
   {
    "duration": 12,
    "start_time": "2022-06-05T15:32:20.154Z"
   },
   {
    "duration": 162,
    "start_time": "2022-06-05T15:32:20.168Z"
   },
   {
    "duration": 535,
    "start_time": "2022-06-05T15:32:20.344Z"
   },
   {
    "duration": 238,
    "start_time": "2022-06-05T15:35:23.194Z"
   },
   {
    "duration": 289,
    "start_time": "2022-06-05T15:35:34.054Z"
   },
   {
    "duration": 190,
    "start_time": "2022-06-05T15:35:46.582Z"
   },
   {
    "duration": 145,
    "start_time": "2022-06-05T15:36:28.140Z"
   },
   {
    "duration": 12,
    "start_time": "2022-06-05T15:38:29.511Z"
   },
   {
    "duration": 57,
    "start_time": "2022-06-05T16:11:54.953Z"
   },
   {
    "duration": 467,
    "start_time": "2022-06-05T16:18:17.458Z"
   },
   {
    "duration": 1435,
    "start_time": "2022-06-05T16:19:28.396Z"
   },
   {
    "duration": 52,
    "start_time": "2022-06-05T16:19:29.833Z"
   },
   {
    "duration": 16,
    "start_time": "2022-06-05T16:19:29.887Z"
   },
   {
    "duration": 263,
    "start_time": "2022-06-05T16:19:29.906Z"
   },
   {
    "duration": 8,
    "start_time": "2022-06-05T16:19:30.171Z"
   },
   {
    "duration": 32,
    "start_time": "2022-06-05T16:19:30.181Z"
   },
   {
    "duration": 34,
    "start_time": "2022-06-05T16:19:30.215Z"
   },
   {
    "duration": 44,
    "start_time": "2022-06-05T16:19:30.252Z"
   },
   {
    "duration": 445,
    "start_time": "2022-06-05T16:19:30.299Z"
   },
   {
    "duration": 15,
    "start_time": "2022-06-05T16:19:30.748Z"
   },
   {
    "duration": 15,
    "start_time": "2022-06-05T16:19:30.765Z"
   },
   {
    "duration": 7,
    "start_time": "2022-06-05T16:19:30.782Z"
   },
   {
    "duration": 5,
    "start_time": "2022-06-05T16:19:30.790Z"
   },
   {
    "duration": 12,
    "start_time": "2022-06-05T16:19:30.797Z"
   },
   {
    "duration": 29,
    "start_time": "2022-06-05T16:19:30.841Z"
   },
   {
    "duration": 30,
    "start_time": "2022-06-05T16:19:30.872Z"
   },
   {
    "duration": 636,
    "start_time": "2022-06-05T16:19:30.904Z"
   },
   {
    "duration": 651,
    "start_time": "2022-06-05T16:19:31.542Z"
   },
   {
    "duration": 371,
    "start_time": "2022-06-05T16:19:32.195Z"
   },
   {
    "duration": 316,
    "start_time": "2022-06-05T16:19:32.567Z"
   },
   {
    "duration": 564,
    "start_time": "2022-06-05T16:19:32.885Z"
   },
   {
    "duration": 729,
    "start_time": "2022-06-05T16:19:33.451Z"
   },
   {
    "duration": 188,
    "start_time": "2022-06-05T16:19:34.181Z"
   },
   {
    "duration": 10,
    "start_time": "2022-06-05T16:19:34.371Z"
   },
   {
    "duration": 5,
    "start_time": "2022-06-05T16:19:34.382Z"
   },
   {
    "duration": 9,
    "start_time": "2022-06-05T16:19:34.388Z"
   },
   {
    "duration": 10,
    "start_time": "2022-06-05T16:19:34.398Z"
   },
   {
    "duration": 37,
    "start_time": "2022-06-05T16:19:34.412Z"
   },
   {
    "duration": 5,
    "start_time": "2022-06-05T16:19:34.452Z"
   },
   {
    "duration": 9,
    "start_time": "2022-06-05T16:19:34.459Z"
   },
   {
    "duration": 44,
    "start_time": "2022-06-05T16:19:34.469Z"
   },
   {
    "duration": 151,
    "start_time": "2022-06-05T16:19:34.515Z"
   },
   {
    "duration": 1094,
    "start_time": "2022-06-05T16:19:34.669Z"
   },
   {
    "duration": 197,
    "start_time": "2022-06-05T16:19:35.765Z"
   },
   {
    "duration": 19579,
    "start_time": "2022-06-05T16:19:35.964Z"
   },
   {
    "duration": 7798,
    "start_time": "2022-06-05T16:19:55.552Z"
   },
   {
    "duration": 19,
    "start_time": "2022-06-05T16:20:03.352Z"
   },
   {
    "duration": 419,
    "start_time": "2022-06-05T16:20:03.373Z"
   },
   {
    "duration": 34958,
    "start_time": "2022-06-05T16:20:03.796Z"
   },
   {
    "duration": 14000,
    "start_time": "2022-06-05T16:20:38.756Z"
   },
   {
    "duration": 14,
    "start_time": "2022-06-05T16:20:52.757Z"
   },
   {
    "duration": 117,
    "start_time": "2022-06-05T16:20:52.773Z"
   },
   {
    "duration": 11855,
    "start_time": "2022-06-05T16:20:52.892Z"
   },
   {
    "duration": 3787,
    "start_time": "2022-06-05T16:21:04.751Z"
   },
   {
    "duration": 14,
    "start_time": "2022-06-05T16:21:08.541Z"
   },
   {
    "duration": 355,
    "start_time": "2022-06-05T16:21:08.563Z"
   },
   {
    "duration": 39,
    "start_time": "2022-06-05T16:21:08.921Z"
   },
   {
    "duration": 11,
    "start_time": "2022-06-05T16:21:08.962Z"
   },
   {
    "duration": 5,
    "start_time": "2022-06-05T16:21:08.975Z"
   },
   {
    "duration": 229,
    "start_time": "2022-06-05T16:21:08.982Z"
   },
   {
    "duration": 1321,
    "start_time": "2022-06-05T17:23:51.860Z"
   },
   {
    "duration": 41,
    "start_time": "2022-06-05T17:23:53.183Z"
   },
   {
    "duration": 14,
    "start_time": "2022-06-05T17:23:53.226Z"
   },
   {
    "duration": 228,
    "start_time": "2022-06-05T17:23:53.243Z"
   },
   {
    "duration": 4,
    "start_time": "2022-06-05T17:23:53.473Z"
   },
   {
    "duration": 12,
    "start_time": "2022-06-05T17:23:53.478Z"
   },
   {
    "duration": 15,
    "start_time": "2022-06-05T17:23:53.492Z"
   },
   {
    "duration": 41,
    "start_time": "2022-06-05T17:23:53.509Z"
   },
   {
    "duration": 396,
    "start_time": "2022-06-05T17:23:53.552Z"
   },
   {
    "duration": 12,
    "start_time": "2022-06-05T17:23:53.952Z"
   },
   {
    "duration": 23,
    "start_time": "2022-06-05T17:23:53.966Z"
   },
   {
    "duration": 12,
    "start_time": "2022-06-05T17:23:53.991Z"
   },
   {
    "duration": 13,
    "start_time": "2022-06-05T17:23:54.005Z"
   },
   {
    "duration": 41,
    "start_time": "2022-06-05T17:23:54.020Z"
   },
   {
    "duration": 47,
    "start_time": "2022-06-05T17:23:54.063Z"
   },
   {
    "duration": 41,
    "start_time": "2022-06-05T17:23:54.111Z"
   },
   {
    "duration": 557,
    "start_time": "2022-06-05T17:23:54.153Z"
   },
   {
    "duration": 564,
    "start_time": "2022-06-05T17:23:54.712Z"
   },
   {
    "duration": 335,
    "start_time": "2022-06-05T17:23:55.277Z"
   },
   {
    "duration": 295,
    "start_time": "2022-06-05T17:23:55.614Z"
   },
   {
    "duration": 545,
    "start_time": "2022-06-05T17:23:55.910Z"
   },
   {
    "duration": 689,
    "start_time": "2022-06-05T17:23:56.457Z"
   },
   {
    "duration": 214,
    "start_time": "2022-06-05T17:23:57.149Z"
   },
   {
    "duration": 17,
    "start_time": "2022-06-05T17:23:57.365Z"
   },
   {
    "duration": 10,
    "start_time": "2022-06-05T17:23:57.385Z"
   },
   {
    "duration": 31,
    "start_time": "2022-06-05T17:23:57.397Z"
   },
   {
    "duration": 39,
    "start_time": "2022-06-05T17:23:57.430Z"
   },
   {
    "duration": 17,
    "start_time": "2022-06-05T17:23:57.473Z"
   },
   {
    "duration": 22,
    "start_time": "2022-06-05T17:23:57.492Z"
   },
   {
    "duration": 60,
    "start_time": "2022-06-05T17:23:57.517Z"
   },
   {
    "duration": 53,
    "start_time": "2022-06-05T17:23:57.579Z"
   },
   {
    "duration": 113,
    "start_time": "2022-06-05T17:23:57.633Z"
   },
   {
    "duration": 982,
    "start_time": "2022-06-05T17:23:57.748Z"
   },
   {
    "duration": 179,
    "start_time": "2022-06-05T17:23:58.732Z"
   },
   {
    "duration": 23738,
    "start_time": "2022-06-05T17:23:58.913Z"
   },
   {
    "duration": 5849,
    "start_time": "2022-06-05T17:24:22.653Z"
   },
   {
    "duration": 10,
    "start_time": "2022-06-05T17:24:28.504Z"
   },
   {
    "duration": 293,
    "start_time": "2022-06-05T17:24:28.516Z"
   },
   {
    "duration": 39032,
    "start_time": "2022-06-05T17:24:28.811Z"
   },
   {
    "duration": 10208,
    "start_time": "2022-06-05T17:25:07.845Z"
   },
   {
    "duration": 12,
    "start_time": "2022-06-05T17:25:18.055Z"
   },
   {
    "duration": 94,
    "start_time": "2022-06-05T17:25:18.069Z"
   },
   {
    "duration": 18678,
    "start_time": "2022-06-05T17:25:18.165Z"
   },
   {
    "duration": 3375,
    "start_time": "2022-06-05T17:25:36.845Z"
   },
   {
    "duration": 8,
    "start_time": "2022-06-05T17:25:40.222Z"
   },
   {
    "duration": 294,
    "start_time": "2022-06-05T17:25:40.232Z"
   },
   {
    "duration": 26,
    "start_time": "2022-06-05T17:25:40.528Z"
   },
   {
    "duration": 7,
    "start_time": "2022-06-05T17:25:40.555Z"
   },
   {
    "duration": 4,
    "start_time": "2022-06-05T17:25:40.563Z"
   },
   {
    "duration": 181,
    "start_time": "2022-06-05T17:25:40.569Z"
   },
   {
    "duration": 1550,
    "start_time": "2022-06-06T15:42:52.043Z"
   },
   {
    "duration": 78,
    "start_time": "2022-06-06T15:42:53.595Z"
   },
   {
    "duration": 9,
    "start_time": "2022-06-06T15:42:53.675Z"
   },
   {
    "duration": 190,
    "start_time": "2022-06-06T15:42:53.686Z"
   },
   {
    "duration": 3,
    "start_time": "2022-06-06T15:42:53.878Z"
   },
   {
    "duration": 15,
    "start_time": "2022-06-06T15:42:53.883Z"
   },
   {
    "duration": 22,
    "start_time": "2022-06-06T15:42:53.899Z"
   },
   {
    "duration": 30,
    "start_time": "2022-06-06T15:42:53.923Z"
   },
   {
    "duration": 435,
    "start_time": "2022-06-06T15:42:53.955Z"
   },
   {
    "duration": 9,
    "start_time": "2022-06-06T15:42:54.392Z"
   },
   {
    "duration": 15,
    "start_time": "2022-06-06T15:42:54.403Z"
   },
   {
    "duration": 8,
    "start_time": "2022-06-06T15:42:54.420Z"
   },
   {
    "duration": 32,
    "start_time": "2022-06-06T15:42:54.429Z"
   },
   {
    "duration": 21,
    "start_time": "2022-06-06T15:42:54.463Z"
   },
   {
    "duration": 22,
    "start_time": "2022-06-06T15:42:54.486Z"
   },
   {
    "duration": 35,
    "start_time": "2022-06-06T15:42:54.510Z"
   },
   {
    "duration": 576,
    "start_time": "2022-06-06T15:42:54.547Z"
   },
   {
    "duration": 563,
    "start_time": "2022-06-06T15:42:55.125Z"
   },
   {
    "duration": 329,
    "start_time": "2022-06-06T15:42:55.689Z"
   },
   {
    "duration": 290,
    "start_time": "2022-06-06T15:42:56.020Z"
   },
   {
    "duration": 528,
    "start_time": "2022-06-06T15:42:56.312Z"
   },
   {
    "duration": 626,
    "start_time": "2022-06-06T15:42:56.841Z"
   },
   {
    "duration": 135,
    "start_time": "2022-06-06T15:42:57.469Z"
   },
   {
    "duration": 11,
    "start_time": "2022-06-06T15:42:57.605Z"
   },
   {
    "duration": 5,
    "start_time": "2022-06-06T15:42:57.618Z"
   },
   {
    "duration": 16,
    "start_time": "2022-06-06T15:42:57.625Z"
   },
   {
    "duration": 17,
    "start_time": "2022-06-06T15:42:57.642Z"
   },
   {
    "duration": 17,
    "start_time": "2022-06-06T15:42:57.662Z"
   },
   {
    "duration": 22,
    "start_time": "2022-06-06T15:42:57.681Z"
   },
   {
    "duration": 17,
    "start_time": "2022-06-06T15:42:57.704Z"
   },
   {
    "duration": 50,
    "start_time": "2022-06-06T15:42:57.723Z"
   },
   {
    "duration": 178,
    "start_time": "2022-06-06T15:42:57.775Z"
   },
   {
    "duration": 806,
    "start_time": "2022-06-06T15:42:57.955Z"
   },
   {
    "duration": 161,
    "start_time": "2022-06-06T15:42:58.763Z"
   },
   {
    "duration": 20433,
    "start_time": "2022-06-06T15:42:58.926Z"
   },
   {
    "duration": 5243,
    "start_time": "2022-06-06T15:43:19.361Z"
   },
   {
    "duration": 10,
    "start_time": "2022-06-06T15:43:24.606Z"
   },
   {
    "duration": 200,
    "start_time": "2022-06-06T15:43:24.617Z"
   },
   {
    "duration": 26444,
    "start_time": "2022-06-06T15:43:24.819Z"
   },
   {
    "duration": 6944,
    "start_time": "2022-06-06T15:43:51.352Z"
   },
   {
    "duration": 9,
    "start_time": "2022-06-06T15:43:58.297Z"
   },
   {
    "duration": 70,
    "start_time": "2022-06-06T15:43:58.308Z"
   },
   {
    "duration": 13683,
    "start_time": "2022-06-06T15:43:58.379Z"
   },
   {
    "duration": 2092,
    "start_time": "2022-06-06T15:44:12.153Z"
   },
   {
    "duration": 10,
    "start_time": "2022-06-06T15:44:14.247Z"
   },
   {
    "duration": 271,
    "start_time": "2022-06-06T15:44:14.258Z"
   },
   {
    "duration": 25,
    "start_time": "2022-06-06T15:44:14.531Z"
   },
   {
    "duration": 6,
    "start_time": "2022-06-06T15:44:14.557Z"
   },
   {
    "duration": 9,
    "start_time": "2022-06-06T15:44:14.565Z"
   },
   {
    "duration": 169,
    "start_time": "2022-06-06T15:44:14.576Z"
   },
   {
    "duration": 1503,
    "start_time": "2022-06-06T18:24:15.473Z"
   },
   {
    "duration": 68,
    "start_time": "2022-06-06T18:24:16.978Z"
   },
   {
    "duration": 12,
    "start_time": "2022-06-06T18:24:17.048Z"
   },
   {
    "duration": 215,
    "start_time": "2022-06-06T18:24:17.063Z"
   },
   {
    "duration": 4,
    "start_time": "2022-06-06T18:24:17.280Z"
   },
   {
    "duration": 7,
    "start_time": "2022-06-06T18:24:17.285Z"
   },
   {
    "duration": 16,
    "start_time": "2022-06-06T18:24:17.293Z"
   },
   {
    "duration": 53,
    "start_time": "2022-06-06T18:24:17.312Z"
   },
   {
    "duration": 367,
    "start_time": "2022-06-06T18:24:17.371Z"
   },
   {
    "duration": 20,
    "start_time": "2022-06-06T18:24:17.741Z"
   },
   {
    "duration": 40,
    "start_time": "2022-06-06T18:24:17.763Z"
   },
   {
    "duration": 7,
    "start_time": "2022-06-06T18:24:17.804Z"
   },
   {
    "duration": 10,
    "start_time": "2022-06-06T18:24:17.813Z"
   },
   {
    "duration": 14,
    "start_time": "2022-06-06T18:24:17.825Z"
   },
   {
    "duration": 18,
    "start_time": "2022-06-06T18:24:17.841Z"
   },
   {
    "duration": 43,
    "start_time": "2022-06-06T18:24:17.860Z"
   },
   {
    "duration": 615,
    "start_time": "2022-06-06T18:24:17.905Z"
   },
   {
    "duration": 559,
    "start_time": "2022-06-06T18:24:18.522Z"
   },
   {
    "duration": 336,
    "start_time": "2022-06-06T18:24:19.083Z"
   },
   {
    "duration": 297,
    "start_time": "2022-06-06T18:24:19.420Z"
   },
   {
    "duration": 514,
    "start_time": "2022-06-06T18:24:19.718Z"
   },
   {
    "duration": 653,
    "start_time": "2022-06-06T18:24:20.233Z"
   },
   {
    "duration": 156,
    "start_time": "2022-06-06T18:24:20.888Z"
   },
   {
    "duration": 12,
    "start_time": "2022-06-06T18:24:21.051Z"
   },
   {
    "duration": 19,
    "start_time": "2022-06-06T18:24:21.067Z"
   },
   {
    "duration": 4,
    "start_time": "2022-06-06T18:24:21.088Z"
   },
   {
    "duration": 8,
    "start_time": "2022-06-06T18:24:21.094Z"
   },
   {
    "duration": 18,
    "start_time": "2022-06-06T18:24:21.107Z"
   },
   {
    "duration": 5,
    "start_time": "2022-06-06T18:24:21.127Z"
   },
   {
    "duration": 26,
    "start_time": "2022-06-06T18:24:21.134Z"
   },
   {
    "duration": 49,
    "start_time": "2022-06-06T18:24:21.164Z"
   },
   {
    "duration": 141,
    "start_time": "2022-06-06T18:24:21.215Z"
   },
   {
    "duration": 919,
    "start_time": "2022-06-06T18:24:21.358Z"
   },
   {
    "duration": 223,
    "start_time": "2022-06-06T18:24:22.279Z"
   },
   {
    "duration": 1452,
    "start_time": "2022-06-06T18:24:26.015Z"
   },
   {
    "duration": 44,
    "start_time": "2022-06-06T18:24:27.470Z"
   },
   {
    "duration": 10,
    "start_time": "2022-06-06T18:24:27.516Z"
   },
   {
    "duration": 247,
    "start_time": "2022-06-06T18:24:27.529Z"
   },
   {
    "duration": 4,
    "start_time": "2022-06-06T18:24:27.777Z"
   },
   {
    "duration": 7,
    "start_time": "2022-06-06T18:24:27.782Z"
   },
   {
    "duration": 17,
    "start_time": "2022-06-06T18:24:27.791Z"
   },
   {
    "duration": 51,
    "start_time": "2022-06-06T18:24:27.810Z"
   },
   {
    "duration": 409,
    "start_time": "2022-06-06T18:24:27.864Z"
   },
   {
    "duration": 11,
    "start_time": "2022-06-06T18:24:28.277Z"
   },
   {
    "duration": 15,
    "start_time": "2022-06-06T18:24:28.290Z"
   },
   {
    "duration": 11,
    "start_time": "2022-06-06T18:24:28.307Z"
   },
   {
    "duration": 8,
    "start_time": "2022-06-06T18:24:28.320Z"
   },
   {
    "duration": 34,
    "start_time": "2022-06-06T18:24:28.330Z"
   },
   {
    "duration": 22,
    "start_time": "2022-06-06T18:24:28.366Z"
   },
   {
    "duration": 26,
    "start_time": "2022-06-06T18:24:28.390Z"
   },
   {
    "duration": 856,
    "start_time": "2022-06-06T18:24:28.418Z"
   },
   {
    "duration": 919,
    "start_time": "2022-06-06T18:24:29.280Z"
   },
   {
    "duration": 439,
    "start_time": "2022-06-06T18:24:30.201Z"
   },
   {
    "duration": 327,
    "start_time": "2022-06-06T18:24:30.642Z"
   },
   {
    "duration": 599,
    "start_time": "2022-06-06T18:24:30.972Z"
   },
   {
    "duration": 764,
    "start_time": "2022-06-06T18:24:31.573Z"
   },
   {
    "duration": 169,
    "start_time": "2022-06-06T18:24:32.339Z"
   },
   {
    "duration": 12,
    "start_time": "2022-06-06T18:24:32.510Z"
   },
   {
    "duration": 8,
    "start_time": "2022-06-06T18:24:32.524Z"
   },
   {
    "duration": 23,
    "start_time": "2022-06-06T18:24:32.534Z"
   },
   {
    "duration": 28,
    "start_time": "2022-06-06T18:24:32.560Z"
   },
   {
    "duration": 35,
    "start_time": "2022-06-06T18:24:32.594Z"
   },
   {
    "duration": 5,
    "start_time": "2022-06-06T18:24:32.631Z"
   },
   {
    "duration": 9,
    "start_time": "2022-06-06T18:24:32.638Z"
   },
   {
    "duration": 48,
    "start_time": "2022-06-06T18:24:32.648Z"
   },
   {
    "duration": 68,
    "start_time": "2022-06-06T18:24:32.698Z"
   },
   {
    "duration": 1030,
    "start_time": "2022-06-06T18:24:32.768Z"
   },
   {
    "duration": 178,
    "start_time": "2022-06-06T18:24:33.800Z"
   },
   {
    "duration": 20082,
    "start_time": "2022-06-06T18:24:33.980Z"
   },
   {
    "duration": 5974,
    "start_time": "2022-06-06T18:24:54.064Z"
   },
   {
    "duration": 20,
    "start_time": "2022-06-06T18:25:00.039Z"
   },
   {
    "duration": 221,
    "start_time": "2022-06-06T18:25:00.063Z"
   },
   {
    "duration": 23383,
    "start_time": "2022-06-06T18:25:00.286Z"
   },
   {
    "duration": 7520,
    "start_time": "2022-06-06T18:25:23.674Z"
   },
   {
    "duration": 11,
    "start_time": "2022-06-06T18:25:31.195Z"
   },
   {
    "duration": 94,
    "start_time": "2022-06-06T18:25:31.208Z"
   },
   {
    "duration": 12777,
    "start_time": "2022-06-06T18:25:31.304Z"
   },
   {
    "duration": 3195,
    "start_time": "2022-06-06T18:25:44.152Z"
   },
   {
    "duration": 10,
    "start_time": "2022-06-06T18:25:47.351Z"
   },
   {
    "duration": 145,
    "start_time": "2022-06-06T18:25:47.363Z"
   },
   {
    "duration": 0,
    "start_time": "2022-06-06T18:25:47.510Z"
   },
   {
    "duration": 0,
    "start_time": "2022-06-06T18:25:47.511Z"
   },
   {
    "duration": 1,
    "start_time": "2022-06-06T18:25:47.512Z"
   },
   {
    "duration": 0,
    "start_time": "2022-06-06T18:25:47.514Z"
   },
   {
    "duration": 1308,
    "start_time": "2022-06-06T18:52:56.091Z"
   },
   {
    "duration": 77,
    "start_time": "2022-06-06T18:52:57.401Z"
   },
   {
    "duration": 9,
    "start_time": "2022-06-06T18:52:57.479Z"
   },
   {
    "duration": 193,
    "start_time": "2022-06-06T18:52:57.489Z"
   },
   {
    "duration": 3,
    "start_time": "2022-06-06T18:52:57.683Z"
   },
   {
    "duration": 6,
    "start_time": "2022-06-06T18:52:57.688Z"
   },
   {
    "duration": 14,
    "start_time": "2022-06-06T18:52:57.695Z"
   },
   {
    "duration": 17,
    "start_time": "2022-06-06T18:52:57.711Z"
   },
   {
    "duration": 386,
    "start_time": "2022-06-06T18:52:57.729Z"
   },
   {
    "duration": 10,
    "start_time": "2022-06-06T18:52:58.119Z"
   },
   {
    "duration": 24,
    "start_time": "2022-06-06T18:52:58.131Z"
   },
   {
    "duration": 35,
    "start_time": "2022-06-06T18:52:58.157Z"
   },
   {
    "duration": 8,
    "start_time": "2022-06-06T18:52:58.193Z"
   },
   {
    "duration": 12,
    "start_time": "2022-06-06T18:52:58.202Z"
   },
   {
    "duration": 13,
    "start_time": "2022-06-06T18:52:58.216Z"
   },
   {
    "duration": 20,
    "start_time": "2022-06-06T18:52:58.230Z"
   },
   {
    "duration": 557,
    "start_time": "2022-06-06T18:52:58.254Z"
   },
   {
    "duration": 571,
    "start_time": "2022-06-06T18:52:58.813Z"
   },
   {
    "duration": 326,
    "start_time": "2022-06-06T18:52:59.386Z"
   },
   {
    "duration": 296,
    "start_time": "2022-06-06T18:52:59.714Z"
   },
   {
    "duration": 523,
    "start_time": "2022-06-06T18:53:00.011Z"
   },
   {
    "duration": 683,
    "start_time": "2022-06-06T18:53:00.535Z"
   },
   {
    "duration": 162,
    "start_time": "2022-06-06T18:53:01.219Z"
   },
   {
    "duration": 10,
    "start_time": "2022-06-06T18:53:01.383Z"
   },
   {
    "duration": 25,
    "start_time": "2022-06-06T18:53:01.394Z"
   },
   {
    "duration": 21,
    "start_time": "2022-06-06T18:53:01.420Z"
   },
   {
    "duration": 17,
    "start_time": "2022-06-06T18:53:01.442Z"
   },
   {
    "duration": 26,
    "start_time": "2022-06-06T18:53:01.473Z"
   },
   {
    "duration": 7,
    "start_time": "2022-06-06T18:53:01.501Z"
   },
   {
    "duration": 16,
    "start_time": "2022-06-06T18:53:01.509Z"
   },
   {
    "duration": 55,
    "start_time": "2022-06-06T18:53:01.526Z"
   },
   {
    "duration": 96,
    "start_time": "2022-06-06T18:53:01.583Z"
   },
   {
    "duration": 830,
    "start_time": "2022-06-06T18:53:01.762Z"
   },
   {
    "duration": 179,
    "start_time": "2022-06-06T18:53:02.593Z"
   },
   {
    "duration": 18004,
    "start_time": "2022-06-06T18:53:02.774Z"
   },
   {
    "duration": 5526,
    "start_time": "2022-06-06T18:53:20.786Z"
   },
   {
    "duration": 8,
    "start_time": "2022-06-06T18:53:26.314Z"
   },
   {
    "duration": 188,
    "start_time": "2022-06-06T18:53:26.324Z"
   },
   {
    "duration": 21843,
    "start_time": "2022-06-06T18:53:26.514Z"
   },
   {
    "duration": 7565,
    "start_time": "2022-06-06T18:53:48.361Z"
   },
   {
    "duration": 10,
    "start_time": "2022-06-06T18:53:55.929Z"
   },
   {
    "duration": 96,
    "start_time": "2022-06-06T18:53:55.941Z"
   },
   {
    "duration": 12122,
    "start_time": "2022-06-06T18:53:56.039Z"
   },
   {
    "duration": 3246,
    "start_time": "2022-06-06T18:54:08.165Z"
   },
   {
    "duration": 8,
    "start_time": "2022-06-06T18:54:11.413Z"
   },
   {
    "duration": 280,
    "start_time": "2022-06-06T18:54:11.423Z"
   },
   {
    "duration": 19,
    "start_time": "2022-06-06T18:54:11.705Z"
   },
   {
    "duration": 6,
    "start_time": "2022-06-06T18:54:11.726Z"
   },
   {
    "duration": 25,
    "start_time": "2022-06-06T18:54:11.733Z"
   },
   {
    "duration": 152,
    "start_time": "2022-06-06T18:54:11.759Z"
   },
   {
    "duration": 1406,
    "start_time": "2022-06-15T05:26:58.747Z"
   },
   {
    "duration": 761,
    "start_time": "2022-06-15T05:27:00.155Z"
   },
   {
    "duration": 7,
    "start_time": "2022-06-15T05:27:00.918Z"
   },
   {
    "duration": 175,
    "start_time": "2022-06-15T05:27:00.927Z"
   },
   {
    "duration": 27,
    "start_time": "2022-06-15T05:27:01.103Z"
   },
   {
    "duration": 156,
    "start_time": "2022-06-15T05:27:01.131Z"
   },
   {
    "duration": 16,
    "start_time": "2022-06-15T05:27:01.289Z"
   },
   {
    "duration": 57,
    "start_time": "2022-06-15T05:27:01.307Z"
   },
   {
    "duration": 170,
    "start_time": "2022-06-15T05:27:01.598Z"
   },
   {
    "duration": 202,
    "start_time": "2022-06-15T05:27:02.407Z"
   },
   {
    "duration": 185,
    "start_time": "2022-06-15T05:27:03.328Z"
   },
   {
    "duration": 18,
    "start_time": "2022-06-15T05:27:03.600Z"
   },
   {
    "duration": 173,
    "start_time": "2022-06-15T05:27:04.085Z"
   },
   {
    "duration": 2,
    "start_time": "2022-06-15T05:27:05.022Z"
   },
   {
    "duration": 405,
    "start_time": "2022-06-15T05:27:05.231Z"
   },
   {
    "duration": 408,
    "start_time": "2022-06-15T05:27:06.842Z"
   },
   {
    "duration": 6,
    "start_time": "2022-06-15T05:27:08.406Z"
   },
   {
    "duration": 8,
    "start_time": "2022-06-15T05:27:09.085Z"
   },
   {
    "duration": 5,
    "start_time": "2022-06-15T05:27:10.488Z"
   },
   {
    "duration": 312,
    "start_time": "2022-06-15T05:27:10.830Z"
   },
   {
    "duration": 19240,
    "start_time": "2022-06-15T05:27:29.357Z"
   },
   {
    "duration": 14430,
    "start_time": "2022-06-15T05:27:55.166Z"
   },
   {
    "duration": 14180,
    "start_time": "2022-06-15T05:30:07.871Z"
   },
   {
    "duration": 14028,
    "start_time": "2022-06-15T05:31:41.460Z"
   },
   {
    "duration": 10369,
    "start_time": "2022-06-15T05:33:41.665Z"
   },
   {
    "duration": 10652,
    "start_time": "2022-06-15T05:34:45.553Z"
   }
  ],
  "colab": {
   "collapsed_sections": [
    "5ad66124",
    "7da2d805",
    "c7d73299",
    "3ee5de6a"
   ],
   "name": "Project DS Bussiness (1).ipynb",
   "provenance": []
  },
  "hide_input": false,
  "kernelspec": {
   "display_name": "Python 3 (ipykernel)",
   "language": "python",
   "name": "python3"
  },
  "language_info": {
   "codemirror_mode": {
    "name": "ipython",
    "version": 3
   },
   "file_extension": ".py",
   "mimetype": "text/x-python",
   "name": "python",
   "nbconvert_exporter": "python",
   "pygments_lexer": "ipython3",
   "version": "3.9.5"
  },
  "toc": {
   "base_numbering": 1,
   "nav_menu": {},
   "number_sections": false,
   "sideBar": true,
   "skip_h1_title": true,
   "title_cell": "Table of Contents",
   "title_sidebar": "Contents",
   "toc_cell": false,
   "toc_position": {
    "height": "calc(100% - 180px)",
    "left": "10px",
    "top": "150px",
    "width": "366.391px"
   },
   "toc_section_display": true,
   "toc_window_display": false
  },
  "varInspector": {
   "cols": {
    "lenName": 16,
    "lenType": 16,
    "lenVar": 40
   },
   "kernels_config": {
    "python": {
     "delete_cmd_postfix": "",
     "delete_cmd_prefix": "del ",
     "library": "var_list.py",
     "varRefreshCmd": "print(var_dic_list())"
    },
    "r": {
     "delete_cmd_postfix": ") ",
     "delete_cmd_prefix": "rm(",
     "library": "var_list.r",
     "varRefreshCmd": "cat(var_dic_list()) "
    }
   },
   "types_to_exclude": [
    "module",
    "function",
    "builtin_function_or_method",
    "instance",
    "_Feature"
   ],
   "window_display": false
  }
 },
 "nbformat": 4,
 "nbformat_minor": 5
}
